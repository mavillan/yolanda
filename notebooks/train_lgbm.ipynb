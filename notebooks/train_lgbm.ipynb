{
  "nbformat": 4,
  "nbformat_minor": 5,
  "metadata": {
    "kernelspec": {
      "display_name": "Python 3",
      "language": "python",
      "name": "python3"
    },
    "language_info": {
      "codemirror_mode": {
        "name": "ipython",
        "version": 3
      },
      "file_extension": ".py",
      "mimetype": "text/x-python",
      "name": "python",
      "nbconvert_exporter": "python",
      "pygments_lexer": "ipython3",
      "version": "3.7.9"
    },
    "colab": {
      "name": "train_lgbm.ipynb",
      "provenance": [],
      "collapsed_sections": [],
      "machine_shape": "hm"
    },
    "accelerator": "TPU"
  },
  "cells": [
    {
      "cell_type": "markdown",
      "metadata": {
        "id": "SzuthcIATQF8"
      },
      "source": [
        "***\n",
        "## notebook config"
      ],
      "id": "SzuthcIATQF8"
    },
    {
      "cell_type": "code",
      "metadata": {
        "colab": {
          "base_uri": "https://localhost:8080/"
        },
        "id": "XSoYQFk7Sh74",
        "outputId": "d6648b46-7f0d-4a91-c923-e50aee5258b5"
      },
      "source": [
        "from google.colab import drive\n",
        "from google.colab import files\n",
        "drive.mount('/content/drive', force_remount=True)"
      ],
      "id": "XSoYQFk7Sh74",
      "execution_count": 1,
      "outputs": [
        {
          "output_type": "stream",
          "text": [
            "Mounted at /content/drive\n"
          ],
          "name": "stdout"
        }
      ]
    },
    {
      "cell_type": "code",
      "metadata": {
        "id": "lzGBguaPSh5E"
      },
      "source": [
        "!pip install --upgrade kaggle > /dev/null 2>&1\n",
        "!mkdir -p ~/.kaggle/ && cp /content/drive/MyDrive/kaggle/kaggle.json ~/.kaggle/ && chmod 600 ~/.kaggle/kaggle.json"
      ],
      "id": "lzGBguaPSh5E",
      "execution_count": 2,
      "outputs": []
    },
    {
      "cell_type": "code",
      "metadata": {
        "colab": {
          "base_uri": "https://localhost:8080/"
        },
        "id": "LK28lKy-Sh2a",
        "outputId": "0572ebb6-a9e0-483b-db5e-1edcc4d7f51a"
      },
      "source": [
        "!nvidia-smi"
      ],
      "id": "LK28lKy-Sh2a",
      "execution_count": 3,
      "outputs": [
        {
          "output_type": "stream",
          "text": [
            "NVIDIA-SMI has failed because it couldn't communicate with the NVIDIA driver. Make sure that the latest NVIDIA driver is installed and running.\n",
            "\n"
          ],
          "name": "stdout"
        }
      ]
    },
    {
      "cell_type": "code",
      "metadata": {
        "colab": {
          "base_uri": "https://localhost:8080/"
        },
        "id": "YTW7CBSAShzf",
        "outputId": "24bb8fb3-f84c-438e-a5e0-1dc42e93ba2a"
      },
      "source": [
        "!free -h"
      ],
      "id": "YTW7CBSAShzf",
      "execution_count": 4,
      "outputs": [
        {
          "output_type": "stream",
          "text": [
            "              total        used        free      shared  buff/cache   available\n",
            "Mem:            35G        1.0G         33G        1.1M        652M         33G\n",
            "Swap:            0B          0B          0B\n"
          ],
          "name": "stdout"
        }
      ]
    },
    {
      "cell_type": "code",
      "metadata": {
        "id": "ZOC8lFKrShwu"
      },
      "source": [
        "!pip install --upgrade category_encoders > /dev/null 2>&1\n",
        "!pip install --upgrade tsforest > /dev/null 2>&1\n",
        "!pip install --upgrade lightgbm > /dev/null 2>&1\n",
        "!pip install --upgrade optuna > /dev/null 2>&1"
      ],
      "id": "ZOC8lFKrShwu",
      "execution_count": 5,
      "outputs": []
    },
    {
      "cell_type": "code",
      "metadata": {
        "id": "4G9FLyWat57M"
      },
      "source": [
        "%%bash\n",
        "git clone --recursive https://github.com/microsoft/LightGBM ; cd LightGBM\n",
        "mkdir build\n",
        "#export CMAKE_CXX_FLAGS='-O3 -mtune=native'\n",
        "cmake -DUSE_GPU=1\n",
        "make -j$(nproc)\n",
        "cd ./python-package/\n",
        "python setup.py install --precompile\n",
        "\n",
        "# THIS IS FOR GPU INSTALLATION"
      ],
      "id": "4G9FLyWat57M",
      "execution_count": null,
      "outputs": []
    },
    {
      "cell_type": "code",
      "metadata": {
        "id": "iz_w62bgeU2j"
      },
      "source": [
        "%%bash\n",
        "git clone --recursive https://github.com/microsoft/LightGBM ; cd LightGBM\n",
        "mkdir build ; cd build\n",
        "export CMAKE_CXX_FLAGS='-O3 -mtune=native'\n",
        "cmake ..\n",
        "make -j$(nproc)\n",
        "cd ../python-package/\n",
        "python setup.py install --precompile\n",
        "\n",
        "# THIS IS FOR CPU (OPTIMIZED) INSTALLATION"
      ],
      "id": "iz_w62bgeU2j",
      "execution_count": null,
      "outputs": []
    },
    {
      "cell_type": "markdown",
      "metadata": {
        "id": "1X4BK9ldSu-h"
      },
      "source": [
        "***"
      ],
      "id": "1X4BK9ldSu-h"
    },
    {
      "cell_type": "code",
      "metadata": {
        "id": "n5fzE-C3RsCU",
        "colab": {
          "base_uri": "https://localhost:8080/"
        },
        "outputId": "9e455117-2617-4547-c9ce-103673134d1b"
      },
      "source": [
        "from copy import deepcopy\n",
        "import gc\n",
        "from glob import glob\n",
        "import numpy as np\n",
        "import pandas as pd\n",
        "import matplotlib.pyplot as plt\n",
        "import seaborn as sns\n",
        "from scipy import interpolate\n",
        "from scipy import stats\n",
        "import time\n",
        "\n",
        "import category_encoders as ce\n",
        "import lightgbm as lgb\n",
        "from tqdm import tqdm\n",
        "from tsforest.forecast import LightGBMForecaster\n",
        "import optuna\n",
        "\n",
        "pd.set_option('display.max_columns', None)"
      ],
      "id": "n5fzE-C3RsCU",
      "execution_count": 6,
      "outputs": [
        {
          "output_type": "stream",
          "text": [
            "/usr/local/lib/python3.7/dist-packages/statsmodels/tools/_testing.py:19: FutureWarning: pandas.util.testing is deprecated. Use the functions in the public API at pandas.testing instead.\n",
            "  import pandas.util.testing as tm\n"
          ],
          "name": "stderr"
        }
      ]
    },
    {
      "cell_type": "code",
      "metadata": {
        "id": "rAUlblJETNmK"
      },
      "source": [
        "def reduce_mem_usage(df, verbose=False):\n",
        "    \"\"\"\n",
        "    Utility function to reduce the memory usage of pandas dataframes\n",
        "    \n",
        "    Parameters\n",
        "    ----------\n",
        "    df: pandas.Dataframe\n",
        "    verbose: Boolean\n",
        "    \"\"\"\n",
        "    numerics = ['int16', 'int32', 'int64', 'float16', 'float32', 'float64']\n",
        "    start_mem = df.memory_usage().sum() / 1024**2    \n",
        "    for col in df.columns:\n",
        "        col_type = df[col].dtypes\n",
        "        if col_type in numerics:\n",
        "            c_min = df[col].min()\n",
        "            c_max = df[col].max()\n",
        "            if str(col_type)[:3] == 'int':\n",
        "                if c_min > np.iinfo(np.int8).min and c_max < np.iinfo(np.int8).max:\n",
        "                    df[col] = df[col].astype(np.int8)\n",
        "                elif c_min > np.iinfo(np.int16).min and c_max < np.iinfo(np.int16).max:\n",
        "                    df[col] = df[col].astype(np.int16)\n",
        "                elif c_min > np.iinfo(np.int32).min and c_max < np.iinfo(np.int32).max:\n",
        "                    df[col] = df[col].astype(np.int32)\n",
        "                elif c_min > np.iinfo(np.int64).min and c_max < np.iinfo(np.int64).max:\n",
        "                    df[col] = df[col].astype(np.int64)  \n",
        "            else:\n",
        "                if c_min > np.finfo(np.float32).min and c_max < np.finfo(np.float32).max:\n",
        "                    df[col] = df[col].astype(np.float32)\n",
        "                else:\n",
        "                    df[col] = df[col].astype(np.float64)    \n",
        "    end_mem = df.memory_usage().sum() / 1024**2\n",
        "    if verbose: \n",
        "        print('Mem. usage decreased to {:5.2f} Mb ({:.1f}% reduction)'.format(end_mem, 100 * (start_mem - end_mem) / start_mem))\n",
        "    return df"
      ],
      "id": "rAUlblJETNmK",
      "execution_count": 7,
      "outputs": []
    },
    {
      "cell_type": "code",
      "metadata": {
        "id": "urUkoOWmIBR8"
      },
      "source": [
        "class RMSSE():\n",
        "    def __init__(self, valid_dataframe, scales_dataframe):\n",
        "        self.valid_dataframe = valid_dataframe\n",
        "        self.scales_dataframe = scales_dataframe\n",
        "        self.apply_inverse = False\n",
        "        if set([\"y_mean\",\"y_std\"]) <= set(valid_dataframe.columns):\n",
        "            self.apply_inverse = True\n",
        "\n",
        "    def _evaluate(self, predictions):\n",
        "        valid_dataframe = self.valid_dataframe.copy()\n",
        "        if not self.apply_inverse:  \n",
        "            valid_dataframe[\"ypred\"] = predictions\n",
        "            valid_dataframe[\"sq_error\"] = valid_dataframe.eval(\"(y-ypred)**2\")\n",
        "        else:\n",
        "            valid_dataframe[\"ypred\"] = valid_dataframe[\"y_std\"]*predictions + valid_dataframe[\"y_mean\"]\n",
        "            valid_dataframe[\"sq_error\"] = valid_dataframe.eval(\"(y_raw-ypred)**2\")\n",
        "        mse = valid_dataframe.groupby(\"sku\")[\"sq_error\"].mean().reset_index(name=\"mse\")\n",
        "        mrg = pd.merge(mse, self.scales_dataframe, how=\"inner\", on=\"sku\")\n",
        "        return mrg.eval(\"sqrt(mse)/scale\").mean()\n",
        "\n",
        "    def evaluate(self, ypred, dtrain):\n",
        "        metric = self._evaluate(ypred)\n",
        "        return \"rmsse\", metric, False"
      ],
      "id": "urUkoOWmIBR8",
      "execution_count": 8,
      "outputs": []
    },
    {
      "cell_type": "code",
      "metadata": {
        "id": "fiOInlHURVeX"
      },
      "source": [
        "def ranked_probability_score(y_true, y_pred):\n",
        "    \"\"\"\n",
        "    Input\n",
        "        y_true: np.array of shape 30. \n",
        "        y_pred: np.array of shape 30. \n",
        "    \"\"\"\n",
        "    return ((y_true.cumsum(axis=1) - y_pred.cumsum(axis=1))**2).sum(axis=1).mean()\n",
        "\n",
        "def scoring_function(y_true, y_pred):\n",
        "    \"\"\"\n",
        "    Input\n",
        "        y_true: List of Ints of shape Nx1. Contain the target_stock\n",
        "        y_pred: List of float of shape Nx30. Contain the prob for each day\n",
        "    \"\"\"\n",
        "    y_true_one_hot = np.zeros_like(y_pred, dtype=np.float64)\n",
        "    y_true_one_hot[range(len(y_true)), y_true-1] = 1\n",
        "    return ranked_probability_score(y_true_one_hot, y_pred)"
      ],
      "id": "fiOInlHURVeX",
      "execution_count": 9,
      "outputs": []
    },
    {
      "cell_type": "markdown",
      "metadata": {
        "id": "04kuQeEPsdJI"
      },
      "source": [
        "***\n",
        "## loading data for assessment"
      ],
      "id": "04kuQeEPsdJI"
    },
    {
      "cell_type": "code",
      "metadata": {
        "colab": {
          "base_uri": "https://localhost:8080/"
        },
        "id": "WAabJ7WvTeWL",
        "outputId": "771e98c6-d631-4860-8646-8229101ada35"
      },
      "source": [
        "!kaggle datasets download -d mavillan/meli-2021 --force --unzip\n",
        "!ls -halt "
      ],
      "id": "WAabJ7WvTeWL",
      "execution_count": 10,
      "outputs": [
        {
          "output_type": "stream",
          "text": [
            "Downloading meli-2021.zip to /content\n",
            " 95% 234M/246M [00:02<00:00, 93.3MB/s]\n",
            "100% 246M/246M [00:02<00:00, 109MB/s] \n",
            "total 370M\n",
            "drwxr-xr-x 1 root root 4.0K Aug 17 04:13 .\n",
            "-rw-r--r-- 1 root root 5.7M Aug 17 04:13 validation_seed7.csv\n",
            "-rw-r--r-- 1 root root 5.7M Aug 17 04:13 validation_seed5.csv\n",
            "-rw-r--r-- 1 root root 5.7M Aug 17 04:13 validation_seed3.csv\n",
            "-rw-r--r-- 1 root root 5.7M Aug 17 04:13 validation_seed23.csv\n",
            "-rw-r--r-- 1 root root 5.7M Aug 17 04:13 validation_seed2.csv\n",
            "-rw-r--r-- 1 root root 5.7M Aug 17 04:13 validation_seed19.csv\n",
            "-rw-r--r-- 1 root root 5.7M Aug 17 04:13 validation_seed17.csv\n",
            "-rw-r--r-- 1 root root 5.7M Aug 17 04:13 validation_seed13.csv\n",
            "-rw-r--r-- 1 root root 5.7M Aug 17 04:13 validation_seed11.csv\n",
            "-rw-r--r-- 1 root root 169K Aug 17 04:13 unpredictable.csv\n",
            "-rw-r--r-- 1 root root  78M Aug 17 04:13 train.parquet\n",
            "-rw-r--r-- 1 root root 223M Aug 17 04:13 test.parquet\n",
            "-rw-r--r-- 1 root root 3.3M Aug 17 04:13 skus_for_assess.csv\n",
            "-rw-r--r-- 1 root root  16M Aug 17 04:13 scales.csv\n",
            "drwx------ 5 root root 4.0K Aug 17 04:13 drive\n",
            "drwxr-xr-x 1 root root 4.0K Aug 17 02:57 ..\n",
            "drwxr-xr-x 1 root root 4.0K Aug 13 13:35 sample_data\n",
            "drwxr-xr-x 4 root root 4.0K Aug 13 13:34 .config\n"
          ],
          "name": "stdout"
        }
      ]
    },
    {
      "cell_type": "code",
      "metadata": {
        "id": "T3mjFMGwRsCX",
        "colab": {
          "base_uri": "https://localhost:8080/",
          "height": 615
        },
        "outputId": "529c3625-f003-4216-f81d-9151496bdd94"
      },
      "source": [
        "scales = pd.read_csv(\"scales.csv\")\n",
        "skus_for_assess = pd.read_csv(\"skus_for_assess.csv\")\n",
        "\n",
        "dataset = (\n",
        "    pd.read_parquet(\"./train.parquet\")\n",
        "    .query(\"sku in @skus_for_assess.sku\")\n",
        "    .rename({\"date\":\"ds\", \"sold_quantity\":\"y\"}, axis=1,)\n",
        "    .reset_index(drop=True)\n",
        ")\n",
        "dataset"
      ],
      "id": "T3mjFMGwRsCX",
      "execution_count": 11,
      "outputs": [
        {
          "output_type": "execute_result",
          "data": {
            "text/html": [
              "<div>\n",
              "<style scoped>\n",
              "    .dataframe tbody tr th:only-of-type {\n",
              "        vertical-align: middle;\n",
              "    }\n",
              "\n",
              "    .dataframe tbody tr th {\n",
              "        vertical-align: top;\n",
              "    }\n",
              "\n",
              "    .dataframe thead th {\n",
              "        text-align: right;\n",
              "    }\n",
              "</style>\n",
              "<table border=\"1\" class=\"dataframe\">\n",
              "  <thead>\n",
              "    <tr style=\"text-align: right;\">\n",
              "      <th></th>\n",
              "      <th>ds</th>\n",
              "      <th>sku</th>\n",
              "      <th>y</th>\n",
              "      <th>current_price</th>\n",
              "      <th>currency</th>\n",
              "      <th>listing_type</th>\n",
              "      <th>shipping_logistic_type</th>\n",
              "      <th>shipping_payment</th>\n",
              "      <th>minutes_active</th>\n",
              "      <th>available</th>\n",
              "      <th>item_domain_id</th>\n",
              "      <th>item_id</th>\n",
              "      <th>site_id</th>\n",
              "      <th>product_id</th>\n",
              "      <th>product_family_id</th>\n",
              "    </tr>\n",
              "  </thead>\n",
              "  <tbody>\n",
              "    <tr>\n",
              "      <th>0</th>\n",
              "      <td>2021-02-01</td>\n",
              "      <td>1</td>\n",
              "      <td>0</td>\n",
              "      <td>135.899994</td>\n",
              "      <td>REA</td>\n",
              "      <td>premium</td>\n",
              "      <td>fulfillment</td>\n",
              "      <td>free_shipping</td>\n",
              "      <td>0.0</td>\n",
              "      <td>1</td>\n",
              "      <td>MLB-SURFBOARD_RACKS</td>\n",
              "      <td>300279</td>\n",
              "      <td>MLB</td>\n",
              "      <td>None</td>\n",
              "      <td>None</td>\n",
              "    </tr>\n",
              "    <tr>\n",
              "      <th>1</th>\n",
              "      <td>2021-02-02</td>\n",
              "      <td>1</td>\n",
              "      <td>0</td>\n",
              "      <td>135.899994</td>\n",
              "      <td>REA</td>\n",
              "      <td>premium</td>\n",
              "      <td>fulfillment</td>\n",
              "      <td>free_shipping</td>\n",
              "      <td>0.0</td>\n",
              "      <td>1</td>\n",
              "      <td>MLB-SURFBOARD_RACKS</td>\n",
              "      <td>300279</td>\n",
              "      <td>MLB</td>\n",
              "      <td>None</td>\n",
              "      <td>None</td>\n",
              "    </tr>\n",
              "    <tr>\n",
              "      <th>2</th>\n",
              "      <td>2021-02-03</td>\n",
              "      <td>1</td>\n",
              "      <td>0</td>\n",
              "      <td>135.899994</td>\n",
              "      <td>REA</td>\n",
              "      <td>premium</td>\n",
              "      <td>fulfillment</td>\n",
              "      <td>free_shipping</td>\n",
              "      <td>0.0</td>\n",
              "      <td>1</td>\n",
              "      <td>MLB-SURFBOARD_RACKS</td>\n",
              "      <td>300279</td>\n",
              "      <td>MLB</td>\n",
              "      <td>None</td>\n",
              "      <td>None</td>\n",
              "    </tr>\n",
              "    <tr>\n",
              "      <th>3</th>\n",
              "      <td>2021-02-04</td>\n",
              "      <td>1</td>\n",
              "      <td>0</td>\n",
              "      <td>135.899994</td>\n",
              "      <td>REA</td>\n",
              "      <td>premium</td>\n",
              "      <td>fulfillment</td>\n",
              "      <td>free_shipping</td>\n",
              "      <td>0.0</td>\n",
              "      <td>1</td>\n",
              "      <td>MLB-SURFBOARD_RACKS</td>\n",
              "      <td>300279</td>\n",
              "      <td>MLB</td>\n",
              "      <td>None</td>\n",
              "      <td>None</td>\n",
              "    </tr>\n",
              "    <tr>\n",
              "      <th>4</th>\n",
              "      <td>2021-02-05</td>\n",
              "      <td>1</td>\n",
              "      <td>0</td>\n",
              "      <td>135.899994</td>\n",
              "      <td>REA</td>\n",
              "      <td>premium</td>\n",
              "      <td>fulfillment</td>\n",
              "      <td>free_shipping</td>\n",
              "      <td>0.0</td>\n",
              "      <td>1</td>\n",
              "      <td>MLB-SURFBOARD_RACKS</td>\n",
              "      <td>300279</td>\n",
              "      <td>MLB</td>\n",
              "      <td>None</td>\n",
              "      <td>None</td>\n",
              "    </tr>\n",
              "    <tr>\n",
              "      <th>...</th>\n",
              "      <td>...</td>\n",
              "      <td>...</td>\n",
              "      <td>...</td>\n",
              "      <td>...</td>\n",
              "      <td>...</td>\n",
              "      <td>...</td>\n",
              "      <td>...</td>\n",
              "      <td>...</td>\n",
              "      <td>...</td>\n",
              "      <td>...</td>\n",
              "      <td>...</td>\n",
              "      <td>...</td>\n",
              "      <td>...</td>\n",
              "      <td>...</td>\n",
              "      <td>...</td>\n",
              "    </tr>\n",
              "    <tr>\n",
              "      <th>29179486</th>\n",
              "      <td>2021-03-27</td>\n",
              "      <td>660915</td>\n",
              "      <td>0</td>\n",
              "      <td>79.989998</td>\n",
              "      <td>MEX</td>\n",
              "      <td>classic</td>\n",
              "      <td>fulfillment</td>\n",
              "      <td>paid_shipping</td>\n",
              "      <td>0.0</td>\n",
              "      <td>1</td>\n",
              "      <td>MLM-SURGICAL_MASKS</td>\n",
              "      <td>423179</td>\n",
              "      <td>MLM</td>\n",
              "      <td>None</td>\n",
              "      <td>None</td>\n",
              "    </tr>\n",
              "    <tr>\n",
              "      <th>29179487</th>\n",
              "      <td>2021-03-28</td>\n",
              "      <td>660915</td>\n",
              "      <td>0</td>\n",
              "      <td>79.989998</td>\n",
              "      <td>MEX</td>\n",
              "      <td>classic</td>\n",
              "      <td>fulfillment</td>\n",
              "      <td>paid_shipping</td>\n",
              "      <td>0.0</td>\n",
              "      <td>1</td>\n",
              "      <td>MLM-SURGICAL_MASKS</td>\n",
              "      <td>423179</td>\n",
              "      <td>MLM</td>\n",
              "      <td>None</td>\n",
              "      <td>None</td>\n",
              "    </tr>\n",
              "    <tr>\n",
              "      <th>29179488</th>\n",
              "      <td>2021-03-29</td>\n",
              "      <td>660915</td>\n",
              "      <td>0</td>\n",
              "      <td>79.989998</td>\n",
              "      <td>MEX</td>\n",
              "      <td>classic</td>\n",
              "      <td>fulfillment</td>\n",
              "      <td>paid_shipping</td>\n",
              "      <td>0.0</td>\n",
              "      <td>1</td>\n",
              "      <td>MLM-SURGICAL_MASKS</td>\n",
              "      <td>423179</td>\n",
              "      <td>MLM</td>\n",
              "      <td>None</td>\n",
              "      <td>None</td>\n",
              "    </tr>\n",
              "    <tr>\n",
              "      <th>29179489</th>\n",
              "      <td>2021-03-30</td>\n",
              "      <td>660915</td>\n",
              "      <td>0</td>\n",
              "      <td>99.989998</td>\n",
              "      <td>MEX</td>\n",
              "      <td>classic</td>\n",
              "      <td>fulfillment</td>\n",
              "      <td>paid_shipping</td>\n",
              "      <td>0.0</td>\n",
              "      <td>1</td>\n",
              "      <td>MLM-SURGICAL_MASKS</td>\n",
              "      <td>423179</td>\n",
              "      <td>MLM</td>\n",
              "      <td>None</td>\n",
              "      <td>None</td>\n",
              "    </tr>\n",
              "    <tr>\n",
              "      <th>29179490</th>\n",
              "      <td>2021-03-31</td>\n",
              "      <td>660915</td>\n",
              "      <td>0</td>\n",
              "      <td>99.989998</td>\n",
              "      <td>MEX</td>\n",
              "      <td>classic</td>\n",
              "      <td>fulfillment</td>\n",
              "      <td>paid_shipping</td>\n",
              "      <td>0.0</td>\n",
              "      <td>1</td>\n",
              "      <td>MLM-SURGICAL_MASKS</td>\n",
              "      <td>423179</td>\n",
              "      <td>MLM</td>\n",
              "      <td>None</td>\n",
              "      <td>None</td>\n",
              "    </tr>\n",
              "  </tbody>\n",
              "</table>\n",
              "<p>29179491 rows × 15 columns</p>\n",
              "</div>"
            ],
            "text/plain": [
              "                 ds     sku  y  current_price currency listing_type  \\\n",
              "0        2021-02-01       1  0     135.899994      REA      premium   \n",
              "1        2021-02-02       1  0     135.899994      REA      premium   \n",
              "2        2021-02-03       1  0     135.899994      REA      premium   \n",
              "3        2021-02-04       1  0     135.899994      REA      premium   \n",
              "4        2021-02-05       1  0     135.899994      REA      premium   \n",
              "...             ...     ... ..            ...      ...          ...   \n",
              "29179486 2021-03-27  660915  0      79.989998      MEX      classic   \n",
              "29179487 2021-03-28  660915  0      79.989998      MEX      classic   \n",
              "29179488 2021-03-29  660915  0      79.989998      MEX      classic   \n",
              "29179489 2021-03-30  660915  0      99.989998      MEX      classic   \n",
              "29179490 2021-03-31  660915  0      99.989998      MEX      classic   \n",
              "\n",
              "         shipping_logistic_type shipping_payment  minutes_active  available  \\\n",
              "0                   fulfillment    free_shipping             0.0          1   \n",
              "1                   fulfillment    free_shipping             0.0          1   \n",
              "2                   fulfillment    free_shipping             0.0          1   \n",
              "3                   fulfillment    free_shipping             0.0          1   \n",
              "4                   fulfillment    free_shipping             0.0          1   \n",
              "...                         ...              ...             ...        ...   \n",
              "29179486            fulfillment    paid_shipping             0.0          1   \n",
              "29179487            fulfillment    paid_shipping             0.0          1   \n",
              "29179488            fulfillment    paid_shipping             0.0          1   \n",
              "29179489            fulfillment    paid_shipping             0.0          1   \n",
              "29179490            fulfillment    paid_shipping             0.0          1   \n",
              "\n",
              "               item_domain_id  item_id site_id product_id product_family_id  \n",
              "0         MLB-SURFBOARD_RACKS   300279     MLB       None              None  \n",
              "1         MLB-SURFBOARD_RACKS   300279     MLB       None              None  \n",
              "2         MLB-SURFBOARD_RACKS   300279     MLB       None              None  \n",
              "3         MLB-SURFBOARD_RACKS   300279     MLB       None              None  \n",
              "4         MLB-SURFBOARD_RACKS   300279     MLB       None              None  \n",
              "...                       ...      ...     ...        ...               ...  \n",
              "29179486   MLM-SURGICAL_MASKS   423179     MLM       None              None  \n",
              "29179487   MLM-SURGICAL_MASKS   423179     MLM       None              None  \n",
              "29179488   MLM-SURGICAL_MASKS   423179     MLM       None              None  \n",
              "29179489   MLM-SURGICAL_MASKS   423179     MLM       None              None  \n",
              "29179490   MLM-SURGICAL_MASKS   423179     MLM       None              None  \n",
              "\n",
              "[29179491 rows x 15 columns]"
            ]
          },
          "metadata": {
            "tags": []
          },
          "execution_count": 11
        }
      ]
    },
    {
      "cell_type": "code",
      "metadata": {
        "colab": {
          "base_uri": "https://localhost:8080/"
        },
        "id": "Uj_voMA2U5ON",
        "outputId": "b9c4f117-34d5-4e7c-ec43-97cca26fc17f"
      },
      "source": [
        "dataset.groupby(\"site_id\")[\"sku\"].nunique()"
      ],
      "id": "Uj_voMA2U5ON",
      "execution_count": 12,
      "outputs": [
        {
          "output_type": "execute_result",
          "data": {
            "text/plain": [
              "site_id\n",
              "MLA     43314\n",
              "MLB    252475\n",
              "MLM    201008\n",
              "Name: sku, dtype: int64"
            ]
          },
          "metadata": {
            "tags": []
          },
          "execution_count": 12
        }
      ]
    },
    {
      "cell_type": "markdown",
      "metadata": {
        "id": "9tiGhbztRsCZ"
      },
      "source": [
        "***\n",
        "## model config"
      ],
      "id": "9tiGhbztRsCZ"
    },
    {
      "cell_type": "code",
      "metadata": {
        "id": "gz4KW4BCRsCZ"
      },
      "source": [
        "categorical_features = {\n",
        "    \"sku\": (\"y\", ce.CatBoostEncoder, None),\n",
        "    \"currency\": \"default\",\n",
        "    \"listing_type\": \"default\",\n",
        "    \"shipping_logistic_type\": \"default\",\n",
        "    \"shipping_payment\": \"default\",\n",
        "    \"item_domain_id\": \"default\",\n",
        "    \"item_id\": (\"y\", ce.CatBoostEncoder, None),\n",
        "    \"site_id\":\"default\",\n",
        "    \"product_id\": (\"y\", ce.CatBoostEncoder, None),\n",
        "    \"product_family_id\": (\"y\", ce.CatBoostEncoder, None),\n",
        "}\n",
        "\n",
        "exclude_features = [\"fold\",\"sold_quantity\",]\n",
        "\n",
        "model_params = {\n",
        "    'objective':'tweedie',\n",
        "    'tweedie_variance_power':1.6,\n",
        "    'metric':'None',\n",
        "    'num_iterations':1000,\n",
        "    'max_bin': 63,\n",
        "    'bin_construct_sample_cnt':20000000,\n",
        "    'num_leaves': 2**8-1,\n",
        "    'min_data_in_leaf': 2**8-1,\n",
        "    'learning_rate': 0.02,\n",
        "    'max_delta_step':1.,\n",
        "    'feature_fraction':0.8,\n",
        "    'bagging_fraction':0.8,\n",
        "    'bagging_freq':1,\n",
        "    'lambda_l2':0.1,\n",
        "    'boost_from_average': False,\n",
        "    'force_row_wise': True,\n",
        "    'deterministic':True,\n",
        "    'seed':42,\n",
        "    #'device_type': 'gpu',\n",
        "    #'num_gpu' : 1,\n",
        "}\n",
        "time_features = [\n",
        "    \"week_day\",\n",
        "    \"week_day_cos\",\n",
        "    \"week_day_sin\",\n",
        "    \"month_progress\",\n",
        "]\n",
        "model_kwargs = {\n",
        "    \"model_params\":model_params,\n",
        "    \"time_features\":time_features,\n",
        "    \"exclude_features\":exclude_features,\n",
        "    \"categorical_features\":categorical_features,\n",
        "    \"ts_uid_columns\":[\"sku\",],\n",
        "}"
      ],
      "id": "gz4KW4BCRsCZ",
      "execution_count": 13,
      "outputs": []
    },
    {
      "cell_type": "code",
      "metadata": {
        "colab": {
          "base_uri": "https://localhost:8080/"
        },
        "id": "esA2oYe8JoFO",
        "outputId": "7633a621-00c9-4afe-b30c-5e897db5a069"
      },
      "source": [
        "dataset.loc[:,categorical_features.keys()].isna().sum(axis=0) / len(dataset)"
      ],
      "id": "esA2oYe8JoFO",
      "execution_count": 14,
      "outputs": [
        {
          "output_type": "execute_result",
          "data": {
            "text/plain": [
              "sku                       0.000000\n",
              "currency                  0.000000\n",
              "listing_type              0.000000\n",
              "shipping_logistic_type    0.000000\n",
              "shipping_payment          0.000000\n",
              "item_domain_id            0.000000\n",
              "item_id                   0.000000\n",
              "site_id                   0.000000\n",
              "product_id                0.963178\n",
              "product_family_id         0.883613\n",
              "dtype: float64"
            ]
          },
          "metadata": {
            "tags": []
          },
          "execution_count": 14
        }
      ]
    },
    {
      "cell_type": "code",
      "metadata": {
        "colab": {
          "base_uri": "https://localhost:8080/"
        },
        "id": "m7_tQ8kjJ6aR",
        "outputId": "b9bf7925-dff8-465b-8eb6-612521cbe5ee"
      },
      "source": [
        "dataset.loc[:,categorical_features.keys()].nunique()"
      ],
      "id": "m7_tQ8kjJ6aR",
      "execution_count": 15,
      "outputs": [
        {
          "output_type": "execute_result",
          "data": {
            "text/plain": [
              "sku                       496797\n",
              "currency                       4\n",
              "listing_type                   2\n",
              "shipping_logistic_type         3\n",
              "shipping_payment               2\n",
              "item_domain_id              8156\n",
              "item_id                   392139\n",
              "site_id                        3\n",
              "product_id                 11756\n",
              "product_family_id          24176\n",
              "dtype: int64"
            ]
          },
          "metadata": {
            "tags": []
          },
          "execution_count": 15
        }
      ]
    },
    {
      "cell_type": "markdown",
      "metadata": {
        "id": "RouugUteIydh"
      },
      "source": [
        "***\n",
        "## model training: assessment"
      ],
      "id": "RouugUteIydh"
    },
    {
      "cell_type": "code",
      "metadata": {
        "colab": {
          "base_uri": "https://localhost:8080/",
          "height": 829
        },
        "id": "Nf6g2DZeJWyS",
        "outputId": "9d8907bc-59ff-4030-ba4f-eb74899aa61e"
      },
      "source": [
        "models_by_site = list()\n",
        "sites = [\"MLA\",\"MLB\",\"MLM\"]\n",
        "\n",
        "for site in sites:\n",
        "    print(\"-\"*75)\n",
        "    print(f\"Preparing model for site: {site}\")\n",
        "\n",
        "    tic = time.time()\n",
        "    train_data = dataset.query(\"site_id == @site\").reset_index(drop=True)\n",
        "    valid_idx = train_data.query(\"ds > '2021-03-01'\").index\n",
        "\n",
        "    model = LightGBMForecaster(**model_kwargs)\n",
        "    model.prepare_features(train_data, valid_idx)\n",
        "    model.train_features = reduce_mem_usage(model.train_features, verbose=True)\n",
        "    model.valid_features = reduce_mem_usage(model.valid_features, verbose=True)\n",
        "    gc.collect()\n",
        "    tac = time.time()\n",
        "    print(f\"Elapsed time for processing features: {(tac-tic)/60} min.\")\n",
        "\n",
        "    tic = time.time()\n",
        "    evaluator = RMSSE(train_data.loc[valid_idx, [\"sku\",\"y\"]], scales)\n",
        "    model.fit(fit_kwargs={\"verbose_eval\":50, \"feval\":evaluator.evaluate})\n",
        "    models_by_site.append(model)\n",
        "    tac = time.time()\n",
        "    print(f\"Elapsed time for training the model: {(tac-tic)/60} min.\")\n",
        "\n",
        "errors = list()\n",
        "sites = [\"MLA\",\"MLB\",\"MLM\"]\n",
        "for site,model in zip(sites,models_by_site):\n",
        "    error = model.model.model.best_score[\"valid_0\"][\"rmsse\"]\n",
        "    errors.append(error)\n",
        "result = {\n",
        "    \"rmsse_MLA\":errors[0], \n",
        "    \"rmsse_MLB\":errors[1],\n",
        "    \"rmsse_MLM\":errors[2],\n",
        "    \"rmsse_AVG\":np.mean(errors),\n",
        "}\n",
        "display(result)"
      ],
      "id": "Nf6g2DZeJWyS",
      "execution_count": 16,
      "outputs": [
        {
          "output_type": "stream",
          "text": [
            "---------------------------------------------------------------------------\n",
            "Preparing model for site: MLA\n",
            "Mem. usage decreased to 121.74 Mb (42.5% reduction)\n",
            "Mem. usage decreased to 85.51 Mb (52.4% reduction)\n",
            "Elapsed time for processing features: 0.32517678340276085 min.\n",
            "[LightGBM] [Info] Total Bins 2079\n",
            "[LightGBM] [Info] Number of data points in the train set: 1242194, number of used features: 14\n",
            "Training until validation scores don't improve for 30 rounds\n",
            "[50]\tvalid_0's rmsse: 0.819609\n",
            "[100]\tvalid_0's rmsse: 0.775299\n",
            "[150]\tvalid_0's rmsse: 0.769374\n",
            "Early stopping, best iteration is:\n",
            "[161]\tvalid_0's rmsse: 0.769179\n",
            "Elapsed time for training the model: 1.0016622145970662 min.\n",
            "---------------------------------------------------------------------------\n",
            "Preparing model for site: MLB\n",
            "Mem. usage decreased to 798.48 Mb (39.8% reduction)\n",
            "Mem. usage decreased to 498.41 Mb (52.4% reduction)\n",
            "Elapsed time for processing features: 1.8141104698181152 min.\n",
            "[LightGBM] [Info] Total Bins 2674\n",
            "[LightGBM] [Info] Number of data points in the train set: 7271333, number of used features: 14\n",
            "Training until validation scores don't improve for 30 rounds\n",
            "[50]\tvalid_0's rmsse: 0.870243\n",
            "[100]\tvalid_0's rmsse: 0.820997\n",
            "[150]\tvalid_0's rmsse: 0.812979\n",
            "[200]\tvalid_0's rmsse: 0.811994\n",
            "Early stopping, best iteration is:\n",
            "[200]\tvalid_0's rmsse: 0.811994\n",
            "Elapsed time for training the model: 3.0716492732365928 min.\n",
            "---------------------------------------------------------------------------\n",
            "Preparing model for site: MLM\n",
            "Mem. usage decreased to 539.16 Mb (43.6% reduction)\n",
            "Mem. usage decreased to 396.81 Mb (52.4% reduction)\n",
            "Elapsed time for processing features: 1.4050821582476298 min.\n",
            "[LightGBM] [Info] Total Bins 2563\n",
            "[LightGBM] [Info] Number of data points in the train set: 5762054, number of used features: 14\n",
            "Training until validation scores don't improve for 30 rounds\n",
            "[50]\tvalid_0's rmsse: 0.822681\n",
            "[100]\tvalid_0's rmsse: 0.77404\n",
            "[150]\tvalid_0's rmsse: 0.767617\n",
            "Early stopping, best iteration is:\n",
            "[157]\tvalid_0's rmsse: 0.767503\n",
            "Elapsed time for training the model: 1.9610220154126485 min.\n"
          ],
          "name": "stdout"
        },
        {
          "output_type": "display_data",
          "data": {
            "text/plain": [
              "{'rmsse_AVG': 0.7828920738139388,\n",
              " 'rmsse_MLA': 0.7691791278825674,\n",
              " 'rmsse_MLB': 0.8119937176327643,\n",
              " 'rmsse_MLM': 0.7675033759264847}"
            ]
          },
          "metadata": {
            "tags": []
          }
        }
      ]
    },
    {
      "cell_type": "code",
      "metadata": {
        "id": "Gg4Bob3RTRdn"
      },
      "source": [
        "all_preds = list()\n",
        "for site,model in zip(sites,models_by_site):\n",
        "    preds = model.predict(dataset.query(\"site_id==@site & ds<='2021-03-01'\"))\n",
        "    all_preds.append(preds)\n",
        "train_preds = pd.concat(all_preds, axis=0, ignore_index=True)"
      ],
      "id": "Gg4Bob3RTRdn",
      "execution_count": 17,
      "outputs": []
    },
    {
      "cell_type": "code",
      "metadata": {
        "id": "RndDABi3_EZw"
      },
      "source": [
        "all_preds = list()\n",
        "for site,model in zip(sites,models_by_site):\n",
        "    preds = model.predict(dataset.query(\"site_id==@site & ds>'2021-03-01'\"))\n",
        "    all_preds.append(preds)\n",
        "oof = pd.concat(all_preds, axis=0, ignore_index=True)"
      ],
      "id": "RndDABi3_EZw",
      "execution_count": 18,
      "outputs": []
    },
    {
      "cell_type": "code",
      "metadata": {
        "colab": {
          "base_uri": "https://localhost:8080/",
          "height": 454
        },
        "id": "1onaasoqZOpF",
        "outputId": "efae5d49-e347-409e-b4d6-f4ed5d22e147"
      },
      "source": [
        "train_preds = pd.merge(train_preds, dataset.loc[:,[\"ds\",\"sku\",\"y\"]], how=\"inner\", on=[\"ds\",\"sku\"])\n",
        "train_preds[\"sq_error\"] = train_preds.eval(\"(y-y_pred)**2\")\n",
        "train_errors = np.sqrt(train_preds.groupby(\"sku\")[\"sq_error\"].mean()).reset_index(name=\"rmse\")\n",
        "train_errors = pd.merge(train_errors, scales, how=\"inner\", on=\"sku\")\n",
        "train_errors[\"rmsse\"] = train_errors.eval(\"rmse/scale\")\n",
        "train_errors = train_errors.set_index(\"sku\")\n",
        "train_errors"
      ],
      "id": "1onaasoqZOpF",
      "execution_count": 38,
      "outputs": [
        {
          "output_type": "execute_result",
          "data": {
            "text/html": [
              "<div>\n",
              "<style scoped>\n",
              "    .dataframe tbody tr th:only-of-type {\n",
              "        vertical-align: middle;\n",
              "    }\n",
              "\n",
              "    .dataframe tbody tr th {\n",
              "        vertical-align: top;\n",
              "    }\n",
              "\n",
              "    .dataframe thead th {\n",
              "        text-align: right;\n",
              "    }\n",
              "</style>\n",
              "<table border=\"1\" class=\"dataframe\">\n",
              "  <thead>\n",
              "    <tr style=\"text-align: right;\">\n",
              "      <th></th>\n",
              "      <th>rmse</th>\n",
              "      <th>scale</th>\n",
              "      <th>rmsse</th>\n",
              "    </tr>\n",
              "    <tr>\n",
              "      <th>sku</th>\n",
              "      <th></th>\n",
              "      <th></th>\n",
              "      <th></th>\n",
              "    </tr>\n",
              "  </thead>\n",
              "  <tbody>\n",
              "    <tr>\n",
              "      <th>1</th>\n",
              "      <td>0.496732</td>\n",
              "      <td>1.025536</td>\n",
              "      <td>0.484363</td>\n",
              "    </tr>\n",
              "    <tr>\n",
              "      <th>3</th>\n",
              "      <td>0.418272</td>\n",
              "      <td>0.508548</td>\n",
              "      <td>0.822483</td>\n",
              "    </tr>\n",
              "    <tr>\n",
              "      <th>4</th>\n",
              "      <td>2.053692</td>\n",
              "      <td>2.463527</td>\n",
              "      <td>0.833639</td>\n",
              "    </tr>\n",
              "    <tr>\n",
              "      <th>5</th>\n",
              "      <td>0.164394</td>\n",
              "      <td>0.694808</td>\n",
              "      <td>0.236604</td>\n",
              "    </tr>\n",
              "    <tr>\n",
              "      <th>6</th>\n",
              "      <td>0.848865</td>\n",
              "      <td>1.050451</td>\n",
              "      <td>0.808095</td>\n",
              "    </tr>\n",
              "    <tr>\n",
              "      <th>...</th>\n",
              "      <td>...</td>\n",
              "      <td>...</td>\n",
              "      <td>...</td>\n",
              "    </tr>\n",
              "    <tr>\n",
              "      <th>660911</th>\n",
              "      <td>0.476847</td>\n",
              "      <td>0.830455</td>\n",
              "      <td>0.574200</td>\n",
              "    </tr>\n",
              "    <tr>\n",
              "      <th>660912</th>\n",
              "      <td>0.769898</td>\n",
              "      <td>1.033908</td>\n",
              "      <td>0.744649</td>\n",
              "    </tr>\n",
              "    <tr>\n",
              "      <th>660913</th>\n",
              "      <td>0.177279</td>\n",
              "      <td>0.587220</td>\n",
              "      <td>0.301895</td>\n",
              "    </tr>\n",
              "    <tr>\n",
              "      <th>660914</th>\n",
              "      <td>1.098020</td>\n",
              "      <td>1.203443</td>\n",
              "      <td>0.912398</td>\n",
              "    </tr>\n",
              "    <tr>\n",
              "      <th>660915</th>\n",
              "      <td>1.514552</td>\n",
              "      <td>1.712026</td>\n",
              "      <td>0.884655</td>\n",
              "    </tr>\n",
              "  </tbody>\n",
              "</table>\n",
              "<p>496797 rows × 3 columns</p>\n",
              "</div>"
            ],
            "text/plain": [
              "            rmse     scale     rmsse\n",
              "sku                                 \n",
              "1       0.496732  1.025536  0.484363\n",
              "3       0.418272  0.508548  0.822483\n",
              "4       2.053692  2.463527  0.833639\n",
              "5       0.164394  0.694808  0.236604\n",
              "6       0.848865  1.050451  0.808095\n",
              "...          ...       ...       ...\n",
              "660911  0.476847  0.830455  0.574200\n",
              "660912  0.769898  1.033908  0.744649\n",
              "660913  0.177279  0.587220  0.301895\n",
              "660914  1.098020  1.203443  0.912398\n",
              "660915  1.514552  1.712026  0.884655\n",
              "\n",
              "[496797 rows x 3 columns]"
            ]
          },
          "metadata": {
            "tags": []
          },
          "execution_count": 38
        }
      ]
    },
    {
      "cell_type": "code",
      "metadata": {
        "colab": {
          "base_uri": "https://localhost:8080/",
          "height": 282
        },
        "id": "LVEpVR8uQWhZ",
        "outputId": "13316e84-60c4-44d6-b088-e8bf2a0c503d"
      },
      "source": [
        "xvals = np.linspace(0,30,100)\n",
        "yvals = stats.t.pdf(xvals, df=10, loc=15, scale=3)\n",
        "\n",
        "plt.plot(xvals, yvals)\n",
        "plt.grid()\n",
        "plt.plot()"
      ],
      "id": "LVEpVR8uQWhZ",
      "execution_count": 52,
      "outputs": [
        {
          "output_type": "execute_result",
          "data": {
            "text/plain": [
              "[]"
            ]
          },
          "metadata": {
            "tags": []
          },
          "execution_count": 52
        },
        {
          "output_type": "display_data",
          "data": {
            "image/png": "[encoded data removed]",
            "text/plain": [
              "<Figure size 432x288 with 1 Axes>"
            ]
          },
          "metadata": {
            "tags": [],
            "needs_background": "light"
          }
        }
      ]
    },
    {
      "cell_type": "code",
      "metadata": {
        "id": "rRxTx3DpGhCI"
      },
      "source": [
        "class InventoryDaysPredictor():\n",
        "\n",
        "    def __init__(self, train, train_errors):\n",
        "        self.train = train.copy(deep=True)\n",
        "        self.train_errors = train_errors.copy(deep=True)\n",
        "\n",
        "    def fit(self, preds):\n",
        "        parameters = self.train.groupby('sku').agg({'y':['mean', 'std']}).y\n",
        "        # replace nan means by overall mean\n",
        "        idx = parameters[parameters[\"mean\"].isna()].index \n",
        "        parameters.loc[idx, \"mean\"] = parameters[\"mean\"].mean()\n",
        "        # replace nan stds by overall std\n",
        "        idx = parameters[parameters[\"std\"].isna()].index\n",
        "        parameters.loc[idx,\"std\"] = parameters[\"std\"].mean()\n",
        "        self.parameters = parameters.to_dict()\n",
        "\n",
        "        predictors = dict()\n",
        "        days = np.arange(1,31)\n",
        "        for sku,df in tqdm(preds.groupby(\"sku\")):\n",
        "            cumpred = df.y_pred.values.cumsum()\n",
        "            interp = interpolate.interp1d(cumpred, days, bounds_error=False, fill_value=(-np.inf,np.inf))\n",
        "            predictors[sku] = interp\n",
        "        self.predictors = predictors\n",
        "\n",
        "    def predict(self, sku, stock):\n",
        "        mean = self.parameters['mean'][sku]\n",
        "        std = self.parameters['std'][sku]\n",
        "        days_to_stockout = float(np.clip(self.predictors[sku](stock), a_min=1, a_max=30))\n",
        "        std_days = (std/mean) * days_to_stockout\n",
        "        return days_to_stockout, std_days\n",
        "\n",
        "    def predict_proba(self, sku, stock, dist_kwargs, alpha, beta):\n",
        "        days_to_stockout,_ = self.predict(sku, stock)\n",
        "        scale = alpha*(self.train_errors.loc[sku,\"rmsse\"])**beta\n",
        "        days = np.arange(1,31)\n",
        "        probs = stats.t.pdf(days, loc=days_to_stockout, scale=scale, **dist_kwargs)\n",
        "        #if prob is zero, replace with uniform\n",
        "        if np.sum(probs) == 0:\n",
        "            return np.ones(30) / 30\n",
        "        return probs/np.sum(probs)"
      ],
      "id": "rRxTx3DpGhCI",
      "execution_count": 47,
      "outputs": []
    },
    {
      "cell_type": "code",
      "metadata": {
        "colab": {
          "base_uri": "https://localhost:8080/"
        },
        "id": "W1_mZ_U_PXeK",
        "outputId": "92f98c9c-a7b4-4b04-c1d6-ce6f01a1068f"
      },
      "source": [
        "predictor = InventoryDaysPredictor(dataset.query(\"ds <= '2021-03-01'\"), train_errors)\n",
        "predictor.fit(oof)"
      ],
      "id": "W1_mZ_U_PXeK",
      "execution_count": 48,
      "outputs": [
        {
          "output_type": "stream",
          "text": [
            "100%|██████████| 496797/496797 [01:25<00:00, 5816.12it/s]\n"
          ],
          "name": "stderr"
        }
      ]
    },
    {
      "cell_type": "markdown",
      "metadata": {
        "id": "e4s-FIfPdzlD"
      },
      "source": [
        "***\n",
        "## tuning of dist parameters"
      ],
      "id": "e4s-FIfPdzlD"
    },
    {
      "cell_type": "code",
      "metadata": {
        "colab": {
          "base_uri": "https://localhost:8080/"
        },
        "id": "w4ZyB_dJhxbK",
        "outputId": "a3d43ec4-e807-4091-92e1-44f1ef1de042"
      },
      "source": [
        "preds_proba = list()\n",
        "for sku,df in tqdm(valid.groupby(\"sku\")):\n",
        "    preds_proba.append(predictor.predict_proba(\n",
        "        sku, \n",
        "        stock=df.target_stock.values[0],\n",
        "        dist_kwargs={\"df\":2},\n",
        "        alpha=1, \n",
        "        beta=1,\n",
        "    ))\n"
      ],
      "id": "w4ZyB_dJhxbK",
      "execution_count": 62,
      "outputs": [
        {
          "output_type": "stream",
          "text": [
            "\n",
            "100%|█████████▉| 496289/496797 [03:53<00:00, 2168.69it/s]\n",
            "100%|█████████▉| 496506/496797 [03:53<00:00, 2151.51it/s]\n",
            "100%|██████████| 496797/496797 [03:53<00:00, 2128.89it/s]\n"
          ],
          "name": "stderr"
        }
      ]
    },
    {
      "cell_type": "code",
      "metadata": {
        "id": "50cf2d7Jc2M5"
      },
      "source": [
        "valid = pd.read_csv(\"./validation_seed2.csv\")\n",
        "\n",
        "def objective(trial):\n",
        "    df = trial.suggest_uniform(\"df\", 0.1, 100.)\n",
        "    alpha = trial.suggest_uniform(\"alpha\", 1., 10.)\n",
        "    beta = trial.suggest_uniform(\"beta\", 0.5, 2.)\n",
        "\n",
        "    preds_proba = list()\n",
        "    for sku,df in tqdm(valid.groupby(\"sku\")):\n",
        "        preds_proba.append(predictor.predict_proba(\n",
        "            sku, \n",
        "            stock=df.target_stock.values[0],\n",
        "            dist_kwargs={\"df\":df},\n",
        "            alpha=alpha, \n",
        "            beta=beta,\n",
        "        ))\n",
        "    preds_proba = np.array(preds_proba)\n",
        "    \n",
        "    rps = scoring_function(valid.inventory_days.values, preds_proba)\n",
        "    return rps"
      ],
      "id": "50cf2d7Jc2M5",
      "execution_count": 60,
      "outputs": []
    },
    {
      "cell_type": "code",
      "metadata": {
        "colab": {
          "base_uri": "https://localhost:8080/"
        },
        "id": "SBSLXqrOfq6C",
        "outputId": "a72ba2e3-1737-47a6-e522-09dea6bab4b7"
      },
      "source": [
        "study = optuna.create_study(direction='minimize')\n",
        "study.optimize(objective, n_trials=1000, timeout=3600, n_jobs=40) # 1hrs"
      ],
      "id": "SBSLXqrOfq6C",
      "execution_count": null,
      "outputs": [
        {
          "output_type": "stream",
          "text": [
            "[I 2021-08-17 05:18:31,594] A new study created in memory with name: no-name-721f3285-70d7-4a95-ab70-9a46b23fa099\n"
          ],
          "name": "stderr"
        }
      ]
    },
    {
      "cell_type": "markdown",
      "metadata": {
        "id": "DhOIslq-eW1W"
      },
      "source": [
        "***\n",
        "## Assessment of invetory days prediction"
      ],
      "id": "DhOIslq-eW1W"
    },
    {
      "cell_type": "code",
      "metadata": {
        "colab": {
          "base_uri": "https://localhost:8080/"
        },
        "id": "-XXrisWkDHK9",
        "outputId": "65b3350b-bd83-4103-a995-77fd33344c45"
      },
      "source": [
        "valid = pd.read_csv(\"./validation_seed2.csv\")\n",
        "\n",
        "preds = list()\n",
        "for sku,df in tqdm(valid.groupby(\"sku\")):\n",
        "    preds.append(predictor.predict(sku, df.target_stock.values[0])[0])\n",
        "preds = pd.DataFrame(preds, columns=[\"days_to_stockout\"])"
      ],
      "id": "-XXrisWkDHK9",
      "execution_count": 27,
      "outputs": [
        {
          "output_type": "stream",
          "text": [
            "100%|██████████| 496797/496797 [01:26<00:00, 5760.29it/s]\n"
          ],
          "name": "stderr"
        }
      ]
    },
    {
      "cell_type": "code",
      "metadata": {
        "colab": {
          "base_uri": "https://localhost:8080/",
          "height": 822
        },
        "id": "thdZXffgKqm1",
        "outputId": "5a112fce-e005-44bf-df8f-0c5473f7581f"
      },
      "source": [
        "print(\"RMSE (mean): \", np.sqrt(np.mean((preds.days_to_stockout - valid.inventory_days)**2)) )\n",
        "print(\"RMSE (median): \", np.sqrt(np.median((preds.days_to_stockout - valid.inventory_days)**2)) )\n",
        "print(\"MAE (mean): \", np.mean(np.abs(preds.days_to_stockout - valid.inventory_days)))\n",
        "print(\"MAE (median): \", np.median(np.abs(preds.days_to_stockout - valid.inventory_days)))\n",
        "\n",
        "sns.displot(valid.inventory_days)\n",
        "plt.title(\"target\")\n",
        "plt.show()\n",
        "\n",
        "sns.displot(preds.days_to_stockout)\n",
        "plt.title(\"prediction\")\n",
        "plt.show()"
      ],
      "id": "thdZXffgKqm1",
      "execution_count": 28,
      "outputs": [
        {
          "output_type": "stream",
          "text": [
            "RMSE (mean):  10.512693130490346\n",
            "RMSE (median):  6.0\n",
            "MAE (mean):  7.909787425190221\n",
            "MAE (median):  6.0\n"
          ],
          "name": "stdout"
        },
        {
          "output_type": "display_data",
          "data": {
            "image/png": "[encoded data removed]",
            "text/plain": [
              "<Figure size 360x360 with 1 Axes>"
            ]
          },
          "metadata": {
            "tags": [],
            "needs_background": "light"
          }
        },
        {
          "output_type": "display_data",
          "data": {
            "image/png": "[encoded data removed]",
            "text/plain": [
              "<Figure size 360x360 with 1 Axes>"
            ]
          },
          "metadata": {
            "tags": [],
            "needs_background": "light"
          }
        }
      ]
    },
    {
      "cell_type": "markdown",
      "metadata": {
        "id": "fMDY13N0Gd-E"
      },
      "source": [
        "***\n",
        "## Assessment of RPS"
      ],
      "id": "fMDY13N0Gd-E"
    },
    {
      "cell_type": "code",
      "metadata": {
        "colab": {
          "base_uri": "https://localhost:8080/"
        },
        "id": "ImEw7_P3cPRw",
        "outputId": "bc1c95f4-4807-4aa8-db97-456a1a2a875f"
      },
      "source": [
        "results = list()\n",
        "\n",
        "for files in glob(\"./validation_seed*.csv\")[:3]:\n",
        "    valid = pd.read_csv(files)\n",
        "\n",
        "    preds_proba = list()\n",
        "    for sku,df in tqdm(valid.groupby(\"sku\")):\n",
        "        preds_proba.append(predictor.predict_proba(sku, df.target_stock.values[0]))\n",
        "    preds_proba = np.array(preds_proba)\n",
        "    \n",
        "    rps = scoring_function(valid.inventory_days.values, preds_proba)\n",
        "    results.append({\"file\":files.split(\"/\")[-1].split(\".\")[0], \"rps\":rps})\n",
        "    print({\"file\":files.split(\"/\")[-1].split(\".\")[0], \"rps\":rps})"
      ],
      "id": "ImEw7_P3cPRw",
      "execution_count": 29,
      "outputs": [
        {
          "output_type": "stream",
          "text": [
            "100%|██████████| 496797/496797 [09:35<00:00, 863.37it/s]\n"
          ],
          "name": "stderr"
        },
        {
          "output_type": "stream",
          "text": [
            "{'file': 'validation_seed17', 'rps': 4.144744792191483}\n"
          ],
          "name": "stdout"
        },
        {
          "output_type": "stream",
          "text": [
            "100%|██████████| 496797/496797 [09:29<00:00, 872.56it/s]\n"
          ],
          "name": "stderr"
        },
        {
          "output_type": "stream",
          "text": [
            "{'file': 'validation_seed19', 'rps': 4.137523467669764}\n"
          ],
          "name": "stdout"
        },
        {
          "output_type": "stream",
          "text": [
            "100%|██████████| 496797/496797 [09:29<00:00, 871.91it/s]\n"
          ],
          "name": "stderr"
        },
        {
          "output_type": "stream",
          "text": [
            "{'file': 'validation_seed2', 'rps': 4.140724628030401}\n"
          ],
          "name": "stdout"
        }
      ]
    },
    {
      "cell_type": "code",
      "metadata": {
        "colab": {
          "base_uri": "https://localhost:8080/",
          "height": 143
        },
        "id": "YQfPmcE0P25E",
        "outputId": "393fadb3-3189-45e6-9ed0-3c21fff26c62"
      },
      "source": [
        "pd.DataFrame(results)"
      ],
      "id": "YQfPmcE0P25E",
      "execution_count": 30,
      "outputs": [
        {
          "output_type": "execute_result",
          "data": {
            "text/html": [
              "<div>\n",
              "<style scoped>\n",
              "    .dataframe tbody tr th:only-of-type {\n",
              "        vertical-align: middle;\n",
              "    }\n",
              "\n",
              "    .dataframe tbody tr th {\n",
              "        vertical-align: top;\n",
              "    }\n",
              "\n",
              "    .dataframe thead th {\n",
              "        text-align: right;\n",
              "    }\n",
              "</style>\n",
              "<table border=\"1\" class=\"dataframe\">\n",
              "  <thead>\n",
              "    <tr style=\"text-align: right;\">\n",
              "      <th></th>\n",
              "      <th>file</th>\n",
              "      <th>rps</th>\n",
              "    </tr>\n",
              "  </thead>\n",
              "  <tbody>\n",
              "    <tr>\n",
              "      <th>0</th>\n",
              "      <td>validation_seed17</td>\n",
              "      <td>4.144745</td>\n",
              "    </tr>\n",
              "    <tr>\n",
              "      <th>1</th>\n",
              "      <td>validation_seed19</td>\n",
              "      <td>4.137523</td>\n",
              "    </tr>\n",
              "    <tr>\n",
              "      <th>2</th>\n",
              "      <td>validation_seed2</td>\n",
              "      <td>4.140725</td>\n",
              "    </tr>\n",
              "  </tbody>\n",
              "</table>\n",
              "</div>"
            ],
            "text/plain": [
              "                file       rps\n",
              "0  validation_seed17  4.144745\n",
              "1  validation_seed19  4.137523\n",
              "2   validation_seed2  4.140725"
            ]
          },
          "metadata": {
            "tags": []
          },
          "execution_count": 30
        }
      ]
    },
    {
      "cell_type": "markdown",
      "metadata": {
        "id": "VxxqpHZrTZjZ"
      },
      "source": [
        "***"
      ],
      "id": "VxxqpHZrTZjZ"
    }
  ]
}