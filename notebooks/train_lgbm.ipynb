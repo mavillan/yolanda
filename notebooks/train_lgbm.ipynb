{
  "nbformat": 4,
  "nbformat_minor": 5,
  "metadata": {
    "kernelspec": {
      "display_name": "Python 3",
      "language": "python",
      "name": "python3"
    },
    "language_info": {
      "codemirror_mode": {
        "name": "ipython",
        "version": 3
      },
      "file_extension": ".py",
      "mimetype": "text/x-python",
      "name": "python",
      "nbconvert_exporter": "python",
      "pygments_lexer": "ipython3",
      "version": "3.7.9"
    },
    "colab": {
      "name": "train-lgbm.ipynb",
      "provenance": [],
      "collapsed_sections": [],
      "machine_shape": "hm"
    }
  },
  "cells": [
    {
      "cell_type": "markdown",
      "metadata": {
        "id": "SzuthcIATQF8"
      },
      "source": [
        "***\n",
        "## notebook config"
      ],
      "id": "SzuthcIATQF8"
    },
    {
      "cell_type": "code",
      "metadata": {
        "colab": {
          "base_uri": "https://localhost:8080/"
        },
        "id": "XSoYQFk7Sh74",
        "outputId": "a2e352b5-b832-4147-f75d-bbda29db8d0a"
      },
      "source": [
        "from google.colab import drive\n",
        "from google.colab import files\n",
        "drive.mount('/content/drive', force_remount=True)"
      ],
      "id": "XSoYQFk7Sh74",
      "execution_count": 1,
      "outputs": [
        {
          "output_type": "stream",
          "text": [
            "Mounted at /content/drive\n"
          ],
          "name": "stdout"
        }
      ]
    },
    {
      "cell_type": "code",
      "metadata": {
        "id": "lzGBguaPSh5E"
      },
      "source": [
        "!pip install --upgrade kaggle > /dev/null 2>&1\n",
        "!mkdir -p ~/.kaggle/ && cp /content/drive/MyDrive/kaggle/kaggle.json ~/.kaggle/ && chmod 600 ~/.kaggle/kaggle.json"
      ],
      "id": "lzGBguaPSh5E",
      "execution_count": 2,
      "outputs": []
    },
    {
      "cell_type": "code",
      "metadata": {
        "colab": {
          "base_uri": "https://localhost:8080/"
        },
        "id": "LK28lKy-Sh2a",
        "outputId": "43c393a4-fee5-4e72-eac3-c4365a3dd2da"
      },
      "source": [
        "!nvidia-smi"
      ],
      "id": "LK28lKy-Sh2a",
      "execution_count": 3,
      "outputs": [
        {
          "output_type": "stream",
          "text": [
            "NVIDIA-SMI has failed because it couldn't communicate with the NVIDIA driver. Make sure that the latest NVIDIA driver is installed and running.\n",
            "\n"
          ],
          "name": "stdout"
        }
      ]
    },
    {
      "cell_type": "code",
      "metadata": {
        "colab": {
          "base_uri": "https://localhost:8080/"
        },
        "id": "YTW7CBSAShzf",
        "outputId": "d1880d87-307f-44e7-e14b-bb3e614bdd2b"
      },
      "source": [
        "!free -h"
      ],
      "id": "YTW7CBSAShzf",
      "execution_count": 4,
      "outputs": [
        {
          "output_type": "stream",
          "text": [
            "              total        used        free      shared  buff/cache   available\n",
            "Mem:            25G        5.5G         19G        1.1M        697M         19G\n",
            "Swap:            0B          0B          0B\n"
          ],
          "name": "stdout"
        }
      ]
    },
    {
      "cell_type": "code",
      "metadata": {
        "id": "ZOC8lFKrShwu"
      },
      "source": [
        "!pip install --upgrade category_encoders > /dev/null 2>&1\n",
        "!pip install --upgrade lightgbm > /dev/null 2>&1\n",
        "!pip install --upgrade tsforest > /dev/null 2>&1"
      ],
      "id": "ZOC8lFKrShwu",
      "execution_count": 5,
      "outputs": []
    },
    {
      "cell_type": "markdown",
      "metadata": {
        "id": "1X4BK9ldSu-h"
      },
      "source": [
        "***"
      ],
      "id": "1X4BK9ldSu-h"
    },
    {
      "cell_type": "code",
      "metadata": {
        "id": "n5fzE-C3RsCU",
        "colab": {
          "base_uri": "https://localhost:8080/"
        },
        "outputId": "974be902-94a1-4226-f99e-f93be6a39194"
      },
      "source": [
        "import gc\n",
        "import numpy as np\n",
        "import pandas as pd\n",
        "import matplotlib.pyplot as plt\n",
        "import seaborn as sns\n",
        "import time\n",
        "\n",
        "import category_encoders as ce\n",
        "import lightgbm as lgb\n",
        "from tsforest.forecast import LightGBMForecaster\n",
        "\n",
        "pd.set_option('display.max_columns', None)"
      ],
      "id": "n5fzE-C3RsCU",
      "execution_count": 6,
      "outputs": [
        {
          "output_type": "stream",
          "text": [
            "/usr/local/lib/python3.7/dist-packages/statsmodels/tools/_testing.py:19: FutureWarning: pandas.util.testing is deprecated. Use the functions in the public API at pandas.testing instead.\n",
            "  import pandas.util.testing as tm\n"
          ],
          "name": "stderr"
        }
      ]
    },
    {
      "cell_type": "code",
      "metadata": {
        "id": "rAUlblJETNmK"
      },
      "source": [
        "def reduce_mem_usage(df, verbose=False):\n",
        "    \"\"\"\n",
        "    Utility function to reduce the memory usage of pandas dataframes\n",
        "    \n",
        "    Parameters\n",
        "    ----------\n",
        "    df: pandas.Dataframe\n",
        "    verbose: Boolean\n",
        "    \"\"\"\n",
        "    numerics = ['int16', 'int32', 'int64', 'float16', 'float32', 'float64']\n",
        "    start_mem = df.memory_usage().sum() / 1024**2    \n",
        "    for col in df.columns:\n",
        "        col_type = df[col].dtypes\n",
        "        if col_type in numerics:\n",
        "            c_min = df[col].min()\n",
        "            c_max = df[col].max()\n",
        "            if str(col_type)[:3] == 'int':\n",
        "                if c_min > np.iinfo(np.int8).min and c_max < np.iinfo(np.int8).max:\n",
        "                    df[col] = df[col].astype(np.int8)\n",
        "                elif c_min > np.iinfo(np.int16).min and c_max < np.iinfo(np.int16).max:\n",
        "                    df[col] = df[col].astype(np.int16)\n",
        "                elif c_min > np.iinfo(np.int32).min and c_max < np.iinfo(np.int32).max:\n",
        "                    df[col] = df[col].astype(np.int32)\n",
        "                elif c_min > np.iinfo(np.int64).min and c_max < np.iinfo(np.int64).max:\n",
        "                    df[col] = df[col].astype(np.int64)  \n",
        "            else:\n",
        "                if c_min > np.finfo(np.float32).min and c_max < np.finfo(np.float32).max:\n",
        "                    df[col] = df[col].astype(np.float32)\n",
        "                else:\n",
        "                    df[col] = df[col].astype(np.float64)    \n",
        "    end_mem = df.memory_usage().sum() / 1024**2\n",
        "    if verbose: \n",
        "        print('Mem. usage decreased to {:5.2f} Mb ({:.1f}% reduction)'.format(end_mem, 100 * (start_mem - end_mem) / start_mem))\n",
        "    return df"
      ],
      "id": "rAUlblJETNmK",
      "execution_count": 7,
      "outputs": []
    },
    {
      "cell_type": "markdown",
      "metadata": {
        "id": "AElb7cOIRsCX"
      },
      "source": [
        "***\n",
        "## data preparation"
      ],
      "id": "AElb7cOIRsCX"
    },
    {
      "cell_type": "code",
      "metadata": {
        "colab": {
          "base_uri": "https://localhost:8080/"
        },
        "id": "WAabJ7WvTeWL",
        "outputId": "0eb824b2-296f-4dea-fb93-b730bd27fc58"
      },
      "source": [
        "!kaggle datasets download -d mavillan/meli-2021 --force --unzip"
      ],
      "id": "WAabJ7WvTeWL",
      "execution_count": 8,
      "outputs": [
        {
          "output_type": "stream",
          "text": [
            "Downloading meli-2021.zip to /content\n",
            " 94% 50.0M/53.3M [00:00<00:00, 51.5MB/s]\n",
            "100% 53.3M/53.3M [00:00<00:00, 77.7MB/s]\n"
          ],
          "name": "stdout"
        }
      ]
    },
    {
      "cell_type": "code",
      "metadata": {
        "id": "T3mjFMGwRsCX",
        "colab": {
          "base_uri": "https://localhost:8080/",
          "height": 615
        },
        "outputId": "fda467d3-37b3-4bff-ad0a-872f3fee5cb2"
      },
      "source": [
        "dataset = pd.read_parquet(\"./dataset.parquet\")\n",
        "dataset.rename({\"date\":\"ds\", \"sold_quantity\":\"y\"}, axis=1, inplace=True)\n",
        "dataset"
      ],
      "id": "T3mjFMGwRsCX",
      "execution_count": 9,
      "outputs": [
        {
          "output_type": "execute_result",
          "data": {
            "text/html": [
              "<div>\n",
              "<style scoped>\n",
              "    .dataframe tbody tr th:only-of-type {\n",
              "        vertical-align: middle;\n",
              "    }\n",
              "\n",
              "    .dataframe tbody tr th {\n",
              "        vertical-align: top;\n",
              "    }\n",
              "\n",
              "    .dataframe thead th {\n",
              "        text-align: right;\n",
              "    }\n",
              "</style>\n",
              "<table border=\"1\" class=\"dataframe\">\n",
              "  <thead>\n",
              "    <tr style=\"text-align: right;\">\n",
              "      <th></th>\n",
              "      <th>ds</th>\n",
              "      <th>sku</th>\n",
              "      <th>y</th>\n",
              "      <th>current_price</th>\n",
              "      <th>currency</th>\n",
              "      <th>listing_type</th>\n",
              "      <th>shipping_logistic_type</th>\n",
              "      <th>shipping_payment</th>\n",
              "      <th>minutes_active</th>\n",
              "      <th>available</th>\n",
              "      <th>item_domain_id</th>\n",
              "      <th>item_id</th>\n",
              "      <th>site_id</th>\n",
              "      <th>product_id</th>\n",
              "      <th>product_family_id</th>\n",
              "    </tr>\n",
              "  </thead>\n",
              "  <tbody>\n",
              "    <tr>\n",
              "      <th>0</th>\n",
              "      <td>2021-02-01</td>\n",
              "      <td>0</td>\n",
              "      <td>0</td>\n",
              "      <td>172.789993</td>\n",
              "      <td>REA</td>\n",
              "      <td>classic</td>\n",
              "      <td>cross_docking</td>\n",
              "      <td>free_shipping</td>\n",
              "      <td>0.000000</td>\n",
              "      <td>1</td>\n",
              "      <td>MLB-SNEAKERS</td>\n",
              "      <td>492155</td>\n",
              "      <td>MLB</td>\n",
              "      <td>None</td>\n",
              "      <td>MLB15832732</td>\n",
              "    </tr>\n",
              "    <tr>\n",
              "      <th>1</th>\n",
              "      <td>2021-02-02</td>\n",
              "      <td>0</td>\n",
              "      <td>0</td>\n",
              "      <td>172.789993</td>\n",
              "      <td>REA</td>\n",
              "      <td>classic</td>\n",
              "      <td>cross_docking</td>\n",
              "      <td>free_shipping</td>\n",
              "      <td>0.000000</td>\n",
              "      <td>1</td>\n",
              "      <td>MLB-SNEAKERS</td>\n",
              "      <td>492155</td>\n",
              "      <td>MLB</td>\n",
              "      <td>None</td>\n",
              "      <td>MLB15832732</td>\n",
              "    </tr>\n",
              "    <tr>\n",
              "      <th>2</th>\n",
              "      <td>2021-02-03</td>\n",
              "      <td>0</td>\n",
              "      <td>0</td>\n",
              "      <td>179.990005</td>\n",
              "      <td>REA</td>\n",
              "      <td>classic</td>\n",
              "      <td>cross_docking</td>\n",
              "      <td>free_shipping</td>\n",
              "      <td>872.650024</td>\n",
              "      <td>1</td>\n",
              "      <td>MLB-SNEAKERS</td>\n",
              "      <td>492155</td>\n",
              "      <td>MLB</td>\n",
              "      <td>None</td>\n",
              "      <td>MLB15832732</td>\n",
              "    </tr>\n",
              "    <tr>\n",
              "      <th>3</th>\n",
              "      <td>2021-02-04</td>\n",
              "      <td>0</td>\n",
              "      <td>0</td>\n",
              "      <td>179.990005</td>\n",
              "      <td>REA</td>\n",
              "      <td>classic</td>\n",
              "      <td>cross_docking</td>\n",
              "      <td>free_shipping</td>\n",
              "      <td>1440.000000</td>\n",
              "      <td>1</td>\n",
              "      <td>MLB-SNEAKERS</td>\n",
              "      <td>492155</td>\n",
              "      <td>MLB</td>\n",
              "      <td>None</td>\n",
              "      <td>MLB15832732</td>\n",
              "    </tr>\n",
              "    <tr>\n",
              "      <th>4</th>\n",
              "      <td>2021-02-05</td>\n",
              "      <td>0</td>\n",
              "      <td>0</td>\n",
              "      <td>179.990005</td>\n",
              "      <td>REA</td>\n",
              "      <td>classic</td>\n",
              "      <td>cross_docking</td>\n",
              "      <td>free_shipping</td>\n",
              "      <td>1440.000000</td>\n",
              "      <td>1</td>\n",
              "      <td>MLB-SNEAKERS</td>\n",
              "      <td>492155</td>\n",
              "      <td>MLB</td>\n",
              "      <td>None</td>\n",
              "      <td>MLB15832732</td>\n",
              "    </tr>\n",
              "    <tr>\n",
              "      <th>...</th>\n",
              "      <td>...</td>\n",
              "      <td>...</td>\n",
              "      <td>...</td>\n",
              "      <td>...</td>\n",
              "      <td>...</td>\n",
              "      <td>...</td>\n",
              "      <td>...</td>\n",
              "      <td>...</td>\n",
              "      <td>...</td>\n",
              "      <td>...</td>\n",
              "      <td>...</td>\n",
              "      <td>...</td>\n",
              "      <td>...</td>\n",
              "      <td>...</td>\n",
              "      <td>...</td>\n",
              "    </tr>\n",
              "    <tr>\n",
              "      <th>38994039</th>\n",
              "      <td>2021-03-27</td>\n",
              "      <td>660915</td>\n",
              "      <td>0</td>\n",
              "      <td>79.989998</td>\n",
              "      <td>MEX</td>\n",
              "      <td>classic</td>\n",
              "      <td>fulfillment</td>\n",
              "      <td>paid_shipping</td>\n",
              "      <td>0.000000</td>\n",
              "      <td>1</td>\n",
              "      <td>MLM-SURGICAL_MASKS</td>\n",
              "      <td>423179</td>\n",
              "      <td>MLM</td>\n",
              "      <td>None</td>\n",
              "      <td>None</td>\n",
              "    </tr>\n",
              "    <tr>\n",
              "      <th>38994040</th>\n",
              "      <td>2021-03-28</td>\n",
              "      <td>660915</td>\n",
              "      <td>0</td>\n",
              "      <td>79.989998</td>\n",
              "      <td>MEX</td>\n",
              "      <td>classic</td>\n",
              "      <td>fulfillment</td>\n",
              "      <td>paid_shipping</td>\n",
              "      <td>0.000000</td>\n",
              "      <td>1</td>\n",
              "      <td>MLM-SURGICAL_MASKS</td>\n",
              "      <td>423179</td>\n",
              "      <td>MLM</td>\n",
              "      <td>None</td>\n",
              "      <td>None</td>\n",
              "    </tr>\n",
              "    <tr>\n",
              "      <th>38994041</th>\n",
              "      <td>2021-03-29</td>\n",
              "      <td>660915</td>\n",
              "      <td>0</td>\n",
              "      <td>79.989998</td>\n",
              "      <td>MEX</td>\n",
              "      <td>classic</td>\n",
              "      <td>fulfillment</td>\n",
              "      <td>paid_shipping</td>\n",
              "      <td>0.000000</td>\n",
              "      <td>1</td>\n",
              "      <td>MLM-SURGICAL_MASKS</td>\n",
              "      <td>423179</td>\n",
              "      <td>MLM</td>\n",
              "      <td>None</td>\n",
              "      <td>None</td>\n",
              "    </tr>\n",
              "    <tr>\n",
              "      <th>38994042</th>\n",
              "      <td>2021-03-30</td>\n",
              "      <td>660915</td>\n",
              "      <td>0</td>\n",
              "      <td>99.989998</td>\n",
              "      <td>MEX</td>\n",
              "      <td>classic</td>\n",
              "      <td>fulfillment</td>\n",
              "      <td>paid_shipping</td>\n",
              "      <td>0.000000</td>\n",
              "      <td>1</td>\n",
              "      <td>MLM-SURGICAL_MASKS</td>\n",
              "      <td>423179</td>\n",
              "      <td>MLM</td>\n",
              "      <td>None</td>\n",
              "      <td>None</td>\n",
              "    </tr>\n",
              "    <tr>\n",
              "      <th>38994043</th>\n",
              "      <td>2021-03-31</td>\n",
              "      <td>660915</td>\n",
              "      <td>0</td>\n",
              "      <td>99.989998</td>\n",
              "      <td>MEX</td>\n",
              "      <td>classic</td>\n",
              "      <td>fulfillment</td>\n",
              "      <td>paid_shipping</td>\n",
              "      <td>0.000000</td>\n",
              "      <td>1</td>\n",
              "      <td>MLM-SURGICAL_MASKS</td>\n",
              "      <td>423179</td>\n",
              "      <td>MLM</td>\n",
              "      <td>None</td>\n",
              "      <td>None</td>\n",
              "    </tr>\n",
              "  </tbody>\n",
              "</table>\n",
              "<p>38994044 rows × 15 columns</p>\n",
              "</div>"
            ],
            "text/plain": [
              "                 ds     sku  y  current_price currency listing_type  \\\n",
              "0        2021-02-01       0  0     172.789993      REA      classic   \n",
              "1        2021-02-02       0  0     172.789993      REA      classic   \n",
              "2        2021-02-03       0  0     179.990005      REA      classic   \n",
              "3        2021-02-04       0  0     179.990005      REA      classic   \n",
              "4        2021-02-05       0  0     179.990005      REA      classic   \n",
              "...             ...     ... ..            ...      ...          ...   \n",
              "38994039 2021-03-27  660915  0      79.989998      MEX      classic   \n",
              "38994040 2021-03-28  660915  0      79.989998      MEX      classic   \n",
              "38994041 2021-03-29  660915  0      79.989998      MEX      classic   \n",
              "38994042 2021-03-30  660915  0      99.989998      MEX      classic   \n",
              "38994043 2021-03-31  660915  0      99.989998      MEX      classic   \n",
              "\n",
              "         shipping_logistic_type shipping_payment  minutes_active  available  \\\n",
              "0                 cross_docking    free_shipping        0.000000          1   \n",
              "1                 cross_docking    free_shipping        0.000000          1   \n",
              "2                 cross_docking    free_shipping      872.650024          1   \n",
              "3                 cross_docking    free_shipping     1440.000000          1   \n",
              "4                 cross_docking    free_shipping     1440.000000          1   \n",
              "...                         ...              ...             ...        ...   \n",
              "38994039            fulfillment    paid_shipping        0.000000          1   \n",
              "38994040            fulfillment    paid_shipping        0.000000          1   \n",
              "38994041            fulfillment    paid_shipping        0.000000          1   \n",
              "38994042            fulfillment    paid_shipping        0.000000          1   \n",
              "38994043            fulfillment    paid_shipping        0.000000          1   \n",
              "\n",
              "              item_domain_id  item_id site_id product_id product_family_id  \n",
              "0               MLB-SNEAKERS   492155     MLB       None       MLB15832732  \n",
              "1               MLB-SNEAKERS   492155     MLB       None       MLB15832732  \n",
              "2               MLB-SNEAKERS   492155     MLB       None       MLB15832732  \n",
              "3               MLB-SNEAKERS   492155     MLB       None       MLB15832732  \n",
              "4               MLB-SNEAKERS   492155     MLB       None       MLB15832732  \n",
              "...                      ...      ...     ...        ...               ...  \n",
              "38994039  MLM-SURGICAL_MASKS   423179     MLM       None              None  \n",
              "38994040  MLM-SURGICAL_MASKS   423179     MLM       None              None  \n",
              "38994041  MLM-SURGICAL_MASKS   423179     MLM       None              None  \n",
              "38994042  MLM-SURGICAL_MASKS   423179     MLM       None              None  \n",
              "38994043  MLM-SURGICAL_MASKS   423179     MLM       None              None  \n",
              "\n",
              "[38994044 rows x 15 columns]"
            ]
          },
          "metadata": {
            "tags": []
          },
          "execution_count": 9
        }
      ]
    },
    {
      "cell_type": "code",
      "metadata": {
        "id": "PcJdi6z8RsCY"
      },
      "source": [
        "dataset[\"fold\"] = dataset.ds.dt.month - 2\n",
        "\n",
        "categorical_features = {\n",
        "    \"sku\": (\"y\", ce.CatBoostEncoder, None),\n",
        "    \"currency\": \"default\",\n",
        "    \"listing_type\": \"default\",\n",
        "    \"shipping_logistic_type\": \"default\",\n",
        "    \"shipping_payment\": \"default\",\n",
        "    \"item_domain_id\": (\"y\", ce.CatBoostEncoder, None),\n",
        "    \"item_id\": (\"y\", ce.CatBoostEncoder, None),\n",
        "    \"site_id\":\"default\",\n",
        "    \"product_id\": (\"y\", ce.CatBoostEncoder, None),\n",
        "    \"product_family_id\": (\"y\", ce.CatBoostEncoder, None),\n",
        "}\n",
        "\n",
        "exclude_features = [\"fold\",\"sold_quantity\",]"
      ],
      "id": "PcJdi6z8RsCY",
      "execution_count": 10,
      "outputs": []
    },
    {
      "cell_type": "code",
      "metadata": {
        "colab": {
          "base_uri": "https://localhost:8080/"
        },
        "id": "QijF3ZCdUKNh",
        "outputId": "c9f027a6-f637-4a48-d4af-0afd8080eb53"
      },
      "source": [
        "dataset.loc[:,categorical_features.keys()].nunique()"
      ],
      "id": "QijF3ZCdUKNh",
      "execution_count": 11,
      "outputs": [
        {
          "output_type": "execute_result",
          "data": {
            "text/plain": [
              "sku                       660916\n",
              "currency                       4\n",
              "listing_type                   2\n",
              "shipping_logistic_type         3\n",
              "shipping_payment               2\n",
              "item_domain_id              8408\n",
              "item_id                   517896\n",
              "site_id                        3\n",
              "product_id                 15863\n",
              "product_family_id          29600\n",
              "dtype: int64"
            ]
          },
          "metadata": {
            "tags": []
          },
          "execution_count": 11
        }
      ]
    },
    {
      "cell_type": "code",
      "metadata": {
        "colab": {
          "base_uri": "https://localhost:8080/"
        },
        "id": "Uj_voMA2U5ON",
        "outputId": "5a1cab7c-140f-4e33-eee7-69b2139c337c"
      },
      "source": [
        "dataset.groupby(\"site_id\")[\"sku\"].nunique()"
      ],
      "id": "Uj_voMA2U5ON",
      "execution_count": 12,
      "outputs": [
        {
          "output_type": "execute_result",
          "data": {
            "text/plain": [
              "site_id\n",
              "MLA     58670\n",
              "MLB    336334\n",
              "MLM    265912\n",
              "Name: sku, dtype: int64"
            ]
          },
          "metadata": {
            "tags": []
          },
          "execution_count": 12
        }
      ]
    },
    {
      "cell_type": "markdown",
      "metadata": {
        "id": "9tiGhbztRsCZ"
      },
      "source": [
        "***\n",
        "## model training"
      ],
      "id": "9tiGhbztRsCZ"
    },
    {
      "cell_type": "code",
      "metadata": {
        "id": "gz4KW4BCRsCZ"
      },
      "source": [
        "# model configuration\n",
        "model_params = {\n",
        "    'objective':'tweedie',\n",
        "    'tweedie_variance_power': 1.1,\n",
        "    'metric':'l1',\n",
        "    'num_iterations':1000,\n",
        "    'max_bin': 127,\n",
        "    'bin_construct_sample_cnt':20000000,\n",
        "    'num_leaves': 2**9-1,\n",
        "    'min_data_in_leaf': 2**9-1,\n",
        "    'learning_rate': 0.05,\n",
        "    'feature_fraction':0.8,\n",
        "    'bagging_fraction':0.8,\n",
        "    'bagging_freq':1,\n",
        "    'lambda_l2':0.1,\n",
        "    'boost_from_average': False,\n",
        "    'force_col_wise': True,\n",
        "}\n",
        "\n",
        "time_features = [\n",
        "    \"week_day\",\n",
        "    \"week_day_cos\",\n",
        "    \"week_day_sin\",\n",
        "    \"month_progress\",\n",
        "]"
      ],
      "id": "gz4KW4BCRsCZ",
      "execution_count": 13,
      "outputs": []
    },
    {
      "cell_type": "code",
      "metadata": {
        "id": "NWLFMh5aRsCa"
      },
      "source": [
        "model_kwargs = {\n",
        "    \"model_params\":model_params,\n",
        "    \"time_features\":time_features,\n",
        "    \"exclude_features\":exclude_features,\n",
        "    \"categorical_features\":categorical_features,\n",
        "    \"ts_uid_columns\":[\"sku\",],\n",
        "}"
      ],
      "id": "NWLFMh5aRsCa",
      "execution_count": 14,
      "outputs": []
    },
    {
      "cell_type": "code",
      "metadata": {
        "id": "ELDi830ZRsCb",
        "colab": {
          "base_uri": "https://localhost:8080/",
          "height": 730
        },
        "outputId": "0f29c68b-674c-453f-cad8-aa8e36172384"
      },
      "source": [
        "lgbm_models = list()\n",
        "\n",
        "for fold in [1,0]:\n",
        "    print(\"-\"*75)\n",
        "    print(f\"Training model for fold: {fold}\")\n",
        "    model = LightGBMForecaster(**model_kwargs)\n",
        "    valid_idx = dataset.query(\"fold == @fold\").index\n",
        "\n",
        "    tic = time.time()\n",
        "    model.prepare_features(dataset, valid_idx);\n",
        "    model.train_features = reduce_mem_usage(model.train_features, verbose=True)\n",
        "    model.valid_features = reduce_mem_usage(model.valid_features, verbose=True)\n",
        "    gc.collect()\n",
        "    tac = time.time()\n",
        "    print(f\"Elapsed time for processing features: {(tac-tic)/60} min.\")\n",
        "\n",
        "    tic = time.time()\n",
        "    model.fit(fit_kwargs={\"verbose_eval\":50,})\n",
        "    lgbm_models.append(model)\n",
        "    tac = time.time()\n",
        "    print(f\"Elapsed time for training the model: {(tac-tic)/60} min.\")\n",
        "\n",
        "    lgb.plot_importance(model.model.model, figsize=(10,5))\n",
        "    plt.show()\n"
      ],
      "id": "ELDi830ZRsCb",
      "execution_count": null,
      "outputs": [
        {
          "output_type": "stream",
          "text": [
            "---------------------------------------------------------------------------\n",
            "Training model for fold: 1\n",
            "Mem. usage decreased to 1910.68 Mb (42.8% reduction)\n",
            "Mem. usage decreased to 1406.83 Mb (52.9% reduction)\n",
            "Elapsed time for processing features: 4.875044858455658 min.\n",
            "[LightGBM] [Info] Total Bins 958\n",
            "[LightGBM] [Info] Number of data points in the train set: 18505648, number of used features: 17\n",
            "Training until validation scores don't improve for 30 rounds\n",
            "[50]\tvalid_0's l1: 0.935419\n",
            "[100]\tvalid_0's l1: 0.917309\n",
            "[150]\tvalid_0's l1: 0.914455\n",
            "[200]\tvalid_0's l1: 0.913371\n",
            "[250]\tvalid_0's l1: 0.912782\n",
            "[300]\tvalid_0's l1: 0.912297\n",
            "[350]\tvalid_0's l1: 0.911954\n",
            "[400]\tvalid_0's l1: 0.911513\n",
            "[450]\tvalid_0's l1: 0.911144\n",
            "Early stopping, best iteration is:\n",
            "[466]\tvalid_0's l1: 0.910934\n",
            "Elapsed time for training the model: 23.548625151316326 min.\n"
          ],
          "name": "stdout"
        },
        {
          "output_type": "display_data",
          "data": {
            "image/png": "[encoded data removed]",
            "text/plain": [
              "<Figure size 720x360 with 1 Axes>"
            ]
          },
          "metadata": {
            "tags": [],
            "needs_background": "light"
          }
        },
        {
          "output_type": "stream",
          "text": [
            "---------------------------------------------------------------------------\n",
            "Training model for fold: 0\n"
          ],
          "name": "stdout"
        }
      ]
    },
    {
      "cell_type": "markdown",
      "metadata": {
        "id": "54uNx9AgRsCc"
      },
      "source": [
        "***"
      ],
      "id": "54uNx9AgRsCc"
    }
  ]
}