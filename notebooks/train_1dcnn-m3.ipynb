{
  "nbformat": 4,
  "nbformat_minor": 5,
  "metadata": {
    "kernelspec": {
      "display_name": "Python 3",
      "language": "python",
      "name": "python3"
    },
    "language_info": {
      "codemirror_mode": {
        "name": "ipython",
        "version": 3
      },
      "file_extension": ".py",
      "mimetype": "text/x-python",
      "name": "python",
      "nbconvert_exporter": "python",
      "pygments_lexer": "ipython3",
      "version": "3.7.9"
    },
    "colab": {
      "name": "train_mlp-m3.ipynb",
      "provenance": [],
      "machine_shape": "hm"
    },
    "accelerator": "GPU"
  },
  "cells": [
    {
      "cell_type": "markdown",
      "metadata": {
        "id": "Hb_ugxooQKzc"
      },
      "source": [
        "***\n",
        "## notebook config"
      ],
      "id": "Hb_ugxooQKzc"
    },
    {
      "cell_type": "code",
      "metadata": {
        "id": "cBEOsVNZQKzf"
      },
      "source": [
        "ON_COLAB = True\n",
        "ASSESS = True"
      ],
      "id": "cBEOsVNZQKzf",
      "execution_count": 1,
      "outputs": []
    },
    {
      "cell_type": "code",
      "metadata": {
        "id": "BUGMRE1UQKzg",
        "colab": {
          "base_uri": "https://localhost:8080/"
        },
        "outputId": "f43edec3-98e8-4d54-bd92-2b0fd62f92b4"
      },
      "source": [
        "if ON_COLAB:\n",
        "    from google.colab import drive\n",
        "    from google.colab import files\n",
        "    drive.mount('/content/drive', force_remount=True)\n",
        "    \n",
        "    !pip install --upgrade kaggle > /dev/null 2>&1\n",
        "    !mkdir -p ~/.kaggle/ && cp /content/drive/MyDrive/kaggle/kaggle.json ~/.kaggle/ && chmod 600 ~/.kaggle/kaggle.json\n",
        "    \n",
        "    !free -h\n",
        "    \n",
        "    !pip install --upgrade pytorch-axe > /dev/null 2>&1\n",
        "    !pip install --upgrade torchinfo > /dev/null 2>&1\n",
        "    !pip install --upgrade adabelief_pytorch > /dev/null 2>&1\n",
        "    !pip install --upgrade iterative-stratification > /dev/null 2>&1\n",
        "    !pip install --upgrade category_encoders > /dev/null 2>&1\n",
        "    !pip install --upgrade pytorch-tabnet > /dev/null 2>&1\n"
      ],
      "id": "BUGMRE1UQKzg",
      "execution_count": 2,
      "outputs": [
        {
          "output_type": "stream",
          "name": "stdout",
          "text": [
            "Mounted at /content/drive\n",
            "              total        used        free      shared  buff/cache   available\n",
            "Mem:            25G        613M         22G        1.1M        2.4G         24G\n",
            "Swap:            0B          0B          0B\n"
          ]
        }
      ]
    },
    {
      "cell_type": "code",
      "metadata": {
        "id": "Kasr197eQKzh",
        "colab": {
          "base_uri": "https://localhost:8080/"
        },
        "outputId": "573137cd-6898-4100-8b00-83273a142019"
      },
      "source": [
        "if ON_COLAB:\n",
        "    !kaggle datasets download -d mavillan/meli-2021 --force --unzip\n",
        "    !ls -halt\n",
        "    input_path = \".\"\n",
        "    print(\"input_path:\", input_path)\n",
        "    subs_path = \"/content/drive/MyDrive/meli2021/subs\"\n",
        "    print(\"subs_path:\", subs_path)\n",
        "    results_path = \"/content/drive/MyDrive/meli2021/results\"\n",
        "    print(\"results_path:\", results_path)\n",
        "    utils_path = \"/content/drive/MyDrive/meli2021/utils\"\n",
        "    print(\"results_path:\", results_path)\n",
        "else:\n",
        "    input_path = \"../data\"\n",
        "    print(\"input_path:\", input_path)\n",
        "    subs_path = \"../subs\"\n",
        "    print(\"subs_path:\", subs_path)\n",
        "    results_path = \"../results\"\n",
        "    print(\"results_path:\", results_path)\n",
        "    utils_path = \"../utils\"\n",
        "    print(\"results_path:\", results_path)"
      ],
      "id": "Kasr197eQKzh",
      "execution_count": 3,
      "outputs": [
        {
          "output_type": "stream",
          "name": "stdout",
          "text": [
            "Downloading meli-2021.zip to /content\n",
            " 99% 704M/712M [00:05<00:00, 156MB/s]\n",
            "100% 712M/712M [00:05<00:00, 136MB/s]\n",
            "total 1.9G\n",
            "drwxr-xr-x 1 root root 4.0K Sep  9 02:01 .\n",
            "-rw-r--r-- 1 root root 5.5M Sep  9 02:01 validation_seed2_harder.csv\n",
            "-rw-r--r-- 1 root root 5.5M Sep  9 02:01 validation_seed23_harder.csv\n",
            "-rw-r--r-- 1 root root 5.5M Sep  9 02:01 validation_seed23.csv\n",
            "-rw-r--r-- 1 root root 5.5M Sep  9 02:01 validation_seed2.csv\n",
            "-rw-r--r-- 1 root root 5.5M Sep  9 02:01 validation_seed19_harder.csv\n",
            "-rw-r--r-- 1 root root 5.5M Sep  9 02:01 validation_seed19.csv\n",
            "-rw-r--r-- 1 root root 5.5M Sep  9 02:01 validation_seed17_harder.csv\n",
            "-rw-r--r-- 1 root root 5.5M Sep  9 02:01 validation_seed17.csv\n",
            "-rw-r--r-- 1 root root 6.9M Sep  9 02:01 validation_realstock.csv\n",
            "-rw-r--r-- 1 root root  16M Sep  9 02:01 validation_m3.csv\n",
            "-rw-r--r-- 1 root root 169K Sep  9 02:01 unpredictable.csv\n",
            "-rw-r--r-- 1 root root  78M Sep  9 02:01 train_data.parquet\n",
            "-rw-r--r-- 1 root root  75M Sep  9 02:01 train-m2.parquet\n",
            "-rw-r--r-- 1 root root  70M Sep  9 02:01 train-m1.parquet\n",
            "-rw-r--r-- 1 root root 4.9M Sep  9 02:01 test_data.csv\n",
            "-rw-r--r-- 1 root root  17M Sep  9 02:01 test-m2.parquet\n",
            "-rw-r--r-- 1 root root 252M Sep  9 02:01 test-m1.parquet\n",
            "-rw-r--r-- 1 root root 2.3M Sep  9 02:01 skus_assess_m2.yaml\n",
            "-rw-r--r-- 1 root root 4.1M Sep  9 02:01 skus_assess_m1.yaml\n",
            "-rw-r--r-- 1 root root  16M Sep  9 02:01 scales.csv\n",
            "-rw-r--r-- 1 root root  94M Sep  9 02:01 sample_submission.csv\n",
            "-rw-r--r-- 1 root root 556M Sep  9 02:01 preds_m1_lgbm_sub21.csv\n",
            "-rw-r--r-- 1 root root 510M Sep  9 02:01 oof_preds_lgbm-m1.csv\n",
            "-rw-r--r-- 1 root root  40M Sep  9 02:01 metadata.csv\n",
            "-rw-r--r-- 1 root root 130M Sep  9 02:01 items_static_metadata_full.jl\n",
            "drwx------ 6 root root 4.0K Sep  9 02:01 drive\n",
            "drwxr-xr-x 1 root root 4.0K Sep  9 01:53 ..\n",
            "drwxr-xr-x 1 root root 4.0K Sep  1 19:26 sample_data\n",
            "drwxr-xr-x 4 root root 4.0K Sep  1 19:26 .config\n",
            "input_path: .\n",
            "subs_path: /content/drive/MyDrive/meli2021/subs\n",
            "results_path: /content/drive/MyDrive/meli2021/results\n",
            "results_path: /content/drive/MyDrive/meli2021/results\n"
          ]
        }
      ]
    },
    {
      "cell_type": "markdown",
      "metadata": {
        "id": "3KPQEBqcQKzi"
      },
      "source": [
        "***"
      ],
      "id": "3KPQEBqcQKzi"
    },
    {
      "cell_type": "code",
      "metadata": {
        "id": "ZpxIf2ZnQKzi",
        "colab": {
          "base_uri": "https://localhost:8080/"
        },
        "outputId": "a039dbbe-021d-4750-e071-8991fdd4179c"
      },
      "source": [
        "import numpy as np\n",
        "import pandas as pd\n",
        "import matplotlib.pyplot as plt\n",
        "import seaborn as sns\n",
        "import gc\n",
        "from glob import glob\n",
        "\n",
        "from iterstrat.ml_stratifiers import MultilabelStratifiedKFold\n",
        "import category_encoders as ce\n",
        "\n",
        "import torch\n",
        "import torchinfo\n",
        "from torch import nn\n",
        "from torch.utils.data import DataLoader,TensorDataset\n",
        "from torch.optim.lr_scheduler import ReduceLROnPlateau\n",
        "from pytorch_tabnet.sparsemax import Entmax15,Sparsemax\n",
        "from adabelief_pytorch import AdaBelief\n",
        "import pytorch_axe as pax\n",
        "import time\n",
        "from tqdm import tqdm\n",
        "\n",
        "import sys\n",
        "sys.path.append(utils_path)\n",
        "from features import Featurador\n",
        "from inventory import IDP\n",
        "\n",
        "pd.set_option('display.max_columns', None)"
      ],
      "id": "ZpxIf2ZnQKzi",
      "execution_count": 4,
      "outputs": [
        {
          "output_type": "stream",
          "name": "stderr",
          "text": [
            "/usr/local/lib/python3.7/dist-packages/statsmodels/tools/_testing.py:19: FutureWarning: pandas.util.testing is deprecated. Use the functions in the public API at pandas.testing instead.\n",
            "  import pandas.util.testing as tm\n"
          ]
        }
      ]
    },
    {
      "cell_type": "code",
      "metadata": {
        "id": "AzCTSAb-QKzj",
        "colab": {
          "base_uri": "https://localhost:8080/"
        },
        "outputId": "966366e4-a916-4f09-8fa4-e609c189221f"
      },
      "source": [
        "SEED = 19\n",
        "SUB_NBR = 26\n",
        "print(SUB_NBR)"
      ],
      "id": "AzCTSAb-QKzj",
      "execution_count": 5,
      "outputs": [
        {
          "output_type": "stream",
          "name": "stdout",
          "text": [
            "26\n"
          ]
        }
      ]
    },
    {
      "cell_type": "code",
      "metadata": {
        "id": "Abv4NKvZQKzk"
      },
      "source": [
        "def set_seed(seed):\n",
        "    np.random.seed(seed)\n",
        "    torch.manual_seed(seed)\n",
        "    torch.cuda.manual_seed(seed)\n",
        "    torch.cuda.manual_seed_all(seed)\n",
        "    torch.backends.cudnn.deterministic = True\n",
        "    \n",
        "def compute_rps(preds, targets):\n",
        "    return np.mean(np.sum((targets - preds)**2, axis=1))\n",
        "    \n",
        "set_seed(SEED)"
      ],
      "id": "Abv4NKvZQKzk",
      "execution_count": 6,
      "outputs": []
    },
    {
      "cell_type": "code",
      "metadata": {
        "id": "e66hFtXZQKzk",
        "colab": {
          "base_uri": "https://localhost:8080/"
        },
        "outputId": "aa164b8e-86dd-465b-f491-27b4060ad5f0"
      },
      "source": [
        "# device in which the model will be trained\n",
        "device = torch.device(\"cuda\" if torch.cuda.is_available() else \"cpu\")\n",
        "device"
      ],
      "id": "e66hFtXZQKzk",
      "execution_count": 7,
      "outputs": [
        {
          "output_type": "execute_result",
          "data": {
            "text/plain": [
              "device(type='cuda')"
            ]
          },
          "metadata": {},
          "execution_count": 7
        }
      ]
    },
    {
      "cell_type": "markdown",
      "metadata": {
        "id": "zVH07oXBQKzl"
      },
      "source": [
        "***\n",
        "## data preparation"
      ],
      "id": "zVH07oXBQKzl"
    },
    {
      "cell_type": "code",
      "metadata": {
        "id": "TSzanY9DQKzl"
      },
      "source": [
        "limit_date = \"2021-03-01\""
      ],
      "id": "TSzanY9DQKzl",
      "execution_count": 8,
      "outputs": []
    },
    {
      "cell_type": "code",
      "metadata": {
        "id": "8jfDQBOoQKzm",
        "colab": {
          "base_uri": "https://localhost:8080/"
        },
        "outputId": "90f9e745-2399-478b-907c-45e71c8e679f"
      },
      "source": [
        "oof = pd.read_csv(f\"{results_path}/oof_preds_lgbm-m1.csv\")\n",
        "oof_skus = oof.sku.unique()\n",
        "len(oof_skus)"
      ],
      "id": "8jfDQBOoQKzm",
      "execution_count": 9,
      "outputs": [
        {
          "output_type": "execute_result",
          "data": {
            "text/plain": [
              "482635"
            ]
          },
          "metadata": {},
          "execution_count": 9
        }
      ]
    },
    {
      "cell_type": "code",
      "metadata": {
        "id": "y_XIjRwzQKzm",
        "colab": {
          "base_uri": "https://localhost:8080/"
        },
        "outputId": "7bd60ae6-803d-45ec-ed44-dbd601c5dcf2"
      },
      "source": [
        "dataset = (\n",
        "    pd.read_parquet(f\"{input_path}/train-m1.parquet\")\n",
        "    .query(\"sku in @oof_skus\")\n",
        "    .query(\"date <= @limit_date\")\n",
        "    .sort_values([\"sku\",\"date\"])\n",
        "    .reset_index(drop=True)\n",
        ")\n",
        "dataset.sku.nunique()"
      ],
      "id": "y_XIjRwzQKzm",
      "execution_count": 10,
      "outputs": [
        {
          "output_type": "execute_result",
          "data": {
            "text/plain": [
              "482635"
            ]
          },
          "metadata": {},
          "execution_count": 10
        }
      ]
    },
    {
      "cell_type": "code",
      "metadata": {
        "id": "cB1KCegzQKzm",
        "colab": {
          "base_uri": "https://localhost:8080/"
        },
        "outputId": "9d698c47-9555-4a7f-e821-840842b15902"
      },
      "source": [
        "raw = (\n",
        "    pd.read_parquet(\n",
        "        f\"{input_path}/train_data.parquet\", \n",
        "        columns=[\"sku\", \"date\", \"sold_quantity\", \"minutes_active\"]\n",
        "    )\n",
        "    .query(\"sku in @oof_skus\")\n",
        "    .sort_values([\"sku\",\"date\"])\n",
        "    .reset_index(drop=True)\n",
        ")\n",
        "metadata = pd.read_csv(f\"{input_path}/metadata.csv\", usecols=[\"sku\",\"item_domain_id\",\"site_id\"])\n",
        "raw = pd.merge(raw, metadata, how=\"inner\", on=\"sku\")\n",
        "raw.sku.nunique()"
      ],
      "id": "cB1KCegzQKzm",
      "execution_count": 11,
      "outputs": [
        {
          "output_type": "execute_result",
          "data": {
            "text/plain": [
              "482635"
            ]
          },
          "metadata": {},
          "execution_count": 11
        }
      ]
    },
    {
      "cell_type": "code",
      "metadata": {
        "id": "uXdhhksFQKzn",
        "colab": {
          "base_uri": "https://localhost:8080/"
        },
        "outputId": "aabc51bb-3091-4d90-f9f4-c63dcf279d6c"
      },
      "source": [
        "valid = (\n",
        "    pd.read_csv(f\"{input_path}/validation_m3.csv\")\n",
        "    .query(\"sku in @oof_skus\")\n",
        "    .reset_index(drop=True)\n",
        ")\n",
        "valid.sku.nunique()"
      ],
      "id": "uXdhhksFQKzn",
      "execution_count": 12,
      "outputs": [
        {
          "output_type": "execute_result",
          "data": {
            "text/plain": [
              "482635"
            ]
          },
          "metadata": {},
          "execution_count": 12
        }
      ]
    },
    {
      "cell_type": "markdown",
      "metadata": {
        "id": "_GDCxaImQKzn"
      },
      "source": [
        "### Build features at sku level "
      ],
      "id": "_GDCxaImQKzn"
    },
    {
      "cell_type": "code",
      "metadata": {
        "id": "E0AFL0ghQKzn"
      },
      "source": [
        "feat = Featurador(raw)\n",
        "feat.fit(left_limit=\"2021-02-01\", right_limit=\"2021-03-01\")\n",
        "dataset = feat.transform(dataset)"
      ],
      "id": "E0AFL0ghQKzn",
      "execution_count": 15,
      "outputs": []
    },
    {
      "cell_type": "code",
      "metadata": {
        "id": "05vo6ZxwQKzn"
      },
      "source": [
        "dataset[\"was_active\"] = dataset.eval(\"minutes_active > 0\")\n",
        "dataset[\"had_sales\"] = dataset.eval(\"sold_quantity > 0\")\n",
        "\n",
        "dataset[\"tr_points\"] = dataset.groupby(\"sku\")[\"date\"].transform(\"count\")\n",
        "dataset[\"completeness\"] = dataset.tr_points / (dataset.date.nunique())\n",
        "\n",
        "dataset[\"minutes_rate1\"] = dataset.groupby(\"sku\")[\"minutes_active\"].transform(\"sum\") / (dataset.tr_points*1440)\n",
        "dataset[\"minutes_rate2\"] = dataset.groupby(\"sku\")[\"minutes_active\"].transform(\"sum\") / (dataset.date.nunique()*1440)\n",
        "\n",
        "dataset[\"activity_rate1\"] = dataset.groupby(\"sku\")[\"was_active\"].transform(\"sum\") / (dataset.tr_points)\n",
        "dataset[\"activity_rate2\"] = dataset.groupby(\"sku\")[\"was_active\"].transform(\"sum\") / (dataset.date.nunique())\n",
        "\n",
        "dataset[\"sales_rate1\"] = dataset.groupby(\"sku\")[\"had_sales\"].transform(\"sum\") / (dataset.tr_points)\n",
        "dataset[\"sales_rate2\"] = dataset.groupby(\"sku\")[\"had_sales\"].transform(\"sum\") / (dataset.date.nunique())\n",
        "\n",
        "dataset[\"q_mean_raw\"] = dataset.groupby(\"sku\")[\"sold_quantity\"].transform(\"mean\")\n",
        "dataset[\"q_std_raw\"] = dataset.groupby(\"sku\")[\"sold_quantity\"].transform(\"std\")"
      ],
      "id": "05vo6ZxwQKzn",
      "execution_count": 16,
      "outputs": []
    },
    {
      "cell_type": "code",
      "metadata": {
        "id": "4xeK5tYrQKzo"
      },
      "source": [
        "# imputation of nan values\n",
        "idx = dataset[dataset[\"q_mean\"].isna()].index\n",
        "dataset.loc[idx, \"q_mean\"] = dataset.q_mean.median()\n",
        "\n",
        "idx = dataset[dataset[\"q_std\"].isna()].index\n",
        "dataset.loc[idx, \"q_std\"] = dataset.q_std.median()\n",
        "\n",
        "idx = dataset[dataset[\"q_mean_raw\"].isna()].index\n",
        "dataset.loc[idx, \"q_mean_raw\"] = dataset.q_mean_raw.median()\n",
        "\n",
        "idx = dataset[dataset[\"q_std_raw\"].isna()].index\n",
        "dataset.loc[idx, \"q_std_raw\"] = dataset.q_std_raw.median()"
      ],
      "id": "4xeK5tYrQKzo",
      "execution_count": 17,
      "outputs": []
    },
    {
      "cell_type": "code",
      "metadata": {
        "id": "N157YoH8QKzo",
        "colab": {
          "base_uri": "https://localhost:8080/"
        },
        "outputId": "3761be17-120a-4caa-85b5-9404cdef72cf"
      },
      "source": [
        "dataset[\"std_days\"] = dataset.eval(\"q_std / q_mean\")\n",
        "idx = dataset[dataset[\"std_days\"].isna()].index\n",
        "dataset.loc[idx, \"std_days\"] = dataset.std_days.median()\n",
        "print(len(idx))\n",
        "\n",
        "dataset[\"std_days_raw\"] = dataset.eval(\"q_std_raw / q_mean_raw\")\n",
        "idx = dataset[dataset[\"std_days_raw\"].isna()].index\n",
        "dataset.loc[idx, \"std_days_raw\"] = dataset.std_days_raw.median()\n",
        "print(len(idx))"
      ],
      "id": "N157YoH8QKzo",
      "execution_count": 18,
      "outputs": [
        {
          "output_type": "stream",
          "name": "stdout",
          "text": [
            "0\n",
            "0\n"
          ]
        }
      ]
    },
    {
      "cell_type": "code",
      "metadata": {
        "id": "3G-M3PUFQKzo",
        "colab": {
          "base_uri": "https://localhost:8080/",
          "height": 632
        },
        "outputId": "1523aa3d-37ae-48ff-f3dd-a557bf2c5e9e"
      },
      "source": [
        "dataset = dataset.drop_duplicates(subset=[\"sku\"], ignore_index=True)\n",
        "display(dataset)\n",
        "gc.collect()"
      ],
      "id": "3G-M3PUFQKzo",
      "execution_count": 20,
      "outputs": [
        {
          "output_type": "display_data",
          "data": {
            "text/html": [
              "<div>\n",
              "<style scoped>\n",
              "    .dataframe tbody tr th:only-of-type {\n",
              "        vertical-align: middle;\n",
              "    }\n",
              "\n",
              "    .dataframe tbody tr th {\n",
              "        vertical-align: top;\n",
              "    }\n",
              "\n",
              "    .dataframe thead th {\n",
              "        text-align: right;\n",
              "    }\n",
              "</style>\n",
              "<table border=\"1\" class=\"dataframe\">\n",
              "  <thead>\n",
              "    <tr style=\"text-align: right;\">\n",
              "      <th></th>\n",
              "      <th>sku</th>\n",
              "      <th>date</th>\n",
              "      <th>sold_quantity</th>\n",
              "      <th>current_price</th>\n",
              "      <th>listing_type</th>\n",
              "      <th>shipping_logistic_type</th>\n",
              "      <th>shipping_payment</th>\n",
              "      <th>minutes_active</th>\n",
              "      <th>item_domain_id</th>\n",
              "      <th>item_id</th>\n",
              "      <th>site_id</th>\n",
              "      <th>product_id</th>\n",
              "      <th>product_family_id</th>\n",
              "      <th>item_domain_id_glob</th>\n",
              "      <th>product_id_glob</th>\n",
              "      <th>product_family_id_glob</th>\n",
              "      <th>q_mean</th>\n",
              "      <th>q_std</th>\n",
              "      <th>was_active</th>\n",
              "      <th>had_sales</th>\n",
              "      <th>tr_points</th>\n",
              "      <th>completeness</th>\n",
              "      <th>minutes_rate1</th>\n",
              "      <th>minutes_rate2</th>\n",
              "      <th>activity_rate1</th>\n",
              "      <th>activity_rate2</th>\n",
              "      <th>sales_rate1</th>\n",
              "      <th>sales_rate2</th>\n",
              "      <th>q_mean_raw</th>\n",
              "      <th>q_std_raw</th>\n",
              "      <th>std_days</th>\n",
              "      <th>std_days_raw</th>\n",
              "    </tr>\n",
              "  </thead>\n",
              "  <tbody>\n",
              "    <tr>\n",
              "      <th>0</th>\n",
              "      <td>1</td>\n",
              "      <td>2021-02-01</td>\n",
              "      <td>0</td>\n",
              "      <td>24.462000</td>\n",
              "      <td>premium</td>\n",
              "      <td>fulfillment</td>\n",
              "      <td>free_shipping</td>\n",
              "      <td>0.0</td>\n",
              "      <td>MLB-SURFBOARD_RACKS</td>\n",
              "      <td>300279</td>\n",
              "      <td>MLB</td>\n",
              "      <td>None</td>\n",
              "      <td>None</td>\n",
              "      <td>SURFBOARD_RACKS</td>\n",
              "      <td>None</td>\n",
              "      <td>None</td>\n",
              "      <td>0.851802</td>\n",
              "      <td>0.850460</td>\n",
              "      <td>False</td>\n",
              "      <td>False</td>\n",
              "      <td>29</td>\n",
              "      <td>1.0</td>\n",
              "      <td>0.270289</td>\n",
              "      <td>0.270289</td>\n",
              "      <td>0.275862</td>\n",
              "      <td>0.275862</td>\n",
              "      <td>0.137931</td>\n",
              "      <td>0.137931</td>\n",
              "      <td>0.241379</td>\n",
              "      <td>0.635563</td>\n",
              "      <td>0.998424</td>\n",
              "      <td>2.633049</td>\n",
              "    </tr>\n",
              "    <tr>\n",
              "      <th>1</th>\n",
              "      <td>3</td>\n",
              "      <td>2021-02-01</td>\n",
              "      <td>0</td>\n",
              "      <td>19.950001</td>\n",
              "      <td>premium</td>\n",
              "      <td>fulfillment</td>\n",
              "      <td>free_shipping</td>\n",
              "      <td>1440.0</td>\n",
              "      <td>MLM-RINGS</td>\n",
              "      <td>298603</td>\n",
              "      <td>MLM</td>\n",
              "      <td>None</td>\n",
              "      <td>None</td>\n",
              "      <td>RINGS</td>\n",
              "      <td>None</td>\n",
              "      <td>None</td>\n",
              "      <td>0.342646</td>\n",
              "      <td>0.225240</td>\n",
              "      <td>True</td>\n",
              "      <td>False</td>\n",
              "      <td>29</td>\n",
              "      <td>1.0</td>\n",
              "      <td>0.702826</td>\n",
              "      <td>0.702826</td>\n",
              "      <td>0.724138</td>\n",
              "      <td>0.724138</td>\n",
              "      <td>0.241379</td>\n",
              "      <td>0.241379</td>\n",
              "      <td>0.241379</td>\n",
              "      <td>0.435494</td>\n",
              "      <td>0.657354</td>\n",
              "      <td>1.804190</td>\n",
              "    </tr>\n",
              "    <tr>\n",
              "      <th>2</th>\n",
              "      <td>4</td>\n",
              "      <td>2021-02-01</td>\n",
              "      <td>0</td>\n",
              "      <td>14.382000</td>\n",
              "      <td>premium</td>\n",
              "      <td>drop_off</td>\n",
              "      <td>paid_shipping</td>\n",
              "      <td>1440.0</td>\n",
              "      <td>MLB-WEBCAMS</td>\n",
              "      <td>345949</td>\n",
              "      <td>MLB</td>\n",
              "      <td>None</td>\n",
              "      <td>None</td>\n",
              "      <td>WEBCAMS</td>\n",
              "      <td>None</td>\n",
              "      <td>None</td>\n",
              "      <td>1.537417</td>\n",
              "      <td>6.382201</td>\n",
              "      <td>True</td>\n",
              "      <td>False</td>\n",
              "      <td>29</td>\n",
              "      <td>1.0</td>\n",
              "      <td>0.658892</td>\n",
              "      <td>0.658892</td>\n",
              "      <td>0.827586</td>\n",
              "      <td>0.827586</td>\n",
              "      <td>0.482759</td>\n",
              "      <td>0.482759</td>\n",
              "      <td>1.275862</td>\n",
              "      <td>2.519872</td>\n",
              "      <td>4.151250</td>\n",
              "      <td>1.975035</td>\n",
              "    </tr>\n",
              "    <tr>\n",
              "      <th>3</th>\n",
              "      <td>6</td>\n",
              "      <td>2021-02-01</td>\n",
              "      <td>0</td>\n",
              "      <td>24.500000</td>\n",
              "      <td>classic</td>\n",
              "      <td>fulfillment</td>\n",
              "      <td>free_shipping</td>\n",
              "      <td>1440.0</td>\n",
              "      <td>MLM-TABLET_CASES</td>\n",
              "      <td>345180</td>\n",
              "      <td>MLM</td>\n",
              "      <td>None</td>\n",
              "      <td>None</td>\n",
              "      <td>TABLET_CASES</td>\n",
              "      <td>None</td>\n",
              "      <td>None</td>\n",
              "      <td>0.655172</td>\n",
              "      <td>0.708680</td>\n",
              "      <td>True</td>\n",
              "      <td>False</td>\n",
              "      <td>29</td>\n",
              "      <td>1.0</td>\n",
              "      <td>1.000000</td>\n",
              "      <td>1.000000</td>\n",
              "      <td>1.000000</td>\n",
              "      <td>1.000000</td>\n",
              "      <td>0.448276</td>\n",
              "      <td>0.448276</td>\n",
              "      <td>0.655172</td>\n",
              "      <td>0.856732</td>\n",
              "      <td>1.081670</td>\n",
              "      <td>1.307644</td>\n",
              "    </tr>\n",
              "    <tr>\n",
              "      <th>4</th>\n",
              "      <td>7</td>\n",
              "      <td>2021-02-01</td>\n",
              "      <td>0</td>\n",
              "      <td>17.802000</td>\n",
              "      <td>classic</td>\n",
              "      <td>fulfillment</td>\n",
              "      <td>paid_shipping</td>\n",
              "      <td>0.0</td>\n",
              "      <td>MLB-BEERS</td>\n",
              "      <td>478738</td>\n",
              "      <td>MLB</td>\n",
              "      <td>None</td>\n",
              "      <td>None</td>\n",
              "      <td>BEERS</td>\n",
              "      <td>None</td>\n",
              "      <td>None</td>\n",
              "      <td>2.010820</td>\n",
              "      <td>8.267918</td>\n",
              "      <td>False</td>\n",
              "      <td>False</td>\n",
              "      <td>29</td>\n",
              "      <td>1.0</td>\n",
              "      <td>0.465889</td>\n",
              "      <td>0.465889</td>\n",
              "      <td>0.517241</td>\n",
              "      <td>0.517241</td>\n",
              "      <td>0.275862</td>\n",
              "      <td>0.275862</td>\n",
              "      <td>0.965517</td>\n",
              "      <td>2.243765</td>\n",
              "      <td>4.111714</td>\n",
              "      <td>2.323900</td>\n",
              "    </tr>\n",
              "    <tr>\n",
              "      <th>...</th>\n",
              "      <td>...</td>\n",
              "      <td>...</td>\n",
              "      <td>...</td>\n",
              "      <td>...</td>\n",
              "      <td>...</td>\n",
              "      <td>...</td>\n",
              "      <td>...</td>\n",
              "      <td>...</td>\n",
              "      <td>...</td>\n",
              "      <td>...</td>\n",
              "      <td>...</td>\n",
              "      <td>...</td>\n",
              "      <td>...</td>\n",
              "      <td>...</td>\n",
              "      <td>...</td>\n",
              "      <td>...</td>\n",
              "      <td>...</td>\n",
              "      <td>...</td>\n",
              "      <td>...</td>\n",
              "      <td>...</td>\n",
              "      <td>...</td>\n",
              "      <td>...</td>\n",
              "      <td>...</td>\n",
              "      <td>...</td>\n",
              "      <td>...</td>\n",
              "      <td>...</td>\n",
              "      <td>...</td>\n",
              "      <td>...</td>\n",
              "      <td>...</td>\n",
              "      <td>...</td>\n",
              "      <td>...</td>\n",
              "      <td>...</td>\n",
              "    </tr>\n",
              "    <tr>\n",
              "      <th>482630</th>\n",
              "      <td>660911</td>\n",
              "      <td>2021-02-01</td>\n",
              "      <td>0</td>\n",
              "      <td>2.575800</td>\n",
              "      <td>classic</td>\n",
              "      <td>fulfillment</td>\n",
              "      <td>paid_shipping</td>\n",
              "      <td>1440.0</td>\n",
              "      <td>MLB-CELLPHONE_PARTS</td>\n",
              "      <td>320792</td>\n",
              "      <td>MLB</td>\n",
              "      <td>None</td>\n",
              "      <td>None</td>\n",
              "      <td>CELLPHONE_PARTS</td>\n",
              "      <td>None</td>\n",
              "      <td>None</td>\n",
              "      <td>0.258822</td>\n",
              "      <td>0.269248</td>\n",
              "      <td>True</td>\n",
              "      <td>False</td>\n",
              "      <td>29</td>\n",
              "      <td>1.0</td>\n",
              "      <td>0.890853</td>\n",
              "      <td>0.890853</td>\n",
              "      <td>0.931034</td>\n",
              "      <td>0.931034</td>\n",
              "      <td>0.206897</td>\n",
              "      <td>0.206897</td>\n",
              "      <td>0.241379</td>\n",
              "      <td>0.510964</td>\n",
              "      <td>1.040283</td>\n",
              "      <td>2.116849</td>\n",
              "    </tr>\n",
              "    <tr>\n",
              "      <th>482631</th>\n",
              "      <td>660912</td>\n",
              "      <td>2021-02-01</td>\n",
              "      <td>0</td>\n",
              "      <td>4.950000</td>\n",
              "      <td>classic</td>\n",
              "      <td>fulfillment</td>\n",
              "      <td>paid_shipping</td>\n",
              "      <td>1440.0</td>\n",
              "      <td>MLM-AUTOMOTIVE_EMBLEMS</td>\n",
              "      <td>90441</td>\n",
              "      <td>MLM</td>\n",
              "      <td>None</td>\n",
              "      <td>None</td>\n",
              "      <td>AUTOMOTIVE_EMBLEMS</td>\n",
              "      <td>None</td>\n",
              "      <td>None</td>\n",
              "      <td>0.282363</td>\n",
              "      <td>0.741740</td>\n",
              "      <td>True</td>\n",
              "      <td>False</td>\n",
              "      <td>29</td>\n",
              "      <td>1.0</td>\n",
              "      <td>0.767555</td>\n",
              "      <td>0.767555</td>\n",
              "      <td>0.793103</td>\n",
              "      <td>0.793103</td>\n",
              "      <td>0.137931</td>\n",
              "      <td>0.137931</td>\n",
              "      <td>0.241379</td>\n",
              "      <td>0.786274</td>\n",
              "      <td>2.626903</td>\n",
              "      <td>3.257420</td>\n",
              "    </tr>\n",
              "    <tr>\n",
              "      <th>482632</th>\n",
              "      <td>660913</td>\n",
              "      <td>2021-02-01</td>\n",
              "      <td>0</td>\n",
              "      <td>26.982000</td>\n",
              "      <td>premium</td>\n",
              "      <td>drop_off</td>\n",
              "      <td>free_shipping</td>\n",
              "      <td>1440.0</td>\n",
              "      <td>MLB-SOFA_AND_FUTON_COVERS</td>\n",
              "      <td>202580</td>\n",
              "      <td>MLB</td>\n",
              "      <td>None</td>\n",
              "      <td>None</td>\n",
              "      <td>SOFA_AND_FUTON_COVERS</td>\n",
              "      <td>None</td>\n",
              "      <td>None</td>\n",
              "      <td>0.034491</td>\n",
              "      <td>0.033302</td>\n",
              "      <td>True</td>\n",
              "      <td>False</td>\n",
              "      <td>29</td>\n",
              "      <td>1.0</td>\n",
              "      <td>0.999751</td>\n",
              "      <td>0.999751</td>\n",
              "      <td>1.000000</td>\n",
              "      <td>1.000000</td>\n",
              "      <td>0.034483</td>\n",
              "      <td>0.034483</td>\n",
              "      <td>0.034483</td>\n",
              "      <td>0.185695</td>\n",
              "      <td>0.965509</td>\n",
              "      <td>5.385165</td>\n",
              "    </tr>\n",
              "    <tr>\n",
              "      <th>482633</th>\n",
              "      <td>660914</td>\n",
              "      <td>2021-02-01</td>\n",
              "      <td>0</td>\n",
              "      <td>9.178200</td>\n",
              "      <td>premium</td>\n",
              "      <td>fulfillment</td>\n",
              "      <td>free_shipping</td>\n",
              "      <td>0.0</td>\n",
              "      <td>MLB-SNEAKERS</td>\n",
              "      <td>490874</td>\n",
              "      <td>MLB</td>\n",
              "      <td>None</td>\n",
              "      <td>None</td>\n",
              "      <td>SNEAKERS</td>\n",
              "      <td>None</td>\n",
              "      <td>None</td>\n",
              "      <td>0.615970</td>\n",
              "      <td>1.386362</td>\n",
              "      <td>False</td>\n",
              "      <td>False</td>\n",
              "      <td>29</td>\n",
              "      <td>1.0</td>\n",
              "      <td>0.839718</td>\n",
              "      <td>0.839718</td>\n",
              "      <td>0.862069</td>\n",
              "      <td>0.862069</td>\n",
              "      <td>0.275862</td>\n",
              "      <td>0.275862</td>\n",
              "      <td>0.517241</td>\n",
              "      <td>1.121883</td>\n",
              "      <td>2.250696</td>\n",
              "      <td>2.168973</td>\n",
              "    </tr>\n",
              "    <tr>\n",
              "      <th>482634</th>\n",
              "      <td>660915</td>\n",
              "      <td>2021-02-01</td>\n",
              "      <td>0</td>\n",
              "      <td>7.499000</td>\n",
              "      <td>premium</td>\n",
              "      <td>fulfillment</td>\n",
              "      <td>paid_shipping</td>\n",
              "      <td>0.0</td>\n",
              "      <td>MLM-SURGICAL_MASKS</td>\n",
              "      <td>423179</td>\n",
              "      <td>MLM</td>\n",
              "      <td>None</td>\n",
              "      <td>None</td>\n",
              "      <td>SURGICAL_MASKS</td>\n",
              "      <td>None</td>\n",
              "      <td>None</td>\n",
              "      <td>2.545355</td>\n",
              "      <td>3.873284</td>\n",
              "      <td>False</td>\n",
              "      <td>False</td>\n",
              "      <td>29</td>\n",
              "      <td>1.0</td>\n",
              "      <td>0.491065</td>\n",
              "      <td>0.491065</td>\n",
              "      <td>0.551724</td>\n",
              "      <td>0.551724</td>\n",
              "      <td>0.482759</td>\n",
              "      <td>0.482759</td>\n",
              "      <td>1.379310</td>\n",
              "      <td>1.916354</td>\n",
              "      <td>1.521707</td>\n",
              "      <td>1.389357</td>\n",
              "    </tr>\n",
              "  </tbody>\n",
              "</table>\n",
              "<p>482635 rows × 32 columns</p>\n",
              "</div>"
            ],
            "text/plain": [
              "           sku       date  sold_quantity  current_price listing_type  \\\n",
              "0            1 2021-02-01              0      24.462000      premium   \n",
              "1            3 2021-02-01              0      19.950001      premium   \n",
              "2            4 2021-02-01              0      14.382000      premium   \n",
              "3            6 2021-02-01              0      24.500000      classic   \n",
              "4            7 2021-02-01              0      17.802000      classic   \n",
              "...        ...        ...            ...            ...          ...   \n",
              "482630  660911 2021-02-01              0       2.575800      classic   \n",
              "482631  660912 2021-02-01              0       4.950000      classic   \n",
              "482632  660913 2021-02-01              0      26.982000      premium   \n",
              "482633  660914 2021-02-01              0       9.178200      premium   \n",
              "482634  660915 2021-02-01              0       7.499000      premium   \n",
              "\n",
              "       shipping_logistic_type shipping_payment  minutes_active  \\\n",
              "0                 fulfillment    free_shipping             0.0   \n",
              "1                 fulfillment    free_shipping          1440.0   \n",
              "2                    drop_off    paid_shipping          1440.0   \n",
              "3                 fulfillment    free_shipping          1440.0   \n",
              "4                 fulfillment    paid_shipping             0.0   \n",
              "...                       ...              ...             ...   \n",
              "482630            fulfillment    paid_shipping          1440.0   \n",
              "482631            fulfillment    paid_shipping          1440.0   \n",
              "482632               drop_off    free_shipping          1440.0   \n",
              "482633            fulfillment    free_shipping             0.0   \n",
              "482634            fulfillment    paid_shipping             0.0   \n",
              "\n",
              "                   item_domain_id  item_id site_id product_id  \\\n",
              "0             MLB-SURFBOARD_RACKS   300279     MLB       None   \n",
              "1                       MLM-RINGS   298603     MLM       None   \n",
              "2                     MLB-WEBCAMS   345949     MLB       None   \n",
              "3                MLM-TABLET_CASES   345180     MLM       None   \n",
              "4                       MLB-BEERS   478738     MLB       None   \n",
              "...                           ...      ...     ...        ...   \n",
              "482630        MLB-CELLPHONE_PARTS   320792     MLB       None   \n",
              "482631     MLM-AUTOMOTIVE_EMBLEMS    90441     MLM       None   \n",
              "482632  MLB-SOFA_AND_FUTON_COVERS   202580     MLB       None   \n",
              "482633               MLB-SNEAKERS   490874     MLB       None   \n",
              "482634         MLM-SURGICAL_MASKS   423179     MLM       None   \n",
              "\n",
              "       product_family_id    item_domain_id_glob product_id_glob  \\\n",
              "0                   None        SURFBOARD_RACKS            None   \n",
              "1                   None                  RINGS            None   \n",
              "2                   None                WEBCAMS            None   \n",
              "3                   None           TABLET_CASES            None   \n",
              "4                   None                  BEERS            None   \n",
              "...                  ...                    ...             ...   \n",
              "482630              None        CELLPHONE_PARTS            None   \n",
              "482631              None     AUTOMOTIVE_EMBLEMS            None   \n",
              "482632              None  SOFA_AND_FUTON_COVERS            None   \n",
              "482633              None               SNEAKERS            None   \n",
              "482634              None         SURGICAL_MASKS            None   \n",
              "\n",
              "       product_family_id_glob    q_mean     q_std  was_active  had_sales  \\\n",
              "0                        None  0.851802  0.850460       False      False   \n",
              "1                        None  0.342646  0.225240        True      False   \n",
              "2                        None  1.537417  6.382201        True      False   \n",
              "3                        None  0.655172  0.708680        True      False   \n",
              "4                        None  2.010820  8.267918       False      False   \n",
              "...                       ...       ...       ...         ...        ...   \n",
              "482630                   None  0.258822  0.269248        True      False   \n",
              "482631                   None  0.282363  0.741740        True      False   \n",
              "482632                   None  0.034491  0.033302        True      False   \n",
              "482633                   None  0.615970  1.386362       False      False   \n",
              "482634                   None  2.545355  3.873284       False      False   \n",
              "\n",
              "        tr_points  completeness  minutes_rate1  minutes_rate2  activity_rate1  \\\n",
              "0              29           1.0       0.270289       0.270289        0.275862   \n",
              "1              29           1.0       0.702826       0.702826        0.724138   \n",
              "2              29           1.0       0.658892       0.658892        0.827586   \n",
              "3              29           1.0       1.000000       1.000000        1.000000   \n",
              "4              29           1.0       0.465889       0.465889        0.517241   \n",
              "...           ...           ...            ...            ...             ...   \n",
              "482630         29           1.0       0.890853       0.890853        0.931034   \n",
              "482631         29           1.0       0.767555       0.767555        0.793103   \n",
              "482632         29           1.0       0.999751       0.999751        1.000000   \n",
              "482633         29           1.0       0.839718       0.839718        0.862069   \n",
              "482634         29           1.0       0.491065       0.491065        0.551724   \n",
              "\n",
              "        activity_rate2  sales_rate1  sales_rate2  q_mean_raw  q_std_raw  \\\n",
              "0             0.275862     0.137931     0.137931    0.241379   0.635563   \n",
              "1             0.724138     0.241379     0.241379    0.241379   0.435494   \n",
              "2             0.827586     0.482759     0.482759    1.275862   2.519872   \n",
              "3             1.000000     0.448276     0.448276    0.655172   0.856732   \n",
              "4             0.517241     0.275862     0.275862    0.965517   2.243765   \n",
              "...                ...          ...          ...         ...        ...   \n",
              "482630        0.931034     0.206897     0.206897    0.241379   0.510964   \n",
              "482631        0.793103     0.137931     0.137931    0.241379   0.786274   \n",
              "482632        1.000000     0.034483     0.034483    0.034483   0.185695   \n",
              "482633        0.862069     0.275862     0.275862    0.517241   1.121883   \n",
              "482634        0.551724     0.482759     0.482759    1.379310   1.916354   \n",
              "\n",
              "        std_days  std_days_raw  \n",
              "0       0.998424      2.633049  \n",
              "1       0.657354      1.804190  \n",
              "2       4.151250      1.975035  \n",
              "3       1.081670      1.307644  \n",
              "4       4.111714      2.323900  \n",
              "...          ...           ...  \n",
              "482630  1.040283      2.116849  \n",
              "482631  2.626903      3.257420  \n",
              "482632  0.965509      5.385165  \n",
              "482633  2.250696      2.168973  \n",
              "482634  1.521707      1.389357  \n",
              "\n",
              "[482635 rows x 32 columns]"
            ]
          },
          "metadata": {}
        },
        {
          "output_type": "execute_result",
          "data": {
            "text/plain": [
              "0"
            ]
          },
          "metadata": {},
          "execution_count": 20
        }
      ]
    },
    {
      "cell_type": "code",
      "metadata": {
        "id": "e9F5TeKiQKzp",
        "colab": {
          "base_uri": "https://localhost:8080/"
        },
        "outputId": "edd4be29-1bce-42a6-9a7e-2d489a5ea510"
      },
      "source": [
        "# inventory days predictions (oof) from the model\n",
        "predictor = IDP()\n",
        "predictor.fit(oof)"
      ],
      "id": "e9F5TeKiQKzp",
      "execution_count": 21,
      "outputs": [
        {
          "output_type": "stream",
          "name": "stderr",
          "text": [
            "100%|██████████| 482635/482635 [01:07<00:00, 7174.52it/s]\n"
          ]
        }
      ]
    },
    {
      "cell_type": "code",
      "metadata": {
        "id": "tITA8f6UQKzp",
        "colab": {
          "base_uri": "https://localhost:8080/",
          "height": 439
        },
        "outputId": "6c9c2d33-2e08-4f6a-d9f3-b1d23f7cd128"
      },
      "source": [
        "skus = list()\n",
        "tg_stocks = list()\n",
        "idays = list()\n",
        "preds1 = list()\n",
        "preds2 = list()\n",
        "\n",
        "for i,row in tqdm(valid.iterrows()):\n",
        "    idp,idp_clip = predictor.predict(int(row.sku), int(row.target_stock))\n",
        "    skus.append(row.sku)\n",
        "    tg_stocks.append(row.target_stock)\n",
        "    idays.append(row.inventory_days)\n",
        "    preds1.append(idp)\n",
        "    preds2.append(idp_clip)\n",
        "    \n",
        "id_preds = pd.DataFrame({\n",
        "    \"sku\":skus,\n",
        "    \"target_stock\":tg_stocks,\n",
        "    \"inventory_days\":idays,\n",
        "    \"idp\":preds1, \n",
        "    \"idp_clip\":preds2}\n",
        ")\n",
        "id_preds[\"no_stockout\"] = id_preds.eval(\"idp > 30\").astype(int)\n",
        "id_preds"
      ],
      "id": "tITA8f6UQKzp",
      "execution_count": 31,
      "outputs": [
        {
          "output_type": "stream",
          "name": "stderr",
          "text": [
            "1385025it [04:13, 5456.66it/s]\n"
          ]
        },
        {
          "output_type": "execute_result",
          "data": {
            "text/html": [
              "<div>\n",
              "<style scoped>\n",
              "    .dataframe tbody tr th:only-of-type {\n",
              "        vertical-align: middle;\n",
              "    }\n",
              "\n",
              "    .dataframe tbody tr th {\n",
              "        vertical-align: top;\n",
              "    }\n",
              "\n",
              "    .dataframe thead th {\n",
              "        text-align: right;\n",
              "    }\n",
              "</style>\n",
              "<table border=\"1\" class=\"dataframe\">\n",
              "  <thead>\n",
              "    <tr style=\"text-align: right;\">\n",
              "      <th></th>\n",
              "      <th>sku</th>\n",
              "      <th>target_stock</th>\n",
              "      <th>inventory_days</th>\n",
              "      <th>idp</th>\n",
              "      <th>idp_clip</th>\n",
              "      <th>no_stockout</th>\n",
              "    </tr>\n",
              "  </thead>\n",
              "  <tbody>\n",
              "    <tr>\n",
              "      <th>0</th>\n",
              "      <td>1</td>\n",
              "      <td>14</td>\n",
              "      <td>27</td>\n",
              "      <td>16.337551</td>\n",
              "      <td>16.337551</td>\n",
              "      <td>0</td>\n",
              "    </tr>\n",
              "    <tr>\n",
              "      <th>1</th>\n",
              "      <td>1</td>\n",
              "      <td>2</td>\n",
              "      <td>7</td>\n",
              "      <td>2.205541</td>\n",
              "      <td>2.205541</td>\n",
              "      <td>0</td>\n",
              "    </tr>\n",
              "    <tr>\n",
              "      <th>2</th>\n",
              "      <td>1</td>\n",
              "      <td>11</td>\n",
              "      <td>15</td>\n",
              "      <td>13.027130</td>\n",
              "      <td>13.027130</td>\n",
              "      <td>0</td>\n",
              "    </tr>\n",
              "    <tr>\n",
              "      <th>3</th>\n",
              "      <td>3</td>\n",
              "      <td>1</td>\n",
              "      <td>30</td>\n",
              "      <td>2.399877</td>\n",
              "      <td>2.399877</td>\n",
              "      <td>0</td>\n",
              "    </tr>\n",
              "    <tr>\n",
              "      <th>4</th>\n",
              "      <td>4</td>\n",
              "      <td>2</td>\n",
              "      <td>5</td>\n",
              "      <td>-inf</td>\n",
              "      <td>1.000000</td>\n",
              "      <td>0</td>\n",
              "    </tr>\n",
              "    <tr>\n",
              "      <th>...</th>\n",
              "      <td>...</td>\n",
              "      <td>...</td>\n",
              "      <td>...</td>\n",
              "      <td>...</td>\n",
              "      <td>...</td>\n",
              "      <td>...</td>\n",
              "    </tr>\n",
              "    <tr>\n",
              "      <th>1385020</th>\n",
              "      <td>660914</td>\n",
              "      <td>4</td>\n",
              "      <td>6</td>\n",
              "      <td>6.118821</td>\n",
              "      <td>6.118821</td>\n",
              "      <td>0</td>\n",
              "    </tr>\n",
              "    <tr>\n",
              "      <th>1385021</th>\n",
              "      <td>660914</td>\n",
              "      <td>5</td>\n",
              "      <td>8</td>\n",
              "      <td>7.563931</td>\n",
              "      <td>7.563931</td>\n",
              "      <td>0</td>\n",
              "    </tr>\n",
              "    <tr>\n",
              "      <th>1385022</th>\n",
              "      <td>660915</td>\n",
              "      <td>3</td>\n",
              "      <td>13</td>\n",
              "      <td>1.198881</td>\n",
              "      <td>1.198881</td>\n",
              "      <td>0</td>\n",
              "    </tr>\n",
              "    <tr>\n",
              "      <th>1385023</th>\n",
              "      <td>660915</td>\n",
              "      <td>4</td>\n",
              "      <td>16</td>\n",
              "      <td>1.593670</td>\n",
              "      <td>1.593670</td>\n",
              "      <td>0</td>\n",
              "    </tr>\n",
              "    <tr>\n",
              "      <th>1385024</th>\n",
              "      <td>660915</td>\n",
              "      <td>1</td>\n",
              "      <td>9</td>\n",
              "      <td>-inf</td>\n",
              "      <td>1.000000</td>\n",
              "      <td>0</td>\n",
              "    </tr>\n",
              "  </tbody>\n",
              "</table>\n",
              "<p>1385025 rows × 6 columns</p>\n",
              "</div>"
            ],
            "text/plain": [
              "            sku  target_stock  inventory_days        idp   idp_clip  \\\n",
              "0             1            14              27  16.337551  16.337551   \n",
              "1             1             2               7   2.205541   2.205541   \n",
              "2             1            11              15  13.027130  13.027130   \n",
              "3             3             1              30   2.399877   2.399877   \n",
              "4             4             2               5       -inf   1.000000   \n",
              "...         ...           ...             ...        ...        ...   \n",
              "1385020  660914             4               6   6.118821   6.118821   \n",
              "1385021  660914             5               8   7.563931   7.563931   \n",
              "1385022  660915             3              13   1.198881   1.198881   \n",
              "1385023  660915             4              16   1.593670   1.593670   \n",
              "1385024  660915             1               9       -inf   1.000000   \n",
              "\n",
              "         no_stockout  \n",
              "0                  0  \n",
              "1                  0  \n",
              "2                  0  \n",
              "3                  0  \n",
              "4                  0  \n",
              "...              ...  \n",
              "1385020            0  \n",
              "1385021            0  \n",
              "1385022            0  \n",
              "1385023            0  \n",
              "1385024            0  \n",
              "\n",
              "[1385025 rows x 6 columns]"
            ]
          },
          "metadata": {},
          "execution_count": 31
        }
      ]
    },
    {
      "cell_type": "code",
      "metadata": {
        "id": "rrKote3qQKzp",
        "colab": {
          "base_uri": "https://localhost:8080/"
        },
        "outputId": "886be33e-9bd7-4de8-96eb-602e9baff846"
      },
      "source": [
        "print(\"mean ae:\", id_preds.query(\"inventory_days <= 31\").eval(\"abs(inventory_days - idp_clip)\").mean())\n",
        "print(\"median ae\", id_preds.query(\"inventory_days <= 31\").eval(\"abs(inventory_days - idp_clip)\").median())"
      ],
      "id": "rrKote3qQKzp",
      "execution_count": 32,
      "outputs": [
        {
          "output_type": "stream",
          "name": "stdout",
          "text": [
            "mean ae: 7.0088822497340475\n",
            "median ae 5.088484508372966\n"
          ]
        }
      ]
    },
    {
      "cell_type": "code",
      "metadata": {
        "id": "u4dmyhx5QKzq",
        "colab": {
          "base_uri": "https://localhost:8080/",
          "height": 336
        },
        "outputId": "db19222d-d877-4862-9b87-7dcb09040930"
      },
      "source": [
        "plt.figure(figsize=(15,5))\n",
        "plt.hist(\n",
        "    [id_preds.query(\"inventory_days <= 31\").inventory_days.values, \n",
        "     id_preds.query(\"inventory_days <= 31\").idp_clip.values], \n",
        "    bins=np.arange(0,36), \n",
        "    rwidth=0.9, \n",
        "    align=\"left\",\n",
        "    label=[\"target\",\"prediction\"]\n",
        ")\n",
        "plt.title(\"target\")\n",
        "plt.legend(loc=\"best\")\n",
        "plt.grid()\n",
        "plt.show()"
      ],
      "id": "u4dmyhx5QKzq",
      "execution_count": 33,
      "outputs": [
        {
          "output_type": "display_data",
          "data": {
            "image/png": "[encoded data removed]",
            "text/plain": [
              "<Figure size 1080x360 with 1 Axes>"
            ]
          },
          "metadata": {
            "needs_background": "light"
          }
        }
      ]
    },
    {
      "cell_type": "code",
      "metadata": {
        "id": "v5mTaH_VQKzq",
        "colab": {
          "base_uri": "https://localhost:8080/",
          "height": 527
        },
        "outputId": "28a705db-c266-4256-d01d-756a64812d72"
      },
      "source": [
        "id_preds.query(\"inventory_days > 30\").idp_clip.hist()\n",
        "plt.show()\n",
        "\n",
        "id_preds.query(\"inventory_days > 30\").idp_clip.quantile(np.arange(0,1,0.01)).plot()\n",
        "plt.xlabel(\"quantile\")\n",
        "plt.ylabel(\"idp_clip\")\n",
        "plt.grid()\n",
        "plt.show()"
      ],
      "id": "v5mTaH_VQKzq",
      "execution_count": 34,
      "outputs": [
        {
          "output_type": "display_data",
          "data": {
            "image/png": "[encoded data removed]",
            "text/plain": [
              "<Figure size 432x288 with 1 Axes>"
            ]
          },
          "metadata": {
            "needs_background": "light"
          }
        },
        {
          "output_type": "display_data",
          "data": {
            "image/png": "[encoded data removed]",
            "text/plain": [
              "<Figure size 432x288 with 1 Axes>"
            ]
          },
          "metadata": {
            "needs_background": "light"
          }
        }
      ]
    },
    {
      "cell_type": "code",
      "metadata": {
        "id": "E8pRs1siQKzq",
        "colab": {
          "base_uri": "https://localhost:8080/",
          "height": 527
        },
        "outputId": "74b186d4-e8e6-415d-ebae-dc088029a0ed"
      },
      "source": [
        "id_preds.query(\"idp_clip >= 30 & inventory_days <= 30\").inventory_days.hist()\n",
        "plt.show()\n",
        "\n",
        "id_preds.query(\"idp_clip >= 30 & inventory_days <= 30\").inventory_days.quantile(np.arange(0,1,0.01)).plot()\n",
        "plt.xlabel(\"quantile\")\n",
        "plt.ylabel(\"inventory_days\")\n",
        "plt.grid()\n",
        "plt.show()"
      ],
      "id": "E8pRs1siQKzq",
      "execution_count": 35,
      "outputs": [
        {
          "output_type": "display_data",
          "data": {
            "image/png": "[encoded data removed]",
            "text/plain": [
              "<Figure size 432x288 with 1 Axes>"
            ]
          },
          "metadata": {
            "needs_background": "light"
          }
        },
        {
          "output_type": "display_data",
          "data": {
            "image/png": "[encoded data removed]",
            "text/plain": [
              "<Figure size 432x288 with 1 Axes>"
            ]
          },
          "metadata": {
            "needs_background": "light"
          }
        }
      ]
    },
    {
      "cell_type": "code",
      "metadata": {
        "id": "IgK2Z315QKzq"
      },
      "source": [
        "idx = id_preds.query(\"inventory_days > 31\").index\n",
        "id_preds.loc[idx, \"inventory_days\"] = 35\n",
        "\n",
        "idx = id_preds.query(\"idp > 31\").index\n",
        "id_preds.loc[idx, \"idp\"] = 35\n",
        "idx = id_preds.query(\"idp < 1\").index\n",
        "id_preds.loc[idx, \"idp\"] = 1"
      ],
      "id": "IgK2Z315QKzq",
      "execution_count": 36,
      "outputs": []
    },
    {
      "cell_type": "code",
      "metadata": {
        "id": "vR-UB0gPQKzr",
        "colab": {
          "base_uri": "https://localhost:8080/",
          "height": 655
        },
        "outputId": "301a1b21-cf00-498b-ee54-c27597360e4c"
      },
      "source": [
        "plt.figure(figsize=(15,5))\n",
        "plt.hist([id_preds.inventory_days.values, id_preds.idp.values], bins=np.arange(0,36), rwidth=0.9, align=\"left\", label=[\"target\",\"prediction\"])\n",
        "plt.grid()\n",
        "plt.title(\"target dist\")\n",
        "plt.legend(loc=\"best\")\n",
        "plt.show()\n",
        "\n",
        "plt.figure(figsize=(15,5))\n",
        "plt.hist([id_preds.inventory_days.values, id_preds.idp.values], bins=np.arange(0,32), rwidth=0.9, align=\"left\", label=[\"target\",\"prediction\"])\n",
        "plt.grid()\n",
        "plt.title(\"target dist\")\n",
        "plt.legend(loc=\"best\")\n",
        "plt.show()"
      ],
      "id": "vR-UB0gPQKzr",
      "execution_count": 37,
      "outputs": [
        {
          "output_type": "display_data",
          "data": {
            "image/png": "[encoded data removed]",
            "text/plain": [
              "<Figure size 1080x360 with 1 Axes>"
            ]
          },
          "metadata": {
            "needs_background": "light"
          }
        },
        {
          "output_type": "display_data",
          "data": {
            "image/png": "[encoded data removed]",
            "text/plain": [
              "<Figure size 1080x360 with 1 Axes>"
            ]
          },
          "metadata": {
            "needs_background": "light"
          }
        }
      ]
    },
    {
      "cell_type": "code",
      "metadata": {
        "id": "KQmlda10QKzr",
        "colab": {
          "base_uri": "https://localhost:8080/"
        },
        "outputId": "40d7cd1f-ff18-42d3-9e6e-56b0724cba8f"
      },
      "source": [
        "dataset = (\n",
        "    dataset\n",
        "    .merge(id_preds, how=\"inner\", on=\"sku\")\n",
        ")\n",
        "dataset[\"idp_naive1\"] = dataset.eval(\"target_stock / q_mean\")\n",
        "dataset[\"idp_naive2\"] = dataset.eval(\"target_stock / q_mean_raw\")\n",
        "dataset.isna().sum(axis=0)"
      ],
      "id": "KQmlda10QKzr",
      "execution_count": 40,
      "outputs": [
        {
          "output_type": "execute_result",
          "data": {
            "text/plain": [
              "sku                             0\n",
              "date                            0\n",
              "sold_quantity                   0\n",
              "current_price                   0\n",
              "listing_type                    0\n",
              "shipping_logistic_type          0\n",
              "shipping_payment                0\n",
              "minutes_active                  0\n",
              "item_domain_id                  0\n",
              "item_id                         0\n",
              "site_id                         0\n",
              "product_id                1336359\n",
              "product_family_id         1226592\n",
              "item_domain_id_glob             0\n",
              "product_id_glob           1336359\n",
              "product_family_id_glob    1226592\n",
              "q_mean                          0\n",
              "q_std                           0\n",
              "was_active                      0\n",
              "had_sales                       0\n",
              "tr_points                       0\n",
              "completeness                    0\n",
              "minutes_rate1                   0\n",
              "minutes_rate2                   0\n",
              "activity_rate1                  0\n",
              "activity_rate2                  0\n",
              "sales_rate1                     0\n",
              "sales_rate2                     0\n",
              "q_mean_raw                      0\n",
              "q_std_raw                       0\n",
              "std_days                        0\n",
              "std_days_raw                    0\n",
              "target_stock                    0\n",
              "inventory_days                  0\n",
              "idp                             0\n",
              "idp_clip                        0\n",
              "no_stockout                     0\n",
              "idp_naive1                      0\n",
              "idp_naive2                      0\n",
              "dtype: int64"
            ]
          },
          "metadata": {},
          "execution_count": 40
        }
      ]
    },
    {
      "cell_type": "code",
      "metadata": {
        "id": "SqEp8NO6QKzr",
        "colab": {
          "base_uri": "https://localhost:8080/"
        },
        "outputId": "e1f33ff9-9799-442c-a89f-fcdeb4cb74b8"
      },
      "source": [
        "input_cols = [\n",
        "    # sold_quantity stats\n",
        "    \"q_mean\",\n",
        "    \"q_mean_raw\",\n",
        "    \"q_std\",\n",
        "    \"q_std_raw\",\n",
        "    \"std_days\",\n",
        "    \"std_days_raw\",\n",
        "    \n",
        "    # activity on history\n",
        "    \"completeness\",\n",
        "    \"minutes_rate1\",\n",
        "    \"minutes_rate2\",\n",
        "    \"activity_rate1\",\n",
        "    \"activity_rate2\",\n",
        "    \"sales_rate1\",\n",
        "    \"sales_rate2\",\n",
        "    # days since no sales\n",
        "    # days with consecutive sales\n",
        "    # days since inactive\n",
        "    # days since active\n",
        "    \n",
        "    # ID predictions\n",
        "    \"target_stock\",\n",
        "    \"idp_clip\",\n",
        "    \"no_stockout\",\n",
        "    \"idp_naive1\",\n",
        "    \"idp_naive2\",\n",
        "    \n",
        "    # others\n",
        "    \"site_id\",\n",
        "]\n",
        "categ_cols = [\n",
        "    \"site_id\",\n",
        "]\n",
        "\n",
        "print(\"# feats:\", len(input_cols))"
      ],
      "id": "SqEp8NO6QKzr",
      "execution_count": 42,
      "outputs": [
        {
          "output_type": "stream",
          "name": "stdout",
          "text": [
            "# feats: 19\n"
          ]
        }
      ]
    },
    {
      "cell_type": "code",
      "metadata": {
        "id": "hDPhYzNhQKzs",
        "colab": {
          "base_uri": "https://localhost:8080/"
        },
        "outputId": "18bd829a-dbc9-4f02-9550-db19086882b9"
      },
      "source": [
        "encoder = ce.OneHotEncoder()\n",
        "transformed = encoder.fit_transform(dataset[categ_cols])\n",
        "dataset[transformed.columns] = transformed.values\n",
        "for col in categ_cols:\n",
        "    input_cols.remove(col)\n",
        "input_cols.extend(transformed.columns.tolist())"
      ],
      "id": "hDPhYzNhQKzs",
      "execution_count": 43,
      "outputs": [
        {
          "output_type": "stream",
          "name": "stderr",
          "text": [
            "/usr/local/lib/python3.7/dist-packages/category_encoders/utils.py:21: FutureWarning: is_categorical is deprecated and will be removed in a future version.  Use is_categorical_dtype instead\n",
            "  elif pd.api.types.is_categorical(cols):\n"
          ]
        }
      ]
    },
    {
      "cell_type": "code",
      "metadata": {
        "id": "zO5a-y6FQKzs"
      },
      "source": [
        "assert dataset[input_cols].isna().sum(axis=0).sum() == 0"
      ],
      "id": "zO5a-y6FQKzs",
      "execution_count": 44,
      "outputs": []
    },
    {
      "cell_type": "code",
      "metadata": {
        "id": "JI8UuWRIQKzt",
        "colab": {
          "base_uri": "https://localhost:8080/"
        },
        "outputId": "a3b4ae08-12a4-4cce-ca9d-1fd60940af71"
      },
      "source": [
        "idx = dataset.query(\"inventory_days > 30\").index\n",
        "dataset = dataset.drop(idx).reset_index(drop=True)\n",
        "dataset[\"inventory_days\"] = dataset[\"inventory_days\"].astype(int)\n",
        "\n",
        "print(f\"Number of rows removed: {len(idx)}\")"
      ],
      "id": "JI8UuWRIQKzt",
      "execution_count": 45,
      "outputs": [
        {
          "output_type": "stream",
          "name": "stdout",
          "text": [
            "Number of rows removed: 0\n"
          ]
        }
      ]
    },
    {
      "cell_type": "code",
      "metadata": {
        "id": "j9l27BPQQKzt"
      },
      "source": [
        "# generate the target for each sku (cumulative distribution)\n",
        "y_true = dataset.inventory_days.values.copy()\n",
        "y_true_one_hot = np.zeros((len(y_true),30), dtype=np.float64)\n",
        "y_true_one_hot[range(len(y_true)), y_true-1] = 1\n",
        "y_true = np.cumsum(y_true_one_hot, axis=1)\n",
        "targets = pd.DataFrame(y_true, index=dataset.sku.values)\n",
        "targets.index.rename(\"sku\", inplace=True)\n",
        "targets = targets.reset_index()"
      ],
      "id": "j9l27BPQQKzt",
      "execution_count": 46,
      "outputs": []
    },
    {
      "cell_type": "markdown",
      "metadata": {
        "id": "CJlXgsg8QKzt"
      },
      "source": [
        "***\n",
        "## model definition"
      ],
      "id": "CJlXgsg8QKzt"
    },
    {
      "cell_type": "code",
      "metadata": {
        "id": "0Ncj-q1CQKzt"
      },
      "source": [
        "@torch.jit.script\n",
        "def rps_loss(preds, targets):\n",
        "    return torch.mean(torch.sum((targets - preds)**2, dim=1))\n",
        "\n",
        "class SoftOrdering1DCNN(nn.Module):\n",
        "\n",
        "    def __init__(self, input_dim, output_dim, sign_size=32, cha_input=16, cha_hidden=32, \n",
        "                 K=2, dropout_input=0.2, dropout_hidden=0.2, dropout_output=0.2):\n",
        "        super().__init__()\n",
        "\n",
        "        hidden_size = sign_size*cha_input\n",
        "        sign_size1 = sign_size\n",
        "        sign_size2 = sign_size//2\n",
        "        output_size = (sign_size//4) * cha_hidden\n",
        "\n",
        "        self.hidden_size = hidden_size\n",
        "        self.cha_input = cha_input\n",
        "        self.cha_hidden = cha_hidden\n",
        "        self.K = K\n",
        "        self.sign_size1 = sign_size1\n",
        "        self.sign_size2 = sign_size2\n",
        "        self.output_size = output_size\n",
        "        self.dropout_input = dropout_input\n",
        "        self.dropout_hidden = dropout_hidden\n",
        "        self.dropout_output = dropout_output\n",
        "\n",
        "        self.batch_norm1 = nn.BatchNorm1d(input_dim)\n",
        "        self.dropout1 = nn.Dropout(dropout_input)\n",
        "        dense1 = nn.Linear(input_dim, hidden_size, bias=False)\n",
        "        self.dense1 = nn.utils.weight_norm(dense1)\n",
        "\n",
        "        # 1st conv layer\n",
        "        self.batch_norm_c1 = nn.BatchNorm1d(cha_input)\n",
        "        conv1 = nn.Conv1d(\n",
        "            cha_input, \n",
        "            cha_input*K, \n",
        "            kernel_size=3, \n",
        "            stride = 1, \n",
        "            padding=1,  \n",
        "            groups=cha_input, \n",
        "            bias=False)\n",
        "        self.conv1 = nn.utils.weight_norm(conv1, dim=None)\n",
        "\n",
        "        self.ave_po_c1 = nn.AdaptiveAvgPool1d(output_size = sign_size2)\n",
        "\n",
        "        # 2nd conv layer\n",
        "        self.batch_norm_c2 = nn.BatchNorm1d(cha_input*K)\n",
        "        self.dropout_c2 = nn.Dropout(dropout_hidden)\n",
        "        conv2 = nn.Conv1d(\n",
        "            cha_input*K, \n",
        "            cha_hidden, \n",
        "            kernel_size=3, \n",
        "            stride=1, \n",
        "            padding=1, \n",
        "            bias=False)\n",
        "        self.conv2 = nn.utils.weight_norm(conv2, dim=None)\n",
        "\n",
        "        # 3rd conv layer\n",
        "        self.batch_norm_c3 = nn.BatchNorm1d(cha_hidden)\n",
        "        self.dropout_c3 = nn.Dropout(dropout_hidden)\n",
        "        conv3 = nn.Conv1d(\n",
        "            cha_hidden, \n",
        "            cha_hidden, \n",
        "            kernel_size=3, \n",
        "            stride=1, \n",
        "            padding=1, \n",
        "            bias=False)\n",
        "        self.conv3 = nn.utils.weight_norm(conv3, dim=None)\n",
        "        \n",
        "        # 4th conv layer\n",
        "        self.batch_norm_c4 = nn.BatchNorm1d(cha_hidden)\n",
        "        conv4 = nn.Conv1d(\n",
        "            cha_hidden, \n",
        "            cha_hidden, \n",
        "            kernel_size=3, \n",
        "            stride=1, \n",
        "            padding=1, \n",
        "            groups=cha_hidden, \n",
        "            bias=False)\n",
        "        self.conv4 = nn.utils.weight_norm(conv4, dim=None)\n",
        "\n",
        "        self.avg_po_c4 = nn.AvgPool1d(kernel_size=4, stride=2, padding=1)\n",
        "\n",
        "        self.flt = nn.Flatten()\n",
        "\n",
        "        self.batch_norm2 = nn.BatchNorm1d(output_size)\n",
        "        self.dropout2 = nn.Dropout(dropout_output)\n",
        "        dense2 = nn.Linear(output_size, output_dim, bias=False)\n",
        "        self.dense2 = nn.utils.weight_norm(dense2)\n",
        "\n",
        "        self.sparsemax = Sparsemax(dim=1)\n",
        "        self.entmax = Entmax15(dim=1)\n",
        "\n",
        "    def forward(self, x):\n",
        "        x = self.batch_norm1(x)\n",
        "        x = self.dropout1(x)\n",
        "        x = nn.functional.celu(self.dense1(x))\n",
        "\n",
        "        x = x.reshape(x.shape[0], self.cha_input, self.sign_size1)\n",
        "\n",
        "        x = self.batch_norm_c1(x)\n",
        "        x = nn.functional.leaky_relu(self.conv1(x))\n",
        "\n",
        "        x = self.ave_po_c1(x)\n",
        "\n",
        "        x = self.batch_norm_c2(x)\n",
        "        x = self.dropout_c2(x)\n",
        "        x = nn.functional.leaky_relu(self.conv2(x))\n",
        "        x_s = x\n",
        "\n",
        "        x = self.batch_norm_c3(x)\n",
        "        x = self.dropout_c3(x)\n",
        "        x = nn.functional.leaky_relu(self.conv3(x))\n",
        "\n",
        "        x = self.batch_norm_c4(x)\n",
        "        x = self.conv4(x)\n",
        "        x =  x + x_s\n",
        "        x = nn.functional.leaky_relu(x)\n",
        "\n",
        "        x = self.avg_po_c4(x)\n",
        "\n",
        "        x = self.flt(x)\n",
        "\n",
        "        x = self.batch_norm2(x)\n",
        "        x = self.dropout2(x)\n",
        "        x = self.dense2(x)\n",
        "\n",
        "        #x = nn.functional.softmax(x, dim=1)\n",
        "        x = self.entmax(x)\n",
        "        #x = self.sparsemax(x)\n",
        "\n",
        "        return x\n",
        "\n",
        "    def forward_cum(self, x):\n",
        "        x = self.forward(x)\n",
        "        return torch.cumsum(x, dim=1)\n",
        "\n",
        "    def training_step(self, batch):\n",
        "        x,y = batch\n",
        "        y_hat = self.forward_cum(x)\n",
        "        loss = rps_loss(y_hat, y)\n",
        "        return loss\n",
        "    \n",
        "    def validation_step(self, batch):\n",
        "        x,y = batch\n",
        "        y_hat = self.forward_cum(x)\n",
        "        loss = rps_loss(y_hat, y)\n",
        "        return loss\n",
        "    \n",
        "    def prediction_step(self, batch):\n",
        "        x,_ = batch\n",
        "        pred = self.forward(x)\n",
        "        return pred\n",
        "    \n",
        "    def configure_optimizers(self):\n",
        "        optimizer = torch.optim.Adam(\n",
        "            self.parameters(), \n",
        "            lr=1e-2, \n",
        "            weight_decay=1e-5\n",
        "        )\n",
        "        scheduler = ReduceLROnPlateau(\n",
        "            optimizer, \n",
        "            mode=\"min\", \n",
        "            factor=0.5, \n",
        "            patience=5, \n",
        "            min_lr=1e-5\n",
        "        )\n",
        "        return optimizer,scheduler"
      ],
      "id": "0Ncj-q1CQKzt",
      "execution_count": 47,
      "outputs": []
    },
    {
      "cell_type": "markdown",
      "metadata": {
        "id": "XDT641sOQKzt"
      },
      "source": [
        "***\n",
        "## model training"
      ],
      "id": "XDT641sOQKzt"
    },
    {
      "cell_type": "code",
      "metadata": {
        "id": "gZs2zh5mivqB",
        "outputId": "52339ff8-2600-446b-ad7c-82410bfc997a",
        "colab": {
          "base_uri": "https://localhost:8080/"
        }
      },
      "source": [
        "len(preds_proba)"
      ],
      "id": "gZs2zh5mivqB",
      "execution_count": 58,
      "outputs": [
        {
          "output_type": "execute_result",
          "data": {
            "text/plain": [
              "277005"
            ]
          },
          "metadata": {},
          "execution_count": 58
        }
      ]
    },
    {
      "cell_type": "code",
      "metadata": {
        "id": "KcNE2hQ2i1Dj",
        "outputId": "4b43609a-26f1-4d14-b3d5-a361d6b1f04a",
        "colab": {
          "base_uri": "https://localhost:8080/"
        }
      },
      "source": [
        "len(valid_idx)"
      ],
      "id": "KcNE2hQ2i1Dj",
      "execution_count": 59,
      "outputs": [
        {
          "output_type": "execute_result",
          "data": {
            "text/plain": [
              "277005"
            ]
          },
          "metadata": {},
          "execution_count": 59
        }
      ]
    },
    {
      "cell_type": "code",
      "metadata": {
        "id": "oreEJjexjArs"
      },
      "source": [
        ""
      ],
      "id": "oreEJjexjArs",
      "execution_count": null,
      "outputs": []
    },
    {
      "cell_type": "code",
      "metadata": {
        "id": "PnjEDgTnNRm4",
        "outputId": "30250466-802c-440c-97b1-d1b2aae04d5c",
        "colab": {
          "base_uri": "https://localhost:8080/",
          "height": 1000
        }
      },
      "source": [
        "mskf = MultilabelStratifiedKFold(n_splits=5, shuffle=True, random_state=42)\n",
        "#gkf = GroupKFold(n_splits=5)\n",
        "#gkf_split = gkf.split(dataset, groups=dataset[\"sku\"])\n",
        "strat_cols = [\"item_domain_id\", \"no_stockout\", \"inventory_days\"]\n",
        "mskf_split = mskf.split(dataset, dataset[strat_cols])\n",
        "\n",
        "models_by_fold = list()\n",
        "oof_preds = list()\n",
        "\n",
        "for fold,(train_idx,valid_idx) in enumerate(mskf_split):\n",
        "    print(f\"Train model for fold: {fold+1}/5\")\n",
        "    \n",
        "    x_train = dataset.loc[train_idx,input_cols]\n",
        "    y_train = targets.iloc[train_idx,1:]\n",
        "    x_valid = dataset.loc[valid_idx,input_cols]\n",
        "    y_valid = targets.iloc[valid_idx,1:]\n",
        "    \n",
        "    train_dset = TensorDataset(\n",
        "        torch.tensor(x_train.values, dtype=torch.float),\n",
        "        torch.tensor(y_train.values, dtype=torch.float),\n",
        "    )\n",
        "    valid_dset = TensorDataset(\n",
        "        torch.tensor(x_valid.values, dtype=torch.float),\n",
        "        torch.tensor(y_valid.values, dtype=torch.float),\n",
        "    )\n",
        "    train_dataloader = DataLoader(\n",
        "        train_dset, \n",
        "        batch_size=2048, \n",
        "        shuffle=True, \n",
        "        num_workers=2, \n",
        "        pin_memory=True\n",
        "    )\n",
        "    valid_dataloader = DataLoader(\n",
        "        valid_dset, \n",
        "        batch_size=8192, \n",
        "        shuffle=False, \n",
        "        num_workers=2, \n",
        "        pin_memory=True\n",
        "    )\n",
        "    model = SoftOrdering1DCNN(\n",
        "        input_dim=len(input_cols),\n",
        "        output_dim=30,\n",
        "        sign_size=4,\n",
        "        cha_input=32,\n",
        "        cha_hidden=32,\n",
        "        K=2,\n",
        "        dropout_input=0.2, \n",
        "        dropout_hidden=0.2, \n",
        "        dropout_output=0.1\n",
        "    )\n",
        "    display(torchinfo.summary(model))\n",
        "    \n",
        "    model,monitor = pax.iterative_train(\n",
        "        model, \n",
        "        train_dataloader, \n",
        "        valid_dataloader,\n",
        "        min_epochs=20,\n",
        "        max_epochs=100, \n",
        "        patience=12,\n",
        "        #clip_value=0.1,\n",
        "    )\n",
        "    model.load_state_dict(monitor.best_model_state)\n",
        "    models_by_fold.append(model)\n",
        "    \n",
        "    plt.figure(figsize=(10,5))\n",
        "    plt.plot(np.arange(5, len(monitor.train_loss)), monitor.train_loss[5:], label=\"train\")\n",
        "    plt.plot(np.arange(5, len(monitor.valid_loss)), monitor.valid_loss[5:], label=\"valid\")\n",
        "    plt.xlabel(\"epoch\")\n",
        "    plt.ylabel(\"rps\")\n",
        "    plt.grid()\n",
        "    plt.legend(loc=\"best\")\n",
        "    plt.show()\n",
        "    \n",
        "    preds_proba = pax.iterative_predict(model, valid_dataloader).detach().cpu().numpy()\n",
        "    preds_proba = pd.DataFrame(preds_proba, index=valid_idx)\n",
        "    oof_preds.append(preds_proba)\n"
      ],
      "id": "PnjEDgTnNRm4",
      "execution_count": 49,
      "outputs": [
        {
          "output_type": "stream",
          "name": "stdout",
          "text": [
            "Train model for fold: 1/5\n"
          ]
        },
        {
          "output_type": "display_data",
          "data": {
            "text/plain": [
              "=================================================================\n",
              "Layer (type:depth-idx)                   Param #\n",
              "=================================================================\n",
              "SoftOrdering1DCNN                        --\n",
              "├─BatchNorm1d: 1-1                       42\n",
              "├─Dropout: 1-2                           --\n",
              "├─Linear: 1-3                            2,816\n",
              "├─BatchNorm1d: 1-4                       64\n",
              "├─Conv1d: 1-5                            193\n",
              "├─AdaptiveAvgPool1d: 1-6                 --\n",
              "├─BatchNorm1d: 1-7                       128\n",
              "├─Dropout: 1-8                           --\n",
              "├─Conv1d: 1-9                            6,145\n",
              "├─BatchNorm1d: 1-10                      64\n",
              "├─Dropout: 1-11                          --\n",
              "├─Conv1d: 1-12                           3,073\n",
              "├─BatchNorm1d: 1-13                      64\n",
              "├─Conv1d: 1-14                           97\n",
              "├─AvgPool1d: 1-15                        --\n",
              "├─Flatten: 1-16                          --\n",
              "├─BatchNorm1d: 1-17                      64\n",
              "├─Dropout: 1-18                          --\n",
              "├─Linear: 1-19                           990\n",
              "├─Sparsemax: 1-20                        --\n",
              "├─Entmax15: 1-21                         --\n",
              "=================================================================\n",
              "Total params: 13,740\n",
              "Trainable params: 13,740\n",
              "Non-trainable params: 0\n",
              "================================================================="
            ]
          },
          "metadata": {}
        },
        {
          "output_type": "stream",
          "name": "stderr",
          "text": [
            " 32%|███▏      | 32/100 [07:12<15:18, 13.51s/it, a_train_loss=4.079743, b_valid_loss=4.129834, c_best_loss=4.094555, g_es_counter=11]\n"
          ]
        },
        {
          "output_type": "display_data",
          "data": {
            "image/png": "[encoded data removed]",
            "text/plain": [
              "<Figure size 720x360 with 1 Axes>"
            ]
          },
          "metadata": {
            "needs_background": "light"
          }
        },
        {
          "output_type": "stream",
          "name": "stdout",
          "text": [
            "Train model for fold: 2/5\n"
          ]
        },
        {
          "output_type": "display_data",
          "data": {
            "text/plain": [
              "=================================================================\n",
              "Layer (type:depth-idx)                   Param #\n",
              "=================================================================\n",
              "SoftOrdering1DCNN                        --\n",
              "├─BatchNorm1d: 1-1                       42\n",
              "├─Dropout: 1-2                           --\n",
              "├─Linear: 1-3                            2,816\n",
              "├─BatchNorm1d: 1-4                       64\n",
              "├─Conv1d: 1-5                            193\n",
              "├─AdaptiveAvgPool1d: 1-6                 --\n",
              "├─BatchNorm1d: 1-7                       128\n",
              "├─Dropout: 1-8                           --\n",
              "├─Conv1d: 1-9                            6,145\n",
              "├─BatchNorm1d: 1-10                      64\n",
              "├─Dropout: 1-11                          --\n",
              "├─Conv1d: 1-12                           3,073\n",
              "├─BatchNorm1d: 1-13                      64\n",
              "├─Conv1d: 1-14                           97\n",
              "├─AvgPool1d: 1-15                        --\n",
              "├─Flatten: 1-16                          --\n",
              "├─BatchNorm1d: 1-17                      64\n",
              "├─Dropout: 1-18                          --\n",
              "├─Linear: 1-19                           990\n",
              "├─Sparsemax: 1-20                        --\n",
              "├─Entmax15: 1-21                         --\n",
              "=================================================================\n",
              "Total params: 13,740\n",
              "Trainable params: 13,740\n",
              "Non-trainable params: 0\n",
              "================================================================="
            ]
          },
          "metadata": {}
        },
        {
          "output_type": "stream",
          "name": "stderr",
          "text": [
            " 38%|███▊      | 38/100 [08:42<14:12, 13.75s/it, a_train_loss=4.074659, b_valid_loss=4.120187, c_best_loss=4.097182, g_es_counter=11]\n"
          ]
        },
        {
          "output_type": "display_data",
          "data": {
            "image/png": "[encoded data removed]",
            "text/plain": [
              "<Figure size 720x360 with 1 Axes>"
            ]
          },
          "metadata": {
            "needs_background": "light"
          }
        },
        {
          "output_type": "stream",
          "name": "stdout",
          "text": [
            "Train model for fold: 3/5\n"
          ]
        },
        {
          "output_type": "display_data",
          "data": {
            "text/plain": [
              "=================================================================\n",
              "Layer (type:depth-idx)                   Param #\n",
              "=================================================================\n",
              "SoftOrdering1DCNN                        --\n",
              "├─BatchNorm1d: 1-1                       42\n",
              "├─Dropout: 1-2                           --\n",
              "├─Linear: 1-3                            2,816\n",
              "├─BatchNorm1d: 1-4                       64\n",
              "├─Conv1d: 1-5                            193\n",
              "├─AdaptiveAvgPool1d: 1-6                 --\n",
              "├─BatchNorm1d: 1-7                       128\n",
              "├─Dropout: 1-8                           --\n",
              "├─Conv1d: 1-9                            6,145\n",
              "├─BatchNorm1d: 1-10                      64\n",
              "├─Dropout: 1-11                          --\n",
              "├─Conv1d: 1-12                           3,073\n",
              "├─BatchNorm1d: 1-13                      64\n",
              "├─Conv1d: 1-14                           97\n",
              "├─AvgPool1d: 1-15                        --\n",
              "├─Flatten: 1-16                          --\n",
              "├─BatchNorm1d: 1-17                      64\n",
              "├─Dropout: 1-18                          --\n",
              "├─Linear: 1-19                           990\n",
              "├─Sparsemax: 1-20                        --\n",
              "├─Entmax15: 1-21                         --\n",
              "=================================================================\n",
              "Total params: 13,740\n",
              "Trainable params: 13,740\n",
              "Non-trainable params: 0\n",
              "================================================================="
            ]
          },
          "metadata": {}
        },
        {
          "output_type": "stream",
          "name": "stderr",
          "text": [
            " 46%|████▌     | 46/100 [10:53<12:46, 14.20s/it, a_train_loss=4.075465, b_valid_loss=4.111708, c_best_loss=4.097688, g_es_counter=11]\n"
          ]
        },
        {
          "output_type": "display_data",
          "data": {
            "image/png": "[encoded data removed]",
            "text/plain": [
              "<Figure size 720x360 with 1 Axes>"
            ]
          },
          "metadata": {
            "needs_background": "light"
          }
        },
        {
          "output_type": "stream",
          "name": "stdout",
          "text": [
            "Train model for fold: 4/5\n"
          ]
        },
        {
          "output_type": "display_data",
          "data": {
            "text/plain": [
              "=================================================================\n",
              "Layer (type:depth-idx)                   Param #\n",
              "=================================================================\n",
              "SoftOrdering1DCNN                        --\n",
              "├─BatchNorm1d: 1-1                       42\n",
              "├─Dropout: 1-2                           --\n",
              "├─Linear: 1-3                            2,816\n",
              "├─BatchNorm1d: 1-4                       64\n",
              "├─Conv1d: 1-5                            193\n",
              "├─AdaptiveAvgPool1d: 1-6                 --\n",
              "├─BatchNorm1d: 1-7                       128\n",
              "├─Dropout: 1-8                           --\n",
              "├─Conv1d: 1-9                            6,145\n",
              "├─BatchNorm1d: 1-10                      64\n",
              "├─Dropout: 1-11                          --\n",
              "├─Conv1d: 1-12                           3,073\n",
              "├─BatchNorm1d: 1-13                      64\n",
              "├─Conv1d: 1-14                           97\n",
              "├─AvgPool1d: 1-15                        --\n",
              "├─Flatten: 1-16                          --\n",
              "├─BatchNorm1d: 1-17                      64\n",
              "├─Dropout: 1-18                          --\n",
              "├─Linear: 1-19                           990\n",
              "├─Sparsemax: 1-20                        --\n",
              "├─Entmax15: 1-21                         --\n",
              "=================================================================\n",
              "Total params: 13,740\n",
              "Trainable params: 13,740\n",
              "Non-trainable params: 0\n",
              "================================================================="
            ]
          },
          "metadata": {}
        },
        {
          "output_type": "stream",
          "name": "stderr",
          "text": [
            " 32%|███▏      | 32/100 [07:56<16:52, 14.89s/it, a_train_loss=4.075881, b_valid_loss=4.112434, c_best_loss=4.101766, g_es_counter=11]\n"
          ]
        },
        {
          "output_type": "display_data",
          "data": {
            "image/png": "[encoded data removed]",
            "text/plain": [
              "<Figure size 720x360 with 1 Axes>"
            ]
          },
          "metadata": {
            "needs_background": "light"
          }
        },
        {
          "output_type": "stream",
          "name": "stdout",
          "text": [
            "Train model for fold: 5/5\n"
          ]
        },
        {
          "output_type": "display_data",
          "data": {
            "text/plain": [
              "=================================================================\n",
              "Layer (type:depth-idx)                   Param #\n",
              "=================================================================\n",
              "SoftOrdering1DCNN                        --\n",
              "├─BatchNorm1d: 1-1                       42\n",
              "├─Dropout: 1-2                           --\n",
              "├─Linear: 1-3                            2,816\n",
              "├─BatchNorm1d: 1-4                       64\n",
              "├─Conv1d: 1-5                            193\n",
              "├─AdaptiveAvgPool1d: 1-6                 --\n",
              "├─BatchNorm1d: 1-7                       128\n",
              "├─Dropout: 1-8                           --\n",
              "├─Conv1d: 1-9                            6,145\n",
              "├─BatchNorm1d: 1-10                      64\n",
              "├─Dropout: 1-11                          --\n",
              "├─Conv1d: 1-12                           3,073\n",
              "├─BatchNorm1d: 1-13                      64\n",
              "├─Conv1d: 1-14                           97\n",
              "├─AvgPool1d: 1-15                        --\n",
              "├─Flatten: 1-16                          --\n",
              "├─BatchNorm1d: 1-17                      64\n",
              "├─Dropout: 1-18                          --\n",
              "├─Linear: 1-19                           990\n",
              "├─Sparsemax: 1-20                        --\n",
              "├─Entmax15: 1-21                         --\n",
              "=================================================================\n",
              "Total params: 13,740\n",
              "Trainable params: 13,740\n",
              "Non-trainable params: 0\n",
              "================================================================="
            ]
          },
          "metadata": {}
        },
        {
          "output_type": "stream",
          "name": "stderr",
          "text": [
            " 38%|███▊      | 38/100 [09:22<15:17, 14.80s/it, a_train_loss=4.069805, b_valid_loss=4.121539, c_best_loss=4.100594, g_es_counter=11]\n"
          ]
        },
        {
          "output_type": "display_data",
          "data": {
            "image/png": "[encoded data removed]",
            "text/plain": [
              "<Figure size 720x360 with 1 Axes>"
            ]
          },
          "metadata": {
            "needs_background": "light"
          }
        }
      ]
    },
    {
      "cell_type": "code",
      "metadata": {
        "id": "8ZNmUzi6QKzu"
      },
      "source": [
        "oof_preds = pd.concat(oof_preds)\n",
        "oof_preds = oof_preds.loc[dataset.index,:].copy()"
      ],
      "id": "8ZNmUzi6QKzu",
      "execution_count": 50,
      "outputs": []
    },
    {
      "cell_type": "code",
      "metadata": {
        "id": "b80g_AoWkwzW"
      },
      "source": [
        "# entmax output\n",
        "assert (targets.sku.values == oof_preds.index.values).all()\n",
        "print(\"RPS:\", compute_rps(np.cumsum(oof_preds.values, axis=1), targets.iloc[:,1:].values))"
      ],
      "id": "b80g_AoWkwzW",
      "execution_count": null,
      "outputs": []
    },
    {
      "cell_type": "markdown",
      "metadata": {
        "id": "EMAcJ9ahQKzu"
      },
      "source": [
        "***\n",
        "## inspecting the predictions"
      ],
      "id": "EMAcJ9ahQKzu"
    },
    {
      "cell_type": "code",
      "metadata": {
        "id": "BwHXkPoTQKzu"
      },
      "source": [
        "plt.figure(figsize=(30,30))\n",
        "for idays in range(1,31):\n",
        "    df = valid.query(\"inventory_days == @idays\")\n",
        "    averaged = oof_preds.loc[df.sku.values].mean(axis=0)\n",
        "    plt.subplot(6,5,idays)\n",
        "    plt.plot(averaged.index+1, averaged.values, \"o-\")\n",
        "    plt.title(f\"probabilities for inventory_days={idays}\")\n",
        "    plt.grid()\n",
        "    plt.xlabel(\"days\")\n",
        "    plt.ylabel(\"prob\")\n",
        "plt.show()"
      ],
      "id": "BwHXkPoTQKzu",
      "execution_count": null,
      "outputs": []
    },
    {
      "cell_type": "code",
      "metadata": {
        "id": "IM_2qr7WQKzu"
      },
      "source": [
        "plt.figure(figsize=(30,30))\n",
        "for idays in range(1,31):\n",
        "    df = valid.query(\"inventory_days == @idays\")\n",
        "    averaged = np.cumsum(oof_preds.loc[df.sku.values], axis=1).mean(axis=0)\n",
        "    plt.subplot(6,5,idays)\n",
        "    plt.plot(averaged.index+1, averaged.values, \"o-\")\n",
        "    plt.title(f\"preds for inventory_days={idays}\")\n",
        "    plt.grid()\n",
        "    plt.xlabel(\"days\")\n",
        "    plt.ylabel(\"prob\")\n",
        "plt.show()\n"
      ],
      "id": "IM_2qr7WQKzu",
      "execution_count": null,
      "outputs": []
    },
    {
      "cell_type": "code",
      "metadata": {
        "id": "Ljz9kVZkQKzu"
      },
      "source": [
        "oof_sample = oof_preds.sample(30)\n",
        "\n",
        "plt.figure(figsize=(30,30))\n",
        "for i,sku in enumerate(oof_sample.index):\n",
        "    idays = valid.query(\"sku == @sku\").inventory_days.values[0]\n",
        "    plt.subplot(6,5,i+1)\n",
        "    plt.plot(oof_sample.loc[sku].index+1, oof_sample.loc[sku].values, \"o-\")\n",
        "    plt.title(f\"probabilities for sku={sku} | inventory_days={idays}\")\n",
        "    plt.grid()\n",
        "    plt.xlabel(\"days\")\n",
        "    plt.ylabel(\"prob\")\n",
        "plt.show()"
      ],
      "id": "Ljz9kVZkQKzu",
      "execution_count": null,
      "outputs": []
    },
    {
      "cell_type": "markdown",
      "metadata": {
        "id": "l-1wFtggQKzv"
      },
      "source": [
        "***\n",
        "## inference - data preparation"
      ],
      "id": "l-1wFtggQKzv"
    },
    {
      "cell_type": "code",
      "metadata": {
        "id": "yjYzjDRlQKzv",
        "colab": {
          "base_uri": "https://localhost:8080/"
        },
        "outputId": "b1042658-306a-4bfd-8fc9-f01f482c5304"
      },
      "source": [
        "predictions = pd.read_csv(f\"{results_path}/preds_m1_lgbm_sub21.csv\")\n",
        "pred_skus = predictions.sku.unique()\n",
        "len(pred_skus)"
      ],
      "id": "yjYzjDRlQKzv",
      "execution_count": 68,
      "outputs": [
        {
          "output_type": "execute_result",
          "data": {
            "text/plain": [
              "526158"
            ]
          },
          "metadata": {},
          "execution_count": 68
        }
      ]
    },
    {
      "cell_type": "code",
      "metadata": {
        "id": "-Gcp9amZQKzv",
        "colab": {
          "base_uri": "https://localhost:8080/"
        },
        "outputId": "8c54d088-37cb-4229-8bfb-f726cf63b43c"
      },
      "source": [
        "dataset = (\n",
        "    pd.read_parquet(f\"{input_path}/train-m1.parquet\")\n",
        "    .query(\"sku in @pred_skus\")\n",
        "    .sort_values([\"sku\",\"date\"])\n",
        "    .reset_index(drop=True)\n",
        ")\n",
        "dataset.sku.nunique()"
      ],
      "id": "-Gcp9amZQKzv",
      "execution_count": 69,
      "outputs": [
        {
          "output_type": "execute_result",
          "data": {
            "text/plain": [
              "526158"
            ]
          },
          "metadata": {},
          "execution_count": 69
        }
      ]
    },
    {
      "cell_type": "code",
      "metadata": {
        "id": "SAPhaHcsQKzv",
        "colab": {
          "base_uri": "https://localhost:8080/"
        },
        "outputId": "45f5ed76-283d-43b2-f4c9-09575ca83c07"
      },
      "source": [
        "raw = (\n",
        "    pd.read_parquet(\n",
        "        f\"{input_path}/train_data.parquet\", \n",
        "        columns=[\"sku\", \"date\", \"sold_quantity\", \"minutes_active\"]\n",
        "    )\n",
        "    .query(\"sku in @pred_skus\")\n",
        "    .sort_values([\"sku\",\"date\"])\n",
        "    .reset_index(drop=True)\n",
        ")\n",
        "metadata = pd.read_csv(f\"{input_path}/metadata.csv\", usecols=[\"sku\",\"item_domain_id\",\"site_id\"])\n",
        "raw = pd.merge(raw, metadata, how=\"inner\", on=\"sku\")\n",
        "raw.sku.nunique()"
      ],
      "id": "SAPhaHcsQKzv",
      "execution_count": 70,
      "outputs": [
        {
          "output_type": "execute_result",
          "data": {
            "text/plain": [
              "526158"
            ]
          },
          "metadata": {},
          "execution_count": 70
        }
      ]
    },
    {
      "cell_type": "code",
      "metadata": {
        "id": "n5-J9OfeQKzv",
        "colab": {
          "base_uri": "https://localhost:8080/"
        },
        "outputId": "5315359f-b44c-421f-d493-8532f59e870e"
      },
      "source": [
        "test = (\n",
        "    pd.read_csv(f\"{input_path}/test_data.csv\")\n",
        "    .query(\"sku in @pred_skus\")\n",
        "    .reset_index(drop=True)\n",
        ")\n",
        "test.sku.nunique()"
      ],
      "id": "n5-J9OfeQKzv",
      "execution_count": 71,
      "outputs": [
        {
          "output_type": "execute_result",
          "data": {
            "text/plain": [
              "526158"
            ]
          },
          "metadata": {},
          "execution_count": 71
        }
      ]
    },
    {
      "cell_type": "code",
      "metadata": {
        "id": "i6nj1EGOQKzv"
      },
      "source": [
        "feat = Featurador(raw)\n",
        "feat.fit(left_limit=\"2021-02-01\", right_limit=\"2021-03-31\")\n",
        "dataset = feat.transform(dataset)"
      ],
      "id": "i6nj1EGOQKzv",
      "execution_count": null,
      "outputs": []
    },
    {
      "cell_type": "code",
      "metadata": {
        "id": "XawjeOhRQKzv"
      },
      "source": [
        "dataset[\"was_active\"] = dataset.eval(\"minutes_active > 0\")\n",
        "dataset[\"had_sales\"] = dataset.eval(\"sold_quantity > 0\")\n",
        "\n",
        "dataset[\"tr_points\"] = dataset.groupby(\"sku\")[\"date\"].transform(\"count\")\n",
        "dataset[\"completeness\"] = dataset.tr_points / (dataset.date.nunique())\n",
        "\n",
        "dataset[\"minutes_rate1\"] = dataset.groupby(\"sku\")[\"minutes_active\"].transform(\"sum\") / (dataset.tr_points*1440)\n",
        "dataset[\"minutes_rate2\"] = dataset.groupby(\"sku\")[\"minutes_active\"].transform(\"sum\") / (dataset.date.nunique()*1440)\n",
        "\n",
        "dataset[\"activity_rate1\"] = dataset.groupby(\"sku\")[\"was_active\"].transform(\"sum\") / (dataset.tr_points)\n",
        "dataset[\"activity_rate2\"] = dataset.groupby(\"sku\")[\"was_active\"].transform(\"sum\") / (dataset.date.nunique())\n",
        "\n",
        "dataset[\"sales_rate1\"] = dataset.groupby(\"sku\")[\"had_sales\"].transform(\"sum\") / (dataset.tr_points)\n",
        "dataset[\"sales_rate2\"] = dataset.groupby(\"sku\")[\"had_sales\"].transform(\"sum\") / (dataset.date.nunique())\n",
        "\n",
        "dataset[\"q_mean_raw\"] = dataset.groupby(\"sku\")[\"sold_quantity\"].transform(\"mean\")\n",
        "dataset[\"q_std_raw\"] = dataset.groupby(\"sku\")[\"sold_quantity\"].transform(\"std\")"
      ],
      "id": "XawjeOhRQKzv",
      "execution_count": null,
      "outputs": []
    },
    {
      "cell_type": "code",
      "metadata": {
        "id": "cxYncGA9QKzw"
      },
      "source": [
        "# imputation of nan values\n",
        "idx = dataset[dataset[\"q_mean\"].isna()].index\n",
        "dataset.loc[idx, \"q_mean\"] = dataset.q_mean.median()\n",
        "\n",
        "idx = dataset[dataset[\"q_std\"].isna()].index\n",
        "dataset.loc[idx, \"q_std\"] = dataset.q_std.median()\n",
        "\n",
        "idx = dataset[dataset[\"q_mean_raw\"].isna()].index\n",
        "dataset.loc[idx, \"q_mean_raw\"] = dataset.q_mean_raw.median()\n",
        "\n",
        "idx = dataset[dataset[\"q_std_raw\"].isna()].index\n",
        "dataset.loc[idx, \"q_std_raw\"] = dataset.q_std_raw.median()"
      ],
      "id": "cxYncGA9QKzw",
      "execution_count": null,
      "outputs": []
    },
    {
      "cell_type": "code",
      "metadata": {
        "id": "OYdgF3TeQKzw"
      },
      "source": [
        "dataset[\"std_days\"] = dataset.eval(\"q_std / q_mean\")\n",
        "idx = dataset[dataset[\"std_days\"].isna()].index\n",
        "dataset.loc[idx, \"std_days\"] = dataset.std_days.median()\n",
        "print(len(idx))\n",
        "\n",
        "dataset[\"std_days_raw\"] = dataset.eval(\"q_std_raw / q_mean_raw\")\n",
        "idx = dataset[dataset[\"std_days_raw\"].isna()].index\n",
        "dataset.loc[idx, \"std_days_raw\"] = dataset.std_days_raw.median()\n",
        "print(len(idx))"
      ],
      "id": "OYdgF3TeQKzw",
      "execution_count": null,
      "outputs": []
    },
    {
      "cell_type": "code",
      "metadata": {
        "id": "-4ARneWIQKzw"
      },
      "source": [
        "dataset = dataset.drop_duplicates(subset=[\"sku\"], ignore_index=True)\n",
        "display(dataset)\n",
        "gc.collect()"
      ],
      "id": "-4ARneWIQKzw",
      "execution_count": null,
      "outputs": []
    },
    {
      "cell_type": "code",
      "metadata": {
        "id": "KVMfa4phQKzw"
      },
      "source": [
        "# inventory days predictions\n",
        "predictor = IDP()\n",
        "predictor.fit(predictions)\n",
        "\n",
        "preds1 = list()\n",
        "preds2 = list()\n",
        "for i,row in tqdm(test.iterrows()):\n",
        "    idp,idp_clip = predictor.predict(int(row.sku), int(row.target_stock))\n",
        "    preds1.append(idp)\n",
        "    preds2.append(idp_clip)\n",
        "    \n",
        "id_preds = pd.DataFrame({\n",
        "    \"sku\":test.sku.values, \n",
        "    \"idp\":preds1, \n",
        "    \"idp_clip\":preds2}\n",
        ")\n",
        "id_preds[\"no_stockout\"] = id_preds.eval(\"idp > 30\").astype(int)\n",
        "id_preds = pd.merge(id_preds, test, how=\"inner\", on=\"sku\")\n",
        "id_preds"
      ],
      "id": "KVMfa4phQKzw",
      "execution_count": null,
      "outputs": []
    },
    {
      "cell_type": "code",
      "metadata": {
        "id": "J1E5l8GIQKzw"
      },
      "source": [
        "dataset = (\n",
        "    dataset\n",
        "    .merge(id_preds, how=\"inner\", on=\"sku\")\n",
        ")\n",
        "dataset[\"idp_naive1\"] = dataset.eval(\"target_stock / q_mean\")\n",
        "dataset[\"idp_naive2\"] = dataset.eval(\"target_stock / q_mean_raw\")\n",
        "dataset.isna().sum(axis=0)"
      ],
      "id": "J1E5l8GIQKzw",
      "execution_count": null,
      "outputs": []
    },
    {
      "cell_type": "code",
      "metadata": {
        "id": "SkfoDGIPQKzw"
      },
      "source": [
        "transformed = encoder.transform(dataset[categ_cols])\n",
        "dataset[transformed.columns] = transformed.values"
      ],
      "id": "SkfoDGIPQKzw",
      "execution_count": null,
      "outputs": []
    },
    {
      "cell_type": "code",
      "metadata": {
        "id": "j75a3KD6QKzw"
      },
      "source": [
        "assert dataset[input_cols].isna().sum(axis=0).sum() == 0"
      ],
      "id": "j75a3KD6QKzw",
      "execution_count": null,
      "outputs": []
    },
    {
      "cell_type": "markdown",
      "metadata": {
        "id": "4bMlMeBFQKzw"
      },
      "source": [
        "***\n",
        "## inference"
      ],
      "id": "4bMlMeBFQKzw"
    },
    {
      "cell_type": "code",
      "metadata": {
        "id": "GDY1gq-VQKzx"
      },
      "source": [
        "preds_by_fold = list()\n",
        "\n",
        "for i,model in enumerate(models_by_fold):\n",
        "    print(f\"Making predictions with model: {i+1}/5\")\n",
        "    \n",
        "    x_test = dataset.loc[:,input_cols]\n",
        "    x_test = torch.tensor(x_test.values, dtype=torch.float, device=device)\n",
        "    preds_proba = model(x_test).detach().cpu().numpy()\n",
        "    preds_by_fold.append(preds_proba)"
      ],
      "id": "GDY1gq-VQKzx",
      "execution_count": null,
      "outputs": []
    },
    {
      "cell_type": "code",
      "metadata": {
        "id": "nY5m1ODmQKzx"
      },
      "source": [
        "preds_proba = np.mean(preds_by_fold, axis=0)\n",
        "preds_proba = preds_proba / preds_proba.sum(axis=1).reshape(-1,1)\n",
        "preds_proba = pd.DataFrame(preds_proba, index=dataset.sku.values)"
      ],
      "id": "nY5m1ODmQKzx",
      "execution_count": null,
      "outputs": []
    },
    {
      "cell_type": "code",
      "metadata": {
        "id": "MAnBWHGxQKzx"
      },
      "source": [
        "unpredictable = pd.read_csv(f\"{input_path}/unpredictable.csv\")\n",
        "unpreds_proba = np.ones((len(unpredictable),30)) / 30.\n",
        "unpreds_proba = pd.DataFrame(unpreds_proba, index=unpredictable.sku.values)\n",
        "\n",
        "preds_proba_mrg = pd.concat([preds_proba, unpreds_proba])\n",
        "preds_proba_mrg"
      ],
      "id": "MAnBWHGxQKzx",
      "execution_count": null,
      "outputs": []
    },
    {
      "cell_type": "markdown",
      "metadata": {
        "id": "IGegWKnQQKzx"
      },
      "source": [
        "***\n",
        "## generate submission"
      ],
      "id": "IGegWKnQQKzx"
    },
    {
      "cell_type": "code",
      "metadata": {
        "id": "d2OcTBf5QKzx"
      },
      "source": [
        "test = pd.read_csv(f\"{input_path}/test_data.csv\")\n",
        "preds_proba_mrg = preds_proba_mrg.loc[test.sku.values,:].copy()"
      ],
      "id": "d2OcTBf5QKzx",
      "execution_count": null,
      "outputs": []
    },
    {
      "cell_type": "code",
      "metadata": {
        "id": "9XTh84I_PaBj"
      },
      "source": [
        "preds_proba_mrg.max(axis=1).max()"
      ],
      "id": "9XTh84I_PaBj",
      "execution_count": null,
      "outputs": []
    },
    {
      "cell_type": "code",
      "metadata": {
        "id": "vA1LS7BWQKzx"
      },
      "source": [
        "assert preds_proba_mrg.isna().sum(axis=1).sum() == 0\n",
        "assert np.allclose(preds_proba_mrg.sum(axis=1).values, 1, atol=1e-16)\n",
        "assert preds_proba_mrg.max(axis=1).max() <= 1"
      ],
      "id": "vA1LS7BWQKzx",
      "execution_count": null,
      "outputs": []
    },
    {
      "cell_type": "code",
      "metadata": {
        "id": "Sk0JGcExQKzx"
      },
      "source": [
        "(preds_proba_mrg\n",
        " .round(4)\n",
        " .to_csv(f\"{subs_path}/sub{SUB_NBR}.csv.gz\", header=False, index=False, compression=\"gzip\")\n",
        ")"
      ],
      "id": "Sk0JGcExQKzx",
      "execution_count": null,
      "outputs": []
    },
    {
      "cell_type": "markdown",
      "metadata": {
        "id": "LaeaVmGbQKzx"
      },
      "source": [
        "***"
      ],
      "id": "LaeaVmGbQKzx"
    }
  ]
}