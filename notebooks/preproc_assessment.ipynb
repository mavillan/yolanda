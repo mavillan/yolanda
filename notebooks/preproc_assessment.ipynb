{
 "cells": [
  {
   "cell_type": "code",
   "execution_count": 1,
   "id": "efe7b278",
   "metadata": {},
   "outputs": [],
   "source": [
    "import numpy as np\n",
    "import pandas as pd\n",
    "from tqdm import tqdm"
   ]
  },
  {
   "cell_type": "markdown",
   "id": "5331062a",
   "metadata": {},
   "source": [
    "***\n",
    "## data loading"
   ]
  },
  {
   "cell_type": "code",
   "execution_count": 2,
   "id": "8a9a75fb",
   "metadata": {},
   "outputs": [],
   "source": [
    "split_date = \"2021-03-01\""
   ]
  },
  {
   "cell_type": "code",
   "execution_count": 3,
   "id": "dc18ae54",
   "metadata": {},
   "outputs": [],
   "source": [
    "data = pd.read_parquet(\"../data/train.parquet\")\n",
    "unpredictable = pd.read_csv(\"../data/unpredictable.csv\")\n",
    "data = data.query(\"sku not in @unpredictable.sku\").reset_index(drop=True)"
   ]
  },
  {
   "cell_type": "code",
   "execution_count": 4,
   "id": "5e7df0ab",
   "metadata": {},
   "outputs": [],
   "source": [
    "train = data.query(\"date <= @split_date\")\n",
    "valid = data.query(\"date > @split_date\")"
   ]
  },
  {
   "cell_type": "code",
   "execution_count": 5,
   "id": "67fbaa78",
   "metadata": {},
   "outputs": [],
   "source": [
    "to_remove1 = set(train.groupby(\"sku\")[\"sold_quantity\"].sum()[train.groupby(\"sku\")[\"sold_quantity\"].sum() == 0].index)\n",
    "to_remove2 = set(valid.groupby(\"sku\")[\"sold_quantity\"].sum()[valid.groupby(\"sku\")[\"sold_quantity\"].sum() == 0].index)\n",
    "assert len(to_remove1 & to_remove2) == 0\n",
    "to_remove = to_remove1 | to_remove2"
   ]
  },
  {
   "cell_type": "code",
   "execution_count": 6,
   "id": "cd63bd4b",
   "metadata": {},
   "outputs": [],
   "source": [
    "train = train.query(\"sku not in @to_remove\").reset_index(drop=True)\n",
    "valid = valid.query(\"sku not in @to_remove\").reset_index(drop=True)"
   ]
  },
  {
   "cell_type": "code",
   "execution_count": 7,
   "id": "f15a645f",
   "metadata": {},
   "outputs": [
    {
     "data": {
      "text/plain": [
       "496797"
      ]
     },
     "execution_count": 7,
     "metadata": {},
     "output_type": "execute_result"
    }
   ],
   "source": [
    "train.sku.nunique()"
   ]
  },
  {
   "cell_type": "code",
   "execution_count": 8,
   "id": "692240e5",
   "metadata": {},
   "outputs": [
    {
     "data": {
      "text/plain": [
       "509939"
      ]
     },
     "execution_count": 8,
     "metadata": {},
     "output_type": "execute_result"
    }
   ],
   "source": [
    "valid.sku.nunique()"
   ]
  },
  {
   "cell_type": "code",
   "execution_count": 9,
   "id": "35d6eb3a",
   "metadata": {},
   "outputs": [
    {
     "data": {
      "text/plain": [
       "496797"
      ]
     },
     "execution_count": 9,
     "metadata": {},
     "output_type": "execute_result"
    }
   ],
   "source": [
    "in_both = set(train.sku) & set(valid.sku)\n",
    "len(in_both)"
   ]
  },
  {
   "cell_type": "code",
   "execution_count": 10,
   "id": "f806c1b6",
   "metadata": {},
   "outputs": [],
   "source": [
    "train = train.query(\"sku in @in_both\").reset_index(drop=True)\n",
    "valid = valid.query(\"sku in @in_both\").reset_index(drop=True)"
   ]
  },
  {
   "cell_type": "code",
   "execution_count": 11,
   "id": "bf4be243",
   "metadata": {},
   "outputs": [
    {
     "data": {
      "text/html": [
       "<div>\n",
       "<style scoped>\n",
       "    .dataframe tbody tr th:only-of-type {\n",
       "        vertical-align: middle;\n",
       "    }\n",
       "\n",
       "    .dataframe tbody tr th {\n",
       "        vertical-align: top;\n",
       "    }\n",
       "\n",
       "    .dataframe thead th {\n",
       "        text-align: right;\n",
       "    }\n",
       "</style>\n",
       "<table border=\"1\" class=\"dataframe\">\n",
       "  <thead>\n",
       "    <tr style=\"text-align: right;\">\n",
       "      <th></th>\n",
       "      <th>sku</th>\n",
       "    </tr>\n",
       "  </thead>\n",
       "  <tbody>\n",
       "    <tr>\n",
       "      <th>0</th>\n",
       "      <td>1</td>\n",
       "    </tr>\n",
       "    <tr>\n",
       "      <th>1</th>\n",
       "      <td>3</td>\n",
       "    </tr>\n",
       "    <tr>\n",
       "      <th>2</th>\n",
       "      <td>4</td>\n",
       "    </tr>\n",
       "    <tr>\n",
       "      <th>3</th>\n",
       "      <td>5</td>\n",
       "    </tr>\n",
       "    <tr>\n",
       "      <th>4</th>\n",
       "      <td>6</td>\n",
       "    </tr>\n",
       "    <tr>\n",
       "      <th>...</th>\n",
       "      <td>...</td>\n",
       "    </tr>\n",
       "    <tr>\n",
       "      <th>496792</th>\n",
       "      <td>660911</td>\n",
       "    </tr>\n",
       "    <tr>\n",
       "      <th>496793</th>\n",
       "      <td>660912</td>\n",
       "    </tr>\n",
       "    <tr>\n",
       "      <th>496794</th>\n",
       "      <td>660913</td>\n",
       "    </tr>\n",
       "    <tr>\n",
       "      <th>496795</th>\n",
       "      <td>660914</td>\n",
       "    </tr>\n",
       "    <tr>\n",
       "      <th>496796</th>\n",
       "      <td>660915</td>\n",
       "    </tr>\n",
       "  </tbody>\n",
       "</table>\n",
       "<p>496797 rows × 1 columns</p>\n",
       "</div>"
      ],
      "text/plain": [
       "           sku\n",
       "0            1\n",
       "1            3\n",
       "2            4\n",
       "3            5\n",
       "4            6\n",
       "...        ...\n",
       "496792  660911\n",
       "496793  660912\n",
       "496794  660913\n",
       "496795  660914\n",
       "496796  660915\n",
       "\n",
       "[496797 rows x 1 columns]"
      ]
     },
     "execution_count": 11,
     "metadata": {},
     "output_type": "execute_result"
    }
   ],
   "source": [
    "skus_for_assess = pd.DataFrame(in_both, columns=[\"sku\",])\n",
    "skus_for_assess.to_csv(\"../data/skus_for_assess.csv\", index=False)\n",
    "skus_for_assess"
   ]
  },
  {
   "cell_type": "markdown",
   "id": "1c78a15b",
   "metadata": {},
   "source": [
    "***\n",
    "## generating multiple validation sets"
   ]
  },
  {
   "cell_type": "code",
   "execution_count": 12,
   "id": "75d100e5",
   "metadata": {},
   "outputs": [],
   "source": [
    "def create_validation_set(dataset, seed):\n",
    "    np.random.seed(seed)\n",
    "    \n",
    "    print('Sorting records...')\n",
    "    temp_pd = dataset.loc[:, ['sku','date','sold_quantity']].sort_values(['sku','date'])\n",
    "\n",
    "    print('Grouping quantity...')\n",
    "    temp_dict = temp_pd.groupby('sku').agg({'sold_quantity':lambda x: [i for i in x]})['sold_quantity'].to_dict()\n",
    "\n",
    "    result = []\n",
    "    for idx, list_quantity in tqdm(temp_dict.items(), desc='Making targets...'):\n",
    "        cumsum = np.array(list_quantity).cumsum()\n",
    "        stock_target = 0\n",
    "        if cumsum[-1] > 0 and len(cumsum)==30:\n",
    "            \n",
    "            #choose a random target different from 0\n",
    "            while stock_target == 0:\n",
    "                stock_target = np.random.choice(cumsum)\n",
    "                \n",
    "            #get the first day with this amount of sales\n",
    "            day_to_stockout = np.argwhere(cumsum==stock_target).min() + 1\n",
    "            \n",
    "            #add to a list\n",
    "            result.append({'sku':idx, 'target_stock':stock_target, 'inventory_days':day_to_stockout})\n",
    "    return result"
   ]
  },
  {
   "cell_type": "code",
   "execution_count": 13,
   "id": "2a4afcdd",
   "metadata": {},
   "outputs": [
    {
     "name": "stdout",
     "output_type": "stream",
     "text": [
      "Sorting records...\n",
      "Grouping quantity...\n"
     ]
    },
    {
     "name": "stderr",
     "output_type": "stream",
     "text": [
      "Making targets...: 100%|██████████| 496797/496797 [00:19<00:00, 25421.23it/s]\n"
     ]
    },
    {
     "name": "stdout",
     "output_type": "stream",
     "text": [
      "Number of skus: 496797\n",
      "Sorting records...\n",
      "Grouping quantity...\n"
     ]
    },
    {
     "name": "stderr",
     "output_type": "stream",
     "text": [
      "Making targets...: 100%|██████████| 496797/496797 [00:19<00:00, 25750.39it/s]\n"
     ]
    },
    {
     "name": "stdout",
     "output_type": "stream",
     "text": [
      "Number of skus: 496797\n",
      "Sorting records...\n",
      "Grouping quantity...\n"
     ]
    },
    {
     "name": "stderr",
     "output_type": "stream",
     "text": [
      "Making targets...: 100%|██████████| 496797/496797 [00:19<00:00, 26038.12it/s]\n"
     ]
    },
    {
     "name": "stdout",
     "output_type": "stream",
     "text": [
      "Number of skus: 496797\n",
      "Sorting records...\n",
      "Grouping quantity...\n"
     ]
    },
    {
     "name": "stderr",
     "output_type": "stream",
     "text": [
      "Making targets...: 100%|██████████| 496797/496797 [00:19<00:00, 26084.60it/s]\n"
     ]
    },
    {
     "name": "stdout",
     "output_type": "stream",
     "text": [
      "Number of skus: 496797\n",
      "Sorting records...\n",
      "Grouping quantity...\n"
     ]
    },
    {
     "name": "stderr",
     "output_type": "stream",
     "text": [
      "Making targets...: 100%|██████████| 496797/496797 [00:19<00:00, 25963.24it/s]\n"
     ]
    },
    {
     "name": "stdout",
     "output_type": "stream",
     "text": [
      "Number of skus: 496797\n",
      "Sorting records...\n",
      "Grouping quantity...\n"
     ]
    },
    {
     "name": "stderr",
     "output_type": "stream",
     "text": [
      "Making targets...: 100%|██████████| 496797/496797 [00:19<00:00, 25880.39it/s]\n"
     ]
    },
    {
     "name": "stdout",
     "output_type": "stream",
     "text": [
      "Number of skus: 496797\n",
      "Sorting records...\n",
      "Grouping quantity...\n"
     ]
    },
    {
     "name": "stderr",
     "output_type": "stream",
     "text": [
      "Making targets...: 100%|██████████| 496797/496797 [00:19<00:00, 25916.90it/s]\n"
     ]
    },
    {
     "name": "stdout",
     "output_type": "stream",
     "text": [
      "Number of skus: 496797\n",
      "Sorting records...\n",
      "Grouping quantity...\n"
     ]
    },
    {
     "name": "stderr",
     "output_type": "stream",
     "text": [
      "Making targets...: 100%|██████████| 496797/496797 [00:18<00:00, 26186.46it/s]\n"
     ]
    },
    {
     "name": "stdout",
     "output_type": "stream",
     "text": [
      "Number of skus: 496797\n",
      "Sorting records...\n",
      "Grouping quantity...\n"
     ]
    },
    {
     "name": "stderr",
     "output_type": "stream",
     "text": [
      "Making targets...: 100%|██████████| 496797/496797 [00:18<00:00, 26336.47it/s]\n"
     ]
    },
    {
     "name": "stdout",
     "output_type": "stream",
     "text": [
      "Number of skus: 496797\n"
     ]
    }
   ],
   "source": [
    "seed_list = [2, 3, 5, 7, 11, 13, 17, 19, 23]\n",
    "\n",
    "for seed in seed_list:\n",
    "    valid_dataset = create_validation_set(valid, seed=seed)\n",
    "    valid_dataset = pd.DataFrame(valid_dataset)\n",
    "    print(\"Number of skus:\", valid_dataset.sku.nunique())\n",
    "    valid_dataset.to_csv(f\"../data/validation_seed{seed}.csv\", index=False)"
   ]
  },
  {
   "cell_type": "markdown",
   "id": "6652fb59",
   "metadata": {},
   "source": [
    "***"
   ]
  }
 ],
 "metadata": {
  "kernelspec": {
   "display_name": "Python 3",
   "language": "python",
   "name": "python3"
  },
  "language_info": {
   "codemirror_mode": {
    "name": "ipython",
    "version": 3
   },
   "file_extension": ".py",
   "mimetype": "text/x-python",
   "name": "python",
   "nbconvert_exporter": "python",
   "pygments_lexer": "ipython3",
   "version": "3.8.11"
  }
 },
 "nbformat": 4,
 "nbformat_minor": 5
}
