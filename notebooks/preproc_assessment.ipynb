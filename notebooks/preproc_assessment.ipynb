{
 "cells": [
  {
   "cell_type": "code",
   "execution_count": 1,
   "id": "487e9433",
   "metadata": {},
   "outputs": [],
   "source": [
    "import numpy as np\n",
    "import pandas as pd\n",
    "from tqdm import tqdm\n",
    "import yaml"
   ]
  },
  {
   "cell_type": "markdown",
   "id": "95df835e",
   "metadata": {},
   "source": [
    "***\n",
    "## data loading"
   ]
  },
  {
   "cell_type": "code",
   "execution_count": 2,
   "id": "303bd454",
   "metadata": {},
   "outputs": [],
   "source": [
    "split_date = \"2021-03-01\""
   ]
  },
  {
   "cell_type": "code",
   "execution_count": 3,
   "id": "c1d3d0c6",
   "metadata": {},
   "outputs": [
    {
     "name": "stdout",
     "output_type": "stream",
     "text": [
      "25283\n"
     ]
    }
   ],
   "source": [
    "data = pd.read_parquet(\"../data/train.parquet\")\n",
    "unpredictable = pd.read_csv(\"../data/unpredictable.csv\")\n",
    "data = data.query(\"sku not in @unpredictable.sku\").reset_index(drop=True)\n",
    "print(len(unpredictable))"
   ]
  },
  {
   "cell_type": "code",
   "execution_count": 4,
   "id": "a10c63c6",
   "metadata": {},
   "outputs": [
    {
     "name": "stdout",
     "output_type": "stream",
     "text": [
      "dates on train: 29\n",
      "dates on valid: 30\n"
     ]
    }
   ],
   "source": [
    "train = data.query(\"date <= @split_date\").reset_index(drop=True)\n",
    "valid = data.query(\"date > @split_date\").reset_index(drop=True)\n",
    "print(\"dates on train:\", train.date.nunique())\n",
    "print(\"dates on valid:\", valid.date.nunique())"
   ]
  },
  {
   "cell_type": "markdown",
   "id": "649ab1e7",
   "metadata": {},
   "source": [
    "***\n",
    "remove skus without sales in either train or validation periods"
   ]
  },
  {
   "cell_type": "code",
   "execution_count": 5,
   "id": "1277a78d",
   "metadata": {},
   "outputs": [
    {
     "name": "stdout",
     "output_type": "stream",
     "text": [
      "len(to_remove1): 78988\n",
      "len(to_remove2): 46706\n"
     ]
    }
   ],
   "source": [
    "to_remove1 = set(train.groupby(\"sku\")[\"sold_quantity\"].sum()[train.groupby(\"sku\")[\"sold_quantity\"].sum() == 0].index)\n",
    "to_remove2 = set(valid.groupby(\"sku\")[\"sold_quantity\"].sum()[valid.groupby(\"sku\")[\"sold_quantity\"].sum() == 0].index)\n",
    "print(f\"len(to_remove1): {len(to_remove1)}\")\n",
    "print(f\"len(to_remove2): {len(to_remove2)}\")\n",
    "\n",
    "assert len(to_remove1 & to_remove2) == 0\n",
    "to_remove = to_remove1 | to_remove2"
   ]
  },
  {
   "cell_type": "code",
   "execution_count": 6,
   "id": "480d9c8e",
   "metadata": {},
   "outputs": [],
   "source": [
    "train = train.query(\"sku not in @to_remove\").reset_index(drop=True)\n",
    "valid = valid.query(\"sku not in @to_remove\").reset_index(drop=True)"
   ]
  },
  {
   "cell_type": "code",
   "execution_count": 7,
   "id": "eee0d7f3",
   "metadata": {},
   "outputs": [
    {
     "data": {
      "text/plain": [
       "496797"
      ]
     },
     "execution_count": 7,
     "metadata": {},
     "output_type": "execute_result"
    }
   ],
   "source": [
    "train.sku.nunique()"
   ]
  },
  {
   "cell_type": "code",
   "execution_count": 8,
   "id": "2679c25a",
   "metadata": {},
   "outputs": [
    {
     "data": {
      "text/plain": [
       "509939"
      ]
     },
     "execution_count": 8,
     "metadata": {},
     "output_type": "execute_result"
    }
   ],
   "source": [
    "valid.sku.nunique()"
   ]
  },
  {
   "cell_type": "code",
   "execution_count": 9,
   "id": "ec41234a",
   "metadata": {},
   "outputs": [
    {
     "data": {
      "text/plain": [
       "496797"
      ]
     },
     "execution_count": 9,
     "metadata": {},
     "output_type": "execute_result"
    }
   ],
   "source": [
    "in_both = set(train.sku) & set(valid.sku)\n",
    "len(in_both)"
   ]
  },
  {
   "cell_type": "code",
   "execution_count": 10,
   "id": "006929c0",
   "metadata": {},
   "outputs": [],
   "source": [
    "train = train.query(\"sku in @in_both\").reset_index(drop=True)\n",
    "valid = valid.query(\"sku in @in_both\").reset_index(drop=True)"
   ]
  },
  {
   "cell_type": "markdown",
   "id": "88634fab",
   "metadata": {},
   "source": [
    "***\n",
    "remove skus with huge variation of sales between train and validation periods"
   ]
  },
  {
   "cell_type": "code",
   "execution_count": 11,
   "id": "9407a9da",
   "metadata": {},
   "outputs": [],
   "source": [
    "sales_prop = valid.groupby(\"sku\")[\"sold_quantity\"].mean() / train.groupby(\"sku\")[\"sold_quantity\"].mean()\n",
    "sales_prop = sales_prop.reset_index(name=\"p\")"
   ]
  },
  {
   "cell_type": "code",
   "execution_count": 12,
   "id": "2cc235a4",
   "metadata": {},
   "outputs": [
    {
     "name": "stdout",
     "output_type": "stream",
     "text": [
      "len(to_remove): 13243\n"
     ]
    }
   ],
   "source": [
    "to_remove = sales_prop.query(\"p >= 10\").sku.values\n",
    "print(f\"len(to_remove): {len(to_remove)}\")"
   ]
  },
  {
   "cell_type": "code",
   "execution_count": 13,
   "id": "3c5b22a0",
   "metadata": {},
   "outputs": [],
   "source": [
    "train = train.query(\"sku not in @to_remove\").reset_index(drop=True)\n",
    "valid = valid.query(\"sku not in @to_remove\").reset_index(drop=True)"
   ]
  },
  {
   "cell_type": "markdown",
   "id": "1c6869ce",
   "metadata": {},
   "source": [
    "***\n",
    "remove skus with few data-points in train period"
   ]
  },
  {
   "cell_type": "code",
   "execution_count": 14,
   "id": "bef9c0c3",
   "metadata": {},
   "outputs": [
    {
     "name": "stdout",
     "output_type": "stream",
     "text": [
      "len(to_remove): 919\n"
     ]
    }
   ],
   "source": [
    "tr_count = train.groupby(\"sku\")[\"date\"].count().reset_index(name=\"c\")\n",
    "to_remove = tr_count.query(\"c <= 7\").sku.values\n",
    "print(f\"len(to_remove): {len(to_remove)}\")"
   ]
  },
  {
   "cell_type": "code",
   "execution_count": 15,
   "id": "dd2fade7",
   "metadata": {},
   "outputs": [],
   "source": [
    "train = train.query(\"sku not in @to_remove\").reset_index(drop=True)\n",
    "valid = valid.query(\"sku not in @to_remove\").reset_index(drop=True)"
   ]
  },
  {
   "cell_type": "markdown",
   "id": "6b61c1de",
   "metadata": {},
   "source": [
    "***\n",
    "save the skus"
   ]
  },
  {
   "cell_type": "code",
   "execution_count": 16,
   "id": "07f1ad42",
   "metadata": {},
   "outputs": [],
   "source": [
    "skus_assess_m1 = train.sku.unique().tolist()"
   ]
  },
  {
   "cell_type": "code",
   "execution_count": 17,
   "id": "633ff1eb",
   "metadata": {},
   "outputs": [
    {
     "data": {
      "text/plain": [
       "482635"
      ]
     },
     "execution_count": 17,
     "metadata": {},
     "output_type": "execute_result"
    }
   ],
   "source": [
    "with open(\"../data/skus_assess_m1.yaml\", \"w\") as file:\n",
    "    yaml.dump(skus_assess_m1, file)\n",
    "    file.close()\n",
    "len(skus_assess_m1)"
   ]
  },
  {
   "cell_type": "markdown",
   "id": "84fcab7b",
   "metadata": {},
   "source": [
    "***\n",
    "## generating multiple validation sets"
   ]
  },
  {
   "cell_type": "code",
   "execution_count": 19,
   "id": "481610ba",
   "metadata": {},
   "outputs": [],
   "source": [
    "def create_validation_set(dataset, seed, harder=False):\n",
    "    np.random.seed(seed)\n",
    "    \n",
    "    print('Sorting records...')\n",
    "    temp_df = dataset.loc[:, ['sku','date','sold_quantity']].sort_values(['sku','date'])\n",
    "\n",
    "    print('Grouping quantity...')\n",
    "    temp_dict = temp_df.groupby('sku').agg({'sold_quantity':lambda x: [i for i in x]})['sold_quantity'].to_dict()\n",
    "\n",
    "    result = []\n",
    "    for idx, list_quantity in tqdm(temp_dict.items(), desc='Making targets...'):\n",
    "        cumsum = np.array(list_quantity).cumsum()\n",
    "        target_stock = 0\n",
    "        if cumsum[-1] > 0 and len(cumsum)==30:\n",
    "            \n",
    "            # choose a random target different from 0\n",
    "            while target_stock == 0:\n",
    "                if harder:\n",
    "                    target_stock = np.random.choice(np.unique(cumsum))\n",
    "                else:\n",
    "                    target_stock = np.random.choice(cumsum)\n",
    "\n",
    "            # get the first day with this amount of sales\n",
    "            inventory_days = np.argwhere(cumsum==target_stock).min() + 1\n",
    "            \n",
    "            # add to a list\n",
    "            result.append({'sku':idx, 'target_stock':target_stock, 'inventory_days':inventory_days})\n",
    "            \n",
    "    return result"
   ]
  },
  {
   "cell_type": "code",
   "execution_count": 20,
   "id": "2c168480",
   "metadata": {},
   "outputs": [
    {
     "name": "stdout",
     "output_type": "stream",
     "text": [
      "Sorting records...\n",
      "Grouping quantity...\n"
     ]
    },
    {
     "name": "stderr",
     "output_type": "stream",
     "text": [
      "Making targets...: 100%|██████████| 482635/482635 [00:19<00:00, 24710.98it/s]\n"
     ]
    },
    {
     "name": "stdout",
     "output_type": "stream",
     "text": [
      "Number of skus: 482635\n",
      "Sorting records...\n",
      "Grouping quantity...\n"
     ]
    },
    {
     "name": "stderr",
     "output_type": "stream",
     "text": [
      "Making targets...: 100%|██████████| 482635/482635 [00:19<00:00, 25182.32it/s]\n"
     ]
    },
    {
     "name": "stdout",
     "output_type": "stream",
     "text": [
      "Number of skus: 482635\n",
      "Sorting records...\n",
      "Grouping quantity...\n"
     ]
    },
    {
     "name": "stderr",
     "output_type": "stream",
     "text": [
      "Making targets...: 100%|██████████| 482635/482635 [00:19<00:00, 24864.15it/s]\n"
     ]
    },
    {
     "name": "stdout",
     "output_type": "stream",
     "text": [
      "Number of skus: 482635\n",
      "Sorting records...\n",
      "Grouping quantity...\n"
     ]
    },
    {
     "name": "stderr",
     "output_type": "stream",
     "text": [
      "Making targets...: 100%|██████████| 482635/482635 [00:19<00:00, 25073.18it/s]\n"
     ]
    },
    {
     "name": "stdout",
     "output_type": "stream",
     "text": [
      "Number of skus: 482635\n"
     ]
    }
   ],
   "source": [
    "seed_list = [2, 17, 19, 23]\n",
    "\n",
    "for seed in seed_list:\n",
    "    valid_dataset = create_validation_set(valid, seed=seed)\n",
    "    valid_dataset = pd.DataFrame(valid_dataset)\n",
    "    print(\"Number of skus:\", valid_dataset.sku.nunique())\n",
    "    valid_dataset.to_csv(f\"../data/validation_seed{seed}.csv\", index=False)"
   ]
  },
  {
   "cell_type": "code",
   "execution_count": 21,
   "id": "6cc33d74",
   "metadata": {},
   "outputs": [
    {
     "name": "stdout",
     "output_type": "stream",
     "text": [
      "Sorting records...\n",
      "Grouping quantity...\n"
     ]
    },
    {
     "name": "stderr",
     "output_type": "stream",
     "text": [
      "Making targets...: 100%|██████████| 482635/482635 [00:23<00:00, 20697.06it/s]\n"
     ]
    },
    {
     "name": "stdout",
     "output_type": "stream",
     "text": [
      "Number of skus: 482635\n",
      "Sorting records...\n",
      "Grouping quantity...\n"
     ]
    },
    {
     "name": "stderr",
     "output_type": "stream",
     "text": [
      "Making targets...: 100%|██████████| 482635/482635 [00:23<00:00, 20324.73it/s]\n"
     ]
    },
    {
     "name": "stdout",
     "output_type": "stream",
     "text": [
      "Number of skus: 482635\n",
      "Sorting records...\n",
      "Grouping quantity...\n"
     ]
    },
    {
     "name": "stderr",
     "output_type": "stream",
     "text": [
      "Making targets...: 100%|██████████| 482635/482635 [00:22<00:00, 21045.08it/s]\n"
     ]
    },
    {
     "name": "stdout",
     "output_type": "stream",
     "text": [
      "Number of skus: 482635\n",
      "Sorting records...\n",
      "Grouping quantity...\n"
     ]
    },
    {
     "name": "stderr",
     "output_type": "stream",
     "text": [
      "Making targets...: 100%|██████████| 482635/482635 [00:23<00:00, 20521.33it/s]\n"
     ]
    },
    {
     "name": "stdout",
     "output_type": "stream",
     "text": [
      "Number of skus: 482635\n"
     ]
    }
   ],
   "source": [
    "seed_list = [2, 17, 19, 23]\n",
    "\n",
    "for seed in seed_list:\n",
    "    valid_dataset = create_validation_set(valid, seed=seed, harder=True)\n",
    "    valid_dataset = pd.DataFrame(valid_dataset)\n",
    "    print(\"Number of skus:\", valid_dataset.sku.nunique())\n",
    "    valid_dataset.to_csv(f\"../data/validation_seed{seed}_harder.csv\", index=False)"
   ]
  },
  {
   "cell_type": "markdown",
   "id": "80d87d0c",
   "metadata": {},
   "source": [
    "***\n",
    "inspecting the validation datasets"
   ]
  },
  {
   "cell_type": "code",
   "execution_count": 22,
   "id": "f8ac4c04",
   "metadata": {},
   "outputs": [],
   "source": [
    "import matplotlib.pyplot as plt"
   ]
  },
  {
   "cell_type": "code",
   "execution_count": 23,
   "id": "55c04175",
   "metadata": {},
   "outputs": [
    {
     "data": {
      "image/png": "[encoded data removed]",
      "text/plain": [
       "<Figure size 1440x360 with 1 Axes>"
      ]
     },
     "metadata": {
      "needs_background": "light"
     },
     "output_type": "display_data"
    }
   ],
   "source": [
    "valid1 = pd.read_csv(\"../data/validation_seed2.csv\")\n",
    "valid2 = pd.read_csv(\"../data/validation_seed2_harder.csv\")\n",
    "\n",
    "plt.figure(figsize=(20,5))\n",
    "plt.hist([valid1.inventory_days, valid2.inventory_days], bins=np.arange(0,31), rwidth=0.8, align=\"right\", label=[\"normal\",\"harder\"])\n",
    "plt.grid()\n",
    "plt.legend(loc=\"best\")\n",
    "plt.show()"
   ]
  },
  {
   "cell_type": "code",
   "execution_count": 24,
   "id": "f8c1a845",
   "metadata": {},
   "outputs": [
    {
     "data": {
      "image/png": "[encoded data removed]",
      "text/plain": [
       "<Figure size 1440x360 with 1 Axes>"
      ]
     },
     "metadata": {
      "needs_background": "light"
     },
     "output_type": "display_data"
    }
   ],
   "source": [
    "plt.figure(figsize=(20,5))\n",
    "valid1.target_stock.quantile(np.arange(0,1,0.01)).plot()\n",
    "valid2.target_stock.quantile(np.arange(0,1,0.01)).plot()\n",
    "plt.grid()\n",
    "plt.xlabel(\"quantile\")\n",
    "plt.ylabel(\"target_stock\")\n",
    "plt.show()"
   ]
  },
  {
   "cell_type": "code",
   "execution_count": 25,
   "id": "f5bea88a",
   "metadata": {},
   "outputs": [
    {
     "data": {
      "image/png": "[encoded data removed]",
      "text/plain": [
       "<Figure size 1440x360 with 1 Axes>"
      ]
     },
     "metadata": {
      "needs_background": "light"
     },
     "output_type": "display_data"
    }
   ],
   "source": [
    "plt.figure(figsize=(20,5))\n",
    "valid1.target_stock.quantile(np.arange(0.8,1,0.01)).plot()\n",
    "valid2.target_stock.quantile(np.arange(0.8,1,0.01)).plot()\n",
    "plt.grid()\n",
    "plt.xlabel(\"quantile\")\n",
    "plt.ylabel(\"target_stock\")\n",
    "plt.show()"
   ]
  },
  {
   "cell_type": "markdown",
   "id": "fac9ace5",
   "metadata": {},
   "source": [
    "***"
   ]
  }
 ],
 "metadata": {
  "kernelspec": {
   "display_name": "Python 3",
   "language": "python",
   "name": "python3"
  },
  "language_info": {
   "codemirror_mode": {
    "name": "ipython",
    "version": 3
   },
   "file_extension": ".py",
   "mimetype": "text/x-python",
   "name": "python",
   "nbconvert_exporter": "python",
   "pygments_lexer": "ipython3",
   "version": "3.8.11"
  }
 },
 "nbformat": 4,
 "nbformat_minor": 5
}
