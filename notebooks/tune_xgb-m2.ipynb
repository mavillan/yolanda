{
 "cells": [
  {
   "cell_type": "markdown",
   "id": "be2cb377",
   "metadata": {
    "id": "83cf80b3"
   },
   "source": [
    "***\n",
    "## notebook config"
   ]
  },
  {
   "cell_type": "code",
   "execution_count": 1,
   "id": "3411bc7c",
   "metadata": {
    "id": "1e657606"
   },
   "outputs": [],
   "source": [
    "ON_COLAB = False\n",
    "ASSESS = True"
   ]
  },
  {
   "cell_type": "code",
   "execution_count": 2,
   "id": "75836762",
   "metadata": {
    "colab": {
     "base_uri": "https://localhost:8080/"
    },
    "id": "d9dc33ee",
    "outputId": "5cec4226-0c0d-478f-c325-21fab7531d0f"
   },
   "outputs": [],
   "source": [
    "if ON_COLAB:\n",
    "    from google.colab import drive\n",
    "    from google.colab import files\n",
    "    drive.mount('/content/drive', force_remount=True)\n",
    "    \n",
    "    !pip install --upgrade kaggle > /dev/null 2>&1\n",
    "    !mkdir -p ~/.kaggle/ && cp /content/drive/MyDrive/kaggle/kaggle.json ~/.kaggle/ && chmod 600 ~/.kaggle/kaggle.json\n",
    "    \n",
    "    !free -h\n",
    "    \n",
    "    !pip install --upgrade category_encoders > /dev/null 2>&1\n",
    "    !pip install --upgrade xgboost > /dev/null 2>&1\n",
    "    !pip install --upgrade optuna > /dev/null 2>&1"
   ]
  },
  {
   "cell_type": "code",
   "execution_count": 3,
   "id": "fc42f0b1",
   "metadata": {
    "colab": {
     "base_uri": "https://localhost:8080/"
    },
    "id": "62d858d4",
    "outputId": "8bad643a-09fa-43fd-a5fd-89dedb448384"
   },
   "outputs": [
    {
     "name": "stdout",
     "output_type": "stream",
     "text": [
      "input_path: ../data\n",
      "subs_path: ../subs\n",
      "results_path: ../results\n"
     ]
    }
   ],
   "source": [
    "if ON_COLAB:\n",
    "    !kaggle datasets download -d mavillan/meli-2021 --force --unzip\n",
    "    !ls -halt\n",
    "    input_path = \"./\"\n",
    "    print(\"input_path:\", input_path)\n",
    "    subs_path = \"/content/drive/MyDrive/meli2021/subs\"\n",
    "    print(\"subs_path:\", subs_path)\n",
    "    results_path = \"/content/drive/MyDrive/meli2021/results\"\n",
    "    print(\"results_path:\", results_path)\n",
    "else:\n",
    "    input_path = \"../data\"\n",
    "    print(\"input_path:\", input_path)\n",
    "    subs_path = \"../subs\"\n",
    "    print(\"subs_path:\", subs_path)\n",
    "    results_path = \"../results\"\n",
    "    print(\"results_path:\", results_path)"
   ]
  },
  {
   "cell_type": "code",
   "execution_count": 4,
   "id": "143a6a69",
   "metadata": {
    "id": "89b9dad6"
   },
   "outputs": [],
   "source": [
    "SEED = 19"
   ]
  },
  {
   "cell_type": "markdown",
   "id": "20def714",
   "metadata": {
    "id": "460b2ce4"
   },
   "source": [
    "***"
   ]
  },
  {
   "cell_type": "code",
   "execution_count": 5,
   "id": "5b1b61f4",
   "metadata": {
    "id": "2d61474e"
   },
   "outputs": [],
   "source": [
    "from copy import deepcopy\n",
    "import gc\n",
    "from glob import glob\n",
    "import numpy as np\n",
    "import pandas as pd\n",
    "import matplotlib.pyplot as plt\n",
    "import seaborn as sns\n",
    "from scipy import interpolate\n",
    "from scipy import stats\n",
    "import time\n",
    "\n",
    "import category_encoders as ce\n",
    "import xgboost as xgb\n",
    "from tqdm import tqdm\n",
    "import optuna\n",
    "\n",
    "import sys\n",
    "sys.path.append(\"../utils\")\n",
    "from memory import reduce_mem_usage\n",
    "from metrics import RMSSE, ranked_probability_score, scoring_function, binarize_predictions\n",
    "from inventory import InventoryDaysPredictor\n",
    "\n",
    "np.random.seed(SEED)\n",
    "pd.set_option('display.max_columns', None)"
   ]
  },
  {
   "cell_type": "markdown",
   "id": "4fc0da28",
   "metadata": {
    "id": "292442af"
   },
   "source": [
    "***\n",
    "## loading data for assessment"
   ]
  },
  {
   "cell_type": "code",
   "execution_count": 6,
   "id": "ac747d5d",
   "metadata": {
    "colab": {
     "base_uri": "https://localhost:8080/",
     "height": 615
    },
    "id": "ef26754b",
    "outputId": "b3067a97-94d4-4d0f-ab07-4c760143aa1b"
   },
   "outputs": [
    {
     "name": "stdout",
     "output_type": "stream",
     "text": [
      "531832\n",
      "500404\n"
     ]
    }
   ],
   "source": [
    "if ASSESS:\n",
    "    dataset = (\n",
    "        pd.read_parquet(f\"{input_path}/train-m2.parquet\")\n",
    "        .rename({\"date\":\"ds\", \"sold_quantity\":\"y\"}, axis=1,)\n",
    "        .sort_values([\"sku\",\"ds\"])\n",
    "        .reset_index(drop=True)\n",
    "    )\n",
    "    \n",
    "dataset[\"nrows\"] = dataset.groupby(\"sku\")[\"ds\"].transform(\"count\")\n",
    "print(dataset.sku.nunique())\n",
    "print(dataset.query(\"nrows == 30\").sku.nunique())"
   ]
  },
  {
   "cell_type": "code",
   "execution_count": 7,
   "id": "2c22d4f9",
   "metadata": {},
   "outputs": [
    {
     "name": "stdout",
     "output_type": "stream",
     "text": [
      "500404\n",
      "272130\n"
     ]
    }
   ],
   "source": [
    "# just for assessment\n",
    "dataset = (\n",
    "    dataset\n",
    "    .query(\"nrows == 30\")\n",
    "    .query(\"ds in ('2021-02-01', '2021-03-02')\")\n",
    "    .reset_index(drop=True)\n",
    ")\n",
    "print(dataset.sku.nunique())\n",
    "\n",
    "# skus to remove on validation\n",
    "skus_to_remove = dataset.query(\"inventory_days > 30\").sku.unique()\n",
    "dataset = dataset.query(\"sku not in @skus_to_remove\").reset_index(drop=True)\n",
    "print(dataset.sku.nunique())"
   ]
  },
  {
   "cell_type": "code",
   "execution_count": 8,
   "id": "4f1727a8",
   "metadata": {},
   "outputs": [],
   "source": [
    "dataset[\"id_lower\"] = dataset[\"inventory_days\"].copy() \n",
    "dataset[\"id_upper\"] = dataset[\"inventory_days\"].copy()\n",
    "\n",
    "idx = dataset.query(\"inventory_days > 30\").index\n",
    "dataset.loc[idx,\"id_lower\"] = 30\n",
    "dataset.loc[idx,\"id_upper\"] = np.inf"
   ]
  },
  {
   "cell_type": "code",
   "execution_count": 9,
   "id": "8f4c6b9f",
   "metadata": {},
   "outputs": [
    {
     "name": "stdout",
     "output_type": "stream",
     "text": [
      "272130\n",
      "272130\n"
     ]
    }
   ],
   "source": [
    "train_dset = dataset.query(\"ds == '2021-02-01'\").reset_index(drop=True)\n",
    "valid_dset = dataset.query(\"ds == '2021-03-02'\").reset_index(drop=True)\n",
    "\n",
    "print(train_dset.sku.nunique())\n",
    "print(valid_dset.sku.nunique())"
   ]
  },
  {
   "cell_type": "code",
   "execution_count": 10,
   "id": "11aa5564",
   "metadata": {},
   "outputs": [
    {
     "name": "stdout",
     "output_type": "stream",
     "text": [
      "number of numeric: 19\n",
      "number of categs 2\n",
      "total feats: 21\n"
     ]
    }
   ],
   "source": [
    "numeric_cols = [\n",
    "    \"current_price\",\n",
    "    \"listing_type_classic\",\n",
    "    \"listing_type_premium\",\n",
    "    \"shipping_logistic_type_fulfillment\",\n",
    "    \"shipping_logistic_type_cross_docking\",\n",
    "    \"shipping_logistic_type_drop_off\",\n",
    "    \"shipping_payment_free_shipping\",\n",
    "    \"shipping_payment_paid_shipping\",\n",
    "    \"minutes_active\",\n",
    "    \"weekday_1\",\n",
    "    \"weekday_2\",\n",
    "    \"weekday_3\",\n",
    "    \"weekday_4\",\n",
    "    \"weekday_5\",\n",
    "    \"weekday_6\",\n",
    "    \"weekday_7\",\n",
    "    \"q_mean\",\n",
    "    \"q_std\",\n",
    "    \"target_stock\",   \n",
    "]\n",
    "print(\"number of numeric:\", len(numeric_cols))\n",
    "\n",
    "categs_cols = [\n",
    "    #\"sku\",\n",
    "    \"item_domain_id\",\n",
    "    #\"item_id\",\n",
    "    #\"site_id\",\n",
    "    \"product_id\",\n",
    "    #\"product_family_id\",  \n",
    "]\n",
    "print(\"number of categs\", len(categs_cols))\n",
    "\n",
    "categs_to_encode = [\n",
    "    #\"sku\",\n",
    "    #\"item_id\",\n",
    "    #\"product_family_id\",\n",
    "]\n",
    "\n",
    "target = \"inventory_days\"\n",
    "\n",
    "input_cols = numeric_cols + categs_cols\n",
    "print(\"total feats:\", len(input_cols))"
   ]
  },
  {
   "cell_type": "code",
   "execution_count": 11,
   "id": "59997b37",
   "metadata": {},
   "outputs": [
    {
     "data": {
      "text/plain": [
       "item_domain_id    7553\n",
       "product_id        6445\n",
       "dtype: int64"
      ]
     },
     "execution_count": 11,
     "metadata": {},
     "output_type": "execute_result"
    }
   ],
   "source": [
    "train_dset.loc[:,categs_cols].nunique()"
   ]
  },
  {
   "cell_type": "code",
   "execution_count": 12,
   "id": "83700c66",
   "metadata": {},
   "outputs": [],
   "source": [
    "encoder = ce.CatBoostEncoder()\n",
    "train_dset[categs_cols] = encoder.fit_transform(train_dset[categs_cols], train_dset.eval(\"target_stock / inventory_days\"))\n",
    "valid_dset[categs_cols] = encoder.transform(valid_dset[categs_cols])"
   ]
  },
  {
   "cell_type": "code",
   "execution_count": 13,
   "id": "68626d1c",
   "metadata": {},
   "outputs": [
    {
     "data": {
      "image/png": "[encoded data removed]",
      "text/plain": [
       "<Figure size 864x360 with 1 Axes>"
      ]
     },
     "metadata": {
      "needs_background": "light"
     },
     "output_type": "display_data"
    },
    {
     "data": {
      "image/png": "[encoded data removed]",
      "text/plain": [
       "<Figure size 864x360 with 1 Axes>"
      ]
     },
     "metadata": {
      "needs_background": "light"
     },
     "output_type": "display_data"
    }
   ],
   "source": [
    "plt.figure(figsize=(12,5))\n",
    "plt.hist(train_dset[target].values, bins=np.arange(1,31,1), rwidth=0.9)\n",
    "plt.title(\"target distribution - train\")\n",
    "plt.grid()\n",
    "plt.show()\n",
    "\n",
    "plt.figure(figsize=(12,5))\n",
    "plt.hist(valid_dset[target].values, bins=np.arange(1,31,1), rwidth=0.9)\n",
    "plt.title(\"target distribution - test\")\n",
    "plt.grid()\n",
    "plt.show()"
   ]
  },
  {
   "cell_type": "code",
   "execution_count": 14,
   "id": "207e770c",
   "metadata": {},
   "outputs": [
    {
     "name": "stdout",
     "output_type": "stream",
     "text": [
      "Uncensored rows (train): 0.0\n",
      "Uncensored rows (valid): 0.0\n"
     ]
    }
   ],
   "source": [
    "print(\"Uncensored rows (train):\", len(train_dset.query(\"inventory_days > 30\")) / 1e3)\n",
    "print(\"Uncensored rows (valid):\", len(valid_dset.query(\"inventory_days > 30\")) / 1e3)"
   ]
  },
  {
   "cell_type": "code",
   "execution_count": 15,
   "id": "ed2a3166",
   "metadata": {},
   "outputs": [
    {
     "data": {
      "text/plain": [
       "272130"
      ]
     },
     "execution_count": 15,
     "metadata": {},
     "output_type": "execute_result"
    }
   ],
   "source": [
    "train_dset.query(\"sku not in @skus_to_remove\").sku.nunique()"
   ]
  },
  {
   "cell_type": "markdown",
   "id": "1badb360",
   "metadata": {
    "id": "a98cb53a"
   },
   "source": [
    "***\n",
    "## loss tuning"
   ]
  },
  {
   "cell_type": "code",
   "execution_count": 16,
   "id": "40043157",
   "metadata": {},
   "outputs": [],
   "source": [
    "model_params = {\n",
    "    'objective': 'survival:aft',\n",
    "    'eval_metric': 'aft-nloglik',\n",
    "    #'aft_loss_distribution': 'normal',\n",
    "    #'aft_loss_distribution': 'logistic',\n",
    "    #'aft_loss_distribution': 'extreme',\n",
    "    #'aft_loss_distribution_scale': 2.,\n",
    "    \n",
    "    #'tree_method': 'exact',\n",
    "    #'tree_method': 'approx',\n",
    "    'tree_method': 'hist',\n",
    "    'max_bin': 256,\n",
    "    \n",
    "    'grow_policy': 'lossguide',\n",
    "    'max_leaves': 2**6-1,\n",
    "    'min_child_weight': 50,\n",
    "    'max_depth': 10,\n",
    "    \n",
    "    'learning_rate': 0.05,\n",
    "    'max_delta_step':1.,\n",
    "    \n",
    "    'colsample_bytree':0.8,\n",
    "    'subsample':0.95,\n",
    "    \n",
    "    'lambda':0.1,\n",
    "    'seed':SEED,\n",
    "}"
   ]
  },
  {
   "cell_type": "code",
   "execution_count": 17,
   "id": "0d2a5cb8",
   "metadata": {},
   "outputs": [
    {
     "data": {
      "text/plain": [
       "90"
      ]
     },
     "execution_count": 17,
     "metadata": {},
     "output_type": "execute_result"
    }
   ],
   "source": [
    "distributions = [\"normal\", \"logistic\", \"extreme\"]\n",
    "distributions_scale = np.arange(0.1, 3.01, 0.1)\n",
    "grid = [(dist,scale) for dist in distributions for scale in distributions_scale]\n",
    "len(grid)"
   ]
  },
  {
   "cell_type": "code",
   "execution_count": 20,
   "id": "8da1cd2c",
   "metadata": {},
   "outputs": [
    {
     "name": "stderr",
     "output_type": "stream",
     "text": [
      "100%|██████████| 90/90 [38:13<00:00, 25.49s/it]\n"
     ]
    }
   ],
   "source": [
    "sites = [\"MLA\",\"MLB\",\"MLM\"]\n",
    "results = list()\n",
    "\n",
    "for dist,scale in tqdm(grid):\n",
    "    \n",
    "    _model_params = dict(model_params)\n",
    "    _model_params[\"aft_loss_distribution\"] = dist\n",
    "    _model_params[\"aft_loss_distribution_scale\"] = scale\n",
    "    \n",
    "    oof_preds = list()\n",
    "    for site in sites:\n",
    "        _train_dset = train_dset.query(\"site_id == @site\").reset_index(drop=True)\n",
    "        _valid_dset = valid_dset.query(\"site_id == @site\").reset_index(drop=True)\n",
    "        sample_index = _train_dset.sample(frac=0.25).index\n",
    "\n",
    "        dtrain = xgb.DMatrix(\n",
    "            data = _train_dset.loc[:, numeric_cols+categs_cols], \n",
    "        )\n",
    "        dtrain.set_float_info('label_lower_bound', _train_dset.id_lower.values)\n",
    "        dtrain.set_float_info('label_upper_bound', _train_dset.id_upper.values)\n",
    "\n",
    "        dvalid = xgb.DMatrix(\n",
    "            data = _valid_dset.loc[:, numeric_cols+categs_cols],\n",
    "        )\n",
    "        dvalid.set_float_info('label_lower_bound', _valid_dset.id_lower.values)\n",
    "        dvalid.set_float_info('label_upper_bound', _valid_dset.id_upper.values)\n",
    "\n",
    "        model = xgb.train(\n",
    "            params = _model_params,\n",
    "            dtrain = dtrain,\n",
    "            evals = [(dvalid,\"valid\"),],\n",
    "            num_boost_round = 5000,\n",
    "            early_stopping_rounds = 50,\n",
    "            verbose_eval = False,\n",
    "        )\n",
    "\n",
    "        _valid_dset[\"pred\"] = model.predict(dvalid)\n",
    "        oof_preds.append(_valid_dset)\n",
    "        \n",
    "    oof_concat = pd.concat(oof_preds, ignore_index=True)\n",
    "    results.append(oof_concat.query(\"sku not in @skus_to_remove\").eval(\"abs(inventory_days - pred)\").mean())"
   ]
  },
  {
   "cell_type": "code",
   "execution_count": 21,
   "id": "2db3bdb5",
   "metadata": {},
   "outputs": [
    {
     "data": {
      "text/html": [
       "<div>\n",
       "<style scoped>\n",
       "    .dataframe tbody tr th:only-of-type {\n",
       "        vertical-align: middle;\n",
       "    }\n",
       "\n",
       "    .dataframe tbody tr th {\n",
       "        vertical-align: top;\n",
       "    }\n",
       "\n",
       "    .dataframe thead th {\n",
       "        text-align: right;\n",
       "    }\n",
       "</style>\n",
       "<table border=\"1\" class=\"dataframe\">\n",
       "  <thead>\n",
       "    <tr style=\"text-align: right;\">\n",
       "      <th></th>\n",
       "      <th>dist-scale</th>\n",
       "      <th>mae</th>\n",
       "    </tr>\n",
       "  </thead>\n",
       "  <tbody>\n",
       "    <tr>\n",
       "      <th>46</th>\n",
       "      <td>(logistic, 1.7000000000000002)</td>\n",
       "      <td>4.727973</td>\n",
       "    </tr>\n",
       "    <tr>\n",
       "      <th>43</th>\n",
       "      <td>(logistic, 1.4000000000000001)</td>\n",
       "      <td>4.728563</td>\n",
       "    </tr>\n",
       "    <tr>\n",
       "      <th>21</th>\n",
       "      <td>(normal, 2.2)</td>\n",
       "      <td>4.729120</td>\n",
       "    </tr>\n",
       "    <tr>\n",
       "      <th>45</th>\n",
       "      <td>(logistic, 1.6)</td>\n",
       "      <td>4.729451</td>\n",
       "    </tr>\n",
       "    <tr>\n",
       "      <th>44</th>\n",
       "      <td>(logistic, 1.5000000000000002)</td>\n",
       "      <td>4.729745</td>\n",
       "    </tr>\n",
       "    <tr>\n",
       "      <th>22</th>\n",
       "      <td>(normal, 2.3000000000000003)</td>\n",
       "      <td>4.729984</td>\n",
       "    </tr>\n",
       "    <tr>\n",
       "      <th>18</th>\n",
       "      <td>(normal, 1.9000000000000001)</td>\n",
       "      <td>4.730029</td>\n",
       "    </tr>\n",
       "    <tr>\n",
       "      <th>41</th>\n",
       "      <td>(logistic, 1.2000000000000002)</td>\n",
       "      <td>4.730180</td>\n",
       "    </tr>\n",
       "    <tr>\n",
       "      <th>47</th>\n",
       "      <td>(logistic, 1.8000000000000003)</td>\n",
       "      <td>4.730467</td>\n",
       "    </tr>\n",
       "    <tr>\n",
       "      <th>24</th>\n",
       "      <td>(normal, 2.5000000000000004)</td>\n",
       "      <td>4.730761</td>\n",
       "    </tr>\n",
       "    <tr>\n",
       "      <th>25</th>\n",
       "      <td>(normal, 2.6)</td>\n",
       "      <td>4.730767</td>\n",
       "    </tr>\n",
       "    <tr>\n",
       "      <th>23</th>\n",
       "      <td>(normal, 2.4000000000000004)</td>\n",
       "      <td>4.730952</td>\n",
       "    </tr>\n",
       "    <tr>\n",
       "      <th>42</th>\n",
       "      <td>(logistic, 1.3000000000000003)</td>\n",
       "      <td>4.731055</td>\n",
       "    </tr>\n",
       "    <tr>\n",
       "      <th>16</th>\n",
       "      <td>(normal, 1.7000000000000002)</td>\n",
       "      <td>4.731336</td>\n",
       "    </tr>\n",
       "    <tr>\n",
       "      <th>38</th>\n",
       "      <td>(logistic, 0.9)</td>\n",
       "      <td>4.731448</td>\n",
       "    </tr>\n",
       "    <tr>\n",
       "      <th>19</th>\n",
       "      <td>(normal, 2.0)</td>\n",
       "      <td>4.731714</td>\n",
       "    </tr>\n",
       "    <tr>\n",
       "      <th>40</th>\n",
       "      <td>(logistic, 1.1)</td>\n",
       "      <td>4.731832</td>\n",
       "    </tr>\n",
       "    <tr>\n",
       "      <th>13</th>\n",
       "      <td>(normal, 1.4000000000000001)</td>\n",
       "      <td>4.731911</td>\n",
       "    </tr>\n",
       "    <tr>\n",
       "      <th>17</th>\n",
       "      <td>(normal, 1.8000000000000003)</td>\n",
       "      <td>4.732276</td>\n",
       "    </tr>\n",
       "    <tr>\n",
       "      <th>48</th>\n",
       "      <td>(logistic, 1.9000000000000001)</td>\n",
       "      <td>4.732303</td>\n",
       "    </tr>\n",
       "  </tbody>\n",
       "</table>\n",
       "</div>"
      ],
      "text/plain": [
       "                        dist-scale       mae\n",
       "46  (logistic, 1.7000000000000002)  4.727973\n",
       "43  (logistic, 1.4000000000000001)  4.728563\n",
       "21                   (normal, 2.2)  4.729120\n",
       "45                 (logistic, 1.6)  4.729451\n",
       "44  (logistic, 1.5000000000000002)  4.729745\n",
       "22    (normal, 2.3000000000000003)  4.729984\n",
       "18    (normal, 1.9000000000000001)  4.730029\n",
       "41  (logistic, 1.2000000000000002)  4.730180\n",
       "47  (logistic, 1.8000000000000003)  4.730467\n",
       "24    (normal, 2.5000000000000004)  4.730761\n",
       "25                   (normal, 2.6)  4.730767\n",
       "23    (normal, 2.4000000000000004)  4.730952\n",
       "42  (logistic, 1.3000000000000003)  4.731055\n",
       "16    (normal, 1.7000000000000002)  4.731336\n",
       "38                 (logistic, 0.9)  4.731448\n",
       "19                   (normal, 2.0)  4.731714\n",
       "40                 (logistic, 1.1)  4.731832\n",
       "13    (normal, 1.4000000000000001)  4.731911\n",
       "17    (normal, 1.8000000000000003)  4.732276\n",
       "48  (logistic, 1.9000000000000001)  4.732303"
      ]
     },
     "execution_count": 21,
     "metadata": {},
     "output_type": "execute_result"
    }
   ],
   "source": [
    "results = pd.DataFrame({\"dist-scale\":grid, \"mae\":results})\n",
    "results.sort_values(\"mae\").head(20)"
   ]
  },
  {
   "cell_type": "code",
   "execution_count": 22,
   "id": "8bcdf304",
   "metadata": {},
   "outputs": [
    {
     "data": {
      "text/html": [
       "<div>\n",
       "<style scoped>\n",
       "    .dataframe tbody tr th:only-of-type {\n",
       "        vertical-align: middle;\n",
       "    }\n",
       "\n",
       "    .dataframe tbody tr th {\n",
       "        vertical-align: top;\n",
       "    }\n",
       "\n",
       "    .dataframe thead th {\n",
       "        text-align: right;\n",
       "    }\n",
       "</style>\n",
       "<table border=\"1\" class=\"dataframe\">\n",
       "  <thead>\n",
       "    <tr style=\"text-align: right;\">\n",
       "      <th></th>\n",
       "      <th>dist-scale</th>\n",
       "      <th>mae</th>\n",
       "    </tr>\n",
       "  </thead>\n",
       "  <tbody>\n",
       "    <tr>\n",
       "      <th>61</th>\n",
       "      <td>(extreme, 0.2)</td>\n",
       "      <td>5.763127</td>\n",
       "    </tr>\n",
       "    <tr>\n",
       "      <th>62</th>\n",
       "      <td>(extreme, 0.30000000000000004)</td>\n",
       "      <td>5.759614</td>\n",
       "    </tr>\n",
       "    <tr>\n",
       "      <th>63</th>\n",
       "      <td>(extreme, 0.4)</td>\n",
       "      <td>5.547923</td>\n",
       "    </tr>\n",
       "    <tr>\n",
       "      <th>64</th>\n",
       "      <td>(extreme, 0.5)</td>\n",
       "      <td>5.338475</td>\n",
       "    </tr>\n",
       "    <tr>\n",
       "      <th>65</th>\n",
       "      <td>(extreme, 0.6)</td>\n",
       "      <td>5.194547</td>\n",
       "    </tr>\n",
       "    <tr>\n",
       "      <th>60</th>\n",
       "      <td>(extreme, 0.1)</td>\n",
       "      <td>5.098739</td>\n",
       "    </tr>\n",
       "    <tr>\n",
       "      <th>66</th>\n",
       "      <td>(extreme, 0.7000000000000001)</td>\n",
       "      <td>5.089033</td>\n",
       "    </tr>\n",
       "    <tr>\n",
       "      <th>67</th>\n",
       "      <td>(extreme, 0.8)</td>\n",
       "      <td>5.014779</td>\n",
       "    </tr>\n",
       "    <tr>\n",
       "      <th>68</th>\n",
       "      <td>(extreme, 0.9)</td>\n",
       "      <td>4.965636</td>\n",
       "    </tr>\n",
       "    <tr>\n",
       "      <th>69</th>\n",
       "      <td>(extreme, 1.0)</td>\n",
       "      <td>4.923539</td>\n",
       "    </tr>\n",
       "    <tr>\n",
       "      <th>70</th>\n",
       "      <td>(extreme, 1.1)</td>\n",
       "      <td>4.892688</td>\n",
       "    </tr>\n",
       "    <tr>\n",
       "      <th>71</th>\n",
       "      <td>(extreme, 1.2000000000000002)</td>\n",
       "      <td>4.869285</td>\n",
       "    </tr>\n",
       "    <tr>\n",
       "      <th>72</th>\n",
       "      <td>(extreme, 1.3000000000000003)</td>\n",
       "      <td>4.849082</td>\n",
       "    </tr>\n",
       "    <tr>\n",
       "      <th>73</th>\n",
       "      <td>(extreme, 1.4000000000000001)</td>\n",
       "      <td>4.837430</td>\n",
       "    </tr>\n",
       "    <tr>\n",
       "      <th>74</th>\n",
       "      <td>(extreme, 1.5000000000000002)</td>\n",
       "      <td>4.822606</td>\n",
       "    </tr>\n",
       "    <tr>\n",
       "      <th>75</th>\n",
       "      <td>(extreme, 1.6)</td>\n",
       "      <td>4.812614</td>\n",
       "    </tr>\n",
       "    <tr>\n",
       "      <th>76</th>\n",
       "      <td>(extreme, 1.7000000000000002)</td>\n",
       "      <td>4.802370</td>\n",
       "    </tr>\n",
       "    <tr>\n",
       "      <th>77</th>\n",
       "      <td>(extreme, 1.8000000000000003)</td>\n",
       "      <td>4.795781</td>\n",
       "    </tr>\n",
       "    <tr>\n",
       "      <th>30</th>\n",
       "      <td>(logistic, 0.1)</td>\n",
       "      <td>4.792330</td>\n",
       "    </tr>\n",
       "    <tr>\n",
       "      <th>78</th>\n",
       "      <td>(extreme, 1.9000000000000001)</td>\n",
       "      <td>4.786903</td>\n",
       "    </tr>\n",
       "  </tbody>\n",
       "</table>\n",
       "</div>"
      ],
      "text/plain": [
       "                        dist-scale       mae\n",
       "61                  (extreme, 0.2)  5.763127\n",
       "62  (extreme, 0.30000000000000004)  5.759614\n",
       "63                  (extreme, 0.4)  5.547923\n",
       "64                  (extreme, 0.5)  5.338475\n",
       "65                  (extreme, 0.6)  5.194547\n",
       "60                  (extreme, 0.1)  5.098739\n",
       "66   (extreme, 0.7000000000000001)  5.089033\n",
       "67                  (extreme, 0.8)  5.014779\n",
       "68                  (extreme, 0.9)  4.965636\n",
       "69                  (extreme, 1.0)  4.923539\n",
       "70                  (extreme, 1.1)  4.892688\n",
       "71   (extreme, 1.2000000000000002)  4.869285\n",
       "72   (extreme, 1.3000000000000003)  4.849082\n",
       "73   (extreme, 1.4000000000000001)  4.837430\n",
       "74   (extreme, 1.5000000000000002)  4.822606\n",
       "75                  (extreme, 1.6)  4.812614\n",
       "76   (extreme, 1.7000000000000002)  4.802370\n",
       "77   (extreme, 1.8000000000000003)  4.795781\n",
       "30                 (logistic, 0.1)  4.792330\n",
       "78   (extreme, 1.9000000000000001)  4.786903"
      ]
     },
     "execution_count": 22,
     "metadata": {},
     "output_type": "execute_result"
    }
   ],
   "source": [
    "results.sort_values(\"mae\", ascending=False).head(20)"
   ]
  },
  {
   "cell_type": "markdown",
   "id": "e4952f41",
   "metadata": {
    "id": "f3b13ec3"
   },
   "source": [
    "***\n",
    "## hyperparameters tuning"
   ]
  },
  {
   "cell_type": "code",
   "execution_count": 29,
   "id": "7335fa8b",
   "metadata": {},
   "outputs": [],
   "source": [
    "dist,scale = results.sort_values(\"mae\").head(1)[\"dist-scale\"].values[0]\n",
    "\n",
    "default_params = dict(model_params)\n",
    "default_params[\"aft_loss_distribution\"] = dist\n",
    "default_params[\"aft_loss_distribution_scale\"] = scale"
   ]
  },
  {
   "cell_type": "code",
   "execution_count": 30,
   "id": "13e0b924",
   "metadata": {},
   "outputs": [],
   "source": [
    "def objective(trial):\n",
    "    \n",
    "    sampled_params = {\n",
    "        # tree structure\n",
    "        \"max_bin\" : 2**trial.suggest_int(\"max_bin\", 5, 9),\n",
    "        \"max_leaves\" : 2**trial.suggest_int(\"max_leaves\", 4, 9) - 1,\n",
    "        \"min_child_weight\" : trial.suggest_int(\"min_child_weight\", 10, 500),\n",
    "        \"max_depth\" : trial.suggest_int(\"max_depth\", 5, 12),\n",
    "        \n",
    "        # subsampling\n",
    "        \"colsample_bytree\" : trial.suggest_float(\"colsample_bytree\", 0.5, 1.0, step=0.05),\n",
    "        \"subsample\" : trial.suggest_float(\"subsample\", 0.5, 1.0, step=0.05),\n",
    "        \n",
    "        # regularization\n",
    "        \"max_delta_step\" : trial.suggest_float(\"max_delta_step\", 1e-3, 1.0, step=1e-3),\n",
    "        \"lambda\" : trial.suggest_float(\"lambda\", 0., 1.0),\n",
    "        \"alpha\" : trial.suggest_float(\"alpha\", 0., 1.0),\n",
    "        \"gamma\" : trial.suggest_float(\"gamma\", 0., 1.0),\n",
    "                \n",
    "        \"tree_method\" : trial.suggest_categorical(\"tree_method\", [\"exact\", \"approx\", \"hist\"]),\n",
    "        \"grow_policy\" : trial.suggest_categorical(\"grow_policy\", [\"lossguide\", \"depthwise\"]),\n",
    "    }\n",
    "    _model_params = {**default_params, **sampled_params}\n",
    "    \n",
    "    \n",
    "    sites = [\"MLA\",\"MLB\",\"MLM\"]\n",
    "    oof_preds = list()\n",
    "\n",
    "    for site in sites:\n",
    "        _train_dset = train_dset.query(\"site_id == @site\").reset_index(drop=True)\n",
    "        _valid_dset = valid_dset.query(\"site_id == @site\").reset_index(drop=True)\n",
    "\n",
    "        dtrain = xgb.DMatrix(\n",
    "            data = _train_dset.loc[:, numeric_cols+categs_cols], \n",
    "        )\n",
    "        dtrain.set_float_info('label_lower_bound', _train_dset.id_lower.values)\n",
    "        dtrain.set_float_info('label_upper_bound', _train_dset.id_upper.values)\n",
    "\n",
    "        dvalid = xgb.DMatrix(\n",
    "            data = _valid_dset.loc[:, numeric_cols+categs_cols],\n",
    "        )\n",
    "        dvalid.set_float_info('label_lower_bound', _valid_dset.id_lower.values)\n",
    "        dvalid.set_float_info('label_upper_bound', _valid_dset.id_upper.values)\n",
    "\n",
    "        model = xgb.train(\n",
    "            params = _model_params,\n",
    "            dtrain = dtrain,\n",
    "            evals = [(dvalid,\"valid\"),],\n",
    "            num_boost_round = 5000,\n",
    "            early_stopping_rounds = 50,\n",
    "            verbose_eval = False,\n",
    "        )\n",
    "\n",
    "        _valid_dset[\"pred\"] = model.predict(dvalid)\n",
    "        oof_preds.append(_valid_dset)\n",
    "\n",
    "    oof_concat = pd.concat(oof_preds, ignore_index=True)\n",
    "    return oof_concat.query(\"sku not in @skus_to_remove\").eval(\"abs(inventory_days - pred)\").mean()\n",
    "    "
   ]
  },
  {
   "cell_type": "code",
   "execution_count": 31,
   "id": "a8a79f5a",
   "metadata": {
    "collapsed": true,
    "jupyter": {
     "outputs_hidden": true
    }
   },
   "outputs": [
    {
     "name": "stderr",
     "output_type": "stream",
     "text": [
      "\u001b[32m[I 2021-08-27 10:58:17,180]\u001b[0m A new study created in memory with name: no-name-8b3b0c56-d47f-441e-9893-85e8440c8f35\u001b[0m\n",
      "\u001b[32m[I 2021-08-27 10:59:20,532]\u001b[0m Trial 0 finished with value: 4.837312449983316 and parameters: {'max_bin': 9, 'max_leaves': 6, 'min_child_weight': 383, 'max_depth': 10, 'colsample_bytree': 0.75, 'subsample': 0.55, 'max_delta_step': 0.859, 'lambda': 0.8871125538546817, 'alpha': 0.7089922788011118, 'gamma': 0.9574590405043492, 'tree_method': 'approx', 'grow_policy': 'depthwise'}. Best is trial 0 with value: 4.837312449983316.\u001b[0m\n",
      "\u001b[32m[I 2021-08-27 11:06:04,288]\u001b[0m Trial 1 finished with value: 4.809019542658373 and parameters: {'max_bin': 8, 'max_leaves': 4, 'min_child_weight': 412, 'max_depth': 12, 'colsample_bytree': 0.8500000000000001, 'subsample': 0.7, 'max_delta_step': 0.060000000000000005, 'lambda': 0.9301531353483536, 'alpha': 0.9540983713095026, 'gamma': 0.1871997031995618, 'tree_method': 'approx', 'grow_policy': 'depthwise'}. Best is trial 1 with value: 4.809019542658373.\u001b[0m\n",
      "\u001b[32m[I 2021-08-27 11:07:39,248]\u001b[0m Trial 2 finished with value: 4.774389557580335 and parameters: {'max_bin': 5, 'max_leaves': 7, 'min_child_weight': 229, 'max_depth': 9, 'colsample_bytree': 0.8500000000000001, 'subsample': 0.7, 'max_delta_step': 0.6990000000000001, 'lambda': 0.7048714125455413, 'alpha': 0.07602449550306944, 'gamma': 0.19766896013855484, 'tree_method': 'approx', 'grow_policy': 'depthwise'}. Best is trial 2 with value: 4.774389557580335.\u001b[0m\n",
      "\u001b[32m[I 2021-08-27 11:10:16,394]\u001b[0m Trial 3 finished with value: 4.7701745314205235 and parameters: {'max_bin': 8, 'max_leaves': 6, 'min_child_weight': 170, 'max_depth': 11, 'colsample_bytree': 0.8500000000000001, 'subsample': 0.5, 'max_delta_step': 0.274, 'lambda': 0.8939382665061355, 'alpha': 0.4764801604487753, 'gamma': 0.026682419634944998, 'tree_method': 'exact', 'grow_policy': 'lossguide'}. Best is trial 3 with value: 4.7701745314205235.\u001b[0m\n",
      "\u001b[32m[I 2021-08-27 11:12:51,179]\u001b[0m Trial 4 finished with value: 4.781611803814134 and parameters: {'max_bin': 6, 'max_leaves': 9, 'min_child_weight': 201, 'max_depth': 11, 'colsample_bytree': 0.55, 'subsample': 0.9, 'max_delta_step': 0.089, 'lambda': 0.4702483034726225, 'alpha': 0.8423152429562561, 'gamma': 0.659409806984915, 'tree_method': 'hist', 'grow_policy': 'lossguide'}. Best is trial 3 with value: 4.7701745314205235.\u001b[0m\n",
      "\u001b[32m[I 2021-08-27 11:15:20,280]\u001b[0m Trial 5 finished with value: 4.803332307887122 and parameters: {'max_bin': 5, 'max_leaves': 7, 'min_child_weight': 276, 'max_depth': 8, 'colsample_bytree': 1.0, 'subsample': 0.5, 'max_delta_step': 0.581, 'lambda': 0.11958162611703149, 'alpha': 0.23772063213322125, 'gamma': 0.6176942549113112, 'tree_method': 'approx', 'grow_policy': 'depthwise'}. Best is trial 3 with value: 4.7701745314205235.\u001b[0m\n",
      "\u001b[32m[I 2021-08-27 11:17:08,117]\u001b[0m Trial 6 finished with value: 4.8138843949921 and parameters: {'max_bin': 5, 'max_leaves': 5, 'min_child_weight': 263, 'max_depth': 6, 'colsample_bytree': 0.75, 'subsample': 0.7, 'max_delta_step': 0.064, 'lambda': 0.9276199269126421, 'alpha': 0.5902875000414683, 'gamma': 0.3643179592128989, 'tree_method': 'hist', 'grow_policy': 'depthwise'}. Best is trial 3 with value: 4.7701745314205235.\u001b[0m\n",
      "\u001b[32m[I 2021-08-27 11:19:30,623]\u001b[0m Trial 7 finished with value: 4.728978262091578 and parameters: {'max_bin': 9, 'max_leaves': 4, 'min_child_weight': 78, 'max_depth': 6, 'colsample_bytree': 1.0, 'subsample': 0.95, 'max_delta_step': 0.557, 'lambda': 0.6416233986201325, 'alpha': 0.6735449437210507, 'gamma': 0.7779874497511832, 'tree_method': 'exact', 'grow_policy': 'depthwise'}. Best is trial 7 with value: 4.728978262091578.\u001b[0m\n",
      "\u001b[32m[I 2021-08-27 11:22:18,089]\u001b[0m Trial 8 finished with value: 4.780923910814377 and parameters: {'max_bin': 7, 'max_leaves': 8, 'min_child_weight': 185, 'max_depth': 9, 'colsample_bytree': 0.5, 'subsample': 0.75, 'max_delta_step': 0.788, 'lambda': 0.46982473941592173, 'alpha': 0.5380219946366422, 'gamma': 0.7815309829946133, 'tree_method': 'approx', 'grow_policy': 'depthwise'}. Best is trial 7 with value: 4.728978262091578.\u001b[0m\n",
      "\u001b[32m[I 2021-08-27 11:23:39,387]\u001b[0m Trial 9 finished with value: 4.74676031983749 and parameters: {'max_bin': 7, 'max_leaves': 7, 'min_child_weight': 76, 'max_depth': 7, 'colsample_bytree': 0.6, 'subsample': 0.95, 'max_delta_step': 0.253, 'lambda': 0.1459172280424046, 'alpha': 0.08143744652572515, 'gamma': 0.38112221877460495, 'tree_method': 'hist', 'grow_policy': 'lossguide'}. Best is trial 7 with value: 4.728978262091578.\u001b[0m\n",
      "\u001b[32m[I 2021-08-27 11:25:10,833]\u001b[0m Trial 10 finished with value: 4.741753707164284 and parameters: {'max_bin': 9, 'max_leaves': 4, 'min_child_weight': 14, 'max_depth': 5, 'colsample_bytree': 1.0, 'subsample': 1.0, 'max_delta_step': 0.976, 'lambda': 0.6361965453904734, 'alpha': 0.2855905781298945, 'gamma': 0.9851824280382618, 'tree_method': 'exact', 'grow_policy': 'lossguide'}. Best is trial 7 with value: 4.728978262091578.\u001b[0m\n"
     ]
    },
    {
     "ename": "KeyboardInterrupt",
     "evalue": "",
     "output_type": "error",
     "traceback": [
      "\u001b[0;31m---------------------------------------------------------------------------\u001b[0m",
      "\u001b[0;31mKeyboardInterrupt\u001b[0m                         Traceback (most recent call last)",
      "\u001b[0;32m<ipython-input-31-47db5f5aea2e>\u001b[0m in \u001b[0;36m<module>\u001b[0;34m\u001b[0m\n\u001b[1;32m      1\u001b[0m \u001b[0mstudy\u001b[0m \u001b[0;34m=\u001b[0m \u001b[0moptuna\u001b[0m\u001b[0;34m.\u001b[0m\u001b[0mcreate_study\u001b[0m\u001b[0;34m(\u001b[0m\u001b[0mdirection\u001b[0m\u001b[0;34m=\u001b[0m\u001b[0;34m'minimize'\u001b[0m\u001b[0;34m)\u001b[0m\u001b[0;34m\u001b[0m\u001b[0;34m\u001b[0m\u001b[0m\n\u001b[0;32m----> 2\u001b[0;31m \u001b[0mstudy\u001b[0m\u001b[0;34m.\u001b[0m\u001b[0moptimize\u001b[0m\u001b[0;34m(\u001b[0m\u001b[0mobjective\u001b[0m\u001b[0;34m,\u001b[0m \u001b[0mn_trials\u001b[0m\u001b[0;34m=\u001b[0m\u001b[0;36m100000\u001b[0m\u001b[0;34m,\u001b[0m \u001b[0mtimeout\u001b[0m\u001b[0;34m=\u001b[0m\u001b[0;36m14400\u001b[0m\u001b[0;34m,\u001b[0m \u001b[0mn_jobs\u001b[0m\u001b[0;34m=\u001b[0m\u001b[0;36m1\u001b[0m\u001b[0;34m)\u001b[0m \u001b[0;31m# 4-hrs\u001b[0m\u001b[0;34m\u001b[0m\u001b[0;34m\u001b[0m\u001b[0m\n\u001b[0m",
      "\u001b[0;32m~/miniconda3/lib/python3.8/site-packages/optuna/study/study.py\u001b[0m in \u001b[0;36moptimize\u001b[0;34m(self, func, n_trials, timeout, n_jobs, catch, callbacks, gc_after_trial, show_progress_bar)\u001b[0m\n\u001b[1;32m    398\u001b[0m             )\n\u001b[1;32m    399\u001b[0m \u001b[0;34m\u001b[0m\u001b[0m\n\u001b[0;32m--> 400\u001b[0;31m         _optimize(\n\u001b[0m\u001b[1;32m    401\u001b[0m             \u001b[0mstudy\u001b[0m\u001b[0;34m=\u001b[0m\u001b[0mself\u001b[0m\u001b[0;34m,\u001b[0m\u001b[0;34m\u001b[0m\u001b[0;34m\u001b[0m\u001b[0m\n\u001b[1;32m    402\u001b[0m             \u001b[0mfunc\u001b[0m\u001b[0;34m=\u001b[0m\u001b[0mfunc\u001b[0m\u001b[0;34m,\u001b[0m\u001b[0;34m\u001b[0m\u001b[0;34m\u001b[0m\u001b[0m\n",
      "\u001b[0;32m~/miniconda3/lib/python3.8/site-packages/optuna/study/_optimize.py\u001b[0m in \u001b[0;36m_optimize\u001b[0;34m(study, func, n_trials, timeout, n_jobs, catch, callbacks, gc_after_trial, show_progress_bar)\u001b[0m\n\u001b[1;32m     64\u001b[0m     \u001b[0;32mtry\u001b[0m\u001b[0;34m:\u001b[0m\u001b[0;34m\u001b[0m\u001b[0;34m\u001b[0m\u001b[0m\n\u001b[1;32m     65\u001b[0m         \u001b[0;32mif\u001b[0m \u001b[0mn_jobs\u001b[0m \u001b[0;34m==\u001b[0m \u001b[0;36m1\u001b[0m\u001b[0;34m:\u001b[0m\u001b[0;34m\u001b[0m\u001b[0;34m\u001b[0m\u001b[0m\n\u001b[0;32m---> 66\u001b[0;31m             _optimize_sequential(\n\u001b[0m\u001b[1;32m     67\u001b[0m                 \u001b[0mstudy\u001b[0m\u001b[0;34m,\u001b[0m\u001b[0;34m\u001b[0m\u001b[0;34m\u001b[0m\u001b[0m\n\u001b[1;32m     68\u001b[0m                 \u001b[0mfunc\u001b[0m\u001b[0;34m,\u001b[0m\u001b[0;34m\u001b[0m\u001b[0;34m\u001b[0m\u001b[0m\n",
      "\u001b[0;32m~/miniconda3/lib/python3.8/site-packages/optuna/study/_optimize.py\u001b[0m in \u001b[0;36m_optimize_sequential\u001b[0;34m(study, func, n_trials, timeout, catch, callbacks, gc_after_trial, reseed_sampler_rng, time_start, progress_bar)\u001b[0m\n\u001b[1;32m    161\u001b[0m \u001b[0;34m\u001b[0m\u001b[0m\n\u001b[1;32m    162\u001b[0m         \u001b[0;32mtry\u001b[0m\u001b[0;34m:\u001b[0m\u001b[0;34m\u001b[0m\u001b[0;34m\u001b[0m\u001b[0m\n\u001b[0;32m--> 163\u001b[0;31m             \u001b[0mtrial\u001b[0m \u001b[0;34m=\u001b[0m \u001b[0m_run_trial\u001b[0m\u001b[0;34m(\u001b[0m\u001b[0mstudy\u001b[0m\u001b[0;34m,\u001b[0m \u001b[0mfunc\u001b[0m\u001b[0;34m,\u001b[0m \u001b[0mcatch\u001b[0m\u001b[0;34m)\u001b[0m\u001b[0;34m\u001b[0m\u001b[0;34m\u001b[0m\u001b[0m\n\u001b[0m\u001b[1;32m    164\u001b[0m         \u001b[0;32mexcept\u001b[0m \u001b[0mException\u001b[0m\u001b[0;34m:\u001b[0m\u001b[0;34m\u001b[0m\u001b[0;34m\u001b[0m\u001b[0m\n\u001b[1;32m    165\u001b[0m             \u001b[0;32mraise\u001b[0m\u001b[0;34m\u001b[0m\u001b[0;34m\u001b[0m\u001b[0m\n",
      "\u001b[0;32m~/miniconda3/lib/python3.8/site-packages/optuna/study/_optimize.py\u001b[0m in \u001b[0;36m_run_trial\u001b[0;34m(study, func, catch)\u001b[0m\n\u001b[1;32m    211\u001b[0m \u001b[0;34m\u001b[0m\u001b[0m\n\u001b[1;32m    212\u001b[0m     \u001b[0;32mtry\u001b[0m\u001b[0;34m:\u001b[0m\u001b[0;34m\u001b[0m\u001b[0;34m\u001b[0m\u001b[0m\n\u001b[0;32m--> 213\u001b[0;31m         \u001b[0mvalue_or_values\u001b[0m \u001b[0;34m=\u001b[0m \u001b[0mfunc\u001b[0m\u001b[0;34m(\u001b[0m\u001b[0mtrial\u001b[0m\u001b[0;34m)\u001b[0m\u001b[0;34m\u001b[0m\u001b[0;34m\u001b[0m\u001b[0m\n\u001b[0m\u001b[1;32m    214\u001b[0m     \u001b[0;32mexcept\u001b[0m \u001b[0mexceptions\u001b[0m\u001b[0;34m.\u001b[0m\u001b[0mTrialPruned\u001b[0m \u001b[0;32mas\u001b[0m \u001b[0me\u001b[0m\u001b[0;34m:\u001b[0m\u001b[0;34m\u001b[0m\u001b[0;34m\u001b[0m\u001b[0m\n\u001b[1;32m    215\u001b[0m         \u001b[0;31m# TODO(mamu): Handle multi-objective cases.\u001b[0m\u001b[0;34m\u001b[0m\u001b[0;34m\u001b[0m\u001b[0;34m\u001b[0m\u001b[0m\n",
      "\u001b[0;32m<ipython-input-30-b504ea7b0b9f>\u001b[0m in \u001b[0;36mobjective\u001b[0;34m(trial)\u001b[0m\n\u001b[1;32m     43\u001b[0m         \u001b[0mdvalid\u001b[0m\u001b[0;34m.\u001b[0m\u001b[0mset_float_info\u001b[0m\u001b[0;34m(\u001b[0m\u001b[0;34m'label_upper_bound'\u001b[0m\u001b[0;34m,\u001b[0m \u001b[0m_valid_dset\u001b[0m\u001b[0;34m.\u001b[0m\u001b[0mid_upper\u001b[0m\u001b[0;34m.\u001b[0m\u001b[0mvalues\u001b[0m\u001b[0;34m)\u001b[0m\u001b[0;34m\u001b[0m\u001b[0;34m\u001b[0m\u001b[0m\n\u001b[1;32m     44\u001b[0m \u001b[0;34m\u001b[0m\u001b[0m\n\u001b[0;32m---> 45\u001b[0;31m         model = xgb.train(\n\u001b[0m\u001b[1;32m     46\u001b[0m             \u001b[0mparams\u001b[0m \u001b[0;34m=\u001b[0m \u001b[0m_model_params\u001b[0m\u001b[0;34m,\u001b[0m\u001b[0;34m\u001b[0m\u001b[0;34m\u001b[0m\u001b[0m\n\u001b[1;32m     47\u001b[0m             \u001b[0mdtrain\u001b[0m \u001b[0;34m=\u001b[0m \u001b[0mdtrain\u001b[0m\u001b[0;34m,\u001b[0m\u001b[0;34m\u001b[0m\u001b[0;34m\u001b[0m\u001b[0m\n",
      "\u001b[0;32m~/miniconda3/lib/python3.8/site-packages/xgboost/training.py\u001b[0m in \u001b[0;36mtrain\u001b[0;34m(params, dtrain, num_boost_round, evals, obj, feval, maximize, early_stopping_rounds, evals_result, verbose_eval, xgb_model, callbacks)\u001b[0m\n\u001b[1;32m    225\u001b[0m     \u001b[0mBooster\u001b[0m \u001b[0;34m:\u001b[0m \u001b[0ma\u001b[0m \u001b[0mtrained\u001b[0m \u001b[0mbooster\u001b[0m \u001b[0mmodel\u001b[0m\u001b[0;34m\u001b[0m\u001b[0;34m\u001b[0m\u001b[0m\n\u001b[1;32m    226\u001b[0m     \"\"\"\n\u001b[0;32m--> 227\u001b[0;31m     bst = _train_internal(params, dtrain,\n\u001b[0m\u001b[1;32m    228\u001b[0m                           \u001b[0mnum_boost_round\u001b[0m\u001b[0;34m=\u001b[0m\u001b[0mnum_boost_round\u001b[0m\u001b[0;34m,\u001b[0m\u001b[0;34m\u001b[0m\u001b[0;34m\u001b[0m\u001b[0m\n\u001b[1;32m    229\u001b[0m                           \u001b[0mevals\u001b[0m\u001b[0;34m=\u001b[0m\u001b[0mevals\u001b[0m\u001b[0;34m,\u001b[0m\u001b[0;34m\u001b[0m\u001b[0;34m\u001b[0m\u001b[0m\n",
      "\u001b[0;32m~/miniconda3/lib/python3.8/site-packages/xgboost/training.py\u001b[0m in \u001b[0;36m_train_internal\u001b[0;34m(params, dtrain, num_boost_round, evals, obj, feval, xgb_model, callbacks, evals_result, maximize, verbose_eval, early_stopping_rounds)\u001b[0m\n\u001b[1;32m    100\u001b[0m         \u001b[0;31m# Skip the first update if it is a recovery step.\u001b[0m\u001b[0;34m\u001b[0m\u001b[0;34m\u001b[0m\u001b[0;34m\u001b[0m\u001b[0m\n\u001b[1;32m    101\u001b[0m         \u001b[0;32mif\u001b[0m \u001b[0mversion\u001b[0m \u001b[0;34m%\u001b[0m \u001b[0;36m2\u001b[0m \u001b[0;34m==\u001b[0m \u001b[0;36m0\u001b[0m\u001b[0;34m:\u001b[0m\u001b[0;34m\u001b[0m\u001b[0;34m\u001b[0m\u001b[0m\n\u001b[0;32m--> 102\u001b[0;31m             \u001b[0mbst\u001b[0m\u001b[0;34m.\u001b[0m\u001b[0mupdate\u001b[0m\u001b[0;34m(\u001b[0m\u001b[0mdtrain\u001b[0m\u001b[0;34m,\u001b[0m \u001b[0mi\u001b[0m\u001b[0;34m,\u001b[0m \u001b[0mobj\u001b[0m\u001b[0;34m)\u001b[0m\u001b[0;34m\u001b[0m\u001b[0;34m\u001b[0m\u001b[0m\n\u001b[0m\u001b[1;32m    103\u001b[0m             \u001b[0mbst\u001b[0m\u001b[0;34m.\u001b[0m\u001b[0msave_rabit_checkpoint\u001b[0m\u001b[0;34m(\u001b[0m\u001b[0;34m)\u001b[0m\u001b[0;34m\u001b[0m\u001b[0;34m\u001b[0m\u001b[0m\n\u001b[1;32m    104\u001b[0m             \u001b[0mversion\u001b[0m \u001b[0;34m+=\u001b[0m \u001b[0;36m1\u001b[0m\u001b[0;34m\u001b[0m\u001b[0;34m\u001b[0m\u001b[0m\n",
      "\u001b[0;32m~/miniconda3/lib/python3.8/site-packages/xgboost/core.py\u001b[0m in \u001b[0;36mupdate\u001b[0;34m(self, dtrain, iteration, fobj)\u001b[0m\n\u001b[1;32m   1278\u001b[0m \u001b[0;34m\u001b[0m\u001b[0m\n\u001b[1;32m   1279\u001b[0m         \u001b[0;32mif\u001b[0m \u001b[0mfobj\u001b[0m \u001b[0;32mis\u001b[0m \u001b[0;32mNone\u001b[0m\u001b[0;34m:\u001b[0m\u001b[0;34m\u001b[0m\u001b[0;34m\u001b[0m\u001b[0m\n\u001b[0;32m-> 1280\u001b[0;31m             _check_call(_LIB.XGBoosterUpdateOneIter(self.handle,\n\u001b[0m\u001b[1;32m   1281\u001b[0m                                                     \u001b[0mctypes\u001b[0m\u001b[0;34m.\u001b[0m\u001b[0mc_int\u001b[0m\u001b[0;34m(\u001b[0m\u001b[0miteration\u001b[0m\u001b[0;34m)\u001b[0m\u001b[0;34m,\u001b[0m\u001b[0;34m\u001b[0m\u001b[0;34m\u001b[0m\u001b[0m\n\u001b[1;32m   1282\u001b[0m                                                     dtrain.handle))\n",
      "\u001b[0;31mKeyboardInterrupt\u001b[0m: "
     ]
    }
   ],
   "source": [
    "study = optuna.create_study(direction='minimize')\n",
    "study.optimize(objective, n_trials=100000, timeout=14400, n_jobs=1) # 4-hrs"
   ]
  },
  {
   "cell_type": "markdown",
   "id": "35dc7bfc",
   "metadata": {},
   "source": [
    "***"
   ]
  }
 ],
 "metadata": {
  "accelerator": "TPU",
  "colab": {
   "collapsed_sections": [],
   "machine_shape": "hm",
   "name": "train_lgbm.ipynb",
   "provenance": []
  },
  "kernelspec": {
   "display_name": "Python 3",
   "language": "python",
   "name": "python3"
  },
  "language_info": {
   "codemirror_mode": {
    "name": "ipython",
    "version": 3
   },
   "file_extension": ".py",
   "mimetype": "text/x-python",
   "name": "python",
   "nbconvert_exporter": "python",
   "pygments_lexer": "ipython3",
   "version": "3.8.11"
  }
 },
 "nbformat": 4,
 "nbformat_minor": 5
}
