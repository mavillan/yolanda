{
 "cells": [
  {
   "cell_type": "markdown",
   "id": "613b0e9b",
   "metadata": {
    "id": "SzuthcIATQF8"
   },
   "source": [
    "***\n",
    "## notebook config"
   ]
  },
  {
   "cell_type": "code",
   "execution_count": 1,
   "id": "654ef8d7",
   "metadata": {},
   "outputs": [],
   "source": [
    "ON_COLAB = False"
   ]
  },
  {
   "cell_type": "code",
   "execution_count": 2,
   "id": "7956093a",
   "metadata": {},
   "outputs": [],
   "source": [
    "if ON_COLAB:\n",
    "    from google.colab import drive\n",
    "    from google.colab import files\n",
    "    drive.mount('/content/drive', force_remount=True)\n",
    "    \n",
    "    !pip install --upgrade kaggle > /dev/null 2>&1\n",
    "    !mkdir -p ~/.kaggle/ && cp /content/drive/MyDrive/kaggle/kaggle.json ~/.kaggle/ && chmod 600 ~/.kaggle/kaggle.json\n",
    "    \n",
    "    !free -h\n",
    "    \n",
    "    !pip install --upgrade category_encoders > /dev/null 2>&1\n",
    "    !pip install --upgrade tsforest > /dev/null 2>&1\n",
    "    !pip install --upgrade lightgbm > /dev/null 2>&1\n",
    "    !pip install --upgrade optuna > /dev/null 2>&1"
   ]
  },
  {
   "cell_type": "code",
   "execution_count": 3,
   "id": "f5f548c0",
   "metadata": {},
   "outputs": [
    {
     "name": "stdout",
     "output_type": "stream",
     "text": [
      "input_path: ../data\n"
     ]
    }
   ],
   "source": [
    "if ON_COLAB:\n",
    "    !kaggle datasets download -d mavillan/meli-2021 --force --unzip\n",
    "    !ls -halt\n",
    "    input_path = \"./\"\n",
    "    print(\"input_path:\", input_path)\n",
    "else:\n",
    "    input_path = \"../data\"\n",
    "    print(\"input_path:\", input_path)"
   ]
  },
  {
   "cell_type": "markdown",
   "id": "64db791b",
   "metadata": {
    "id": "1X4BK9ldSu-h"
   },
   "source": [
    "***"
   ]
  },
  {
   "cell_type": "code",
   "execution_count": 4,
   "id": "470d01da",
   "metadata": {
    "colab": {
     "base_uri": "https://localhost:8080/"
    },
    "id": "n5fzE-C3RsCU",
    "outputId": "9e455117-2617-4547-c9ce-103673134d1b"
   },
   "outputs": [],
   "source": [
    "from copy import deepcopy\n",
    "import gc\n",
    "from glob import glob\n",
    "import numpy as np\n",
    "import pandas as pd\n",
    "import matplotlib.pyplot as plt\n",
    "import seaborn as sns\n",
    "from scipy import interpolate\n",
    "from scipy import stats\n",
    "import time\n",
    "import yaml\n",
    "\n",
    "import category_encoders as ce\n",
    "import lightgbm as lgb\n",
    "from tqdm import tqdm\n",
    "from tsforest.forecast import LightGBMForecaster\n",
    "import optuna\n",
    "\n",
    "pd.set_option('display.max_columns', None)"
   ]
  },
  {
   "cell_type": "code",
   "execution_count": 5,
   "id": "755f66da",
   "metadata": {
    "id": "rAUlblJETNmK"
   },
   "outputs": [],
   "source": [
    "def reduce_mem_usage(df, verbose=False):\n",
    "    \"\"\"\n",
    "    Utility function to reduce the memory usage of pandas dataframes\n",
    "    \n",
    "    Parameters\n",
    "    ----------\n",
    "    df: pandas.Dataframe\n",
    "    verbose: Boolean\n",
    "    \"\"\"\n",
    "    numerics = ['int16', 'int32', 'int64', 'float16', 'float32', 'float64']\n",
    "    start_mem = df.memory_usage().sum() / 1024**2    \n",
    "    for col in df.columns:\n",
    "        col_type = df[col].dtypes\n",
    "        if col_type in numerics:\n",
    "            c_min = df[col].min()\n",
    "            c_max = df[col].max()\n",
    "            if str(col_type)[:3] == 'int':\n",
    "                if c_min > np.iinfo(np.int8).min and c_max < np.iinfo(np.int8).max:\n",
    "                    df[col] = df[col].astype(np.int8)\n",
    "                elif c_min > np.iinfo(np.int16).min and c_max < np.iinfo(np.int16).max:\n",
    "                    df[col] = df[col].astype(np.int16)\n",
    "                elif c_min > np.iinfo(np.int32).min and c_max < np.iinfo(np.int32).max:\n",
    "                    df[col] = df[col].astype(np.int32)\n",
    "                elif c_min > np.iinfo(np.int64).min and c_max < np.iinfo(np.int64).max:\n",
    "                    df[col] = df[col].astype(np.int64)  \n",
    "            else:\n",
    "                if c_min > np.finfo(np.float32).min and c_max < np.finfo(np.float32).max:\n",
    "                    df[col] = df[col].astype(np.float32)\n",
    "                else:\n",
    "                    df[col] = df[col].astype(np.float64)    \n",
    "    end_mem = df.memory_usage().sum() / 1024**2\n",
    "    if verbose: \n",
    "        print('Mem. usage decreased to {:5.2f} Mb ({:.1f}% reduction)'.format(end_mem, 100 * (start_mem - end_mem) / start_mem))\n",
    "    return df"
   ]
  },
  {
   "cell_type": "code",
   "execution_count": 6,
   "id": "129382dd",
   "metadata": {
    "id": "urUkoOWmIBR8"
   },
   "outputs": [],
   "source": [
    "class RMSSE():\n",
    "    def __init__(self, valid_dataframe, scales_dataframe):\n",
    "        self.valid_dataframe = valid_dataframe\n",
    "        self.scales_dataframe = scales_dataframe\n",
    "        self.apply_inverse = False\n",
    "        if set([\"y_mean\",\"y_std\"]) <= set(valid_dataframe.columns):\n",
    "            self.apply_inverse = True\n",
    "\n",
    "    def _evaluate(self, predictions):\n",
    "        valid_dataframe = self.valid_dataframe.copy()\n",
    "        if not self.apply_inverse:  \n",
    "            valid_dataframe[\"ypred\"] = predictions\n",
    "            valid_dataframe[\"sq_error\"] = valid_dataframe.eval(\"(y-ypred)**2\")\n",
    "        else:\n",
    "            valid_dataframe[\"ypred\"] = valid_dataframe[\"y_std\"]*predictions + valid_dataframe[\"y_mean\"]\n",
    "            valid_dataframe[\"sq_error\"] = valid_dataframe.eval(\"(y_raw-ypred)**2\")\n",
    "        mse = valid_dataframe.groupby(\"sku\")[\"sq_error\"].mean().reset_index(name=\"mse\")\n",
    "        mrg = pd.merge(mse, self.scales_dataframe, how=\"inner\", on=\"sku\")\n",
    "        return mrg.eval(\"sqrt(mse)/scale\").mean()\n",
    "\n",
    "    def evaluate(self, ypred, dtrain):\n",
    "        metric = self._evaluate(ypred)\n",
    "        return \"rmsse\", metric, False"
   ]
  },
  {
   "cell_type": "code",
   "execution_count": 7,
   "id": "68199c31",
   "metadata": {
    "id": "fiOInlHURVeX"
   },
   "outputs": [],
   "source": [
    "def ranked_probability_score(y_true, y_pred):\n",
    "    \"\"\"\n",
    "    Input\n",
    "        y_true: np.array of shape 30. \n",
    "        y_pred: np.array of shape 30. \n",
    "    \"\"\"\n",
    "    return ((y_true.cumsum(axis=1) - y_pred.cumsum(axis=1))**2).sum(axis=1).mean()\n",
    "\n",
    "def scoring_function(y_true, y_pred):\n",
    "    \"\"\"\n",
    "    Input\n",
    "        y_true: List of Ints of shape Nx1. Contain the target_stock\n",
    "        y_pred: List of float of shape Nx30. Contain the prob for each day\n",
    "    \"\"\"\n",
    "    y_true_one_hot = np.zeros_like(y_pred, dtype=np.float64)\n",
    "    y_true_one_hot[range(len(y_true)), y_true-1] = 1\n",
    "    return ranked_probability_score(y_true_one_hot, y_pred)"
   ]
  },
  {
   "cell_type": "markdown",
   "id": "ecd0eab9",
   "metadata": {
    "id": "04kuQeEPsdJI"
   },
   "source": [
    "***\n",
    "## loading data for assessment"
   ]
  },
  {
   "cell_type": "code",
   "execution_count": 8,
   "id": "900c379a",
   "metadata": {
    "colab": {
     "base_uri": "https://localhost:8080/",
     "height": 615
    },
    "id": "T3mjFMGwRsCX",
    "outputId": "529c3625-f003-4216-f81d-9151496bdd94"
   },
   "outputs": [
    {
     "data": {
      "text/html": [
       "<div>\n",
       "<style scoped>\n",
       "    .dataframe tbody tr th:only-of-type {\n",
       "        vertical-align: middle;\n",
       "    }\n",
       "\n",
       "    .dataframe tbody tr th {\n",
       "        vertical-align: top;\n",
       "    }\n",
       "\n",
       "    .dataframe thead th {\n",
       "        text-align: right;\n",
       "    }\n",
       "</style>\n",
       "<table border=\"1\" class=\"dataframe\">\n",
       "  <thead>\n",
       "    <tr style=\"text-align: right;\">\n",
       "      <th></th>\n",
       "      <th>ds</th>\n",
       "      <th>sku</th>\n",
       "      <th>y</th>\n",
       "      <th>current_price</th>\n",
       "      <th>currency</th>\n",
       "      <th>listing_type</th>\n",
       "      <th>shipping_logistic_type</th>\n",
       "      <th>shipping_payment</th>\n",
       "      <th>minutes_active</th>\n",
       "      <th>available</th>\n",
       "      <th>item_domain_id</th>\n",
       "      <th>item_id</th>\n",
       "      <th>site_id</th>\n",
       "      <th>product_id</th>\n",
       "      <th>product_family_id</th>\n",
       "    </tr>\n",
       "  </thead>\n",
       "  <tbody>\n",
       "    <tr>\n",
       "      <th>0</th>\n",
       "      <td>2021-02-01</td>\n",
       "      <td>1</td>\n",
       "      <td>0</td>\n",
       "      <td>135.899994</td>\n",
       "      <td>REA</td>\n",
       "      <td>premium</td>\n",
       "      <td>fulfillment</td>\n",
       "      <td>free_shipping</td>\n",
       "      <td>0.0</td>\n",
       "      <td>1</td>\n",
       "      <td>MLB-SURFBOARD_RACKS</td>\n",
       "      <td>300279</td>\n",
       "      <td>MLB</td>\n",
       "      <td>None</td>\n",
       "      <td>None</td>\n",
       "    </tr>\n",
       "    <tr>\n",
       "      <th>1</th>\n",
       "      <td>2021-02-02</td>\n",
       "      <td>1</td>\n",
       "      <td>0</td>\n",
       "      <td>135.899994</td>\n",
       "      <td>REA</td>\n",
       "      <td>premium</td>\n",
       "      <td>fulfillment</td>\n",
       "      <td>free_shipping</td>\n",
       "      <td>0.0</td>\n",
       "      <td>1</td>\n",
       "      <td>MLB-SURFBOARD_RACKS</td>\n",
       "      <td>300279</td>\n",
       "      <td>MLB</td>\n",
       "      <td>None</td>\n",
       "      <td>None</td>\n",
       "    </tr>\n",
       "    <tr>\n",
       "      <th>2</th>\n",
       "      <td>2021-02-03</td>\n",
       "      <td>1</td>\n",
       "      <td>0</td>\n",
       "      <td>135.899994</td>\n",
       "      <td>REA</td>\n",
       "      <td>premium</td>\n",
       "      <td>fulfillment</td>\n",
       "      <td>free_shipping</td>\n",
       "      <td>0.0</td>\n",
       "      <td>1</td>\n",
       "      <td>MLB-SURFBOARD_RACKS</td>\n",
       "      <td>300279</td>\n",
       "      <td>MLB</td>\n",
       "      <td>None</td>\n",
       "      <td>None</td>\n",
       "    </tr>\n",
       "    <tr>\n",
       "      <th>3</th>\n",
       "      <td>2021-02-04</td>\n",
       "      <td>1</td>\n",
       "      <td>0</td>\n",
       "      <td>135.899994</td>\n",
       "      <td>REA</td>\n",
       "      <td>premium</td>\n",
       "      <td>fulfillment</td>\n",
       "      <td>free_shipping</td>\n",
       "      <td>0.0</td>\n",
       "      <td>1</td>\n",
       "      <td>MLB-SURFBOARD_RACKS</td>\n",
       "      <td>300279</td>\n",
       "      <td>MLB</td>\n",
       "      <td>None</td>\n",
       "      <td>None</td>\n",
       "    </tr>\n",
       "    <tr>\n",
       "      <th>4</th>\n",
       "      <td>2021-02-05</td>\n",
       "      <td>1</td>\n",
       "      <td>0</td>\n",
       "      <td>135.899994</td>\n",
       "      <td>REA</td>\n",
       "      <td>premium</td>\n",
       "      <td>fulfillment</td>\n",
       "      <td>free_shipping</td>\n",
       "      <td>0.0</td>\n",
       "      <td>1</td>\n",
       "      <td>MLB-SURFBOARD_RACKS</td>\n",
       "      <td>300279</td>\n",
       "      <td>MLB</td>\n",
       "      <td>None</td>\n",
       "      <td>None</td>\n",
       "    </tr>\n",
       "    <tr>\n",
       "      <th>...</th>\n",
       "      <td>...</td>\n",
       "      <td>...</td>\n",
       "      <td>...</td>\n",
       "      <td>...</td>\n",
       "      <td>...</td>\n",
       "      <td>...</td>\n",
       "      <td>...</td>\n",
       "      <td>...</td>\n",
       "      <td>...</td>\n",
       "      <td>...</td>\n",
       "      <td>...</td>\n",
       "      <td>...</td>\n",
       "      <td>...</td>\n",
       "      <td>...</td>\n",
       "      <td>...</td>\n",
       "    </tr>\n",
       "    <tr>\n",
       "      <th>29179486</th>\n",
       "      <td>2021-03-27</td>\n",
       "      <td>660915</td>\n",
       "      <td>0</td>\n",
       "      <td>79.989998</td>\n",
       "      <td>MEX</td>\n",
       "      <td>classic</td>\n",
       "      <td>fulfillment</td>\n",
       "      <td>paid_shipping</td>\n",
       "      <td>0.0</td>\n",
       "      <td>1</td>\n",
       "      <td>MLM-SURGICAL_MASKS</td>\n",
       "      <td>423179</td>\n",
       "      <td>MLM</td>\n",
       "      <td>None</td>\n",
       "      <td>None</td>\n",
       "    </tr>\n",
       "    <tr>\n",
       "      <th>29179487</th>\n",
       "      <td>2021-03-28</td>\n",
       "      <td>660915</td>\n",
       "      <td>0</td>\n",
       "      <td>79.989998</td>\n",
       "      <td>MEX</td>\n",
       "      <td>classic</td>\n",
       "      <td>fulfillment</td>\n",
       "      <td>paid_shipping</td>\n",
       "      <td>0.0</td>\n",
       "      <td>1</td>\n",
       "      <td>MLM-SURGICAL_MASKS</td>\n",
       "      <td>423179</td>\n",
       "      <td>MLM</td>\n",
       "      <td>None</td>\n",
       "      <td>None</td>\n",
       "    </tr>\n",
       "    <tr>\n",
       "      <th>29179488</th>\n",
       "      <td>2021-03-29</td>\n",
       "      <td>660915</td>\n",
       "      <td>0</td>\n",
       "      <td>79.989998</td>\n",
       "      <td>MEX</td>\n",
       "      <td>classic</td>\n",
       "      <td>fulfillment</td>\n",
       "      <td>paid_shipping</td>\n",
       "      <td>0.0</td>\n",
       "      <td>1</td>\n",
       "      <td>MLM-SURGICAL_MASKS</td>\n",
       "      <td>423179</td>\n",
       "      <td>MLM</td>\n",
       "      <td>None</td>\n",
       "      <td>None</td>\n",
       "    </tr>\n",
       "    <tr>\n",
       "      <th>29179489</th>\n",
       "      <td>2021-03-30</td>\n",
       "      <td>660915</td>\n",
       "      <td>0</td>\n",
       "      <td>99.989998</td>\n",
       "      <td>MEX</td>\n",
       "      <td>classic</td>\n",
       "      <td>fulfillment</td>\n",
       "      <td>paid_shipping</td>\n",
       "      <td>0.0</td>\n",
       "      <td>1</td>\n",
       "      <td>MLM-SURGICAL_MASKS</td>\n",
       "      <td>423179</td>\n",
       "      <td>MLM</td>\n",
       "      <td>None</td>\n",
       "      <td>None</td>\n",
       "    </tr>\n",
       "    <tr>\n",
       "      <th>29179490</th>\n",
       "      <td>2021-03-31</td>\n",
       "      <td>660915</td>\n",
       "      <td>0</td>\n",
       "      <td>99.989998</td>\n",
       "      <td>MEX</td>\n",
       "      <td>classic</td>\n",
       "      <td>fulfillment</td>\n",
       "      <td>paid_shipping</td>\n",
       "      <td>0.0</td>\n",
       "      <td>1</td>\n",
       "      <td>MLM-SURGICAL_MASKS</td>\n",
       "      <td>423179</td>\n",
       "      <td>MLM</td>\n",
       "      <td>None</td>\n",
       "      <td>None</td>\n",
       "    </tr>\n",
       "  </tbody>\n",
       "</table>\n",
       "<p>29179491 rows × 15 columns</p>\n",
       "</div>"
      ],
      "text/plain": [
       "                 ds     sku  y  current_price currency listing_type  \\\n",
       "0        2021-02-01       1  0     135.899994      REA      premium   \n",
       "1        2021-02-02       1  0     135.899994      REA      premium   \n",
       "2        2021-02-03       1  0     135.899994      REA      premium   \n",
       "3        2021-02-04       1  0     135.899994      REA      premium   \n",
       "4        2021-02-05       1  0     135.899994      REA      premium   \n",
       "...             ...     ... ..            ...      ...          ...   \n",
       "29179486 2021-03-27  660915  0      79.989998      MEX      classic   \n",
       "29179487 2021-03-28  660915  0      79.989998      MEX      classic   \n",
       "29179488 2021-03-29  660915  0      79.989998      MEX      classic   \n",
       "29179489 2021-03-30  660915  0      99.989998      MEX      classic   \n",
       "29179490 2021-03-31  660915  0      99.989998      MEX      classic   \n",
       "\n",
       "         shipping_logistic_type shipping_payment  minutes_active  available  \\\n",
       "0                   fulfillment    free_shipping             0.0          1   \n",
       "1                   fulfillment    free_shipping             0.0          1   \n",
       "2                   fulfillment    free_shipping             0.0          1   \n",
       "3                   fulfillment    free_shipping             0.0          1   \n",
       "4                   fulfillment    free_shipping             0.0          1   \n",
       "...                         ...              ...             ...        ...   \n",
       "29179486            fulfillment    paid_shipping             0.0          1   \n",
       "29179487            fulfillment    paid_shipping             0.0          1   \n",
       "29179488            fulfillment    paid_shipping             0.0          1   \n",
       "29179489            fulfillment    paid_shipping             0.0          1   \n",
       "29179490            fulfillment    paid_shipping             0.0          1   \n",
       "\n",
       "               item_domain_id  item_id site_id product_id product_family_id  \n",
       "0         MLB-SURFBOARD_RACKS   300279     MLB       None              None  \n",
       "1         MLB-SURFBOARD_RACKS   300279     MLB       None              None  \n",
       "2         MLB-SURFBOARD_RACKS   300279     MLB       None              None  \n",
       "3         MLB-SURFBOARD_RACKS   300279     MLB       None              None  \n",
       "4         MLB-SURFBOARD_RACKS   300279     MLB       None              None  \n",
       "...                       ...      ...     ...        ...               ...  \n",
       "29179486   MLM-SURGICAL_MASKS   423179     MLM       None              None  \n",
       "29179487   MLM-SURGICAL_MASKS   423179     MLM       None              None  \n",
       "29179488   MLM-SURGICAL_MASKS   423179     MLM       None              None  \n",
       "29179489   MLM-SURGICAL_MASKS   423179     MLM       None              None  \n",
       "29179490   MLM-SURGICAL_MASKS   423179     MLM       None              None  \n",
       "\n",
       "[29179491 rows x 15 columns]"
      ]
     },
     "execution_count": 8,
     "metadata": {},
     "output_type": "execute_result"
    }
   ],
   "source": [
    "scales = pd.read_csv(f\"{input_path}/scales.csv\")\n",
    "skus_for_assess = pd.read_csv(f\"{input_path}/skus_for_assess.csv\")\n",
    "\n",
    "dataset = (\n",
    "    pd.read_parquet(f\"{input_path}/train.parquet\")\n",
    "    .query(\"sku in @skus_for_assess.sku\")\n",
    "    .rename({\"date\":\"ds\", \"sold_quantity\":\"y\"}, axis=1,)\n",
    "    .reset_index(drop=True)\n",
    ")\n",
    "dataset"
   ]
  },
  {
   "cell_type": "code",
   "execution_count": 9,
   "id": "1db4eadb",
   "metadata": {
    "colab": {
     "base_uri": "https://localhost:8080/"
    },
    "id": "Uj_voMA2U5ON",
    "outputId": "b9c4f117-34d5-4e7c-ec43-97cca26fc17f"
   },
   "outputs": [
    {
     "data": {
      "text/plain": [
       "site_id\n",
       "MLA     43314\n",
       "MLB    252475\n",
       "MLM    201008\n",
       "Name: sku, dtype: int64"
      ]
     },
     "execution_count": 9,
     "metadata": {},
     "output_type": "execute_result"
    }
   ],
   "source": [
    "dataset.groupby(\"site_id\")[\"sku\"].nunique()"
   ]
  },
  {
   "cell_type": "markdown",
   "id": "7109f624",
   "metadata": {
    "id": "9tiGhbztRsCZ"
   },
   "source": [
    "***\n",
    "## model config"
   ]
  },
  {
   "cell_type": "code",
   "execution_count": 10,
   "id": "289ff2ec",
   "metadata": {
    "id": "gz4KW4BCRsCZ"
   },
   "outputs": [],
   "source": [
    "categorical_features = {\n",
    "    \"sku\": (\"y\", ce.CatBoostEncoder, None),\n",
    "    \"currency\": \"default\",\n",
    "    \"listing_type\": \"default\",\n",
    "    \"shipping_logistic_type\": \"default\",\n",
    "    \"shipping_payment\": \"default\",\n",
    "    \"item_domain_id\": \"default\",\n",
    "    \"item_id\": (\"y\", ce.CatBoostEncoder, None),\n",
    "    \"site_id\":\"default\",\n",
    "    \"product_id\": (\"y\", ce.CatBoostEncoder, None),\n",
    "    \"product_family_id\": (\"y\", ce.CatBoostEncoder, None),\n",
    "}\n",
    "\n",
    "exclude_features = [\"fold\",\"sold_quantity\",]\n",
    "\n",
    "model_params = {\n",
    "    'objective':'tweedie',\n",
    "    'tweedie_variance_power':1.6,\n",
    "    'metric':'rmse',\n",
    "    'num_iterations':1000,\n",
    "    'max_bin': 63,\n",
    "    'bin_construct_sample_cnt':20000000,\n",
    "    'num_leaves': 2**8-1,\n",
    "    'min_data_in_leaf': 2**8-1,\n",
    "    'learning_rate': 0.02,\n",
    "    'max_delta_step':1.,\n",
    "    'feature_fraction':0.8,\n",
    "    'bagging_fraction':0.8,\n",
    "    'bagging_freq':1,\n",
    "    'lambda_l2':0.1,\n",
    "    'boost_from_average': False,\n",
    "    'force_row_wise': True,\n",
    "    'deterministic':True,\n",
    "    'seed':42,\n",
    "    #'device_type': 'gpu',\n",
    "    #'num_gpu' : 1,\n",
    "}\n",
    "time_features = [\n",
    "    \"week_day\",\n",
    "    \"week_day_cos\",\n",
    "    \"week_day_sin\",\n",
    "    \"month_progress\",\n",
    "]\n",
    "model_kwargs = {\n",
    "    \"model_params\":model_params,\n",
    "    \"time_features\":time_features,\n",
    "    \"exclude_features\":exclude_features,\n",
    "    \"categorical_features\":categorical_features,\n",
    "    \"ts_uid_columns\":[\"sku\",],\n",
    "}"
   ]
  },
  {
   "cell_type": "code",
   "execution_count": 11,
   "id": "2a0be5db",
   "metadata": {
    "colab": {
     "base_uri": "https://localhost:8080/"
    },
    "id": "esA2oYe8JoFO",
    "outputId": "7633a621-00c9-4afe-b30c-5e897db5a069"
   },
   "outputs": [
    {
     "data": {
      "text/plain": [
       "sku                       0.000000\n",
       "currency                  0.000000\n",
       "listing_type              0.000000\n",
       "shipping_logistic_type    0.000000\n",
       "shipping_payment          0.000000\n",
       "item_domain_id            0.000000\n",
       "item_id                   0.000000\n",
       "site_id                   0.000000\n",
       "product_id                0.963178\n",
       "product_family_id         0.883613\n",
       "dtype: float64"
      ]
     },
     "execution_count": 11,
     "metadata": {},
     "output_type": "execute_result"
    }
   ],
   "source": [
    "dataset.loc[:,categorical_features.keys()].isna().sum(axis=0) / len(dataset)"
   ]
  },
  {
   "cell_type": "code",
   "execution_count": 12,
   "id": "a2163ef1",
   "metadata": {
    "colab": {
     "base_uri": "https://localhost:8080/"
    },
    "id": "m7_tQ8kjJ6aR",
    "outputId": "b9bf7925-dff8-465b-8eb6-612521cbe5ee"
   },
   "outputs": [
    {
     "data": {
      "text/plain": [
       "sku                       496797\n",
       "currency                       4\n",
       "listing_type                   2\n",
       "shipping_logistic_type         3\n",
       "shipping_payment               2\n",
       "item_domain_id              8156\n",
       "item_id                   392139\n",
       "site_id                        3\n",
       "product_id                 11756\n",
       "product_family_id          24176\n",
       "dtype: int64"
      ]
     },
     "execution_count": 12,
     "metadata": {},
     "output_type": "execute_result"
    }
   ],
   "source": [
    "dataset.loc[:,categorical_features.keys()].nunique()"
   ]
  },
  {
   "cell_type": "markdown",
   "id": "670b66ba",
   "metadata": {
    "id": "RouugUteIydh"
   },
   "source": [
    "***\n",
    "## model training: assessment"
   ]
  },
  {
   "cell_type": "code",
   "execution_count": 13,
   "id": "75ed0574",
   "metadata": {
    "colab": {
     "base_uri": "https://localhost:8080/",
     "height": 829
    },
    "id": "Nf6g2DZeJWyS",
    "outputId": "9d8907bc-59ff-4030-ba4f-eb74899aa61e"
   },
   "outputs": [
    {
     "name": "stdout",
     "output_type": "stream",
     "text": [
      "---------------------------------------------------------------------------\n",
      "Preparing model for site: MLA\n",
      "Mem. usage decreased to 81.74 Mb (52.4% reduction)\n",
      "Mem. usage decreased to 85.51 Mb (52.4% reduction)\n",
      "Elapsed time for processing features: 0.2305383841196696 min.\n"
     ]
    },
    {
     "name": "stderr",
     "output_type": "stream",
     "text": [
      "[I 2021-08-18 17:57:22,223] A new study created in memory with name: no-name-5f229773-8522-452b-9b4b-38d648f955f1\n",
      "feature_fraction, val_score: inf:   0%|          | 0/7 [00:00<?, ?it/s]"
     ]
    },
    {
     "name": "stdout",
     "output_type": "stream",
     "text": [
      "[LightGBM] [Warning] min_data_in_leaf is set=255, min_child_samples=20 will be ignored. Current value: min_data_in_leaf=255\n",
      "[LightGBM] [Warning] min_data_in_leaf is set=255, min_child_samples=20 will be ignored. Current value: min_data_in_leaf=255\n",
      "[LightGBM] [Info] Total Bins 2085\n",
      "[LightGBM] [Info] Number of data points in the train set: 1242194, number of used features: 17\n",
      "[LightGBM] [Warning] min_data_in_leaf is set=255, min_child_samples=20 will be ignored. Current value: min_data_in_leaf=255\n",
      "[LightGBM] [Warning] No further splits with positive gain, best gain: -inf\n",
      "Training until validation scores don't improve for 30 rounds\n",
      "[LightGBM] [Warning] No further splits with positive gain, best gain: -inf\n",
      "[LightGBM] [Warning] No further splits with positive gain, best gain: -inf\n",
      "[LightGBM] [Warning] No further splits with positive gain, best gain: -inf\n",
      "[50]\tvalid_0's rmse: 5.76205\tvalid_0's rmsse: 0.849528\n",
      "[LightGBM] [Warning] No further splits with positive gain, best gain: -inf\n",
      "[LightGBM] [Warning] No further splits with positive gain, best gain: -inf\n",
      "[100]\tvalid_0's rmse: 5.6198\tvalid_0's rmsse: 0.788982\n",
      "[LightGBM] [Warning] No further splits with positive gain, best gain: -inf\n",
      "[150]\tvalid_0's rmse: 5.44946\tvalid_0's rmsse: 0.776663\n",
      "[LightGBM] [Warning] No further splits with positive gain, best gain: -inf\n",
      "[200]\tvalid_0's rmse: 5.2859\tvalid_0's rmsse: 0.77223\n",
      "[LightGBM] [Warning] No further splits with positive gain, best gain: -inf\n",
      "[250]\tvalid_0's rmse: 5.157\tvalid_0's rmsse: 0.770698\n",
      "[LightGBM] [Warning] No further splits with positive gain, best gain: -inf\n",
      "[LightGBM] [Warning] No further splits with positive gain, best gain: -inf\n",
      "[300]\tvalid_0's rmse: 5.0734\tvalid_0's rmsse: 0.770247\n",
      "[LightGBM] [Warning] No further splits with positive gain, best gain: -inf\n",
      "[350]\tvalid_0's rmse: 5.02656\tvalid_0's rmsse: 0.769945\n",
      "Early stopping, best iteration is:\n",
      "[355]\tvalid_0's rmse: 5.02135\tvalid_0's rmsse: 0.769925\n"
     ]
    },
    {
     "name": "stderr",
     "output_type": "stream",
     "text": [
      "feature_fraction, val_score: 5.021351:  14%|#4        | 1/7 [01:53<11:23, 113.94s/it][I 2021-08-18 17:59:16,212] Trial 0 finished with value: 5.021351013967754 and parameters: {'feature_fraction': 0.4}. Best is trial 0 with value: 5.021351013967754.\n",
      "feature_fraction, val_score: 5.021351:  14%|#4        | 1/7 [01:53<11:23, 113.94s/it]"
     ]
    },
    {
     "name": "stdout",
     "output_type": "stream",
     "text": [
      "[LightGBM] [Warning] min_data_in_leaf is set=255, min_child_samples=20 will be ignored. Current value: min_data_in_leaf=255\n",
      "[LightGBM] [Warning] min_data_in_leaf is set=255, min_child_samples=20 will be ignored. Current value: min_data_in_leaf=255\n",
      "[LightGBM] [Info] Total Bins 2085\n",
      "[LightGBM] [Info] Number of data points in the train set: 1242194, number of used features: 17\n",
      "[LightGBM] [Warning] min_data_in_leaf is set=255, min_child_samples=20 will be ignored. Current value: min_data_in_leaf=255\n",
      "Training until validation scores don't improve for 30 rounds\n",
      "[50]\tvalid_0's rmse: 5.73065\tvalid_0's rmsse: 0.818674\n",
      "[100]\tvalid_0's rmse: 5.54188\tvalid_0's rmsse: 0.774576\n",
      "[150]\tvalid_0's rmse: 5.31595\tvalid_0's rmsse: 0.769542\n",
      "Early stopping, best iteration is:\n",
      "[169]\tvalid_0's rmse: 5.23647\tvalid_0's rmsse: 0.76943\n"
     ]
    },
    {
     "name": "stderr",
     "output_type": "stream",
     "text": [
      "feature_fraction, val_score: 5.021351:  29%|##8       | 2/7 [03:04<07:21, 88.30s/it] [I 2021-08-18 18:00:26,562] Trial 1 finished with value: 5.236466365843444 and parameters: {'feature_fraction': 0.8}. Best is trial 0 with value: 5.021351013967754.\n",
      "feature_fraction, val_score: 5.021351:  29%|##8       | 2/7 [03:04<07:21, 88.30s/it]"
     ]
    },
    {
     "name": "stdout",
     "output_type": "stream",
     "text": [
      "[LightGBM] [Warning] min_data_in_leaf is set=255, min_child_samples=20 will be ignored. Current value: min_data_in_leaf=255\n",
      "[LightGBM] [Warning] min_data_in_leaf is set=255, min_child_samples=20 will be ignored. Current value: min_data_in_leaf=255\n",
      "[LightGBM] [Info] Total Bins 2085\n",
      "[LightGBM] [Info] Number of data points in the train set: 1242194, number of used features: 17\n",
      "[LightGBM] [Warning] min_data_in_leaf is set=255, min_child_samples=20 will be ignored. Current value: min_data_in_leaf=255\n",
      "Training until validation scores don't improve for 30 rounds\n",
      "[50]\tvalid_0's rmse: 5.72964\tvalid_0's rmsse: 0.817414\n",
      "[100]\tvalid_0's rmse: 5.54017\tvalid_0's rmsse: 0.774284\n",
      "[150]\tvalid_0's rmse: 5.31366\tvalid_0's rmsse: 0.769562\n",
      "Early stopping, best iteration is:\n",
      "[166]\tvalid_0's rmse: 5.24523\tvalid_0's rmsse: 0.769481\n"
     ]
    },
    {
     "name": "stderr",
     "output_type": "stream",
     "text": [
      "feature_fraction, val_score: 5.021351:  43%|####2     | 3/7 [04:16<05:23, 80.81s/it][I 2021-08-18 18:01:38,476] Trial 2 finished with value: 5.245231461258684 and parameters: {'feature_fraction': 0.8999999999999999}. Best is trial 0 with value: 5.021351013967754.\n",
      "feature_fraction, val_score: 5.021351:  43%|####2     | 3/7 [04:16<05:23, 80.81s/it]"
     ]
    },
    {
     "name": "stdout",
     "output_type": "stream",
     "text": [
      "[LightGBM] [Warning] min_data_in_leaf is set=255, min_child_samples=20 will be ignored. Current value: min_data_in_leaf=255\n",
      "[LightGBM] [Warning] min_data_in_leaf is set=255, min_child_samples=20 will be ignored. Current value: min_data_in_leaf=255\n",
      "[LightGBM] [Info] Total Bins 2085\n",
      "[LightGBM] [Info] Number of data points in the train set: 1242194, number of used features: 17\n",
      "[LightGBM] [Warning] min_data_in_leaf is set=255, min_child_samples=20 will be ignored. Current value: min_data_in_leaf=255\n",
      "Training until validation scores don't improve for 30 rounds\n",
      "[50]\tvalid_0's rmse: 5.74702\tvalid_0's rmsse: 0.834083\n",
      "[LightGBM] [Warning] No further splits with positive gain, best gain: -inf\n",
      "[100]\tvalid_0's rmse: 5.58309\tvalid_0's rmsse: 0.781875\n",
      "[150]\tvalid_0's rmse: 5.38856\tvalid_0's rmsse: 0.772043\n",
      "[200]\tvalid_0's rmse: 5.20305\tvalid_0's rmsse: 0.769746\n",
      "[250]\tvalid_0's rmse: 5.09353\tvalid_0's rmsse: 0.769491\n",
      "Early stopping, best iteration is:\n",
      "[233]\tvalid_0's rmse: 5.12567\tvalid_0's rmsse: 0.769392\n"
     ]
    },
    {
     "name": "stderr",
     "output_type": "stream",
     "text": [
      "feature_fraction, val_score: 5.021351:  57%|#####7    | 4/7 [06:05<04:36, 92.12s/it][I 2021-08-18 18:03:27,929] Trial 3 finished with value: 5.125668995790686 and parameters: {'feature_fraction': 0.5}. Best is trial 0 with value: 5.021351013967754.\n",
      "feature_fraction, val_score: 5.021351:  57%|#####7    | 4/7 [06:05<04:36, 92.12s/it]"
     ]
    },
    {
     "name": "stdout",
     "output_type": "stream",
     "text": [
      "[LightGBM] [Warning] min_data_in_leaf is set=255, min_child_samples=20 will be ignored. Current value: min_data_in_leaf=255\n",
      "[LightGBM] [Warning] min_data_in_leaf is set=255, min_child_samples=20 will be ignored. Current value: min_data_in_leaf=255\n",
      "[LightGBM] [Info] Total Bins 2085\n",
      "[LightGBM] [Info] Number of data points in the train set: 1242194, number of used features: 17\n",
      "[LightGBM] [Warning] min_data_in_leaf is set=255, min_child_samples=20 will be ignored. Current value: min_data_in_leaf=255\n",
      "Training until validation scores don't improve for 30 rounds\n",
      "[50]\tvalid_0's rmse: 5.74259\tvalid_0's rmsse: 0.82985\n",
      "[LightGBM] [Warning] No further splits with positive gain, best gain: -inf\n",
      "[100]\tvalid_0's rmse: 5.57144\tvalid_0's rmsse: 0.77903\n",
      "[150]\tvalid_0's rmse: 5.36086\tvalid_0's rmsse: 0.770547\n",
      "[200]\tvalid_0's rmse: 5.17402\tvalid_0's rmsse: 0.769126\n",
      "Early stopping, best iteration is:\n",
      "[199]\tvalid_0's rmse: 5.17709\tvalid_0's rmsse: 0.769069\n"
     ]
    },
    {
     "name": "stderr",
     "output_type": "stream",
     "text": [
      "feature_fraction, val_score: 5.021351:  71%|#######1  | 5/7 [07:52<03:14, 97.29s/it][I 2021-08-18 18:05:14,387] Trial 4 finished with value: 5.177092539650658 and parameters: {'feature_fraction': 0.6}. Best is trial 0 with value: 5.021351013967754.\n",
      "feature_fraction, val_score: 5.021351:  71%|#######1  | 5/7 [07:52<03:14, 97.29s/it]"
     ]
    },
    {
     "name": "stdout",
     "output_type": "stream",
     "text": [
      "[LightGBM] [Warning] min_data_in_leaf is set=255, min_child_samples=20 will be ignored. Current value: min_data_in_leaf=255\n",
      "[LightGBM] [Warning] min_data_in_leaf is set=255, min_child_samples=20 will be ignored. Current value: min_data_in_leaf=255\n",
      "[LightGBM] [Info] Total Bins 2085\n",
      "[LightGBM] [Info] Number of data points in the train set: 1242194, number of used features: 17\n",
      "[LightGBM] [Warning] min_data_in_leaf is set=255, min_child_samples=20 will be ignored. Current value: min_data_in_leaf=255\n",
      "Training until validation scores don't improve for 30 rounds\n",
      "[50]\tvalid_0's rmse: 5.73572\tvalid_0's rmsse: 0.823246\n",
      "[100]\tvalid_0's rmse: 5.5506\tvalid_0's rmsse: 0.775936\n",
      "[150]\tvalid_0's rmse: 5.32834\tvalid_0's rmsse: 0.769876\n",
      "[200]\tvalid_0's rmse: 5.14272\tvalid_0's rmsse: 0.76946\n",
      "Early stopping, best iteration is:\n",
      "[178]\tvalid_0's rmse: 5.21521\tvalid_0's rmsse: 0.769266\n"
     ]
    },
    {
     "name": "stderr",
     "output_type": "stream",
     "text": [
      "feature_fraction, val_score: 5.021351:  86%|########5 | 6/7 [09:21<01:34, 94.65s/it][I 2021-08-18 18:06:43,906] Trial 5 finished with value: 5.215209524851245 and parameters: {'feature_fraction': 0.7}. Best is trial 0 with value: 5.021351013967754.\n",
      "feature_fraction, val_score: 5.021351:  86%|########5 | 6/7 [09:21<01:34, 94.65s/it]"
     ]
    },
    {
     "name": "stdout",
     "output_type": "stream",
     "text": [
      "[LightGBM] [Warning] min_data_in_leaf is set=255, min_child_samples=20 will be ignored. Current value: min_data_in_leaf=255\n",
      "[LightGBM] [Warning] min_data_in_leaf is set=255, min_child_samples=20 will be ignored. Current value: min_data_in_leaf=255\n",
      "[LightGBM] [Info] Total Bins 2085\n",
      "[LightGBM] [Info] Number of data points in the train set: 1242194, number of used features: 17\n",
      "[LightGBM] [Warning] min_data_in_leaf is set=255, min_child_samples=20 will be ignored. Current value: min_data_in_leaf=255\n",
      "Training until validation scores don't improve for 30 rounds\n",
      "[50]\tvalid_0's rmse: 5.72877\tvalid_0's rmsse: 0.816445\n",
      "[100]\tvalid_0's rmse: 5.53943\tvalid_0's rmsse: 0.774208\n",
      "[150]\tvalid_0's rmse: 5.30969\tvalid_0's rmsse: 0.770008\n",
      "Early stopping, best iteration is:\n",
      "[150]\tvalid_0's rmse: 5.30969\tvalid_0's rmsse: 0.770008\n"
     ]
    },
    {
     "name": "stderr",
     "output_type": "stream",
     "text": [
      "feature_fraction, val_score: 5.021351: 100%|##########| 7/7 [10:15<00:00, 81.36s/it][I 2021-08-18 18:07:37,914] Trial 6 finished with value: 5.309687055848026 and parameters: {'feature_fraction': 1.0}. Best is trial 0 with value: 5.021351013967754.\n",
      "feature_fraction, val_score: 5.021351: 100%|##########| 7/7 [10:15<00:00, 87.95s/it]\n",
      "num_leaves, val_score: 5.021351:   0%|          | 0/20 [00:00<?, ?it/s]"
     ]
    },
    {
     "name": "stdout",
     "output_type": "stream",
     "text": [
      "[LightGBM] [Warning] min_data_in_leaf is set=255, min_child_samples=20 will be ignored. Current value: min_data_in_leaf=255\n",
      "[LightGBM] [Warning] min_data_in_leaf is set=255, min_child_samples=20 will be ignored. Current value: min_data_in_leaf=255\n",
      "[LightGBM] [Info] Total Bins 2085\n",
      "[LightGBM] [Info] Number of data points in the train set: 1242194, number of used features: 17\n",
      "[LightGBM] [Warning] min_data_in_leaf is set=255, min_child_samples=20 will be ignored. Current value: min_data_in_leaf=255\n",
      "Training until validation scores don't improve for 30 rounds\n",
      "[LightGBM] [Warning] No further splits with positive gain, best gain: -inf\n",
      "[50]\tvalid_0's rmse: 5.76211\tvalid_0's rmsse: 0.849656\n",
      "[LightGBM] [Warning] No further splits with positive gain, best gain: -inf\n",
      "[LightGBM] [Warning] No further splits with positive gain, best gain: -inf\n",
      "[100]\tvalid_0's rmse: 5.62001\tvalid_0's rmsse: 0.789083\n",
      "[LightGBM] [Warning] No further splits with positive gain, best gain: -inf\n",
      "[150]\tvalid_0's rmse: 5.45008\tvalid_0's rmsse: 0.776743\n",
      "[200]\tvalid_0's rmse: 5.28704\tvalid_0's rmsse: 0.772262\n",
      "[LightGBM] [Warning] No further splits with positive gain, best gain: -inf\n",
      "[250]\tvalid_0's rmse: 5.15838\tvalid_0's rmsse: 0.770715\n",
      "[LightGBM] [Warning] No further splits with positive gain, best gain: -inf\n",
      "[LightGBM] [Warning] No further splits with positive gain, best gain: -inf\n",
      "[300]\tvalid_0's rmse: 5.07398\tvalid_0's rmsse: 0.770249\n",
      "[LightGBM] [Warning] No further splits with positive gain, best gain: -inf\n",
      "[350]\tvalid_0's rmse: 5.02627\tvalid_0's rmsse: 0.769968\n",
      "Early stopping, best iteration is:\n",
      "[341]\tvalid_0's rmse: 5.03286\tvalid_0's rmsse: 0.769949\n"
     ]
    },
    {
     "name": "stderr",
     "output_type": "stream",
     "text": [
      "num_leaves, val_score: 5.021351:   5%|5         | 1/20 [01:49<34:40, 109.48s/it][I 2021-08-18 18:09:27,412] Trial 7 finished with value: 5.032857321352301 and parameters: {'num_leaves': 220}. Best is trial 7 with value: 5.032857321352301.\n",
      "num_leaves, val_score: 5.021351:   5%|5         | 1/20 [01:49<34:40, 109.48s/it]"
     ]
    },
    {
     "name": "stdout",
     "output_type": "stream",
     "text": [
      "[LightGBM] [Warning] min_data_in_leaf is set=255, min_child_samples=20 will be ignored. Current value: min_data_in_leaf=255\n",
      "[LightGBM] [Warning] min_data_in_leaf is set=255, min_child_samples=20 will be ignored. Current value: min_data_in_leaf=255\n",
      "[LightGBM] [Info] Total Bins 2085\n",
      "[LightGBM] [Info] Number of data points in the train set: 1242194, number of used features: 17\n",
      "[LightGBM] [Warning] min_data_in_leaf is set=255, min_child_samples=20 will be ignored. Current value: min_data_in_leaf=255\n",
      "Training until validation scores don't improve for 30 rounds\n",
      "[50]\tvalid_0's rmse: 5.7621\tvalid_0's rmsse: 0.850143\n",
      "[LightGBM] [Warning] No further splits with positive gain, best gain: -inf\n",
      "[100]\tvalid_0's rmse: 5.62037\tvalid_0's rmsse: 0.78948\n",
      "[LightGBM] [Warning] No further splits with positive gain, best gain: -inf\n",
      "[150]\tvalid_0's rmse: 5.45195\tvalid_0's rmsse: 0.777068\n",
      "[200]\tvalid_0's rmse: 5.29014\tvalid_0's rmsse: 0.772507\n",
      "[LightGBM] [Warning] No further splits with positive gain, best gain: -inf\n",
      "[250]\tvalid_0's rmse: 5.16317\tvalid_0's rmsse: 0.77093\n",
      "[300]\tvalid_0's rmse: 5.0804\tvalid_0's rmsse: 0.770436\n",
      "[LightGBM] [Warning] No further splits with positive gain, best gain: -inf\n",
      "[350]\tvalid_0's rmse: 5.03402\tvalid_0's rmsse: 0.77016\n",
      "Early stopping, best iteration is:\n",
      "[334]\tvalid_0's rmse: 5.04389\tvalid_0's rmsse: 0.770116\n"
     ]
    },
    {
     "name": "stderr",
     "output_type": "stream",
     "text": [
      "num_leaves, val_score: 5.021351:  10%|#         | 2/20 [03:31<31:32, 105.15s/it][I 2021-08-18 18:11:09,537] Trial 8 finished with value: 5.04388655709191 and parameters: {'num_leaves': 121}. Best is trial 7 with value: 5.032857321352301.\n",
      "num_leaves, val_score: 5.021351:  10%|#         | 2/20 [03:31<31:32, 105.15s/it]"
     ]
    },
    {
     "name": "stdout",
     "output_type": "stream",
     "text": [
      "[LightGBM] [Warning] min_data_in_leaf is set=255, min_child_samples=20 will be ignored. Current value: min_data_in_leaf=255\n",
      "[LightGBM] [Warning] min_data_in_leaf is set=255, min_child_samples=20 will be ignored. Current value: min_data_in_leaf=255\n",
      "[LightGBM] [Info] Total Bins 2085\n",
      "[LightGBM] [Info] Number of data points in the train set: 1242194, number of used features: 17\n",
      "[LightGBM] [Warning] min_data_in_leaf is set=255, min_child_samples=20 will be ignored. Current value: min_data_in_leaf=255\n",
      "Training until validation scores don't improve for 30 rounds\n",
      "[50]\tvalid_0's rmse: 5.76215\tvalid_0's rmsse: 0.850573\n",
      "[100]\tvalid_0's rmse: 5.6205\tvalid_0's rmsse: 0.789741\n",
      "[150]\tvalid_0's rmse: 5.4532\tvalid_0's rmsse: 0.777311\n",
      "[200]\tvalid_0's rmse: 5.29314\tvalid_0's rmsse: 0.772724\n",
      "[LightGBM] [Warning] No further splits with positive gain, best gain: -inf\n",
      "[250]\tvalid_0's rmse: 5.16674\tvalid_0's rmsse: 0.771113\n",
      "[300]\tvalid_0's rmse: 5.0848\tvalid_0's rmsse: 0.770616\n",
      "[350]\tvalid_0's rmse: 5.03834\tvalid_0's rmsse: 0.770363\n",
      "Early stopping, best iteration is:\n",
      "[334]\tvalid_0's rmse: 5.04919\tvalid_0's rmsse: 0.770313\n"
     ]
    },
    {
     "name": "stderr",
     "output_type": "stream",
     "text": [
      "num_leaves, val_score: 5.021351:  15%|#5        | 3/20 [05:11<29:09, 102.92s/it][I 2021-08-18 18:12:49,798] Trial 9 finished with value: 5.049191884863491 and parameters: {'num_leaves': 89}. Best is trial 7 with value: 5.032857321352301.\n",
      "num_leaves, val_score: 5.021351:  15%|#5        | 3/20 [05:11<29:09, 102.92s/it]"
     ]
    },
    {
     "name": "stdout",
     "output_type": "stream",
     "text": [
      "[LightGBM] [Warning] min_data_in_leaf is set=255, min_child_samples=20 will be ignored. Current value: min_data_in_leaf=255\n",
      "[LightGBM] [Warning] min_data_in_leaf is set=255, min_child_samples=20 will be ignored. Current value: min_data_in_leaf=255\n",
      "[LightGBM] [Info] Total Bins 2085\n",
      "[LightGBM] [Info] Number of data points in the train set: 1242194, number of used features: 17\n",
      "[LightGBM] [Warning] min_data_in_leaf is set=255, min_child_samples=20 will be ignored. Current value: min_data_in_leaf=255\n",
      "Training until validation scores don't improve for 30 rounds\n",
      "[LightGBM] [Warning] No further splits with positive gain, best gain: -inf\n",
      "[LightGBM] [Warning] No further splits with positive gain, best gain: -inf\n",
      "[50]\tvalid_0's rmse: 5.76208\tvalid_0's rmsse: 0.849572\n",
      "[LightGBM] [Warning] No further splits with positive gain, best gain: -inf\n",
      "[LightGBM] [Warning] No further splits with positive gain, best gain: -inf\n",
      "[100]\tvalid_0's rmse: 5.61989\tvalid_0's rmsse: 0.789025\n",
      "[LightGBM] [Warning] No further splits with positive gain, best gain: -inf\n",
      "[150]\tvalid_0's rmse: 5.4497\tvalid_0's rmsse: 0.776685\n",
      "[LightGBM] [Warning] No further splits with positive gain, best gain: -inf\n",
      "[200]\tvalid_0's rmse: 5.2864\tvalid_0's rmsse: 0.772215\n",
      "[LightGBM] [Warning] No further splits with positive gain, best gain: -inf\n",
      "[250]\tvalid_0's rmse: 5.15736\tvalid_0's rmsse: 0.770666\n",
      "[LightGBM] [Warning] No further splits with positive gain, best gain: -inf\n",
      "[LightGBM] [Warning] No further splits with positive gain, best gain: -inf\n",
      "[300]\tvalid_0's rmse: 5.07355\tvalid_0's rmsse: 0.770201\n",
      "[LightGBM] [Warning] No further splits with positive gain, best gain: -inf\n",
      "[350]\tvalid_0's rmse: 5.0261\tvalid_0's rmsse: 0.7699\n",
      "Early stopping, best iteration is:\n",
      "[355]\tvalid_0's rmse: 5.02086\tvalid_0's rmsse: 0.769881\n"
     ]
    },
    {
     "name": "stderr",
     "output_type": "stream",
     "text": [
      "num_leaves, val_score: 5.020861:  20%|##        | 4/20 [07:12<29:17, 109.83s/it][I 2021-08-18 18:14:50,231] Trial 10 finished with value: 5.020861449534864 and parameters: {'num_leaves': 238}. Best is trial 10 with value: 5.020861449534864.\n",
      "num_leaves, val_score: 5.020861:  20%|##        | 4/20 [07:12<29:17, 109.83s/it]"
     ]
    },
    {
     "name": "stdout",
     "output_type": "stream",
     "text": [
      "[LightGBM] [Warning] min_data_in_leaf is set=255, min_child_samples=20 will be ignored. Current value: min_data_in_leaf=255\n",
      "[LightGBM] [Warning] min_data_in_leaf is set=255, min_child_samples=20 will be ignored. Current value: min_data_in_leaf=255\n",
      "[LightGBM] [Info] Total Bins 2085\n",
      "[LightGBM] [Info] Number of data points in the train set: 1242194, number of used features: 17\n",
      "[LightGBM] [Warning] min_data_in_leaf is set=255, min_child_samples=20 will be ignored. Current value: min_data_in_leaf=255\n",
      "Training until validation scores don't improve for 30 rounds\n",
      "[50]\tvalid_0's rmse: 5.76217\tvalid_0's rmsse: 0.850297\n",
      "[100]\tvalid_0's rmse: 5.62038\tvalid_0's rmsse: 0.789569\n",
      "[150]\tvalid_0's rmse: 5.45262\tvalid_0's rmsse: 0.777175\n",
      "[200]\tvalid_0's rmse: 5.29119\tvalid_0's rmsse: 0.772589\n",
      "[LightGBM] [Warning] No further splits with positive gain, best gain: -inf\n",
      "[250]\tvalid_0's rmse: 5.16413\tvalid_0's rmsse: 0.77098\n",
      "[300]\tvalid_0's rmse: 5.08176\tvalid_0's rmsse: 0.770477\n",
      "[350]\tvalid_0's rmse: 5.03504\tvalid_0's rmsse: 0.770196\n",
      "Early stopping, best iteration is:\n",
      "[334]\tvalid_0's rmse: 5.046\tvalid_0's rmsse: 0.770164\n"
     ]
    },
    {
     "name": "stderr",
     "output_type": "stream",
     "text": [
      "num_leaves, val_score: 5.020861:  25%|##5       | 5/20 [08:59<27:10, 108.71s/it][I 2021-08-18 18:16:36,957] Trial 11 finished with value: 5.045995942252103 and parameters: {'num_leaves': 106}. Best is trial 10 with value: 5.020861449534864.\n",
      "num_leaves, val_score: 5.020861:  25%|##5       | 5/20 [08:59<27:10, 108.71s/it]"
     ]
    },
    {
     "name": "stdout",
     "output_type": "stream",
     "text": [
      "[LightGBM] [Warning] min_data_in_leaf is set=255, min_child_samples=20 will be ignored. Current value: min_data_in_leaf=255\n",
      "[LightGBM] [Warning] min_data_in_leaf is set=255, min_child_samples=20 will be ignored. Current value: min_data_in_leaf=255\n",
      "[LightGBM] [Info] Total Bins 2085\n",
      "[LightGBM] [Info] Number of data points in the train set: 1242194, number of used features: 17\n",
      "[LightGBM] [Warning] min_data_in_leaf is set=255, min_child_samples=20 will be ignored. Current value: min_data_in_leaf=255\n",
      "Training until validation scores don't improve for 30 rounds\n",
      "[50]\tvalid_0's rmse: 5.76222\tvalid_0's rmsse: 0.85039\n",
      "[100]\tvalid_0's rmse: 5.62046\tvalid_0's rmsse: 0.78965\n",
      "[150]\tvalid_0's rmse: 5.4529\tvalid_0's rmsse: 0.777226\n",
      "[200]\tvalid_0's rmse: 5.29266\tvalid_0's rmsse: 0.772642\n",
      "[LightGBM] [Warning] No further splits with positive gain, best gain: -inf\n",
      "[250]\tvalid_0's rmse: 5.16569\tvalid_0's rmsse: 0.771054\n",
      "[300]\tvalid_0's rmse: 5.08412\tvalid_0's rmsse: 0.770537\n",
      "[350]\tvalid_0's rmse: 5.03876\tvalid_0's rmsse: 0.770245\n",
      "Early stopping, best iteration is:\n",
      "[334]\tvalid_0's rmse: 5.04873\tvalid_0's rmsse: 0.770214\n"
     ]
    },
    {
     "name": "stderr",
     "output_type": "stream",
     "text": [
      "num_leaves, val_score: 5.020861:  30%|###       | 6/20 [10:46<25:17, 108.36s/it][I 2021-08-18 18:18:24,631] Trial 12 finished with value: 5.048725271597386 and parameters: {'num_leaves': 98}. Best is trial 10 with value: 5.020861449534864.\n",
      "num_leaves, val_score: 5.020861:  30%|###       | 6/20 [10:46<25:17, 108.36s/it]"
     ]
    },
    {
     "name": "stdout",
     "output_type": "stream",
     "text": [
      "[LightGBM] [Warning] min_data_in_leaf is set=255, min_child_samples=20 will be ignored. Current value: min_data_in_leaf=255\n",
      "[LightGBM] [Warning] min_data_in_leaf is set=255, min_child_samples=20 will be ignored. Current value: min_data_in_leaf=255\n",
      "[LightGBM] [Info] Total Bins 2085\n",
      "[LightGBM] [Info] Number of data points in the train set: 1242194, number of used features: 17\n",
      "[LightGBM] [Warning] min_data_in_leaf is set=255, min_child_samples=20 will be ignored. Current value: min_data_in_leaf=255\n",
      "Training until validation scores don't improve for 30 rounds\n",
      "[50]\tvalid_0's rmse: 5.76218\tvalid_0's rmsse: 0.850387\n",
      "[100]\tvalid_0's rmse: 5.6204\tvalid_0's rmsse: 0.789628\n",
      "[150]\tvalid_0's rmse: 5.45304\tvalid_0's rmsse: 0.777233\n",
      "[200]\tvalid_0's rmse: 5.2926\tvalid_0's rmsse: 0.772629\n",
      "[LightGBM] [Warning] No further splits with positive gain, best gain: -inf\n",
      "[250]\tvalid_0's rmse: 5.1665\tvalid_0's rmsse: 0.771059\n",
      "[300]\tvalid_0's rmse: 5.0845\tvalid_0's rmsse: 0.77055\n",
      "[350]\tvalid_0's rmse: 5.03894\tvalid_0's rmsse: 0.770261\n",
      "Early stopping, best iteration is:\n",
      "[334]\tvalid_0's rmse: 5.04926\tvalid_0's rmsse: 0.770235\n"
     ]
    },
    {
     "name": "stderr",
     "output_type": "stream",
     "text": [
      "num_leaves, val_score: 5.020861:  35%|###5      | 7/20 [12:38<23:42, 109.42s/it][I 2021-08-18 18:20:16,244] Trial 13 finished with value: 5.049255448514058 and parameters: {'num_leaves': 99}. Best is trial 10 with value: 5.020861449534864.\n",
      "num_leaves, val_score: 5.020861:  35%|###5      | 7/20 [12:38<23:42, 109.42s/it]"
     ]
    },
    {
     "name": "stdout",
     "output_type": "stream",
     "text": [
      "[LightGBM] [Warning] min_data_in_leaf is set=255, min_child_samples=20 will be ignored. Current value: min_data_in_leaf=255\n",
      "[LightGBM] [Warning] min_data_in_leaf is set=255, min_child_samples=20 will be ignored. Current value: min_data_in_leaf=255\n",
      "[LightGBM] [Info] Total Bins 2085\n",
      "[LightGBM] [Info] Number of data points in the train set: 1242194, number of used features: 17\n",
      "[LightGBM] [Warning] min_data_in_leaf is set=255, min_child_samples=20 will be ignored. Current value: min_data_in_leaf=255\n",
      "Training until validation scores don't improve for 30 rounds\n",
      "[LightGBM] [Warning] No further splits with positive gain, best gain: -inf\n",
      "[LightGBM] [Warning] No further splits with positive gain, best gain: -inf\n",
      "[50]\tvalid_0's rmse: 5.76203\tvalid_0's rmsse: 0.849597\n",
      "[LightGBM] [Warning] No further splits with positive gain, best gain: -inf\n",
      "[LightGBM] [Warning] No further splits with positive gain, best gain: -inf\n",
      "[100]\tvalid_0's rmse: 5.6199\tvalid_0's rmsse: 0.789005\n",
      "[LightGBM] [Warning] No further splits with positive gain, best gain: -inf\n",
      "[150]\tvalid_0's rmse: 5.44966\tvalid_0's rmsse: 0.776667\n",
      "[LightGBM] [Warning] No further splits with positive gain, best gain: -inf\n",
      "[200]\tvalid_0's rmse: 5.28663\tvalid_0's rmsse: 0.772198\n",
      "[LightGBM] [Warning] No further splits with positive gain, best gain: -inf\n",
      "[250]\tvalid_0's rmse: 5.15839\tvalid_0's rmsse: 0.77067\n",
      "[LightGBM] [Warning] No further splits with positive gain, best gain: -inf\n",
      "[LightGBM] [Warning] No further splits with positive gain, best gain: -inf\n",
      "[300]\tvalid_0's rmse: 5.07407\tvalid_0's rmsse: 0.770223\n",
      "[LightGBM] [Warning] No further splits with positive gain, best gain: -inf\n",
      "[350]\tvalid_0's rmse: 5.02719\tvalid_0's rmsse: 0.769939\n",
      "Early stopping, best iteration is:\n",
      "[334]\tvalid_0's rmse: 5.03737\tvalid_0's rmsse: 0.769919\n"
     ]
    },
    {
     "name": "stderr",
     "output_type": "stream",
     "text": [
      "num_leaves, val_score: 5.020861:  40%|####      | 8/20 [14:43<22:54, 114.51s/it][I 2021-08-18 18:22:21,650] Trial 14 finished with value: 5.037370461360042 and parameters: {'num_leaves': 244}. Best is trial 10 with value: 5.020861449534864.\n",
      "num_leaves, val_score: 5.020861:  40%|####      | 8/20 [14:43<22:54, 114.51s/it]"
     ]
    },
    {
     "name": "stdout",
     "output_type": "stream",
     "text": [
      "[LightGBM] [Warning] min_data_in_leaf is set=255, min_child_samples=20 will be ignored. Current value: min_data_in_leaf=255\n",
      "[LightGBM] [Warning] min_data_in_leaf is set=255, min_child_samples=20 will be ignored. Current value: min_data_in_leaf=255\n",
      "[LightGBM] [Info] Total Bins 2085\n",
      "[LightGBM] [Info] Number of data points in the train set: 1242194, number of used features: 17\n",
      "[LightGBM] [Warning] min_data_in_leaf is set=255, min_child_samples=20 will be ignored. Current value: min_data_in_leaf=255\n",
      "Training until validation scores don't improve for 30 rounds\n",
      "[LightGBM] [Warning] No further splits with positive gain, best gain: -inf\n",
      "[50]\tvalid_0's rmse: 5.76209\tvalid_0's rmsse: 0.849684\n",
      "[LightGBM] [Warning] No further splits with positive gain, best gain: -inf\n",
      "[LightGBM] [Warning] No further splits with positive gain, best gain: -inf\n",
      "[100]\tvalid_0's rmse: 5.62002\tvalid_0's rmsse: 0.789092\n",
      "[LightGBM] [Warning] No further splits with positive gain, best gain: -inf\n",
      "[150]\tvalid_0's rmse: 5.45014\tvalid_0's rmsse: 0.776739\n",
      "[200]\tvalid_0's rmse: 5.28712\tvalid_0's rmsse: 0.77224\n",
      "[LightGBM] [Warning] No further splits with positive gain, best gain: -inf\n",
      "[250]\tvalid_0's rmse: 5.15843\tvalid_0's rmsse: 0.770693\n",
      "[LightGBM] [Warning] No further splits with positive gain, best gain: -inf\n",
      "[LightGBM] [Warning] No further splits with positive gain, best gain: -inf\n",
      "[300]\tvalid_0's rmse: 5.07419\tvalid_0's rmsse: 0.770228\n",
      "[LightGBM] [Warning] No further splits with positive gain, best gain: -inf\n",
      "[350]\tvalid_0's rmse: 5.02668\tvalid_0's rmsse: 0.769943\n",
      "Early stopping, best iteration is:\n",
      "[334]\tvalid_0's rmse: 5.03736\tvalid_0's rmsse: 0.769918\n"
     ]
    },
    {
     "name": "stderr",
     "output_type": "stream",
     "text": [
      "num_leaves, val_score: 5.020861:  45%|####5     | 9/20 [16:47<21:30, 117.31s/it][I 2021-08-18 18:24:25,120] Trial 15 finished with value: 5.037358321648551 and parameters: {'num_leaves': 212}. Best is trial 10 with value: 5.020861449534864.\n",
      "num_leaves, val_score: 5.020861:  45%|####5     | 9/20 [16:47<21:30, 117.31s/it]"
     ]
    },
    {
     "name": "stdout",
     "output_type": "stream",
     "text": [
      "[LightGBM] [Warning] min_data_in_leaf is set=255, min_child_samples=20 will be ignored. Current value: min_data_in_leaf=255\n",
      "[LightGBM] [Warning] min_data_in_leaf is set=255, min_child_samples=20 will be ignored. Current value: min_data_in_leaf=255\n",
      "[LightGBM] [Info] Total Bins 2085\n",
      "[LightGBM] [Info] Number of data points in the train set: 1242194, number of used features: 17\n",
      "[LightGBM] [Warning] min_data_in_leaf is set=255, min_child_samples=20 will be ignored. Current value: min_data_in_leaf=255\n",
      "Training until validation scores don't improve for 30 rounds\n",
      "[50]\tvalid_0's rmse: 5.76208\tvalid_0's rmsse: 0.849825\n",
      "[LightGBM] [Warning] No further splits with positive gain, best gain: -inf\n",
      "[LightGBM] [Warning] No further splits with positive gain, best gain: -inf\n",
      "[100]\tvalid_0's rmse: 5.62013\tvalid_0's rmsse: 0.789214\n",
      "[LightGBM] [Warning] No further splits with positive gain, best gain: -inf\n",
      "[150]\tvalid_0's rmse: 5.45057\tvalid_0's rmsse: 0.776841\n",
      "[200]\tvalid_0's rmse: 5.28766\tvalid_0's rmsse: 0.772348\n",
      "[LightGBM] [Warning] No further splits with positive gain, best gain: -inf\n",
      "[250]\tvalid_0's rmse: 5.15907\tvalid_0's rmsse: 0.770788\n",
      "[LightGBM] [Warning] No further splits with positive gain, best gain: -inf\n",
      "[300]\tvalid_0's rmse: 5.07421\tvalid_0's rmsse: 0.770296\n",
      "[LightGBM] [Warning] No further splits with positive gain, best gain: -inf\n",
      "[350]\tvalid_0's rmse: 5.02704\tvalid_0's rmsse: 0.77003\n",
      "Early stopping, best iteration is:\n",
      "[334]\tvalid_0's rmse: 5.03811\tvalid_0's rmsse: 0.770001\n"
     ]
    },
    {
     "name": "stderr",
     "output_type": "stream",
     "text": [
      "num_leaves, val_score: 5.020861:  50%|#####     | 10/20 [18:50<19:51, 119.18s/it][I 2021-08-18 18:26:28,472] Trial 16 finished with value: 5.0381077179386 and parameters: {'num_leaves': 185}. Best is trial 10 with value: 5.020861449534864.\n",
      "num_leaves, val_score: 5.020861:  50%|#####     | 10/20 [18:50<19:51, 119.18s/it]"
     ]
    },
    {
     "name": "stdout",
     "output_type": "stream",
     "text": [
      "[LightGBM] [Warning] min_data_in_leaf is set=255, min_child_samples=20 will be ignored. Current value: min_data_in_leaf=255\n",
      "[LightGBM] [Warning] min_data_in_leaf is set=255, min_child_samples=20 will be ignored. Current value: min_data_in_leaf=255\n",
      "[LightGBM] [Info] Total Bins 2085\n",
      "[LightGBM] [Info] Number of data points in the train set: 1242194, number of used features: 17\n",
      "[LightGBM] [Warning] min_data_in_leaf is set=255, min_child_samples=20 will be ignored. Current value: min_data_in_leaf=255\n",
      "Training until validation scores don't improve for 30 rounds\n",
      "[50]\tvalid_0's rmse: 5.76282\tvalid_0's rmsse: 0.852763\n",
      "[100]\tvalid_0's rmse: 5.62346\tvalid_0's rmsse: 0.791119\n",
      "[150]\tvalid_0's rmse: 5.45916\tvalid_0's rmsse: 0.778418\n",
      "[200]\tvalid_0's rmse: 5.30917\tvalid_0's rmsse: 0.773753\n",
      "[250]\tvalid_0's rmse: 5.19387\tvalid_0's rmsse: 0.772177\n",
      "[300]\tvalid_0's rmse: 5.11989\tvalid_0's rmsse: 0.771663\n",
      "[350]\tvalid_0's rmse: 5.07523\tvalid_0's rmsse: 0.771472\n",
      "Early stopping, best iteration is:\n",
      "[333]\tvalid_0's rmse: 5.0865\tvalid_0's rmsse: 0.77142\n"
     ]
    },
    {
     "name": "stderr",
     "output_type": "stream",
     "text": [
      "num_leaves, val_score: 5.020861:  55%|#####5    | 11/20 [20:37<17:18, 115.35s/it][I 2021-08-18 18:28:15,141] Trial 17 finished with value: 5.086502613470706 and parameters: {'num_leaves': 25}. Best is trial 10 with value: 5.020861449534864.\n",
      "num_leaves, val_score: 5.020861:  55%|#####5    | 11/20 [20:37<17:18, 115.35s/it]"
     ]
    },
    {
     "name": "stdout",
     "output_type": "stream",
     "text": [
      "[LightGBM] [Warning] min_data_in_leaf is set=255, min_child_samples=20 will be ignored. Current value: min_data_in_leaf=255\n",
      "[LightGBM] [Warning] min_data_in_leaf is set=255, min_child_samples=20 will be ignored. Current value: min_data_in_leaf=255\n",
      "[LightGBM] [Info] Total Bins 2085\n",
      "[LightGBM] [Info] Number of data points in the train set: 1242194, number of used features: 17\n",
      "[LightGBM] [Warning] min_data_in_leaf is set=255, min_child_samples=20 will be ignored. Current value: min_data_in_leaf=255\n",
      "Training until validation scores don't improve for 30 rounds\n",
      "[50]\tvalid_0's rmse: 5.76203\tvalid_0's rmsse: 0.84991\n",
      "[LightGBM] [Warning] No further splits with positive gain, best gain: -inf\n",
      "[LightGBM] [Warning] No further splits with positive gain, best gain: -inf\n",
      "[100]\tvalid_0's rmse: 5.62007\tvalid_0's rmsse: 0.789242\n",
      "[LightGBM] [Warning] No further splits with positive gain, best gain: -inf\n",
      "[150]\tvalid_0's rmse: 5.45092\tvalid_0's rmsse: 0.77687\n",
      "[200]\tvalid_0's rmse: 5.28772\tvalid_0's rmsse: 0.772348\n",
      "[LightGBM] [Warning] No further splits with positive gain, best gain: -inf\n",
      "[250]\tvalid_0's rmse: 5.15888\tvalid_0's rmsse: 0.770785\n",
      "[LightGBM] [Warning] No further splits with positive gain, best gain: -inf\n",
      "[300]\tvalid_0's rmse: 5.07324\tvalid_0's rmsse: 0.770293\n",
      "[LightGBM] [Warning] No further splits with positive gain, best gain: -inf\n",
      "[350]\tvalid_0's rmse: 5.02679\tvalid_0's rmsse: 0.77004\n",
      "Early stopping, best iteration is:\n",
      "[334]\tvalid_0's rmse: 5.03662\tvalid_0's rmsse: 0.769999\n"
     ]
    },
    {
     "name": "stderr",
     "output_type": "stream",
     "text": [
      "num_leaves, val_score: 5.020861:  60%|######    | 12/20 [22:40<15:43, 117.91s/it][I 2021-08-18 18:30:18,918] Trial 18 finished with value: 5.036621949525746 and parameters: {'num_leaves': 174}. Best is trial 10 with value: 5.020861449534864.\n",
      "num_leaves, val_score: 5.020861:  60%|######    | 12/20 [22:41<15:43, 117.91s/it]"
     ]
    },
    {
     "name": "stdout",
     "output_type": "stream",
     "text": [
      "[LightGBM] [Warning] min_data_in_leaf is set=255, min_child_samples=20 will be ignored. Current value: min_data_in_leaf=255\n",
      "[LightGBM] [Warning] min_data_in_leaf is set=255, min_child_samples=20 will be ignored. Current value: min_data_in_leaf=255\n",
      "[LightGBM] [Info] Total Bins 2085\n",
      "[LightGBM] [Info] Number of data points in the train set: 1242194, number of used features: 17\n",
      "[LightGBM] [Warning] min_data_in_leaf is set=255, min_child_samples=20 will be ignored. Current value: min_data_in_leaf=255\n",
      "[LightGBM] [Warning] No further splits with positive gain, best gain: -inf\n",
      "Training until validation scores don't improve for 30 rounds\n",
      "[LightGBM] [Warning] No further splits with positive gain, best gain: -inf\n",
      "[LightGBM] [Warning] No further splits with positive gain, best gain: -inf\n",
      "[50]\tvalid_0's rmse: 5.76208\tvalid_0's rmsse: 0.849532\n",
      "[LightGBM] [Warning] No further splits with positive gain, best gain: -inf\n",
      "[LightGBM] [Warning] No further splits with positive gain, best gain: -inf\n",
      "[100]\tvalid_0's rmse: 5.61996\tvalid_0's rmsse: 0.788997\n",
      "[LightGBM] [Warning] No further splits with positive gain, best gain: -inf\n",
      "[150]\tvalid_0's rmse: 5.44969\tvalid_0's rmsse: 0.776685\n",
      "[LightGBM] [Warning] No further splits with positive gain, best gain: -inf\n",
      "[200]\tvalid_0's rmse: 5.28619\tvalid_0's rmsse: 0.772248\n",
      "[LightGBM] [Warning] No further splits with positive gain, best gain: -inf\n",
      "[250]\tvalid_0's rmse: 5.15787\tvalid_0's rmsse: 0.770726\n",
      "[LightGBM] [Warning] No further splits with positive gain, best gain: -inf\n",
      "[LightGBM] [Warning] No further splits with positive gain, best gain: -inf\n",
      "[300]\tvalid_0's rmse: 5.07366\tvalid_0's rmsse: 0.770275\n",
      "[LightGBM] [Warning] No further splits with positive gain, best gain: -inf\n",
      "[350]\tvalid_0's rmse: 5.02587\tvalid_0's rmsse: 0.77\n",
      "Early stopping, best iteration is:\n",
      "[355]\tvalid_0's rmse: 5.0209\tvalid_0's rmsse: 0.769977\n"
     ]
    },
    {
     "name": "stderr",
     "output_type": "stream",
     "text": [
      "num_leaves, val_score: 5.020861:  65%|######5   | 13/20 [24:56<14:23, 123.38s/it][I 2021-08-18 18:32:34,883] Trial 19 finished with value: 5.02089720046337 and parameters: {'num_leaves': 252}. Best is trial 10 with value: 5.020861449534864.\n",
      "num_leaves, val_score: 5.020861:  65%|######5   | 13/20 [24:56<14:23, 123.38s/it]"
     ]
    },
    {
     "name": "stdout",
     "output_type": "stream",
     "text": [
      "[LightGBM] [Warning] min_data_in_leaf is set=255, min_child_samples=20 will be ignored. Current value: min_data_in_leaf=255\n",
      "[LightGBM] [Warning] min_data_in_leaf is set=255, min_child_samples=20 will be ignored. Current value: min_data_in_leaf=255\n",
      "[LightGBM] [Info] Total Bins 2085\n",
      "[LightGBM] [Info] Number of data points in the train set: 1242194, number of used features: 17\n",
      "[LightGBM] [Warning] min_data_in_leaf is set=255, min_child_samples=20 will be ignored. Current value: min_data_in_leaf=255\n",
      "[LightGBM] [Warning] No further splits with positive gain, best gain: -inf\n",
      "Training until validation scores don't improve for 30 rounds\n",
      "[LightGBM] [Warning] No further splits with positive gain, best gain: -inf\n",
      "[LightGBM] [Warning] No further splits with positive gain, best gain: -inf\n",
      "[50]\tvalid_0's rmse: 5.76204\tvalid_0's rmsse: 0.849549\n",
      "[LightGBM] [Warning] No further splits with positive gain, best gain: -inf\n",
      "[LightGBM] [Warning] No further splits with positive gain, best gain: -inf\n",
      "[100]\tvalid_0's rmse: 5.61985\tvalid_0's rmsse: 0.789009\n",
      "[LightGBM] [Warning] No further splits with positive gain, best gain: -inf\n",
      "[150]\tvalid_0's rmse: 5.44965\tvalid_0's rmsse: 0.77669\n",
      "[LightGBM] [Warning] No further splits with positive gain, best gain: -inf\n",
      "[200]\tvalid_0's rmse: 5.28603\tvalid_0's rmsse: 0.772221\n",
      "[LightGBM] [Warning] No further splits with positive gain, best gain: -inf\n",
      "[250]\tvalid_0's rmse: 5.15744\tvalid_0's rmsse: 0.770692\n",
      "[LightGBM] [Warning] No further splits with positive gain, best gain: -inf\n",
      "[LightGBM] [Warning] No further splits with positive gain, best gain: -inf\n",
      "[300]\tvalid_0's rmse: 5.07293\tvalid_0's rmsse: 0.770237\n",
      "[LightGBM] [Warning] No further splits with positive gain, best gain: -inf\n",
      "[350]\tvalid_0's rmse: 5.02712\tvalid_0's rmsse: 0.769962\n",
      "Early stopping, best iteration is:\n",
      "[334]\tvalid_0's rmse: 5.03693\tvalid_0's rmsse: 0.76994\n"
     ]
    },
    {
     "name": "stderr",
     "output_type": "stream",
     "text": [
      "num_leaves, val_score: 5.020861:  70%|#######   | 14/20 [27:05<12:28, 124.83s/it][I 2021-08-18 18:34:43,054] Trial 20 finished with value: 5.036927638942712 and parameters: {'num_leaves': 251}. Best is trial 10 with value: 5.020861449534864.\n",
      "num_leaves, val_score: 5.020861:  70%|#######   | 14/20 [27:05<12:28, 124.83s/it]"
     ]
    },
    {
     "name": "stdout",
     "output_type": "stream",
     "text": [
      "[LightGBM] [Warning] min_data_in_leaf is set=255, min_child_samples=20 will be ignored. Current value: min_data_in_leaf=255\n",
      "[LightGBM] [Warning] min_data_in_leaf is set=255, min_child_samples=20 will be ignored. Current value: min_data_in_leaf=255\n",
      "[LightGBM] [Info] Total Bins 2085\n",
      "[LightGBM] [Info] Number of data points in the train set: 1242194, number of used features: 17\n",
      "[LightGBM] [Warning] min_data_in_leaf is set=255, min_child_samples=20 will be ignored. Current value: min_data_in_leaf=255\n",
      "Training until validation scores don't improve for 30 rounds\n",
      "[50]\tvalid_0's rmse: 5.76208\tvalid_0's rmsse: 0.849885\n",
      "[LightGBM] [Warning] No further splits with positive gain, best gain: -inf\n",
      "[LightGBM] [Warning] No further splits with positive gain, best gain: -inf\n",
      "[100]\tvalid_0's rmse: 5.62017\tvalid_0's rmsse: 0.789274\n",
      "[LightGBM] [Warning] No further splits with positive gain, best gain: -inf\n",
      "[150]\tvalid_0's rmse: 5.45122\tvalid_0's rmsse: 0.776915\n",
      "[200]\tvalid_0's rmse: 5.2884\tvalid_0's rmsse: 0.772373\n",
      "[LightGBM] [Warning] No further splits with positive gain, best gain: -inf\n",
      "[250]\tvalid_0's rmse: 5.16029\tvalid_0's rmsse: 0.770823\n",
      "[LightGBM] [Warning] No further splits with positive gain, best gain: -inf\n",
      "[300]\tvalid_0's rmse: 5.07645\tvalid_0's rmsse: 0.770335\n",
      "[LightGBM] [Warning] No further splits with positive gain, best gain: -inf\n",
      "[350]\tvalid_0's rmse: 5.02875\tvalid_0's rmsse: 0.770043\n",
      "Early stopping, best iteration is:\n",
      "[341]\tvalid_0's rmse: 5.03555\tvalid_0's rmsse: 0.770021\n"
     ]
    },
    {
     "name": "stderr",
     "output_type": "stream",
     "text": [
      "num_leaves, val_score: 5.020861:  75%|#######5  | 15/20 [29:09<10:22, 124.56s/it][I 2021-08-18 18:36:46,998] Trial 21 finished with value: 5.035550008556816 and parameters: {'num_leaves': 165}. Best is trial 10 with value: 5.020861449534864.\n",
      "num_leaves, val_score: 5.020861:  75%|#######5  | 15/20 [29:09<10:22, 124.56s/it]"
     ]
    },
    {
     "name": "stdout",
     "output_type": "stream",
     "text": [
      "[LightGBM] [Warning] min_data_in_leaf is set=255, min_child_samples=20 will be ignored. Current value: min_data_in_leaf=255\n",
      "[LightGBM] [Warning] min_data_in_leaf is set=255, min_child_samples=20 will be ignored. Current value: min_data_in_leaf=255\n",
      "[LightGBM] [Info] Total Bins 2085\n",
      "[LightGBM] [Info] Number of data points in the train set: 1242194, number of used features: 17\n",
      "[LightGBM] [Warning] min_data_in_leaf is set=255, min_child_samples=20 will be ignored. Current value: min_data_in_leaf=255\n",
      "Training until validation scores don't improve for 30 rounds\n",
      "[LightGBM] [Warning] No further splits with positive gain, best gain: -inf\n",
      "[50]\tvalid_0's rmse: 5.76209\tvalid_0's rmsse: 0.849625\n",
      "[LightGBM] [Warning] No further splits with positive gain, best gain: -inf\n",
      "[LightGBM] [Warning] No further splits with positive gain, best gain: -inf\n",
      "[100]\tvalid_0's rmse: 5.61999\tvalid_0's rmsse: 0.789092\n",
      "[LightGBM] [Warning] No further splits with positive gain, best gain: -inf\n",
      "[150]\tvalid_0's rmse: 5.45027\tvalid_0's rmsse: 0.776757\n",
      "[200]\tvalid_0's rmse: 5.28706\tvalid_0's rmsse: 0.772267\n",
      "[LightGBM] [Warning] No further splits with positive gain, best gain: -inf\n",
      "[250]\tvalid_0's rmse: 5.15866\tvalid_0's rmsse: 0.770721\n",
      "[LightGBM] [Warning] No further splits with positive gain, best gain: -inf\n",
      "[LightGBM] [Warning] No further splits with positive gain, best gain: -inf\n",
      "[300]\tvalid_0's rmse: 5.07442\tvalid_0's rmsse: 0.77025\n",
      "[LightGBM] [Warning] No further splits with positive gain, best gain: -inf\n",
      "[350]\tvalid_0's rmse: 5.02807\tvalid_0's rmsse: 0.769986\n",
      "Early stopping, best iteration is:\n",
      "[334]\tvalid_0's rmse: 5.03794\tvalid_0's rmsse: 0.769951\n"
     ]
    },
    {
     "name": "stderr",
     "output_type": "stream",
     "text": [
      "num_leaves, val_score: 5.020861:  80%|########  | 16/20 [31:15<08:20, 125.24s/it][I 2021-08-18 18:38:53,798] Trial 22 finished with value: 5.037944833368297 and parameters: {'num_leaves': 210}. Best is trial 10 with value: 5.020861449534864.\n",
      "num_leaves, val_score: 5.020861:  80%|########  | 16/20 [31:15<08:20, 125.24s/it]"
     ]
    },
    {
     "name": "stdout",
     "output_type": "stream",
     "text": [
      "[LightGBM] [Warning] min_data_in_leaf is set=255, min_child_samples=20 will be ignored. Current value: min_data_in_leaf=255\n",
      "[LightGBM] [Warning] min_data_in_leaf is set=255, min_child_samples=20 will be ignored. Current value: min_data_in_leaf=255\n",
      "[LightGBM] [Info] Total Bins 2085\n",
      "[LightGBM] [Info] Number of data points in the train set: 1242194, number of used features: 17\n",
      "[LightGBM] [Warning] min_data_in_leaf is set=255, min_child_samples=20 will be ignored. Current value: min_data_in_leaf=255\n",
      "[LightGBM] [Warning] No further splits with positive gain, best gain: -inf\n",
      "Training until validation scores don't improve for 30 rounds\n",
      "[LightGBM] [Warning] No further splits with positive gain, best gain: -inf\n",
      "[LightGBM] [Warning] No further splits with positive gain, best gain: -inf\n",
      "[50]\tvalid_0's rmse: 5.76208\tvalid_0's rmsse: 0.849545\n",
      "[LightGBM] [Warning] No further splits with positive gain, best gain: -inf\n",
      "[LightGBM] [Warning] No further splits with positive gain, best gain: -inf\n",
      "[100]\tvalid_0's rmse: 5.61997\tvalid_0's rmsse: 0.788978\n",
      "[LightGBM] [Warning] No further splits with positive gain, best gain: -inf\n",
      "[150]\tvalid_0's rmse: 5.44966\tvalid_0's rmsse: 0.776655\n",
      "[LightGBM] [Warning] No further splits with positive gain, best gain: -inf\n",
      "[200]\tvalid_0's rmse: 5.28626\tvalid_0's rmsse: 0.772208\n",
      "[LightGBM] [Warning] No further splits with positive gain, best gain: -inf\n",
      "[250]\tvalid_0's rmse: 5.15786\tvalid_0's rmsse: 0.770666\n",
      "[LightGBM] [Warning] No further splits with positive gain, best gain: -inf\n",
      "[LightGBM] [Warning] No further splits with positive gain, best gain: -inf\n",
      "[300]\tvalid_0's rmse: 5.07365\tvalid_0's rmsse: 0.770214\n",
      "[LightGBM] [Warning] No further splits with positive gain, best gain: -inf\n",
      "[350]\tvalid_0's rmse: 5.02772\tvalid_0's rmsse: 0.769953\n",
      "Early stopping, best iteration is:\n",
      "[334]\tvalid_0's rmse: 5.03769\tvalid_0's rmsse: 0.769926\n"
     ]
    },
    {
     "name": "stderr",
     "output_type": "stream",
     "text": [
      "num_leaves, val_score: 5.020861:  85%|########5 | 17/20 [33:22<06:17, 125.69s/it][I 2021-08-18 18:41:00,550] Trial 23 finished with value: 5.037689367296879 and parameters: {'num_leaves': 254}. Best is trial 10 with value: 5.020861449534864.\n",
      "num_leaves, val_score: 5.020861:  85%|########5 | 17/20 [33:22<06:17, 125.69s/it]"
     ]
    },
    {
     "name": "stdout",
     "output_type": "stream",
     "text": [
      "[LightGBM] [Warning] min_data_in_leaf is set=255, min_child_samples=20 will be ignored. Current value: min_data_in_leaf=255\n",
      "[LightGBM] [Warning] min_data_in_leaf is set=255, min_child_samples=20 will be ignored. Current value: min_data_in_leaf=255\n",
      "[LightGBM] [Info] Total Bins 2085\n",
      "[LightGBM] [Info] Number of data points in the train set: 1242194, number of used features: 17\n",
      "[LightGBM] [Warning] min_data_in_leaf is set=255, min_child_samples=20 will be ignored. Current value: min_data_in_leaf=255\n",
      "Training until validation scores don't improve for 30 rounds\n",
      "[50]\tvalid_0's rmse: 5.76233\tvalid_0's rmsse: 0.851015\n",
      "[100]\tvalid_0's rmse: 5.62121\tvalid_0's rmsse: 0.790106\n",
      "[150]\tvalid_0's rmse: 5.45516\tvalid_0's rmsse: 0.777635\n",
      "[200]\tvalid_0's rmse: 5.29858\tvalid_0's rmsse: 0.77301\n",
      "[LightGBM] [Warning] No further splits with positive gain, best gain: -inf\n",
      "[250]\tvalid_0's rmse: 5.17519\tvalid_0's rmsse: 0.771382\n",
      "[300]\tvalid_0's rmse: 5.09815\tvalid_0's rmsse: 0.770853\n",
      "[350]\tvalid_0's rmse: 5.05314\tvalid_0's rmsse: 0.770615\n",
      "Early stopping, best iteration is:\n",
      "[334]\tvalid_0's rmse: 5.06325\tvalid_0's rmsse: 0.770564\n"
     ]
    },
    {
     "name": "stderr",
     "output_type": "stream",
     "text": [
      "num_leaves, val_score: 5.020861:  90%|######### | 18/20 [35:08<03:59, 119.75s/it][I 2021-08-18 18:42:46,472] Trial 24 finished with value: 5.063249133787245 and parameters: {'num_leaves': 55}. Best is trial 10 with value: 5.020861449534864.\n",
      "num_leaves, val_score: 5.020861:  90%|######### | 18/20 [35:08<03:59, 119.75s/it]"
     ]
    },
    {
     "name": "stdout",
     "output_type": "stream",
     "text": [
      "[LightGBM] [Warning] min_data_in_leaf is set=255, min_child_samples=20 will be ignored. Current value: min_data_in_leaf=255\n",
      "[LightGBM] [Warning] min_data_in_leaf is set=255, min_child_samples=20 will be ignored. Current value: min_data_in_leaf=255\n",
      "[LightGBM] [Info] Total Bins 2085\n",
      "[LightGBM] [Info] Number of data points in the train set: 1242194, number of used features: 17\n",
      "[LightGBM] [Warning] min_data_in_leaf is set=255, min_child_samples=20 will be ignored. Current value: min_data_in_leaf=255\n",
      "Training until validation scores don't improve for 30 rounds\n",
      "[50]\tvalid_0's rmse: 5.76209\tvalid_0's rmsse: 0.850021\n",
      "[LightGBM] [Warning] No further splits with positive gain, best gain: -inf\n",
      "[100]\tvalid_0's rmse: 5.62023\tvalid_0's rmsse: 0.789358\n",
      "[LightGBM] [Warning] No further splits with positive gain, best gain: -inf\n",
      "[150]\tvalid_0's rmse: 5.45142\tvalid_0's rmsse: 0.776991\n",
      "[200]\tvalid_0's rmse: 5.28942\tvalid_0's rmsse: 0.772472\n",
      "[LightGBM] [Warning] No further splits with positive gain, best gain: -inf\n",
      "[250]\tvalid_0's rmse: 5.16171\tvalid_0's rmsse: 0.770901\n",
      "[300]\tvalid_0's rmse: 5.07855\tvalid_0's rmsse: 0.770418\n",
      "[LightGBM] [Warning] No further splits with positive gain, best gain: -inf\n",
      "[350]\tvalid_0's rmse: 5.03086\tvalid_0's rmsse: 0.770123\n",
      "Early stopping, best iteration is:\n",
      "[346]\tvalid_0's rmse: 5.03326\tvalid_0's rmsse: 0.7701\n"
     ]
    },
    {
     "name": "stderr",
     "output_type": "stream",
     "text": [
      "num_leaves, val_score: 5.020861:  95%|#########5| 19/20 [37:08<01:59, 119.87s/it][I 2021-08-18 18:44:46,605] Trial 25 finished with value: 5.03325758517778 and parameters: {'num_leaves': 143}. Best is trial 10 with value: 5.020861449534864.\n",
      "num_leaves, val_score: 5.020861:  95%|#########5| 19/20 [37:08<01:59, 119.87s/it]"
     ]
    },
    {
     "name": "stdout",
     "output_type": "stream",
     "text": [
      "[LightGBM] [Warning] min_data_in_leaf is set=255, min_child_samples=20 will be ignored. Current value: min_data_in_leaf=255\n",
      "[LightGBM] [Warning] min_data_in_leaf is set=255, min_child_samples=20 will be ignored. Current value: min_data_in_leaf=255\n",
      "[LightGBM] [Info] Total Bins 2085\n",
      "[LightGBM] [Info] Number of data points in the train set: 1242194, number of used features: 17\n",
      "[LightGBM] [Warning] min_data_in_leaf is set=255, min_child_samples=20 will be ignored. Current value: min_data_in_leaf=255\n",
      "Training until validation scores don't improve for 30 rounds\n",
      "[LightGBM] [Warning] No further splits with positive gain, best gain: -inf\n",
      "[LightGBM] [Warning] No further splits with positive gain, best gain: -inf\n",
      "[50]\tvalid_0's rmse: 5.76201\tvalid_0's rmsse: 0.849643\n",
      "[LightGBM] [Warning] No further splits with positive gain, best gain: -inf\n",
      "[LightGBM] [Warning] No further splits with positive gain, best gain: -inf\n",
      "[100]\tvalid_0's rmse: 5.61979\tvalid_0's rmsse: 0.789058\n",
      "[LightGBM] [Warning] No further splits with positive gain, best gain: -inf\n",
      "[150]\tvalid_0's rmse: 5.44986\tvalid_0's rmsse: 0.77673\n",
      "[200]\tvalid_0's rmse: 5.28628\tvalid_0's rmsse: 0.772243\n",
      "[LightGBM] [Warning] No further splits with positive gain, best gain: -inf\n",
      "[250]\tvalid_0's rmse: 5.1571\tvalid_0's rmsse: 0.770712\n",
      "[LightGBM] [Warning] No further splits with positive gain, best gain: -inf\n",
      "[LightGBM] [Warning] No further splits with positive gain, best gain: -inf\n",
      "[300]\tvalid_0's rmse: 5.0725\tvalid_0's rmsse: 0.770224\n",
      "[LightGBM] [Warning] No further splits with positive gain, best gain: -inf\n",
      "[350]\tvalid_0's rmse: 5.02629\tvalid_0's rmsse: 0.769942\n",
      "Early stopping, best iteration is:\n",
      "[355]\tvalid_0's rmse: 5.02057\tvalid_0's rmsse: 0.769918\n"
     ]
    },
    {
     "name": "stderr",
     "output_type": "stream",
     "text": [
      "num_leaves, val_score: 5.020574: 100%|##########| 20/20 [39:22<00:00, 123.95s/it][I 2021-08-18 18:47:00,078] Trial 26 finished with value: 5.020574388633523 and parameters: {'num_leaves': 225}. Best is trial 26 with value: 5.020574388633523.\n",
      "num_leaves, val_score: 5.020574: 100%|##########| 20/20 [39:22<00:00, 118.11s/it]\n",
      "bagging, val_score: 5.020574:   0%|          | 0/10 [00:00<?, ?it/s]"
     ]
    },
    {
     "name": "stdout",
     "output_type": "stream",
     "text": [
      "[LightGBM] [Warning] min_data_in_leaf is set=255, min_child_samples=20 will be ignored. Current value: min_data_in_leaf=255\n",
      "[LightGBM] [Warning] min_data_in_leaf is set=255, min_child_samples=20 will be ignored. Current value: min_data_in_leaf=255\n",
      "[LightGBM] [Info] Total Bins 2085\n",
      "[LightGBM] [Info] Number of data points in the train set: 1242194, number of used features: 17\n",
      "[LightGBM] [Warning] min_data_in_leaf is set=255, min_child_samples=20 will be ignored. Current value: min_data_in_leaf=255\n",
      "[LightGBM] [Warning] No further splits with positive gain, best gain: -inf\n",
      "Training until validation scores don't improve for 30 rounds\n",
      "[LightGBM] [Warning] No further splits with positive gain, best gain: -inf\n",
      "[LightGBM] [Warning] No further splits with positive gain, best gain: -inf\n",
      "[LightGBM] [Warning] No further splits with positive gain, best gain: -inf\n",
      "[50]\tvalid_0's rmse: 5.76257\tvalid_0's rmsse: 0.849718\n",
      "[LightGBM] [Warning] No further splits with positive gain, best gain: -inf\n",
      "[LightGBM] [Warning] No further splits with positive gain, best gain: -inf\n",
      "[100]\tvalid_0's rmse: 5.62113\tvalid_0's rmsse: 0.789191\n",
      "[LightGBM] [Warning] No further splits with positive gain, best gain: -inf\n",
      "[LightGBM] [Warning] No further splits with positive gain, best gain: -inf\n",
      "[150]\tvalid_0's rmse: 5.45243\tvalid_0's rmsse: 0.776972\n",
      "[LightGBM] [Warning] No further splits with positive gain, best gain: -inf\n",
      "[200]\tvalid_0's rmse: 5.29177\tvalid_0's rmsse: 0.772502\n",
      "[LightGBM] [Warning] No further splits with positive gain, best gain: -inf\n",
      "[LightGBM] [Warning] No further splits with positive gain, best gain: -inf\n",
      "[250]\tvalid_0's rmse: 5.16986\tvalid_0's rmsse: 0.771034\n",
      "[LightGBM] [Warning] No further splits with positive gain, best gain: -inf\n",
      "[LightGBM] [Warning] No further splits with positive gain, best gain: -inf\n",
      "[300]\tvalid_0's rmse: 5.0929\tvalid_0's rmsse: 0.77064\n",
      "[LightGBM] [Warning] No further splits with positive gain, best gain: -inf\n",
      "[350]\tvalid_0's rmse: 5.05094\tvalid_0's rmsse: 0.77044\n",
      "Early stopping, best iteration is:\n",
      "[334]\tvalid_0's rmse: 5.05893\tvalid_0's rmsse: 0.770389\n"
     ]
    },
    {
     "name": "stderr",
     "output_type": "stream",
     "text": [
      "bagging, val_score: 5.020574:  10%|#         | 1/10 [02:08<19:16, 128.54s/it][I 2021-08-18 18:49:08,652] Trial 27 finished with value: 5.05892787787382 and parameters: {'bagging_fraction': 0.49421126003046945, 'bagging_freq': 5}. Best is trial 27 with value: 5.05892787787382.\n",
      "bagging, val_score: 5.020574:  10%|#         | 1/10 [02:08<19:16, 128.54s/it]"
     ]
    },
    {
     "name": "stdout",
     "output_type": "stream",
     "text": [
      "[LightGBM] [Warning] min_data_in_leaf is set=255, min_child_samples=20 will be ignored. Current value: min_data_in_leaf=255\n",
      "[LightGBM] [Warning] min_data_in_leaf is set=255, min_child_samples=20 will be ignored. Current value: min_data_in_leaf=255\n",
      "[LightGBM] [Info] Total Bins 2085\n",
      "[LightGBM] [Info] Number of data points in the train set: 1242194, number of used features: 17\n",
      "[LightGBM] [Warning] min_data_in_leaf is set=255, min_child_samples=20 will be ignored. Current value: min_data_in_leaf=255\n",
      "[LightGBM] [Warning] No further splits with positive gain, best gain: -inf\n",
      "Training until validation scores don't improve for 30 rounds\n",
      "[LightGBM] [Warning] No further splits with positive gain, best gain: -inf\n",
      "[LightGBM] [Warning] No further splits with positive gain, best gain: -inf\n",
      "[LightGBM] [Warning] No further splits with positive gain, best gain: -inf\n",
      "[50]\tvalid_0's rmse: 5.76271\tvalid_0's rmsse: 0.849667\n",
      "[LightGBM] [Warning] No further splits with positive gain, best gain: -inf\n",
      "[LightGBM] [Warning] No further splits with positive gain, best gain: -inf\n",
      "[LightGBM] [Warning] No further splits with positive gain, best gain: -inf\n",
      "[100]\tvalid_0's rmse: 5.6218\tvalid_0's rmsse: 0.789187\n",
      "[LightGBM] [Warning] No further splits with positive gain, best gain: -inf\n",
      "[LightGBM] [Warning] No further splits with positive gain, best gain: -inf\n",
      "[150]\tvalid_0's rmse: 5.45269\tvalid_0's rmsse: 0.776933\n",
      "[LightGBM] [Warning] No further splits with positive gain, best gain: -inf\n",
      "[200]\tvalid_0's rmse: 5.29286\tvalid_0's rmsse: 0.77254\n",
      "[LightGBM] [Warning] No further splits with positive gain, best gain: -inf\n",
      "[LightGBM] [Warning] No further splits with positive gain, best gain: -inf\n",
      "[250]\tvalid_0's rmse: 5.17226\tvalid_0's rmsse: 0.771042\n",
      "[LightGBM] [Warning] No further splits with positive gain, best gain: -inf\n",
      "[LightGBM] [Warning] No further splits with positive gain, best gain: -inf\n",
      "Early stopping, best iteration is:\n",
      "[260]\tvalid_0's rmse: 5.15355\tvalid_0's rmsse: 0.770687\n"
     ]
    },
    {
     "name": "stderr",
     "output_type": "stream",
     "text": [
      "bagging, val_score: 5.020574:  20%|##        | 2/10 [03:52<15:11, 113.95s/it][I 2021-08-18 18:50:52,378] Trial 28 finished with value: 5.15355089765056 and parameters: {'bagging_fraction': 0.4476083151332299, 'bagging_freq': 2}. Best is trial 27 with value: 5.05892787787382.\n",
      "bagging, val_score: 5.020574:  20%|##        | 2/10 [03:52<15:11, 113.95s/it]"
     ]
    },
    {
     "name": "stdout",
     "output_type": "stream",
     "text": [
      "[LightGBM] [Warning] min_data_in_leaf is set=255, min_child_samples=20 will be ignored. Current value: min_data_in_leaf=255\n",
      "[LightGBM] [Warning] min_data_in_leaf is set=255, min_child_samples=20 will be ignored. Current value: min_data_in_leaf=255\n",
      "[LightGBM] [Info] Total Bins 2085\n",
      "[LightGBM] [Info] Number of data points in the train set: 1242194, number of used features: 17\n",
      "[LightGBM] [Warning] min_data_in_leaf is set=255, min_child_samples=20 will be ignored. Current value: min_data_in_leaf=255\n",
      "[LightGBM] [Warning] No further splits with positive gain, best gain: -inf\n",
      "Training until validation scores don't improve for 30 rounds\n",
      "[LightGBM] [Warning] No further splits with positive gain, best gain: -inf\n",
      "[LightGBM] [Warning] No further splits with positive gain, best gain: -inf\n",
      "[LightGBM] [Warning] No further splits with positive gain, best gain: -inf\n",
      "[50]\tvalid_0's rmse: 5.76243\tvalid_0's rmsse: 0.849642\n",
      "[LightGBM] [Warning] No further splits with positive gain, best gain: -inf\n",
      "[LightGBM] [Warning] No further splits with positive gain, best gain: -inf\n",
      "[100]\tvalid_0's rmse: 5.62091\tvalid_0's rmsse: 0.789127\n",
      "[LightGBM] [Warning] No further splits with positive gain, best gain: -inf\n",
      "[LightGBM] [Warning] No further splits with positive gain, best gain: -inf\n",
      "[150]\tvalid_0's rmse: 5.45141\tvalid_0's rmsse: 0.776881\n",
      "[LightGBM] [Warning] No further splits with positive gain, best gain: -inf\n",
      "[200]\tvalid_0's rmse: 5.29093\tvalid_0's rmsse: 0.772422\n",
      "[LightGBM] [Warning] No further splits with positive gain, best gain: -inf\n",
      "[LightGBM] [Warning] No further splits with positive gain, best gain: -inf\n",
      "[250]\tvalid_0's rmse: 5.16901\tvalid_0's rmsse: 0.770946\n",
      "[LightGBM] [Warning] No further splits with positive gain, best gain: -inf\n",
      "[LightGBM] [Warning] No further splits with positive gain, best gain: -inf\n",
      "[300]\tvalid_0's rmse: 5.091\tvalid_0's rmsse: 0.77055\n",
      "[LightGBM] [Warning] No further splits with positive gain, best gain: -inf\n",
      "[350]\tvalid_0's rmse: 5.04742\tvalid_0's rmsse: 0.770355\n",
      "Early stopping, best iteration is:\n",
      "[329]\tvalid_0's rmse: 5.05951\tvalid_0's rmsse: 0.77031\n"
     ]
    },
    {
     "name": "stderr",
     "output_type": "stream",
     "text": [
      "bagging, val_score: 5.020574:  30%|###       | 3/10 [05:59<14:00, 120.02s/it][I 2021-08-18 18:52:59,623] Trial 29 finished with value: 5.059511047313985 and parameters: {'bagging_fraction': 0.5346635710621394, 'bagging_freq': 5}. Best is trial 27 with value: 5.05892787787382.\n",
      "bagging, val_score: 5.020574:  30%|###       | 3/10 [05:59<14:00, 120.02s/it]"
     ]
    },
    {
     "name": "stdout",
     "output_type": "stream",
     "text": [
      "[LightGBM] [Warning] min_data_in_leaf is set=255, min_child_samples=20 will be ignored. Current value: min_data_in_leaf=255\n",
      "[LightGBM] [Warning] min_data_in_leaf is set=255, min_child_samples=20 will be ignored. Current value: min_data_in_leaf=255\n",
      "[LightGBM] [Info] Total Bins 2085\n",
      "[LightGBM] [Info] Number of data points in the train set: 1242194, number of used features: 17\n",
      "[LightGBM] [Warning] min_data_in_leaf is set=255, min_child_samples=20 will be ignored. Current value: min_data_in_leaf=255\n",
      "[LightGBM] [Warning] No further splits with positive gain, best gain: -inf\n",
      "Training until validation scores don't improve for 30 rounds\n",
      "[LightGBM] [Warning] No further splits with positive gain, best gain: -inf\n",
      "[LightGBM] [Warning] No further splits with positive gain, best gain: -inf\n",
      "[LightGBM] [Warning] No further splits with positive gain, best gain: -inf\n",
      "[50]\tvalid_0's rmse: 5.7624\tvalid_0's rmsse: 0.849633\n",
      "[LightGBM] [Warning] No further splits with positive gain, best gain: -inf\n",
      "[LightGBM] [Warning] No further splits with positive gain, best gain: -inf\n",
      "[100]\tvalid_0's rmse: 5.62081\tvalid_0's rmsse: 0.789193\n",
      "[LightGBM] [Warning] No further splits with positive gain, best gain: -inf\n",
      "[LightGBM] [Warning] No further splits with positive gain, best gain: -inf\n",
      "[150]\tvalid_0's rmse: 5.45265\tvalid_0's rmsse: 0.776917\n",
      "[LightGBM] [Warning] No further splits with positive gain, best gain: -inf\n",
      "[200]\tvalid_0's rmse: 5.29103\tvalid_0's rmsse: 0.7725\n",
      "[LightGBM] [Warning] No further splits with positive gain, best gain: -inf\n",
      "[250]\tvalid_0's rmse: 5.16631\tvalid_0's rmsse: 0.77092\n",
      "[LightGBM] [Warning] No further splits with positive gain, best gain: -inf\n",
      "[LightGBM] [Warning] No further splits with positive gain, best gain: -inf\n",
      "[300]\tvalid_0's rmse: 5.0827\tvalid_0's rmsse: 0.770508\n",
      "[LightGBM] [Warning] No further splits with positive gain, best gain: -inf\n",
      "[350]\tvalid_0's rmse: 5.03532\tvalid_0's rmsse: 0.770249\n",
      "Early stopping, best iteration is:\n",
      "[334]\tvalid_0's rmse: 5.04671\tvalid_0's rmsse: 0.770217\n"
     ]
    },
    {
     "name": "stderr",
     "output_type": "stream",
     "text": [
      "bagging, val_score: 5.020574:  40%|####      | 4/10 [08:09<12:24, 124.01s/it][I 2021-08-18 18:55:09,756] Trial 30 finished with value: 5.046713928632258 and parameters: {'bagging_fraction': 0.5915579803363692, 'bagging_freq': 3}. Best is trial 30 with value: 5.046713928632258.\n",
      "bagging, val_score: 5.020574:  40%|####      | 4/10 [08:09<12:24, 124.01s/it]"
     ]
    },
    {
     "name": "stdout",
     "output_type": "stream",
     "text": [
      "[LightGBM] [Warning] min_data_in_leaf is set=255, min_child_samples=20 will be ignored. Current value: min_data_in_leaf=255\n",
      "[LightGBM] [Warning] min_data_in_leaf is set=255, min_child_samples=20 will be ignored. Current value: min_data_in_leaf=255\n",
      "[LightGBM] [Info] Total Bins 2085\n",
      "[LightGBM] [Info] Number of data points in the train set: 1242194, number of used features: 17\n",
      "[LightGBM] [Warning] min_data_in_leaf is set=255, min_child_samples=20 will be ignored. Current value: min_data_in_leaf=255\n",
      "Training until validation scores don't improve for 30 rounds\n",
      "[LightGBM] [Warning] No further splits with positive gain, best gain: -inf\n",
      "[LightGBM] [Warning] No further splits with positive gain, best gain: -inf\n",
      "[50]\tvalid_0's rmse: 5.76223\tvalid_0's rmsse: 0.849726\n",
      "[LightGBM] [Warning] No further splits with positive gain, best gain: -inf\n",
      "[LightGBM] [Warning] No further splits with positive gain, best gain: -inf\n",
      "[100]\tvalid_0's rmse: 5.62062\tvalid_0's rmsse: 0.789099\n",
      "[LightGBM] [Warning] No further splits with positive gain, best gain: -inf\n",
      "[150]\tvalid_0's rmse: 5.45164\tvalid_0's rmsse: 0.776821\n",
      "[LightGBM] [Warning] No further splits with positive gain, best gain: -inf\n",
      "[200]\tvalid_0's rmse: 5.28699\tvalid_0's rmsse: 0.772319\n",
      "[LightGBM] [Warning] No further splits with positive gain, best gain: -inf\n",
      "[250]\tvalid_0's rmse: 5.16213\tvalid_0's rmsse: 0.770822\n",
      "[LightGBM] [Warning] No further splits with positive gain, best gain: -inf\n",
      "[LightGBM] [Warning] No further splits with positive gain, best gain: -inf\n",
      "[300]\tvalid_0's rmse: 5.07939\tvalid_0's rmsse: 0.770381\n",
      "[LightGBM] [Warning] No further splits with positive gain, best gain: -inf\n",
      "[350]\tvalid_0's rmse: 5.03564\tvalid_0's rmsse: 0.770107\n",
      "Early stopping, best iteration is:\n",
      "[329]\tvalid_0's rmse: 5.05016\tvalid_0's rmsse: 0.770069\n"
     ]
    },
    {
     "name": "stderr",
     "output_type": "stream",
     "text": [
      "bagging, val_score: 5.020574:  50%|#####     | 5/10 [10:19<10:30, 126.13s/it][I 2021-08-18 18:57:19,648] Trial 31 finished with value: 5.050155789558446 and parameters: {'bagging_fraction': 0.687412135409937, 'bagging_freq': 4}. Best is trial 30 with value: 5.046713928632258.\n",
      "bagging, val_score: 5.020574:  50%|#####     | 5/10 [10:19<10:30, 126.13s/it]"
     ]
    },
    {
     "name": "stdout",
     "output_type": "stream",
     "text": [
      "[LightGBM] [Warning] min_data_in_leaf is set=255, min_child_samples=20 will be ignored. Current value: min_data_in_leaf=255\n",
      "[LightGBM] [Warning] min_data_in_leaf is set=255, min_child_samples=20 will be ignored. Current value: min_data_in_leaf=255\n",
      "[LightGBM] [Info] Total Bins 2085\n",
      "[LightGBM] [Info] Number of data points in the train set: 1242194, number of used features: 17\n",
      "[LightGBM] [Warning] min_data_in_leaf is set=255, min_child_samples=20 will be ignored. Current value: min_data_in_leaf=255\n",
      "[LightGBM] [Warning] No further splits with positive gain, best gain: -inf\n",
      "Training until validation scores don't improve for 30 rounds\n",
      "[LightGBM] [Warning] No further splits with positive gain, best gain: -inf\n",
      "[LightGBM] [Warning] No further splits with positive gain, best gain: -inf\n",
      "[LightGBM] [Warning] No further splits with positive gain, best gain: -inf\n",
      "[50]\tvalid_0's rmse: 5.76238\tvalid_0's rmsse: 0.849686\n",
      "[LightGBM] [Warning] No further splits with positive gain, best gain: -inf\n",
      "[LightGBM] [Warning] No further splits with positive gain, best gain: -inf\n",
      "[100]\tvalid_0's rmse: 5.621\tvalid_0's rmsse: 0.78922\n",
      "[LightGBM] [Warning] No further splits with positive gain, best gain: -inf\n",
      "[LightGBM] [Warning] No further splits with positive gain, best gain: -inf\n",
      "[150]\tvalid_0's rmse: 5.45188\tvalid_0's rmsse: 0.776922\n",
      "[LightGBM] [Warning] No further splits with positive gain, best gain: -inf\n",
      "[200]\tvalid_0's rmse: 5.29082\tvalid_0's rmsse: 0.772504\n",
      "[LightGBM] [Warning] No further splits with positive gain, best gain: -inf\n",
      "[250]\tvalid_0's rmse: 5.16712\tvalid_0's rmsse: 0.770916\n",
      "[LightGBM] [Warning] No further splits with positive gain, best gain: -inf\n",
      "[LightGBM] [Warning] No further splits with positive gain, best gain: -inf\n",
      "[300]\tvalid_0's rmse: 5.08273\tvalid_0's rmsse: 0.770498\n",
      "[LightGBM] [Warning] No further splits with positive gain, best gain: -inf\n",
      "[350]\tvalid_0's rmse: 5.03821\tvalid_0's rmsse: 0.770254\n",
      "Early stopping, best iteration is:\n",
      "[334]\tvalid_0's rmse: 5.04849\tvalid_0's rmsse: 0.77021\n"
     ]
    },
    {
     "name": "stderr",
     "output_type": "stream",
     "text": [
      "bagging, val_score: 5.020574:  60%|######    | 6/10 [12:32<08:33, 128.39s/it][I 2021-08-18 18:59:32,424] Trial 32 finished with value: 5.048487174314445 and parameters: {'bagging_fraction': 0.5492999673374535, 'bagging_freq': 3}. Best is trial 30 with value: 5.046713928632258.\n",
      "bagging, val_score: 5.020574:  60%|######    | 6/10 [12:32<08:33, 128.39s/it]"
     ]
    },
    {
     "name": "stdout",
     "output_type": "stream",
     "text": [
      "[LightGBM] [Warning] min_data_in_leaf is set=255, min_child_samples=20 will be ignored. Current value: min_data_in_leaf=255\n",
      "[LightGBM] [Warning] min_data_in_leaf is set=255, min_child_samples=20 will be ignored. Current value: min_data_in_leaf=255\n",
      "[LightGBM] [Info] Total Bins 2085\n",
      "[LightGBM] [Info] Number of data points in the train set: 1242194, number of used features: 17\n",
      "[LightGBM] [Warning] min_data_in_leaf is set=255, min_child_samples=20 will be ignored. Current value: min_data_in_leaf=255\n",
      "[LightGBM] [Warning] No further splits with positive gain, best gain: -inf\n",
      "Training until validation scores don't improve for 30 rounds\n",
      "[LightGBM] [Warning] No further splits with positive gain, best gain: -inf\n",
      "[LightGBM] [Warning] No further splits with positive gain, best gain: -inf\n",
      "[LightGBM] [Warning] No further splits with positive gain, best gain: -inf\n",
      "[50]\tvalid_0's rmse: 5.76243\tvalid_0's rmsse: 0.849593\n",
      "[LightGBM] [Warning] No further splits with positive gain, best gain: -inf\n",
      "[LightGBM] [Warning] No further splits with positive gain, best gain: -inf\n",
      "[LightGBM] [Warning] No further splits with positive gain, best gain: -inf\n",
      "[100]\tvalid_0's rmse: 5.6212\tvalid_0's rmsse: 0.789203\n",
      "[LightGBM] [Warning] No further splits with positive gain, best gain: -inf\n",
      "[LightGBM] [Warning] No further splits with positive gain, best gain: -inf\n",
      "[150]\tvalid_0's rmse: 5.45251\tvalid_0's rmsse: 0.776972\n",
      "[LightGBM] [Warning] No further splits with positive gain, best gain: -inf\n",
      "[200]\tvalid_0's rmse: 5.29225\tvalid_0's rmsse: 0.772574\n",
      "[LightGBM] [Warning] No further splits with positive gain, best gain: -inf\n",
      "[LightGBM] [Warning] No further splits with positive gain, best gain: -inf\n",
      "[250]\tvalid_0's rmse: 5.17139\tvalid_0's rmsse: 0.771028\n",
      "[LightGBM] [Warning] No further splits with positive gain, best gain: -inf\n",
      "[LightGBM] [Warning] No further splits with positive gain, best gain: -inf\n",
      "[300]\tvalid_0's rmse: 5.08809\tvalid_0's rmsse: 0.770642\n",
      "[LightGBM] [Warning] No further splits with positive gain, best gain: -inf\n",
      "[350]\tvalid_0's rmse: 5.04575\tvalid_0's rmsse: 0.770386\n",
      "Early stopping, best iteration is:\n",
      "[334]\tvalid_0's rmse: 5.05578\tvalid_0's rmsse: 0.770338\n"
     ]
    },
    {
     "name": "stderr",
     "output_type": "stream",
     "text": [
      "bagging, val_score: 5.020574:  70%|#######   | 7/10 [14:44<06:29, 129.73s/it][I 2021-08-18 19:01:44,923] Trial 33 finished with value: 5.05578162666721 and parameters: {'bagging_fraction': 0.5035282294250806, 'bagging_freq': 3}. Best is trial 30 with value: 5.046713928632258.\n",
      "bagging, val_score: 5.020574:  70%|#######   | 7/10 [14:44<06:29, 129.73s/it]"
     ]
    },
    {
     "name": "stdout",
     "output_type": "stream",
     "text": [
      "[LightGBM] [Warning] min_data_in_leaf is set=255, min_child_samples=20 will be ignored. Current value: min_data_in_leaf=255\n",
      "[LightGBM] [Warning] min_data_in_leaf is set=255, min_child_samples=20 will be ignored. Current value: min_data_in_leaf=255\n",
      "[LightGBM] [Info] Total Bins 2085\n",
      "[LightGBM] [Info] Number of data points in the train set: 1242194, number of used features: 17\n",
      "[LightGBM] [Warning] min_data_in_leaf is set=255, min_child_samples=20 will be ignored. Current value: min_data_in_leaf=255\n",
      "[LightGBM] [Warning] No further splits with positive gain, best gain: -inf\n",
      "Training until validation scores don't improve for 30 rounds\n",
      "[LightGBM] [Warning] No further splits with positive gain, best gain: -inf\n",
      "[LightGBM] [Warning] No further splits with positive gain, best gain: -inf\n",
      "[LightGBM] [Warning] No further splits with positive gain, best gain: -inf\n",
      "[50]\tvalid_0's rmse: 5.76242\tvalid_0's rmsse: 0.849603\n",
      "[LightGBM] [Warning] No further splits with positive gain, best gain: -inf\n",
      "[LightGBM] [Warning] No further splits with positive gain, best gain: -inf\n",
      "[100]\tvalid_0's rmse: 5.62122\tvalid_0's rmsse: 0.789161\n",
      "[LightGBM] [Warning] No further splits with positive gain, best gain: -inf\n",
      "[LightGBM] [Warning] No further splits with positive gain, best gain: -inf\n",
      "[150]\tvalid_0's rmse: 5.45276\tvalid_0's rmsse: 0.776921\n",
      "[LightGBM] [Warning] No further splits with positive gain, best gain: -inf\n",
      "[200]\tvalid_0's rmse: 5.29162\tvalid_0's rmsse: 0.772533\n",
      "[LightGBM] [Warning] No further splits with positive gain, best gain: -inf\n",
      "[250]\tvalid_0's rmse: 5.16966\tvalid_0's rmsse: 0.770973\n",
      "[LightGBM] [Warning] No further splits with positive gain, best gain: -inf\n",
      "[LightGBM] [Warning] No further splits with positive gain, best gain: -inf\n",
      "Early stopping, best iteration is:\n",
      "[260]\tvalid_0's rmse: 5.15064\tvalid_0's rmsse: 0.770642\n"
     ]
    },
    {
     "name": "stderr",
     "output_type": "stream",
     "text": [
      "bagging, val_score: 5.020574:  80%|########  | 8/10 [16:28<04:03, 121.53s/it][I 2021-08-18 19:03:28,886] Trial 34 finished with value: 5.150644407917404 and parameters: {'bagging_fraction': 0.5233245230894684, 'bagging_freq': 3}. Best is trial 30 with value: 5.046713928632258.\n",
      "bagging, val_score: 5.020574:  80%|########  | 8/10 [16:28<04:03, 121.53s/it]"
     ]
    },
    {
     "name": "stdout",
     "output_type": "stream",
     "text": [
      "[LightGBM] [Warning] min_data_in_leaf is set=255, min_child_samples=20 will be ignored. Current value: min_data_in_leaf=255\n",
      "[LightGBM] [Warning] min_data_in_leaf is set=255, min_child_samples=20 will be ignored. Current value: min_data_in_leaf=255\n",
      "[LightGBM] [Info] Total Bins 2085\n",
      "[LightGBM] [Info] Number of data points in the train set: 1242194, number of used features: 17\n",
      "[LightGBM] [Warning] min_data_in_leaf is set=255, min_child_samples=20 will be ignored. Current value: min_data_in_leaf=255\n",
      "Training until validation scores don't improve for 30 rounds\n",
      "[LightGBM] [Warning] No further splits with positive gain, best gain: -inf\n",
      "[50]\tvalid_0's rmse: 5.76203\tvalid_0's rmsse: 0.849628\n",
      "[LightGBM] [Warning] No further splits with positive gain, best gain: -inf\n",
      "[LightGBM] [Warning] No further splits with positive gain, best gain: -inf\n",
      "[100]\tvalid_0's rmse: 5.61973\tvalid_0's rmsse: 0.788964\n",
      "[LightGBM] [Warning] No further splits with positive gain, best gain: -inf\n",
      "[150]\tvalid_0's rmse: 5.44967\tvalid_0's rmsse: 0.776642\n",
      "[200]\tvalid_0's rmse: 5.28493\tvalid_0's rmsse: 0.772127\n",
      "[LightGBM] [Warning] No further splits with positive gain, best gain: -inf\n",
      "[250]\tvalid_0's rmse: 5.15589\tvalid_0's rmsse: 0.770575\n",
      "[LightGBM] [Warning] No further splits with positive gain, best gain: -inf\n",
      "[LightGBM] [Warning] No further splits with positive gain, best gain: -inf\n",
      "[300]\tvalid_0's rmse: 5.06917\tvalid_0's rmsse: 0.770157\n",
      "[LightGBM] [Warning] No further splits with positive gain, best gain: -inf\n",
      "[350]\tvalid_0's rmse: 5.02547\tvalid_0's rmsse: 0.76991\n",
      "Early stopping, best iteration is:\n",
      "[329]\tvalid_0's rmse: 5.03794\tvalid_0's rmsse: 0.769857\n"
     ]
    },
    {
     "name": "stderr",
     "output_type": "stream",
     "text": [
      "bagging, val_score: 5.020574:  90%|######### | 9/10 [19:21<02:17, 137.49s/it][I 2021-08-18 19:06:21,493] Trial 35 finished with value: 5.03794250828926 and parameters: {'bagging_fraction': 0.9608549049545543, 'bagging_freq': 3}. Best is trial 35 with value: 5.03794250828926.\n",
      "bagging, val_score: 5.020574:  90%|######### | 9/10 [19:21<02:17, 137.49s/it]"
     ]
    },
    {
     "name": "stdout",
     "output_type": "stream",
     "text": [
      "[LightGBM] [Warning] min_data_in_leaf is set=255, min_child_samples=20 will be ignored. Current value: min_data_in_leaf=255\n",
      "[LightGBM] [Warning] min_data_in_leaf is set=255, min_child_samples=20 will be ignored. Current value: min_data_in_leaf=255\n",
      "[LightGBM] [Info] Total Bins 2085\n",
      "[LightGBM] [Info] Number of data points in the train set: 1242194, number of used features: 17\n",
      "[LightGBM] [Warning] min_data_in_leaf is set=255, min_child_samples=20 will be ignored. Current value: min_data_in_leaf=255\n",
      "Training until validation scores don't improve for 30 rounds\n",
      "[LightGBM] [Warning] No further splits with positive gain, best gain: -inf\n",
      "[50]\tvalid_0's rmse: 5.76201\tvalid_0's rmsse: 0.849591\n",
      "[LightGBM] [Warning] No further splits with positive gain, best gain: -inf\n",
      "[LightGBM] [Warning] No further splits with positive gain, best gain: -inf\n",
      "[100]\tvalid_0's rmse: 5.61991\tvalid_0's rmsse: 0.78898\n",
      "[LightGBM] [Warning] No further splits with positive gain, best gain: -inf\n",
      "[150]\tvalid_0's rmse: 5.44977\tvalid_0's rmsse: 0.776658\n",
      "[200]\tvalid_0's rmse: 5.28472\tvalid_0's rmsse: 0.772189\n",
      "[LightGBM] [Warning] No further splits with positive gain, best gain: -inf\n",
      "[250]\tvalid_0's rmse: 5.15471\tvalid_0's rmsse: 0.770679\n",
      "[LightGBM] [Warning] No further splits with positive gain, best gain: -inf\n",
      "[LightGBM] [Warning] No further splits with positive gain, best gain: -inf\n",
      "[300]\tvalid_0's rmse: 5.06895\tvalid_0's rmsse: 0.770246\n",
      "[LightGBM] [Warning] No further splits with positive gain, best gain: -inf\n",
      "[350]\tvalid_0's rmse: 5.02505\tvalid_0's rmsse: 0.769983\n",
      "Early stopping, best iteration is:\n",
      "[329]\tvalid_0's rmse: 5.03846\tvalid_0's rmsse: 0.769922\n"
     ]
    },
    {
     "name": "stderr",
     "output_type": "stream",
     "text": [
      "bagging, val_score: 5.020574: 100%|##########| 10/10 [23:31<00:00, 172.40s/it][I 2021-08-18 19:10:32,066] Trial 36 finished with value: 5.0384594130530305 and parameters: {'bagging_fraction': 0.9029041916728108, 'bagging_freq': 4}. Best is trial 35 with value: 5.03794250828926.\n",
      "bagging, val_score: 5.020574: 100%|##########| 10/10 [23:31<00:00, 141.20s/it]\n",
      "feature_fraction_stage2, val_score: 5.020574:   0%|          | 0/3 [00:00<?, ?it/s]"
     ]
    },
    {
     "name": "stdout",
     "output_type": "stream",
     "text": [
      "[LightGBM] [Warning] min_data_in_leaf is set=255, min_child_samples=20 will be ignored. Current value: min_data_in_leaf=255\n",
      "[LightGBM] [Warning] min_data_in_leaf is set=255, min_child_samples=20 will be ignored. Current value: min_data_in_leaf=255\n",
      "[LightGBM] [Info] Total Bins 2085\n",
      "[LightGBM] [Info] Number of data points in the train set: 1242194, number of used features: 17\n",
      "[LightGBM] [Warning] min_data_in_leaf is set=255, min_child_samples=20 will be ignored. Current value: min_data_in_leaf=255\n",
      "Training until validation scores don't improve for 30 rounds\n",
      "[LightGBM] [Warning] No further splits with positive gain, best gain: -inf\n",
      "[LightGBM] [Warning] No further splits with positive gain, best gain: -inf\n",
      "[50]\tvalid_0's rmse: 5.76201\tvalid_0's rmsse: 0.849643\n",
      "[LightGBM] [Warning] No further splits with positive gain, best gain: -inf\n",
      "[LightGBM] [Warning] No further splits with positive gain, best gain: -inf\n",
      "[100]\tvalid_0's rmse: 5.61979\tvalid_0's rmsse: 0.789058\n",
      "[LightGBM] [Warning] No further splits with positive gain, best gain: -inf\n",
      "[150]\tvalid_0's rmse: 5.44986\tvalid_0's rmsse: 0.77673\n",
      "[200]\tvalid_0's rmse: 5.28628\tvalid_0's rmsse: 0.772243\n",
      "[LightGBM] [Warning] No further splits with positive gain, best gain: -inf\n",
      "[250]\tvalid_0's rmse: 5.1571\tvalid_0's rmsse: 0.770712\n",
      "[LightGBM] [Warning] No further splits with positive gain, best gain: -inf\n",
      "[LightGBM] [Warning] No further splits with positive gain, best gain: -inf\n",
      "[300]\tvalid_0's rmse: 5.0725\tvalid_0's rmsse: 0.770224\n",
      "[LightGBM] [Warning] No further splits with positive gain, best gain: -inf\n",
      "[350]\tvalid_0's rmse: 5.02629\tvalid_0's rmsse: 0.769942\n",
      "Early stopping, best iteration is:\n",
      "[355]\tvalid_0's rmse: 5.02057\tvalid_0's rmsse: 0.769918\n"
     ]
    },
    {
     "name": "stderr",
     "output_type": "stream",
     "text": [
      "feature_fraction_stage2, val_score: 5.020574:  33%|###3      | 1/3 [03:31<07:02, 211.08s/it][I 2021-08-18 19:14:03,185] Trial 37 finished with value: 5.020574388633523 and parameters: {'feature_fraction': 0.41600000000000004}. Best is trial 37 with value: 5.020574388633523.\n",
      "feature_fraction_stage2, val_score: 5.020574:  33%|###3      | 1/3 [03:31<07:02, 211.08s/it]"
     ]
    },
    {
     "name": "stdout",
     "output_type": "stream",
     "text": [
      "[LightGBM] [Warning] min_data_in_leaf is set=255, min_child_samples=20 will be ignored. Current value: min_data_in_leaf=255\n",
      "[LightGBM] [Warning] min_data_in_leaf is set=255, min_child_samples=20 will be ignored. Current value: min_data_in_leaf=255\n",
      "[LightGBM] [Info] Total Bins 2085\n",
      "[LightGBM] [Info] Number of data points in the train set: 1242194, number of used features: 17\n",
      "[LightGBM] [Warning] min_data_in_leaf is set=255, min_child_samples=20 will be ignored. Current value: min_data_in_leaf=255\n",
      "Training until validation scores don't improve for 30 rounds\n",
      "[50]\tvalid_0's rmse: 5.75319\tvalid_0's rmsse: 0.840358\n",
      "[LightGBM] [Warning] No further splits with positive gain, best gain: -inf\n",
      "[100]\tvalid_0's rmse: 5.60125\tvalid_0's rmsse: 0.784869\n",
      "[150]\tvalid_0's rmse: 5.42118\tvalid_0's rmsse: 0.77378\n",
      "[200]\tvalid_0's rmse: 5.24535\tvalid_0's rmsse: 0.770503\n",
      "[LightGBM] [Warning] No further splits with positive gain, best gain: -inf\n",
      "[250]\tvalid_0's rmse: 5.12556\tvalid_0's rmsse: 0.769836\n",
      "Early stopping, best iteration is:\n",
      "[261]\tvalid_0's rmse: 5.10376\tvalid_0's rmsse: 0.769627\n"
     ]
    },
    {
     "name": "stderr",
     "output_type": "stream",
     "text": [
      "feature_fraction_stage2, val_score: 5.020574:  67%|######6   | 2/3 [05:58<02:53, 173.52s/it][I 2021-08-18 19:16:30,416] Trial 38 finished with value: 5.103762847719548 and parameters: {'feature_fraction': 0.44800000000000006}. Best is trial 37 with value: 5.020574388633523.\n",
      "feature_fraction_stage2, val_score: 5.020574:  67%|######6   | 2/3 [05:58<02:53, 173.52s/it]"
     ]
    },
    {
     "name": "stdout",
     "output_type": "stream",
     "text": [
      "[LightGBM] [Warning] min_data_in_leaf is set=255, min_child_samples=20 will be ignored. Current value: min_data_in_leaf=255\n",
      "[LightGBM] [Warning] min_data_in_leaf is set=255, min_child_samples=20 will be ignored. Current value: min_data_in_leaf=255\n",
      "[LightGBM] [Info] Total Bins 2085\n",
      "[LightGBM] [Info] Number of data points in the train set: 1242194, number of used features: 17\n",
      "[LightGBM] [Warning] min_data_in_leaf is set=255, min_child_samples=20 will be ignored. Current value: min_data_in_leaf=255\n",
      "Training until validation scores don't improve for 30 rounds\n",
      "[50]\tvalid_0's rmse: 5.75319\tvalid_0's rmsse: 0.840358\n",
      "[LightGBM] [Warning] No further splits with positive gain, best gain: -inf\n",
      "[100]\tvalid_0's rmse: 5.60125\tvalid_0's rmsse: 0.784869\n",
      "[150]\tvalid_0's rmse: 5.42118\tvalid_0's rmsse: 0.77378\n",
      "[200]\tvalid_0's rmse: 5.24535\tvalid_0's rmsse: 0.770503\n",
      "[LightGBM] [Warning] No further splits with positive gain, best gain: -inf\n",
      "[250]\tvalid_0's rmse: 5.12556\tvalid_0's rmsse: 0.769836\n",
      "Early stopping, best iteration is:\n",
      "[261]\tvalid_0's rmse: 5.10376\tvalid_0's rmsse: 0.769627\n"
     ]
    },
    {
     "name": "stderr",
     "output_type": "stream",
     "text": [
      "feature_fraction_stage2, val_score: 5.020574: 100%|##########| 3/3 [08:25<00:00, 161.48s/it][I 2021-08-18 19:18:57,575] Trial 39 finished with value: 5.103762847719548 and parameters: {'feature_fraction': 0.48000000000000004}. Best is trial 37 with value: 5.020574388633523.\n",
      "feature_fraction_stage2, val_score: 5.020574: 100%|##########| 3/3 [08:25<00:00, 168.50s/it]\n",
      "regularization_factors, val_score: 5.020574:   0%|          | 0/20 [00:00<?, ?it/s]"
     ]
    },
    {
     "name": "stdout",
     "output_type": "stream",
     "text": [
      "[LightGBM] [Warning] min_data_in_leaf is set=255, min_child_samples=20 will be ignored. Current value: min_data_in_leaf=255\n",
      "[LightGBM] [Warning] min_data_in_leaf is set=255, min_child_samples=20 will be ignored. Current value: min_data_in_leaf=255\n",
      "[LightGBM] [Info] Total Bins 2085\n",
      "[LightGBM] [Info] Number of data points in the train set: 1242194, number of used features: 17\n",
      "[LightGBM] [Warning] min_data_in_leaf is set=255, min_child_samples=20 will be ignored. Current value: min_data_in_leaf=255\n",
      "Training until validation scores don't improve for 30 rounds\n",
      "[LightGBM] [Warning] No further splits with positive gain, best gain: -inf\n",
      "[LightGBM] [Warning] No further splits with positive gain, best gain: -inf\n",
      "[50]\tvalid_0's rmse: 5.76202\tvalid_0's rmsse: 0.849603\n",
      "[LightGBM] [Warning] No further splits with positive gain, best gain: -inf\n",
      "[LightGBM] [Warning] No further splits with positive gain, best gain: -inf\n",
      "[100]\tvalid_0's rmse: 5.61985\tvalid_0's rmsse: 0.789033\n",
      "[LightGBM] [Warning] No further splits with positive gain, best gain: -inf\n",
      "[150]\tvalid_0's rmse: 5.44989\tvalid_0's rmsse: 0.776711\n",
      "[200]\tvalid_0's rmse: 5.28671\tvalid_0's rmsse: 0.772237\n",
      "[LightGBM] [Warning] No further splits with positive gain, best gain: -inf\n",
      "[250]\tvalid_0's rmse: 5.15848\tvalid_0's rmsse: 0.770693\n",
      "[LightGBM] [Warning] No further splits with positive gain, best gain: -inf\n",
      "[LightGBM] [Warning] No further splits with positive gain, best gain: -inf\n",
      "[300]\tvalid_0's rmse: 5.07483\tvalid_0's rmsse: 0.770219\n",
      "[LightGBM] [Warning] No further splits with positive gain, best gain: -inf\n",
      "[350]\tvalid_0's rmse: 5.02777\tvalid_0's rmsse: 0.769959\n",
      "Early stopping, best iteration is:\n",
      "[334]\tvalid_0's rmse: 5.03802\tvalid_0's rmsse: 0.769934\n"
     ]
    },
    {
     "name": "stderr",
     "output_type": "stream",
     "text": [
      "regularization_factors, val_score: 5.020574:   5%|5         | 1/20 [02:59<56:56, 179.79s/it][I 2021-08-18 19:21:57,401] Trial 40 finished with value: 5.0380228030445995 and parameters: {'lambda_l1': 5.149604291927989e-05, 'lambda_l2': 8.319518815025054e-07}. Best is trial 40 with value: 5.0380228030445995.\n",
      "regularization_factors, val_score: 5.020574:   5%|5         | 1/20 [02:59<56:56, 179.79s/it]"
     ]
    },
    {
     "name": "stdout",
     "output_type": "stream",
     "text": [
      "[LightGBM] [Warning] min_data_in_leaf is set=255, min_child_samples=20 will be ignored. Current value: min_data_in_leaf=255\n",
      "[LightGBM] [Warning] min_data_in_leaf is set=255, min_child_samples=20 will be ignored. Current value: min_data_in_leaf=255\n",
      "[LightGBM] [Info] Total Bins 2085\n",
      "[LightGBM] [Info] Number of data points in the train set: 1242194, number of used features: 17\n",
      "[LightGBM] [Warning] min_data_in_leaf is set=255, min_child_samples=20 will be ignored. Current value: min_data_in_leaf=255\n",
      "Training until validation scores don't improve for 30 rounds\n",
      "[LightGBM] [Warning] No further splits with positive gain, best gain: -inf\n",
      "[LightGBM] [Warning] No further splits with positive gain, best gain: -inf\n",
      "[LightGBM] [Warning] No further splits with positive gain, best gain: -inf\n",
      "[50]\tvalid_0's rmse: 5.76212\tvalid_0's rmsse: 0.849614\n",
      "[LightGBM] [Warning] No further splits with positive gain, best gain: -inf\n",
      "[LightGBM] [Warning] No further splits with positive gain, best gain: -inf\n",
      "[100]\tvalid_0's rmse: 5.61994\tvalid_0's rmsse: 0.789075\n",
      "[LightGBM] [Warning] No further splits with positive gain, best gain: -inf\n",
      "[150]\tvalid_0's rmse: 5.44995\tvalid_0's rmsse: 0.776737\n",
      "[LightGBM] [Warning] No further splits with positive gain, best gain: -inf\n",
      "[200]\tvalid_0's rmse: 5.287\tvalid_0's rmsse: 0.772263\n",
      "[LightGBM] [Warning] No further splits with positive gain, best gain: -inf\n",
      "[250]\tvalid_0's rmse: 5.15842\tvalid_0's rmsse: 0.77072\n",
      "[LightGBM] [Warning] No further splits with positive gain, best gain: -inf\n",
      "[LightGBM] [Warning] No further splits with positive gain, best gain: -inf\n",
      "[300]\tvalid_0's rmse: 5.07338\tvalid_0's rmsse: 0.770247\n",
      "[LightGBM] [Warning] No further splits with positive gain, best gain: -inf\n",
      "[350]\tvalid_0's rmse: 5.02643\tvalid_0's rmsse: 0.769961\n",
      "Early stopping, best iteration is:\n",
      "[334]\tvalid_0's rmse: 5.03618\tvalid_0's rmsse: 0.769937\n"
     ]
    },
    {
     "name": "stderr",
     "output_type": "stream",
     "text": [
      "regularization_factors, val_score: 5.020574:  10%|#         | 2/20 [05:58<53:45, 179.17s/it][I 2021-08-18 19:24:56,134] Trial 41 finished with value: 5.036178655481045 and parameters: {'lambda_l1': 0.46603115798420947, 'lambda_l2': 0.00010428517792185431}. Best is trial 41 with value: 5.036178655481045.\n",
      "regularization_factors, val_score: 5.020574:  10%|#         | 2/20 [05:58<53:45, 179.17s/it]"
     ]
    },
    {
     "name": "stdout",
     "output_type": "stream",
     "text": [
      "[LightGBM] [Warning] min_data_in_leaf is set=255, min_child_samples=20 will be ignored. Current value: min_data_in_leaf=255\n",
      "[LightGBM] [Warning] min_data_in_leaf is set=255, min_child_samples=20 will be ignored. Current value: min_data_in_leaf=255\n",
      "[LightGBM] [Info] Total Bins 2085\n",
      "[LightGBM] [Info] Number of data points in the train set: 1242194, number of used features: 17\n",
      "[LightGBM] [Warning] min_data_in_leaf is set=255, min_child_samples=20 will be ignored. Current value: min_data_in_leaf=255\n",
      "[LightGBM] [Warning] No further splits with positive gain, best gain: -inf\n",
      "Training until validation scores don't improve for 30 rounds\n",
      "[LightGBM] [Warning] No further splits with positive gain, best gain: -inf\n",
      "[LightGBM] [Warning] No further splits with positive gain, best gain: -inf\n",
      "[LightGBM] [Warning] No further splits with positive gain, best gain: -inf\n",
      "[LightGBM] [Warning] No further splits with positive gain, best gain: -inf\n",
      "[50]\tvalid_0's rmse: 5.76214\tvalid_0's rmsse: 0.849714\n",
      "[LightGBM] [Warning] No further splits with positive gain, best gain: -inf\n",
      "[LightGBM] [Warning] No further splits with positive gain, best gain: -inf\n",
      "[LightGBM] [Warning] No further splits with positive gain, best gain: -inf\n",
      "[100]\tvalid_0's rmse: 5.62018\tvalid_0's rmsse: 0.789141\n",
      "[LightGBM] [Warning] No further splits with positive gain, best gain: -inf\n",
      "[LightGBM] [Warning] No further splits with positive gain, best gain: -inf\n",
      "[150]\tvalid_0's rmse: 5.45056\tvalid_0's rmsse: 0.776811\n",
      "[LightGBM] [Warning] No further splits with positive gain, best gain: -inf\n",
      "[LightGBM] [Warning] No further splits with positive gain, best gain: -inf\n",
      "[200]\tvalid_0's rmse: 5.28796\tvalid_0's rmsse: 0.772327\n",
      "[LightGBM] [Warning] No further splits with positive gain, best gain: -inf\n",
      "[250]\tvalid_0's rmse: 5.15984\tvalid_0's rmsse: 0.770766\n",
      "[LightGBM] [Warning] No further splits with positive gain, best gain: -inf\n",
      "[LightGBM] [Warning] No further splits with positive gain, best gain: -inf\n",
      "[300]\tvalid_0's rmse: 5.0755\tvalid_0's rmsse: 0.770286\n",
      "[LightGBM] [Warning] No further splits with positive gain, best gain: -inf\n",
      "[350]\tvalid_0's rmse: 5.0278\tvalid_0's rmsse: 0.769992\n",
      "Early stopping, best iteration is:\n",
      "[355]\tvalid_0's rmse: 5.02255\tvalid_0's rmsse: 0.769979\n"
     ]
    },
    {
     "name": "stderr",
     "output_type": "stream",
     "text": [
      "regularization_factors, val_score: 5.020574:  15%|#5        | 3/20 [09:16<53:10, 187.69s/it][I 2021-08-18 19:28:13,968] Trial 42 finished with value: 5.022554176347513 and parameters: {'lambda_l1': 2.9864638271906334, 'lambda_l2': 2.192961110367102e-05}. Best is trial 42 with value: 5.022554176347513.\n",
      "regularization_factors, val_score: 5.020574:  15%|#5        | 3/20 [09:16<53:10, 187.69s/it]"
     ]
    },
    {
     "name": "stdout",
     "output_type": "stream",
     "text": [
      "[LightGBM] [Warning] min_data_in_leaf is set=255, min_child_samples=20 will be ignored. Current value: min_data_in_leaf=255\n",
      "[LightGBM] [Warning] min_data_in_leaf is set=255, min_child_samples=20 will be ignored. Current value: min_data_in_leaf=255\n",
      "[LightGBM] [Info] Total Bins 2085\n",
      "[LightGBM] [Info] Number of data points in the train set: 1242194, number of used features: 17\n",
      "[LightGBM] [Warning] min_data_in_leaf is set=255, min_child_samples=20 will be ignored. Current value: min_data_in_leaf=255\n",
      "[LightGBM] [Warning] No further splits with positive gain, best gain: -inf\n",
      "Training until validation scores don't improve for 30 rounds\n",
      "[LightGBM] [Warning] No further splits with positive gain, best gain: -inf\n",
      "[LightGBM] [Warning] No further splits with positive gain, best gain: -inf\n",
      "[LightGBM] [Warning] No further splits with positive gain, best gain: -inf\n",
      "[LightGBM] [Warning] No further splits with positive gain, best gain: -inf\n",
      "[LightGBM] [Warning] No further splits with positive gain, best gain: -inf\n",
      "[50]\tvalid_0's rmse: 5.7622\tvalid_0's rmsse: 0.849757\n",
      "[LightGBM] [Warning] No further splits with positive gain, best gain: -inf\n",
      "[LightGBM] [Warning] No further splits with positive gain, best gain: -inf\n",
      "[LightGBM] [Warning] No further splits with positive gain, best gain: -inf\n",
      "[LightGBM] [Warning] No further splits with positive gain, best gain: -inf\n",
      "[100]\tvalid_0's rmse: 5.62028\tvalid_0's rmsse: 0.78917\n",
      "[LightGBM] [Warning] No further splits with positive gain, best gain: -inf\n",
      "[LightGBM] [Warning] No further splits with positive gain, best gain: -inf\n",
      "[LightGBM] [Warning] No further splits with positive gain, best gain: -inf\n",
      "[150]\tvalid_0's rmse: 5.45093\tvalid_0's rmsse: 0.776836\n",
      "[LightGBM] [Warning] No further splits with positive gain, best gain: -inf\n",
      "[LightGBM] [Warning] No further splits with positive gain, best gain: -inf\n",
      "[200]\tvalid_0's rmse: 5.28894\tvalid_0's rmsse: 0.772341\n",
      "[LightGBM] [Warning] No further splits with positive gain, best gain: -inf\n",
      "[LightGBM] [Warning] No further splits with positive gain, best gain: -inf\n",
      "[250]\tvalid_0's rmse: 5.16122\tvalid_0's rmsse: 0.770789\n",
      "[LightGBM] [Warning] No further splits with positive gain, best gain: -inf\n",
      "[LightGBM] [Warning] No further splits with positive gain, best gain: -inf\n",
      "[300]\tvalid_0's rmse: 5.07657\tvalid_0's rmsse: 0.770324\n",
      "[LightGBM] [Warning] No further splits with positive gain, best gain: -inf\n",
      "[LightGBM] [Warning] No further splits with positive gain, best gain: -inf\n",
      "[350]\tvalid_0's rmse: 5.02965\tvalid_0's rmsse: 0.77001\n",
      "Early stopping, best iteration is:\n",
      "[355]\tvalid_0's rmse: 5.02469\tvalid_0's rmsse: 0.769986\n"
     ]
    },
    {
     "name": "stderr",
     "output_type": "stream",
     "text": [
      "regularization_factors, val_score: 5.020574:  20%|##        | 4/20 [12:22<49:50, 186.93s/it][I 2021-08-18 19:31:19,720] Trial 43 finished with value: 5.024694857011153 and parameters: {'lambda_l1': 5.198383734185263, 'lambda_l2': 1.1795230784550946e-05}. Best is trial 42 with value: 5.022554176347513.\n",
      "regularization_factors, val_score: 5.020574:  20%|##        | 4/20 [12:22<49:50, 186.93s/it]"
     ]
    },
    {
     "name": "stdout",
     "output_type": "stream",
     "text": [
      "[LightGBM] [Warning] min_data_in_leaf is set=255, min_child_samples=20 will be ignored. Current value: min_data_in_leaf=255\n",
      "[LightGBM] [Warning] min_data_in_leaf is set=255, min_child_samples=20 will be ignored. Current value: min_data_in_leaf=255\n",
      "[LightGBM] [Info] Total Bins 2085\n",
      "[LightGBM] [Info] Number of data points in the train set: 1242194, number of used features: 17\n",
      "[LightGBM] [Warning] min_data_in_leaf is set=255, min_child_samples=20 will be ignored. Current value: min_data_in_leaf=255\n",
      "Training until validation scores don't improve for 30 rounds\n",
      "[LightGBM] [Warning] No further splits with positive gain, best gain: -inf\n",
      "[LightGBM] [Warning] No further splits with positive gain, best gain: -inf\n",
      "[50]\tvalid_0's rmse: 5.762\tvalid_0's rmsse: 0.849631\n",
      "[LightGBM] [Warning] No further splits with positive gain, best gain: -inf\n",
      "[LightGBM] [Warning] No further splits with positive gain, best gain: -inf\n",
      "[100]\tvalid_0's rmse: 5.6198\tvalid_0's rmsse: 0.789051\n",
      "[LightGBM] [Warning] No further splits with positive gain, best gain: -inf\n",
      "[150]\tvalid_0's rmse: 5.4499\tvalid_0's rmsse: 0.776731\n",
      "[200]\tvalid_0's rmse: 5.28678\tvalid_0's rmsse: 0.772248\n",
      "[LightGBM] [Warning] No further splits with positive gain, best gain: -inf\n",
      "[250]\tvalid_0's rmse: 5.15826\tvalid_0's rmsse: 0.77071\n",
      "[LightGBM] [Warning] No further splits with positive gain, best gain: -inf\n",
      "[LightGBM] [Warning] No further splits with positive gain, best gain: -inf\n",
      "[300]\tvalid_0's rmse: 5.07337\tvalid_0's rmsse: 0.770254\n",
      "[LightGBM] [Warning] No further splits with positive gain, best gain: -inf\n",
      "[350]\tvalid_0's rmse: 5.02604\tvalid_0's rmsse: 0.769972\n",
      "Early stopping, best iteration is:\n",
      "[355]\tvalid_0's rmse: 5.02084\tvalid_0's rmsse: 0.769942\n"
     ]
    },
    {
     "name": "stderr",
     "output_type": "stream",
     "text": [
      "regularization_factors, val_score: 5.020574:  25%|##5       | 5/20 [15:35<47:17, 189.18s/it][I 2021-08-18 19:34:32,900] Trial 44 finished with value: 5.020837225310986 and parameters: {'lambda_l1': 0.00010908328615482222, 'lambda_l2': 9.199594298807392e-06}. Best is trial 44 with value: 5.020837225310986.\n",
      "regularization_factors, val_score: 5.020574:  25%|##5       | 5/20 [15:35<47:17, 189.18s/it]"
     ]
    },
    {
     "name": "stdout",
     "output_type": "stream",
     "text": [
      "[LightGBM] [Warning] min_data_in_leaf is set=255, min_child_samples=20 will be ignored. Current value: min_data_in_leaf=255\n",
      "[LightGBM] [Warning] min_data_in_leaf is set=255, min_child_samples=20 will be ignored. Current value: min_data_in_leaf=255\n",
      "[LightGBM] [Info] Total Bins 2085\n",
      "[LightGBM] [Info] Number of data points in the train set: 1242194, number of used features: 17\n",
      "[LightGBM] [Warning] min_data_in_leaf is set=255, min_child_samples=20 will be ignored. Current value: min_data_in_leaf=255\n",
      "Training until validation scores don't improve for 30 rounds\n",
      "[LightGBM] [Warning] No further splits with positive gain, best gain: -inf\n",
      "[LightGBM] [Warning] No further splits with positive gain, best gain: -inf\n",
      "[50]\tvalid_0's rmse: 5.76209\tvalid_0's rmsse: 0.84967\n",
      "[LightGBM] [Warning] No further splits with positive gain, best gain: -inf\n",
      "[LightGBM] [Warning] No further splits with positive gain, best gain: -inf\n",
      "[100]\tvalid_0's rmse: 5.61991\tvalid_0's rmsse: 0.789069\n",
      "[LightGBM] [Warning] No further splits with positive gain, best gain: -inf\n",
      "[150]\tvalid_0's rmse: 5.44993\tvalid_0's rmsse: 0.776718\n",
      "[200]\tvalid_0's rmse: 5.28679\tvalid_0's rmsse: 0.772222\n",
      "[LightGBM] [Warning] No further splits with positive gain, best gain: -inf\n",
      "[250]\tvalid_0's rmse: 5.15834\tvalid_0's rmsse: 0.770673\n",
      "[LightGBM] [Warning] No further splits with positive gain, best gain: -inf\n",
      "[LightGBM] [Warning] No further splits with positive gain, best gain: -inf\n",
      "[300]\tvalid_0's rmse: 5.07387\tvalid_0's rmsse: 0.770219\n",
      "[LightGBM] [Warning] No further splits with positive gain, best gain: -inf\n",
      "[350]\tvalid_0's rmse: 5.02675\tvalid_0's rmsse: 0.769911\n",
      "Early stopping, best iteration is:\n",
      "[346]\tvalid_0's rmse: 5.02906\tvalid_0's rmsse: 0.769898\n"
     ]
    },
    {
     "name": "stderr",
     "output_type": "stream",
     "text": [
      "regularization_factors, val_score: 5.020574:  30%|###       | 6/20 [18:35<43:24, 186.05s/it][I 2021-08-18 19:37:32,862] Trial 45 finished with value: 5.0290634829822825 and parameters: {'lambda_l1': 0.09116181614186708, 'lambda_l2': 0.3337657906341457}. Best is trial 44 with value: 5.020837225310986.\n",
      "regularization_factors, val_score: 5.020574:  30%|###       | 6/20 [18:35<43:24, 186.05s/it]"
     ]
    },
    {
     "name": "stdout",
     "output_type": "stream",
     "text": [
      "[LightGBM] [Warning] min_data_in_leaf is set=255, min_child_samples=20 will be ignored. Current value: min_data_in_leaf=255\n",
      "[LightGBM] [Warning] min_data_in_leaf is set=255, min_child_samples=20 will be ignored. Current value: min_data_in_leaf=255\n",
      "[LightGBM] [Info] Total Bins 2085\n",
      "[LightGBM] [Info] Number of data points in the train set: 1242194, number of used features: 17\n",
      "[LightGBM] [Warning] min_data_in_leaf is set=255, min_child_samples=20 will be ignored. Current value: min_data_in_leaf=255\n",
      "Training until validation scores don't improve for 30 rounds\n",
      "[LightGBM] [Warning] No further splits with positive gain, best gain: -inf\n",
      "[50]\tvalid_0's rmse: 5.76206\tvalid_0's rmsse: 0.849665\n",
      "[LightGBM] [Warning] No further splits with positive gain, best gain: -inf\n",
      "[LightGBM] [Warning] No further splits with positive gain, best gain: -inf\n",
      "[100]\tvalid_0's rmse: 5.61984\tvalid_0's rmsse: 0.789078\n",
      "[LightGBM] [Warning] No further splits with positive gain, best gain: -inf\n",
      "[150]\tvalid_0's rmse: 5.44989\tvalid_0's rmsse: 0.776734\n",
      "[200]\tvalid_0's rmse: 5.28639\tvalid_0's rmsse: 0.772246\n",
      "[LightGBM] [Warning] No further splits with positive gain, best gain: -inf\n",
      "[250]\tvalid_0's rmse: 5.15757\tvalid_0's rmsse: 0.770695\n",
      "[LightGBM] [Warning] No further splits with positive gain, best gain: -inf\n",
      "[LightGBM] [Warning] No further splits with positive gain, best gain: -inf\n",
      "[300]\tvalid_0's rmse: 5.07157\tvalid_0's rmsse: 0.770218\n",
      "[LightGBM] [Warning] No further splits with positive gain, best gain: -inf\n",
      "[350]\tvalid_0's rmse: 5.02534\tvalid_0's rmsse: 0.769957\n",
      "Early stopping, best iteration is:\n",
      "[334]\tvalid_0's rmse: 5.03512\tvalid_0's rmsse: 0.769926\n"
     ]
    },
    {
     "name": "stderr",
     "output_type": "stream",
     "text": [
      "regularization_factors, val_score: 5.020574:  35%|###5      | 7/20 [21:29<39:28, 182.18s/it][I 2021-08-18 19:40:27,094] Trial 46 finished with value: 5.035123522223512 and parameters: {'lambda_l1': 1.5871318841631255e-06, 'lambda_l2': 0.08398677763531705}. Best is trial 44 with value: 5.020837225310986.\n",
      "regularization_factors, val_score: 5.020574:  35%|###5      | 7/20 [21:29<39:28, 182.18s/it]"
     ]
    },
    {
     "name": "stdout",
     "output_type": "stream",
     "text": [
      "[LightGBM] [Warning] min_data_in_leaf is set=255, min_child_samples=20 will be ignored. Current value: min_data_in_leaf=255\n",
      "[LightGBM] [Warning] min_data_in_leaf is set=255, min_child_samples=20 will be ignored. Current value: min_data_in_leaf=255\n",
      "[LightGBM] [Info] Total Bins 2085\n",
      "[LightGBM] [Info] Number of data points in the train set: 1242194, number of used features: 17\n",
      "[LightGBM] [Warning] min_data_in_leaf is set=255, min_child_samples=20 will be ignored. Current value: min_data_in_leaf=255\n",
      "Training until validation scores don't improve for 30 rounds\n",
      "[LightGBM] [Warning] No further splits with positive gain, best gain: -inf\n",
      "[LightGBM] [Warning] No further splits with positive gain, best gain: -inf\n",
      "[50]\tvalid_0's rmse: 5.76205\tvalid_0's rmsse: 0.8496\n",
      "[LightGBM] [Warning] No further splits with positive gain, best gain: -inf\n",
      "[LightGBM] [Warning] No further splits with positive gain, best gain: -inf\n",
      "[100]\tvalid_0's rmse: 5.61979\tvalid_0's rmsse: 0.789065\n",
      "[LightGBM] [Warning] No further splits with positive gain, best gain: -inf\n",
      "[150]\tvalid_0's rmse: 5.44973\tvalid_0's rmsse: 0.776728\n",
      "[200]\tvalid_0's rmse: 5.28643\tvalid_0's rmsse: 0.772244\n",
      "[LightGBM] [Warning] No further splits with positive gain, best gain: -inf\n",
      "[250]\tvalid_0's rmse: 5.15804\tvalid_0's rmsse: 0.770695\n",
      "[LightGBM] [Warning] No further splits with positive gain, best gain: -inf\n",
      "[LightGBM] [Warning] No further splits with positive gain, best gain: -inf\n",
      "[300]\tvalid_0's rmse: 5.07363\tvalid_0's rmsse: 0.770227\n",
      "[LightGBM] [Warning] No further splits with positive gain, best gain: -inf\n",
      "[350]\tvalid_0's rmse: 5.02707\tvalid_0's rmsse: 0.769936\n",
      "Early stopping, best iteration is:\n",
      "[355]\tvalid_0's rmse: 5.02174\tvalid_0's rmsse: 0.769915\n"
     ]
    },
    {
     "name": "stderr",
     "output_type": "stream",
     "text": [
      "regularization_factors, val_score: 5.020574:  40%|####      | 8/20 [24:31<36:25, 182.13s/it][I 2021-08-18 19:43:29,093] Trial 47 finished with value: 5.0217440154927635 and parameters: {'lambda_l1': 0.038922696815357136, 'lambda_l2': 7.321284689113196e-07}. Best is trial 44 with value: 5.020837225310986.\n",
      "regularization_factors, val_score: 5.020574:  40%|####      | 8/20 [24:31<36:25, 182.13s/it]"
     ]
    },
    {
     "name": "stdout",
     "output_type": "stream",
     "text": [
      "[LightGBM] [Warning] min_data_in_leaf is set=255, min_child_samples=20 will be ignored. Current value: min_data_in_leaf=255\n",
      "[LightGBM] [Warning] min_data_in_leaf is set=255, min_child_samples=20 will be ignored. Current value: min_data_in_leaf=255\n",
      "[LightGBM] [Info] Total Bins 2085\n",
      "[LightGBM] [Info] Number of data points in the train set: 1242194, number of used features: 17\n",
      "[LightGBM] [Warning] min_data_in_leaf is set=255, min_child_samples=20 will be ignored. Current value: min_data_in_leaf=255\n",
      "Training until validation scores don't improve for 30 rounds\n",
      "[LightGBM] [Warning] No further splits with positive gain, best gain: -inf\n",
      "[LightGBM] [Warning] No further splits with positive gain, best gain: -inf\n",
      "[50]\tvalid_0's rmse: 5.76205\tvalid_0's rmsse: 0.849611\n",
      "[LightGBM] [Warning] No further splits with positive gain, best gain: -inf\n",
      "[LightGBM] [Warning] No further splits with positive gain, best gain: -inf\n",
      "[100]\tvalid_0's rmse: 5.61983\tvalid_0's rmsse: 0.789046\n",
      "[LightGBM] [Warning] No further splits with positive gain, best gain: -inf\n",
      "[150]\tvalid_0's rmse: 5.44983\tvalid_0's rmsse: 0.776707\n",
      "[200]\tvalid_0's rmse: 5.28688\tvalid_0's rmsse: 0.772247\n",
      "[LightGBM] [Warning] No further splits with positive gain, best gain: -inf\n",
      "[250]\tvalid_0's rmse: 5.15859\tvalid_0's rmsse: 0.770712\n",
      "[LightGBM] [Warning] No further splits with positive gain, best gain: -inf\n",
      "[LightGBM] [Warning] No further splits with positive gain, best gain: -inf\n",
      "[300]\tvalid_0's rmse: 5.07463\tvalid_0's rmsse: 0.770242\n",
      "[LightGBM] [Warning] No further splits with positive gain, best gain: -inf\n",
      "[350]\tvalid_0's rmse: 5.02743\tvalid_0's rmsse: 0.769946\n",
      "Early stopping, best iteration is:\n",
      "[341]\tvalid_0's rmse: 5.03407\tvalid_0's rmsse: 0.769931\n"
     ]
    },
    {
     "name": "stderr",
     "output_type": "stream",
     "text": [
      "regularization_factors, val_score: 5.020574:  45%|####5     | 9/20 [27:26<32:59, 179.94s/it][I 2021-08-18 19:46:24,222] Trial 48 finished with value: 5.034069390480635 and parameters: {'lambda_l1': 2.681327101054304e-08, 'lambda_l2': 0.03313906814171632}. Best is trial 44 with value: 5.020837225310986.\n",
      "regularization_factors, val_score: 5.020574:  45%|####5     | 9/20 [27:26<32:59, 179.94s/it]"
     ]
    },
    {
     "name": "stdout",
     "output_type": "stream",
     "text": [
      "[LightGBM] [Warning] min_data_in_leaf is set=255, min_child_samples=20 will be ignored. Current value: min_data_in_leaf=255\n",
      "[LightGBM] [Warning] min_data_in_leaf is set=255, min_child_samples=20 will be ignored. Current value: min_data_in_leaf=255\n",
      "[LightGBM] [Info] Total Bins 2085\n",
      "[LightGBM] [Info] Number of data points in the train set: 1242194, number of used features: 17\n",
      "[LightGBM] [Warning] min_data_in_leaf is set=255, min_child_samples=20 will be ignored. Current value: min_data_in_leaf=255\n",
      "Training until validation scores don't improve for 30 rounds\n",
      "[LightGBM] [Warning] No further splits with positive gain, best gain: -inf\n",
      "[LightGBM] [Warning] No further splits with positive gain, best gain: -inf\n",
      "[50]\tvalid_0's rmse: 5.76205\tvalid_0's rmsse: 0.849627\n",
      "[LightGBM] [Warning] No further splits with positive gain, best gain: -inf\n",
      "[LightGBM] [Warning] No further splits with positive gain, best gain: -inf\n",
      "[100]\tvalid_0's rmse: 5.61985\tvalid_0's rmsse: 0.789067\n",
      "[LightGBM] [Warning] No further splits with positive gain, best gain: -inf\n",
      "[150]\tvalid_0's rmse: 5.44991\tvalid_0's rmsse: 0.776731\n",
      "[200]\tvalid_0's rmse: 5.28703\tvalid_0's rmsse: 0.77226\n",
      "[LightGBM] [Warning] No further splits with positive gain, best gain: -inf\n",
      "[250]\tvalid_0's rmse: 5.15844\tvalid_0's rmsse: 0.770728\n",
      "[LightGBM] [Warning] No further splits with positive gain, best gain: -inf\n",
      "[LightGBM] [Warning] No further splits with positive gain, best gain: -inf\n",
      "[300]\tvalid_0's rmse: 5.07459\tvalid_0's rmsse: 0.770268\n",
      "[LightGBM] [Warning] No further splits with positive gain, best gain: -inf\n",
      "[350]\tvalid_0's rmse: 5.02725\tvalid_0's rmsse: 0.769973\n",
      "Early stopping, best iteration is:\n",
      "[341]\tvalid_0's rmse: 5.03379\tvalid_0's rmsse: 0.769955\n"
     ]
    },
    {
     "name": "stderr",
     "output_type": "stream",
     "text": [
      "regularization_factors, val_score: 5.020574:  50%|#####     | 10/20 [30:25<29:55, 179.55s/it][I 2021-08-18 19:49:22,905] Trial 49 finished with value: 5.03379437516945 and parameters: {'lambda_l1': 0.14587721268583456, 'lambda_l2': 1.218470599877937e-08}. Best is trial 44 with value: 5.020837225310986.\n",
      "regularization_factors, val_score: 5.020574:  50%|#####     | 10/20 [30:25<29:55, 179.55s/it]"
     ]
    },
    {
     "name": "stdout",
     "output_type": "stream",
     "text": [
      "[LightGBM] [Warning] min_data_in_leaf is set=255, min_child_samples=20 will be ignored. Current value: min_data_in_leaf=255\n",
      "[LightGBM] [Warning] min_data_in_leaf is set=255, min_child_samples=20 will be ignored. Current value: min_data_in_leaf=255\n",
      "[LightGBM] [Info] Total Bins 2085\n",
      "[LightGBM] [Info] Number of data points in the train set: 1242194, number of used features: 17\n",
      "[LightGBM] [Warning] min_data_in_leaf is set=255, min_child_samples=20 will be ignored. Current value: min_data_in_leaf=255\n",
      "Training until validation scores don't improve for 30 rounds\n",
      "[LightGBM] [Warning] No further splits with positive gain, best gain: -inf\n",
      "[LightGBM] [Warning] No further splits with positive gain, best gain: -inf\n",
      "[50]\tvalid_0's rmse: 5.762\tvalid_0's rmsse: 0.84963\n",
      "[LightGBM] [Warning] No further splits with positive gain, best gain: -inf\n",
      "[LightGBM] [Warning] No further splits with positive gain, best gain: -inf\n",
      "[100]\tvalid_0's rmse: 5.61977\tvalid_0's rmsse: 0.789051\n",
      "[LightGBM] [Warning] No further splits with positive gain, best gain: -inf\n",
      "[150]\tvalid_0's rmse: 5.4498\tvalid_0's rmsse: 0.776721\n",
      "[200]\tvalid_0's rmse: 5.28666\tvalid_0's rmsse: 0.772248\n",
      "[LightGBM] [Warning] No further splits with positive gain, best gain: -inf\n",
      "[250]\tvalid_0's rmse: 5.15842\tvalid_0's rmsse: 0.77071\n",
      "[LightGBM] [Warning] No further splits with positive gain, best gain: -inf\n",
      "[LightGBM] [Warning] No further splits with positive gain, best gain: -inf\n",
      "[300]\tvalid_0's rmse: 5.07397\tvalid_0's rmsse: 0.770251\n",
      "[LightGBM] [Warning] No further splits with positive gain, best gain: -inf\n",
      "[350]\tvalid_0's rmse: 5.02753\tvalid_0's rmsse: 0.769975\n",
      "Early stopping, best iteration is:\n",
      "[334]\tvalid_0's rmse: 5.03735\tvalid_0's rmsse: 0.769948\n"
     ]
    },
    {
     "name": "stderr",
     "output_type": "stream",
     "text": [
      "regularization_factors, val_score: 5.020574:  55%|#####5    | 11/20 [33:19<26:41, 177.92s/it][I 2021-08-18 19:52:17,132] Trial 50 finished with value: 5.037347184984857 and parameters: {'lambda_l1': 0.0005486606594091, 'lambda_l2': 0.002749581212752116}. Best is trial 44 with value: 5.020837225310986.\n",
      "regularization_factors, val_score: 5.020574:  55%|#####5    | 11/20 [33:19<26:41, 177.92s/it]"
     ]
    },
    {
     "name": "stdout",
     "output_type": "stream",
     "text": [
      "[LightGBM] [Warning] min_data_in_leaf is set=255, min_child_samples=20 will be ignored. Current value: min_data_in_leaf=255\n",
      "[LightGBM] [Warning] min_data_in_leaf is set=255, min_child_samples=20 will be ignored. Current value: min_data_in_leaf=255\n",
      "[LightGBM] [Info] Total Bins 2085\n",
      "[LightGBM] [Info] Number of data points in the train set: 1242194, number of used features: 17\n",
      "[LightGBM] [Warning] min_data_in_leaf is set=255, min_child_samples=20 will be ignored. Current value: min_data_in_leaf=255\n",
      "Training until validation scores don't improve for 30 rounds\n",
      "[LightGBM] [Warning] No further splits with positive gain, best gain: -inf\n",
      "[LightGBM] [Warning] No further splits with positive gain, best gain: -inf\n",
      "[50]\tvalid_0's rmse: 5.76203\tvalid_0's rmsse: 0.849608\n",
      "[LightGBM] [Warning] No further splits with positive gain, best gain: -inf\n",
      "[LightGBM] [Warning] No further splits with positive gain, best gain: -inf\n",
      "[100]\tvalid_0's rmse: 5.61978\tvalid_0's rmsse: 0.789043\n",
      "[LightGBM] [Warning] No further splits with positive gain, best gain: -inf\n",
      "[150]\tvalid_0's rmse: 5.44976\tvalid_0's rmsse: 0.776701\n",
      "[200]\tvalid_0's rmse: 5.28636\tvalid_0's rmsse: 0.772215\n",
      "[LightGBM] [Warning] No further splits with positive gain, best gain: -inf\n",
      "[250]\tvalid_0's rmse: 5.15781\tvalid_0's rmsse: 0.770667\n",
      "[LightGBM] [Warning] No further splits with positive gain, best gain: -inf\n",
      "[LightGBM] [Warning] No further splits with positive gain, best gain: -inf\n",
      "[300]\tvalid_0's rmse: 5.07353\tvalid_0's rmsse: 0.770199\n",
      "[LightGBM] [Warning] No further splits with positive gain, best gain: -inf\n",
      "[350]\tvalid_0's rmse: 5.02636\tvalid_0's rmsse: 0.769904\n",
      "Early stopping, best iteration is:\n",
      "[355]\tvalid_0's rmse: 5.02136\tvalid_0's rmsse: 0.769885\n"
     ]
    },
    {
     "name": "stderr",
     "output_type": "stream",
     "text": [
      "regularization_factors, val_score: 5.020574:  60%|######    | 12/20 [36:17<23:43, 177.96s/it][I 2021-08-18 19:55:15,188] Trial 51 finished with value: 5.0213586870529925 and parameters: {'lambda_l1': 0.002428491888095341, 'lambda_l2': 1.5598878701528365e-07}. Best is trial 44 with value: 5.020837225310986.\n",
      "regularization_factors, val_score: 5.020574:  60%|######    | 12/20 [36:17<23:43, 177.96s/it]"
     ]
    },
    {
     "name": "stdout",
     "output_type": "stream",
     "text": [
      "[LightGBM] [Warning] min_data_in_leaf is set=255, min_child_samples=20 will be ignored. Current value: min_data_in_leaf=255\n",
      "[LightGBM] [Warning] min_data_in_leaf is set=255, min_child_samples=20 will be ignored. Current value: min_data_in_leaf=255\n",
      "[LightGBM] [Info] Total Bins 2085\n",
      "[LightGBM] [Info] Number of data points in the train set: 1242194, number of used features: 17\n",
      "[LightGBM] [Warning] min_data_in_leaf is set=255, min_child_samples=20 will be ignored. Current value: min_data_in_leaf=255\n",
      "Training until validation scores don't improve for 30 rounds\n",
      "[LightGBM] [Warning] No further splits with positive gain, best gain: -inf\n",
      "[LightGBM] [Warning] No further splits with positive gain, best gain: -inf\n",
      "[50]\tvalid_0's rmse: 5.76201\tvalid_0's rmsse: 0.849637\n",
      "[LightGBM] [Warning] No further splits with positive gain, best gain: -inf\n",
      "[LightGBM] [Warning] No further splits with positive gain, best gain: -inf\n",
      "[100]\tvalid_0's rmse: 5.61984\tvalid_0's rmsse: 0.78907\n",
      "[LightGBM] [Warning] No further splits with positive gain, best gain: -inf\n",
      "[150]\tvalid_0's rmse: 5.44975\tvalid_0's rmsse: 0.776744\n",
      "[200]\tvalid_0's rmse: 5.28643\tvalid_0's rmsse: 0.772269\n",
      "[LightGBM] [Warning] No further splits with positive gain, best gain: -inf\n",
      "[250]\tvalid_0's rmse: 5.15808\tvalid_0's rmsse: 0.770726\n",
      "[LightGBM] [Warning] No further splits with positive gain, best gain: -inf\n",
      "[LightGBM] [Warning] No further splits with positive gain, best gain: -inf\n",
      "[300]\tvalid_0's rmse: 5.07399\tvalid_0's rmsse: 0.770266\n",
      "[LightGBM] [Warning] No further splits with positive gain, best gain: -inf\n",
      "[350]\tvalid_0's rmse: 5.02652\tvalid_0's rmsse: 0.769993\n",
      "Early stopping, best iteration is:\n",
      "[334]\tvalid_0's rmse: 5.03722\tvalid_0's rmsse: 0.769968\n"
     ]
    },
    {
     "name": "stderr",
     "output_type": "stream",
     "text": [
      "regularization_factors, val_score: 5.020574:  65%|######5   | 13/20 [39:04<20:21, 174.51s/it][I 2021-08-18 19:58:01,765] Trial 52 finished with value: 5.037219519950774 and parameters: {'lambda_l1': 0.0009115212456974714, 'lambda_l2': 1.4833034512837986e-08}. Best is trial 44 with value: 5.020837225310986.\n",
      "regularization_factors, val_score: 5.020574:  65%|######5   | 13/20 [39:04<20:21, 174.51s/it]"
     ]
    },
    {
     "name": "stdout",
     "output_type": "stream",
     "text": [
      "[LightGBM] [Warning] min_data_in_leaf is set=255, min_child_samples=20 will be ignored. Current value: min_data_in_leaf=255\n",
      "[LightGBM] [Warning] min_data_in_leaf is set=255, min_child_samples=20 will be ignored. Current value: min_data_in_leaf=255\n",
      "[LightGBM] [Info] Total Bins 2085\n",
      "[LightGBM] [Info] Number of data points in the train set: 1242194, number of used features: 17\n",
      "[LightGBM] [Warning] min_data_in_leaf is set=255, min_child_samples=20 will be ignored. Current value: min_data_in_leaf=255\n",
      "[LightGBM] [Warning] No further splits with positive gain, best gain: -inf\n",
      "Training until validation scores don't improve for 30 rounds\n",
      "[LightGBM] [Warning] No further splits with positive gain, best gain: -inf\n",
      "[LightGBM] [Warning] No further splits with positive gain, best gain: -inf\n",
      "[LightGBM] [Warning] No further splits with positive gain, best gain: -inf\n",
      "[50]\tvalid_0's rmse: 5.76213\tvalid_0's rmsse: 0.849705\n",
      "[LightGBM] [Warning] No further splits with positive gain, best gain: -inf\n",
      "[LightGBM] [Warning] No further splits with positive gain, best gain: -inf\n",
      "[100]\tvalid_0's rmse: 5.62003\tvalid_0's rmsse: 0.789135\n",
      "[LightGBM] [Warning] No further splits with positive gain, best gain: -inf\n",
      "[150]\tvalid_0's rmse: 5.45005\tvalid_0's rmsse: 0.776772\n",
      "[LightGBM] [Warning] No further splits with positive gain, best gain: -inf\n",
      "[200]\tvalid_0's rmse: 5.28716\tvalid_0's rmsse: 0.772274\n",
      "[LightGBM] [Warning] No further splits with positive gain, best gain: -inf\n",
      "[250]\tvalid_0's rmse: 5.15935\tvalid_0's rmsse: 0.770723\n",
      "[LightGBM] [Warning] No further splits with positive gain, best gain: -inf\n",
      "[LightGBM] [Warning] No further splits with positive gain, best gain: -inf\n",
      "[300]\tvalid_0's rmse: 5.07517\tvalid_0's rmsse: 0.770244\n",
      "[LightGBM] [Warning] No further splits with positive gain, best gain: -inf\n",
      "[350]\tvalid_0's rmse: 5.02799\tvalid_0's rmsse: 0.769965\n",
      "Early stopping, best iteration is:\n",
      "[334]\tvalid_0's rmse: 5.03862\tvalid_0's rmsse: 0.769952\n"
     ]
    },
    {
     "name": "stderr",
     "output_type": "stream",
     "text": [
      "regularization_factors, val_score: 5.020574:  70%|#######   | 14/20 [41:54<17:19, 173.19s/it][I 2021-08-18 20:00:51,905] Trial 53 finished with value: 5.038617171358273 and parameters: {'lambda_l1': 2.496229992233165e-05, 'lambda_l2': 6.5620212437724375}. Best is trial 44 with value: 5.020837225310986.\n",
      "regularization_factors, val_score: 5.020574:  70%|#######   | 14/20 [41:54<17:19, 173.19s/it]"
     ]
    },
    {
     "name": "stdout",
     "output_type": "stream",
     "text": [
      "[LightGBM] [Warning] min_data_in_leaf is set=255, min_child_samples=20 will be ignored. Current value: min_data_in_leaf=255\n",
      "[LightGBM] [Warning] min_data_in_leaf is set=255, min_child_samples=20 will be ignored. Current value: min_data_in_leaf=255\n",
      "[LightGBM] [Info] Total Bins 2085\n",
      "[LightGBM] [Info] Number of data points in the train set: 1242194, number of used features: 17\n",
      "[LightGBM] [Warning] min_data_in_leaf is set=255, min_child_samples=20 will be ignored. Current value: min_data_in_leaf=255\n",
      "Training until validation scores don't improve for 30 rounds\n",
      "[LightGBM] [Warning] No further splits with positive gain, best gain: -inf\n",
      "[LightGBM] [Warning] No further splits with positive gain, best gain: -inf\n",
      "[50]\tvalid_0's rmse: 5.76203\tvalid_0's rmsse: 0.849602\n",
      "[LightGBM] [Warning] No further splits with positive gain, best gain: -inf\n",
      "[LightGBM] [Warning] No further splits with positive gain, best gain: -inf\n",
      "[100]\tvalid_0's rmse: 5.61981\tvalid_0's rmsse: 0.78904\n",
      "[LightGBM] [Warning] No further splits with positive gain, best gain: -inf\n",
      "[150]\tvalid_0's rmse: 5.44964\tvalid_0's rmsse: 0.776717\n",
      "[200]\tvalid_0's rmse: 5.28643\tvalid_0's rmsse: 0.772246\n",
      "[LightGBM] [Warning] No further splits with positive gain, best gain: -inf\n",
      "[250]\tvalid_0's rmse: 5.15754\tvalid_0's rmsse: 0.770708\n",
      "[LightGBM] [Warning] No further splits with positive gain, best gain: -inf\n",
      "[LightGBM] [Warning] No further splits with positive gain, best gain: -inf\n",
      "[300]\tvalid_0's rmse: 5.07228\tvalid_0's rmsse: 0.770248\n",
      "[LightGBM] [Warning] No further splits with positive gain, best gain: -inf\n",
      "[350]\tvalid_0's rmse: 5.02501\tvalid_0's rmsse: 0.769969\n",
      "Early stopping, best iteration is:\n",
      "[341]\tvalid_0's rmse: 5.03183\tvalid_0's rmsse: 0.769949\n"
     ]
    },
    {
     "name": "stderr",
     "output_type": "stream",
     "text": [
      "regularization_factors, val_score: 5.020574:  75%|#######5  | 15/20 [44:34<14:06, 169.30s/it][I 2021-08-18 20:03:32,178] Trial 54 finished with value: 5.031827913683799 and parameters: {'lambda_l1': 0.0035851632987448185, 'lambda_l2': 4.998002984112125e-07}. Best is trial 44 with value: 5.020837225310986.\n",
      "regularization_factors, val_score: 5.020574:  75%|#######5  | 15/20 [44:34<14:06, 169.30s/it]"
     ]
    },
    {
     "name": "stdout",
     "output_type": "stream",
     "text": [
      "[LightGBM] [Warning] min_data_in_leaf is set=255, min_child_samples=20 will be ignored. Current value: min_data_in_leaf=255\n",
      "[LightGBM] [Warning] min_data_in_leaf is set=255, min_child_samples=20 will be ignored. Current value: min_data_in_leaf=255\n",
      "[LightGBM] [Info] Total Bins 2085\n",
      "[LightGBM] [Info] Number of data points in the train set: 1242194, number of used features: 17\n",
      "[LightGBM] [Warning] min_data_in_leaf is set=255, min_child_samples=20 will be ignored. Current value: min_data_in_leaf=255\n",
      "Training until validation scores don't improve for 30 rounds\n",
      "[LightGBM] [Warning] No further splits with positive gain, best gain: -inf\n",
      "[LightGBM] [Warning] No further splits with positive gain, best gain: -inf\n",
      "[50]\tvalid_0's rmse: 5.76203\tvalid_0's rmsse: 0.84959\n",
      "[LightGBM] [Warning] No further splits with positive gain, best gain: -inf\n",
      "[LightGBM] [Warning] No further splits with positive gain, best gain: -inf\n",
      "[100]\tvalid_0's rmse: 5.61983\tvalid_0's rmsse: 0.789035\n",
      "[LightGBM] [Warning] No further splits with positive gain, best gain: -inf\n",
      "[150]\tvalid_0's rmse: 5.44988\tvalid_0's rmsse: 0.776715\n",
      "[200]\tvalid_0's rmse: 5.28625\tvalid_0's rmsse: 0.772238\n",
      "[LightGBM] [Warning] No further splits with positive gain, best gain: -inf\n",
      "[250]\tvalid_0's rmse: 5.1578\tvalid_0's rmsse: 0.770705\n",
      "[LightGBM] [Warning] No further splits with positive gain, best gain: -inf\n",
      "[LightGBM] [Warning] No further splits with positive gain, best gain: -inf\n",
      "[300]\tvalid_0's rmse: 5.07426\tvalid_0's rmsse: 0.77026\n",
      "[LightGBM] [Warning] No further splits with positive gain, best gain: -inf\n",
      "[350]\tvalid_0's rmse: 5.02697\tvalid_0's rmsse: 0.769961\n",
      "Early stopping, best iteration is:\n",
      "[341]\tvalid_0's rmse: 5.03341\tvalid_0's rmsse: 0.76994\n"
     ]
    },
    {
     "name": "stderr",
     "output_type": "stream",
     "text": [
      "regularization_factors, val_score: 5.020574:  80%|########  | 16/20 [46:22<10:02, 150.74s/it][I 2021-08-18 20:05:19,808] Trial 55 finished with value: 5.033413945142481 and parameters: {'lambda_l1': 3.4765840558714226e-06, 'lambda_l2': 1.5835325992854796e-07}. Best is trial 44 with value: 5.020837225310986.\n",
      "regularization_factors, val_score: 5.020574:  80%|########  | 16/20 [46:22<10:02, 150.74s/it]"
     ]
    },
    {
     "name": "stdout",
     "output_type": "stream",
     "text": [
      "[LightGBM] [Warning] min_data_in_leaf is set=255, min_child_samples=20 will be ignored. Current value: min_data_in_leaf=255\n",
      "[LightGBM] [Warning] min_data_in_leaf is set=255, min_child_samples=20 will be ignored. Current value: min_data_in_leaf=255\n",
      "[LightGBM] [Info] Total Bins 2085\n",
      "[LightGBM] [Info] Number of data points in the train set: 1242194, number of used features: 17\n",
      "[LightGBM] [Warning] min_data_in_leaf is set=255, min_child_samples=20 will be ignored. Current value: min_data_in_leaf=255\n",
      "Training until validation scores don't improve for 30 rounds\n",
      "[LightGBM] [Warning] No further splits with positive gain, best gain: -inf\n",
      "[LightGBM] [Warning] No further splits with positive gain, best gain: -inf\n",
      "[50]\tvalid_0's rmse: 5.76206\tvalid_0's rmsse: 0.849564\n",
      "[LightGBM] [Warning] No further splits with positive gain, best gain: -inf\n",
      "[LightGBM] [Warning] No further splits with positive gain, best gain: -inf\n",
      "[100]\tvalid_0's rmse: 5.61983\tvalid_0's rmsse: 0.789039\n",
      "[LightGBM] [Warning] No further splits with positive gain, best gain: -inf\n",
      "[150]\tvalid_0's rmse: 5.4499\tvalid_0's rmsse: 0.776708\n",
      "[200]\tvalid_0's rmse: 5.28627\tvalid_0's rmsse: 0.772241\n",
      "[LightGBM] [Warning] No further splits with positive gain, best gain: -inf\n",
      "[250]\tvalid_0's rmse: 5.1577\tvalid_0's rmsse: 0.770698\n",
      "[LightGBM] [Warning] No further splits with positive gain, best gain: -inf\n",
      "[LightGBM] [Warning] No further splits with positive gain, best gain: -inf\n",
      "[300]\tvalid_0's rmse: 5.0727\tvalid_0's rmsse: 0.770223\n",
      "[LightGBM] [Warning] No further splits with positive gain, best gain: -inf\n",
      "[350]\tvalid_0's rmse: 5.02491\tvalid_0's rmsse: 0.769957\n",
      "Early stopping, best iteration is:\n",
      "[341]\tvalid_0's rmse: 5.03153\tvalid_0's rmsse: 0.769933\n"
     ]
    },
    {
     "name": "stderr",
     "output_type": "stream",
     "text": [
      "regularization_factors, val_score: 5.020574:  85%|########5 | 17/20 [48:10<06:53, 137.95s/it][I 2021-08-18 20:07:08,008] Trial 56 finished with value: 5.031533873989545 and parameters: {'lambda_l1': 0.0071553338618032146, 'lambda_l2': 0.0015928744143848192}. Best is trial 44 with value: 5.020837225310986.\n",
      "regularization_factors, val_score: 5.020574:  85%|########5 | 17/20 [48:10<06:53, 137.95s/it]"
     ]
    },
    {
     "name": "stdout",
     "output_type": "stream",
     "text": [
      "[LightGBM] [Warning] min_data_in_leaf is set=255, min_child_samples=20 will be ignored. Current value: min_data_in_leaf=255\n",
      "[LightGBM] [Warning] min_data_in_leaf is set=255, min_child_samples=20 will be ignored. Current value: min_data_in_leaf=255\n",
      "[LightGBM] [Info] Total Bins 2085\n",
      "[LightGBM] [Info] Number of data points in the train set: 1242194, number of used features: 17\n",
      "[LightGBM] [Warning] min_data_in_leaf is set=255, min_child_samples=20 will be ignored. Current value: min_data_in_leaf=255\n",
      "Training until validation scores don't improve for 30 rounds\n",
      "[LightGBM] [Warning] No further splits with positive gain, best gain: -inf\n",
      "[LightGBM] [Warning] No further splits with positive gain, best gain: -inf\n",
      "[50]\tvalid_0's rmse: 5.76204\tvalid_0's rmsse: 0.849558\n",
      "[LightGBM] [Warning] No further splits with positive gain, best gain: -inf\n",
      "[LightGBM] [Warning] No further splits with positive gain, best gain: -inf\n",
      "[100]\tvalid_0's rmse: 5.61981\tvalid_0's rmsse: 0.789043\n",
      "[LightGBM] [Warning] No further splits with positive gain, best gain: -inf\n",
      "[150]\tvalid_0's rmse: 5.44989\tvalid_0's rmsse: 0.776725\n",
      "[200]\tvalid_0's rmse: 5.28627\tvalid_0's rmsse: 0.772247\n",
      "[LightGBM] [Warning] No further splits with positive gain, best gain: -inf\n",
      "[250]\tvalid_0's rmse: 5.15785\tvalid_0's rmsse: 0.770713\n",
      "[LightGBM] [Warning] No further splits with positive gain, best gain: -inf\n",
      "[LightGBM] [Warning] No further splits with positive gain, best gain: -inf\n",
      "[300]\tvalid_0's rmse: 5.07434\tvalid_0's rmsse: 0.770269\n",
      "[LightGBM] [Warning] No further splits with positive gain, best gain: -inf\n",
      "[350]\tvalid_0's rmse: 5.02707\tvalid_0's rmsse: 0.76997\n",
      "Early stopping, best iteration is:\n",
      "[341]\tvalid_0's rmse: 5.0335\tvalid_0's rmsse: 0.769949\n"
     ]
    },
    {
     "name": "stderr",
     "output_type": "stream",
     "text": [
      "regularization_factors, val_score: 5.020574:  90%|######### | 18/20 [49:59<04:18, 129.38s/it][I 2021-08-18 20:08:57,441] Trial 57 finished with value: 5.033500946837253 and parameters: {'lambda_l1': 1.341290779218835e-07, 'lambda_l2': 1.5126770742084552e-05}. Best is trial 44 with value: 5.020837225310986.\n",
      "regularization_factors, val_score: 5.020574:  90%|######### | 18/20 [49:59<04:18, 129.38s/it]"
     ]
    },
    {
     "name": "stdout",
     "output_type": "stream",
     "text": [
      "[LightGBM] [Warning] min_data_in_leaf is set=255, min_child_samples=20 will be ignored. Current value: min_data_in_leaf=255\n",
      "[LightGBM] [Warning] min_data_in_leaf is set=255, min_child_samples=20 will be ignored. Current value: min_data_in_leaf=255\n",
      "[LightGBM] [Info] Total Bins 2085\n",
      "[LightGBM] [Info] Number of data points in the train set: 1242194, number of used features: 17\n",
      "[LightGBM] [Warning] min_data_in_leaf is set=255, min_child_samples=20 will be ignored. Current value: min_data_in_leaf=255\n",
      "Training until validation scores don't improve for 30 rounds\n",
      "[LightGBM] [Warning] No further splits with positive gain, best gain: -inf\n",
      "[LightGBM] [Warning] No further splits with positive gain, best gain: -inf\n",
      "[50]\tvalid_0's rmse: 5.76202\tvalid_0's rmsse: 0.849604\n",
      "[LightGBM] [Warning] No further splits with positive gain, best gain: -inf\n",
      "[LightGBM] [Warning] No further splits with positive gain, best gain: -inf\n",
      "[100]\tvalid_0's rmse: 5.6198\tvalid_0's rmsse: 0.789051\n",
      "[LightGBM] [Warning] No further splits with positive gain, best gain: -inf\n",
      "[150]\tvalid_0's rmse: 5.44978\tvalid_0's rmsse: 0.776722\n",
      "[200]\tvalid_0's rmse: 5.28657\tvalid_0's rmsse: 0.772244\n",
      "[LightGBM] [Warning] No further splits with positive gain, best gain: -inf\n",
      "[250]\tvalid_0's rmse: 5.15834\tvalid_0's rmsse: 0.770698\n",
      "[LightGBM] [Warning] No further splits with positive gain, best gain: -inf\n",
      "[LightGBM] [Warning] No further splits with positive gain, best gain: -inf\n",
      "[300]\tvalid_0's rmse: 5.0747\tvalid_0's rmsse: 0.770226\n",
      "[LightGBM] [Warning] No further splits with positive gain, best gain: -inf\n",
      "[350]\tvalid_0's rmse: 5.02767\tvalid_0's rmsse: 0.769967\n",
      "Early stopping, best iteration is:\n",
      "[334]\tvalid_0's rmse: 5.03792\tvalid_0's rmsse: 0.769942\n"
     ]
    },
    {
     "name": "stderr",
     "output_type": "stream",
     "text": [
      "regularization_factors, val_score: 5.020574:  95%|#########5| 19/20 [51:49<02:03, 123.42s/it][I 2021-08-18 20:10:46,980] Trial 58 finished with value: 5.037918695599904 and parameters: {'lambda_l1': 5.371162990946966e-05, 'lambda_l2': 1.0360230536794815e-07}. Best is trial 44 with value: 5.020837225310986.\n",
      "regularization_factors, val_score: 5.020574:  95%|#########5| 19/20 [51:49<02:03, 123.42s/it]"
     ]
    },
    {
     "name": "stdout",
     "output_type": "stream",
     "text": [
      "[LightGBM] [Warning] min_data_in_leaf is set=255, min_child_samples=20 will be ignored. Current value: min_data_in_leaf=255\n",
      "[LightGBM] [Warning] min_data_in_leaf is set=255, min_child_samples=20 will be ignored. Current value: min_data_in_leaf=255\n",
      "[LightGBM] [Info] Total Bins 2085\n",
      "[LightGBM] [Info] Number of data points in the train set: 1242194, number of used features: 17\n",
      "[LightGBM] [Warning] min_data_in_leaf is set=255, min_child_samples=20 will be ignored. Current value: min_data_in_leaf=255\n",
      "Training until validation scores don't improve for 30 rounds\n",
      "[LightGBM] [Warning] No further splits with positive gain, best gain: -inf\n",
      "[LightGBM] [Warning] No further splits with positive gain, best gain: -inf\n",
      "[50]\tvalid_0's rmse: 5.76204\tvalid_0's rmsse: 0.849591\n",
      "[LightGBM] [Warning] No further splits with positive gain, best gain: -inf\n",
      "[LightGBM] [Warning] No further splits with positive gain, best gain: -inf\n",
      "[100]\tvalid_0's rmse: 5.61984\tvalid_0's rmsse: 0.789037\n",
      "[LightGBM] [Warning] No further splits with positive gain, best gain: -inf\n",
      "[150]\tvalid_0's rmse: 5.44965\tvalid_0's rmsse: 0.776698\n",
      "[200]\tvalid_0's rmse: 5.28616\tvalid_0's rmsse: 0.772221\n",
      "[LightGBM] [Warning] No further splits with positive gain, best gain: -inf\n",
      "[250]\tvalid_0's rmse: 5.15771\tvalid_0's rmsse: 0.770691\n",
      "[LightGBM] [Warning] No further splits with positive gain, best gain: -inf\n",
      "[LightGBM] [Warning] No further splits with positive gain, best gain: -inf\n",
      "[300]\tvalid_0's rmse: 5.07347\tvalid_0's rmsse: 0.770219\n",
      "[LightGBM] [Warning] No further splits with positive gain, best gain: -inf\n",
      "[350]\tvalid_0's rmse: 5.02649\tvalid_0's rmsse: 0.769937\n",
      "Early stopping, best iteration is:\n",
      "[341]\tvalid_0's rmse: 5.03326\tvalid_0's rmsse: 0.769914\n"
     ]
    },
    {
     "name": "stderr",
     "output_type": "stream",
     "text": [
      "regularization_factors, val_score: 5.020574: 100%|##########| 20/20 [53:42<00:00, 120.44s/it][I 2021-08-18 20:12:40,474] Trial 59 finished with value: 5.033261405342508 and parameters: {'lambda_l1': 0.010661224766446462, 'lambda_l2': 3.9446989485993805e-06}. Best is trial 44 with value: 5.020837225310986.\n",
      "regularization_factors, val_score: 5.020574: 100%|##########| 20/20 [53:42<00:00, 161.14s/it]\n",
      "min_data_in_leaf, val_score: 5.020574:   0%|          | 0/5 [00:00<?, ?it/s]"
     ]
    },
    {
     "name": "stdout",
     "output_type": "stream",
     "text": [
      "[LightGBM] [Warning] min_data_in_leaf is set=255, min_child_samples=5 will be ignored. Current value: min_data_in_leaf=255\n",
      "[LightGBM] [Warning] min_data_in_leaf is set=255, min_child_samples=5 will be ignored. Current value: min_data_in_leaf=255\n",
      "[LightGBM] [Info] Total Bins 2085\n",
      "[LightGBM] [Info] Number of data points in the train set: 1242194, number of used features: 17\n",
      "[LightGBM] [Warning] min_data_in_leaf is set=255, min_child_samples=5 will be ignored. Current value: min_data_in_leaf=255\n",
      "Training until validation scores don't improve for 30 rounds\n",
      "[LightGBM] [Warning] No further splits with positive gain, best gain: -inf\n",
      "[LightGBM] [Warning] No further splits with positive gain, best gain: -inf\n",
      "[50]\tvalid_0's rmse: 5.76201\tvalid_0's rmsse: 0.849643\n",
      "[LightGBM] [Warning] No further splits with positive gain, best gain: -inf\n",
      "[LightGBM] [Warning] No further splits with positive gain, best gain: -inf\n",
      "[100]\tvalid_0's rmse: 5.61979\tvalid_0's rmsse: 0.789058\n",
      "[LightGBM] [Warning] No further splits with positive gain, best gain: -inf\n",
      "[150]\tvalid_0's rmse: 5.44986\tvalid_0's rmsse: 0.77673\n",
      "[200]\tvalid_0's rmse: 5.28628\tvalid_0's rmsse: 0.772243\n",
      "[LightGBM] [Warning] No further splits with positive gain, best gain: -inf\n",
      "[250]\tvalid_0's rmse: 5.1571\tvalid_0's rmsse: 0.770712\n",
      "[LightGBM] [Warning] No further splits with positive gain, best gain: -inf\n",
      "[LightGBM] [Warning] No further splits with positive gain, best gain: -inf\n",
      "[300]\tvalid_0's rmse: 5.0725\tvalid_0's rmsse: 0.770224\n",
      "[LightGBM] [Warning] No further splits with positive gain, best gain: -inf\n",
      "[350]\tvalid_0's rmse: 5.02629\tvalid_0's rmsse: 0.769942\n",
      "Early stopping, best iteration is:\n",
      "[355]\tvalid_0's rmse: 5.02057\tvalid_0's rmsse: 0.769918\n"
     ]
    },
    {
     "name": "stderr",
     "output_type": "stream",
     "text": [
      "min_data_in_leaf, val_score: 5.020574:  20%|##        | 1/5 [01:56<07:47, 116.85s/it][I 2021-08-18 20:14:37,349] Trial 60 finished with value: 5.020574388633523 and parameters: {'min_child_samples': 5}. Best is trial 60 with value: 5.020574388633523.\n",
      "min_data_in_leaf, val_score: 5.020574:  20%|##        | 1/5 [01:56<07:47, 116.85s/it]"
     ]
    },
    {
     "name": "stdout",
     "output_type": "stream",
     "text": [
      "[LightGBM] [Warning] min_data_in_leaf is set=255, min_child_samples=100 will be ignored. Current value: min_data_in_leaf=255\n",
      "[LightGBM] [Warning] min_data_in_leaf is set=255, min_child_samples=100 will be ignored. Current value: min_data_in_leaf=255\n",
      "[LightGBM] [Info] Total Bins 2085\n",
      "[LightGBM] [Info] Number of data points in the train set: 1242194, number of used features: 17\n",
      "[LightGBM] [Warning] min_data_in_leaf is set=255, min_child_samples=100 will be ignored. Current value: min_data_in_leaf=255\n",
      "Training until validation scores don't improve for 30 rounds\n",
      "[LightGBM] [Warning] No further splits with positive gain, best gain: -inf\n",
      "[LightGBM] [Warning] No further splits with positive gain, best gain: -inf\n",
      "[50]\tvalid_0's rmse: 5.76201\tvalid_0's rmsse: 0.849643\n",
      "[LightGBM] [Warning] No further splits with positive gain, best gain: -inf\n",
      "[LightGBM] [Warning] No further splits with positive gain, best gain: -inf\n",
      "[100]\tvalid_0's rmse: 5.61979\tvalid_0's rmsse: 0.789058\n",
      "[LightGBM] [Warning] No further splits with positive gain, best gain: -inf\n",
      "[150]\tvalid_0's rmse: 5.44986\tvalid_0's rmsse: 0.77673\n",
      "[200]\tvalid_0's rmse: 5.28628\tvalid_0's rmsse: 0.772243\n",
      "[LightGBM] [Warning] No further splits with positive gain, best gain: -inf\n",
      "[250]\tvalid_0's rmse: 5.1571\tvalid_0's rmsse: 0.770712\n",
      "[LightGBM] [Warning] No further splits with positive gain, best gain: -inf\n",
      "[LightGBM] [Warning] No further splits with positive gain, best gain: -inf\n",
      "[300]\tvalid_0's rmse: 5.0725\tvalid_0's rmsse: 0.770224\n",
      "[LightGBM] [Warning] No further splits with positive gain, best gain: -inf\n",
      "[350]\tvalid_0's rmse: 5.02629\tvalid_0's rmsse: 0.769942\n",
      "Early stopping, best iteration is:\n",
      "[355]\tvalid_0's rmse: 5.02057\tvalid_0's rmsse: 0.769918\n"
     ]
    },
    {
     "name": "stderr",
     "output_type": "stream",
     "text": [
      "min_data_in_leaf, val_score: 5.020574:  40%|####      | 2/5 [03:56<05:54, 118.31s/it][I 2021-08-18 20:16:36,684] Trial 61 finished with value: 5.020574388633523 and parameters: {'min_child_samples': 100}. Best is trial 60 with value: 5.020574388633523.\n",
      "min_data_in_leaf, val_score: 5.020574:  40%|####      | 2/5 [03:56<05:54, 118.31s/it]"
     ]
    },
    {
     "name": "stdout",
     "output_type": "stream",
     "text": [
      "[LightGBM] [Warning] min_data_in_leaf is set=255, min_child_samples=25 will be ignored. Current value: min_data_in_leaf=255\n",
      "[LightGBM] [Warning] min_data_in_leaf is set=255, min_child_samples=25 will be ignored. Current value: min_data_in_leaf=255\n",
      "[LightGBM] [Info] Total Bins 2085\n",
      "[LightGBM] [Info] Number of data points in the train set: 1242194, number of used features: 17\n",
      "[LightGBM] [Warning] min_data_in_leaf is set=255, min_child_samples=25 will be ignored. Current value: min_data_in_leaf=255\n",
      "Training until validation scores don't improve for 30 rounds\n",
      "[LightGBM] [Warning] No further splits with positive gain, best gain: -inf\n",
      "[LightGBM] [Warning] No further splits with positive gain, best gain: -inf\n",
      "[50]\tvalid_0's rmse: 5.76201\tvalid_0's rmsse: 0.849643\n",
      "[LightGBM] [Warning] No further splits with positive gain, best gain: -inf\n",
      "[LightGBM] [Warning] No further splits with positive gain, best gain: -inf\n",
      "[100]\tvalid_0's rmse: 5.61979\tvalid_0's rmsse: 0.789058\n",
      "[LightGBM] [Warning] No further splits with positive gain, best gain: -inf\n",
      "[150]\tvalid_0's rmse: 5.44986\tvalid_0's rmsse: 0.77673\n",
      "[200]\tvalid_0's rmse: 5.28628\tvalid_0's rmsse: 0.772243\n",
      "[LightGBM] [Warning] No further splits with positive gain, best gain: -inf\n",
      "[250]\tvalid_0's rmse: 5.1571\tvalid_0's rmsse: 0.770712\n",
      "[LightGBM] [Warning] No further splits with positive gain, best gain: -inf\n",
      "[LightGBM] [Warning] No further splits with positive gain, best gain: -inf\n",
      "[300]\tvalid_0's rmse: 5.0725\tvalid_0's rmsse: 0.770224\n",
      "[LightGBM] [Warning] No further splits with positive gain, best gain: -inf\n",
      "[350]\tvalid_0's rmse: 5.02629\tvalid_0's rmsse: 0.769942\n",
      "Early stopping, best iteration is:\n",
      "[355]\tvalid_0's rmse: 5.02057\tvalid_0's rmsse: 0.769918\n"
     ]
    },
    {
     "name": "stderr",
     "output_type": "stream",
     "text": [
      "min_data_in_leaf, val_score: 5.020574:  60%|######    | 3/5 [05:56<03:58, 119.13s/it][I 2021-08-18 20:18:36,781] Trial 62 finished with value: 5.020574388633523 and parameters: {'min_child_samples': 25}. Best is trial 60 with value: 5.020574388633523.\n",
      "min_data_in_leaf, val_score: 5.020574:  60%|######    | 3/5 [05:56<03:58, 119.13s/it]"
     ]
    },
    {
     "name": "stdout",
     "output_type": "stream",
     "text": [
      "[LightGBM] [Warning] min_data_in_leaf is set=255, min_child_samples=50 will be ignored. Current value: min_data_in_leaf=255\n",
      "[LightGBM] [Warning] min_data_in_leaf is set=255, min_child_samples=50 will be ignored. Current value: min_data_in_leaf=255\n",
      "[LightGBM] [Info] Total Bins 2085\n",
      "[LightGBM] [Info] Number of data points in the train set: 1242194, number of used features: 17\n",
      "[LightGBM] [Warning] min_data_in_leaf is set=255, min_child_samples=50 will be ignored. Current value: min_data_in_leaf=255\n",
      "Training until validation scores don't improve for 30 rounds\n",
      "[LightGBM] [Warning] No further splits with positive gain, best gain: -inf\n",
      "[LightGBM] [Warning] No further splits with positive gain, best gain: -inf\n",
      "[50]\tvalid_0's rmse: 5.76201\tvalid_0's rmsse: 0.849643\n",
      "[LightGBM] [Warning] No further splits with positive gain, best gain: -inf\n",
      "[LightGBM] [Warning] No further splits with positive gain, best gain: -inf\n",
      "[100]\tvalid_0's rmse: 5.61979\tvalid_0's rmsse: 0.789058\n",
      "[LightGBM] [Warning] No further splits with positive gain, best gain: -inf\n",
      "[150]\tvalid_0's rmse: 5.44986\tvalid_0's rmsse: 0.77673\n",
      "[200]\tvalid_0's rmse: 5.28628\tvalid_0's rmsse: 0.772243\n",
      "[LightGBM] [Warning] No further splits with positive gain, best gain: -inf\n",
      "[250]\tvalid_0's rmse: 5.1571\tvalid_0's rmsse: 0.770712\n",
      "[LightGBM] [Warning] No further splits with positive gain, best gain: -inf\n",
      "[LightGBM] [Warning] No further splits with positive gain, best gain: -inf\n",
      "[300]\tvalid_0's rmse: 5.0725\tvalid_0's rmsse: 0.770224\n",
      "[LightGBM] [Warning] No further splits with positive gain, best gain: -inf\n",
      "[350]\tvalid_0's rmse: 5.02629\tvalid_0's rmsse: 0.769942\n",
      "Early stopping, best iteration is:\n",
      "[355]\tvalid_0's rmse: 5.02057\tvalid_0's rmsse: 0.769918\n"
     ]
    },
    {
     "name": "stderr",
     "output_type": "stream",
     "text": [
      "min_data_in_leaf, val_score: 5.020574:  80%|########  | 4/5 [07:55<01:59, 119.14s/it][I 2021-08-18 20:20:35,941] Trial 63 finished with value: 5.020574388633523 and parameters: {'min_child_samples': 50}. Best is trial 60 with value: 5.020574388633523.\n",
      "min_data_in_leaf, val_score: 5.020574:  80%|########  | 4/5 [07:55<01:59, 119.14s/it]"
     ]
    },
    {
     "name": "stdout",
     "output_type": "stream",
     "text": [
      "[LightGBM] [Warning] min_data_in_leaf is set=255, min_child_samples=10 will be ignored. Current value: min_data_in_leaf=255\n",
      "[LightGBM] [Warning] min_data_in_leaf is set=255, min_child_samples=10 will be ignored. Current value: min_data_in_leaf=255\n",
      "[LightGBM] [Info] Total Bins 2085\n",
      "[LightGBM] [Info] Number of data points in the train set: 1242194, number of used features: 17\n",
      "[LightGBM] [Warning] min_data_in_leaf is set=255, min_child_samples=10 will be ignored. Current value: min_data_in_leaf=255\n",
      "Training until validation scores don't improve for 30 rounds\n",
      "[LightGBM] [Warning] No further splits with positive gain, best gain: -inf\n",
      "[LightGBM] [Warning] No further splits with positive gain, best gain: -inf\n",
      "[50]\tvalid_0's rmse: 5.76201\tvalid_0's rmsse: 0.849643\n",
      "[LightGBM] [Warning] No further splits with positive gain, best gain: -inf\n",
      "[LightGBM] [Warning] No further splits with positive gain, best gain: -inf\n",
      "[100]\tvalid_0's rmse: 5.61979\tvalid_0's rmsse: 0.789058\n",
      "[LightGBM] [Warning] No further splits with positive gain, best gain: -inf\n",
      "[150]\tvalid_0's rmse: 5.44986\tvalid_0's rmsse: 0.77673\n",
      "[200]\tvalid_0's rmse: 5.28628\tvalid_0's rmsse: 0.772243\n",
      "[LightGBM] [Warning] No further splits with positive gain, best gain: -inf\n",
      "[250]\tvalid_0's rmse: 5.1571\tvalid_0's rmsse: 0.770712\n",
      "[LightGBM] [Warning] No further splits with positive gain, best gain: -inf\n",
      "[LightGBM] [Warning] No further splits with positive gain, best gain: -inf\n",
      "[300]\tvalid_0's rmse: 5.0725\tvalid_0's rmsse: 0.770224\n",
      "[LightGBM] [Warning] No further splits with positive gain, best gain: -inf\n",
      "[350]\tvalid_0's rmse: 5.02629\tvalid_0's rmsse: 0.769942\n",
      "Early stopping, best iteration is:\n",
      "[355]\tvalid_0's rmse: 5.02057\tvalid_0's rmsse: 0.769918\n"
     ]
    },
    {
     "name": "stderr",
     "output_type": "stream",
     "text": [
      "min_data_in_leaf, val_score: 5.020574: 100%|##########| 5/5 [09:57<00:00, 120.03s/it][I 2021-08-18 20:22:37,538] Trial 64 finished with value: 5.020574388633523 and parameters: {'min_child_samples': 10}. Best is trial 60 with value: 5.020574388633523.\n",
      "min_data_in_leaf, val_score: 5.020574: 100%|##########| 5/5 [09:57<00:00, 119.41s/it]\n"
     ]
    },
    {
     "name": "stdout",
     "output_type": "stream",
     "text": [
      "Elapsed time for training the model: 145.25856209595997 min.\n",
      "---------------------------------------------------------------------------\n",
      "Preparing model for site: MLB\n",
      "Mem. usage decreased to 478.48 Mb (52.4% reduction)\n",
      "Mem. usage decreased to 498.41 Mb (52.4% reduction)\n",
      "Elapsed time for processing features: 1.472437866528829 min.\n"
     ]
    },
    {
     "name": "stderr",
     "output_type": "stream",
     "text": [
      "[I 2021-08-18 20:24:07,397] A new study created in memory with name: no-name-867bca7c-59ee-4313-8162-2c5b7c5c079d\n",
      "feature_fraction, val_score: inf:   0%|          | 0/7 [00:00<?, ?it/s]"
     ]
    },
    {
     "name": "stdout",
     "output_type": "stream",
     "text": [
      "[LightGBM] [Warning] min_data_in_leaf is set=255, min_child_samples=20 will be ignored. Current value: min_data_in_leaf=255\n",
      "[LightGBM] [Warning] min_data_in_leaf is set=255, min_child_samples=20 will be ignored. Current value: min_data_in_leaf=255\n",
      "[LightGBM] [Info] Total Bins 2680\n",
      "[LightGBM] [Info] Number of data points in the train set: 7271333, number of used features: 17\n",
      "[LightGBM] [Warning] min_data_in_leaf is set=255, min_child_samples=20 will be ignored. Current value: min_data_in_leaf=255\n",
      "Training until validation scores don't improve for 30 rounds\n",
      "[50]\tvalid_0's rmse: 8.47835\tvalid_0's rmsse: 0.867051\n",
      "[100]\tvalid_0's rmse: 8.33218\tvalid_0's rmsse: 0.819376\n",
      "[150]\tvalid_0's rmse: 8.13074\tvalid_0's rmsse: 0.812535\n",
      "[200]\tvalid_0's rmse: 7.92996\tvalid_0's rmsse: 0.81197\n",
      "Early stopping, best iteration is:\n",
      "[183]\tvalid_0's rmse: 7.9926\tvalid_0's rmsse: 0.811912\n"
     ]
    },
    {
     "name": "stderr",
     "output_type": "stream",
     "text": [
      "feature_fraction, val_score: 7.992596:  14%|#4        | 1/7 [03:50<23:02, 230.39s/it][I 2021-08-18 20:27:57,843] Trial 0 finished with value: 7.992595648677151 and parameters: {'feature_fraction': 0.8999999999999999}. Best is trial 0 with value: 7.992595648677151.\n",
      "feature_fraction, val_score: 7.992596:  14%|#4        | 1/7 [03:50<23:02, 230.39s/it]"
     ]
    },
    {
     "name": "stdout",
     "output_type": "stream",
     "text": [
      "[LightGBM] [Warning] min_data_in_leaf is set=255, min_child_samples=20 will be ignored. Current value: min_data_in_leaf=255\n",
      "[LightGBM] [Warning] min_data_in_leaf is set=255, min_child_samples=20 will be ignored. Current value: min_data_in_leaf=255\n",
      "[LightGBM] [Info] Total Bins 2680\n",
      "[LightGBM] [Info] Number of data points in the train set: 7271333, number of used features: 17\n",
      "[LightGBM] [Warning] min_data_in_leaf is set=255, min_child_samples=20 will be ignored. Current value: min_data_in_leaf=255\n",
      "Training until validation scores don't improve for 30 rounds\n",
      "[50]\tvalid_0's rmse: 8.48977\tvalid_0's rmsse: 0.883751\n",
      "[100]\tvalid_0's rmse: 8.36104\tvalid_0's rmsse: 0.82635\n",
      "[150]\tvalid_0's rmse: 8.18299\tvalid_0's rmsse: 0.815457\n",
      "[200]\tvalid_0's rmse: 7.99501\tvalid_0's rmsse: 0.812902\n",
      "[250]\tvalid_0's rmse: 7.87021\tvalid_0's rmsse: 0.812549\n",
      "Early stopping, best iteration is:\n",
      "[234]\tvalid_0's rmse: 7.91023\tvalid_0's rmsse: 0.812424\n"
     ]
    },
    {
     "name": "stderr",
     "output_type": "stream",
     "text": [
      "feature_fraction, val_score: 7.910228:  29%|##8       | 2/7 [08:55<22:52, 274.57s/it][I 2021-08-18 20:33:03,331] Trial 1 finished with value: 7.910227550093415 and parameters: {'feature_fraction': 0.6}. Best is trial 1 with value: 7.910227550093415.\n",
      "feature_fraction, val_score: 7.910228:  29%|##8       | 2/7 [08:55<22:52, 274.57s/it]"
     ]
    },
    {
     "name": "stdout",
     "output_type": "stream",
     "text": [
      "[LightGBM] [Warning] min_data_in_leaf is set=255, min_child_samples=20 will be ignored. Current value: min_data_in_leaf=255\n",
      "[LightGBM] [Warning] min_data_in_leaf is set=255, min_child_samples=20 will be ignored. Current value: min_data_in_leaf=255\n",
      "[LightGBM] [Info] Total Bins 2680\n",
      "[LightGBM] [Info] Number of data points in the train set: 7271333, number of used features: 17\n",
      "[LightGBM] [Warning] min_data_in_leaf is set=255, min_child_samples=20 will be ignored. Current value: min_data_in_leaf=255\n",
      "Training until validation scores don't improve for 30 rounds\n",
      "[50]\tvalid_0's rmse: 8.47761\tvalid_0's rmsse: 0.865446\n",
      "[100]\tvalid_0's rmse: 8.33131\tvalid_0's rmsse: 0.818704\n",
      "[150]\tvalid_0's rmse: 8.12819\tvalid_0's rmsse: 0.812369\n",
      "[200]\tvalid_0's rmse: 7.92307\tvalid_0's rmsse: 0.812024\n",
      "Early stopping, best iteration is:\n",
      "[179]\tvalid_0's rmse: 8.00237\tvalid_0's rmsse: 0.811929\n"
     ]
    },
    {
     "name": "stderr",
     "output_type": "stream",
     "text": [
      "feature_fraction, val_score: 7.910228:  43%|####2     | 3/7 [12:45<16:56, 254.08s/it][I 2021-08-18 20:36:53,046] Trial 2 finished with value: 8.002372471230846 and parameters: {'feature_fraction': 1.0}. Best is trial 1 with value: 7.910227550093415.\n",
      "feature_fraction, val_score: 7.910228:  43%|####2     | 3/7 [12:45<16:56, 254.08s/it]"
     ]
    },
    {
     "name": "stdout",
     "output_type": "stream",
     "text": [
      "[LightGBM] [Warning] min_data_in_leaf is set=255, min_child_samples=20 will be ignored. Current value: min_data_in_leaf=255\n",
      "[LightGBM] [Warning] min_data_in_leaf is set=255, min_child_samples=20 will be ignored. Current value: min_data_in_leaf=255\n",
      "[LightGBM] [Info] Total Bins 2680\n",
      "[LightGBM] [Info] Number of data points in the train set: 7271333, number of used features: 17\n",
      "[LightGBM] [Warning] min_data_in_leaf is set=255, min_child_samples=20 will be ignored. Current value: min_data_in_leaf=255\n",
      "Training until validation scores don't improve for 30 rounds\n",
      "[50]\tvalid_0's rmse: 8.50612\tvalid_0's rmsse: 0.908722\n",
      "[LightGBM] [Warning] No further splits with positive gain, best gain: -inf\n",
      "[100]\tvalid_0's rmse: 8.40344\tvalid_0's rmsse: 0.838938\n",
      "[LightGBM] [Warning] No further splits with positive gain, best gain: -inf\n",
      "[150]\tvalid_0's rmse: 8.27035\tvalid_0's rmsse: 0.82345\n",
      "[200]\tvalid_0's rmse: 8.11986\tvalid_0's rmsse: 0.817356\n",
      "[LightGBM] [Warning] No further splits with positive gain, best gain: -inf\n",
      "[250]\tvalid_0's rmse: 7.97664\tvalid_0's rmsse: 0.814816\n",
      "[300]\tvalid_0's rmse: 7.87395\tvalid_0's rmsse: 0.813918\n",
      "[LightGBM] [Warning] No further splits with positive gain, best gain: -inf\n",
      "[350]\tvalid_0's rmse: 7.81747\tvalid_0's rmsse: 0.813291\n",
      "[400]\tvalid_0's rmse: 7.77412\tvalid_0's rmsse: 0.81299\n",
      "[450]\tvalid_0's rmse: 7.74764\tvalid_0's rmsse: 0.812801\n",
      "Early stopping, best iteration is:\n",
      "[460]\tvalid_0's rmse: 7.74455\tvalid_0's rmsse: 0.812737\n"
     ]
    },
    {
     "name": "stderr",
     "output_type": "stream",
     "text": [
      "feature_fraction, val_score: 7.744548:  57%|#####7    | 4/7 [22:27<19:10, 383.44s/it][I 2021-08-18 20:46:34,780] Trial 3 finished with value: 7.744547788938983 and parameters: {'feature_fraction': 0.4}. Best is trial 3 with value: 7.744547788938983.\n",
      "feature_fraction, val_score: 7.744548:  57%|#####7    | 4/7 [22:27<19:10, 383.44s/it]"
     ]
    },
    {
     "name": "stdout",
     "output_type": "stream",
     "text": [
      "[LightGBM] [Warning] min_data_in_leaf is set=255, min_child_samples=20 will be ignored. Current value: min_data_in_leaf=255\n",
      "[LightGBM] [Warning] min_data_in_leaf is set=255, min_child_samples=20 will be ignored. Current value: min_data_in_leaf=255\n",
      "[LightGBM] [Info] Total Bins 2680\n",
      "[LightGBM] [Info] Number of data points in the train set: 7271333, number of used features: 17\n",
      "[LightGBM] [Warning] min_data_in_leaf is set=255, min_child_samples=20 will be ignored. Current value: min_data_in_leaf=255\n",
      "Training until validation scores don't improve for 30 rounds\n",
      "[50]\tvalid_0's rmse: 8.48345\tvalid_0's rmsse: 0.874789\n",
      "[100]\tvalid_0's rmse: 8.34157\tvalid_0's rmsse: 0.821934\n",
      "[150]\tvalid_0's rmse: 8.1455\tvalid_0's rmsse: 0.813772\n",
      "[200]\tvalid_0's rmse: 7.94904\tvalid_0's rmsse: 0.812349\n",
      "[250]\tvalid_0's rmse: 7.8294\tvalid_0's rmsse: 0.812492\n",
      "Early stopping, best iteration is:\n",
      "[224]\tvalid_0's rmse: 7.88649\tvalid_0's rmsse: 0.812263\n"
     ]
    },
    {
     "name": "stderr",
     "output_type": "stream",
     "text": [
      "feature_fraction, val_score: 7.744548:  71%|#######1  | 5/7 [27:18<11:40, 350.25s/it][I 2021-08-18 20:51:26,188] Trial 4 finished with value: 7.886493154130648 and parameters: {'feature_fraction': 0.7}. Best is trial 3 with value: 7.744547788938983.\n",
      "feature_fraction, val_score: 7.744548:  71%|#######1  | 5/7 [27:18<11:40, 350.25s/it]"
     ]
    },
    {
     "name": "stdout",
     "output_type": "stream",
     "text": [
      "[LightGBM] [Warning] min_data_in_leaf is set=255, min_child_samples=20 will be ignored. Current value: min_data_in_leaf=255\n",
      "[LightGBM] [Warning] min_data_in_leaf is set=255, min_child_samples=20 will be ignored. Current value: min_data_in_leaf=255\n",
      "[LightGBM] [Info] Total Bins 2680\n",
      "[LightGBM] [Info] Number of data points in the train set: 7271333, number of used features: 17\n",
      "[LightGBM] [Warning] min_data_in_leaf is set=255, min_child_samples=20 will be ignored. Current value: min_data_in_leaf=255\n",
      "Training until validation scores don't improve for 30 rounds\n",
      "[50]\tvalid_0's rmse: 8.49363\tvalid_0's rmsse: 0.889346\n",
      "[100]\tvalid_0's rmse: 8.37166\tvalid_0's rmsse: 0.829875\n",
      "[150]\tvalid_0's rmse: 8.21198\tvalid_0's rmsse: 0.81744\n",
      "[200]\tvalid_0's rmse: 8.02826\tvalid_0's rmsse: 0.813832\n",
      "[250]\tvalid_0's rmse: 7.89943\tvalid_0's rmsse: 0.812871\n",
      "Early stopping, best iteration is:\n",
      "[260]\tvalid_0's rmse: 7.87882\tvalid_0's rmsse: 0.81273\n"
     ]
    },
    {
     "name": "stderr",
     "output_type": "stream",
     "text": [
      "feature_fraction, val_score: 7.744548:  86%|########5 | 6/7 [32:57<05:46, 346.45s/it][I 2021-08-18 20:57:05,258] Trial 5 finished with value: 7.87881590630187 and parameters: {'feature_fraction': 0.5}. Best is trial 3 with value: 7.744547788938983.\n",
      "feature_fraction, val_score: 7.744548:  86%|########5 | 6/7 [32:57<05:46, 346.45s/it]"
     ]
    },
    {
     "name": "stdout",
     "output_type": "stream",
     "text": [
      "[LightGBM] [Warning] min_data_in_leaf is set=255, min_child_samples=20 will be ignored. Current value: min_data_in_leaf=255\n",
      "[LightGBM] [Warning] min_data_in_leaf is set=255, min_child_samples=20 will be ignored. Current value: min_data_in_leaf=255\n",
      "[LightGBM] [Info] Total Bins 2680\n",
      "[LightGBM] [Info] Number of data points in the train set: 7271333, number of used features: 17\n",
      "[LightGBM] [Warning] min_data_in_leaf is set=255, min_child_samples=20 will be ignored. Current value: min_data_in_leaf=255\n",
      "Training until validation scores don't improve for 30 rounds\n",
      "[50]\tvalid_0's rmse: 8.47913\tvalid_0's rmsse: 0.868832\n",
      "[100]\tvalid_0's rmse: 8.3337\tvalid_0's rmsse: 0.819957\n",
      "[150]\tvalid_0's rmse: 8.13298\tvalid_0's rmsse: 0.812777\n",
      "[200]\tvalid_0's rmse: 7.93656\tvalid_0's rmsse: 0.81208\n",
      "Early stopping, best iteration is:\n",
      "[199]\tvalid_0's rmse: 7.93971\tvalid_0's rmsse: 0.812062\n"
     ]
    },
    {
     "name": "stderr",
     "output_type": "stream",
     "text": [
      "feature_fraction, val_score: 7.744548: 100%|##########| 7/7 [37:13<00:00, 316.73s/it][I 2021-08-18 21:01:20,801] Trial 6 finished with value: 7.939711108741233 and parameters: {'feature_fraction': 0.8}. Best is trial 3 with value: 7.744547788938983.\n",
      "feature_fraction, val_score: 7.744548: 100%|##########| 7/7 [37:13<00:00, 319.06s/it]\n",
      "num_leaves, val_score: 7.744548:   0%|          | 0/20 [00:00<?, ?it/s]"
     ]
    },
    {
     "name": "stdout",
     "output_type": "stream",
     "text": [
      "[LightGBM] [Warning] min_data_in_leaf is set=255, min_child_samples=20 will be ignored. Current value: min_data_in_leaf=255\n",
      "[LightGBM] [Warning] min_data_in_leaf is set=255, min_child_samples=20 will be ignored. Current value: min_data_in_leaf=255\n",
      "[LightGBM] [Info] Total Bins 2680\n",
      "[LightGBM] [Info] Number of data points in the train set: 7271333, number of used features: 17\n",
      "[LightGBM] [Warning] min_data_in_leaf is set=255, min_child_samples=20 will be ignored. Current value: min_data_in_leaf=255\n",
      "Training until validation scores don't improve for 30 rounds\n",
      "[50]\tvalid_0's rmse: 8.50623\tvalid_0's rmsse: 0.909204\n",
      "[LightGBM] [Warning] No further splits with positive gain, best gain: -inf\n",
      "[100]\tvalid_0's rmse: 8.40363\tvalid_0's rmsse: 0.839306\n",
      "[LightGBM] [Warning] No further splits with positive gain, best gain: -inf\n",
      "[150]\tvalid_0's rmse: 8.27139\tvalid_0's rmsse: 0.82383\n",
      "[200]\tvalid_0's rmse: 8.1223\tvalid_0's rmsse: 0.817745\n",
      "[LightGBM] [Warning] No further splits with positive gain, best gain: -inf\n",
      "[250]\tvalid_0's rmse: 7.97916\tvalid_0's rmsse: 0.815215\n",
      "[300]\tvalid_0's rmse: 7.87922\tvalid_0's rmsse: 0.814371\n",
      "[LightGBM] [Warning] No further splits with positive gain, best gain: -inf\n",
      "[350]\tvalid_0's rmse: 7.82088\tvalid_0's rmsse: 0.81377\n",
      "[400]\tvalid_0's rmse: 7.77744\tvalid_0's rmsse: 0.813481\n",
      "[450]\tvalid_0's rmse: 7.75312\tvalid_0's rmsse: 0.813302\n",
      "Early stopping, best iteration is:\n",
      "[460]\tvalid_0's rmse: 7.75007\tvalid_0's rmsse: 0.813238\n"
     ]
    },
    {
     "name": "stderr",
     "output_type": "stream",
     "text": [
      "num_leaves, val_score: 7.744548:   5%|5         | 1/20 [08:44<2:46:07, 524.62s/it][I 2021-08-18 21:10:05,491] Trial 7 finished with value: 7.750074765837552 and parameters: {'num_leaves': 120}. Best is trial 7 with value: 7.750074765837552.\n",
      "num_leaves, val_score: 7.744548:   5%|5         | 1/20 [08:44<2:46:07, 524.62s/it]"
     ]
    },
    {
     "name": "stdout",
     "output_type": "stream",
     "text": [
      "[LightGBM] [Warning] min_data_in_leaf is set=255, min_child_samples=20 will be ignored. Current value: min_data_in_leaf=255\n",
      "[LightGBM] [Warning] min_data_in_leaf is set=255, min_child_samples=20 will be ignored. Current value: min_data_in_leaf=255\n",
      "[LightGBM] [Info] Total Bins 2680\n",
      "[LightGBM] [Info] Number of data points in the train set: 7271333, number of used features: 17\n",
      "[LightGBM] [Warning] min_data_in_leaf is set=255, min_child_samples=20 will be ignored. Current value: min_data_in_leaf=255\n",
      "Training until validation scores don't improve for 30 rounds\n",
      "[50]\tvalid_0's rmse: 8.50618\tvalid_0's rmsse: 0.90907\n",
      "[LightGBM] [Warning] No further splits with positive gain, best gain: -inf\n",
      "[100]\tvalid_0's rmse: 8.40357\tvalid_0's rmsse: 0.839233\n",
      "[LightGBM] [Warning] No further splits with positive gain, best gain: -inf\n",
      "[150]\tvalid_0's rmse: 8.27116\tvalid_0's rmsse: 0.823756\n",
      "[200]\tvalid_0's rmse: 8.12178\tvalid_0's rmsse: 0.817674\n",
      "[LightGBM] [Warning] No further splits with positive gain, best gain: -inf\n",
      "[250]\tvalid_0's rmse: 7.97869\tvalid_0's rmsse: 0.815144\n",
      "[300]\tvalid_0's rmse: 7.87897\tvalid_0's rmsse: 0.814279\n",
      "[LightGBM] [Warning] No further splits with positive gain, best gain: -inf\n",
      "[350]\tvalid_0's rmse: 7.82059\tvalid_0's rmsse: 0.813672\n",
      "[400]\tvalid_0's rmse: 7.77727\tvalid_0's rmsse: 0.813368\n",
      "[450]\tvalid_0's rmse: 7.75245\tvalid_0's rmsse: 0.813186\n",
      "Early stopping, best iteration is:\n",
      "[460]\tvalid_0's rmse: 7.74973\tvalid_0's rmsse: 0.813124\n"
     ]
    },
    {
     "name": "stderr",
     "output_type": "stream",
     "text": [
      "num_leaves, val_score: 7.744548:  10%|#         | 2/20 [17:35<2:38:31, 528.41s/it][I 2021-08-18 21:18:56,559] Trial 8 finished with value: 7.749734059281826 and parameters: {'num_leaves': 139}. Best is trial 8 with value: 7.749734059281826.\n",
      "num_leaves, val_score: 7.744548:  10%|#         | 2/20 [17:35<2:38:31, 528.41s/it]"
     ]
    },
    {
     "name": "stdout",
     "output_type": "stream",
     "text": [
      "[LightGBM] [Warning] min_data_in_leaf is set=255, min_child_samples=20 will be ignored. Current value: min_data_in_leaf=255\n",
      "[LightGBM] [Warning] min_data_in_leaf is set=255, min_child_samples=20 will be ignored. Current value: min_data_in_leaf=255\n",
      "[LightGBM] [Info] Total Bins 2680\n",
      "[LightGBM] [Info] Number of data points in the train set: 7271333, number of used features: 17\n",
      "[LightGBM] [Warning] min_data_in_leaf is set=255, min_child_samples=20 will be ignored. Current value: min_data_in_leaf=255\n",
      "Training until validation scores don't improve for 30 rounds\n",
      "[50]\tvalid_0's rmse: 8.50616\tvalid_0's rmsse: 0.908847\n",
      "[LightGBM] [Warning] No further splits with positive gain, best gain: -inf\n",
      "[100]\tvalid_0's rmse: 8.4035\tvalid_0's rmsse: 0.839072\n",
      "[LightGBM] [Warning] No further splits with positive gain, best gain: -inf\n",
      "[150]\tvalid_0's rmse: 8.27075\tvalid_0's rmsse: 0.8236\n",
      "[200]\tvalid_0's rmse: 8.12047\tvalid_0's rmsse: 0.817514\n",
      "[LightGBM] [Warning] No further splits with positive gain, best gain: -inf\n",
      "[250]\tvalid_0's rmse: 7.97779\tvalid_0's rmsse: 0.814968\n",
      "[300]\tvalid_0's rmse: 7.87617\tvalid_0's rmsse: 0.814088\n",
      "[LightGBM] [Warning] No further splits with positive gain, best gain: -inf\n",
      "[350]\tvalid_0's rmse: 7.81828\tvalid_0's rmsse: 0.813468\n",
      "[400]\tvalid_0's rmse: 7.77545\tvalid_0's rmsse: 0.813161\n",
      "[450]\tvalid_0's rmse: 7.74984\tvalid_0's rmsse: 0.812964\n",
      "Early stopping, best iteration is:\n",
      "[460]\tvalid_0's rmse: 7.74685\tvalid_0's rmsse: 0.812903\n"
     ]
    },
    {
     "name": "stderr",
     "output_type": "stream",
     "text": [
      "num_leaves, val_score: 7.744548:  15%|#5        | 3/20 [26:47<2:32:47, 539.25s/it][I 2021-08-18 21:28:08,718] Trial 9 finished with value: 7.746854731284613 and parameters: {'num_leaves': 189}. Best is trial 9 with value: 7.746854731284613.\n",
      "num_leaves, val_score: 7.744548:  15%|#5        | 3/20 [26:47<2:32:47, 539.25s/it]"
     ]
    },
    {
     "name": "stdout",
     "output_type": "stream",
     "text": [
      "[LightGBM] [Warning] min_data_in_leaf is set=255, min_child_samples=20 will be ignored. Current value: min_data_in_leaf=255\n",
      "[LightGBM] [Warning] min_data_in_leaf is set=255, min_child_samples=20 will be ignored. Current value: min_data_in_leaf=255\n",
      "[LightGBM] [Info] Total Bins 2680\n",
      "[LightGBM] [Info] Number of data points in the train set: 7271333, number of used features: 17\n",
      "[LightGBM] [Warning] min_data_in_leaf is set=255, min_child_samples=20 will be ignored. Current value: min_data_in_leaf=255\n",
      "Training until validation scores don't improve for 30 rounds\n",
      "[50]\tvalid_0's rmse: 8.50692\tvalid_0's rmsse: 0.910848\n",
      "[100]\tvalid_0's rmse: 8.40495\tvalid_0's rmsse: 0.840208\n",
      "[150]\tvalid_0's rmse: 8.27416\tvalid_0's rmsse: 0.824644\n",
      "[200]\tvalid_0's rmse: 8.12791\tvalid_0's rmsse: 0.81855\n",
      "[LightGBM] [Warning] No further splits with positive gain, best gain: -inf\n",
      "[250]\tvalid_0's rmse: 7.98588\tvalid_0's rmsse: 0.816023\n",
      "[300]\tvalid_0's rmse: 7.88699\tvalid_0's rmsse: 0.815181\n",
      "[350]\tvalid_0's rmse: 7.83004\tvalid_0's rmsse: 0.814676\n",
      "[400]\tvalid_0's rmse: 7.78608\tvalid_0's rmsse: 0.81445\n",
      "[450]\tvalid_0's rmse: 7.76131\tvalid_0's rmsse: 0.814307\n",
      "Early stopping, best iteration is:\n",
      "[465]\tvalid_0's rmse: 7.7571\tvalid_0's rmsse: 0.814257\n"
     ]
    },
    {
     "name": "stderr",
     "output_type": "stream",
     "text": [
      "num_leaves, val_score: 7.744548:  20%|##        | 4/20 [34:54<2:18:13, 518.32s/it][I 2021-08-18 21:36:14,934] Trial 10 finished with value: 7.7571047703327745 and parameters: {'num_leaves': 34}. Best is trial 9 with value: 7.746854731284613.\n",
      "num_leaves, val_score: 7.744548:  20%|##        | 4/20 [34:54<2:18:13, 518.32s/it]"
     ]
    },
    {
     "name": "stdout",
     "output_type": "stream",
     "text": [
      "[LightGBM] [Warning] min_data_in_leaf is set=255, min_child_samples=20 will be ignored. Current value: min_data_in_leaf=255\n",
      "[LightGBM] [Warning] min_data_in_leaf is set=255, min_child_samples=20 will be ignored. Current value: min_data_in_leaf=255\n",
      "[LightGBM] [Info] Total Bins 2680\n",
      "[LightGBM] [Info] Number of data points in the train set: 7271333, number of used features: 17\n",
      "[LightGBM] [Warning] min_data_in_leaf is set=255, min_child_samples=20 will be ignored. Current value: min_data_in_leaf=255\n",
      "Training until validation scores don't improve for 30 rounds\n",
      "[50]\tvalid_0's rmse: 8.50632\tvalid_0's rmsse: 0.909324\n",
      "[100]\tvalid_0's rmse: 8.40373\tvalid_0's rmsse: 0.839395\n",
      "[150]\tvalid_0's rmse: 8.27159\tvalid_0's rmsse: 0.823919\n",
      "[200]\tvalid_0's rmse: 8.1233\tvalid_0's rmsse: 0.817854\n",
      "[LightGBM] [Warning] No further splits with positive gain, best gain: -inf\n",
      "[250]\tvalid_0's rmse: 7.98035\tvalid_0's rmsse: 0.815329\n",
      "[300]\tvalid_0's rmse: 7.88064\tvalid_0's rmsse: 0.814485\n",
      "[350]\tvalid_0's rmse: 7.82235\tvalid_0's rmsse: 0.813898\n",
      "[400]\tvalid_0's rmse: 7.77888\tvalid_0's rmsse: 0.813595\n",
      "[450]\tvalid_0's rmse: 7.75335\tvalid_0's rmsse: 0.813417\n",
      "Early stopping, best iteration is:\n",
      "[460]\tvalid_0's rmse: 7.75128\tvalid_0's rmsse: 0.813354\n"
     ]
    },
    {
     "name": "stderr",
     "output_type": "stream",
     "text": [
      "num_leaves, val_score: 7.744548:  25%|##5       | 5/20 [43:39<2:10:10, 520.73s/it][I 2021-08-18 21:44:59,948] Trial 11 finished with value: 7.751277777050639 and parameters: {'num_leaves': 102}. Best is trial 9 with value: 7.746854731284613.\n",
      "num_leaves, val_score: 7.744548:  25%|##5       | 5/20 [43:39<2:10:10, 520.73s/it]"
     ]
    },
    {
     "name": "stdout",
     "output_type": "stream",
     "text": [
      "[LightGBM] [Warning] min_data_in_leaf is set=255, min_child_samples=20 will be ignored. Current value: min_data_in_leaf=255\n",
      "[LightGBM] [Warning] min_data_in_leaf is set=255, min_child_samples=20 will be ignored. Current value: min_data_in_leaf=255\n",
      "[LightGBM] [Info] Total Bins 2680\n",
      "[LightGBM] [Info] Number of data points in the train set: 7271333, number of used features: 17\n",
      "[LightGBM] [Warning] min_data_in_leaf is set=255, min_child_samples=20 will be ignored. Current value: min_data_in_leaf=255\n",
      "Training until validation scores don't improve for 30 rounds\n",
      "[50]\tvalid_0's rmse: 8.50625\tvalid_0's rmsse: 0.909231\n",
      "[100]\tvalid_0's rmse: 8.40369\tvalid_0's rmsse: 0.839328\n",
      "[150]\tvalid_0's rmse: 8.27131\tvalid_0's rmsse: 0.823844\n",
      "[200]\tvalid_0's rmse: 8.12225\tvalid_0's rmsse: 0.817762\n",
      "[LightGBM] [Warning] No further splits with positive gain, best gain: -inf\n",
      "[250]\tvalid_0's rmse: 7.97898\tvalid_0's rmsse: 0.815236\n",
      "[300]\tvalid_0's rmse: 7.87884\tvalid_0's rmsse: 0.814384\n",
      "[350]\tvalid_0's rmse: 7.82087\tvalid_0's rmsse: 0.813787\n",
      "[400]\tvalid_0's rmse: 7.777\tvalid_0's rmsse: 0.813498\n",
      "[450]\tvalid_0's rmse: 7.75189\tvalid_0's rmsse: 0.813306\n",
      "Early stopping, best iteration is:\n",
      "[460]\tvalid_0's rmse: 7.74883\tvalid_0's rmsse: 0.813241\n"
     ]
    },
    {
     "name": "stderr",
     "output_type": "stream",
     "text": [
      "num_leaves, val_score: 7.744548:  30%|###       | 6/20 [52:19<2:01:28, 520.59s/it][I 2021-08-18 21:53:40,254] Trial 12 finished with value: 7.748833006313625 and parameters: {'num_leaves': 114}. Best is trial 9 with value: 7.746854731284613.\n",
      "num_leaves, val_score: 7.744548:  30%|###       | 6/20 [52:19<2:01:28, 520.59s/it]"
     ]
    },
    {
     "name": "stdout",
     "output_type": "stream",
     "text": [
      "[LightGBM] [Warning] min_data_in_leaf is set=255, min_child_samples=20 will be ignored. Current value: min_data_in_leaf=255\n",
      "[LightGBM] [Warning] min_data_in_leaf is set=255, min_child_samples=20 will be ignored. Current value: min_data_in_leaf=255\n",
      "[LightGBM] [Info] Total Bins 2680\n",
      "[LightGBM] [Info] Number of data points in the train set: 7271333, number of used features: 17\n",
      "[LightGBM] [Warning] min_data_in_leaf is set=255, min_child_samples=20 will be ignored. Current value: min_data_in_leaf=255\n",
      "Training until validation scores don't improve for 30 rounds\n",
      "[50]\tvalid_0's rmse: 8.50611\tvalid_0's rmsse: 0.908766\n",
      "[LightGBM] [Warning] No further splits with positive gain, best gain: -inf\n",
      "[100]\tvalid_0's rmse: 8.40343\tvalid_0's rmsse: 0.838981\n",
      "[LightGBM] [Warning] No further splits with positive gain, best gain: -inf\n",
      "[150]\tvalid_0's rmse: 8.27045\tvalid_0's rmsse: 0.8235\n",
      "[200]\tvalid_0's rmse: 8.12014\tvalid_0's rmsse: 0.817407\n",
      "[LightGBM] [Warning] No further splits with positive gain, best gain: -inf\n",
      "[250]\tvalid_0's rmse: 7.97726\tvalid_0's rmsse: 0.814867\n",
      "[300]\tvalid_0's rmse: 7.87519\tvalid_0's rmsse: 0.813973\n",
      "[LightGBM] [Warning] No further splits with positive gain, best gain: -inf\n",
      "[350]\tvalid_0's rmse: 7.81858\tvalid_0's rmsse: 0.813354\n",
      "[400]\tvalid_0's rmse: 7.77534\tvalid_0's rmsse: 0.813055\n",
      "[450]\tvalid_0's rmse: 7.74881\tvalid_0's rmsse: 0.812856\n",
      "Early stopping, best iteration is:\n",
      "[460]\tvalid_0's rmse: 7.74594\tvalid_0's rmsse: 0.812793\n"
     ]
    },
    {
     "name": "stderr",
     "output_type": "stream",
     "text": [
      "num_leaves, val_score: 7.744548:  35%|###5      | 7/20 [1:01:41<1:55:44, 534.21s/it][I 2021-08-18 22:03:02,531] Trial 13 finished with value: 7.7459387502154335 and parameters: {'num_leaves': 234}. Best is trial 13 with value: 7.7459387502154335.\n",
      "num_leaves, val_score: 7.744548:  35%|###5      | 7/20 [1:01:41<1:55:44, 534.21s/it]"
     ]
    },
    {
     "name": "stdout",
     "output_type": "stream",
     "text": [
      "[LightGBM] [Warning] min_data_in_leaf is set=255, min_child_samples=20 will be ignored. Current value: min_data_in_leaf=255\n",
      "[LightGBM] [Warning] min_data_in_leaf is set=255, min_child_samples=20 will be ignored. Current value: min_data_in_leaf=255\n",
      "[LightGBM] [Info] Total Bins 2680\n",
      "[LightGBM] [Info] Number of data points in the train set: 7271333, number of used features: 17\n",
      "[LightGBM] [Warning] min_data_in_leaf is set=255, min_child_samples=20 will be ignored. Current value: min_data_in_leaf=255\n",
      "Training until validation scores don't improve for 30 rounds\n",
      "[50]\tvalid_0's rmse: 8.50734\tvalid_0's rmsse: 0.911704\n",
      "[100]\tvalid_0's rmse: 8.40587\tvalid_0's rmsse: 0.840741\n",
      "[150]\tvalid_0's rmse: 8.2757\tvalid_0's rmsse: 0.825106\n",
      "[200]\tvalid_0's rmse: 8.13037\tvalid_0's rmsse: 0.818992\n",
      "[250]\tvalid_0's rmse: 7.98913\tvalid_0's rmsse: 0.816396\n",
      "[300]\tvalid_0's rmse: 7.89087\tvalid_0's rmsse: 0.815535\n",
      "[350]\tvalid_0's rmse: 7.83451\tvalid_0's rmsse: 0.815047\n",
      "[400]\tvalid_0's rmse: 7.79135\tvalid_0's rmsse: 0.814848\n",
      "[450]\tvalid_0's rmse: 7.76956\tvalid_0's rmsse: 0.814724\n",
      "Early stopping, best iteration is:\n",
      "[465]\tvalid_0's rmse: 7.76482\tvalid_0's rmsse: 0.81467\n"
     ]
    },
    {
     "name": "stderr",
     "output_type": "stream",
     "text": [
      "num_leaves, val_score: 7.744548:  40%|####      | 8/20 [1:09:16<1:41:48, 509.00s/it][I 2021-08-18 22:10:37,538] Trial 14 finished with value: 7.764815056179962 and parameters: {'num_leaves': 21}. Best is trial 13 with value: 7.7459387502154335.\n",
      "num_leaves, val_score: 7.744548:  40%|####      | 8/20 [1:09:16<1:41:48, 509.00s/it]"
     ]
    },
    {
     "name": "stdout",
     "output_type": "stream",
     "text": [
      "[LightGBM] [Warning] min_data_in_leaf is set=255, min_child_samples=20 will be ignored. Current value: min_data_in_leaf=255\n",
      "[LightGBM] [Warning] min_data_in_leaf is set=255, min_child_samples=20 will be ignored. Current value: min_data_in_leaf=255\n",
      "[LightGBM] [Info] Total Bins 2680\n",
      "[LightGBM] [Info] Number of data points in the train set: 7271333, number of used features: 17\n",
      "[LightGBM] [Warning] min_data_in_leaf is set=255, min_child_samples=20 will be ignored. Current value: min_data_in_leaf=255\n",
      "Training until validation scores don't improve for 30 rounds\n",
      "[50]\tvalid_0's rmse: 8.50652\tvalid_0's rmsse: 0.910031\n",
      "[100]\tvalid_0's rmse: 8.40415\tvalid_0's rmsse: 0.839768\n",
      "[150]\tvalid_0's rmse: 8.27281\tvalid_0's rmsse: 0.824264\n",
      "[200]\tvalid_0's rmse: 8.12567\tvalid_0's rmsse: 0.818187\n",
      "[LightGBM] [Warning] No further splits with positive gain, best gain: -inf\n",
      "[250]\tvalid_0's rmse: 7.98302\tvalid_0's rmsse: 0.815685\n",
      "[300]\tvalid_0's rmse: 7.88366\tvalid_0's rmsse: 0.814853\n",
      "[350]\tvalid_0's rmse: 7.82582\tvalid_0's rmsse: 0.8143\n",
      "[400]\tvalid_0's rmse: 7.77983\tvalid_0's rmsse: 0.814041\n",
      "[450]\tvalid_0's rmse: 7.75539\tvalid_0's rmsse: 0.813861\n",
      "[500]\tvalid_0's rmse: 7.73795\tvalid_0's rmsse: 0.813808\n",
      "[550]\tvalid_0's rmse: 7.72847\tvalid_0's rmsse: 0.813693\n",
      "Early stopping, best iteration is:\n",
      "[542]\tvalid_0's rmse: 7.72958\tvalid_0's rmsse: 0.81367\n"
     ]
    },
    {
     "name": "stderr",
     "output_type": "stream",
     "text": [
      "num_leaves, val_score: 7.729580:  45%|####5     | 9/20 [1:18:37<1:36:15, 525.07s/it][I 2021-08-18 22:19:57,952] Trial 15 finished with value: 7.729579574658167 and parameters: {'num_leaves': 57}. Best is trial 15 with value: 7.729579574658167.\n",
      "num_leaves, val_score: 7.729580:  45%|####5     | 9/20 [1:18:37<1:36:15, 525.07s/it]"
     ]
    },
    {
     "name": "stdout",
     "output_type": "stream",
     "text": [
      "[LightGBM] [Warning] min_data_in_leaf is set=255, min_child_samples=20 will be ignored. Current value: min_data_in_leaf=255\n",
      "[LightGBM] [Warning] min_data_in_leaf is set=255, min_child_samples=20 will be ignored. Current value: min_data_in_leaf=255\n",
      "[LightGBM] [Info] Total Bins 2680\n",
      "[LightGBM] [Info] Number of data points in the train set: 7271333, number of used features: 17\n",
      "[LightGBM] [Warning] min_data_in_leaf is set=255, min_child_samples=20 will be ignored. Current value: min_data_in_leaf=255\n",
      "Training until validation scores don't improve for 30 rounds\n",
      "[50]\tvalid_0's rmse: 8.50649\tvalid_0's rmsse: 0.909869\n",
      "[100]\tvalid_0's rmse: 8.40409\tvalid_0's rmsse: 0.839711\n",
      "[150]\tvalid_0's rmse: 8.27258\tvalid_0's rmsse: 0.824216\n",
      "[200]\tvalid_0's rmse: 8.12527\tvalid_0's rmsse: 0.818134\n",
      "[LightGBM] [Warning] No further splits with positive gain, best gain: -inf\n",
      "[250]\tvalid_0's rmse: 7.9825\tvalid_0's rmsse: 0.81562\n",
      "[300]\tvalid_0's rmse: 7.88284\tvalid_0's rmsse: 0.814782\n",
      "[350]\tvalid_0's rmse: 7.8251\tvalid_0's rmsse: 0.814232\n",
      "[400]\tvalid_0's rmse: 7.78019\tvalid_0's rmsse: 0.813962\n",
      "[450]\tvalid_0's rmse: 7.75468\tvalid_0's rmsse: 0.813771\n",
      "Early stopping, best iteration is:\n",
      "[460]\tvalid_0's rmse: 7.75238\tvalid_0's rmsse: 0.813717\n"
     ]
    },
    {
     "name": "stderr",
     "output_type": "stream",
     "text": [
      "num_leaves, val_score: 7.729580:  50%|#####     | 10/20 [1:26:44<1:25:34, 513.45s/it][I 2021-08-18 22:28:05,386] Trial 16 finished with value: 7.7523780220696334 and parameters: {'num_leaves': 61}. Best is trial 15 with value: 7.729579574658167.\n",
      "num_leaves, val_score: 7.729580:  50%|#####     | 10/20 [1:26:44<1:25:34, 513.45s/it]"
     ]
    },
    {
     "name": "stdout",
     "output_type": "stream",
     "text": [
      "[LightGBM] [Warning] min_data_in_leaf is set=255, min_child_samples=20 will be ignored. Current value: min_data_in_leaf=255\n",
      "[LightGBM] [Warning] min_data_in_leaf is set=255, min_child_samples=20 will be ignored. Current value: min_data_in_leaf=255\n",
      "[LightGBM] [Info] Total Bins 2680\n",
      "[LightGBM] [Info] Number of data points in the train set: 7271333, number of used features: 17\n",
      "[LightGBM] [Warning] min_data_in_leaf is set=255, min_child_samples=20 will be ignored. Current value: min_data_in_leaf=255\n",
      "Training until validation scores don't improve for 30 rounds\n",
      "[50]\tvalid_0's rmse: 8.51413\tvalid_0's rmsse: 0.924067\n",
      "[100]\tvalid_0's rmse: 8.42936\tvalid_0's rmsse: 0.855739\n",
      "[150]\tvalid_0's rmse: 8.33899\tvalid_0's rmsse: 0.835278\n",
      "[200]\tvalid_0's rmse: 8.25318\tvalid_0's rmsse: 0.825496\n",
      "[250]\tvalid_0's rmse: 8.16731\tvalid_0's rmsse: 0.821192\n",
      "[300]\tvalid_0's rmse: 8.09515\tvalid_0's rmsse: 0.819497\n",
      "[350]\tvalid_0's rmse: 8.04028\tvalid_0's rmsse: 0.818737\n",
      "[400]\tvalid_0's rmse: 8.00049\tvalid_0's rmsse: 0.81878\n",
      "Early stopping, best iteration is:\n",
      "[381]\tvalid_0's rmse: 8.01246\tvalid_0's rmsse: 0.81859\n"
     ]
    },
    {
     "name": "stderr",
     "output_type": "stream",
     "text": [
      "num_leaves, val_score: 7.729580:  55%|#####5    | 11/20 [1:35:46<1:18:18, 522.08s/it][I 2021-08-18 22:37:07,052] Trial 17 finished with value: 8.01245593971918 and parameters: {'num_leaves': 3}. Best is trial 15 with value: 7.729579574658167.\n",
      "num_leaves, val_score: 7.729580:  55%|#####5    | 11/20 [1:35:46<1:18:18, 522.08s/it]"
     ]
    },
    {
     "name": "stdout",
     "output_type": "stream",
     "text": [
      "[LightGBM] [Warning] min_data_in_leaf is set=255, min_child_samples=20 will be ignored. Current value: min_data_in_leaf=255\n",
      "[LightGBM] [Warning] min_data_in_leaf is set=255, min_child_samples=20 will be ignored. Current value: min_data_in_leaf=255\n",
      "[LightGBM] [Info] Total Bins 2680\n",
      "[LightGBM] [Info] Number of data points in the train set: 7271333, number of used features: 17\n",
      "[LightGBM] [Warning] min_data_in_leaf is set=255, min_child_samples=20 will be ignored. Current value: min_data_in_leaf=255\n",
      "Training until validation scores don't improve for 30 rounds\n",
      "[50]\tvalid_0's rmse: 8.50613\tvalid_0's rmsse: 0.908716\n",
      "[LightGBM] [Warning] No further splits with positive gain, best gain: -inf\n",
      "[100]\tvalid_0's rmse: 8.40345\tvalid_0's rmsse: 0.838942\n",
      "[LightGBM] [Warning] No further splits with positive gain, best gain: -inf\n",
      "[150]\tvalid_0's rmse: 8.27032\tvalid_0's rmsse: 0.82346\n",
      "[200]\tvalid_0's rmse: 8.11994\tvalid_0's rmsse: 0.817369\n",
      "[LightGBM] [Warning] No further splits with positive gain, best gain: -inf\n",
      "[250]\tvalid_0's rmse: 7.97707\tvalid_0's rmsse: 0.814833\n",
      "[300]\tvalid_0's rmse: 7.87423\tvalid_0's rmsse: 0.813939\n",
      "[LightGBM] [Warning] No further splits with positive gain, best gain: -inf\n",
      "[350]\tvalid_0's rmse: 7.81606\tvalid_0's rmsse: 0.813315\n",
      "[400]\tvalid_0's rmse: 7.77195\tvalid_0's rmsse: 0.813013\n",
      "[450]\tvalid_0's rmse: 7.74551\tvalid_0's rmsse: 0.81282\n",
      "Early stopping, best iteration is:\n",
      "[460]\tvalid_0's rmse: 7.74267\tvalid_0's rmsse: 0.812763\n"
     ]
    },
    {
     "name": "stderr",
     "output_type": "stream",
     "text": [
      "num_leaves, val_score: 7.729580:  60%|######    | 12/20 [1:49:30<1:21:53, 614.17s/it][I 2021-08-18 22:50:51,872] Trial 18 finished with value: 7.7426670758357545 and parameters: {'num_leaves': 254}. Best is trial 15 with value: 7.729579574658167.\n",
      "num_leaves, val_score: 7.729580:  60%|######    | 12/20 [1:49:31<1:21:53, 614.17s/it]"
     ]
    },
    {
     "name": "stdout",
     "output_type": "stream",
     "text": [
      "[LightGBM] [Warning] min_data_in_leaf is set=255, min_child_samples=20 will be ignored. Current value: min_data_in_leaf=255\n",
      "[LightGBM] [Warning] min_data_in_leaf is set=255, min_child_samples=20 will be ignored. Current value: min_data_in_leaf=255\n",
      "[LightGBM] [Info] Total Bins 2680\n",
      "[LightGBM] [Info] Number of data points in the train set: 7271333, number of used features: 17\n",
      "[LightGBM] [Warning] min_data_in_leaf is set=255, min_child_samples=20 will be ignored. Current value: min_data_in_leaf=255\n",
      "Training until validation scores don't improve for 30 rounds\n",
      "[50]\tvalid_0's rmse: 8.50611\tvalid_0's rmsse: 0.908763\n",
      "[LightGBM] [Warning] No further splits with positive gain, best gain: -inf\n",
      "[100]\tvalid_0's rmse: 8.40341\tvalid_0's rmsse: 0.838958\n",
      "[LightGBM] [Warning] No further splits with positive gain, best gain: -inf\n",
      "[150]\tvalid_0's rmse: 8.2704\tvalid_0's rmsse: 0.823468\n",
      "[200]\tvalid_0's rmse: 8.11994\tvalid_0's rmsse: 0.817375\n",
      "[LightGBM] [Warning] No further splits with positive gain, best gain: -inf\n",
      "[250]\tvalid_0's rmse: 7.97708\tvalid_0's rmsse: 0.814836\n",
      "[300]\tvalid_0's rmse: 7.87472\tvalid_0's rmsse: 0.813946\n",
      "[LightGBM] [Warning] No further splits with positive gain, best gain: -inf\n",
      "[350]\tvalid_0's rmse: 7.81762\tvalid_0's rmsse: 0.813324\n",
      "[400]\tvalid_0's rmse: 7.77399\tvalid_0's rmsse: 0.813021\n",
      "[450]\tvalid_0's rmse: 7.7473\tvalid_0's rmsse: 0.812836\n",
      "Early stopping, best iteration is:\n",
      "[460]\tvalid_0's rmse: 7.74427\tvalid_0's rmsse: 0.812774\n"
     ]
    },
    {
     "name": "stderr",
     "output_type": "stream",
     "text": [
      "num_leaves, val_score: 7.729580:  65%|######5   | 13/20 [2:04:00<1:20:40, 691.57s/it][I 2021-08-18 23:05:21,519] Trial 19 finished with value: 7.7442672639815155 and parameters: {'num_leaves': 249}. Best is trial 15 with value: 7.729579574658167.\n",
      "num_leaves, val_score: 7.729580:  65%|######5   | 13/20 [2:04:00<1:20:40, 691.57s/it]"
     ]
    },
    {
     "name": "stdout",
     "output_type": "stream",
     "text": [
      "[LightGBM] [Warning] min_data_in_leaf is set=255, min_child_samples=20 will be ignored. Current value: min_data_in_leaf=255\n",
      "[LightGBM] [Warning] min_data_in_leaf is set=255, min_child_samples=20 will be ignored. Current value: min_data_in_leaf=255\n",
      "[LightGBM] [Info] Total Bins 2680\n",
      "[LightGBM] [Info] Number of data points in the train set: 7271333, number of used features: 17\n",
      "[LightGBM] [Warning] min_data_in_leaf is set=255, min_child_samples=20 will be ignored. Current value: min_data_in_leaf=255\n",
      "Training until validation scores don't improve for 30 rounds\n",
      "[50]\tvalid_0's rmse: 8.50615\tvalid_0's rmsse: 0.908872\n",
      "[LightGBM] [Warning] No further splits with positive gain, best gain: -inf\n",
      "[100]\tvalid_0's rmse: 8.40349\tvalid_0's rmsse: 0.839086\n",
      "[LightGBM] [Warning] No further splits with positive gain, best gain: -inf\n",
      "[150]\tvalid_0's rmse: 8.27074\tvalid_0's rmsse: 0.82361\n",
      "[200]\tvalid_0's rmse: 8.12048\tvalid_0's rmsse: 0.81752\n",
      "[LightGBM] [Warning] No further splits with positive gain, best gain: -inf\n",
      "[250]\tvalid_0's rmse: 7.97751\tvalid_0's rmsse: 0.814981\n",
      "[300]\tvalid_0's rmse: 7.87662\tvalid_0's rmsse: 0.814104\n",
      "[LightGBM] [Warning] No further splits with positive gain, best gain: -inf\n",
      "[350]\tvalid_0's rmse: 7.8188\tvalid_0's rmsse: 0.81349\n",
      "[400]\tvalid_0's rmse: 7.77565\tvalid_0's rmsse: 0.813184\n",
      "[450]\tvalid_0's rmse: 7.75022\tvalid_0's rmsse: 0.812994\n",
      "Early stopping, best iteration is:\n",
      "[460]\tvalid_0's rmse: 7.74704\tvalid_0's rmsse: 0.812933\n"
     ]
    },
    {
     "name": "stderr",
     "output_type": "stream",
     "text": [
      "num_leaves, val_score: 7.729580:  70%|#######   | 14/20 [2:18:10<1:13:56, 739.42s/it][I 2021-08-18 23:19:31,507] Trial 20 finished with value: 7.747039101669738 and parameters: {'num_leaves': 184}. Best is trial 15 with value: 7.729579574658167.\n",
      "num_leaves, val_score: 7.729580:  70%|#######   | 14/20 [2:18:10<1:13:56, 739.42s/it]"
     ]
    },
    {
     "name": "stdout",
     "output_type": "stream",
     "text": [
      "[LightGBM] [Warning] min_data_in_leaf is set=255, min_child_samples=20 will be ignored. Current value: min_data_in_leaf=255\n",
      "[LightGBM] [Warning] min_data_in_leaf is set=255, min_child_samples=20 will be ignored. Current value: min_data_in_leaf=255\n",
      "[LightGBM] [Info] Total Bins 2680\n",
      "[LightGBM] [Info] Number of data points in the train set: 7271333, number of used features: 17\n",
      "[LightGBM] [Warning] min_data_in_leaf is set=255, min_child_samples=20 will be ignored. Current value: min_data_in_leaf=255\n",
      "Training until validation scores don't improve for 30 rounds\n",
      "[50]\tvalid_0's rmse: 8.50643\tvalid_0's rmsse: 0.909648\n",
      "[100]\tvalid_0's rmse: 8.40391\tvalid_0's rmsse: 0.839567\n",
      "[150]\tvalid_0's rmse: 8.27221\tvalid_0's rmsse: 0.824083\n",
      "[200]\tvalid_0's rmse: 8.1243\tvalid_0's rmsse: 0.818008\n",
      "[LightGBM] [Warning] No further splits with positive gain, best gain: -inf\n",
      "[250]\tvalid_0's rmse: 7.9815\tvalid_0's rmsse: 0.815494\n",
      "[300]\tvalid_0's rmse: 7.88236\tvalid_0's rmsse: 0.814646\n",
      "[350]\tvalid_0's rmse: 7.82396\tvalid_0's rmsse: 0.814085\n",
      "[400]\tvalid_0's rmse: 7.77888\tvalid_0's rmsse: 0.813809\n",
      "[450]\tvalid_0's rmse: 7.75426\tvalid_0's rmsse: 0.813632\n",
      "Early stopping, best iteration is:\n",
      "[460]\tvalid_0's rmse: 7.75224\tvalid_0's rmsse: 0.813585\n"
     ]
    },
    {
     "name": "stderr",
     "output_type": "stream",
     "text": [
      "num_leaves, val_score: 7.729580:  75%|#######5  | 15/20 [2:31:41<1:03:24, 760.82s/it][I 2021-08-18 23:33:01,912] Trial 21 finished with value: 7.752240675735476 and parameters: {'num_leaves': 76}. Best is trial 15 with value: 7.729579574658167.\n",
      "num_leaves, val_score: 7.729580:  75%|#######5  | 15/20 [2:31:41<1:03:24, 760.82s/it]"
     ]
    },
    {
     "name": "stdout",
     "output_type": "stream",
     "text": [
      "[LightGBM] [Warning] min_data_in_leaf is set=255, min_child_samples=20 will be ignored. Current value: min_data_in_leaf=255\n",
      "[LightGBM] [Warning] min_data_in_leaf is set=255, min_child_samples=20 will be ignored. Current value: min_data_in_leaf=255\n",
      "[LightGBM] [Info] Total Bins 2680\n",
      "[LightGBM] [Info] Number of data points in the train set: 7271333, number of used features: 17\n",
      "[LightGBM] [Warning] min_data_in_leaf is set=255, min_child_samples=20 will be ignored. Current value: min_data_in_leaf=255\n",
      "Training until validation scores don't improve for 30 rounds\n",
      "[50]\tvalid_0's rmse: 8.50618\tvalid_0's rmsse: 0.908946\n",
      "[LightGBM] [Warning] No further splits with positive gain, best gain: -inf\n",
      "[100]\tvalid_0's rmse: 8.40358\tvalid_0's rmsse: 0.839153\n",
      "[LightGBM] [Warning] No further splits with positive gain, best gain: -inf\n",
      "[150]\tvalid_0's rmse: 8.2711\tvalid_0's rmsse: 0.823677\n",
      "[200]\tvalid_0's rmse: 8.12124\tvalid_0's rmsse: 0.817589\n",
      "[LightGBM] [Warning] No further splits with positive gain, best gain: -inf\n",
      "[250]\tvalid_0's rmse: 7.97845\tvalid_0's rmsse: 0.815053\n",
      "[300]\tvalid_0's rmse: 7.87754\tvalid_0's rmsse: 0.814175\n",
      "[LightGBM] [Warning] No further splits with positive gain, best gain: -inf\n",
      "[350]\tvalid_0's rmse: 7.81876\tvalid_0's rmsse: 0.813556\n",
      "[400]\tvalid_0's rmse: 7.77517\tvalid_0's rmsse: 0.813254\n",
      "[450]\tvalid_0's rmse: 7.74927\tvalid_0's rmsse: 0.813071\n",
      "Early stopping, best iteration is:\n",
      "[460]\tvalid_0's rmse: 7.74659\tvalid_0's rmsse: 0.813013\n"
     ]
    },
    {
     "name": "stderr",
     "output_type": "stream",
     "text": [
      "num_leaves, val_score: 7.729580:  80%|########  | 16/20 [2:40:22<45:55, 688.84s/it]  [I 2021-08-18 23:41:43,566] Trial 22 finished with value: 7.746585956160166 and parameters: {'num_leaves': 163}. Best is trial 15 with value: 7.729579574658167.\n",
      "num_leaves, val_score: 7.729580:  80%|########  | 16/20 [2:40:22<45:55, 688.84s/it]"
     ]
    },
    {
     "name": "stdout",
     "output_type": "stream",
     "text": [
      "[LightGBM] [Warning] min_data_in_leaf is set=255, min_child_samples=20 will be ignored. Current value: min_data_in_leaf=255\n",
      "[LightGBM] [Warning] min_data_in_leaf is set=255, min_child_samples=20 will be ignored. Current value: min_data_in_leaf=255\n",
      "[LightGBM] [Info] Total Bins 2680\n",
      "[LightGBM] [Info] Number of data points in the train set: 7271333, number of used features: 17\n",
      "[LightGBM] [Warning] min_data_in_leaf is set=255, min_child_samples=20 will be ignored. Current value: min_data_in_leaf=255\n",
      "Training until validation scores don't improve for 30 rounds\n",
      "[50]\tvalid_0's rmse: 8.50614\tvalid_0's rmsse: 0.908786\n",
      "[LightGBM] [Warning] No further splits with positive gain, best gain: -inf\n",
      "[100]\tvalid_0's rmse: 8.40348\tvalid_0's rmsse: 0.839008\n",
      "[LightGBM] [Warning] No further splits with positive gain, best gain: -inf\n",
      "[150]\tvalid_0's rmse: 8.27062\tvalid_0's rmsse: 0.823527\n",
      "[200]\tvalid_0's rmse: 8.12039\tvalid_0's rmsse: 0.817438\n",
      "[LightGBM] [Warning] No further splits with positive gain, best gain: -inf\n",
      "[250]\tvalid_0's rmse: 7.97774\tvalid_0's rmsse: 0.814903\n",
      "[300]\tvalid_0's rmse: 7.87614\tvalid_0's rmsse: 0.814012\n",
      "[LightGBM] [Warning] No further splits with positive gain, best gain: -inf\n",
      "[350]\tvalid_0's rmse: 7.81832\tvalid_0's rmsse: 0.813391\n",
      "[400]\tvalid_0's rmse: 7.77551\tvalid_0's rmsse: 0.813077\n",
      "[450]\tvalid_0's rmse: 7.7497\tvalid_0's rmsse: 0.812886\n",
      "Early stopping, best iteration is:\n",
      "[460]\tvalid_0's rmse: 7.74648\tvalid_0's rmsse: 0.812824\n"
     ]
    },
    {
     "name": "stderr",
     "output_type": "stream",
     "text": [
      "num_leaves, val_score: 7.729580:  85%|########5 | 17/20 [2:49:24<32:13, 644.66s/it][I 2021-08-18 23:50:45,479] Trial 23 finished with value: 7.746480023601594 and parameters: {'num_leaves': 215}. Best is trial 15 with value: 7.729579574658167.\n",
      "num_leaves, val_score: 7.729580:  85%|########5 | 17/20 [2:49:24<32:13, 644.66s/it]"
     ]
    },
    {
     "name": "stdout",
     "output_type": "stream",
     "text": [
      "[LightGBM] [Warning] min_data_in_leaf is set=255, min_child_samples=20 will be ignored. Current value: min_data_in_leaf=255\n",
      "[LightGBM] [Warning] min_data_in_leaf is set=255, min_child_samples=20 will be ignored. Current value: min_data_in_leaf=255\n",
      "[LightGBM] [Info] Total Bins 2680\n",
      "[LightGBM] [Info] Number of data points in the train set: 7271333, number of used features: 17\n",
      "[LightGBM] [Warning] min_data_in_leaf is set=255, min_child_samples=20 will be ignored. Current value: min_data_in_leaf=255\n",
      "Training until validation scores don't improve for 30 rounds\n",
      "[50]\tvalid_0's rmse: 8.50643\tvalid_0's rmsse: 0.909741\n",
      "[100]\tvalid_0's rmse: 8.4039\tvalid_0's rmsse: 0.839595\n",
      "[150]\tvalid_0's rmse: 8.27217\tvalid_0's rmsse: 0.824098\n",
      "[200]\tvalid_0's rmse: 8.12424\tvalid_0's rmsse: 0.818026\n",
      "[LightGBM] [Warning] No further splits with positive gain, best gain: -inf\n",
      "[250]\tvalid_0's rmse: 7.98152\tvalid_0's rmsse: 0.815513\n",
      "[300]\tvalid_0's rmse: 7.88225\tvalid_0's rmsse: 0.814677\n",
      "[350]\tvalid_0's rmse: 7.82358\tvalid_0's rmsse: 0.814118\n",
      "[400]\tvalid_0's rmse: 7.77859\tvalid_0's rmsse: 0.813832\n",
      "[450]\tvalid_0's rmse: 7.75395\tvalid_0's rmsse: 0.813659\n",
      "Early stopping, best iteration is:\n",
      "[460]\tvalid_0's rmse: 7.75185\tvalid_0's rmsse: 0.813602\n"
     ]
    },
    {
     "name": "stderr",
     "output_type": "stream",
     "text": [
      "num_leaves, val_score: 7.729580:  90%|######### | 18/20 [2:57:32<19:54, 597.45s/it][I 2021-08-18 23:58:53,046] Trial 24 finished with value: 7.751853489124991 and parameters: {'num_leaves': 74}. Best is trial 15 with value: 7.729579574658167.\n",
      "num_leaves, val_score: 7.729580:  90%|######### | 18/20 [2:57:32<19:54, 597.45s/it]"
     ]
    },
    {
     "name": "stdout",
     "output_type": "stream",
     "text": [
      "[LightGBM] [Warning] min_data_in_leaf is set=255, min_child_samples=20 will be ignored. Current value: min_data_in_leaf=255\n",
      "[LightGBM] [Warning] min_data_in_leaf is set=255, min_child_samples=20 will be ignored. Current value: min_data_in_leaf=255\n",
      "[LightGBM] [Info] Total Bins 2680\n",
      "[LightGBM] [Info] Number of data points in the train set: 7271333, number of used features: 17\n",
      "[LightGBM] [Warning] min_data_in_leaf is set=255, min_child_samples=20 will be ignored. Current value: min_data_in_leaf=255\n",
      "Training until validation scores don't improve for 30 rounds\n",
      "[50]\tvalid_0's rmse: 8.50666\tvalid_0's rmsse: 0.910323\n",
      "[100]\tvalid_0's rmse: 8.40446\tvalid_0's rmsse: 0.839961\n",
      "[150]\tvalid_0's rmse: 8.27327\tvalid_0's rmsse: 0.824429\n",
      "[200]\tvalid_0's rmse: 8.12642\tvalid_0's rmsse: 0.81834\n",
      "[LightGBM] [Warning] No further splits with positive gain, best gain: -inf\n",
      "[250]\tvalid_0's rmse: 7.9838\tvalid_0's rmsse: 0.815818\n",
      "[300]\tvalid_0's rmse: 7.88457\tvalid_0's rmsse: 0.814978\n",
      "[350]\tvalid_0's rmse: 7.82658\tvalid_0's rmsse: 0.814456\n",
      "[400]\tvalid_0's rmse: 7.78006\tvalid_0's rmsse: 0.814198\n",
      "[450]\tvalid_0's rmse: 7.75505\tvalid_0's rmsse: 0.814056\n",
      "[500]\tvalid_0's rmse: 7.73931\tvalid_0's rmsse: 0.814018\n",
      "[550]\tvalid_0's rmse: 7.72965\tvalid_0's rmsse: 0.813886\n",
      "[600]\tvalid_0's rmse: 7.72444\tvalid_0's rmsse: 0.813862\n",
      "Early stopping, best iteration is:\n",
      "[582]\tvalid_0's rmse: 7.72731\tvalid_0's rmsse: 0.813836\n"
     ]
    },
    {
     "name": "stderr",
     "output_type": "stream",
     "text": [
      "num_leaves, val_score: 7.727309:  95%|#########5| 19/20 [3:07:28<09:57, 597.10s/it][I 2021-08-19 00:08:49,303] Trial 25 finished with value: 7.727309012359956 and parameters: {'num_leaves': 46}. Best is trial 25 with value: 7.727309012359956.\n",
      "num_leaves, val_score: 7.727309:  95%|#########5| 19/20 [3:07:28<09:57, 597.10s/it]"
     ]
    },
    {
     "name": "stdout",
     "output_type": "stream",
     "text": [
      "[LightGBM] [Warning] min_data_in_leaf is set=255, min_child_samples=20 will be ignored. Current value: min_data_in_leaf=255\n",
      "[LightGBM] [Warning] min_data_in_leaf is set=255, min_child_samples=20 will be ignored. Current value: min_data_in_leaf=255\n",
      "[LightGBM] [Info] Total Bins 2680\n",
      "[LightGBM] [Info] Number of data points in the train set: 7271333, number of used features: 17\n",
      "[LightGBM] [Warning] min_data_in_leaf is set=255, min_child_samples=20 will be ignored. Current value: min_data_in_leaf=255\n",
      "Training until validation scores don't improve for 30 rounds\n",
      "[50]\tvalid_0's rmse: 8.50667\tvalid_0's rmsse: 0.910273\n",
      "[100]\tvalid_0's rmse: 8.40451\tvalid_0's rmsse: 0.839939\n",
      "[150]\tvalid_0's rmse: 8.27329\tvalid_0's rmsse: 0.824421\n",
      "[200]\tvalid_0's rmse: 8.12623\tvalid_0's rmsse: 0.81833\n",
      "[LightGBM] [Warning] No further splits with positive gain, best gain: -inf\n",
      "[250]\tvalid_0's rmse: 7.98338\tvalid_0's rmsse: 0.815805\n",
      "[300]\tvalid_0's rmse: 7.88392\tvalid_0's rmsse: 0.814965\n",
      "[350]\tvalid_0's rmse: 7.82589\tvalid_0's rmsse: 0.814438\n",
      "[400]\tvalid_0's rmse: 7.77906\tvalid_0's rmsse: 0.814184\n",
      "[450]\tvalid_0's rmse: 7.75386\tvalid_0's rmsse: 0.814022\n",
      "Early stopping, best iteration is:\n",
      "[460]\tvalid_0's rmse: 7.75162\tvalid_0's rmsse: 0.813968\n"
     ]
    },
    {
     "name": "stderr",
     "output_type": "stream",
     "text": [
      "num_leaves, val_score: 7.727309: 100%|##########| 20/20 [3:15:40<00:00, 565.67s/it][I 2021-08-19 00:17:01,733] Trial 26 finished with value: 7.751624960954792 and parameters: {'num_leaves': 47}. Best is trial 25 with value: 7.727309012359956.\n",
      "num_leaves, val_score: 7.727309: 100%|##########| 20/20 [3:15:40<00:00, 587.05s/it]\n",
      "bagging, val_score: 7.727309:   0%|          | 0/10 [00:00<?, ?it/s]"
     ]
    },
    {
     "name": "stdout",
     "output_type": "stream",
     "text": [
      "[LightGBM] [Warning] min_data_in_leaf is set=255, min_child_samples=20 will be ignored. Current value: min_data_in_leaf=255\n",
      "[LightGBM] [Warning] min_data_in_leaf is set=255, min_child_samples=20 will be ignored. Current value: min_data_in_leaf=255\n",
      "[LightGBM] [Info] Total Bins 2680\n",
      "[LightGBM] [Info] Number of data points in the train set: 7271333, number of used features: 17\n",
      "[LightGBM] [Warning] min_data_in_leaf is set=255, min_child_samples=20 will be ignored. Current value: min_data_in_leaf=255\n",
      "Training until validation scores don't improve for 30 rounds\n",
      "[50]\tvalid_0's rmse: 8.5067\tvalid_0's rmsse: 0.910375\n",
      "[100]\tvalid_0's rmse: 8.40454\tvalid_0's rmsse: 0.839949\n",
      "[150]\tvalid_0's rmse: 8.27327\tvalid_0's rmsse: 0.824417\n",
      "[200]\tvalid_0's rmse: 8.12612\tvalid_0's rmsse: 0.81832\n",
      "[LightGBM] [Warning] No further splits with positive gain, best gain: -inf\n",
      "[250]\tvalid_0's rmse: 7.98316\tvalid_0's rmsse: 0.815818\n",
      "[300]\tvalid_0's rmse: 7.88443\tvalid_0's rmsse: 0.814974\n",
      "[350]\tvalid_0's rmse: 7.82609\tvalid_0's rmsse: 0.814439\n",
      "[400]\tvalid_0's rmse: 7.78054\tvalid_0's rmsse: 0.814176\n",
      "[450]\tvalid_0's rmse: 7.75555\tvalid_0's rmsse: 0.814015\n",
      "Early stopping, best iteration is:\n",
      "[460]\tvalid_0's rmse: 7.75309\tvalid_0's rmsse: 0.813964\n"
     ]
    },
    {
     "name": "stderr",
     "output_type": "stream",
     "text": [
      "bagging, val_score: 7.727309:  10%|#         | 1/10 [08:18<1:14:42, 498.02s/it][I 2021-08-19 00:25:19,889] Trial 27 finished with value: 7.753086390884545 and parameters: {'bagging_fraction': 0.8427081051365847, 'bagging_freq': 1}. Best is trial 27 with value: 7.753086390884545.\n",
      "bagging, val_score: 7.727309:  10%|#         | 1/10 [08:18<1:14:42, 498.02s/it]"
     ]
    },
    {
     "name": "stdout",
     "output_type": "stream",
     "text": [
      "[LightGBM] [Warning] min_data_in_leaf is set=255, min_child_samples=20 will be ignored. Current value: min_data_in_leaf=255\n",
      "[LightGBM] [Warning] min_data_in_leaf is set=255, min_child_samples=20 will be ignored. Current value: min_data_in_leaf=255\n",
      "[LightGBM] [Info] Total Bins 2680\n",
      "[LightGBM] [Info] Number of data points in the train set: 7271333, number of used features: 17\n",
      "[LightGBM] [Warning] min_data_in_leaf is set=255, min_child_samples=20 will be ignored. Current value: min_data_in_leaf=255\n",
      "Training until validation scores don't improve for 30 rounds\n",
      "[50]\tvalid_0's rmse: 8.50663\tvalid_0's rmsse: 0.910286\n",
      "[100]\tvalid_0's rmse: 8.40438\tvalid_0's rmsse: 0.839954\n",
      "[150]\tvalid_0's rmse: 8.27326\tvalid_0's rmsse: 0.824449\n",
      "[200]\tvalid_0's rmse: 8.1265\tvalid_0's rmsse: 0.818344\n",
      "[LightGBM] [Warning] No further splits with positive gain, best gain: -inf\n",
      "[250]\tvalid_0's rmse: 7.98395\tvalid_0's rmsse: 0.815827\n",
      "[300]\tvalid_0's rmse: 7.88351\tvalid_0's rmsse: 0.814986\n",
      "[350]\tvalid_0's rmse: 7.82571\tvalid_0's rmsse: 0.814461\n",
      "[400]\tvalid_0's rmse: 7.78224\tvalid_0's rmsse: 0.814209\n",
      "[450]\tvalid_0's rmse: 7.75711\tvalid_0's rmsse: 0.814041\n",
      "Early stopping, best iteration is:\n",
      "[460]\tvalid_0's rmse: 7.75494\tvalid_0's rmsse: 0.813991\n"
     ]
    },
    {
     "name": "stderr",
     "output_type": "stream",
     "text": [
      "bagging, val_score: 7.727309:  20%|##        | 2/10 [17:03<1:08:31, 513.99s/it][I 2021-08-19 00:34:05,070] Trial 28 finished with value: 7.754939354700071 and parameters: {'bagging_fraction': 0.8307108998128636, 'bagging_freq': 4}. Best is trial 27 with value: 7.753086390884545.\n",
      "bagging, val_score: 7.727309:  20%|##        | 2/10 [17:03<1:08:31, 513.99s/it]"
     ]
    },
    {
     "name": "stdout",
     "output_type": "stream",
     "text": [
      "[LightGBM] [Warning] min_data_in_leaf is set=255, min_child_samples=20 will be ignored. Current value: min_data_in_leaf=255\n",
      "[LightGBM] [Warning] min_data_in_leaf is set=255, min_child_samples=20 will be ignored. Current value: min_data_in_leaf=255\n",
      "[LightGBM] [Info] Total Bins 2680\n",
      "[LightGBM] [Info] Number of data points in the train set: 7271333, number of used features: 17\n",
      "[LightGBM] [Warning] min_data_in_leaf is set=255, min_child_samples=20 will be ignored. Current value: min_data_in_leaf=255\n",
      "Training until validation scores don't improve for 30 rounds\n",
      "[50]\tvalid_0's rmse: 8.50669\tvalid_0's rmsse: 0.910299\n",
      "[100]\tvalid_0's rmse: 8.40462\tvalid_0's rmsse: 0.839953\n",
      "[150]\tvalid_0's rmse: 8.27349\tvalid_0's rmsse: 0.824462\n",
      "[200]\tvalid_0's rmse: 8.12595\tvalid_0's rmsse: 0.818374\n",
      "[LightGBM] [Warning] No further splits with positive gain, best gain: -inf\n",
      "[250]\tvalid_0's rmse: 7.98178\tvalid_0's rmsse: 0.815849\n",
      "[300]\tvalid_0's rmse: 7.88254\tvalid_0's rmsse: 0.81503\n",
      "[350]\tvalid_0's rmse: 7.82491\tvalid_0's rmsse: 0.814489\n",
      "[400]\tvalid_0's rmse: 7.77988\tvalid_0's rmsse: 0.814212\n",
      "[450]\tvalid_0's rmse: 7.7541\tvalid_0's rmsse: 0.814062\n",
      "Early stopping, best iteration is:\n",
      "[465]\tvalid_0's rmse: 7.75012\tvalid_0's rmsse: 0.813993\n"
     ]
    },
    {
     "name": "stderr",
     "output_type": "stream",
     "text": [
      "bagging, val_score: 7.727309:  30%|###       | 3/10 [25:37<59:57, 513.97s/it]  [I 2021-08-19 00:42:39,006] Trial 29 finished with value: 7.7501204067049425 and parameters: {'bagging_fraction': 0.5484840773498543, 'bagging_freq': 4}. Best is trial 29 with value: 7.7501204067049425.\n",
      "bagging, val_score: 7.727309:  30%|###       | 3/10 [25:37<59:57, 513.97s/it]"
     ]
    },
    {
     "name": "stdout",
     "output_type": "stream",
     "text": [
      "[LightGBM] [Warning] min_data_in_leaf is set=255, min_child_samples=20 will be ignored. Current value: min_data_in_leaf=255\n",
      "[LightGBM] [Warning] min_data_in_leaf is set=255, min_child_samples=20 will be ignored. Current value: min_data_in_leaf=255\n",
      "[LightGBM] [Info] Total Bins 2680\n",
      "[LightGBM] [Info] Number of data points in the train set: 7271333, number of used features: 17\n",
      "[LightGBM] [Warning] min_data_in_leaf is set=255, min_child_samples=20 will be ignored. Current value: min_data_in_leaf=255\n",
      "Training until validation scores don't improve for 30 rounds\n",
      "[50]\tvalid_0's rmse: 8.50666\tvalid_0's rmsse: 0.910337\n",
      "[100]\tvalid_0's rmse: 8.4046\tvalid_0's rmsse: 0.839974\n",
      "[150]\tvalid_0's rmse: 8.27368\tvalid_0's rmsse: 0.824468\n",
      "[200]\tvalid_0's rmse: 8.12711\tvalid_0's rmsse: 0.818384\n",
      "[LightGBM] [Warning] No further splits with positive gain, best gain: -inf\n",
      "[250]\tvalid_0's rmse: 7.98418\tvalid_0's rmsse: 0.815853\n",
      "[300]\tvalid_0's rmse: 7.88418\tvalid_0's rmsse: 0.815047\n",
      "[350]\tvalid_0's rmse: 7.82747\tvalid_0's rmsse: 0.814516\n",
      "[400]\tvalid_0's rmse: 7.78504\tvalid_0's rmsse: 0.814229\n",
      "[450]\tvalid_0's rmse: 7.76021\tvalid_0's rmsse: 0.814087\n",
      "Early stopping, best iteration is:\n",
      "[465]\tvalid_0's rmse: 7.75689\tvalid_0's rmsse: 0.814039\n"
     ]
    },
    {
     "name": "stderr",
     "output_type": "stream",
     "text": [
      "bagging, val_score: 7.727309:  40%|####      | 4/10 [33:54<50:45, 507.51s/it][I 2021-08-19 00:50:56,617] Trial 30 finished with value: 7.756886389734142 and parameters: {'bagging_fraction': 0.4688594114644539, 'bagging_freq': 5}. Best is trial 29 with value: 7.7501204067049425.\n",
      "bagging, val_score: 7.727309:  40%|####      | 4/10 [33:54<50:45, 507.51s/it]"
     ]
    },
    {
     "name": "stdout",
     "output_type": "stream",
     "text": [
      "[LightGBM] [Warning] min_data_in_leaf is set=255, min_child_samples=20 will be ignored. Current value: min_data_in_leaf=255\n",
      "[LightGBM] [Warning] min_data_in_leaf is set=255, min_child_samples=20 will be ignored. Current value: min_data_in_leaf=255\n",
      "[LightGBM] [Info] Total Bins 2680\n",
      "[LightGBM] [Info] Number of data points in the train set: 7271333, number of used features: 17\n",
      "[LightGBM] [Warning] min_data_in_leaf is set=255, min_child_samples=20 will be ignored. Current value: min_data_in_leaf=255\n",
      "Training until validation scores don't improve for 30 rounds\n",
      "[50]\tvalid_0's rmse: 8.50664\tvalid_0's rmsse: 0.910327\n",
      "[100]\tvalid_0's rmse: 8.40443\tvalid_0's rmsse: 0.839949\n",
      "[150]\tvalid_0's rmse: 8.27305\tvalid_0's rmsse: 0.824437\n",
      "[200]\tvalid_0's rmse: 8.12643\tvalid_0's rmsse: 0.818331\n",
      "[LightGBM] [Warning] No further splits with positive gain, best gain: -inf\n",
      "[250]\tvalid_0's rmse: 7.98416\tvalid_0's rmsse: 0.815807\n",
      "[300]\tvalid_0's rmse: 7.88429\tvalid_0's rmsse: 0.814972\n",
      "[350]\tvalid_0's rmse: 7.82578\tvalid_0's rmsse: 0.814436\n",
      "[400]\tvalid_0's rmse: 7.78296\tvalid_0's rmsse: 0.814173\n",
      "[450]\tvalid_0's rmse: 7.75778\tvalid_0's rmsse: 0.81401\n",
      "Early stopping, best iteration is:\n",
      "[465]\tvalid_0's rmse: 7.75384\tvalid_0's rmsse: 0.813956\n"
     ]
    },
    {
     "name": "stderr",
     "output_type": "stream",
     "text": [
      "bagging, val_score: 7.727309:  50%|#####     | 5/10 [42:23<42:19, 507.96s/it][I 2021-08-19 00:59:25,386] Trial 31 finished with value: 7.753835516415224 and parameters: {'bagging_fraction': 0.8214026436238018, 'bagging_freq': 4}. Best is trial 29 with value: 7.7501204067049425.\n",
      "bagging, val_score: 7.727309:  50%|#####     | 5/10 [42:23<42:19, 507.96s/it]"
     ]
    },
    {
     "name": "stdout",
     "output_type": "stream",
     "text": [
      "[LightGBM] [Warning] min_data_in_leaf is set=255, min_child_samples=20 will be ignored. Current value: min_data_in_leaf=255\n",
      "[LightGBM] [Warning] min_data_in_leaf is set=255, min_child_samples=20 will be ignored. Current value: min_data_in_leaf=255\n",
      "[LightGBM] [Info] Total Bins 2680\n",
      "[LightGBM] [Info] Number of data points in the train set: 7271333, number of used features: 17\n",
      "[LightGBM] [Warning] min_data_in_leaf is set=255, min_child_samples=20 will be ignored. Current value: min_data_in_leaf=255\n",
      "Training until validation scores don't improve for 30 rounds\n",
      "[50]\tvalid_0's rmse: 8.50666\tvalid_0's rmsse: 0.910385\n",
      "[100]\tvalid_0's rmse: 8.40449\tvalid_0's rmsse: 0.839994\n",
      "[150]\tvalid_0's rmse: 8.27317\tvalid_0's rmsse: 0.82447\n",
      "[200]\tvalid_0's rmse: 8.126\tvalid_0's rmsse: 0.818377\n",
      "[LightGBM] [Warning] No further splits with positive gain, best gain: -inf\n",
      "[250]\tvalid_0's rmse: 7.9834\tvalid_0's rmsse: 0.815865\n",
      "[300]\tvalid_0's rmse: 7.88355\tvalid_0's rmsse: 0.815014\n",
      "[350]\tvalid_0's rmse: 7.82512\tvalid_0's rmsse: 0.814476\n",
      "[400]\tvalid_0's rmse: 7.77964\tvalid_0's rmsse: 0.81422\n",
      "[450]\tvalid_0's rmse: 7.75514\tvalid_0's rmsse: 0.814064\n",
      "Early stopping, best iteration is:\n",
      "[465]\tvalid_0's rmse: 7.75142\tvalid_0's rmsse: 0.814019\n"
     ]
    },
    {
     "name": "stderr",
     "output_type": "stream",
     "text": [
      "bagging, val_score: 7.727309:  60%|######    | 6/10 [50:37<33:33, 503.36s/it][I 2021-08-19 01:07:39,801] Trial 32 finished with value: 7.7514178851124935 and parameters: {'bagging_fraction': 0.5808478655394733, 'bagging_freq': 3}. Best is trial 29 with value: 7.7501204067049425.\n",
      "bagging, val_score: 7.727309:  60%|######    | 6/10 [50:37<33:33, 503.36s/it]"
     ]
    },
    {
     "name": "stdout",
     "output_type": "stream",
     "text": [
      "[LightGBM] [Warning] min_data_in_leaf is set=255, min_child_samples=20 will be ignored. Current value: min_data_in_leaf=255\n",
      "[LightGBM] [Warning] min_data_in_leaf is set=255, min_child_samples=20 will be ignored. Current value: min_data_in_leaf=255\n",
      "[LightGBM] [Info] Total Bins 2680\n",
      "[LightGBM] [Info] Number of data points in the train set: 7271333, number of used features: 17\n",
      "[LightGBM] [Warning] min_data_in_leaf is set=255, min_child_samples=20 will be ignored. Current value: min_data_in_leaf=255\n",
      "Training until validation scores don't improve for 30 rounds\n",
      "[50]\tvalid_0's rmse: 8.50662\tvalid_0's rmsse: 0.910339\n",
      "[100]\tvalid_0's rmse: 8.40446\tvalid_0's rmsse: 0.839958\n",
      "[150]\tvalid_0's rmse: 8.27294\tvalid_0's rmsse: 0.824441\n",
      "[200]\tvalid_0's rmse: 8.12578\tvalid_0's rmsse: 0.818348\n",
      "[LightGBM] [Warning] No further splits with positive gain, best gain: -inf\n",
      "[250]\tvalid_0's rmse: 7.98267\tvalid_0's rmsse: 0.815824\n",
      "[300]\tvalid_0's rmse: 7.88345\tvalid_0's rmsse: 0.81497\n",
      "[350]\tvalid_0's rmse: 7.82418\tvalid_0's rmsse: 0.814453\n",
      "[400]\tvalid_0's rmse: 7.77842\tvalid_0's rmsse: 0.814188\n",
      "[450]\tvalid_0's rmse: 7.75407\tvalid_0's rmsse: 0.814037\n",
      "[500]\tvalid_0's rmse: 7.73882\tvalid_0's rmsse: 0.814\n",
      "[550]\tvalid_0's rmse: 7.73027\tvalid_0's rmsse: 0.813879\n",
      "Early stopping, best iteration is:\n",
      "[542]\tvalid_0's rmse: 7.73054\tvalid_0's rmsse: 0.813859\n"
     ]
    },
    {
     "name": "stderr",
     "output_type": "stream",
     "text": [
      "bagging, val_score: 7.727309:  70%|#######   | 7/10 [1:00:29<26:36, 532.29s/it][I 2021-08-19 01:17:31,662] Trial 33 finished with value: 7.730542336548133 and parameters: {'bagging_fraction': 0.7702867391277518, 'bagging_freq': 2}. Best is trial 33 with value: 7.730542336548133.\n",
      "bagging, val_score: 7.727309:  70%|#######   | 7/10 [1:00:29<26:36, 532.29s/it]"
     ]
    },
    {
     "name": "stdout",
     "output_type": "stream",
     "text": [
      "[LightGBM] [Warning] min_data_in_leaf is set=255, min_child_samples=20 will be ignored. Current value: min_data_in_leaf=255\n",
      "[LightGBM] [Warning] min_data_in_leaf is set=255, min_child_samples=20 will be ignored. Current value: min_data_in_leaf=255\n",
      "[LightGBM] [Info] Total Bins 2680\n",
      "[LightGBM] [Info] Number of data points in the train set: 7271333, number of used features: 17\n",
      "[LightGBM] [Warning] min_data_in_leaf is set=255, min_child_samples=20 will be ignored. Current value: min_data_in_leaf=255\n",
      "Training until validation scores don't improve for 30 rounds\n",
      "[50]\tvalid_0's rmse: 8.50671\tvalid_0's rmsse: 0.91034\n",
      "[100]\tvalid_0's rmse: 8.40452\tvalid_0's rmsse: 0.839954\n",
      "[150]\tvalid_0's rmse: 8.27342\tvalid_0's rmsse: 0.824426\n",
      "[200]\tvalid_0's rmse: 8.12678\tvalid_0's rmsse: 0.818339\n",
      "[LightGBM] [Warning] No further splits with positive gain, best gain: -inf\n",
      "[250]\tvalid_0's rmse: 7.98412\tvalid_0's rmsse: 0.815824\n",
      "[300]\tvalid_0's rmse: 7.88479\tvalid_0's rmsse: 0.814979\n",
      "[350]\tvalid_0's rmse: 7.82675\tvalid_0's rmsse: 0.814461\n",
      "[400]\tvalid_0's rmse: 7.78296\tvalid_0's rmsse: 0.814192\n",
      "[450]\tvalid_0's rmse: 7.75769\tvalid_0's rmsse: 0.814029\n",
      "Early stopping, best iteration is:\n",
      "[465]\tvalid_0's rmse: 7.75294\tvalid_0's rmsse: 0.813983\n"
     ]
    },
    {
     "name": "stderr",
     "output_type": "stream",
     "text": [
      "bagging, val_score: 7.727309:  80%|########  | 8/10 [1:08:24<17:08, 514.02s/it][I 2021-08-19 01:25:26,549] Trial 34 finished with value: 7.7529437699141255 and parameters: {'bagging_fraction': 0.7099384051653734, 'bagging_freq': 1}. Best is trial 33 with value: 7.730542336548133.\n",
      "bagging, val_score: 7.727309:  80%|########  | 8/10 [1:08:24<17:08, 514.02s/it]"
     ]
    },
    {
     "name": "stdout",
     "output_type": "stream",
     "text": [
      "[LightGBM] [Warning] min_data_in_leaf is set=255, min_child_samples=20 will be ignored. Current value: min_data_in_leaf=255\n",
      "[LightGBM] [Warning] min_data_in_leaf is set=255, min_child_samples=20 will be ignored. Current value: min_data_in_leaf=255\n",
      "[LightGBM] [Info] Total Bins 2680\n",
      "[LightGBM] [Info] Number of data points in the train set: 7271333, number of used features: 17\n",
      "[LightGBM] [Warning] min_data_in_leaf is set=255, min_child_samples=20 will be ignored. Current value: min_data_in_leaf=255\n",
      "Training until validation scores don't improve for 30 rounds\n",
      "[50]\tvalid_0's rmse: 8.50669\tvalid_0's rmsse: 0.910358\n",
      "[100]\tvalid_0's rmse: 8.4045\tvalid_0's rmsse: 0.83994\n",
      "[150]\tvalid_0's rmse: 8.27321\tvalid_0's rmsse: 0.824428\n",
      "[200]\tvalid_0's rmse: 8.1261\tvalid_0's rmsse: 0.818338\n",
      "[LightGBM] [Warning] No further splits with positive gain, best gain: -inf\n",
      "[250]\tvalid_0's rmse: 7.98373\tvalid_0's rmsse: 0.815818\n",
      "[300]\tvalid_0's rmse: 7.88308\tvalid_0's rmsse: 0.814989\n",
      "[350]\tvalid_0's rmse: 7.8257\tvalid_0's rmsse: 0.814457\n",
      "[400]\tvalid_0's rmse: 7.77996\tvalid_0's rmsse: 0.814184\n",
      "[450]\tvalid_0's rmse: 7.75674\tvalid_0's rmsse: 0.814029\n",
      "Early stopping, best iteration is:\n",
      "[460]\tvalid_0's rmse: 7.75384\tvalid_0's rmsse: 0.813979\n"
     ]
    },
    {
     "name": "stderr",
     "output_type": "stream",
     "text": [
      "bagging, val_score: 7.727309:  90%|######### | 9/10 [1:16:40<08:28, 508.22s/it][I 2021-08-19 01:33:42,019] Trial 35 finished with value: 7.753843685961296 and parameters: {'bagging_fraction': 0.8116623391263428, 'bagging_freq': 5}. Best is trial 33 with value: 7.730542336548133.\n",
      "bagging, val_score: 7.727309:  90%|######### | 9/10 [1:16:40<08:28, 508.22s/it]"
     ]
    },
    {
     "name": "stdout",
     "output_type": "stream",
     "text": [
      "[LightGBM] [Warning] min_data_in_leaf is set=255, min_child_samples=20 will be ignored. Current value: min_data_in_leaf=255\n",
      "[LightGBM] [Warning] min_data_in_leaf is set=255, min_child_samples=20 will be ignored. Current value: min_data_in_leaf=255\n",
      "[LightGBM] [Info] Total Bins 2680\n",
      "[LightGBM] [Info] Number of data points in the train set: 7271333, number of used features: 17\n",
      "[LightGBM] [Warning] min_data_in_leaf is set=255, min_child_samples=20 will be ignored. Current value: min_data_in_leaf=255\n",
      "Training until validation scores don't improve for 30 rounds\n",
      "[50]\tvalid_0's rmse: 8.50666\tvalid_0's rmsse: 0.910399\n",
      "[100]\tvalid_0's rmse: 8.40446\tvalid_0's rmsse: 0.839991\n",
      "[150]\tvalid_0's rmse: 8.27326\tvalid_0's rmsse: 0.824451\n",
      "[200]\tvalid_0's rmse: 8.12696\tvalid_0's rmsse: 0.818371\n",
      "[LightGBM] [Warning] No further splits with positive gain, best gain: -inf\n",
      "[250]\tvalid_0's rmse: 7.98432\tvalid_0's rmsse: 0.815844\n",
      "[300]\tvalid_0's rmse: 7.88435\tvalid_0's rmsse: 0.815012\n",
      "[350]\tvalid_0's rmse: 7.82496\tvalid_0's rmsse: 0.814451\n",
      "[400]\tvalid_0's rmse: 7.78036\tvalid_0's rmsse: 0.814217\n",
      "[450]\tvalid_0's rmse: 7.75499\tvalid_0's rmsse: 0.814049\n",
      "[500]\tvalid_0's rmse: 7.73959\tvalid_0's rmsse: 0.814002\n",
      "[550]\tvalid_0's rmse: 7.7311\tvalid_0's rmsse: 0.813901\n",
      "Early stopping, best iteration is:\n",
      "[542]\tvalid_0's rmse: 7.73205\tvalid_0's rmsse: 0.813875\n"
     ]
    },
    {
     "name": "stderr",
     "output_type": "stream",
     "text": [
      "bagging, val_score: 7.727309: 100%|##########| 10/10 [1:25:53<00:00, 522.26s/it][I 2021-08-19 01:42:55,721] Trial 36 finished with value: 7.732047374051014 and parameters: {'bagging_fraction': 0.5573332931504471, 'bagging_freq': 7}. Best is trial 33 with value: 7.730542336548133.\n",
      "bagging, val_score: 7.727309: 100%|##########| 10/10 [1:25:53<00:00, 515.39s/it]\n",
      "feature_fraction_stage2, val_score: 7.727309:   0%|          | 0/3 [00:00<?, ?it/s]"
     ]
    },
    {
     "name": "stdout",
     "output_type": "stream",
     "text": [
      "[LightGBM] [Warning] min_data_in_leaf is set=255, min_child_samples=20 will be ignored. Current value: min_data_in_leaf=255\n",
      "[LightGBM] [Warning] min_data_in_leaf is set=255, min_child_samples=20 will be ignored. Current value: min_data_in_leaf=255\n",
      "[LightGBM] [Info] Total Bins 2680\n",
      "[LightGBM] [Info] Number of data points in the train set: 7271333, number of used features: 17\n",
      "[LightGBM] [Warning] min_data_in_leaf is set=255, min_child_samples=20 will be ignored. Current value: min_data_in_leaf=255\n",
      "Training until validation scores don't improve for 30 rounds\n",
      "[50]\tvalid_0's rmse: 8.49989\tvalid_0's rmsse: 0.899218\n",
      "[100]\tvalid_0's rmse: 8.38994\tvalid_0's rmsse: 0.835011\n",
      "[150]\tvalid_0's rmse: 8.24767\tvalid_0's rmsse: 0.820902\n",
      "[200]\tvalid_0's rmse: 8.08146\tvalid_0's rmsse: 0.8162\n",
      "[250]\tvalid_0's rmse: 7.94304\tvalid_0's rmsse: 0.814709\n",
      "[300]\tvalid_0's rmse: 7.85367\tvalid_0's rmsse: 0.814381\n",
      "[350]\tvalid_0's rmse: 7.79995\tvalid_0's rmsse: 0.814154\n",
      "Early stopping, best iteration is:\n",
      "[341]\tvalid_0's rmse: 7.80972\tvalid_0's rmsse: 0.814105\n"
     ]
    },
    {
     "name": "stderr",
     "output_type": "stream",
     "text": [
      "feature_fraction_stage2, val_score: 7.727309:  33%|###3      | 1/3 [05:57<11:54, 357.10s/it][I 2021-08-19 01:48:52,892] Trial 37 finished with value: 7.809720021165115 and parameters: {'feature_fraction': 0.48000000000000004}. Best is trial 37 with value: 7.809720021165115.\n",
      "feature_fraction_stage2, val_score: 7.727309:  33%|###3      | 1/3 [05:57<11:54, 357.10s/it]"
     ]
    },
    {
     "name": "stdout",
     "output_type": "stream",
     "text": [
      "[LightGBM] [Warning] min_data_in_leaf is set=255, min_child_samples=20 will be ignored. Current value: min_data_in_leaf=255\n",
      "[LightGBM] [Warning] min_data_in_leaf is set=255, min_child_samples=20 will be ignored. Current value: min_data_in_leaf=255\n",
      "[LightGBM] [Info] Total Bins 2680\n",
      "[LightGBM] [Info] Number of data points in the train set: 7271333, number of used features: 17\n",
      "[LightGBM] [Warning] min_data_in_leaf is set=255, min_child_samples=20 will be ignored. Current value: min_data_in_leaf=255\n",
      "Training until validation scores don't improve for 30 rounds\n",
      "[50]\tvalid_0's rmse: 8.49989\tvalid_0's rmsse: 0.899218\n",
      "[100]\tvalid_0's rmse: 8.38994\tvalid_0's rmsse: 0.835011\n",
      "[150]\tvalid_0's rmse: 8.24767\tvalid_0's rmsse: 0.820902\n",
      "[200]\tvalid_0's rmse: 8.08146\tvalid_0's rmsse: 0.8162\n",
      "[250]\tvalid_0's rmse: 7.94304\tvalid_0's rmsse: 0.814709\n",
      "[300]\tvalid_0's rmse: 7.85367\tvalid_0's rmsse: 0.814381\n",
      "[350]\tvalid_0's rmse: 7.79995\tvalid_0's rmsse: 0.814154\n",
      "Early stopping, best iteration is:\n",
      "[341]\tvalid_0's rmse: 7.80972\tvalid_0's rmsse: 0.814105\n"
     ]
    },
    {
     "name": "stderr",
     "output_type": "stream",
     "text": [
      "feature_fraction_stage2, val_score: 7.727309:  67%|######6   | 2/3 [11:53<05:56, 356.89s/it][I 2021-08-19 01:54:49,640] Trial 38 finished with value: 7.809720021165115 and parameters: {'feature_fraction': 0.44800000000000006}. Best is trial 37 with value: 7.809720021165115.\n",
      "feature_fraction_stage2, val_score: 7.727309:  67%|######6   | 2/3 [11:53<05:56, 356.89s/it]"
     ]
    },
    {
     "name": "stdout",
     "output_type": "stream",
     "text": [
      "[LightGBM] [Warning] min_data_in_leaf is set=255, min_child_samples=20 will be ignored. Current value: min_data_in_leaf=255\n",
      "[LightGBM] [Warning] min_data_in_leaf is set=255, min_child_samples=20 will be ignored. Current value: min_data_in_leaf=255\n",
      "[LightGBM] [Info] Total Bins 2680\n",
      "[LightGBM] [Info] Number of data points in the train set: 7271333, number of used features: 17\n",
      "[LightGBM] [Warning] min_data_in_leaf is set=255, min_child_samples=20 will be ignored. Current value: min_data_in_leaf=255\n",
      "Training until validation scores don't improve for 30 rounds\n",
      "[50]\tvalid_0's rmse: 8.50666\tvalid_0's rmsse: 0.910323\n",
      "[100]\tvalid_0's rmse: 8.40446\tvalid_0's rmsse: 0.839961\n",
      "[150]\tvalid_0's rmse: 8.27327\tvalid_0's rmsse: 0.824429\n",
      "[200]\tvalid_0's rmse: 8.12642\tvalid_0's rmsse: 0.81834\n",
      "[LightGBM] [Warning] No further splits with positive gain, best gain: -inf\n",
      "[250]\tvalid_0's rmse: 7.9838\tvalid_0's rmsse: 0.815818\n",
      "[300]\tvalid_0's rmse: 7.88457\tvalid_0's rmsse: 0.814978\n",
      "[350]\tvalid_0's rmse: 7.82658\tvalid_0's rmsse: 0.814456\n",
      "[400]\tvalid_0's rmse: 7.78006\tvalid_0's rmsse: 0.814198\n",
      "[450]\tvalid_0's rmse: 7.75505\tvalid_0's rmsse: 0.814056\n",
      "[500]\tvalid_0's rmse: 7.73931\tvalid_0's rmsse: 0.814018\n",
      "[550]\tvalid_0's rmse: 7.72965\tvalid_0's rmsse: 0.813886\n",
      "[600]\tvalid_0's rmse: 7.72444\tvalid_0's rmsse: 0.813862\n",
      "Early stopping, best iteration is:\n",
      "[582]\tvalid_0's rmse: 7.72731\tvalid_0's rmsse: 0.813836\n"
     ]
    },
    {
     "name": "stderr",
     "output_type": "stream",
     "text": [
      "feature_fraction_stage2, val_score: 7.727309: 100%|##########| 3/3 [21:39<00:00, 461.41s/it][I 2021-08-19 02:04:35,409] Trial 39 finished with value: 7.727309012359956 and parameters: {'feature_fraction': 0.41600000000000004}. Best is trial 39 with value: 7.727309012359956.\n",
      "feature_fraction_stage2, val_score: 7.727309: 100%|##########| 3/3 [21:39<00:00, 433.23s/it]\n",
      "regularization_factors, val_score: 7.727309:   0%|          | 0/20 [00:00<?, ?it/s]"
     ]
    },
    {
     "name": "stdout",
     "output_type": "stream",
     "text": [
      "[LightGBM] [Warning] min_data_in_leaf is set=255, min_child_samples=20 will be ignored. Current value: min_data_in_leaf=255\n",
      "[LightGBM] [Warning] min_data_in_leaf is set=255, min_child_samples=20 will be ignored. Current value: min_data_in_leaf=255\n",
      "[LightGBM] [Info] Total Bins 2680\n",
      "[LightGBM] [Info] Number of data points in the train set: 7271333, number of used features: 17\n",
      "[LightGBM] [Warning] min_data_in_leaf is set=255, min_child_samples=20 will be ignored. Current value: min_data_in_leaf=255\n",
      "Training until validation scores don't improve for 30 rounds\n",
      "[50]\tvalid_0's rmse: 8.50666\tvalid_0's rmsse: 0.910327\n",
      "[100]\tvalid_0's rmse: 8.40448\tvalid_0's rmsse: 0.839961\n",
      "[150]\tvalid_0's rmse: 8.27336\tvalid_0's rmsse: 0.824432\n",
      "[200]\tvalid_0's rmse: 8.12641\tvalid_0's rmsse: 0.818345\n",
      "[LightGBM] [Warning] No further splits with positive gain, best gain: -inf\n",
      "[250]\tvalid_0's rmse: 7.98369\tvalid_0's rmsse: 0.815825\n",
      "[300]\tvalid_0's rmse: 7.88424\tvalid_0's rmsse: 0.814989\n",
      "[350]\tvalid_0's rmse: 7.82579\tvalid_0's rmsse: 0.814462\n",
      "[400]\tvalid_0's rmse: 7.77992\tvalid_0's rmsse: 0.814196\n",
      "[450]\tvalid_0's rmse: 7.75471\tvalid_0's rmsse: 0.81405\n",
      "Early stopping, best iteration is:\n",
      "[465]\tvalid_0's rmse: 7.75071\tvalid_0's rmsse: 0.813997\n"
     ]
    },
    {
     "name": "stderr",
     "output_type": "stream",
     "text": [
      "regularization_factors, val_score: 7.727309:   5%|5         | 1/20 [07:55<2:30:38, 475.71s/it][I 2021-08-19 02:12:31,186] Trial 40 finished with value: 7.750713363999361 and parameters: {'lambda_l1': 4.431080890315285e-07, 'lambda_l2': 0.6324440562576061}. Best is trial 40 with value: 7.750713363999361.\n",
      "regularization_factors, val_score: 7.727309:   5%|5         | 1/20 [07:55<2:30:38, 475.71s/it]"
     ]
    },
    {
     "name": "stdout",
     "output_type": "stream",
     "text": [
      "[LightGBM] [Warning] min_data_in_leaf is set=255, min_child_samples=20 will be ignored. Current value: min_data_in_leaf=255\n",
      "[LightGBM] [Warning] min_data_in_leaf is set=255, min_child_samples=20 will be ignored. Current value: min_data_in_leaf=255\n",
      "[LightGBM] [Info] Total Bins 2680\n",
      "[LightGBM] [Info] Number of data points in the train set: 7271333, number of used features: 17\n",
      "[LightGBM] [Warning] min_data_in_leaf is set=255, min_child_samples=20 will be ignored. Current value: min_data_in_leaf=255\n",
      "Training until validation scores don't improve for 30 rounds\n",
      "[50]\tvalid_0's rmse: 8.50667\tvalid_0's rmsse: 0.91031\n",
      "[100]\tvalid_0's rmse: 8.40451\tvalid_0's rmsse: 0.839958\n",
      "[150]\tvalid_0's rmse: 8.27326\tvalid_0's rmsse: 0.82444\n",
      "[200]\tvalid_0's rmse: 8.12645\tvalid_0's rmsse: 0.818354\n",
      "[LightGBM] [Warning] No further splits with positive gain, best gain: -inf\n",
      "[250]\tvalid_0's rmse: 7.98386\tvalid_0's rmsse: 0.815828\n",
      "[300]\tvalid_0's rmse: 7.8846\tvalid_0's rmsse: 0.814998\n",
      "[350]\tvalid_0's rmse: 7.82622\tvalid_0's rmsse: 0.81446\n",
      "[400]\tvalid_0's rmse: 7.78013\tvalid_0's rmsse: 0.814188\n",
      "[450]\tvalid_0's rmse: 7.75477\tvalid_0's rmsse: 0.814043\n",
      "Early stopping, best iteration is:\n",
      "[460]\tvalid_0's rmse: 7.75244\tvalid_0's rmsse: 0.813991\n"
     ]
    },
    {
     "name": "stderr",
     "output_type": "stream",
     "text": [
      "regularization_factors, val_score: 7.727309:  10%|#         | 2/20 [15:45<2:21:40, 472.23s/it][I 2021-08-19 02:20:20,982] Trial 41 finished with value: 7.752440595121103 and parameters: {'lambda_l1': 0.3479512790845155, 'lambda_l2': 8.956893044555603e-06}. Best is trial 40 with value: 7.750713363999361.\n",
      "regularization_factors, val_score: 7.727309:  10%|#         | 2/20 [15:45<2:21:40, 472.23s/it]"
     ]
    },
    {
     "name": "stdout",
     "output_type": "stream",
     "text": [
      "[LightGBM] [Warning] min_data_in_leaf is set=255, min_child_samples=20 will be ignored. Current value: min_data_in_leaf=255\n",
      "[LightGBM] [Warning] min_data_in_leaf is set=255, min_child_samples=20 will be ignored. Current value: min_data_in_leaf=255\n",
      "[LightGBM] [Info] Total Bins 2680\n",
      "[LightGBM] [Info] Number of data points in the train set: 7271333, number of used features: 17\n",
      "[LightGBM] [Warning] min_data_in_leaf is set=255, min_child_samples=20 will be ignored. Current value: min_data_in_leaf=255\n",
      "Training until validation scores don't improve for 30 rounds\n",
      "[50]\tvalid_0's rmse: 8.50667\tvalid_0's rmsse: 0.910309\n",
      "[100]\tvalid_0's rmse: 8.4045\tvalid_0's rmsse: 0.839958\n",
      "[150]\tvalid_0's rmse: 8.27334\tvalid_0's rmsse: 0.824431\n",
      "[200]\tvalid_0's rmse: 8.12644\tvalid_0's rmsse: 0.818343\n",
      "[LightGBM] [Warning] No further splits with positive gain, best gain: -inf\n",
      "[250]\tvalid_0's rmse: 7.98383\tvalid_0's rmsse: 0.815825\n",
      "[300]\tvalid_0's rmse: 7.88434\tvalid_0's rmsse: 0.814985\n",
      "[350]\tvalid_0's rmse: 7.82612\tvalid_0's rmsse: 0.814461\n",
      "[400]\tvalid_0's rmse: 7.77967\tvalid_0's rmsse: 0.814188\n",
      "[450]\tvalid_0's rmse: 7.75485\tvalid_0's rmsse: 0.814045\n",
      "Early stopping, best iteration is:\n",
      "[460]\tvalid_0's rmse: 7.75234\tvalid_0's rmsse: 0.813992\n"
     ]
    },
    {
     "name": "stderr",
     "output_type": "stream",
     "text": [
      "regularization_factors, val_score: 7.727309:  15%|#5        | 3/20 [23:35<2:13:28, 471.10s/it][I 2021-08-19 02:28:10,732] Trial 42 finished with value: 7.75233531197828 and parameters: {'lambda_l1': 0.0005217284954654928, 'lambda_l2': 3.2712562536982885e-05}. Best is trial 40 with value: 7.750713363999361.\n",
      "regularization_factors, val_score: 7.727309:  15%|#5        | 3/20 [23:35<2:13:28, 471.10s/it]"
     ]
    },
    {
     "name": "stdout",
     "output_type": "stream",
     "text": [
      "[LightGBM] [Warning] min_data_in_leaf is set=255, min_child_samples=20 will be ignored. Current value: min_data_in_leaf=255\n",
      "[LightGBM] [Warning] min_data_in_leaf is set=255, min_child_samples=20 will be ignored. Current value: min_data_in_leaf=255\n",
      "[LightGBM] [Info] Total Bins 2680\n",
      "[LightGBM] [Info] Number of data points in the train set: 7271333, number of used features: 17\n",
      "[LightGBM] [Warning] min_data_in_leaf is set=255, min_child_samples=20 will be ignored. Current value: min_data_in_leaf=255\n",
      "Training until validation scores don't improve for 30 rounds\n",
      "[50]\tvalid_0's rmse: 8.50666\tvalid_0's rmsse: 0.910321\n",
      "[100]\tvalid_0's rmse: 8.40446\tvalid_0's rmsse: 0.839964\n",
      "[150]\tvalid_0's rmse: 8.2733\tvalid_0's rmsse: 0.824436\n",
      "[200]\tvalid_0's rmse: 8.12633\tvalid_0's rmsse: 0.818345\n",
      "[LightGBM] [Warning] No further splits with positive gain, best gain: -inf\n",
      "[250]\tvalid_0's rmse: 7.98376\tvalid_0's rmsse: 0.815827\n",
      "[300]\tvalid_0's rmse: 7.88399\tvalid_0's rmsse: 0.814997\n",
      "[350]\tvalid_0's rmse: 7.82617\tvalid_0's rmsse: 0.814465\n",
      "[400]\tvalid_0's rmse: 7.77993\tvalid_0's rmsse: 0.814199\n",
      "[450]\tvalid_0's rmse: 7.7541\tvalid_0's rmsse: 0.814045\n",
      "Early stopping, best iteration is:\n",
      "[460]\tvalid_0's rmse: 7.75155\tvalid_0's rmsse: 0.813992\n"
     ]
    },
    {
     "name": "stderr",
     "output_type": "stream",
     "text": [
      "regularization_factors, val_score: 7.727309:  20%|##        | 4/20 [31:25<2:05:29, 470.60s/it][I 2021-08-19 02:36:00,553] Trial 43 finished with value: 7.751553559868788 and parameters: {'lambda_l1': 0.0005421599732646832, 'lambda_l2': 0.46638535256079267}. Best is trial 40 with value: 7.750713363999361.\n",
      "regularization_factors, val_score: 7.727309:  20%|##        | 4/20 [31:25<2:05:29, 470.60s/it]"
     ]
    },
    {
     "name": "stdout",
     "output_type": "stream",
     "text": [
      "[LightGBM] [Warning] min_data_in_leaf is set=255, min_child_samples=20 will be ignored. Current value: min_data_in_leaf=255\n",
      "[LightGBM] [Warning] min_data_in_leaf is set=255, min_child_samples=20 will be ignored. Current value: min_data_in_leaf=255\n",
      "[LightGBM] [Info] Total Bins 2680\n",
      "[LightGBM] [Info] Number of data points in the train set: 7271333, number of used features: 17\n",
      "[LightGBM] [Warning] min_data_in_leaf is set=255, min_child_samples=20 will be ignored. Current value: min_data_in_leaf=255\n",
      "Training until validation scores don't improve for 30 rounds\n",
      "[50]\tvalid_0's rmse: 8.50667\tvalid_0's rmsse: 0.910315\n",
      "[100]\tvalid_0's rmse: 8.4045\tvalid_0's rmsse: 0.83996\n",
      "[150]\tvalid_0's rmse: 8.27335\tvalid_0's rmsse: 0.824436\n",
      "[200]\tvalid_0's rmse: 8.12639\tvalid_0's rmsse: 0.818346\n",
      "[LightGBM] [Warning] No further splits with positive gain, best gain: -inf\n",
      "[250]\tvalid_0's rmse: 7.98383\tvalid_0's rmsse: 0.815828\n",
      "[300]\tvalid_0's rmse: 7.88407\tvalid_0's rmsse: 0.814996\n",
      "[350]\tvalid_0's rmse: 7.82602\tvalid_0's rmsse: 0.814468\n",
      "[400]\tvalid_0's rmse: 7.78026\tvalid_0's rmsse: 0.814199\n",
      "[450]\tvalid_0's rmse: 7.75537\tvalid_0's rmsse: 0.814052\n",
      "Early stopping, best iteration is:\n",
      "[465]\tvalid_0's rmse: 7.7512\tvalid_0's rmsse: 0.813991\n"
     ]
    },
    {
     "name": "stderr",
     "output_type": "stream",
     "text": [
      "regularization_factors, val_score: 7.727309:  25%|##5       | 5/20 [39:19<1:58:00, 472.03s/it][I 2021-08-19 02:43:55,133] Trial 44 finished with value: 7.75120323209109 and parameters: {'lambda_l1': 0.01935508023413031, 'lambda_l2': 0.37156196848655276}. Best is trial 40 with value: 7.750713363999361.\n",
      "regularization_factors, val_score: 7.727309:  25%|##5       | 5/20 [39:19<1:58:00, 472.03s/it]"
     ]
    },
    {
     "name": "stdout",
     "output_type": "stream",
     "text": [
      "[LightGBM] [Warning] min_data_in_leaf is set=255, min_child_samples=20 will be ignored. Current value: min_data_in_leaf=255\n",
      "[LightGBM] [Warning] min_data_in_leaf is set=255, min_child_samples=20 will be ignored. Current value: min_data_in_leaf=255\n",
      "[LightGBM] [Info] Total Bins 2680\n",
      "[LightGBM] [Info] Number of data points in the train set: 7271333, number of used features: 17\n",
      "[LightGBM] [Warning] min_data_in_leaf is set=255, min_child_samples=20 will be ignored. Current value: min_data_in_leaf=255\n",
      "Training until validation scores don't improve for 30 rounds\n",
      "[50]\tvalid_0's rmse: 8.50665\tvalid_0's rmsse: 0.910335\n",
      "[100]\tvalid_0's rmse: 8.40448\tvalid_0's rmsse: 0.839962\n",
      "[150]\tvalid_0's rmse: 8.27332\tvalid_0's rmsse: 0.824433\n",
      "[200]\tvalid_0's rmse: 8.12641\tvalid_0's rmsse: 0.818344\n",
      "[LightGBM] [Warning] No further splits with positive gain, best gain: -inf\n",
      "[250]\tvalid_0's rmse: 7.9838\tvalid_0's rmsse: 0.815826\n",
      "[300]\tvalid_0's rmse: 7.88431\tvalid_0's rmsse: 0.814987\n",
      "[350]\tvalid_0's rmse: 7.82608\tvalid_0's rmsse: 0.814463\n",
      "[400]\tvalid_0's rmse: 7.77964\tvalid_0's rmsse: 0.814191\n",
      "[450]\tvalid_0's rmse: 7.75481\tvalid_0's rmsse: 0.814048\n",
      "Early stopping, best iteration is:\n",
      "[460]\tvalid_0's rmse: 7.7523\tvalid_0's rmsse: 0.813995\n"
     ]
    },
    {
     "name": "stderr",
     "output_type": "stream",
     "text": [
      "regularization_factors, val_score: 7.727309:  30%|###       | 6/20 [47:08<1:49:52, 470.88s/it][I 2021-08-19 02:51:43,779] Trial 45 finished with value: 7.75230132174442 and parameters: {'lambda_l1': 1.73546570020298e-08, 'lambda_l2': 0.0007089903871146229}. Best is trial 40 with value: 7.750713363999361.\n",
      "regularization_factors, val_score: 7.727309:  30%|###       | 6/20 [47:08<1:49:52, 470.88s/it]"
     ]
    },
    {
     "name": "stdout",
     "output_type": "stream",
     "text": [
      "[LightGBM] [Warning] min_data_in_leaf is set=255, min_child_samples=20 will be ignored. Current value: min_data_in_leaf=255\n",
      "[LightGBM] [Warning] min_data_in_leaf is set=255, min_child_samples=20 will be ignored. Current value: min_data_in_leaf=255\n",
      "[LightGBM] [Info] Total Bins 2680\n",
      "[LightGBM] [Info] Number of data points in the train set: 7271333, number of used features: 17\n",
      "[LightGBM] [Warning] min_data_in_leaf is set=255, min_child_samples=20 will be ignored. Current value: min_data_in_leaf=255\n",
      "Training until validation scores don't improve for 30 rounds\n",
      "[50]\tvalid_0's rmse: 8.50665\tvalid_0's rmsse: 0.910335\n",
      "[100]\tvalid_0's rmse: 8.40447\tvalid_0's rmsse: 0.839964\n",
      "[150]\tvalid_0's rmse: 8.27328\tvalid_0's rmsse: 0.824431\n",
      "[200]\tvalid_0's rmse: 8.12639\tvalid_0's rmsse: 0.818341\n",
      "[LightGBM] [Warning] No further splits with positive gain, best gain: -inf\n",
      "[250]\tvalid_0's rmse: 7.98376\tvalid_0's rmsse: 0.815819\n",
      "[300]\tvalid_0's rmse: 7.88462\tvalid_0's rmsse: 0.814982\n",
      "[350]\tvalid_0's rmse: 7.82644\tvalid_0's rmsse: 0.814456\n",
      "[400]\tvalid_0's rmse: 7.78014\tvalid_0's rmsse: 0.814196\n",
      "[450]\tvalid_0's rmse: 7.75551\tvalid_0's rmsse: 0.814048\n",
      "Early stopping, best iteration is:\n",
      "[465]\tvalid_0's rmse: 7.7515\tvalid_0's rmsse: 0.813996\n"
     ]
    },
    {
     "name": "stderr",
     "output_type": "stream",
     "text": [
      "regularization_factors, val_score: 7.727309:  35%|###5      | 7/20 [55:01<1:42:11, 471.65s/it][I 2021-08-19 02:59:37,022] Trial 46 finished with value: 7.751499168666324 and parameters: {'lambda_l1': 4.98975128844817e-08, 'lambda_l2': 0.07288814312941896}. Best is trial 40 with value: 7.750713363999361.\n",
      "regularization_factors, val_score: 7.727309:  35%|###5      | 7/20 [55:01<1:42:11, 471.65s/it]"
     ]
    },
    {
     "name": "stdout",
     "output_type": "stream",
     "text": [
      "[LightGBM] [Warning] min_data_in_leaf is set=255, min_child_samples=20 will be ignored. Current value: min_data_in_leaf=255\n",
      "[LightGBM] [Warning] min_data_in_leaf is set=255, min_child_samples=20 will be ignored. Current value: min_data_in_leaf=255\n",
      "[LightGBM] [Info] Total Bins 2680\n",
      "[LightGBM] [Info] Number of data points in the train set: 7271333, number of used features: 17\n",
      "[LightGBM] [Warning] min_data_in_leaf is set=255, min_child_samples=20 will be ignored. Current value: min_data_in_leaf=255\n",
      "Training until validation scores don't improve for 30 rounds\n",
      "[50]\tvalid_0's rmse: 8.50666\tvalid_0's rmsse: 0.910327\n",
      "[100]\tvalid_0's rmse: 8.40446\tvalid_0's rmsse: 0.839966\n",
      "[150]\tvalid_0's rmse: 8.27329\tvalid_0's rmsse: 0.824434\n",
      "[200]\tvalid_0's rmse: 8.12632\tvalid_0's rmsse: 0.818342\n",
      "[LightGBM] [Warning] No further splits with positive gain, best gain: -inf\n",
      "[250]\tvalid_0's rmse: 7.98373\tvalid_0's rmsse: 0.815818\n",
      "[300]\tvalid_0's rmse: 7.88408\tvalid_0's rmsse: 0.814981\n",
      "[350]\tvalid_0's rmse: 7.82571\tvalid_0's rmsse: 0.814456\n",
      "[400]\tvalid_0's rmse: 7.78016\tvalid_0's rmsse: 0.814181\n",
      "[450]\tvalid_0's rmse: 7.75533\tvalid_0's rmsse: 0.814036\n",
      "[500]\tvalid_0's rmse: 7.73922\tvalid_0's rmsse: 0.814\n",
      "[550]\tvalid_0's rmse: 7.73089\tvalid_0's rmsse: 0.813884\n",
      "Early stopping, best iteration is:\n",
      "[542]\tvalid_0's rmse: 7.73112\tvalid_0's rmsse: 0.813867\n"
     ]
    },
    {
     "name": "stderr",
     "output_type": "stream",
     "text": [
      "regularization_factors, val_score: 7.727309:  40%|####      | 8/20 [1:04:07<1:39:04, 495.38s/it][I 2021-08-19 03:08:43,210] Trial 47 finished with value: 7.731119821057842 and parameters: {'lambda_l1': 0.1517003854448622, 'lambda_l2': 0.14581600482651327}. Best is trial 47 with value: 7.731119821057842.\n",
      "regularization_factors, val_score: 7.727309:  40%|####      | 8/20 [1:04:07<1:39:04, 495.38s/it]"
     ]
    },
    {
     "name": "stdout",
     "output_type": "stream",
     "text": [
      "[LightGBM] [Warning] min_data_in_leaf is set=255, min_child_samples=20 will be ignored. Current value: min_data_in_leaf=255\n",
      "[LightGBM] [Warning] min_data_in_leaf is set=255, min_child_samples=20 will be ignored. Current value: min_data_in_leaf=255\n",
      "[LightGBM] [Info] Total Bins 2680\n",
      "[LightGBM] [Info] Number of data points in the train set: 7271333, number of used features: 17\n",
      "[LightGBM] [Warning] min_data_in_leaf is set=255, min_child_samples=20 will be ignored. Current value: min_data_in_leaf=255\n",
      "Training until validation scores don't improve for 30 rounds\n",
      "[50]\tvalid_0's rmse: 8.50664\tvalid_0's rmsse: 0.910347\n",
      "[100]\tvalid_0's rmse: 8.40444\tvalid_0's rmsse: 0.839965\n",
      "[150]\tvalid_0's rmse: 8.27325\tvalid_0's rmsse: 0.824433\n",
      "[200]\tvalid_0's rmse: 8.12627\tvalid_0's rmsse: 0.818341\n",
      "[LightGBM] [Warning] No further splits with positive gain, best gain: -inf\n",
      "[250]\tvalid_0's rmse: 7.98364\tvalid_0's rmsse: 0.81582\n",
      "[300]\tvalid_0's rmse: 7.88398\tvalid_0's rmsse: 0.814984\n",
      "[350]\tvalid_0's rmse: 7.82553\tvalid_0's rmsse: 0.814457\n",
      "[400]\tvalid_0's rmse: 7.78015\tvalid_0's rmsse: 0.814194\n",
      "[450]\tvalid_0's rmse: 7.75482\tvalid_0's rmsse: 0.81405\n",
      "Early stopping, best iteration is:\n",
      "[465]\tvalid_0's rmse: 7.75108\tvalid_0's rmsse: 0.814003\n"
     ]
    },
    {
     "name": "stderr",
     "output_type": "stream",
     "text": [
      "regularization_factors, val_score: 7.727309:  45%|####5     | 9/20 [1:12:01<1:29:34, 488.57s/it][I 2021-08-19 03:16:36,805] Trial 48 finished with value: 7.751081339984878 and parameters: {'lambda_l1': 0.08788516248415398, 'lambda_l2': 0.19690437740344305}. Best is trial 47 with value: 7.731119821057842.\n",
      "regularization_factors, val_score: 7.727309:  45%|####5     | 9/20 [1:12:01<1:29:34, 488.57s/it]"
     ]
    },
    {
     "name": "stdout",
     "output_type": "stream",
     "text": [
      "[LightGBM] [Warning] min_data_in_leaf is set=255, min_child_samples=20 will be ignored. Current value: min_data_in_leaf=255\n",
      "[LightGBM] [Warning] min_data_in_leaf is set=255, min_child_samples=20 will be ignored. Current value: min_data_in_leaf=255\n",
      "[LightGBM] [Info] Total Bins 2680\n",
      "[LightGBM] [Info] Number of data points in the train set: 7271333, number of used features: 17\n",
      "[LightGBM] [Warning] min_data_in_leaf is set=255, min_child_samples=20 will be ignored. Current value: min_data_in_leaf=255\n",
      "Training until validation scores don't improve for 30 rounds\n",
      "[50]\tvalid_0's rmse: 8.50667\tvalid_0's rmsse: 0.910318\n",
      "[100]\tvalid_0's rmse: 8.40447\tvalid_0's rmsse: 0.839962\n",
      "[150]\tvalid_0's rmse: 8.2733\tvalid_0's rmsse: 0.824433\n",
      "[200]\tvalid_0's rmse: 8.12637\tvalid_0's rmsse: 0.818344\n",
      "[LightGBM] [Warning] No further splits with positive gain, best gain: -inf\n",
      "[250]\tvalid_0's rmse: 7.98366\tvalid_0's rmsse: 0.815824\n",
      "[300]\tvalid_0's rmse: 7.88438\tvalid_0's rmsse: 0.814988\n",
      "[350]\tvalid_0's rmse: 7.82603\tvalid_0's rmsse: 0.814456\n",
      "[400]\tvalid_0's rmse: 7.78021\tvalid_0's rmsse: 0.814196\n",
      "[450]\tvalid_0's rmse: 7.7551\tvalid_0's rmsse: 0.814052\n",
      "Early stopping, best iteration is:\n",
      "[465]\tvalid_0's rmse: 7.75113\tvalid_0's rmsse: 0.814002\n"
     ]
    },
    {
     "name": "stderr",
     "output_type": "stream",
     "text": [
      "regularization_factors, val_score: 7.727309:  50%|#####     | 10/20 [1:19:54<1:20:39, 483.93s/it][I 2021-08-19 03:24:30,354] Trial 49 finished with value: 7.751130954152186 and parameters: {'lambda_l1': 6.865933991213978e-05, 'lambda_l2': 1.0001189554003526e-07}. Best is trial 47 with value: 7.731119821057842.\n",
      "regularization_factors, val_score: 7.727309:  50%|#####     | 10/20 [1:19:54<1:20:39, 483.93s/it]"
     ]
    },
    {
     "name": "stdout",
     "output_type": "stream",
     "text": [
      "[LightGBM] [Warning] min_data_in_leaf is set=255, min_child_samples=20 will be ignored. Current value: min_data_in_leaf=255\n",
      "[LightGBM] [Warning] min_data_in_leaf is set=255, min_child_samples=20 will be ignored. Current value: min_data_in_leaf=255\n",
      "[LightGBM] [Info] Total Bins 2680\n",
      "[LightGBM] [Info] Number of data points in the train set: 7271333, number of used features: 17\n",
      "[LightGBM] [Warning] min_data_in_leaf is set=255, min_child_samples=20 will be ignored. Current value: min_data_in_leaf=255\n",
      "Training until validation scores don't improve for 30 rounds\n",
      "[50]\tvalid_0's rmse: 8.50667\tvalid_0's rmsse: 0.910331\n",
      "[100]\tvalid_0's rmse: 8.40446\tvalid_0's rmsse: 0.839958\n",
      "[150]\tvalid_0's rmse: 8.27327\tvalid_0's rmsse: 0.824438\n",
      "[200]\tvalid_0's rmse: 8.12644\tvalid_0's rmsse: 0.818348\n",
      "[LightGBM] [Warning] No further splits with positive gain, best gain: -inf\n",
      "[250]\tvalid_0's rmse: 7.98393\tvalid_0's rmsse: 0.81583\n",
      "[300]\tvalid_0's rmse: 7.88498\tvalid_0's rmsse: 0.815002\n",
      "[350]\tvalid_0's rmse: 7.8271\tvalid_0's rmsse: 0.814468\n",
      "[400]\tvalid_0's rmse: 7.78056\tvalid_0's rmsse: 0.814194\n",
      "[450]\tvalid_0's rmse: 7.75583\tvalid_0's rmsse: 0.814042\n",
      "[500]\tvalid_0's rmse: 7.73926\tvalid_0's rmsse: 0.814001\n",
      "[550]\tvalid_0's rmse: 7.72943\tvalid_0's rmsse: 0.813876\n",
      "[600]\tvalid_0's rmse: 7.72373\tvalid_0's rmsse: 0.813863\n",
      "Early stopping, best iteration is:\n",
      "[584]\tvalid_0's rmse: 7.726\tvalid_0's rmsse: 0.813829\n"
     ]
    },
    {
     "name": "stderr",
     "output_type": "stream",
     "text": [
      "regularization_factors, val_score: 7.726004:  55%|#####5    | 11/20 [1:29:37<1:17:05, 514.00s/it][I 2021-08-19 03:34:12,525] Trial 50 finished with value: 7.726003926865675 and parameters: {'lambda_l1': 2.042493561822094, 'lambda_l2': 0.002173820192013553}. Best is trial 50 with value: 7.726003926865675.\n",
      "regularization_factors, val_score: 7.726004:  55%|#####5    | 11/20 [1:29:37<1:17:05, 514.00s/it]"
     ]
    },
    {
     "name": "stdout",
     "output_type": "stream",
     "text": [
      "[LightGBM] [Warning] min_data_in_leaf is set=255, min_child_samples=20 will be ignored. Current value: min_data_in_leaf=255\n",
      "[LightGBM] [Warning] min_data_in_leaf is set=255, min_child_samples=20 will be ignored. Current value: min_data_in_leaf=255\n",
      "[LightGBM] [Info] Total Bins 2680\n",
      "[LightGBM] [Info] Number of data points in the train set: 7271333, number of used features: 17\n",
      "[LightGBM] [Warning] min_data_in_leaf is set=255, min_child_samples=20 will be ignored. Current value: min_data_in_leaf=255\n",
      "Training until validation scores don't improve for 30 rounds\n",
      "[50]\tvalid_0's rmse: 8.50667\tvalid_0's rmsse: 0.910313\n",
      "[100]\tvalid_0's rmse: 8.40449\tvalid_0's rmsse: 0.839948\n",
      "[150]\tvalid_0's rmse: 8.27325\tvalid_0's rmsse: 0.824431\n",
      "[200]\tvalid_0's rmse: 8.1265\tvalid_0's rmsse: 0.81834\n",
      "[LightGBM] [Warning] No further splits with positive gain, best gain: -inf\n",
      "[250]\tvalid_0's rmse: 7.98387\tvalid_0's rmsse: 0.815829\n",
      "[300]\tvalid_0's rmse: 7.88442\tvalid_0's rmsse: 0.814996\n",
      "[350]\tvalid_0's rmse: 7.8261\tvalid_0's rmsse: 0.814472\n",
      "[400]\tvalid_0's rmse: 7.7798\tvalid_0's rmsse: 0.814207\n",
      "[450]\tvalid_0's rmse: 7.75443\tvalid_0's rmsse: 0.814059\n",
      "Early stopping, best iteration is:\n",
      "[460]\tvalid_0's rmse: 7.7517\tvalid_0's rmsse: 0.814006\n"
     ]
    },
    {
     "name": "stderr",
     "output_type": "stream",
     "text": [
      "regularization_factors, val_score: 7.726004:  60%|######    | 12/20 [1:37:23<1:06:37, 499.68s/it][I 2021-08-19 03:41:59,462] Trial 51 finished with value: 7.751703185181519 and parameters: {'lambda_l1': 8.245973836778003, 'lambda_l2': 0.004685627046687603}. Best is trial 50 with value: 7.726003926865675.\n",
      "regularization_factors, val_score: 7.726004:  60%|######    | 12/20 [1:37:24<1:06:37, 499.68s/it]"
     ]
    },
    {
     "name": "stdout",
     "output_type": "stream",
     "text": [
      "[LightGBM] [Warning] min_data_in_leaf is set=255, min_child_samples=20 will be ignored. Current value: min_data_in_leaf=255\n",
      "[LightGBM] [Warning] min_data_in_leaf is set=255, min_child_samples=20 will be ignored. Current value: min_data_in_leaf=255\n",
      "[LightGBM] [Info] Total Bins 2680\n",
      "[LightGBM] [Info] Number of data points in the train set: 7271333, number of used features: 17\n",
      "[LightGBM] [Warning] min_data_in_leaf is set=255, min_child_samples=20 will be ignored. Current value: min_data_in_leaf=255\n",
      "Training until validation scores don't improve for 30 rounds\n",
      "[50]\tvalid_0's rmse: 8.50667\tvalid_0's rmsse: 0.910336\n",
      "[100]\tvalid_0's rmse: 8.40447\tvalid_0's rmsse: 0.839967\n",
      "[150]\tvalid_0's rmse: 8.27329\tvalid_0's rmsse: 0.824433\n",
      "[200]\tvalid_0's rmse: 8.12649\tvalid_0's rmsse: 0.818345\n",
      "[LightGBM] [Warning] No further splits with positive gain, best gain: -inf\n",
      "[250]\tvalid_0's rmse: 7.98392\tvalid_0's rmsse: 0.815827\n",
      "[300]\tvalid_0's rmse: 7.88468\tvalid_0's rmsse: 0.814993\n",
      "[350]\tvalid_0's rmse: 7.82619\tvalid_0's rmsse: 0.814468\n",
      "[400]\tvalid_0's rmse: 7.77992\tvalid_0's rmsse: 0.81421\n",
      "[450]\tvalid_0's rmse: 7.75525\tvalid_0's rmsse: 0.814058\n",
      "Early stopping, best iteration is:\n",
      "[465]\tvalid_0's rmse: 7.75094\tvalid_0's rmsse: 0.814006\n"
     ]
    },
    {
     "name": "stderr",
     "output_type": "stream",
     "text": [
      "regularization_factors, val_score: 7.726004:  65%|######5   | 13/20 [1:45:18<57:23, 491.95s/it]  [I 2021-08-19 03:49:53,609] Trial 52 finished with value: 7.7509372345922145 and parameters: {'lambda_l1': 7.183511960522593, 'lambda_l2': 0.006044534567513908}. Best is trial 50 with value: 7.726003926865675.\n",
      "regularization_factors, val_score: 7.726004:  65%|######5   | 13/20 [1:45:18<57:23, 491.95s/it]"
     ]
    },
    {
     "name": "stdout",
     "output_type": "stream",
     "text": [
      "[LightGBM] [Warning] min_data_in_leaf is set=255, min_child_samples=20 will be ignored. Current value: min_data_in_leaf=255\n",
      "[LightGBM] [Warning] min_data_in_leaf is set=255, min_child_samples=20 will be ignored. Current value: min_data_in_leaf=255\n",
      "[LightGBM] [Info] Total Bins 2680\n",
      "[LightGBM] [Info] Number of data points in the train set: 7271333, number of used features: 17\n",
      "[LightGBM] [Warning] min_data_in_leaf is set=255, min_child_samples=20 will be ignored. Current value: min_data_in_leaf=255\n",
      "Training until validation scores don't improve for 30 rounds\n",
      "[50]\tvalid_0's rmse: 8.50666\tvalid_0's rmsse: 0.910338\n",
      "[100]\tvalid_0's rmse: 8.40448\tvalid_0's rmsse: 0.839958\n",
      "[150]\tvalid_0's rmse: 8.27332\tvalid_0's rmsse: 0.824431\n",
      "[200]\tvalid_0's rmse: 8.12667\tvalid_0's rmsse: 0.818348\n",
      "[LightGBM] [Warning] No further splits with positive gain, best gain: -inf\n",
      "[250]\tvalid_0's rmse: 7.98403\tvalid_0's rmsse: 0.815832\n",
      "[300]\tvalid_0's rmse: 7.88419\tvalid_0's rmsse: 0.814998\n",
      "[350]\tvalid_0's rmse: 7.8259\tvalid_0's rmsse: 0.814473\n",
      "[400]\tvalid_0's rmse: 7.77852\tvalid_0's rmsse: 0.814203\n",
      "[450]\tvalid_0's rmse: 7.75368\tvalid_0's rmsse: 0.814057\n",
      "Early stopping, best iteration is:\n",
      "[465]\tvalid_0's rmse: 7.74988\tvalid_0's rmsse: 0.814001\n"
     ]
    },
    {
     "name": "stderr",
     "output_type": "stream",
     "text": [
      "regularization_factors, val_score: 7.726004:  70%|#######   | 14/20 [1:53:11<48:38, 486.46s/it][I 2021-08-19 03:57:47,372] Trial 53 finished with value: 7.749883149671748 and parameters: {'lambda_l1': 0.01118611609848925, 'lambda_l2': 9.863129207240663}. Best is trial 50 with value: 7.726003926865675.\n",
      "regularization_factors, val_score: 7.726004:  70%|#######   | 14/20 [1:53:11<48:38, 486.46s/it]"
     ]
    },
    {
     "name": "stdout",
     "output_type": "stream",
     "text": [
      "[LightGBM] [Warning] min_data_in_leaf is set=255, min_child_samples=20 will be ignored. Current value: min_data_in_leaf=255\n",
      "[LightGBM] [Warning] min_data_in_leaf is set=255, min_child_samples=20 will be ignored. Current value: min_data_in_leaf=255\n",
      "[LightGBM] [Info] Total Bins 2680\n",
      "[LightGBM] [Info] Number of data points in the train set: 7271333, number of used features: 17\n",
      "[LightGBM] [Warning] min_data_in_leaf is set=255, min_child_samples=20 will be ignored. Current value: min_data_in_leaf=255\n",
      "Training until validation scores don't improve for 30 rounds\n",
      "[50]\tvalid_0's rmse: 8.50666\tvalid_0's rmsse: 0.910328\n",
      "[100]\tvalid_0's rmse: 8.40447\tvalid_0's rmsse: 0.839963\n",
      "[150]\tvalid_0's rmse: 8.27324\tvalid_0's rmsse: 0.824434\n",
      "[200]\tvalid_0's rmse: 8.12649\tvalid_0's rmsse: 0.818348\n",
      "[LightGBM] [Warning] No further splits with positive gain, best gain: -inf\n",
      "[250]\tvalid_0's rmse: 7.984\tvalid_0's rmsse: 0.815826\n",
      "[300]\tvalid_0's rmse: 7.88444\tvalid_0's rmsse: 0.815006\n",
      "[350]\tvalid_0's rmse: 7.82611\tvalid_0's rmsse: 0.814469\n",
      "[400]\tvalid_0's rmse: 7.78052\tvalid_0's rmsse: 0.814208\n",
      "[450]\tvalid_0's rmse: 7.75575\tvalid_0's rmsse: 0.814058\n",
      "Early stopping, best iteration is:\n",
      "[460]\tvalid_0's rmse: 7.75328\tvalid_0's rmsse: 0.814013\n"
     ]
    },
    {
     "name": "stderr",
     "output_type": "stream",
     "text": [
      "regularization_factors, val_score: 7.726004:  75%|#######5  | 15/20 [2:01:02<40:08, 481.65s/it][I 2021-08-19 04:05:37,894] Trial 54 finished with value: 7.753276405080595 and parameters: {'lambda_l1': 0.8186756148825726, 'lambda_l2': 8.44360105212944e-05}. Best is trial 50 with value: 7.726003926865675.\n",
      "regularization_factors, val_score: 7.726004:  75%|#######5  | 15/20 [2:01:02<40:08, 481.65s/it]"
     ]
    },
    {
     "name": "stdout",
     "output_type": "stream",
     "text": [
      "[LightGBM] [Warning] min_data_in_leaf is set=255, min_child_samples=20 will be ignored. Current value: min_data_in_leaf=255\n",
      "[LightGBM] [Warning] min_data_in_leaf is set=255, min_child_samples=20 will be ignored. Current value: min_data_in_leaf=255\n",
      "[LightGBM] [Info] Total Bins 2680\n",
      "[LightGBM] [Info] Number of data points in the train set: 7271333, number of used features: 17\n",
      "[LightGBM] [Warning] min_data_in_leaf is set=255, min_child_samples=20 will be ignored. Current value: min_data_in_leaf=255\n",
      "Training until validation scores don't improve for 30 rounds\n",
      "[50]\tvalid_0's rmse: 8.50667\tvalid_0's rmsse: 0.910307\n",
      "[100]\tvalid_0's rmse: 8.40448\tvalid_0's rmsse: 0.83996\n",
      "[150]\tvalid_0's rmse: 8.27331\tvalid_0's rmsse: 0.824431\n",
      "[200]\tvalid_0's rmse: 8.1264\tvalid_0's rmsse: 0.818342\n",
      "[LightGBM] [Warning] No further splits with positive gain, best gain: -inf\n",
      "[250]\tvalid_0's rmse: 7.98368\tvalid_0's rmsse: 0.815822\n",
      "[300]\tvalid_0's rmse: 7.8844\tvalid_0's rmsse: 0.814986\n",
      "[350]\tvalid_0's rmse: 7.82607\tvalid_0's rmsse: 0.814454\n",
      "[400]\tvalid_0's rmse: 7.78024\tvalid_0's rmsse: 0.814194\n",
      "[450]\tvalid_0's rmse: 7.75513\tvalid_0's rmsse: 0.81405\n",
      "Early stopping, best iteration is:\n",
      "[465]\tvalid_0's rmse: 7.75116\tvalid_0's rmsse: 0.813999\n"
     ]
    },
    {
     "name": "stderr",
     "output_type": "stream",
     "text": [
      "regularization_factors, val_score: 7.726004:  80%|########  | 16/20 [2:08:54<31:55, 478.81s/it][I 2021-08-19 04:13:30,096] Trial 55 finished with value: 7.751159755005103 and parameters: {'lambda_l1': 1.231676882738541e-05, 'lambda_l2': 1.4161768454588605e-06}. Best is trial 50 with value: 7.726003926865675.\n",
      "regularization_factors, val_score: 7.726004:  80%|########  | 16/20 [2:08:54<31:55, 478.81s/it]"
     ]
    },
    {
     "name": "stdout",
     "output_type": "stream",
     "text": [
      "[LightGBM] [Warning] min_data_in_leaf is set=255, min_child_samples=20 will be ignored. Current value: min_data_in_leaf=255\n",
      "[LightGBM] [Warning] min_data_in_leaf is set=255, min_child_samples=20 will be ignored. Current value: min_data_in_leaf=255\n",
      "[LightGBM] [Info] Total Bins 2680\n",
      "[LightGBM] [Info] Number of data points in the train set: 7271333, number of used features: 17\n",
      "[LightGBM] [Warning] min_data_in_leaf is set=255, min_child_samples=20 will be ignored. Current value: min_data_in_leaf=255\n",
      "Training until validation scores don't improve for 30 rounds\n",
      "[50]\tvalid_0's rmse: 8.50665\tvalid_0's rmsse: 0.910342\n",
      "[100]\tvalid_0's rmse: 8.40445\tvalid_0's rmsse: 0.839968\n",
      "[150]\tvalid_0's rmse: 8.27328\tvalid_0's rmsse: 0.824434\n",
      "[200]\tvalid_0's rmse: 8.12631\tvalid_0's rmsse: 0.818345\n",
      "[LightGBM] [Warning] No further splits with positive gain, best gain: -inf\n",
      "[250]\tvalid_0's rmse: 7.9835\tvalid_0's rmsse: 0.815823\n",
      "[300]\tvalid_0's rmse: 7.88373\tvalid_0's rmsse: 0.814985\n",
      "[350]\tvalid_0's rmse: 7.82567\tvalid_0's rmsse: 0.814456\n",
      "[400]\tvalid_0's rmse: 7.77882\tvalid_0's rmsse: 0.814196\n",
      "[450]\tvalid_0's rmse: 7.75403\tvalid_0's rmsse: 0.814049\n",
      "[500]\tvalid_0's rmse: 7.73795\tvalid_0's rmsse: 0.814009\n",
      "[550]\tvalid_0's rmse: 7.72898\tvalid_0's rmsse: 0.813881\n",
      "Early stopping, best iteration is:\n",
      "[542]\tvalid_0's rmse: 7.73056\tvalid_0's rmsse: 0.813867\n"
     ]
    },
    {
     "name": "stderr",
     "output_type": "stream",
     "text": [
      "regularization_factors, val_score: 7.726004:  85%|########5 | 17/20 [2:17:56<24:53, 497.91s/it][I 2021-08-19 04:22:32,435] Trial 56 finished with value: 7.730557417290487 and parameters: {'lambda_l1': 0.0063815382639318555, 'lambda_l2': 0.007834874879635889}. Best is trial 50 with value: 7.726003926865675.\n",
      "regularization_factors, val_score: 7.726004:  85%|########5 | 17/20 [2:17:57<24:53, 497.91s/it]"
     ]
    },
    {
     "name": "stdout",
     "output_type": "stream",
     "text": [
      "[LightGBM] [Warning] min_data_in_leaf is set=255, min_child_samples=20 will be ignored. Current value: min_data_in_leaf=255\n",
      "[LightGBM] [Warning] min_data_in_leaf is set=255, min_child_samples=20 will be ignored. Current value: min_data_in_leaf=255\n",
      "[LightGBM] [Info] Total Bins 2680\n",
      "[LightGBM] [Info] Number of data points in the train set: 7271333, number of used features: 17\n",
      "[LightGBM] [Warning] min_data_in_leaf is set=255, min_child_samples=20 will be ignored. Current value: min_data_in_leaf=255\n",
      "Training until validation scores don't improve for 30 rounds\n",
      "[50]\tvalid_0's rmse: 8.50665\tvalid_0's rmsse: 0.910331\n",
      "[100]\tvalid_0's rmse: 8.40446\tvalid_0's rmsse: 0.839962\n",
      "[150]\tvalid_0's rmse: 8.27329\tvalid_0's rmsse: 0.824431\n",
      "[200]\tvalid_0's rmse: 8.12633\tvalid_0's rmsse: 0.818341\n",
      "[LightGBM] [Warning] No further splits with positive gain, best gain: -inf\n",
      "[250]\tvalid_0's rmse: 7.98351\tvalid_0's rmsse: 0.815821\n",
      "[300]\tvalid_0's rmse: 7.88373\tvalid_0's rmsse: 0.814982\n",
      "[350]\tvalid_0's rmse: 7.82577\tvalid_0's rmsse: 0.814457\n",
      "[400]\tvalid_0's rmse: 7.77905\tvalid_0's rmsse: 0.814197\n",
      "[450]\tvalid_0's rmse: 7.75445\tvalid_0's rmsse: 0.814051\n",
      "Early stopping, best iteration is:\n",
      "[465]\tvalid_0's rmse: 7.75062\tvalid_0's rmsse: 0.814008\n"
     ]
    },
    {
     "name": "stderr",
     "output_type": "stream",
     "text": [
      "regularization_factors, val_score: 7.726004:  90%|######### | 18/20 [2:25:46<16:18, 489.42s/it][I 2021-08-19 04:30:22,087] Trial 57 finished with value: 7.7506239226861915 and parameters: {'lambda_l1': 0.0046380823746394306, 'lambda_l2': 0.0015731880008684617}. Best is trial 50 with value: 7.726003926865675.\n",
      "regularization_factors, val_score: 7.726004:  90%|######### | 18/20 [2:25:46<16:18, 489.42s/it]"
     ]
    },
    {
     "name": "stdout",
     "output_type": "stream",
     "text": [
      "[LightGBM] [Warning] min_data_in_leaf is set=255, min_child_samples=20 will be ignored. Current value: min_data_in_leaf=255\n",
      "[LightGBM] [Warning] min_data_in_leaf is set=255, min_child_samples=20 will be ignored. Current value: min_data_in_leaf=255\n",
      "[LightGBM] [Info] Total Bins 2680\n",
      "[LightGBM] [Info] Number of data points in the train set: 7271333, number of used features: 17\n",
      "[LightGBM] [Warning] min_data_in_leaf is set=255, min_child_samples=20 will be ignored. Current value: min_data_in_leaf=255\n",
      "Training until validation scores don't improve for 30 rounds\n",
      "[50]\tvalid_0's rmse: 8.50666\tvalid_0's rmsse: 0.910333\n",
      "[100]\tvalid_0's rmse: 8.40447\tvalid_0's rmsse: 0.839963\n",
      "[150]\tvalid_0's rmse: 8.27331\tvalid_0's rmsse: 0.824432\n",
      "[200]\tvalid_0's rmse: 8.12635\tvalid_0's rmsse: 0.818343\n",
      "[LightGBM] [Warning] No further splits with positive gain, best gain: -inf\n",
      "[250]\tvalid_0's rmse: 7.98355\tvalid_0's rmsse: 0.815821\n",
      "[300]\tvalid_0's rmse: 7.88378\tvalid_0's rmsse: 0.81498\n",
      "[350]\tvalid_0's rmse: 7.82572\tvalid_0's rmsse: 0.814452\n",
      "[400]\tvalid_0's rmse: 7.77905\tvalid_0's rmsse: 0.81419\n",
      "[450]\tvalid_0's rmse: 7.7548\tvalid_0's rmsse: 0.814046\n",
      "Early stopping, best iteration is:\n",
      "[465]\tvalid_0's rmse: 7.75087\tvalid_0's rmsse: 0.81399\n"
     ]
    },
    {
     "name": "stderr",
     "output_type": "stream",
     "text": [
      "regularization_factors, val_score: 7.726004:  95%|#########5| 19/20 [2:33:36<08:03, 483.43s/it][I 2021-08-19 04:38:11,557] Trial 58 finished with value: 7.750874734921637 and parameters: {'lambda_l1': 3.6638460690334575e-06, 'lambda_l2': 0.012583117614277457}. Best is trial 50 with value: 7.726003926865675.\n",
      "regularization_factors, val_score: 7.726004:  95%|#########5| 19/20 [2:33:36<08:03, 483.43s/it]"
     ]
    },
    {
     "name": "stdout",
     "output_type": "stream",
     "text": [
      "[LightGBM] [Warning] min_data_in_leaf is set=255, min_child_samples=20 will be ignored. Current value: min_data_in_leaf=255\n",
      "[LightGBM] [Warning] min_data_in_leaf is set=255, min_child_samples=20 will be ignored. Current value: min_data_in_leaf=255\n",
      "[LightGBM] [Info] Total Bins 2680\n",
      "[LightGBM] [Info] Number of data points in the train set: 7271333, number of used features: 17\n",
      "[LightGBM] [Warning] min_data_in_leaf is set=255, min_child_samples=20 will be ignored. Current value: min_data_in_leaf=255\n",
      "Training until validation scores don't improve for 30 rounds\n",
      "[50]\tvalid_0's rmse: 8.50665\tvalid_0's rmsse: 0.91033\n",
      "[100]\tvalid_0's rmse: 8.40446\tvalid_0's rmsse: 0.839963\n",
      "[150]\tvalid_0's rmse: 8.27326\tvalid_0's rmsse: 0.824428\n",
      "[200]\tvalid_0's rmse: 8.12628\tvalid_0's rmsse: 0.818338\n",
      "[LightGBM] [Warning] No further splits with positive gain, best gain: -inf\n",
      "[250]\tvalid_0's rmse: 7.98346\tvalid_0's rmsse: 0.815817\n",
      "[300]\tvalid_0's rmse: 7.88367\tvalid_0's rmsse: 0.814979\n",
      "[350]\tvalid_0's rmse: 7.82573\tvalid_0's rmsse: 0.814453\n",
      "[400]\tvalid_0's rmse: 7.77886\tvalid_0's rmsse: 0.814194\n",
      "[450]\tvalid_0's rmse: 7.75399\tvalid_0's rmsse: 0.814056\n",
      "Early stopping, best iteration is:\n",
      "[465]\tvalid_0's rmse: 7.75008\tvalid_0's rmsse: 0.814008\n"
     ]
    },
    {
     "name": "stderr",
     "output_type": "stream",
     "text": [
      "regularization_factors, val_score: 7.726004: 100%|##########| 20/20 [2:41:25<00:00, 479.28s/it][I 2021-08-19 04:46:01,152] Trial 59 finished with value: 7.750079922311778 and parameters: {'lambda_l1': 0.00289595128193562, 'lambda_l2': 0.00022455672999055682}. Best is trial 50 with value: 7.726003926865675.\n",
      "regularization_factors, val_score: 7.726004: 100%|##########| 20/20 [2:41:25<00:00, 484.29s/it]\n",
      "min_data_in_leaf, val_score: 7.726004:   0%|          | 0/5 [00:00<?, ?it/s]"
     ]
    },
    {
     "name": "stdout",
     "output_type": "stream",
     "text": [
      "[LightGBM] [Warning] min_data_in_leaf is set=255, min_child_samples=50 will be ignored. Current value: min_data_in_leaf=255\n",
      "[LightGBM] [Warning] min_data_in_leaf is set=255, min_child_samples=50 will be ignored. Current value: min_data_in_leaf=255\n",
      "[LightGBM] [Info] Total Bins 2680\n",
      "[LightGBM] [Info] Number of data points in the train set: 7271333, number of used features: 17\n",
      "[LightGBM] [Warning] min_data_in_leaf is set=255, min_child_samples=50 will be ignored. Current value: min_data_in_leaf=255\n",
      "Training until validation scores don't improve for 30 rounds\n",
      "[50]\tvalid_0's rmse: 8.50667\tvalid_0's rmsse: 0.910331\n",
      "[100]\tvalid_0's rmse: 8.40446\tvalid_0's rmsse: 0.839958\n",
      "[150]\tvalid_0's rmse: 8.27327\tvalid_0's rmsse: 0.824438\n",
      "[200]\tvalid_0's rmse: 8.12644\tvalid_0's rmsse: 0.818348\n",
      "[LightGBM] [Warning] No further splits with positive gain, best gain: -inf\n",
      "[250]\tvalid_0's rmse: 7.98393\tvalid_0's rmsse: 0.81583\n",
      "[300]\tvalid_0's rmse: 7.88498\tvalid_0's rmsse: 0.815002\n",
      "[350]\tvalid_0's rmse: 7.8271\tvalid_0's rmsse: 0.814468\n",
      "[400]\tvalid_0's rmse: 7.78056\tvalid_0's rmsse: 0.814194\n",
      "[450]\tvalid_0's rmse: 7.75583\tvalid_0's rmsse: 0.814042\n",
      "[500]\tvalid_0's rmse: 7.73926\tvalid_0's rmsse: 0.814001\n",
      "[550]\tvalid_0's rmse: 7.72943\tvalid_0's rmsse: 0.813876\n",
      "[600]\tvalid_0's rmse: 7.72373\tvalid_0's rmsse: 0.813863\n",
      "Early stopping, best iteration is:\n",
      "[584]\tvalid_0's rmse: 7.726\tvalid_0's rmsse: 0.813829\n"
     ]
    },
    {
     "name": "stderr",
     "output_type": "stream",
     "text": [
      "min_data_in_leaf, val_score: 7.726004:  20%|##        | 1/5 [09:38<38:33, 578.41s/it][I 2021-08-19 04:55:39,626] Trial 60 finished with value: 7.726003926865675 and parameters: {'min_child_samples': 50}. Best is trial 60 with value: 7.726003926865675.\n",
      "min_data_in_leaf, val_score: 7.726004:  20%|##        | 1/5 [09:38<38:33, 578.41s/it]"
     ]
    },
    {
     "name": "stdout",
     "output_type": "stream",
     "text": [
      "[LightGBM] [Warning] min_data_in_leaf is set=255, min_child_samples=25 will be ignored. Current value: min_data_in_leaf=255\n",
      "[LightGBM] [Warning] min_data_in_leaf is set=255, min_child_samples=25 will be ignored. Current value: min_data_in_leaf=255\n",
      "[LightGBM] [Info] Total Bins 2680\n",
      "[LightGBM] [Info] Number of data points in the train set: 7271333, number of used features: 17\n",
      "[LightGBM] [Warning] min_data_in_leaf is set=255, min_child_samples=25 will be ignored. Current value: min_data_in_leaf=255\n",
      "Training until validation scores don't improve for 30 rounds\n",
      "[50]\tvalid_0's rmse: 8.50667\tvalid_0's rmsse: 0.910331\n",
      "[100]\tvalid_0's rmse: 8.40446\tvalid_0's rmsse: 0.839958\n",
      "[150]\tvalid_0's rmse: 8.27327\tvalid_0's rmsse: 0.824438\n",
      "[200]\tvalid_0's rmse: 8.12644\tvalid_0's rmsse: 0.818348\n",
      "[LightGBM] [Warning] No further splits with positive gain, best gain: -inf\n",
      "[250]\tvalid_0's rmse: 7.98393\tvalid_0's rmsse: 0.81583\n",
      "[300]\tvalid_0's rmse: 7.88498\tvalid_0's rmsse: 0.815002\n",
      "[350]\tvalid_0's rmse: 7.8271\tvalid_0's rmsse: 0.814468\n",
      "[400]\tvalid_0's rmse: 7.78056\tvalid_0's rmsse: 0.814194\n",
      "[450]\tvalid_0's rmse: 7.75583\tvalid_0's rmsse: 0.814042\n",
      "[500]\tvalid_0's rmse: 7.73926\tvalid_0's rmsse: 0.814001\n",
      "[550]\tvalid_0's rmse: 7.72943\tvalid_0's rmsse: 0.813876\n",
      "[600]\tvalid_0's rmse: 7.72373\tvalid_0's rmsse: 0.813863\n",
      "Early stopping, best iteration is:\n",
      "[584]\tvalid_0's rmse: 7.726\tvalid_0's rmsse: 0.813829\n"
     ]
    },
    {
     "name": "stderr",
     "output_type": "stream",
     "text": [
      "min_data_in_leaf, val_score: 7.726004:  40%|####      | 2/5 [19:17<28:57, 579.02s/it][I 2021-08-19 05:05:19,067] Trial 61 finished with value: 7.726003926865675 and parameters: {'min_child_samples': 25}. Best is trial 60 with value: 7.726003926865675.\n",
      "min_data_in_leaf, val_score: 7.726004:  40%|####      | 2/5 [19:17<28:57, 579.02s/it]"
     ]
    },
    {
     "name": "stdout",
     "output_type": "stream",
     "text": [
      "[LightGBM] [Warning] min_data_in_leaf is set=255, min_child_samples=10 will be ignored. Current value: min_data_in_leaf=255\n",
      "[LightGBM] [Warning] min_data_in_leaf is set=255, min_child_samples=10 will be ignored. Current value: min_data_in_leaf=255\n",
      "[LightGBM] [Info] Total Bins 2680\n",
      "[LightGBM] [Info] Number of data points in the train set: 7271333, number of used features: 17\n",
      "[LightGBM] [Warning] min_data_in_leaf is set=255, min_child_samples=10 will be ignored. Current value: min_data_in_leaf=255\n",
      "Training until validation scores don't improve for 30 rounds\n",
      "[50]\tvalid_0's rmse: 8.50667\tvalid_0's rmsse: 0.910331\n",
      "[100]\tvalid_0's rmse: 8.40446\tvalid_0's rmsse: 0.839958\n",
      "[150]\tvalid_0's rmse: 8.27327\tvalid_0's rmsse: 0.824438\n",
      "[200]\tvalid_0's rmse: 8.12644\tvalid_0's rmsse: 0.818348\n",
      "[LightGBM] [Warning] No further splits with positive gain, best gain: -inf\n",
      "[250]\tvalid_0's rmse: 7.98393\tvalid_0's rmsse: 0.81583\n",
      "[300]\tvalid_0's rmse: 7.88498\tvalid_0's rmsse: 0.815002\n",
      "[350]\tvalid_0's rmse: 7.8271\tvalid_0's rmsse: 0.814468\n",
      "[400]\tvalid_0's rmse: 7.78056\tvalid_0's rmsse: 0.814194\n",
      "[450]\tvalid_0's rmse: 7.75583\tvalid_0's rmsse: 0.814042\n",
      "[500]\tvalid_0's rmse: 7.73926\tvalid_0's rmsse: 0.814001\n",
      "[550]\tvalid_0's rmse: 7.72943\tvalid_0's rmsse: 0.813876\n",
      "[600]\tvalid_0's rmse: 7.72373\tvalid_0's rmsse: 0.813863\n",
      "Early stopping, best iteration is:\n",
      "[584]\tvalid_0's rmse: 7.726\tvalid_0's rmsse: 0.813829\n"
     ]
    },
    {
     "name": "stderr",
     "output_type": "stream",
     "text": [
      "min_data_in_leaf, val_score: 7.726004:  60%|######    | 3/5 [28:58<19:19, 579.77s/it][I 2021-08-19 05:14:59,728] Trial 62 finished with value: 7.726003926865675 and parameters: {'min_child_samples': 10}. Best is trial 60 with value: 7.726003926865675.\n",
      "min_data_in_leaf, val_score: 7.726004:  60%|######    | 3/5 [28:58<19:19, 579.77s/it]"
     ]
    },
    {
     "name": "stdout",
     "output_type": "stream",
     "text": [
      "[LightGBM] [Warning] min_data_in_leaf is set=255, min_child_samples=100 will be ignored. Current value: min_data_in_leaf=255\n",
      "[LightGBM] [Warning] min_data_in_leaf is set=255, min_child_samples=100 will be ignored. Current value: min_data_in_leaf=255\n",
      "[LightGBM] [Info] Total Bins 2680\n",
      "[LightGBM] [Info] Number of data points in the train set: 7271333, number of used features: 17\n",
      "[LightGBM] [Warning] min_data_in_leaf is set=255, min_child_samples=100 will be ignored. Current value: min_data_in_leaf=255\n",
      "Training until validation scores don't improve for 30 rounds\n",
      "[50]\tvalid_0's rmse: 8.50667\tvalid_0's rmsse: 0.910331\n",
      "[100]\tvalid_0's rmse: 8.40446\tvalid_0's rmsse: 0.839958\n",
      "[150]\tvalid_0's rmse: 8.27327\tvalid_0's rmsse: 0.824438\n",
      "[200]\tvalid_0's rmse: 8.12644\tvalid_0's rmsse: 0.818348\n",
      "[LightGBM] [Warning] No further splits with positive gain, best gain: -inf\n",
      "[250]\tvalid_0's rmse: 7.98393\tvalid_0's rmsse: 0.81583\n",
      "[300]\tvalid_0's rmse: 7.88498\tvalid_0's rmsse: 0.815002\n",
      "[350]\tvalid_0's rmse: 7.8271\tvalid_0's rmsse: 0.814468\n",
      "[400]\tvalid_0's rmse: 7.78056\tvalid_0's rmsse: 0.814194\n",
      "[450]\tvalid_0's rmse: 7.75583\tvalid_0's rmsse: 0.814042\n",
      "[500]\tvalid_0's rmse: 7.73926\tvalid_0's rmsse: 0.814001\n",
      "[550]\tvalid_0's rmse: 7.72943\tvalid_0's rmsse: 0.813876\n",
      "[600]\tvalid_0's rmse: 7.72373\tvalid_0's rmsse: 0.813863\n",
      "Early stopping, best iteration is:\n",
      "[584]\tvalid_0's rmse: 7.726\tvalid_0's rmsse: 0.813829\n"
     ]
    },
    {
     "name": "stderr",
     "output_type": "stream",
     "text": [
      "min_data_in_leaf, val_score: 7.726004:  80%|########  | 4/5 [38:37<09:39, 579.63s/it][I 2021-08-19 05:24:39,159] Trial 63 finished with value: 7.726003926865675 and parameters: {'min_child_samples': 100}. Best is trial 60 with value: 7.726003926865675.\n",
      "min_data_in_leaf, val_score: 7.726004:  80%|########  | 4/5 [38:38<09:39, 579.63s/it]"
     ]
    },
    {
     "name": "stdout",
     "output_type": "stream",
     "text": [
      "[LightGBM] [Warning] min_data_in_leaf is set=255, min_child_samples=5 will be ignored. Current value: min_data_in_leaf=255\n",
      "[LightGBM] [Warning] min_data_in_leaf is set=255, min_child_samples=5 will be ignored. Current value: min_data_in_leaf=255\n",
      "[LightGBM] [Info] Total Bins 2680\n",
      "[LightGBM] [Info] Number of data points in the train set: 7271333, number of used features: 17\n",
      "[LightGBM] [Warning] min_data_in_leaf is set=255, min_child_samples=5 will be ignored. Current value: min_data_in_leaf=255\n",
      "Training until validation scores don't improve for 30 rounds\n",
      "[50]\tvalid_0's rmse: 8.50667\tvalid_0's rmsse: 0.910331\n",
      "[100]\tvalid_0's rmse: 8.40446\tvalid_0's rmsse: 0.839958\n",
      "[150]\tvalid_0's rmse: 8.27327\tvalid_0's rmsse: 0.824438\n",
      "[200]\tvalid_0's rmse: 8.12644\tvalid_0's rmsse: 0.818348\n",
      "[LightGBM] [Warning] No further splits with positive gain, best gain: -inf\n",
      "[250]\tvalid_0's rmse: 7.98393\tvalid_0's rmsse: 0.81583\n",
      "[300]\tvalid_0's rmse: 7.88498\tvalid_0's rmsse: 0.815002\n",
      "[350]\tvalid_0's rmse: 7.8271\tvalid_0's rmsse: 0.814468\n",
      "[400]\tvalid_0's rmse: 7.78056\tvalid_0's rmsse: 0.814194\n",
      "[450]\tvalid_0's rmse: 7.75583\tvalid_0's rmsse: 0.814042\n",
      "[500]\tvalid_0's rmse: 7.73926\tvalid_0's rmsse: 0.814001\n",
      "[550]\tvalid_0's rmse: 7.72943\tvalid_0's rmsse: 0.813876\n",
      "[600]\tvalid_0's rmse: 7.72373\tvalid_0's rmsse: 0.813863\n",
      "Early stopping, best iteration is:\n",
      "[584]\tvalid_0's rmse: 7.726\tvalid_0's rmsse: 0.813829\n"
     ]
    },
    {
     "name": "stderr",
     "output_type": "stream",
     "text": [
      "min_data_in_leaf, val_score: 7.726004: 100%|##########| 5/5 [48:15<00:00, 578.80s/it][I 2021-08-19 05:34:16,479] Trial 64 finished with value: 7.726003926865675 and parameters: {'min_child_samples': 5}. Best is trial 60 with value: 7.726003926865675.\n",
      "min_data_in_leaf, val_score: 7.726004: 100%|##########| 5/5 [48:15<00:00, 579.06s/it]\n"
     ]
    },
    {
     "name": "stdout",
     "output_type": "stream",
     "text": [
      "Elapsed time for training the model: 550.1772421797117 min.\n",
      "---------------------------------------------------------------------------\n",
      "Preparing model for site: MLM\n",
      "Mem. usage decreased to 379.16 Mb (52.4% reduction)\n",
      "Mem. usage decreased to 396.81 Mb (52.4% reduction)\n",
      "Elapsed time for processing features: 1.141997786362966 min.\n"
     ]
    },
    {
     "name": "stderr",
     "output_type": "stream",
     "text": [
      "[I 2021-08-19 05:35:26,054] A new study created in memory with name: no-name-d4286f5e-8f56-4d5a-9a3a-21c0b1c00bd0\n",
      "feature_fraction, val_score: inf:   0%|          | 0/7 [00:00<?, ?it/s]"
     ]
    },
    {
     "name": "stdout",
     "output_type": "stream",
     "text": [
      "[LightGBM] [Warning] min_data_in_leaf is set=255, min_child_samples=20 will be ignored. Current value: min_data_in_leaf=255\n",
      "[LightGBM] [Warning] min_data_in_leaf is set=255, min_child_samples=20 will be ignored. Current value: min_data_in_leaf=255\n",
      "[LightGBM] [Info] Total Bins 2569\n",
      "[LightGBM] [Info] Number of data points in the train set: 5762054, number of used features: 17\n",
      "[LightGBM] [Warning] min_data_in_leaf is set=255, min_child_samples=20 will be ignored. Current value: min_data_in_leaf=255\n",
      "Training until validation scores don't improve for 30 rounds\n",
      "[50]\tvalid_0's rmse: 11.7237\tvalid_0's rmsse: 0.839026\n",
      "[100]\tvalid_0's rmse: 11.5718\tvalid_0's rmsse: 0.779853\n",
      "[150]\tvalid_0's rmse: 11.2969\tvalid_0's rmsse: 0.769415\n",
      "[200]\tvalid_0's rmse: 10.8372\tvalid_0's rmsse: 0.768329\n",
      "Early stopping, best iteration is:\n",
      "[186]\tvalid_0's rmse: 10.9861\tvalid_0's rmsse: 0.768277\n"
     ]
    },
    {
     "name": "stderr",
     "output_type": "stream",
     "text": [
      "feature_fraction, val_score: 10.986071:  14%|#4        | 1/7 [03:16<19:41, 196.86s/it][I 2021-08-19 05:38:42,968] Trial 0 finished with value: 10.986070540582393 and parameters: {'feature_fraction': 0.6}. Best is trial 0 with value: 10.986070540582393.\n",
      "feature_fraction, val_score: 10.986071:  14%|#4        | 1/7 [03:16<19:41, 196.86s/it]"
     ]
    },
    {
     "name": "stdout",
     "output_type": "stream",
     "text": [
      "[LightGBM] [Warning] min_data_in_leaf is set=255, min_child_samples=20 will be ignored. Current value: min_data_in_leaf=255\n",
      "[LightGBM] [Warning] min_data_in_leaf is set=255, min_child_samples=20 will be ignored. Current value: min_data_in_leaf=255\n",
      "[LightGBM] [Info] Total Bins 2569\n",
      "[LightGBM] [Info] Number of data points in the train set: 5762054, number of used features: 17\n",
      "[LightGBM] [Warning] min_data_in_leaf is set=255, min_child_samples=20 will be ignored. Current value: min_data_in_leaf=255\n",
      "Training until validation scores don't improve for 30 rounds\n",
      "[50]\tvalid_0's rmse: 11.7168\tvalid_0's rmsse: 0.821464\n",
      "[100]\tvalid_0's rmse: 11.5525\tvalid_0's rmsse: 0.773372\n",
      "[150]\tvalid_0's rmse: 11.2534\tvalid_0's rmsse: 0.767623\n",
      "Early stopping, best iteration is:\n",
      "[156]\tvalid_0's rmse: 11.2046\tvalid_0's rmsse: 0.767567\n"
     ]
    },
    {
     "name": "stderr",
     "output_type": "stream",
     "text": [
      "feature_fraction, val_score: 10.986071:  29%|##8       | 2/7 [06:03<14:54, 178.85s/it][I 2021-08-19 05:41:29,220] Trial 1 finished with value: 11.204582241932167 and parameters: {'feature_fraction': 0.8}. Best is trial 0 with value: 10.986070540582393.\n",
      "feature_fraction, val_score: 10.986071:  29%|##8       | 2/7 [06:03<14:54, 178.85s/it]"
     ]
    },
    {
     "name": "stdout",
     "output_type": "stream",
     "text": [
      "[LightGBM] [Warning] min_data_in_leaf is set=255, min_child_samples=20 will be ignored. Current value: min_data_in_leaf=255\n",
      "[LightGBM] [Warning] min_data_in_leaf is set=255, min_child_samples=20 will be ignored. Current value: min_data_in_leaf=255\n",
      "[LightGBM] [Info] Total Bins 2569\n",
      "[LightGBM] [Info] Number of data points in the train set: 5762054, number of used features: 17\n",
      "[LightGBM] [Warning] min_data_in_leaf is set=255, min_child_samples=20 will be ignored. Current value: min_data_in_leaf=255\n",
      "Training until validation scores don't improve for 30 rounds\n",
      "[50]\tvalid_0's rmse: 11.7359\tvalid_0's rmsse: 0.872414\n",
      "[LightGBM] [Warning] No further splits with positive gain, best gain: -inf\n",
      "[100]\tvalid_0's rmse: 11.6152\tvalid_0's rmsse: 0.795715\n",
      "[LightGBM] [Warning] No further splits with positive gain, best gain: -inf\n",
      "[150]\tvalid_0's rmse: 11.4214\tvalid_0's rmsse: 0.777777\n",
      "[200]\tvalid_0's rmse: 11.0965\tvalid_0's rmsse: 0.772249\n",
      "[LightGBM] [Warning] No further splits with positive gain, best gain: -inf\n",
      "[250]\tvalid_0's rmse: 10.6877\tvalid_0's rmsse: 0.770964\n",
      "[LightGBM] [Warning] No further splits with positive gain, best gain: -inf\n",
      "Early stopping, best iteration is:\n",
      "[262]\tvalid_0's rmse: 10.595\tvalid_0's rmsse: 0.7708\n"
     ]
    },
    {
     "name": "stderr",
     "output_type": "stream",
     "text": [
      "feature_fraction, val_score: 10.595017:  43%|####2     | 3/7 [10:34<14:44, 221.04s/it][I 2021-08-19 05:46:00,445] Trial 2 finished with value: 10.59501703793888 and parameters: {'feature_fraction': 0.4}. Best is trial 2 with value: 10.59501703793888.\n",
      "feature_fraction, val_score: 10.595017:  43%|####2     | 3/7 [10:34<14:44, 221.04s/it]"
     ]
    },
    {
     "name": "stdout",
     "output_type": "stream",
     "text": [
      "[LightGBM] [Warning] min_data_in_leaf is set=255, min_child_samples=20 will be ignored. Current value: min_data_in_leaf=255\n",
      "[LightGBM] [Warning] min_data_in_leaf is set=255, min_child_samples=20 will be ignored. Current value: min_data_in_leaf=255\n",
      "[LightGBM] [Info] Total Bins 2569\n",
      "[LightGBM] [Info] Number of data points in the train set: 5762054, number of used features: 17\n",
      "[LightGBM] [Warning] min_data_in_leaf is set=255, min_child_samples=20 will be ignored. Current value: min_data_in_leaf=255\n",
      "Training until validation scores don't improve for 30 rounds\n",
      "[50]\tvalid_0's rmse: 11.7158\tvalid_0's rmsse: 0.817993\n",
      "[100]\tvalid_0's rmse: 11.5512\tvalid_0's rmsse: 0.772688\n",
      "[150]\tvalid_0's rmse: 11.2509\tvalid_0's rmsse: 0.768004\n",
      "Early stopping, best iteration is:\n",
      "[151]\tvalid_0's rmse: 11.243\tvalid_0's rmsse: 0.767997\n"
     ]
    },
    {
     "name": "stderr",
     "output_type": "stream",
     "text": [
      "feature_fraction, val_score: 10.595017:  57%|#####7    | 4/7 [13:15<09:52, 197.49s/it][I 2021-08-19 05:48:41,836] Trial 3 finished with value: 11.2429837923672 and parameters: {'feature_fraction': 1.0}. Best is trial 2 with value: 10.59501703793888.\n",
      "feature_fraction, val_score: 10.595017:  57%|#####7    | 4/7 [13:15<09:52, 197.49s/it]"
     ]
    },
    {
     "name": "stdout",
     "output_type": "stream",
     "text": [
      "[LightGBM] [Warning] min_data_in_leaf is set=255, min_child_samples=20 will be ignored. Current value: min_data_in_leaf=255\n",
      "[LightGBM] [Warning] min_data_in_leaf is set=255, min_child_samples=20 will be ignored. Current value: min_data_in_leaf=255\n",
      "[LightGBM] [Info] Total Bins 2569\n",
      "[LightGBM] [Info] Number of data points in the train set: 5762054, number of used features: 17\n",
      "[LightGBM] [Warning] min_data_in_leaf is set=255, min_child_samples=20 will be ignored. Current value: min_data_in_leaf=255\n",
      "Training until validation scores don't improve for 30 rounds\n",
      "[50]\tvalid_0's rmse: 11.7266\tvalid_0's rmsse: 0.846408\n",
      "[100]\tvalid_0's rmse: 11.5824\tvalid_0's rmsse: 0.783965\n",
      "[150]\tvalid_0's rmse: 11.3451\tvalid_0's rmsse: 0.771487\n",
      "[200]\tvalid_0's rmse: 10.9301\tvalid_0's rmsse: 0.769014\n",
      "Early stopping, best iteration is:\n",
      "[206]\tvalid_0's rmse: 10.8985\tvalid_0's rmsse: 0.76898\n"
     ]
    },
    {
     "name": "stderr",
     "output_type": "stream",
     "text": [
      "feature_fraction, val_score: 10.595017:  71%|#######1  | 5/7 [16:54<06:50, 205.13s/it][I 2021-08-19 05:52:20,521] Trial 4 finished with value: 10.898528277547406 and parameters: {'feature_fraction': 0.5}. Best is trial 2 with value: 10.59501703793888.\n",
      "feature_fraction, val_score: 10.595017:  71%|#######1  | 5/7 [16:54<06:50, 205.13s/it]"
     ]
    },
    {
     "name": "stdout",
     "output_type": "stream",
     "text": [
      "[LightGBM] [Warning] min_data_in_leaf is set=255, min_child_samples=20 will be ignored. Current value: min_data_in_leaf=255\n",
      "[LightGBM] [Warning] min_data_in_leaf is set=255, min_child_samples=20 will be ignored. Current value: min_data_in_leaf=255\n",
      "[LightGBM] [Info] Total Bins 2569\n",
      "[LightGBM] [Info] Number of data points in the train set: 5762054, number of used features: 17\n",
      "[LightGBM] [Warning] min_data_in_leaf is set=255, min_child_samples=20 will be ignored. Current value: min_data_in_leaf=255\n",
      "Training until validation scores don't improve for 30 rounds\n",
      "[50]\tvalid_0's rmse: 11.7196\tvalid_0's rmsse: 0.828242\n",
      "[100]\tvalid_0's rmse: 11.5579\tvalid_0's rmsse: 0.775009\n",
      "[150]\tvalid_0's rmse: 11.264\tvalid_0's rmsse: 0.767878\n",
      "Early stopping, best iteration is:\n",
      "[169]\tvalid_0's rmse: 11.1002\tvalid_0's rmsse: 0.767545\n"
     ]
    },
    {
     "name": "stderr",
     "output_type": "stream",
     "text": [
      "feature_fraction, val_score: 10.595017:  86%|########5 | 6/7 [19:53<03:16, 196.42s/it][I 2021-08-19 05:55:20,037] Trial 5 finished with value: 11.100248163472013 and parameters: {'feature_fraction': 0.7}. Best is trial 2 with value: 10.59501703793888.\n",
      "feature_fraction, val_score: 10.595017:  86%|########5 | 6/7 [19:53<03:16, 196.42s/it]"
     ]
    },
    {
     "name": "stdout",
     "output_type": "stream",
     "text": [
      "[LightGBM] [Warning] min_data_in_leaf is set=255, min_child_samples=20 will be ignored. Current value: min_data_in_leaf=255\n",
      "[LightGBM] [Warning] min_data_in_leaf is set=255, min_child_samples=20 will be ignored. Current value: min_data_in_leaf=255\n",
      "[LightGBM] [Info] Total Bins 2569\n",
      "[LightGBM] [Info] Number of data points in the train set: 5762054, number of used features: 17\n",
      "[LightGBM] [Warning] min_data_in_leaf is set=255, min_child_samples=20 will be ignored. Current value: min_data_in_leaf=255\n",
      "Training until validation scores don't improve for 30 rounds\n",
      "[50]\tvalid_0's rmse: 11.7162\tvalid_0's rmsse: 0.819374\n",
      "[100]\tvalid_0's rmse: 11.5516\tvalid_0's rmsse: 0.772894\n",
      "[150]\tvalid_0's rmse: 11.2525\tvalid_0's rmsse: 0.767647\n",
      "Early stopping, best iteration is:\n",
      "[156]\tvalid_0's rmse: 11.2036\tvalid_0's rmsse: 0.767618\n"
     ]
    },
    {
     "name": "stderr",
     "output_type": "stream",
     "text": [
      "feature_fraction, val_score: 10.595017: 100%|##########| 7/7 [22:41<00:00, 186.86s/it][I 2021-08-19 05:58:07,211] Trial 6 finished with value: 11.203625707935187 and parameters: {'feature_fraction': 0.8999999999999999}. Best is trial 2 with value: 10.59501703793888.\n",
      "feature_fraction, val_score: 10.595017: 100%|##########| 7/7 [22:41<00:00, 194.45s/it]\n",
      "num_leaves, val_score: 10.595017:   0%|          | 0/20 [00:00<?, ?it/s]"
     ]
    },
    {
     "name": "stdout",
     "output_type": "stream",
     "text": [
      "[LightGBM] [Warning] min_data_in_leaf is set=255, min_child_samples=20 will be ignored. Current value: min_data_in_leaf=255\n",
      "[LightGBM] [Warning] min_data_in_leaf is set=255, min_child_samples=20 will be ignored. Current value: min_data_in_leaf=255\n",
      "[LightGBM] [Info] Total Bins 2569\n",
      "[LightGBM] [Info] Number of data points in the train set: 5762054, number of used features: 17\n",
      "[LightGBM] [Warning] min_data_in_leaf is set=255, min_child_samples=20 will be ignored. Current value: min_data_in_leaf=255\n",
      "Training until validation scores don't improve for 30 rounds\n",
      "[50]\tvalid_0's rmse: 11.736\tvalid_0's rmsse: 0.872799\n",
      "[LightGBM] [Warning] No further splits with positive gain, best gain: -inf\n",
      "[100]\tvalid_0's rmse: 11.6154\tvalid_0's rmsse: 0.796067\n",
      "[LightGBM] [Warning] No further splits with positive gain, best gain: -inf\n",
      "[150]\tvalid_0's rmse: 11.422\tvalid_0's rmsse: 0.778162\n",
      "[200]\tvalid_0's rmse: 11.0975\tvalid_0's rmsse: 0.77265\n",
      "[LightGBM] [Warning] No further splits with positive gain, best gain: -inf\n",
      "[250]\tvalid_0's rmse: 10.6878\tvalid_0's rmsse: 0.77136\n",
      "Early stopping, best iteration is:\n",
      "[262]\tvalid_0's rmse: 10.5948\tvalid_0's rmsse: 0.771209\n"
     ]
    },
    {
     "name": "stderr",
     "output_type": "stream",
     "text": [
      "num_leaves, val_score: 10.594825:   5%|5         | 1/20 [04:19<1:22:09, 259.44s/it][I 2021-08-19 06:02:26,709] Trial 7 finished with value: 10.59482483559536 and parameters: {'num_leaves': 167}. Best is trial 7 with value: 10.59482483559536.\n",
      "num_leaves, val_score: 10.594825:   5%|5         | 1/20 [04:19<1:22:09, 259.44s/it]"
     ]
    },
    {
     "name": "stdout",
     "output_type": "stream",
     "text": [
      "[LightGBM] [Warning] min_data_in_leaf is set=255, min_child_samples=20 will be ignored. Current value: min_data_in_leaf=255\n",
      "[LightGBM] [Warning] min_data_in_leaf is set=255, min_child_samples=20 will be ignored. Current value: min_data_in_leaf=255\n",
      "[LightGBM] [Info] Total Bins 2569\n",
      "[LightGBM] [Info] Number of data points in the train set: 5762054, number of used features: 17\n",
      "[LightGBM] [Warning] min_data_in_leaf is set=255, min_child_samples=20 will be ignored. Current value: min_data_in_leaf=255\n",
      "Training until validation scores don't improve for 30 rounds\n",
      "[50]\tvalid_0's rmse: 11.736\tvalid_0's rmsse: 0.872476\n",
      "[LightGBM] [Warning] No further splits with positive gain, best gain: -inf\n",
      "[100]\tvalid_0's rmse: 11.6153\tvalid_0's rmsse: 0.795764\n",
      "[LightGBM] [Warning] No further splits with positive gain, best gain: -inf\n",
      "[150]\tvalid_0's rmse: 11.4217\tvalid_0's rmsse: 0.777833\n",
      "[200]\tvalid_0's rmse: 11.0969\tvalid_0's rmsse: 0.772322\n",
      "[LightGBM] [Warning] No further splits with positive gain, best gain: -inf\n",
      "[250]\tvalid_0's rmse: 10.6883\tvalid_0's rmsse: 0.771036\n",
      "[LightGBM] [Warning] No further splits with positive gain, best gain: -inf\n",
      "Early stopping, best iteration is:\n",
      "[262]\tvalid_0's rmse: 10.5956\tvalid_0's rmsse: 0.770876\n"
     ]
    },
    {
     "name": "stderr",
     "output_type": "stream",
     "text": [
      "num_leaves, val_score: 10.594825:  10%|#         | 2/20 [08:48<1:19:27, 264.89s/it][I 2021-08-19 06:06:55,413] Trial 8 finished with value: 10.595600343987474 and parameters: {'num_leaves': 237}. Best is trial 7 with value: 10.59482483559536.\n",
      "num_leaves, val_score: 10.594825:  10%|#         | 2/20 [08:48<1:19:27, 264.89s/it]"
     ]
    },
    {
     "name": "stdout",
     "output_type": "stream",
     "text": [
      "[LightGBM] [Warning] min_data_in_leaf is set=255, min_child_samples=20 will be ignored. Current value: min_data_in_leaf=255\n",
      "[LightGBM] [Warning] min_data_in_leaf is set=255, min_child_samples=20 will be ignored. Current value: min_data_in_leaf=255\n",
      "[LightGBM] [Info] Total Bins 2569\n",
      "[LightGBM] [Info] Number of data points in the train set: 5762054, number of used features: 17\n",
      "[LightGBM] [Warning] min_data_in_leaf is set=255, min_child_samples=20 will be ignored. Current value: min_data_in_leaf=255\n",
      "Training until validation scores don't improve for 30 rounds\n",
      "[50]\tvalid_0's rmse: 11.736\tvalid_0's rmsse: 0.872611\n",
      "[LightGBM] [Warning] No further splits with positive gain, best gain: -inf\n",
      "[100]\tvalid_0's rmse: 11.6153\tvalid_0's rmsse: 0.795945\n",
      "[LightGBM] [Warning] No further splits with positive gain, best gain: -inf\n",
      "[150]\tvalid_0's rmse: 11.4218\tvalid_0's rmsse: 0.778032\n",
      "[200]\tvalid_0's rmse: 11.0971\tvalid_0's rmsse: 0.772528\n",
      "[LightGBM] [Warning] No further splits with positive gain, best gain: -inf\n",
      "[250]\tvalid_0's rmse: 10.6882\tvalid_0's rmsse: 0.771236\n",
      "Early stopping, best iteration is:\n",
      "[262]\tvalid_0's rmse: 10.5954\tvalid_0's rmsse: 0.771087\n"
     ]
    },
    {
     "name": "stderr",
     "output_type": "stream",
     "text": [
      "num_leaves, val_score: 10.594825:  15%|#5        | 3/20 [13:15<1:15:25, 266.23s/it][I 2021-08-19 06:11:23,242] Trial 9 finished with value: 10.595352488860698 and parameters: {'num_leaves': 193}. Best is trial 7 with value: 10.59482483559536.\n",
      "num_leaves, val_score: 10.594825:  15%|#5        | 3/20 [13:16<1:15:25, 266.23s/it]"
     ]
    },
    {
     "name": "stdout",
     "output_type": "stream",
     "text": [
      "[LightGBM] [Warning] min_data_in_leaf is set=255, min_child_samples=20 will be ignored. Current value: min_data_in_leaf=255\n",
      "[LightGBM] [Warning] min_data_in_leaf is set=255, min_child_samples=20 will be ignored. Current value: min_data_in_leaf=255\n",
      "[LightGBM] [Info] Total Bins 2569\n",
      "[LightGBM] [Info] Number of data points in the train set: 5762054, number of used features: 17\n",
      "[LightGBM] [Warning] min_data_in_leaf is set=255, min_child_samples=20 will be ignored. Current value: min_data_in_leaf=255\n",
      "Training until validation scores don't improve for 30 rounds\n",
      "[50]\tvalid_0's rmse: 11.7362\tvalid_0's rmsse: 0.87419\n",
      "[100]\tvalid_0's rmse: 11.6158\tvalid_0's rmsse: 0.797059\n",
      "[150]\tvalid_0's rmse: 11.4237\tvalid_0's rmsse: 0.779174\n",
      "[200]\tvalid_0's rmse: 11.1013\tvalid_0's rmsse: 0.773744\n",
      "[LightGBM] [Warning] No further splits with positive gain, best gain: -inf\n",
      "[250]\tvalid_0's rmse: 10.6909\tvalid_0's rmsse: 0.772452\n",
      "Early stopping, best iteration is:\n",
      "[262]\tvalid_0's rmse: 10.5969\tvalid_0's rmsse: 0.772306\n"
     ]
    },
    {
     "name": "stderr",
     "output_type": "stream",
     "text": [
      "num_leaves, val_score: 10.594825:  20%|##        | 4/20 [17:19<1:08:38, 257.38s/it][I 2021-08-19 06:15:27,042] Trial 10 finished with value: 10.596898353555249 and parameters: {'num_leaves': 58}. Best is trial 7 with value: 10.59482483559536.\n",
      "num_leaves, val_score: 10.594825:  20%|##        | 4/20 [17:19<1:08:38, 257.38s/it]"
     ]
    },
    {
     "name": "stdout",
     "output_type": "stream",
     "text": [
      "[LightGBM] [Warning] min_data_in_leaf is set=255, min_child_samples=20 will be ignored. Current value: min_data_in_leaf=255\n",
      "[LightGBM] [Warning] min_data_in_leaf is set=255, min_child_samples=20 will be ignored. Current value: min_data_in_leaf=255\n",
      "[LightGBM] [Info] Total Bins 2569\n",
      "[LightGBM] [Info] Number of data points in the train set: 5762054, number of used features: 17\n",
      "[LightGBM] [Warning] min_data_in_leaf is set=255, min_child_samples=20 will be ignored. Current value: min_data_in_leaf=255\n",
      "Training until validation scores don't improve for 30 rounds\n",
      "[50]\tvalid_0's rmse: 11.7365\tvalid_0's rmsse: 0.876158\n",
      "[100]\tvalid_0's rmse: 11.6164\tvalid_0's rmsse: 0.798139\n",
      "[150]\tvalid_0's rmse: 11.4253\tvalid_0's rmsse: 0.780135\n",
      "[200]\tvalid_0's rmse: 11.1033\tvalid_0's rmsse: 0.774683\n",
      "[250]\tvalid_0's rmse: 10.6944\tvalid_0's rmsse: 0.773355\n",
      "Early stopping, best iteration is:\n",
      "[262]\tvalid_0's rmse: 10.6004\tvalid_0's rmsse: 0.773218\n"
     ]
    },
    {
     "name": "stderr",
     "output_type": "stream",
     "text": [
      "num_leaves, val_score: 10.594825:  25%|##5       | 5/20 [21:13<1:02:14, 248.97s/it][I 2021-08-19 06:19:21,114] Trial 11 finished with value: 10.60043831868137 and parameters: {'num_leaves': 26}. Best is trial 7 with value: 10.59482483559536.\n",
      "num_leaves, val_score: 10.594825:  25%|##5       | 5/20 [21:13<1:02:14, 248.97s/it]"
     ]
    },
    {
     "name": "stdout",
     "output_type": "stream",
     "text": [
      "[LightGBM] [Warning] min_data_in_leaf is set=255, min_child_samples=20 will be ignored. Current value: min_data_in_leaf=255\n",
      "[LightGBM] [Warning] min_data_in_leaf is set=255, min_child_samples=20 will be ignored. Current value: min_data_in_leaf=255\n",
      "[LightGBM] [Info] Total Bins 2569\n",
      "[LightGBM] [Info] Number of data points in the train set: 5762054, number of used features: 17\n",
      "[LightGBM] [Warning] min_data_in_leaf is set=255, min_child_samples=20 will be ignored. Current value: min_data_in_leaf=255\n",
      "Training until validation scores don't improve for 30 rounds\n",
      "[50]\tvalid_0's rmse: 11.736\tvalid_0's rmsse: 0.872932\n",
      "[LightGBM] [Warning] No further splits with positive gain, best gain: -inf\n",
      "[100]\tvalid_0's rmse: 11.6154\tvalid_0's rmsse: 0.796196\n",
      "[LightGBM] [Warning] No further splits with positive gain, best gain: -inf\n",
      "[150]\tvalid_0's rmse: 11.4222\tvalid_0's rmsse: 0.778288\n",
      "[200]\tvalid_0's rmse: 11.098\tvalid_0's rmsse: 0.772782\n",
      "[LightGBM] [Warning] No further splits with positive gain, best gain: -inf\n",
      "[250]\tvalid_0's rmse: 10.6887\tvalid_0's rmsse: 0.771489\n",
      "Early stopping, best iteration is:\n",
      "[262]\tvalid_0's rmse: 10.5948\tvalid_0's rmsse: 0.77134\n"
     ]
    },
    {
     "name": "stderr",
     "output_type": "stream",
     "text": [
      "num_leaves, val_score: 10.594804:  30%|###       | 6/20 [25:38<59:19, 254.22s/it]  [I 2021-08-19 06:23:45,519] Trial 12 finished with value: 10.594804285649396 and parameters: {'num_leaves': 143}. Best is trial 12 with value: 10.594804285649396.\n",
      "num_leaves, val_score: 10.594804:  30%|###       | 6/20 [25:38<59:19, 254.22s/it]"
     ]
    },
    {
     "name": "stdout",
     "output_type": "stream",
     "text": [
      "[LightGBM] [Warning] min_data_in_leaf is set=255, min_child_samples=20 will be ignored. Current value: min_data_in_leaf=255\n",
      "[LightGBM] [Warning] min_data_in_leaf is set=255, min_child_samples=20 will be ignored. Current value: min_data_in_leaf=255\n",
      "[LightGBM] [Info] Total Bins 2569\n",
      "[LightGBM] [Info] Number of data points in the train set: 5762054, number of used features: 17\n",
      "[LightGBM] [Warning] min_data_in_leaf is set=255, min_child_samples=20 will be ignored. Current value: min_data_in_leaf=255\n",
      "Training until validation scores don't improve for 30 rounds\n",
      "[50]\tvalid_0's rmse: 11.736\tvalid_0's rmsse: 0.872801\n",
      "[LightGBM] [Warning] No further splits with positive gain, best gain: -inf\n",
      "[100]\tvalid_0's rmse: 11.6153\tvalid_0's rmsse: 0.796057\n",
      "[LightGBM] [Warning] No further splits with positive gain, best gain: -inf\n",
      "[150]\tvalid_0's rmse: 11.422\tvalid_0's rmsse: 0.77814\n",
      "[200]\tvalid_0's rmse: 11.0976\tvalid_0's rmsse: 0.772636\n",
      "[LightGBM] [Warning] No further splits with positive gain, best gain: -inf\n",
      "[250]\tvalid_0's rmse: 10.6882\tvalid_0's rmsse: 0.771339\n",
      "Early stopping, best iteration is:\n",
      "[262]\tvalid_0's rmse: 10.5949\tvalid_0's rmsse: 0.771189\n"
     ]
    },
    {
     "name": "stderr",
     "output_type": "stream",
     "text": [
      "num_leaves, val_score: 10.594804:  35%|###5      | 7/20 [30:08<56:13, 259.53s/it][I 2021-08-19 06:28:16,002] Trial 13 finished with value: 10.594866001906267 and parameters: {'num_leaves': 168}. Best is trial 12 with value: 10.594804285649396.\n",
      "num_leaves, val_score: 10.594804:  35%|###5      | 7/20 [30:08<56:13, 259.53s/it]"
     ]
    },
    {
     "name": "stdout",
     "output_type": "stream",
     "text": [
      "[LightGBM] [Warning] min_data_in_leaf is set=255, min_child_samples=20 will be ignored. Current value: min_data_in_leaf=255\n",
      "[LightGBM] [Warning] min_data_in_leaf is set=255, min_child_samples=20 will be ignored. Current value: min_data_in_leaf=255\n",
      "[LightGBM] [Info] Total Bins 2569\n",
      "[LightGBM] [Info] Number of data points in the train set: 5762054, number of used features: 17\n",
      "[LightGBM] [Warning] min_data_in_leaf is set=255, min_child_samples=20 will be ignored. Current value: min_data_in_leaf=255\n",
      "Training until validation scores don't improve for 30 rounds\n",
      "[50]\tvalid_0's rmse: 11.7361\tvalid_0's rmsse: 0.873877\n",
      "[100]\tvalid_0's rmse: 11.6158\tvalid_0's rmsse: 0.796837\n",
      "[150]\tvalid_0's rmse: 11.4234\tvalid_0's rmsse: 0.778961\n",
      "[200]\tvalid_0's rmse: 11.1006\tvalid_0's rmsse: 0.773516\n",
      "[LightGBM] [Warning] No further splits with positive gain, best gain: -inf\n",
      "[250]\tvalid_0's rmse: 10.6908\tvalid_0's rmsse: 0.772229\n",
      "Early stopping, best iteration is:\n",
      "[262]\tvalid_0's rmse: 10.5965\tvalid_0's rmsse: 0.772078\n"
     ]
    },
    {
     "name": "stderr",
     "output_type": "stream",
     "text": [
      "num_leaves, val_score: 10.594804:  40%|####      | 8/20 [34:14<51:02, 255.22s/it][I 2021-08-19 06:32:21,974] Trial 14 finished with value: 10.596453004328376 and parameters: {'num_leaves': 71}. Best is trial 12 with value: 10.594804285649396.\n",
      "num_leaves, val_score: 10.594804:  40%|####      | 8/20 [34:14<51:02, 255.22s/it]"
     ]
    },
    {
     "name": "stdout",
     "output_type": "stream",
     "text": [
      "[LightGBM] [Warning] min_data_in_leaf is set=255, min_child_samples=20 will be ignored. Current value: min_data_in_leaf=255\n",
      "[LightGBM] [Warning] min_data_in_leaf is set=255, min_child_samples=20 will be ignored. Current value: min_data_in_leaf=255\n",
      "[LightGBM] [Info] Total Bins 2569\n",
      "[LightGBM] [Info] Number of data points in the train set: 5762054, number of used features: 17\n",
      "[LightGBM] [Warning] min_data_in_leaf is set=255, min_child_samples=20 will be ignored. Current value: min_data_in_leaf=255\n",
      "Training until validation scores don't improve for 30 rounds\n",
      "[50]\tvalid_0's rmse: 11.736\tvalid_0's rmsse: 0.872531\n",
      "[LightGBM] [Warning] No further splits with positive gain, best gain: -inf\n",
      "[100]\tvalid_0's rmse: 11.6153\tvalid_0's rmsse: 0.795831\n",
      "[LightGBM] [Warning] No further splits with positive gain, best gain: -inf\n",
      "[150]\tvalid_0's rmse: 11.4217\tvalid_0's rmsse: 0.7779\n",
      "[200]\tvalid_0's rmse: 11.0971\tvalid_0's rmsse: 0.772397\n",
      "[LightGBM] [Warning] No further splits with positive gain, best gain: -inf\n",
      "[250]\tvalid_0's rmse: 10.6885\tvalid_0's rmsse: 0.77111\n",
      "Early stopping, best iteration is:\n",
      "[262]\tvalid_0's rmse: 10.5957\tvalid_0's rmsse: 0.770951\n"
     ]
    },
    {
     "name": "stderr",
     "output_type": "stream",
     "text": [
      "num_leaves, val_score: 10.594804:  45%|####5     | 9/20 [38:46<47:43, 260.31s/it][I 2021-08-19 06:36:53,473] Trial 15 finished with value: 10.5957090451508 and parameters: {'num_leaves': 220}. Best is trial 12 with value: 10.594804285649396.\n",
      "num_leaves, val_score: 10.594804:  45%|####5     | 9/20 [38:46<47:43, 260.31s/it]"
     ]
    },
    {
     "name": "stdout",
     "output_type": "stream",
     "text": [
      "[LightGBM] [Warning] min_data_in_leaf is set=255, min_child_samples=20 will be ignored. Current value: min_data_in_leaf=255\n",
      "[LightGBM] [Warning] min_data_in_leaf is set=255, min_child_samples=20 will be ignored. Current value: min_data_in_leaf=255\n",
      "[LightGBM] [Info] Total Bins 2569\n",
      "[LightGBM] [Info] Number of data points in the train set: 5762054, number of used features: 17\n",
      "[LightGBM] [Warning] min_data_in_leaf is set=255, min_child_samples=20 will be ignored. Current value: min_data_in_leaf=255\n",
      "Training until validation scores don't improve for 30 rounds\n",
      "[50]\tvalid_0's rmse: 11.736\tvalid_0's rmsse: 0.87276\n",
      "[LightGBM] [Warning] No further splits with positive gain, best gain: -inf\n",
      "[100]\tvalid_0's rmse: 11.6153\tvalid_0's rmsse: 0.796033\n",
      "[LightGBM] [Warning] No further splits with positive gain, best gain: -inf\n",
      "[150]\tvalid_0's rmse: 11.422\tvalid_0's rmsse: 0.778127\n",
      "[200]\tvalid_0's rmse: 11.0976\tvalid_0's rmsse: 0.772617\n",
      "[LightGBM] [Warning] No further splits with positive gain, best gain: -inf\n",
      "[250]\tvalid_0's rmse: 10.6885\tvalid_0's rmsse: 0.771325\n",
      "Early stopping, best iteration is:\n",
      "[261]\tvalid_0's rmse: 10.606\tvalid_0's rmsse: 0.771169\n"
     ]
    },
    {
     "name": "stderr",
     "output_type": "stream",
     "text": [
      "num_leaves, val_score: 10.594804:  50%|#####     | 10/20 [43:09<43:31, 261.14s/it][I 2021-08-19 06:41:16,492] Trial 16 finished with value: 10.605993602823935 and parameters: {'num_leaves': 173}. Best is trial 12 with value: 10.594804285649396.\n",
      "num_leaves, val_score: 10.594804:  50%|#####     | 10/20 [43:09<43:31, 261.14s/it]"
     ]
    },
    {
     "name": "stdout",
     "output_type": "stream",
     "text": [
      "[LightGBM] [Warning] min_data_in_leaf is set=255, min_child_samples=20 will be ignored. Current value: min_data_in_leaf=255\n",
      "[LightGBM] [Warning] min_data_in_leaf is set=255, min_child_samples=20 will be ignored. Current value: min_data_in_leaf=255\n",
      "[LightGBM] [Info] Total Bins 2569\n",
      "[LightGBM] [Info] Number of data points in the train set: 5762054, number of used features: 17\n",
      "[LightGBM] [Warning] min_data_in_leaf is set=255, min_child_samples=20 will be ignored. Current value: min_data_in_leaf=255\n",
      "Training until validation scores don't improve for 30 rounds\n",
      "[50]\tvalid_0's rmse: 11.736\tvalid_0's rmsse: 0.873259\n",
      "[100]\tvalid_0's rmse: 11.6155\tvalid_0's rmsse: 0.796445\n",
      "[150]\tvalid_0's rmse: 11.4226\tvalid_0's rmsse: 0.778574\n",
      "[200]\tvalid_0's rmse: 11.0988\tvalid_0's rmsse: 0.773084\n",
      "[LightGBM] [Warning] No further splits with positive gain, best gain: -inf\n",
      "[250]\tvalid_0's rmse: 10.6889\tvalid_0's rmsse: 0.771798\n",
      "Early stopping, best iteration is:\n",
      "[262]\tvalid_0's rmse: 10.5945\tvalid_0's rmsse: 0.771643\n"
     ]
    },
    {
     "name": "stderr",
     "output_type": "stream",
     "text": [
      "num_leaves, val_score: 10.594514:  55%|#####5    | 11/20 [47:18<38:38, 257.56s/it][I 2021-08-19 06:45:25,905] Trial 17 finished with value: 10.594514068452709 and parameters: {'num_leaves': 106}. Best is trial 17 with value: 10.594514068452709.\n",
      "num_leaves, val_score: 10.594514:  55%|#####5    | 11/20 [47:18<38:38, 257.56s/it]"
     ]
    },
    {
     "name": "stdout",
     "output_type": "stream",
     "text": [
      "[LightGBM] [Warning] min_data_in_leaf is set=255, min_child_samples=20 will be ignored. Current value: min_data_in_leaf=255\n",
      "[LightGBM] [Warning] min_data_in_leaf is set=255, min_child_samples=20 will be ignored. Current value: min_data_in_leaf=255\n",
      "[LightGBM] [Info] Total Bins 2569\n",
      "[LightGBM] [Info] Number of data points in the train set: 5762054, number of used features: 17\n",
      "[LightGBM] [Warning] min_data_in_leaf is set=255, min_child_samples=20 will be ignored. Current value: min_data_in_leaf=255\n",
      "Training until validation scores don't improve for 30 rounds\n",
      "[50]\tvalid_0's rmse: 11.736\tvalid_0's rmsse: 0.873299\n",
      "[100]\tvalid_0's rmse: 11.6155\tvalid_0's rmsse: 0.796468\n",
      "[150]\tvalid_0's rmse: 11.4226\tvalid_0's rmsse: 0.778575\n",
      "[200]\tvalid_0's rmse: 11.0988\tvalid_0's rmsse: 0.773085\n",
      "[LightGBM] [Warning] No further splits with positive gain, best gain: -inf\n",
      "[250]\tvalid_0's rmse: 10.6891\tvalid_0's rmsse: 0.771805\n",
      "Early stopping, best iteration is:\n",
      "[262]\tvalid_0's rmse: 10.5948\tvalid_0's rmsse: 0.771651\n"
     ]
    },
    {
     "name": "stderr",
     "output_type": "stream",
     "text": [
      "num_leaves, val_score: 10.594514:  60%|######    | 12/20 [51:26<33:58, 254.76s/it][I 2021-08-19 06:49:34,258] Trial 18 finished with value: 10.594770827681675 and parameters: {'num_leaves': 107}. Best is trial 17 with value: 10.594514068452709.\n",
      "num_leaves, val_score: 10.594514:  60%|######    | 12/20 [51:27<33:58, 254.76s/it]"
     ]
    },
    {
     "name": "stdout",
     "output_type": "stream",
     "text": [
      "[LightGBM] [Warning] min_data_in_leaf is set=255, min_child_samples=20 will be ignored. Current value: min_data_in_leaf=255\n",
      "[LightGBM] [Warning] min_data_in_leaf is set=255, min_child_samples=20 will be ignored. Current value: min_data_in_leaf=255\n",
      "[LightGBM] [Info] Total Bins 2569\n",
      "[LightGBM] [Info] Number of data points in the train set: 5762054, number of used features: 17\n",
      "[LightGBM] [Warning] min_data_in_leaf is set=255, min_child_samples=20 will be ignored. Current value: min_data_in_leaf=255\n",
      "Training until validation scores don't improve for 30 rounds\n",
      "[50]\tvalid_0's rmse: 11.736\tvalid_0's rmsse: 0.873296\n",
      "[100]\tvalid_0's rmse: 11.6155\tvalid_0's rmsse: 0.796465\n",
      "[150]\tvalid_0's rmse: 11.4227\tvalid_0's rmsse: 0.778589\n",
      "[200]\tvalid_0's rmse: 11.099\tvalid_0's rmsse: 0.773112\n",
      "[LightGBM] [Warning] No further splits with positive gain, best gain: -inf\n",
      "[250]\tvalid_0's rmse: 10.6893\tvalid_0's rmsse: 0.771818\n",
      "Early stopping, best iteration is:\n",
      "[262]\tvalid_0's rmse: 10.595\tvalid_0's rmsse: 0.771662\n"
     ]
    },
    {
     "name": "stderr",
     "output_type": "stream",
     "text": [
      "num_leaves, val_score: 10.594514:  65%|######5   | 13/20 [55:34<29:27, 252.44s/it][I 2021-08-19 06:53:41,383] Trial 19 finished with value: 10.594984625766282 and parameters: {'num_leaves': 105}. Best is trial 17 with value: 10.594514068452709.\n",
      "num_leaves, val_score: 10.594514:  65%|######5   | 13/20 [55:34<29:27, 252.44s/it]"
     ]
    },
    {
     "name": "stdout",
     "output_type": "stream",
     "text": [
      "[LightGBM] [Warning] min_data_in_leaf is set=255, min_child_samples=20 will be ignored. Current value: min_data_in_leaf=255\n",
      "[LightGBM] [Warning] min_data_in_leaf is set=255, min_child_samples=20 will be ignored. Current value: min_data_in_leaf=255\n",
      "[LightGBM] [Info] Total Bins 2569\n",
      "[LightGBM] [Info] Number of data points in the train set: 5762054, number of used features: 17\n",
      "[LightGBM] [Warning] min_data_in_leaf is set=255, min_child_samples=20 will be ignored. Current value: min_data_in_leaf=255\n",
      "Training until validation scores don't improve for 30 rounds\n",
      "[50]\tvalid_0's rmse: 11.736\tvalid_0's rmsse: 0.873259\n",
      "[100]\tvalid_0's rmse: 11.6155\tvalid_0's rmsse: 0.796445\n",
      "[150]\tvalid_0's rmse: 11.4226\tvalid_0's rmsse: 0.778574\n",
      "[200]\tvalid_0's rmse: 11.0988\tvalid_0's rmsse: 0.773084\n",
      "[LightGBM] [Warning] No further splits with positive gain, best gain: -inf\n",
      "[250]\tvalid_0's rmse: 10.6889\tvalid_0's rmsse: 0.771798\n",
      "Early stopping, best iteration is:\n",
      "[262]\tvalid_0's rmse: 10.5945\tvalid_0's rmsse: 0.771643\n"
     ]
    },
    {
     "name": "stderr",
     "output_type": "stream",
     "text": [
      "num_leaves, val_score: 10.594514:  70%|#######   | 14/20 [59:42<25:06, 251.13s/it][I 2021-08-19 06:57:49,469] Trial 20 finished with value: 10.594514068452709 and parameters: {'num_leaves': 106}. Best is trial 17 with value: 10.594514068452709.\n",
      "num_leaves, val_score: 10.594514:  70%|#######   | 14/20 [59:42<25:06, 251.13s/it]"
     ]
    },
    {
     "name": "stdout",
     "output_type": "stream",
     "text": [
      "[LightGBM] [Warning] min_data_in_leaf is set=255, min_child_samples=20 will be ignored. Current value: min_data_in_leaf=255\n",
      "[LightGBM] [Warning] min_data_in_leaf is set=255, min_child_samples=20 will be ignored. Current value: min_data_in_leaf=255\n",
      "[LightGBM] [Info] Total Bins 2569\n",
      "[LightGBM] [Info] Number of data points in the train set: 5762054, number of used features: 17\n",
      "[LightGBM] [Warning] min_data_in_leaf is set=255, min_child_samples=20 will be ignored. Current value: min_data_in_leaf=255\n",
      "Training until validation scores don't improve for 30 rounds\n",
      "[50]\tvalid_0's rmse: 11.7423\tvalid_0's rmsse: 0.895685\n",
      "[100]\tvalid_0's rmse: 11.6319\tvalid_0's rmsse: 0.818352\n",
      "[150]\tvalid_0's rmse: 11.4534\tvalid_0's rmsse: 0.793566\n",
      "[200]\tvalid_0's rmse: 11.1698\tvalid_0's rmsse: 0.782749\n",
      "[250]\tvalid_0's rmse: 10.8788\tvalid_0's rmsse: 0.778568\n",
      "[300]\tvalid_0's rmse: 10.694\tvalid_0's rmsse: 0.778094\n",
      "Early stopping, best iteration is:\n",
      "[290]\tvalid_0's rmse: 10.736\tvalid_0's rmsse: 0.777736\n"
     ]
    },
    {
     "name": "stderr",
     "output_type": "stream",
     "text": [
      "num_leaves, val_score: 10.594514:  75%|#######5  | 15/20 [1:03:26<20:15, 243.08s/it][I 2021-08-19 07:01:33,920] Trial 21 finished with value: 10.735954608342961 and parameters: {'num_leaves': 3}. Best is trial 17 with value: 10.594514068452709.\n",
      "num_leaves, val_score: 10.594514:  75%|#######5  | 15/20 [1:03:26<20:15, 243.08s/it]"
     ]
    },
    {
     "name": "stdout",
     "output_type": "stream",
     "text": [
      "[LightGBM] [Warning] min_data_in_leaf is set=255, min_child_samples=20 will be ignored. Current value: min_data_in_leaf=255\n",
      "[LightGBM] [Warning] min_data_in_leaf is set=255, min_child_samples=20 will be ignored. Current value: min_data_in_leaf=255\n",
      "[LightGBM] [Info] Total Bins 2569\n",
      "[LightGBM] [Info] Number of data points in the train set: 5762054, number of used features: 17\n",
      "[LightGBM] [Warning] min_data_in_leaf is set=255, min_child_samples=20 will be ignored. Current value: min_data_in_leaf=255\n",
      "Training until validation scores don't improve for 30 rounds\n",
      "[50]\tvalid_0's rmse: 11.7361\tvalid_0's rmsse: 0.873657\n",
      "[100]\tvalid_0's rmse: 11.6156\tvalid_0's rmsse: 0.79667\n",
      "[150]\tvalid_0's rmse: 11.423\tvalid_0's rmsse: 0.778782\n",
      "[200]\tvalid_0's rmse: 11.0996\tvalid_0's rmsse: 0.773324\n",
      "[LightGBM] [Warning] No further splits with positive gain, best gain: -inf\n",
      "[250]\tvalid_0's rmse: 10.6897\tvalid_0's rmsse: 0.772023\n",
      "Early stopping, best iteration is:\n",
      "[262]\tvalid_0's rmse: 10.5948\tvalid_0's rmsse: 0.771884\n"
     ]
    },
    {
     "name": "stderr",
     "output_type": "stream",
     "text": [
      "num_leaves, val_score: 10.594514:  80%|########  | 16/20 [1:07:30<16:12, 243.20s/it][I 2021-08-19 07:05:37,389] Trial 22 finished with value: 10.594837447344714 and parameters: {'num_leaves': 86}. Best is trial 17 with value: 10.594514068452709.\n",
      "num_leaves, val_score: 10.594514:  80%|########  | 16/20 [1:07:30<16:12, 243.20s/it]"
     ]
    },
    {
     "name": "stdout",
     "output_type": "stream",
     "text": [
      "[LightGBM] [Warning] min_data_in_leaf is set=255, min_child_samples=20 will be ignored. Current value: min_data_in_leaf=255\n",
      "[LightGBM] [Warning] min_data_in_leaf is set=255, min_child_samples=20 will be ignored. Current value: min_data_in_leaf=255\n",
      "[LightGBM] [Info] Total Bins 2569\n",
      "[LightGBM] [Info] Number of data points in the train set: 5762054, number of used features: 17\n",
      "[LightGBM] [Warning] min_data_in_leaf is set=255, min_child_samples=20 will be ignored. Current value: min_data_in_leaf=255\n",
      "Training until validation scores don't improve for 30 rounds\n",
      "[50]\tvalid_0's rmse: 11.736\tvalid_0's rmsse: 0.873106\n",
      "[LightGBM] [Warning] No further splits with positive gain, best gain: -inf\n",
      "[100]\tvalid_0's rmse: 11.6154\tvalid_0's rmsse: 0.796345\n",
      "[LightGBM] [Warning] No further splits with positive gain, best gain: -inf\n",
      "[150]\tvalid_0's rmse: 11.4224\tvalid_0's rmsse: 0.778455\n",
      "[200]\tvalid_0's rmse: 11.0982\tvalid_0's rmsse: 0.772963\n",
      "[LightGBM] [Warning] No further splits with positive gain, best gain: -inf\n",
      "[250]\tvalid_0's rmse: 10.6888\tvalid_0's rmsse: 0.771666\n",
      "Early stopping, best iteration is:\n",
      "[262]\tvalid_0's rmse: 10.5946\tvalid_0's rmsse: 0.77151\n"
     ]
    },
    {
     "name": "stderr",
     "output_type": "stream",
     "text": [
      "num_leaves, val_score: 10.594514:  85%|########5 | 17/20 [1:11:40<12:16, 245.42s/it][I 2021-08-19 07:09:47,957] Trial 23 finished with value: 10.594581907073772 and parameters: {'num_leaves': 122}. Best is trial 17 with value: 10.594514068452709.\n",
      "num_leaves, val_score: 10.594514:  85%|########5 | 17/20 [1:11:40<12:16, 245.42s/it]"
     ]
    },
    {
     "name": "stdout",
     "output_type": "stream",
     "text": [
      "[LightGBM] [Warning] min_data_in_leaf is set=255, min_child_samples=20 will be ignored. Current value: min_data_in_leaf=255\n",
      "[LightGBM] [Warning] min_data_in_leaf is set=255, min_child_samples=20 will be ignored. Current value: min_data_in_leaf=255\n",
      "[LightGBM] [Info] Total Bins 2569\n",
      "[LightGBM] [Info] Number of data points in the train set: 5762054, number of used features: 17\n",
      "[LightGBM] [Warning] min_data_in_leaf is set=255, min_child_samples=20 will be ignored. Current value: min_data_in_leaf=255\n",
      "Training until validation scores don't improve for 30 rounds\n",
      "[50]\tvalid_0's rmse: 11.736\tvalid_0's rmsse: 0.872923\n",
      "[LightGBM] [Warning] No further splits with positive gain, best gain: -inf\n",
      "[100]\tvalid_0's rmse: 11.6154\tvalid_0's rmsse: 0.796197\n",
      "[LightGBM] [Warning] No further splits with positive gain, best gain: -inf\n",
      "[150]\tvalid_0's rmse: 11.4222\tvalid_0's rmsse: 0.778303\n",
      "[200]\tvalid_0's rmse: 11.098\tvalid_0's rmsse: 0.772797\n",
      "[LightGBM] [Warning] No further splits with positive gain, best gain: -inf\n",
      "[250]\tvalid_0's rmse: 10.6888\tvalid_0's rmsse: 0.771509\n",
      "Early stopping, best iteration is:\n",
      "[262]\tvalid_0's rmse: 10.5952\tvalid_0's rmsse: 0.771357\n"
     ]
    },
    {
     "name": "stderr",
     "output_type": "stream",
     "text": [
      "num_leaves, val_score: 10.594514:  90%|######### | 18/20 [1:15:55<08:16, 248.22s/it][I 2021-08-19 07:14:02,691] Trial 24 finished with value: 10.595151480058922 and parameters: {'num_leaves': 141}. Best is trial 17 with value: 10.594514068452709.\n",
      "num_leaves, val_score: 10.594514:  90%|######### | 18/20 [1:15:55<08:16, 248.22s/it]"
     ]
    },
    {
     "name": "stdout",
     "output_type": "stream",
     "text": [
      "[LightGBM] [Warning] min_data_in_leaf is set=255, min_child_samples=20 will be ignored. Current value: min_data_in_leaf=255\n",
      "[LightGBM] [Warning] min_data_in_leaf is set=255, min_child_samples=20 will be ignored. Current value: min_data_in_leaf=255\n",
      "[LightGBM] [Info] Total Bins 2569\n",
      "[LightGBM] [Info] Number of data points in the train set: 5762054, number of used features: 17\n",
      "[LightGBM] [Warning] min_data_in_leaf is set=255, min_child_samples=20 will be ignored. Current value: min_data_in_leaf=255\n",
      "Training until validation scores don't improve for 30 rounds\n",
      "[50]\tvalid_0's rmse: 11.7362\tvalid_0's rmsse: 0.87426\n",
      "[100]\tvalid_0's rmse: 11.6158\tvalid_0's rmsse: 0.797095\n",
      "[150]\tvalid_0's rmse: 11.4237\tvalid_0's rmsse: 0.779213\n",
      "[200]\tvalid_0's rmse: 11.1008\tvalid_0's rmsse: 0.773787\n",
      "[LightGBM] [Warning] No further splits with positive gain, best gain: -inf\n",
      "[250]\tvalid_0's rmse: 10.6905\tvalid_0's rmsse: 0.772502\n",
      "Early stopping, best iteration is:\n",
      "[262]\tvalid_0's rmse: 10.5968\tvalid_0's rmsse: 0.772353\n"
     ]
    },
    {
     "name": "stderr",
     "output_type": "stream",
     "text": [
      "num_leaves, val_score: 10.594514:  95%|#########5| 19/20 [1:19:53<04:05, 245.03s/it][I 2021-08-19 07:18:00,300] Trial 25 finished with value: 10.596767485188147 and parameters: {'num_leaves': 57}. Best is trial 17 with value: 10.594514068452709.\n",
      "num_leaves, val_score: 10.594514:  95%|#########5| 19/20 [1:19:53<04:05, 245.03s/it]"
     ]
    },
    {
     "name": "stdout",
     "output_type": "stream",
     "text": [
      "[LightGBM] [Warning] min_data_in_leaf is set=255, min_child_samples=20 will be ignored. Current value: min_data_in_leaf=255\n",
      "[LightGBM] [Warning] min_data_in_leaf is set=255, min_child_samples=20 will be ignored. Current value: min_data_in_leaf=255\n",
      "[LightGBM] [Info] Total Bins 2569\n",
      "[LightGBM] [Info] Number of data points in the train set: 5762054, number of used features: 17\n",
      "[LightGBM] [Warning] min_data_in_leaf is set=255, min_child_samples=20 will be ignored. Current value: min_data_in_leaf=255\n",
      "Training until validation scores don't improve for 30 rounds\n",
      "[50]\tvalid_0's rmse: 11.7364\tvalid_0's rmsse: 0.875433\n",
      "[100]\tvalid_0's rmse: 11.6162\tvalid_0's rmsse: 0.797766\n",
      "[150]\tvalid_0's rmse: 11.4249\tvalid_0's rmsse: 0.779811\n",
      "[200]\tvalid_0's rmse: 11.1028\tvalid_0's rmsse: 0.774379\n",
      "[LightGBM] [Warning] No further splits with positive gain, best gain: -inf\n",
      "[250]\tvalid_0's rmse: 10.6934\tvalid_0's rmsse: 0.773068\n",
      "Early stopping, best iteration is:\n",
      "[262]\tvalid_0's rmse: 10.5987\tvalid_0's rmsse: 0.772929\n"
     ]
    },
    {
     "name": "stderr",
     "output_type": "stream",
     "text": [
      "num_leaves, val_score: 10.594514: 100%|##########| 20/20 [1:23:43<00:00, 240.56s/it][I 2021-08-19 07:21:50,451] Trial 26 finished with value: 10.598677616405126 and parameters: {'num_leaves': 33}. Best is trial 17 with value: 10.594514068452709.\n",
      "num_leaves, val_score: 10.594514: 100%|##########| 20/20 [1:23:43<00:00, 251.16s/it]\n",
      "bagging, val_score: 10.594514:   0%|          | 0/10 [00:00<?, ?it/s]"
     ]
    },
    {
     "name": "stdout",
     "output_type": "stream",
     "text": [
      "[LightGBM] [Warning] min_data_in_leaf is set=255, min_child_samples=20 will be ignored. Current value: min_data_in_leaf=255\n",
      "[LightGBM] [Warning] min_data_in_leaf is set=255, min_child_samples=20 will be ignored. Current value: min_data_in_leaf=255\n",
      "[LightGBM] [Info] Total Bins 2569\n",
      "[LightGBM] [Info] Number of data points in the train set: 5762054, number of used features: 17\n",
      "[LightGBM] [Warning] min_data_in_leaf is set=255, min_child_samples=20 will be ignored. Current value: min_data_in_leaf=255\n",
      "Training until validation scores don't improve for 30 rounds\n",
      "[50]\tvalid_0's rmse: 11.7361\tvalid_0's rmsse: 0.873111\n",
      "[100]\tvalid_0's rmse: 11.6157\tvalid_0's rmsse: 0.796447\n",
      "[150]\tvalid_0's rmse: 11.4234\tvalid_0's rmsse: 0.778601\n",
      "[200]\tvalid_0's rmse: 11.1004\tvalid_0's rmsse: 0.773179\n",
      "[LightGBM] [Warning] No further splits with positive gain, best gain: -inf\n",
      "[250]\tvalid_0's rmse: 10.6908\tvalid_0's rmsse: 0.771976\n",
      "Early stopping, best iteration is:\n",
      "[262]\tvalid_0's rmse: 10.5977\tvalid_0's rmsse: 0.771812\n"
     ]
    },
    {
     "name": "stderr",
     "output_type": "stream",
     "text": [
      "bagging, val_score: 10.594514:  10%|#         | 1/10 [04:09<37:29, 249.93s/it][I 2021-08-19 07:26:00,445] Trial 27 finished with value: 10.597697947116751 and parameters: {'bagging_fraction': 0.43091814383303634, 'bagging_freq': 6}. Best is trial 27 with value: 10.597697947116751.\n",
      "bagging, val_score: 10.594514:  10%|#         | 1/10 [04:09<37:29, 249.93s/it]"
     ]
    },
    {
     "name": "stdout",
     "output_type": "stream",
     "text": [
      "[LightGBM] [Warning] min_data_in_leaf is set=255, min_child_samples=20 will be ignored. Current value: min_data_in_leaf=255\n",
      "[LightGBM] [Warning] min_data_in_leaf is set=255, min_child_samples=20 will be ignored. Current value: min_data_in_leaf=255\n",
      "[LightGBM] [Info] Total Bins 2569\n",
      "[LightGBM] [Info] Number of data points in the train set: 5762054, number of used features: 17\n",
      "[LightGBM] [Warning] min_data_in_leaf is set=255, min_child_samples=20 will be ignored. Current value: min_data_in_leaf=255\n",
      "Training until validation scores don't improve for 30 rounds\n",
      "[50]\tvalid_0's rmse: 11.736\tvalid_0's rmsse: 0.873268\n",
      "[100]\tvalid_0's rmse: 11.6155\tvalid_0's rmsse: 0.796472\n",
      "[150]\tvalid_0's rmse: 11.4228\tvalid_0's rmsse: 0.77859\n",
      "[200]\tvalid_0's rmse: 11.0989\tvalid_0's rmsse: 0.773108\n",
      "[LightGBM] [Warning] No further splits with positive gain, best gain: -inf\n",
      "[250]\tvalid_0's rmse: 10.6892\tvalid_0's rmsse: 0.771828\n",
      "Early stopping, best iteration is:\n",
      "[262]\tvalid_0's rmse: 10.5963\tvalid_0's rmsse: 0.771653\n"
     ]
    },
    {
     "name": "stderr",
     "output_type": "stream",
     "text": [
      "bagging, val_score: 10.594514:  20%|##        | 2/10 [08:39<34:51, 261.43s/it][I 2021-08-19 07:30:29,923] Trial 28 finished with value: 10.59627386412518 and parameters: {'bagging_fraction': 0.7382596642643685, 'bagging_freq': 2}. Best is trial 28 with value: 10.59627386412518.\n",
      "bagging, val_score: 10.594514:  20%|##        | 2/10 [08:39<34:51, 261.43s/it]"
     ]
    },
    {
     "name": "stdout",
     "output_type": "stream",
     "text": [
      "[LightGBM] [Warning] min_data_in_leaf is set=255, min_child_samples=20 will be ignored. Current value: min_data_in_leaf=255\n",
      "[LightGBM] [Warning] min_data_in_leaf is set=255, min_child_samples=20 will be ignored. Current value: min_data_in_leaf=255\n",
      "[LightGBM] [Info] Total Bins 2569\n",
      "[LightGBM] [Info] Number of data points in the train set: 5762054, number of used features: 17\n",
      "[LightGBM] [Warning] min_data_in_leaf is set=255, min_child_samples=20 will be ignored. Current value: min_data_in_leaf=255\n",
      "Training until validation scores don't improve for 30 rounds\n",
      "[50]\tvalid_0's rmse: 11.736\tvalid_0's rmsse: 0.873299\n",
      "[100]\tvalid_0's rmse: 11.6156\tvalid_0's rmsse: 0.796483\n",
      "[150]\tvalid_0's rmse: 11.423\tvalid_0's rmsse: 0.778597\n",
      "[200]\tvalid_0's rmse: 11.0993\tvalid_0's rmsse: 0.773123\n",
      "[LightGBM] [Warning] No further splits with positive gain, best gain: -inf\n",
      "[250]\tvalid_0's rmse: 10.6896\tvalid_0's rmsse: 0.771895\n",
      "Early stopping, best iteration is:\n",
      "[262]\tvalid_0's rmse: 10.5977\tvalid_0's rmsse: 0.771723\n"
     ]
    },
    {
     "name": "stderr",
     "output_type": "stream",
     "text": [
      "bagging, val_score: 10.594514:  30%|###       | 3/10 [12:57<30:18, 259.85s/it][I 2021-08-19 07:34:47,903] Trial 29 finished with value: 10.597651546512559 and parameters: {'bagging_fraction': 0.6525931712839419, 'bagging_freq': 6}. Best is trial 28 with value: 10.59627386412518.\n",
      "bagging, val_score: 10.594514:  30%|###       | 3/10 [12:57<30:18, 259.85s/it]"
     ]
    },
    {
     "name": "stdout",
     "output_type": "stream",
     "text": [
      "[LightGBM] [Warning] min_data_in_leaf is set=255, min_child_samples=20 will be ignored. Current value: min_data_in_leaf=255\n",
      "[LightGBM] [Warning] min_data_in_leaf is set=255, min_child_samples=20 will be ignored. Current value: min_data_in_leaf=255\n",
      "[LightGBM] [Info] Total Bins 2569\n",
      "[LightGBM] [Info] Number of data points in the train set: 5762054, number of used features: 17\n",
      "[LightGBM] [Warning] min_data_in_leaf is set=255, min_child_samples=20 will be ignored. Current value: min_data_in_leaf=255\n",
      "Training until validation scores don't improve for 30 rounds\n",
      "[50]\tvalid_0's rmse: 11.736\tvalid_0's rmsse: 0.873237\n",
      "[100]\tvalid_0's rmse: 11.6154\tvalid_0's rmsse: 0.796456\n",
      "[150]\tvalid_0's rmse: 11.4225\tvalid_0's rmsse: 0.778583\n",
      "[200]\tvalid_0's rmse: 11.0981\tvalid_0's rmsse: 0.773105\n",
      "[LightGBM] [Warning] No further splits with positive gain, best gain: -inf\n",
      "[250]\tvalid_0's rmse: 10.6873\tvalid_0's rmsse: 0.771828\n",
      "Early stopping, best iteration is:\n",
      "[261]\tvalid_0's rmse: 10.6047\tvalid_0's rmsse: 0.771673\n"
     ]
    },
    {
     "name": "stderr",
     "output_type": "stream",
     "text": [
      "bagging, val_score: 10.594514:  40%|####      | 4/10 [17:24<26:16, 262.70s/it][I 2021-08-19 07:39:14,962] Trial 30 finished with value: 10.604680754002546 and parameters: {'bagging_fraction': 0.8609495748530137, 'bagging_freq': 4}. Best is trial 28 with value: 10.59627386412518.\n",
      "bagging, val_score: 10.594514:  40%|####      | 4/10 [17:24<26:16, 262.70s/it]"
     ]
    },
    {
     "name": "stdout",
     "output_type": "stream",
     "text": [
      "[LightGBM] [Warning] min_data_in_leaf is set=255, min_child_samples=20 will be ignored. Current value: min_data_in_leaf=255\n",
      "[LightGBM] [Warning] min_data_in_leaf is set=255, min_child_samples=20 will be ignored. Current value: min_data_in_leaf=255\n",
      "[LightGBM] [Info] Total Bins 2569\n",
      "[LightGBM] [Info] Number of data points in the train set: 5762054, number of used features: 17\n",
      "[LightGBM] [Warning] min_data_in_leaf is set=255, min_child_samples=20 will be ignored. Current value: min_data_in_leaf=255\n",
      "Training until validation scores don't improve for 30 rounds\n",
      "[50]\tvalid_0's rmse: 11.7361\tvalid_0's rmsse: 0.873284\n",
      "[100]\tvalid_0's rmse: 11.6156\tvalid_0's rmsse: 0.796514\n",
      "[150]\tvalid_0's rmse: 11.4228\tvalid_0's rmsse: 0.778639\n",
      "[200]\tvalid_0's rmse: 11.0987\tvalid_0's rmsse: 0.773153\n",
      "[LightGBM] [Warning] No further splits with positive gain, best gain: -inf\n",
      "[250]\tvalid_0's rmse: 10.6874\tvalid_0's rmsse: 0.771892\n",
      "Early stopping, best iteration is:\n",
      "[262]\tvalid_0's rmse: 10.594\tvalid_0's rmsse: 0.771743\n"
     ]
    },
    {
     "name": "stderr",
     "output_type": "stream",
     "text": [
      "bagging, val_score: 10.594003:  50%|#####     | 5/10 [21:42<21:45, 261.03s/it][I 2021-08-19 07:43:33,030] Trial 31 finished with value: 10.59400292193269 and parameters: {'bagging_fraction': 0.6195425484798118, 'bagging_freq': 4}. Best is trial 31 with value: 10.59400292193269.\n",
      "bagging, val_score: 10.594003:  50%|#####     | 5/10 [21:42<21:45, 261.03s/it]"
     ]
    },
    {
     "name": "stdout",
     "output_type": "stream",
     "text": [
      "[LightGBM] [Warning] min_data_in_leaf is set=255, min_child_samples=20 will be ignored. Current value: min_data_in_leaf=255\n",
      "[LightGBM] [Warning] min_data_in_leaf is set=255, min_child_samples=20 will be ignored. Current value: min_data_in_leaf=255\n",
      "[LightGBM] [Info] Total Bins 2569\n",
      "[LightGBM] [Info] Number of data points in the train set: 5762054, number of used features: 17\n",
      "[LightGBM] [Warning] min_data_in_leaf is set=255, min_child_samples=20 will be ignored. Current value: min_data_in_leaf=255\n",
      "Training until validation scores don't improve for 30 rounds\n",
      "[50]\tvalid_0's rmse: 11.736\tvalid_0's rmsse: 0.873277\n",
      "[100]\tvalid_0's rmse: 11.6156\tvalid_0's rmsse: 0.796498\n",
      "[150]\tvalid_0's rmse: 11.423\tvalid_0's rmsse: 0.778628\n",
      "[200]\tvalid_0's rmse: 11.0999\tvalid_0's rmsse: 0.773185\n",
      "[LightGBM] [Warning] No further splits with positive gain, best gain: -inf\n",
      "[250]\tvalid_0's rmse: 10.6892\tvalid_0's rmsse: 0.771899\n",
      "Early stopping, best iteration is:\n",
      "[261]\tvalid_0's rmse: 10.6072\tvalid_0's rmsse: 0.771749\n"
     ]
    },
    {
     "name": "stderr",
     "output_type": "stream",
     "text": [
      "bagging, val_score: 10.594003:  60%|######    | 6/10 [25:57<17:15, 258.97s/it][I 2021-08-19 07:47:48,008] Trial 32 finished with value: 10.607155953087107 and parameters: {'bagging_fraction': 0.6050540874329335, 'bagging_freq': 5}. Best is trial 31 with value: 10.59400292193269.\n",
      "bagging, val_score: 10.594003:  60%|######    | 6/10 [25:57<17:15, 258.97s/it]"
     ]
    },
    {
     "name": "stdout",
     "output_type": "stream",
     "text": [
      "[LightGBM] [Warning] min_data_in_leaf is set=255, min_child_samples=20 will be ignored. Current value: min_data_in_leaf=255\n",
      "[LightGBM] [Warning] min_data_in_leaf is set=255, min_child_samples=20 will be ignored. Current value: min_data_in_leaf=255\n",
      "[LightGBM] [Info] Total Bins 2569\n",
      "[LightGBM] [Info] Number of data points in the train set: 5762054, number of used features: 17\n",
      "[LightGBM] [Warning] min_data_in_leaf is set=255, min_child_samples=20 will be ignored. Current value: min_data_in_leaf=255\n",
      "Training until validation scores don't improve for 30 rounds\n",
      "[50]\tvalid_0's rmse: 11.736\tvalid_0's rmsse: 0.873205\n",
      "[100]\tvalid_0's rmse: 11.6156\tvalid_0's rmsse: 0.796442\n",
      "[150]\tvalid_0's rmse: 11.4228\tvalid_0's rmsse: 0.778599\n",
      "[200]\tvalid_0's rmse: 11.099\tvalid_0's rmsse: 0.773144\n",
      "[LightGBM] [Warning] No further splits with positive gain, best gain: -inf\n",
      "[250]\tvalid_0's rmse: 10.6879\tvalid_0's rmsse: 0.77191\n",
      "Early stopping, best iteration is:\n",
      "[262]\tvalid_0's rmse: 10.5959\tvalid_0's rmsse: 0.771742\n"
     ]
    },
    {
     "name": "stderr",
     "output_type": "stream",
     "text": [
      "bagging, val_score: 10.594003:  70%|#######   | 7/10 [30:17<12:58, 259.40s/it][I 2021-08-19 07:52:08,297] Trial 33 finished with value: 10.595920023911393 and parameters: {'bagging_fraction': 0.7424488624708965, 'bagging_freq': 6}. Best is trial 31 with value: 10.59400292193269.\n",
      "bagging, val_score: 10.594003:  70%|#######   | 7/10 [30:17<12:58, 259.40s/it]"
     ]
    },
    {
     "name": "stdout",
     "output_type": "stream",
     "text": [
      "[LightGBM] [Warning] min_data_in_leaf is set=255, min_child_samples=20 will be ignored. Current value: min_data_in_leaf=255\n",
      "[LightGBM] [Warning] min_data_in_leaf is set=255, min_child_samples=20 will be ignored. Current value: min_data_in_leaf=255\n",
      "[LightGBM] [Info] Total Bins 2569\n",
      "[LightGBM] [Info] Number of data points in the train set: 5762054, number of used features: 17\n",
      "[LightGBM] [Warning] min_data_in_leaf is set=255, min_child_samples=20 will be ignored. Current value: min_data_in_leaf=255\n",
      "Training until validation scores don't improve for 30 rounds\n",
      "[50]\tvalid_0's rmse: 11.7361\tvalid_0's rmsse: 0.873243\n",
      "[100]\tvalid_0's rmse: 11.6157\tvalid_0's rmsse: 0.796501\n",
      "[150]\tvalid_0's rmse: 11.423\tvalid_0's rmsse: 0.778635\n",
      "[200]\tvalid_0's rmse: 11.0992\tvalid_0's rmsse: 0.773152\n",
      "[LightGBM] [Warning] No further splits with positive gain, best gain: -inf\n",
      "[250]\tvalid_0's rmse: 10.6903\tvalid_0's rmsse: 0.771911\n",
      "Early stopping, best iteration is:\n",
      "[262]\tvalid_0's rmse: 10.5989\tvalid_0's rmsse: 0.771762\n"
     ]
    },
    {
     "name": "stderr",
     "output_type": "stream",
     "text": [
      "bagging, val_score: 10.594003:  80%|########  | 8/10 [34:29<08:34, 257.11s/it][I 2021-08-19 07:56:20,515] Trial 34 finished with value: 10.598920265070166 and parameters: {'bagging_fraction': 0.47713613701452917, 'bagging_freq': 4}. Best is trial 31 with value: 10.59400292193269.\n",
      "bagging, val_score: 10.594003:  80%|########  | 8/10 [34:30<08:34, 257.11s/it]"
     ]
    },
    {
     "name": "stdout",
     "output_type": "stream",
     "text": [
      "[LightGBM] [Warning] min_data_in_leaf is set=255, min_child_samples=20 will be ignored. Current value: min_data_in_leaf=255\n",
      "[LightGBM] [Warning] min_data_in_leaf is set=255, min_child_samples=20 will be ignored. Current value: min_data_in_leaf=255\n",
      "[LightGBM] [Info] Total Bins 2569\n",
      "[LightGBM] [Info] Number of data points in the train set: 5762054, number of used features: 17\n",
      "[LightGBM] [Warning] min_data_in_leaf is set=255, min_child_samples=20 will be ignored. Current value: min_data_in_leaf=255\n",
      "Training until validation scores don't improve for 30 rounds\n",
      "[50]\tvalid_0's rmse: 11.736\tvalid_0's rmsse: 0.87323\n",
      "[100]\tvalid_0's rmse: 11.6155\tvalid_0's rmsse: 0.796488\n",
      "[150]\tvalid_0's rmse: 11.4225\tvalid_0's rmsse: 0.778647\n",
      "[200]\tvalid_0's rmse: 11.0988\tvalid_0's rmsse: 0.773182\n",
      "[LightGBM] [Warning] No further splits with positive gain, best gain: -inf\n",
      "[250]\tvalid_0's rmse: 10.6874\tvalid_0's rmsse: 0.771894\n",
      "Early stopping, best iteration is:\n",
      "[262]\tvalid_0's rmse: 10.5942\tvalid_0's rmsse: 0.771738\n"
     ]
    },
    {
     "name": "stderr",
     "output_type": "stream",
     "text": [
      "bagging, val_score: 10.594003:  90%|######### | 9/10 [38:52<04:18, 258.76s/it][I 2021-08-19 08:00:42,896] Trial 35 finished with value: 10.594156406045846 and parameters: {'bagging_fraction': 0.7239790097297278, 'bagging_freq': 5}. Best is trial 31 with value: 10.59400292193269.\n",
      "bagging, val_score: 10.594003:  90%|######### | 9/10 [38:52<04:18, 258.76s/it]"
     ]
    },
    {
     "name": "stdout",
     "output_type": "stream",
     "text": [
      "[LightGBM] [Warning] min_data_in_leaf is set=255, min_child_samples=20 will be ignored. Current value: min_data_in_leaf=255\n",
      "[LightGBM] [Warning] min_data_in_leaf is set=255, min_child_samples=20 will be ignored. Current value: min_data_in_leaf=255\n",
      "[LightGBM] [Info] Total Bins 2569\n",
      "[LightGBM] [Info] Number of data points in the train set: 5762054, number of used features: 17\n",
      "[LightGBM] [Warning] min_data_in_leaf is set=255, min_child_samples=20 will be ignored. Current value: min_data_in_leaf=255\n",
      "Training until validation scores don't improve for 30 rounds\n",
      "[50]\tvalid_0's rmse: 11.736\tvalid_0's rmsse: 0.8733\n",
      "[100]\tvalid_0's rmse: 11.6154\tvalid_0's rmsse: 0.796467\n",
      "[150]\tvalid_0's rmse: 11.4225\tvalid_0's rmsse: 0.778571\n",
      "[200]\tvalid_0's rmse: 11.098\tvalid_0's rmsse: 0.773075\n",
      "[LightGBM] [Warning] No further splits with positive gain, best gain: -inf\n",
      "[250]\tvalid_0's rmse: 10.688\tvalid_0's rmsse: 0.771799\n",
      "Early stopping, best iteration is:\n",
      "[262]\tvalid_0's rmse: 10.5943\tvalid_0's rmsse: 0.771628\n"
     ]
    },
    {
     "name": "stderr",
     "output_type": "stream",
     "text": [
      "bagging, val_score: 10.594003: 100%|##########| 10/10 [43:26<00:00, 263.61s/it][I 2021-08-19 08:05:17,376] Trial 36 finished with value: 10.59430001624761 and parameters: {'bagging_fraction': 0.8563397705195925, 'bagging_freq': 2}. Best is trial 31 with value: 10.59400292193269.\n",
      "bagging, val_score: 10.594003: 100%|##########| 10/10 [43:26<00:00, 260.69s/it]\n",
      "feature_fraction_stage2, val_score: 10.594003:   0%|          | 0/3 [00:00<?, ?it/s]"
     ]
    },
    {
     "name": "stdout",
     "output_type": "stream",
     "text": [
      "[LightGBM] [Warning] min_data_in_leaf is set=255, min_child_samples=20 will be ignored. Current value: min_data_in_leaf=255\n",
      "[LightGBM] [Warning] min_data_in_leaf is set=255, min_child_samples=20 will be ignored. Current value: min_data_in_leaf=255\n",
      "[LightGBM] [Info] Total Bins 2569\n",
      "[LightGBM] [Info] Number of data points in the train set: 5762054, number of used features: 17\n",
      "[LightGBM] [Warning] min_data_in_leaf is set=255, min_child_samples=20 will be ignored. Current value: min_data_in_leaf=255\n",
      "Training until validation scores don't improve for 30 rounds\n",
      "[50]\tvalid_0's rmse: 11.7303\tvalid_0's rmsse: 0.857879\n",
      "[100]\tvalid_0's rmse: 11.5974\tvalid_0's rmsse: 0.789905\n",
      "[150]\tvalid_0's rmse: 11.3875\tvalid_0's rmsse: 0.774912\n",
      "[200]\tvalid_0's rmse: 11.0237\tvalid_0's rmsse: 0.771004\n",
      "[250]\tvalid_0's rmse: 10.5949\tvalid_0's rmsse: 0.770898\n",
      "Early stopping, best iteration is:\n",
      "[236]\tvalid_0's rmse: 10.7173\tvalid_0's rmsse: 0.770663\n"
     ]
    },
    {
     "name": "stderr",
     "output_type": "stream",
     "text": [
      "feature_fraction_stage2, val_score: 10.594003:  33%|###3      | 1/3 [03:56<07:53, 236.83s/it][I 2021-08-19 08:09:14,261] Trial 37 finished with value: 10.717283052547401 and parameters: {'feature_fraction': 0.44800000000000006}. Best is trial 37 with value: 10.717283052547401.\n",
      "feature_fraction_stage2, val_score: 10.594003:  33%|###3      | 1/3 [03:56<07:53, 236.83s/it]"
     ]
    },
    {
     "name": "stdout",
     "output_type": "stream",
     "text": [
      "[LightGBM] [Warning] min_data_in_leaf is set=255, min_child_samples=20 will be ignored. Current value: min_data_in_leaf=255\n",
      "[LightGBM] [Warning] min_data_in_leaf is set=255, min_child_samples=20 will be ignored. Current value: min_data_in_leaf=255\n",
      "[LightGBM] [Info] Total Bins 2569\n",
      "[LightGBM] [Info] Number of data points in the train set: 5762054, number of used features: 17\n",
      "[LightGBM] [Warning] min_data_in_leaf is set=255, min_child_samples=20 will be ignored. Current value: min_data_in_leaf=255\n",
      "Training until validation scores don't improve for 30 rounds\n",
      "[50]\tvalid_0's rmse: 11.7361\tvalid_0's rmsse: 0.873284\n",
      "[100]\tvalid_0's rmse: 11.6156\tvalid_0's rmsse: 0.796514\n",
      "[150]\tvalid_0's rmse: 11.4228\tvalid_0's rmsse: 0.778639\n",
      "[200]\tvalid_0's rmse: 11.0987\tvalid_0's rmsse: 0.773153\n",
      "[LightGBM] [Warning] No further splits with positive gain, best gain: -inf\n",
      "[250]\tvalid_0's rmse: 10.6874\tvalid_0's rmsse: 0.771892\n",
      "Early stopping, best iteration is:\n",
      "[262]\tvalid_0's rmse: 10.594\tvalid_0's rmsse: 0.771743\n"
     ]
    },
    {
     "name": "stderr",
     "output_type": "stream",
     "text": [
      "feature_fraction_stage2, val_score: 10.594003:  67%|######6   | 2/3 [08:16<04:10, 250.29s/it][I 2021-08-19 08:13:33,969] Trial 38 finished with value: 10.59400292193269 and parameters: {'feature_fraction': 0.41600000000000004}. Best is trial 38 with value: 10.59400292193269.\n",
      "feature_fraction_stage2, val_score: 10.594003:  67%|######6   | 2/3 [08:16<04:10, 250.29s/it]"
     ]
    },
    {
     "name": "stdout",
     "output_type": "stream",
     "text": [
      "[LightGBM] [Warning] min_data_in_leaf is set=255, min_child_samples=20 will be ignored. Current value: min_data_in_leaf=255\n",
      "[LightGBM] [Warning] min_data_in_leaf is set=255, min_child_samples=20 will be ignored. Current value: min_data_in_leaf=255\n",
      "[LightGBM] [Info] Total Bins 2569\n",
      "[LightGBM] [Info] Number of data points in the train set: 5762054, number of used features: 17\n",
      "[LightGBM] [Warning] min_data_in_leaf is set=255, min_child_samples=20 will be ignored. Current value: min_data_in_leaf=255\n",
      "Training until validation scores don't improve for 30 rounds\n",
      "[50]\tvalid_0's rmse: 11.7303\tvalid_0's rmsse: 0.857879\n",
      "[100]\tvalid_0's rmse: 11.5974\tvalid_0's rmsse: 0.789905\n",
      "[150]\tvalid_0's rmse: 11.3875\tvalid_0's rmsse: 0.774912\n",
      "[200]\tvalid_0's rmse: 11.0237\tvalid_0's rmsse: 0.771004\n",
      "[250]\tvalid_0's rmse: 10.5949\tvalid_0's rmsse: 0.770898\n",
      "Early stopping, best iteration is:\n",
      "[236]\tvalid_0's rmse: 10.7173\tvalid_0's rmsse: 0.770663\n"
     ]
    },
    {
     "name": "stderr",
     "output_type": "stream",
     "text": [
      "feature_fraction_stage2, val_score: 10.594003: 100%|##########| 3/3 [12:13<00:00, 244.13s/it][I 2021-08-19 08:17:30,764] Trial 39 finished with value: 10.717283052547401 and parameters: {'feature_fraction': 0.48000000000000004}. Best is trial 38 with value: 10.59400292193269.\n",
      "feature_fraction_stage2, val_score: 10.594003: 100%|##########| 3/3 [12:13<00:00, 244.46s/it]\n",
      "regularization_factors, val_score: 10.594003:   0%|          | 0/20 [00:00<?, ?it/s]"
     ]
    },
    {
     "name": "stdout",
     "output_type": "stream",
     "text": [
      "[LightGBM] [Warning] min_data_in_leaf is set=255, min_child_samples=20 will be ignored. Current value: min_data_in_leaf=255\n",
      "[LightGBM] [Warning] min_data_in_leaf is set=255, min_child_samples=20 will be ignored. Current value: min_data_in_leaf=255\n",
      "[LightGBM] [Info] Total Bins 2569\n",
      "[LightGBM] [Info] Number of data points in the train set: 5762054, number of used features: 17\n",
      "[LightGBM] [Warning] min_data_in_leaf is set=255, min_child_samples=20 will be ignored. Current value: min_data_in_leaf=255\n",
      "Training until validation scores don't improve for 30 rounds\n",
      "[50]\tvalid_0's rmse: 11.7361\tvalid_0's rmsse: 0.873287\n",
      "[100]\tvalid_0's rmse: 11.6156\tvalid_0's rmsse: 0.796504\n",
      "[150]\tvalid_0's rmse: 11.4227\tvalid_0's rmsse: 0.778631\n",
      "[200]\tvalid_0's rmse: 11.0986\tvalid_0's rmsse: 0.773165\n",
      "[LightGBM] [Warning] No further splits with positive gain, best gain: -inf\n",
      "[250]\tvalid_0's rmse: 10.6871\tvalid_0's rmsse: 0.771897\n",
      "Early stopping, best iteration is:\n",
      "[262]\tvalid_0's rmse: 10.5934\tvalid_0's rmsse: 0.771752\n"
     ]
    },
    {
     "name": "stderr",
     "output_type": "stream",
     "text": [
      "regularization_factors, val_score: 10.593416:   5%|5         | 1/20 [04:20<1:22:20, 260.05s/it][I 2021-08-19 08:21:50,869] Trial 40 finished with value: 10.593416407931112 and parameters: {'lambda_l1': 3.627077476399358e-07, 'lambda_l2': 1.0320477844997085}. Best is trial 40 with value: 10.593416407931112.\n",
      "regularization_factors, val_score: 10.593416:   5%|5         | 1/20 [04:20<1:22:20, 260.05s/it]"
     ]
    },
    {
     "name": "stdout",
     "output_type": "stream",
     "text": [
      "[LightGBM] [Warning] min_data_in_leaf is set=255, min_child_samples=20 will be ignored. Current value: min_data_in_leaf=255\n",
      "[LightGBM] [Warning] min_data_in_leaf is set=255, min_child_samples=20 will be ignored. Current value: min_data_in_leaf=255\n",
      "[LightGBM] [Info] Total Bins 2569\n",
      "[LightGBM] [Info] Number of data points in the train set: 5762054, number of used features: 17\n",
      "[LightGBM] [Warning] min_data_in_leaf is set=255, min_child_samples=20 will be ignored. Current value: min_data_in_leaf=255\n",
      "Training until validation scores don't improve for 30 rounds\n",
      "[50]\tvalid_0's rmse: 11.7361\tvalid_0's rmsse: 0.873287\n",
      "[100]\tvalid_0's rmse: 11.6156\tvalid_0's rmsse: 0.796507\n",
      "[150]\tvalid_0's rmse: 11.4229\tvalid_0's rmsse: 0.778642\n",
      "[200]\tvalid_0's rmse: 11.0988\tvalid_0's rmsse: 0.77317\n",
      "[LightGBM] [Warning] No further splits with positive gain, best gain: -inf\n",
      "[250]\tvalid_0's rmse: 10.6871\tvalid_0's rmsse: 0.771912\n",
      "Early stopping, best iteration is:\n",
      "[262]\tvalid_0's rmse: 10.5936\tvalid_0's rmsse: 0.77176\n"
     ]
    },
    {
     "name": "stderr",
     "output_type": "stream",
     "text": [
      "regularization_factors, val_score: 10.593416:  10%|#         | 2/20 [08:38<1:17:45, 259.19s/it][I 2021-08-19 08:26:09,458] Trial 41 finished with value: 10.593554887985992 and parameters: {'lambda_l1': 0.0009088604743139516, 'lambda_l2': 0.37217266610357197}. Best is trial 40 with value: 10.593416407931112.\n",
      "regularization_factors, val_score: 10.593416:  10%|#         | 2/20 [08:38<1:17:45, 259.19s/it]"
     ]
    },
    {
     "name": "stdout",
     "output_type": "stream",
     "text": [
      "[LightGBM] [Warning] min_data_in_leaf is set=255, min_child_samples=20 will be ignored. Current value: min_data_in_leaf=255\n",
      "[LightGBM] [Warning] min_data_in_leaf is set=255, min_child_samples=20 will be ignored. Current value: min_data_in_leaf=255\n",
      "[LightGBM] [Info] Total Bins 2569\n",
      "[LightGBM] [Info] Number of data points in the train set: 5762054, number of used features: 17\n",
      "[LightGBM] [Warning] min_data_in_leaf is set=255, min_child_samples=20 will be ignored. Current value: min_data_in_leaf=255\n",
      "Training until validation scores don't improve for 30 rounds\n",
      "[50]\tvalid_0's rmse: 11.7361\tvalid_0's rmsse: 0.873252\n",
      "[100]\tvalid_0's rmse: 11.6156\tvalid_0's rmsse: 0.796504\n",
      "[150]\tvalid_0's rmse: 11.4229\tvalid_0's rmsse: 0.778639\n",
      "[200]\tvalid_0's rmse: 11.0988\tvalid_0's rmsse: 0.773174\n",
      "[LightGBM] [Warning] No further splits with positive gain, best gain: -inf\n",
      "[250]\tvalid_0's rmse: 10.6871\tvalid_0's rmsse: 0.77191\n",
      "Early stopping, best iteration is:\n",
      "[262]\tvalid_0's rmse: 10.5935\tvalid_0's rmsse: 0.771757\n"
     ]
    },
    {
     "name": "stderr",
     "output_type": "stream",
     "text": [
      "regularization_factors, val_score: 10.593416:  15%|#5        | 3/20 [13:00<1:13:45, 260.32s/it][I 2021-08-19 08:30:31,137] Trial 42 finished with value: 10.593496836556241 and parameters: {'lambda_l1': 5.7445639265697465e-08, 'lambda_l2': 0.0001753339008498149}. Best is trial 40 with value: 10.593416407931112.\n",
      "regularization_factors, val_score: 10.593416:  15%|#5        | 3/20 [13:00<1:13:45, 260.32s/it]"
     ]
    },
    {
     "name": "stdout",
     "output_type": "stream",
     "text": [
      "[LightGBM] [Warning] min_data_in_leaf is set=255, min_child_samples=20 will be ignored. Current value: min_data_in_leaf=255\n",
      "[LightGBM] [Warning] min_data_in_leaf is set=255, min_child_samples=20 will be ignored. Current value: min_data_in_leaf=255\n",
      "[LightGBM] [Info] Total Bins 2569\n",
      "[LightGBM] [Info] Number of data points in the train set: 5762054, number of used features: 17\n",
      "[LightGBM] [Warning] min_data_in_leaf is set=255, min_child_samples=20 will be ignored. Current value: min_data_in_leaf=255\n",
      "Training until validation scores don't improve for 30 rounds\n",
      "[50]\tvalid_0's rmse: 11.7361\tvalid_0's rmsse: 0.873288\n",
      "[100]\tvalid_0's rmse: 11.6156\tvalid_0's rmsse: 0.796515\n",
      "[150]\tvalid_0's rmse: 11.4228\tvalid_0's rmsse: 0.77864\n",
      "[200]\tvalid_0's rmse: 11.0988\tvalid_0's rmsse: 0.773174\n",
      "[LightGBM] [Warning] No further splits with positive gain, best gain: -inf\n",
      "[250]\tvalid_0's rmse: 10.687\tvalid_0's rmsse: 0.771912\n",
      "Early stopping, best iteration is:\n",
      "[262]\tvalid_0's rmse: 10.5934\tvalid_0's rmsse: 0.771758\n"
     ]
    },
    {
     "name": "stderr",
     "output_type": "stream",
     "text": [
      "regularization_factors, val_score: 10.593413:  20%|##        | 4/20 [20:14<1:27:40, 328.79s/it][I 2021-08-19 08:37:44,922] Trial 43 finished with value: 10.59341322286065 and parameters: {'lambda_l1': 2.0382871359320976e-05, 'lambda_l2': 5.622044833283634e-08}. Best is trial 43 with value: 10.59341322286065.\n",
      "regularization_factors, val_score: 10.593413:  20%|##        | 4/20 [20:14<1:27:40, 328.79s/it]"
     ]
    },
    {
     "name": "stdout",
     "output_type": "stream",
     "text": [
      "[LightGBM] [Warning] min_data_in_leaf is set=255, min_child_samples=20 will be ignored. Current value: min_data_in_leaf=255\n",
      "[LightGBM] [Warning] min_data_in_leaf is set=255, min_child_samples=20 will be ignored. Current value: min_data_in_leaf=255\n",
      "[LightGBM] [Info] Total Bins 2569\n",
      "[LightGBM] [Info] Number of data points in the train set: 5762054, number of used features: 17\n",
      "[LightGBM] [Warning] min_data_in_leaf is set=255, min_child_samples=20 will be ignored. Current value: min_data_in_leaf=255\n",
      "Training until validation scores don't improve for 30 rounds\n",
      "[50]\tvalid_0's rmse: 11.7361\tvalid_0's rmsse: 0.873279\n",
      "[100]\tvalid_0's rmse: 11.6156\tvalid_0's rmsse: 0.796508\n",
      "[150]\tvalid_0's rmse: 11.4229\tvalid_0's rmsse: 0.778638\n",
      "[200]\tvalid_0's rmse: 11.0987\tvalid_0's rmsse: 0.773169\n",
      "[LightGBM] [Warning] No further splits with positive gain, best gain: -inf\n",
      "[250]\tvalid_0's rmse: 10.6872\tvalid_0's rmsse: 0.771898\n",
      "Early stopping, best iteration is:\n",
      "[262]\tvalid_0's rmse: 10.5936\tvalid_0's rmsse: 0.771746\n"
     ]
    },
    {
     "name": "stderr",
     "output_type": "stream",
     "text": [
      "regularization_factors, val_score: 10.593413:  25%|##5       | 5/20 [27:57<1:34:22, 377.47s/it][I 2021-08-19 08:45:28,711] Trial 44 finished with value: 10.59364198643792 and parameters: {'lambda_l1': 0.006236165056390361, 'lambda_l2': 0.004273040485229455}. Best is trial 43 with value: 10.59341322286065.\n",
      "regularization_factors, val_score: 10.593413:  25%|##5       | 5/20 [27:57<1:34:22, 377.47s/it]"
     ]
    },
    {
     "name": "stdout",
     "output_type": "stream",
     "text": [
      "[LightGBM] [Warning] min_data_in_leaf is set=255, min_child_samples=20 will be ignored. Current value: min_data_in_leaf=255\n",
      "[LightGBM] [Warning] min_data_in_leaf is set=255, min_child_samples=20 will be ignored. Current value: min_data_in_leaf=255\n",
      "[LightGBM] [Info] Total Bins 2569\n",
      "[LightGBM] [Info] Number of data points in the train set: 5762054, number of used features: 17\n",
      "[LightGBM] [Warning] min_data_in_leaf is set=255, min_child_samples=20 will be ignored. Current value: min_data_in_leaf=255\n",
      "Training until validation scores don't improve for 30 rounds\n",
      "[50]\tvalid_0's rmse: 11.7361\tvalid_0's rmsse: 0.873257\n",
      "[100]\tvalid_0's rmse: 11.6156\tvalid_0's rmsse: 0.796505\n",
      "[150]\tvalid_0's rmse: 11.4229\tvalid_0's rmsse: 0.778643\n",
      "[200]\tvalid_0's rmse: 11.0988\tvalid_0's rmsse: 0.773159\n",
      "[LightGBM] [Warning] No further splits with positive gain, best gain: -inf\n",
      "[250]\tvalid_0's rmse: 10.687\tvalid_0's rmsse: 0.771899\n",
      "Early stopping, best iteration is:\n",
      "[262]\tvalid_0's rmse: 10.5935\tvalid_0's rmsse: 0.771748\n"
     ]
    },
    {
     "name": "stderr",
     "output_type": "stream",
     "text": [
      "regularization_factors, val_score: 10.593413:  30%|###       | 6/20 [35:20<1:33:16, 399.75s/it][I 2021-08-19 08:52:51,691] Trial 45 finished with value: 10.593464339906141 and parameters: {'lambda_l1': 0.00301418337673863, 'lambda_l2': 3.586503244624194e-08}. Best is trial 43 with value: 10.59341322286065.\n",
      "regularization_factors, val_score: 10.593413:  30%|###       | 6/20 [35:20<1:33:16, 399.75s/it]"
     ]
    },
    {
     "name": "stdout",
     "output_type": "stream",
     "text": [
      "[LightGBM] [Warning] min_data_in_leaf is set=255, min_child_samples=20 will be ignored. Current value: min_data_in_leaf=255\n",
      "[LightGBM] [Warning] min_data_in_leaf is set=255, min_child_samples=20 will be ignored. Current value: min_data_in_leaf=255\n",
      "[LightGBM] [Info] Total Bins 2569\n",
      "[LightGBM] [Info] Number of data points in the train set: 5762054, number of used features: 17\n",
      "[LightGBM] [Warning] min_data_in_leaf is set=255, min_child_samples=20 will be ignored. Current value: min_data_in_leaf=255\n",
      "Training until validation scores don't improve for 30 rounds\n",
      "[50]\tvalid_0's rmse: 11.7361\tvalid_0's rmsse: 0.873281\n",
      "[100]\tvalid_0's rmse: 11.6156\tvalid_0's rmsse: 0.796505\n",
      "[150]\tvalid_0's rmse: 11.4229\tvalid_0's rmsse: 0.778635\n",
      "[200]\tvalid_0's rmse: 11.0989\tvalid_0's rmsse: 0.773171\n",
      "[LightGBM] [Warning] No further splits with positive gain, best gain: -inf\n",
      "[250]\tvalid_0's rmse: 10.6872\tvalid_0's rmsse: 0.771907\n",
      "Early stopping, best iteration is:\n",
      "[262]\tvalid_0's rmse: 10.5935\tvalid_0's rmsse: 0.771754\n"
     ]
    },
    {
     "name": "stderr",
     "output_type": "stream",
     "text": [
      "regularization_factors, val_score: 10.593413:  35%|###5      | 7/20 [42:38<1:29:16, 412.07s/it][I 2021-08-19 09:00:09,141] Trial 46 finished with value: 10.59351358715591 and parameters: {'lambda_l1': 9.304676610150211e-08, 'lambda_l2': 1.0783770972872053e-06}. Best is trial 43 with value: 10.59341322286065.\n",
      "regularization_factors, val_score: 10.593413:  35%|###5      | 7/20 [42:38<1:29:16, 412.07s/it]"
     ]
    },
    {
     "name": "stdout",
     "output_type": "stream",
     "text": [
      "[LightGBM] [Warning] min_data_in_leaf is set=255, min_child_samples=20 will be ignored. Current value: min_data_in_leaf=255\n",
      "[LightGBM] [Warning] min_data_in_leaf is set=255, min_child_samples=20 will be ignored. Current value: min_data_in_leaf=255\n",
      "[LightGBM] [Info] Total Bins 2569\n",
      "[LightGBM] [Info] Number of data points in the train set: 5762054, number of used features: 17\n",
      "[LightGBM] [Warning] min_data_in_leaf is set=255, min_child_samples=20 will be ignored. Current value: min_data_in_leaf=255\n",
      "Training until validation scores don't improve for 30 rounds\n",
      "[50]\tvalid_0's rmse: 11.7361\tvalid_0's rmsse: 0.873269\n",
      "[100]\tvalid_0's rmse: 11.6156\tvalid_0's rmsse: 0.796501\n",
      "[150]\tvalid_0's rmse: 11.4228\tvalid_0's rmsse: 0.778629\n",
      "[200]\tvalid_0's rmse: 11.0988\tvalid_0's rmsse: 0.773157\n",
      "[LightGBM] [Warning] No further splits with positive gain, best gain: -inf\n",
      "[250]\tvalid_0's rmse: 10.6873\tvalid_0's rmsse: 0.771886\n",
      "Early stopping, best iteration is:\n",
      "[262]\tvalid_0's rmse: 10.5936\tvalid_0's rmsse: 0.771733\n"
     ]
    },
    {
     "name": "stderr",
     "output_type": "stream",
     "text": [
      "regularization_factors, val_score: 10.593413:  40%|####      | 8/20 [50:31<1:26:17, 431.44s/it][I 2021-08-19 09:08:02,050] Trial 47 finished with value: 10.59357393450278 and parameters: {'lambda_l1': 0.2153635773088008, 'lambda_l2': 0.06367610651951797}. Best is trial 43 with value: 10.59341322286065.\n",
      "regularization_factors, val_score: 10.593413:  40%|####      | 8/20 [50:31<1:26:17, 431.44s/it]"
     ]
    },
    {
     "name": "stdout",
     "output_type": "stream",
     "text": [
      "[LightGBM] [Warning] min_data_in_leaf is set=255, min_child_samples=20 will be ignored. Current value: min_data_in_leaf=255\n",
      "[LightGBM] [Warning] min_data_in_leaf is set=255, min_child_samples=20 will be ignored. Current value: min_data_in_leaf=255\n",
      "[LightGBM] [Info] Total Bins 2569\n",
      "[LightGBM] [Info] Number of data points in the train set: 5762054, number of used features: 17\n",
      "[LightGBM] [Warning] min_data_in_leaf is set=255, min_child_samples=20 will be ignored. Current value: min_data_in_leaf=255\n",
      "Training until validation scores don't improve for 30 rounds\n",
      "[50]\tvalid_0's rmse: 11.7361\tvalid_0's rmsse: 0.873274\n",
      "[100]\tvalid_0's rmse: 11.6156\tvalid_0's rmsse: 0.796504\n",
      "[150]\tvalid_0's rmse: 11.4229\tvalid_0's rmsse: 0.778629\n",
      "[200]\tvalid_0's rmse: 11.0989\tvalid_0's rmsse: 0.773166\n",
      "[LightGBM] [Warning] No further splits with positive gain, best gain: -inf\n",
      "[250]\tvalid_0's rmse: 10.6872\tvalid_0's rmsse: 0.771904\n",
      "Early stopping, best iteration is:\n",
      "[262]\tvalid_0's rmse: 10.5935\tvalid_0's rmsse: 0.77175\n"
     ]
    },
    {
     "name": "stderr",
     "output_type": "stream",
     "text": [
      "regularization_factors, val_score: 10.593413:  45%|####5     | 9/20 [57:59<1:20:04, 436.78s/it][I 2021-08-19 09:15:30,570] Trial 48 finished with value: 10.59353553185363 and parameters: {'lambda_l1': 5.712583154310172e-08, 'lambda_l2': 2.2984912657206116e-07}. Best is trial 43 with value: 10.59341322286065.\n",
      "regularization_factors, val_score: 10.593413:  45%|####5     | 9/20 [57:59<1:20:04, 436.78s/it]"
     ]
    },
    {
     "name": "stdout",
     "output_type": "stream",
     "text": [
      "[LightGBM] [Warning] min_data_in_leaf is set=255, min_child_samples=20 will be ignored. Current value: min_data_in_leaf=255\n",
      "[LightGBM] [Warning] min_data_in_leaf is set=255, min_child_samples=20 will be ignored. Current value: min_data_in_leaf=255\n",
      "[LightGBM] [Info] Total Bins 2569\n",
      "[LightGBM] [Info] Number of data points in the train set: 5762054, number of used features: 17\n",
      "[LightGBM] [Warning] min_data_in_leaf is set=255, min_child_samples=20 will be ignored. Current value: min_data_in_leaf=255\n",
      "Training until validation scores don't improve for 30 rounds\n",
      "[50]\tvalid_0's rmse: 11.7361\tvalid_0's rmsse: 0.873244\n",
      "[LightGBM] [Warning] No further splits with positive gain, best gain: -inf\n",
      "[100]\tvalid_0's rmse: 11.6157\tvalid_0's rmsse: 0.796513\n",
      "[150]\tvalid_0's rmse: 11.4228\tvalid_0's rmsse: 0.778652\n",
      "[200]\tvalid_0's rmse: 11.0986\tvalid_0's rmsse: 0.77319\n",
      "[LightGBM] [Warning] No further splits with positive gain, best gain: -inf\n",
      "[250]\tvalid_0's rmse: 10.6871\tvalid_0's rmsse: 0.771928\n",
      "Early stopping, best iteration is:\n",
      "[262]\tvalid_0's rmse: 10.5936\tvalid_0's rmsse: 0.771774\n"
     ]
    },
    {
     "name": "stderr",
     "output_type": "stream",
     "text": [
      "regularization_factors, val_score: 10.593413:  50%|#####     | 10/20 [1:05:06<1:12:18, 433.81s/it][I 2021-08-19 09:22:37,733] Trial 49 finished with value: 10.593595233222855 and parameters: {'lambda_l1': 2.588644163997164, 'lambda_l2': 5.4410984195148084e-05}. Best is trial 43 with value: 10.59341322286065.\n",
      "regularization_factors, val_score: 10.593413:  50%|#####     | 10/20 [1:05:06<1:12:18, 433.81s/it]"
     ]
    },
    {
     "name": "stdout",
     "output_type": "stream",
     "text": [
      "[LightGBM] [Warning] min_data_in_leaf is set=255, min_child_samples=20 will be ignored. Current value: min_data_in_leaf=255\n",
      "[LightGBM] [Warning] min_data_in_leaf is set=255, min_child_samples=20 will be ignored. Current value: min_data_in_leaf=255\n",
      "[LightGBM] [Info] Total Bins 2569\n",
      "[LightGBM] [Info] Number of data points in the train set: 5762054, number of used features: 17\n",
      "[LightGBM] [Warning] min_data_in_leaf is set=255, min_child_samples=20 will be ignored. Current value: min_data_in_leaf=255\n",
      "Training until validation scores don't improve for 30 rounds\n",
      "[50]\tvalid_0's rmse: 11.7361\tvalid_0's rmsse: 0.87329\n",
      "[100]\tvalid_0's rmse: 11.6156\tvalid_0's rmsse: 0.796511\n",
      "[150]\tvalid_0's rmse: 11.4229\tvalid_0's rmsse: 0.778635\n",
      "[200]\tvalid_0's rmse: 11.0988\tvalid_0's rmsse: 0.773171\n",
      "[LightGBM] [Warning] No further splits with positive gain, best gain: -inf\n",
      "[250]\tvalid_0's rmse: 10.6871\tvalid_0's rmsse: 0.771907\n",
      "Early stopping, best iteration is:\n",
      "[262]\tvalid_0's rmse: 10.5935\tvalid_0's rmsse: 0.771754\n"
     ]
    },
    {
     "name": "stderr",
     "output_type": "stream",
     "text": [
      "regularization_factors, val_score: 10.593413:  55%|#####5    | 11/20 [1:12:18<1:04:58, 433.19s/it][I 2021-08-19 09:29:49,524] Trial 50 finished with value: 10.59347035980672 and parameters: {'lambda_l1': 1.0891223105124381e-05, 'lambda_l2': 5.321901688433476e-06}. Best is trial 43 with value: 10.59341322286065.\n",
      "regularization_factors, val_score: 10.593413:  55%|#####5    | 11/20 [1:12:18<1:04:58, 433.19s/it]"
     ]
    },
    {
     "name": "stdout",
     "output_type": "stream",
     "text": [
      "[LightGBM] [Warning] min_data_in_leaf is set=255, min_child_samples=20 will be ignored. Current value: min_data_in_leaf=255\n",
      "[LightGBM] [Warning] min_data_in_leaf is set=255, min_child_samples=20 will be ignored. Current value: min_data_in_leaf=255\n",
      "[LightGBM] [Info] Total Bins 2569\n",
      "[LightGBM] [Info] Number of data points in the train set: 5762054, number of used features: 17\n",
      "[LightGBM] [Warning] min_data_in_leaf is set=255, min_child_samples=20 will be ignored. Current value: min_data_in_leaf=255\n",
      "Training until validation scores don't improve for 30 rounds\n",
      "[50]\tvalid_0's rmse: 11.7361\tvalid_0's rmsse: 0.873242\n",
      "[100]\tvalid_0's rmse: 11.6156\tvalid_0's rmsse: 0.796497\n",
      "[150]\tvalid_0's rmse: 11.4228\tvalid_0's rmsse: 0.778629\n",
      "[200]\tvalid_0's rmse: 11.0989\tvalid_0's rmsse: 0.773161\n",
      "[LightGBM] [Warning] No further splits with positive gain, best gain: -inf\n",
      "[250]\tvalid_0's rmse: 10.6869\tvalid_0's rmsse: 0.771899\n",
      "Early stopping, best iteration is:\n",
      "[262]\tvalid_0's rmse: 10.5934\tvalid_0's rmsse: 0.771746\n"
     ]
    },
    {
     "name": "stderr",
     "output_type": "stream",
     "text": [
      "regularization_factors, val_score: 10.593413:  60%|######    | 12/20 [1:20:13<59:26, 445.79s/it]  [I 2021-08-19 09:37:44,114] Trial 51 finished with value: 10.593424426612835 and parameters: {'lambda_l1': 1.0658720780601447e-05, 'lambda_l2': 3.5711659432875633}. Best is trial 43 with value: 10.59341322286065.\n",
      "regularization_factors, val_score: 10.593413:  60%|######    | 12/20 [1:20:13<59:26, 445.79s/it]"
     ]
    },
    {
     "name": "stdout",
     "output_type": "stream",
     "text": [
      "[LightGBM] [Warning] min_data_in_leaf is set=255, min_child_samples=20 will be ignored. Current value: min_data_in_leaf=255\n",
      "[LightGBM] [Warning] min_data_in_leaf is set=255, min_child_samples=20 will be ignored. Current value: min_data_in_leaf=255\n",
      "[LightGBM] [Info] Total Bins 2569\n",
      "[LightGBM] [Info] Number of data points in the train set: 5762054, number of used features: 17\n",
      "[LightGBM] [Warning] min_data_in_leaf is set=255, min_child_samples=20 will be ignored. Current value: min_data_in_leaf=255\n",
      "Training until validation scores don't improve for 30 rounds\n",
      "[50]\tvalid_0's rmse: 11.7361\tvalid_0's rmsse: 0.873308\n",
      "[100]\tvalid_0's rmse: 11.6156\tvalid_0's rmsse: 0.796526\n",
      "[150]\tvalid_0's rmse: 11.4228\tvalid_0's rmsse: 0.778654\n",
      "[200]\tvalid_0's rmse: 11.0986\tvalid_0's rmsse: 0.773175\n",
      "[LightGBM] [Warning] No further splits with positive gain, best gain: -inf\n",
      "[250]\tvalid_0's rmse: 10.6868\tvalid_0's rmsse: 0.771914\n",
      "Early stopping, best iteration is:\n",
      "[262]\tvalid_0's rmse: 10.5932\tvalid_0's rmsse: 0.771768\n"
     ]
    },
    {
     "name": "stderr",
     "output_type": "stream",
     "text": [
      "regularization_factors, val_score: 10.593184:  65%|######5   | 13/20 [1:28:19<53:26, 458.09s/it][I 2021-08-19 09:45:50,537] Trial 52 finished with value: 10.593184406476363 and parameters: {'lambda_l1': 5.727264598051453e-06, 'lambda_l2': 0.0049956152909178654}. Best is trial 52 with value: 10.593184406476363.\n",
      "regularization_factors, val_score: 10.593184:  65%|######5   | 13/20 [1:28:19<53:26, 458.09s/it]"
     ]
    },
    {
     "name": "stdout",
     "output_type": "stream",
     "text": [
      "[LightGBM] [Warning] min_data_in_leaf is set=255, min_child_samples=20 will be ignored. Current value: min_data_in_leaf=255\n",
      "[LightGBM] [Warning] min_data_in_leaf is set=255, min_child_samples=20 will be ignored. Current value: min_data_in_leaf=255\n",
      "[LightGBM] [Info] Total Bins 2569\n",
      "[LightGBM] [Info] Number of data points in the train set: 5762054, number of used features: 17\n",
      "[LightGBM] [Warning] min_data_in_leaf is set=255, min_child_samples=20 will be ignored. Current value: min_data_in_leaf=255\n",
      "Training until validation scores don't improve for 30 rounds\n",
      "[50]\tvalid_0's rmse: 11.7361\tvalid_0's rmsse: 0.873286\n",
      "[100]\tvalid_0's rmse: 11.6156\tvalid_0's rmsse: 0.796505\n",
      "[150]\tvalid_0's rmse: 11.4229\tvalid_0's rmsse: 0.77864\n",
      "[200]\tvalid_0's rmse: 11.0988\tvalid_0's rmsse: 0.773157\n",
      "[LightGBM] [Warning] No further splits with positive gain, best gain: -inf\n",
      "[250]\tvalid_0's rmse: 10.687\tvalid_0's rmsse: 0.7719\n",
      "Early stopping, best iteration is:\n",
      "[262]\tvalid_0's rmse: 10.5935\tvalid_0's rmsse: 0.771749\n"
     ]
    },
    {
     "name": "stderr",
     "output_type": "stream",
     "text": [
      "regularization_factors, val_score: 10.593184:  70%|#######   | 14/20 [1:37:19<48:17, 482.93s/it][I 2021-08-19 09:54:50,871] Trial 53 finished with value: 10.593451693695599 and parameters: {'lambda_l1': 7.284268543353093e-06, 'lambda_l2': 0.005694695059104868}. Best is trial 52 with value: 10.593184406476363.\n",
      "regularization_factors, val_score: 10.593184:  70%|#######   | 14/20 [1:37:20<48:17, 482.93s/it]"
     ]
    },
    {
     "name": "stdout",
     "output_type": "stream",
     "text": [
      "[LightGBM] [Warning] min_data_in_leaf is set=255, min_child_samples=20 will be ignored. Current value: min_data_in_leaf=255\n",
      "[LightGBM] [Warning] min_data_in_leaf is set=255, min_child_samples=20 will be ignored. Current value: min_data_in_leaf=255\n",
      "[LightGBM] [Info] Total Bins 2569\n",
      "[LightGBM] [Info] Number of data points in the train set: 5762054, number of used features: 17\n",
      "[LightGBM] [Warning] min_data_in_leaf is set=255, min_child_samples=20 will be ignored. Current value: min_data_in_leaf=255\n",
      "Training until validation scores don't improve for 30 rounds\n",
      "[50]\tvalid_0's rmse: 11.7361\tvalid_0's rmsse: 0.873291\n",
      "[100]\tvalid_0's rmse: 11.6156\tvalid_0's rmsse: 0.796519\n",
      "[150]\tvalid_0's rmse: 11.4229\tvalid_0's rmsse: 0.778636\n",
      "[200]\tvalid_0's rmse: 11.0988\tvalid_0's rmsse: 0.77317\n",
      "[LightGBM] [Warning] No further splits with positive gain, best gain: -inf\n",
      "[250]\tvalid_0's rmse: 10.6871\tvalid_0's rmsse: 0.77191\n",
      "Early stopping, best iteration is:\n",
      "[262]\tvalid_0's rmse: 10.5934\tvalid_0's rmsse: 0.771757\n"
     ]
    },
    {
     "name": "stderr",
     "output_type": "stream",
     "text": [
      "regularization_factors, val_score: 10.593184:  75%|#######5  | 15/20 [1:46:16<41:34, 498.95s/it][I 2021-08-19 10:03:46,922] Trial 54 finished with value: 10.593435914595059 and parameters: {'lambda_l1': 5.97446536351968e-05, 'lambda_l2': 1.0236472204440539e-08}. Best is trial 52 with value: 10.593184406476363.\n",
      "regularization_factors, val_score: 10.593184:  75%|#######5  | 15/20 [1:46:16<41:34, 498.95s/it]"
     ]
    },
    {
     "name": "stdout",
     "output_type": "stream",
     "text": [
      "[LightGBM] [Warning] min_data_in_leaf is set=255, min_child_samples=20 will be ignored. Current value: min_data_in_leaf=255\n",
      "[LightGBM] [Warning] min_data_in_leaf is set=255, min_child_samples=20 will be ignored. Current value: min_data_in_leaf=255\n",
      "[LightGBM] [Info] Total Bins 2569\n",
      "[LightGBM] [Info] Number of data points in the train set: 5762054, number of used features: 17\n",
      "[LightGBM] [Warning] min_data_in_leaf is set=255, min_child_samples=20 will be ignored. Current value: min_data_in_leaf=255\n",
      "Training until validation scores don't improve for 30 rounds\n",
      "[50]\tvalid_0's rmse: 11.7361\tvalid_0's rmsse: 0.873289\n",
      "[100]\tvalid_0's rmse: 11.6156\tvalid_0's rmsse: 0.79651\n",
      "[150]\tvalid_0's rmse: 11.4229\tvalid_0's rmsse: 0.778642\n",
      "[200]\tvalid_0's rmse: 11.0987\tvalid_0's rmsse: 0.773165\n",
      "[LightGBM] [Warning] No further splits with positive gain, best gain: -inf\n",
      "[250]\tvalid_0's rmse: 10.687\tvalid_0's rmsse: 0.771903\n",
      "Early stopping, best iteration is:\n",
      "[262]\tvalid_0's rmse: 10.5934\tvalid_0's rmsse: 0.771756\n"
     ]
    },
    {
     "name": "stderr",
     "output_type": "stream",
     "text": [
      "regularization_factors, val_score: 10.593184:  80%|########  | 16/20 [1:52:20<30:34, 458.52s/it][I 2021-08-19 10:09:51,535] Trial 55 finished with value: 10.593360256275421 and parameters: {'lambda_l1': 1.3355499290480148e-06, 'lambda_l2': 0.0042581979459239225}. Best is trial 52 with value: 10.593184406476363.\n",
      "regularization_factors, val_score: 10.593184:  80%|########  | 16/20 [1:52:20<30:34, 458.52s/it]"
     ]
    },
    {
     "name": "stdout",
     "output_type": "stream",
     "text": [
      "[LightGBM] [Warning] min_data_in_leaf is set=255, min_child_samples=20 will be ignored. Current value: min_data_in_leaf=255\n",
      "[LightGBM] [Warning] min_data_in_leaf is set=255, min_child_samples=20 will be ignored. Current value: min_data_in_leaf=255\n",
      "[LightGBM] [Info] Total Bins 2569\n",
      "[LightGBM] [Info] Number of data points in the train set: 5762054, number of used features: 17\n",
      "[LightGBM] [Warning] min_data_in_leaf is set=255, min_child_samples=20 will be ignored. Current value: min_data_in_leaf=255\n",
      "Training until validation scores don't improve for 30 rounds\n",
      "[50]\tvalid_0's rmse: 11.7361\tvalid_0's rmsse: 0.873302\n",
      "[100]\tvalid_0's rmse: 11.6156\tvalid_0's rmsse: 0.796515\n",
      "[150]\tvalid_0's rmse: 11.4229\tvalid_0's rmsse: 0.778649\n",
      "[200]\tvalid_0's rmse: 11.0987\tvalid_0's rmsse: 0.77317\n",
      "[LightGBM] [Warning] No further splits with positive gain, best gain: -inf\n",
      "[250]\tvalid_0's rmse: 10.6869\tvalid_0's rmsse: 0.771907\n",
      "Early stopping, best iteration is:\n",
      "[262]\tvalid_0's rmse: 10.5933\tvalid_0's rmsse: 0.77176\n"
     ]
    },
    {
     "name": "stderr",
     "output_type": "stream",
     "text": [
      "regularization_factors, val_score: 10.593184:  85%|########5 | 17/20 [1:58:04<21:12, 424.16s/it][I 2021-08-19 10:15:35,793] Trial 56 finished with value: 10.593328667123087 and parameters: {'lambda_l1': 8.923032276382492e-07, 'lambda_l2': 0.0035442297897171743}. Best is trial 52 with value: 10.593184406476363.\n",
      "regularization_factors, val_score: 10.593184:  85%|########5 | 17/20 [1:58:05<21:12, 424.16s/it]"
     ]
    },
    {
     "name": "stdout",
     "output_type": "stream",
     "text": [
      "[LightGBM] [Warning] min_data_in_leaf is set=255, min_child_samples=20 will be ignored. Current value: min_data_in_leaf=255\n",
      "[LightGBM] [Warning] min_data_in_leaf is set=255, min_child_samples=20 will be ignored. Current value: min_data_in_leaf=255\n",
      "[LightGBM] [Info] Total Bins 2569\n",
      "[LightGBM] [Info] Number of data points in the train set: 5762054, number of used features: 17\n",
      "[LightGBM] [Warning] min_data_in_leaf is set=255, min_child_samples=20 will be ignored. Current value: min_data_in_leaf=255\n",
      "Training until validation scores don't improve for 30 rounds\n",
      "[50]\tvalid_0's rmse: 11.7361\tvalid_0's rmsse: 0.873289\n",
      "[100]\tvalid_0's rmse: 11.6156\tvalid_0's rmsse: 0.796514\n",
      "[150]\tvalid_0's rmse: 11.4228\tvalid_0's rmsse: 0.778641\n",
      "[200]\tvalid_0's rmse: 11.0988\tvalid_0's rmsse: 0.773157\n",
      "[LightGBM] [Warning] No further splits with positive gain, best gain: -inf\n",
      "[250]\tvalid_0's rmse: 10.6871\tvalid_0's rmsse: 0.771901\n",
      "Early stopping, best iteration is:\n",
      "[262]\tvalid_0's rmse: 10.5936\tvalid_0's rmsse: 0.771749\n"
     ]
    },
    {
     "name": "stderr",
     "output_type": "stream",
     "text": [
      "regularization_factors, val_score: 10.593184:  90%|######### | 18/20 [2:04:22<13:40, 410.23s/it][I 2021-08-19 10:21:53,588] Trial 57 finished with value: 10.593637188937736 and parameters: {'lambda_l1': 1.0139532565981643e-08, 'lambda_l2': 0.06515604793148748}. Best is trial 52 with value: 10.593184406476363.\n",
      "regularization_factors, val_score: 10.593184:  90%|######### | 18/20 [2:04:22<13:40, 410.23s/it]"
     ]
    },
    {
     "name": "stdout",
     "output_type": "stream",
     "text": [
      "[LightGBM] [Warning] min_data_in_leaf is set=255, min_child_samples=20 will be ignored. Current value: min_data_in_leaf=255\n",
      "[LightGBM] [Warning] min_data_in_leaf is set=255, min_child_samples=20 will be ignored. Current value: min_data_in_leaf=255\n",
      "[LightGBM] [Info] Total Bins 2569\n",
      "[LightGBM] [Info] Number of data points in the train set: 5762054, number of used features: 17\n",
      "[LightGBM] [Warning] min_data_in_leaf is set=255, min_child_samples=20 will be ignored. Current value: min_data_in_leaf=255\n",
      "Training until validation scores don't improve for 30 rounds\n",
      "[50]\tvalid_0's rmse: 11.736\tvalid_0's rmsse: 0.873325\n",
      "[100]\tvalid_0's rmse: 11.6156\tvalid_0's rmsse: 0.796526\n",
      "[150]\tvalid_0's rmse: 11.4228\tvalid_0's rmsse: 0.778647\n",
      "[200]\tvalid_0's rmse: 11.0987\tvalid_0's rmsse: 0.77318\n",
      "[LightGBM] [Warning] No further splits with positive gain, best gain: -inf\n",
      "[250]\tvalid_0's rmse: 10.687\tvalid_0's rmsse: 0.771918\n",
      "Early stopping, best iteration is:\n",
      "[262]\tvalid_0's rmse: 10.5933\tvalid_0's rmsse: 0.771765\n"
     ]
    },
    {
     "name": "stderr",
     "output_type": "stream",
     "text": [
      "regularization_factors, val_score: 10.593184:  95%|#########5| 19/20 [2:11:15<06:51, 411.13s/it][I 2021-08-19 10:28:46,848] Trial 58 finished with value: 10.593328805777777 and parameters: {'lambda_l1': 0.00028144619249703353, 'lambda_l2': 2.168949047174191e-05}. Best is trial 52 with value: 10.593184406476363.\n",
      "regularization_factors, val_score: 10.593184:  95%|#########5| 19/20 [2:11:16<06:51, 411.13s/it]"
     ]
    },
    {
     "name": "stdout",
     "output_type": "stream",
     "text": [
      "[LightGBM] [Warning] min_data_in_leaf is set=255, min_child_samples=20 will be ignored. Current value: min_data_in_leaf=255\n",
      "[LightGBM] [Warning] min_data_in_leaf is set=255, min_child_samples=20 will be ignored. Current value: min_data_in_leaf=255\n",
      "[LightGBM] [Info] Total Bins 2569\n",
      "[LightGBM] [Info] Number of data points in the train set: 5762054, number of used features: 17\n",
      "[LightGBM] [Warning] min_data_in_leaf is set=255, min_child_samples=20 will be ignored. Current value: min_data_in_leaf=255\n",
      "Training until validation scores don't improve for 30 rounds\n",
      "[50]\tvalid_0's rmse: 11.7361\tvalid_0's rmsse: 0.873272\n",
      "[100]\tvalid_0's rmse: 11.6156\tvalid_0's rmsse: 0.796507\n",
      "[150]\tvalid_0's rmse: 11.4229\tvalid_0's rmsse: 0.778639\n",
      "[200]\tvalid_0's rmse: 11.0988\tvalid_0's rmsse: 0.773172\n",
      "[LightGBM] [Warning] No further splits with positive gain, best gain: -inf\n",
      "[250]\tvalid_0's rmse: 10.6871\tvalid_0's rmsse: 0.77191\n",
      "Early stopping, best iteration is:\n",
      "[262]\tvalid_0's rmse: 10.5935\tvalid_0's rmsse: 0.771757\n"
     ]
    },
    {
     "name": "stderr",
     "output_type": "stream",
     "text": [
      "regularization_factors, val_score: 10.593184: 100%|##########| 20/20 [2:18:31<00:00, 418.43s/it][I 2021-08-19 10:36:02,297] Trial 59 finished with value: 10.5934833822962 and parameters: {'lambda_l1': 1.194782403125081e-06, 'lambda_l2': 0.000803029999476054}. Best is trial 52 with value: 10.593184406476363.\n",
      "regularization_factors, val_score: 10.593184: 100%|##########| 20/20 [2:18:31<00:00, 415.58s/it]\n",
      "min_data_in_leaf, val_score: 10.593184:   0%|          | 0/5 [00:00<?, ?it/s]"
     ]
    },
    {
     "name": "stdout",
     "output_type": "stream",
     "text": [
      "[LightGBM] [Warning] min_data_in_leaf is set=255, min_child_samples=10 will be ignored. Current value: min_data_in_leaf=255\n",
      "[LightGBM] [Warning] min_data_in_leaf is set=255, min_child_samples=10 will be ignored. Current value: min_data_in_leaf=255\n",
      "[LightGBM] [Info] Total Bins 2569\n",
      "[LightGBM] [Info] Number of data points in the train set: 5762054, number of used features: 17\n",
      "[LightGBM] [Warning] min_data_in_leaf is set=255, min_child_samples=10 will be ignored. Current value: min_data_in_leaf=255\n",
      "Training until validation scores don't improve for 30 rounds\n",
      "[50]\tvalid_0's rmse: 11.7361\tvalid_0's rmsse: 0.873308\n",
      "[100]\tvalid_0's rmse: 11.6156\tvalid_0's rmsse: 0.796526\n",
      "[150]\tvalid_0's rmse: 11.4228\tvalid_0's rmsse: 0.778654\n",
      "[200]\tvalid_0's rmse: 11.0986\tvalid_0's rmsse: 0.773175\n",
      "[LightGBM] [Warning] No further splits with positive gain, best gain: -inf\n",
      "[250]\tvalid_0's rmse: 10.6868\tvalid_0's rmsse: 0.771914\n",
      "Early stopping, best iteration is:\n",
      "[262]\tvalid_0's rmse: 10.5932\tvalid_0's rmsse: 0.771768\n"
     ]
    },
    {
     "name": "stderr",
     "output_type": "stream",
     "text": [
      "min_data_in_leaf, val_score: 10.593184:  20%|##        | 1/5 [07:14<28:58, 434.63s/it][I 2021-08-19 10:43:17,033] Trial 60 finished with value: 10.593184406476363 and parameters: {'min_child_samples': 10}. Best is trial 60 with value: 10.593184406476363.\n",
      "min_data_in_leaf, val_score: 10.593184:  20%|##        | 1/5 [07:14<28:58, 434.63s/it]"
     ]
    },
    {
     "name": "stdout",
     "output_type": "stream",
     "text": [
      "[LightGBM] [Warning] min_data_in_leaf is set=255, min_child_samples=5 will be ignored. Current value: min_data_in_leaf=255\n",
      "[LightGBM] [Warning] min_data_in_leaf is set=255, min_child_samples=5 will be ignored. Current value: min_data_in_leaf=255\n",
      "[LightGBM] [Info] Total Bins 2569\n",
      "[LightGBM] [Info] Number of data points in the train set: 5762054, number of used features: 17\n",
      "[LightGBM] [Warning] min_data_in_leaf is set=255, min_child_samples=5 will be ignored. Current value: min_data_in_leaf=255\n",
      "Training until validation scores don't improve for 30 rounds\n",
      "[50]\tvalid_0's rmse: 11.7361\tvalid_0's rmsse: 0.873308\n",
      "[100]\tvalid_0's rmse: 11.6156\tvalid_0's rmsse: 0.796526\n",
      "[150]\tvalid_0's rmse: 11.4228\tvalid_0's rmsse: 0.778654\n",
      "[200]\tvalid_0's rmse: 11.0986\tvalid_0's rmsse: 0.773175\n",
      "[LightGBM] [Warning] No further splits with positive gain, best gain: -inf\n",
      "[250]\tvalid_0's rmse: 10.6868\tvalid_0's rmsse: 0.771914\n",
      "Early stopping, best iteration is:\n",
      "[262]\tvalid_0's rmse: 10.5932\tvalid_0's rmsse: 0.771768\n"
     ]
    },
    {
     "name": "stderr",
     "output_type": "stream",
     "text": [
      "min_data_in_leaf, val_score: 10.593184:  40%|####      | 2/5 [14:06<21:04, 421.50s/it][I 2021-08-19 10:50:09,328] Trial 61 finished with value: 10.593184406476363 and parameters: {'min_child_samples': 5}. Best is trial 60 with value: 10.593184406476363.\n",
      "min_data_in_leaf, val_score: 10.593184:  40%|####      | 2/5 [14:07<21:04, 421.50s/it]"
     ]
    },
    {
     "name": "stdout",
     "output_type": "stream",
     "text": [
      "[LightGBM] [Warning] min_data_in_leaf is set=255, min_child_samples=100 will be ignored. Current value: min_data_in_leaf=255\n",
      "[LightGBM] [Warning] min_data_in_leaf is set=255, min_child_samples=100 will be ignored. Current value: min_data_in_leaf=255\n",
      "[LightGBM] [Info] Total Bins 2569\n",
      "[LightGBM] [Info] Number of data points in the train set: 5762054, number of used features: 17\n",
      "[LightGBM] [Warning] min_data_in_leaf is set=255, min_child_samples=100 will be ignored. Current value: min_data_in_leaf=255\n",
      "Training until validation scores don't improve for 30 rounds\n",
      "[50]\tvalid_0's rmse: 11.7361\tvalid_0's rmsse: 0.873308\n",
      "[100]\tvalid_0's rmse: 11.6156\tvalid_0's rmsse: 0.796526\n",
      "[150]\tvalid_0's rmse: 11.4228\tvalid_0's rmsse: 0.778654\n",
      "[200]\tvalid_0's rmse: 11.0986\tvalid_0's rmsse: 0.773175\n",
      "[LightGBM] [Warning] No further splits with positive gain, best gain: -inf\n",
      "[250]\tvalid_0's rmse: 10.6868\tvalid_0's rmsse: 0.771914\n",
      "Early stopping, best iteration is:\n",
      "[262]\tvalid_0's rmse: 10.5932\tvalid_0's rmsse: 0.771768\n"
     ]
    },
    {
     "name": "stderr",
     "output_type": "stream",
     "text": [
      "min_data_in_leaf, val_score: 10.593184:  60%|######    | 3/5 [21:12<14:06, 423.30s/it][I 2021-08-19 10:57:14,766] Trial 62 finished with value: 10.593184406476363 and parameters: {'min_child_samples': 100}. Best is trial 60 with value: 10.593184406476363.\n",
      "min_data_in_leaf, val_score: 10.593184:  60%|######    | 3/5 [21:12<14:06, 423.30s/it]"
     ]
    },
    {
     "name": "stdout",
     "output_type": "stream",
     "text": [
      "[LightGBM] [Warning] min_data_in_leaf is set=255, min_child_samples=25 will be ignored. Current value: min_data_in_leaf=255\n",
      "[LightGBM] [Warning] min_data_in_leaf is set=255, min_child_samples=25 will be ignored. Current value: min_data_in_leaf=255\n",
      "[LightGBM] [Info] Total Bins 2569\n",
      "[LightGBM] [Info] Number of data points in the train set: 5762054, number of used features: 17\n",
      "[LightGBM] [Warning] min_data_in_leaf is set=255, min_child_samples=25 will be ignored. Current value: min_data_in_leaf=255\n",
      "Training until validation scores don't improve for 30 rounds\n",
      "[50]\tvalid_0's rmse: 11.7361\tvalid_0's rmsse: 0.873308\n",
      "[100]\tvalid_0's rmse: 11.6156\tvalid_0's rmsse: 0.796526\n",
      "[150]\tvalid_0's rmse: 11.4228\tvalid_0's rmsse: 0.778654\n",
      "[200]\tvalid_0's rmse: 11.0986\tvalid_0's rmsse: 0.773175\n",
      "[LightGBM] [Warning] No further splits with positive gain, best gain: -inf\n",
      "[250]\tvalid_0's rmse: 10.6868\tvalid_0's rmsse: 0.771914\n",
      "Early stopping, best iteration is:\n",
      "[262]\tvalid_0's rmse: 10.5932\tvalid_0's rmsse: 0.771768\n"
     ]
    },
    {
     "name": "stderr",
     "output_type": "stream",
     "text": [
      "min_data_in_leaf, val_score: 10.593184:  80%|########  | 4/5 [28:18<07:04, 424.41s/it][I 2021-08-19 11:04:20,881] Trial 63 finished with value: 10.593184406476363 and parameters: {'min_child_samples': 25}. Best is trial 60 with value: 10.593184406476363.\n",
      "min_data_in_leaf, val_score: 10.593184:  80%|########  | 4/5 [28:18<07:04, 424.41s/it]"
     ]
    },
    {
     "name": "stdout",
     "output_type": "stream",
     "text": [
      "[LightGBM] [Warning] min_data_in_leaf is set=255, min_child_samples=50 will be ignored. Current value: min_data_in_leaf=255\n",
      "[LightGBM] [Warning] min_data_in_leaf is set=255, min_child_samples=50 will be ignored. Current value: min_data_in_leaf=255\n",
      "[LightGBM] [Info] Total Bins 2569\n",
      "[LightGBM] [Info] Number of data points in the train set: 5762054, number of used features: 17\n",
      "[LightGBM] [Warning] min_data_in_leaf is set=255, min_child_samples=50 will be ignored. Current value: min_data_in_leaf=255\n",
      "Training until validation scores don't improve for 30 rounds\n",
      "[50]\tvalid_0's rmse: 11.7361\tvalid_0's rmsse: 0.873308\n",
      "[100]\tvalid_0's rmse: 11.6156\tvalid_0's rmsse: 0.796526\n",
      "[150]\tvalid_0's rmse: 11.4228\tvalid_0's rmsse: 0.778654\n",
      "[200]\tvalid_0's rmse: 11.0986\tvalid_0's rmsse: 0.773175\n",
      "[LightGBM] [Warning] No further splits with positive gain, best gain: -inf\n",
      "[250]\tvalid_0's rmse: 10.6868\tvalid_0's rmsse: 0.771914\n",
      "Early stopping, best iteration is:\n",
      "[262]\tvalid_0's rmse: 10.5932\tvalid_0's rmsse: 0.771768\n"
     ]
    },
    {
     "name": "stderr",
     "output_type": "stream",
     "text": [
      "min_data_in_leaf, val_score: 10.593184: 100%|##########| 5/5 [35:13<00:00, 421.15s/it][I 2021-08-19 11:11:16,263] Trial 64 finished with value: 10.593184406476363 and parameters: {'min_child_samples': 50}. Best is trial 60 with value: 10.593184406476363.\n",
      "min_data_in_leaf, val_score: 10.593184: 100%|##########| 5/5 [35:13<00:00, 422.79s/it]\n"
     ]
    },
    {
     "name": "stdout",
     "output_type": "stream",
     "text": [
      "Elapsed time for training the model: 335.8545511166255 min.\n"
     ]
    }
   ],
   "source": [
    "models_by_site = list()\n",
    "sites = [\"MLA\",\"MLB\",\"MLM\"]\n",
    "\n",
    "for site in sites:\n",
    "    print(\"-\"*75)\n",
    "    print(f\"Preparing model for site: {site}\")\n",
    "\n",
    "    tic = time.time()\n",
    "    train_data = dataset.query(\"site_id == @site\").reset_index(drop=True)\n",
    "    valid_idx = train_data.query(\"ds > '2021-03-01'\").index\n",
    "\n",
    "    model = LightGBMForecaster(**model_kwargs)\n",
    "    model.prepare_features(train_data, valid_idx)\n",
    "    model.train_features = reduce_mem_usage(model.train_features, verbose=True)\n",
    "    model.valid_features = reduce_mem_usage(model.valid_features, verbose=True)\n",
    "    gc.collect()\n",
    "    tac = time.time()\n",
    "    print(f\"Elapsed time for processing features: {(tac-tic)/60} min.\")\n",
    "\n",
    "    tic = time.time()\n",
    "    evaluator = RMSSE(train_data.loc[valid_idx, [\"sku\",\"y\"]], scales)\n",
    "    model.tune(fit_kwargs={\"verbose_eval\":50, \"feval\":evaluator.evaluate})\n",
    "    models_by_site.append(model)\n",
    "    tac = time.time()\n",
    "    print(f\"Elapsed time for training the model: {(tac-tic)/60} min.\")"
   ]
  },
  {
   "cell_type": "code",
   "execution_count": 28,
   "id": "e01b9575",
   "metadata": {},
   "outputs": [
    {
     "name": "stdout",
     "output_type": "stream",
     "text": [
      "------------------------------------------------------------------------------------------\n",
      "MLA\n",
      "Metrics: OrderedDict([('rmse', 5.020574388633523), ('rmsse', 0.7699177907118763)])\n",
      "Best iteration: 355\n",
      "config {'boosting_type': 'gbrt', 'objective': 'tweedie', 'num_leaves': 225, 'min_data_in_leaf': 255, 'learning_rate': 0.02, 'feature_fraction': 0.4, 'tweedie_variance_power': 1.6, 'metric': 'rmse', 'max_bin': 63, 'bin_construct_sample_cnt': 20000000, 'max_delta_step': 1.0, 'bagging_fraction': 0.8, 'bagging_freq': 1, 'lambda_l2': 0.1, 'boost_from_average': False, 'force_row_wise': True, 'deterministic': True, 'seed': 42, 'feature_pre_filter': False, 'lambda_l1': 0.0, 'min_child_samples': 20, 'num_iterations': 1000, 'early_stopping_round': 30, 'categorical_column': [8, 9, 10, 11, 12, 14]}\n",
      "------------------------------------------------------------------------------------------\n",
      "MLB\n",
      "Metrics: OrderedDict([('rmse', 7.726003926865675), ('rmsse', 0.8138287771178311)])\n",
      "Best iteration: 584\n",
      "config {'boosting_type': 'gbrt', 'objective': 'tweedie', 'num_leaves': 46, 'min_data_in_leaf': 255, 'learning_rate': 0.02, 'feature_fraction': 0.4, 'tweedie_variance_power': 1.6, 'metric': 'rmse', 'max_bin': 63, 'bin_construct_sample_cnt': 20000000, 'max_delta_step': 1.0, 'bagging_fraction': 0.8, 'bagging_freq': 1, 'lambda_l2': 0.002173820192013553, 'boost_from_average': False, 'force_row_wise': True, 'deterministic': True, 'seed': 42, 'feature_pre_filter': False, 'lambda_l1': 2.042493561822094, 'min_child_samples': 20, 'num_iterations': 1000, 'early_stopping_round': 30, 'categorical_column': [8, 9, 10, 11, 12, 14]}\n",
      "------------------------------------------------------------------------------------------\n",
      "MLM\n",
      "Metrics: OrderedDict([('rmse', 10.593184406476363), ('rmsse', 0.7717679886294502)])\n",
      "Best iteration: 262\n",
      "config {'boosting_type': 'gbrt', 'objective': 'tweedie', 'num_leaves': 106, 'min_data_in_leaf': 255, 'learning_rate': 0.02, 'feature_fraction': 0.4, 'tweedie_variance_power': 1.6, 'metric': 'rmse', 'max_bin': 63, 'bin_construct_sample_cnt': 20000000, 'max_delta_step': 1.0, 'bagging_fraction': 0.6195425484798118, 'bagging_freq': 4, 'lambda_l2': 0.0049956152909178654, 'boost_from_average': False, 'force_row_wise': True, 'deterministic': True, 'seed': 42, 'feature_pre_filter': False, 'lambda_l1': 5.727264598051453e-06, 'min_child_samples': 20, 'num_iterations': 1000, 'early_stopping_round': 30, 'categorical_column': [8, 9, 10, 11, 12, 14]}\n"
     ]
    }
   ],
   "source": [
    "for site,model in zip(sites,models_by_site):\n",
    "    print(\"-\"*90)\n",
    "    print(site)\n",
    "    print(\"Metrics:\", model.model.model.best_score[\"valid_0\"])\n",
    "    print(\"Best iteration:\", model.model.model.best_iteration)\n",
    "    print(\"config\", model.model.model.params)\n",
    "    \n",
    "    with open(f\"../config/lgbm-m1-{site}.yml\", \"w\") as file:\n",
    "        yaml.dump(model.model.model.params, file, default_flow_style=False)\n",
    "        file.close()"
   ]
  },
  {
   "cell_type": "markdown",
   "id": "d28ee03e",
   "metadata": {
    "id": "VxxqpHZrTZjZ"
   },
   "source": [
    "***"
   ]
  }
 ],
 "metadata": {
  "accelerator": "TPU",
  "colab": {
   "collapsed_sections": [],
   "machine_shape": "hm",
   "name": "train_lgbm.ipynb",
   "provenance": []
  },
  "kernelspec": {
   "display_name": "Python 3",
   "language": "python",
   "name": "python3"
  },
  "language_info": {
   "codemirror_mode": {
    "name": "ipython",
    "version": 3
   },
   "file_extension": ".py",
   "mimetype": "text/x-python",
   "name": "python",
   "nbconvert_exporter": "python",
   "pygments_lexer": "ipython3",
   "version": "3.8.11"
  }
 },
 "nbformat": 4,
 "nbformat_minor": 5
}
