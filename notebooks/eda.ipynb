{
 "cells": [
  {
   "cell_type": "code",
   "execution_count": 1,
   "id": "4ee0256b",
   "metadata": {},
   "outputs": [],
   "source": [
    "import numpy as np\n",
    "import pandas as pd\n",
    "import jsonlines\n",
    "from tqdm import tqdm\n",
    "import matplotlib.pyplot as plt\n",
    "import seaborn as sns"
   ]
  },
  {
   "cell_type": "markdown",
   "id": "0ac4f153",
   "metadata": {},
   "source": [
    "***\n",
    "## train-m1"
   ]
  },
  {
   "cell_type": "code",
   "execution_count": 2,
   "id": "27a94425",
   "metadata": {},
   "outputs": [
    {
     "name": "stdout",
     "output_type": "stream",
     "text": [
      "items_static_metadata_full.jl validation_seed11.csv\n",
      "sample_submission.csv.gz      validation_seed13.csv\n",
      "scales.csv                    validation_seed17.csv\n",
      "skus_for_assess.csv           validation_seed19.csv\n",
      "test.parquet                  validation_seed2.csv\n",
      "test_data.csv                 validation_seed23.csv\n",
      "train-m2.parquet              validation_seed3.csv\n",
      "train.parquet                 validation_seed5.csv\n",
      "train_data.parquet            validation_seed7.csv\n",
      "unpredictable.csv\n"
     ]
    }
   ],
   "source": [
    "!ls ../data"
   ]
  },
  {
   "cell_type": "code",
   "execution_count": 3,
   "id": "91add41a",
   "metadata": {},
   "outputs": [
    {
     "data": {
      "text/html": [
       "<div>\n",
       "<style scoped>\n",
       "    .dataframe tbody tr th:only-of-type {\n",
       "        vertical-align: middle;\n",
       "    }\n",
       "\n",
       "    .dataframe tbody tr th {\n",
       "        vertical-align: top;\n",
       "    }\n",
       "\n",
       "    .dataframe thead th {\n",
       "        text-align: right;\n",
       "    }\n",
       "</style>\n",
       "<table border=\"1\" class=\"dataframe\">\n",
       "  <thead>\n",
       "    <tr style=\"text-align: right;\">\n",
       "      <th></th>\n",
       "      <th>sku</th>\n",
       "      <th>date</th>\n",
       "      <th>sold_quantity</th>\n",
       "      <th>current_price</th>\n",
       "      <th>currency</th>\n",
       "      <th>listing_type</th>\n",
       "      <th>shipping_logistic_type</th>\n",
       "      <th>shipping_payment</th>\n",
       "      <th>minutes_active</th>\n",
       "    </tr>\n",
       "  </thead>\n",
       "  <tbody>\n",
       "    <tr>\n",
       "      <th>0</th>\n",
       "      <td>464801</td>\n",
       "      <td>2021-02-01</td>\n",
       "      <td>0</td>\n",
       "      <td>156.78</td>\n",
       "      <td>REA</td>\n",
       "      <td>classic</td>\n",
       "      <td>fulfillment</td>\n",
       "      <td>free_shipping</td>\n",
       "      <td>1440.000000</td>\n",
       "    </tr>\n",
       "    <tr>\n",
       "      <th>1</th>\n",
       "      <td>464801</td>\n",
       "      <td>2021-02-02</td>\n",
       "      <td>0</td>\n",
       "      <td>156.78</td>\n",
       "      <td>REA</td>\n",
       "      <td>classic</td>\n",
       "      <td>fulfillment</td>\n",
       "      <td>free_shipping</td>\n",
       "      <td>1440.000000</td>\n",
       "    </tr>\n",
       "    <tr>\n",
       "      <th>2</th>\n",
       "      <td>464801</td>\n",
       "      <td>2021-02-03</td>\n",
       "      <td>0</td>\n",
       "      <td>156.78</td>\n",
       "      <td>REA</td>\n",
       "      <td>classic</td>\n",
       "      <td>fulfillment</td>\n",
       "      <td>free_shipping</td>\n",
       "      <td>1440.000000</td>\n",
       "    </tr>\n",
       "    <tr>\n",
       "      <th>3</th>\n",
       "      <td>464801</td>\n",
       "      <td>2021-02-04</td>\n",
       "      <td>0</td>\n",
       "      <td>156.78</td>\n",
       "      <td>REA</td>\n",
       "      <td>classic</td>\n",
       "      <td>fulfillment</td>\n",
       "      <td>free_shipping</td>\n",
       "      <td>1440.000000</td>\n",
       "    </tr>\n",
       "    <tr>\n",
       "      <th>4</th>\n",
       "      <td>464801</td>\n",
       "      <td>2021-02-05</td>\n",
       "      <td>1</td>\n",
       "      <td>156.78</td>\n",
       "      <td>REA</td>\n",
       "      <td>classic</td>\n",
       "      <td>fulfillment</td>\n",
       "      <td>free_shipping</td>\n",
       "      <td>1440.000000</td>\n",
       "    </tr>\n",
       "    <tr>\n",
       "      <th>...</th>\n",
       "      <td>...</td>\n",
       "      <td>...</td>\n",
       "      <td>...</td>\n",
       "      <td>...</td>\n",
       "      <td>...</td>\n",
       "      <td>...</td>\n",
       "      <td>...</td>\n",
       "      <td>...</td>\n",
       "      <td>...</td>\n",
       "    </tr>\n",
       "    <tr>\n",
       "      <th>37660274</th>\n",
       "      <td>129187</td>\n",
       "      <td>2021-03-31</td>\n",
       "      <td>0</td>\n",
       "      <td>22057.00</td>\n",
       "      <td>ARG</td>\n",
       "      <td>classic</td>\n",
       "      <td>drop_off</td>\n",
       "      <td>free_shipping</td>\n",
       "      <td>267.710767</td>\n",
       "    </tr>\n",
       "    <tr>\n",
       "      <th>37660275</th>\n",
       "      <td>6707</td>\n",
       "      <td>2021-03-31</td>\n",
       "      <td>0</td>\n",
       "      <td>26999.00</td>\n",
       "      <td>ARG</td>\n",
       "      <td>classic</td>\n",
       "      <td>cross_docking</td>\n",
       "      <td>free_shipping</td>\n",
       "      <td>266.083333</td>\n",
       "    </tr>\n",
       "    <tr>\n",
       "      <th>37660276</th>\n",
       "      <td>170355</td>\n",
       "      <td>2021-03-31</td>\n",
       "      <td>0</td>\n",
       "      <td>3400.00</td>\n",
       "      <td>ARG</td>\n",
       "      <td>classic</td>\n",
       "      <td>drop_off</td>\n",
       "      <td>paid_shipping</td>\n",
       "      <td>0.252633</td>\n",
       "    </tr>\n",
       "    <tr>\n",
       "      <th>37660277</th>\n",
       "      <td>246568</td>\n",
       "      <td>2021-03-31</td>\n",
       "      <td>0</td>\n",
       "      <td>6289.00</td>\n",
       "      <td>ARG</td>\n",
       "      <td>classic</td>\n",
       "      <td>fulfillment</td>\n",
       "      <td>free_shipping</td>\n",
       "      <td>135.416667</td>\n",
       "    </tr>\n",
       "    <tr>\n",
       "      <th>37660278</th>\n",
       "      <td>49718</td>\n",
       "      <td>2021-03-31</td>\n",
       "      <td>0</td>\n",
       "      <td>1990.00</td>\n",
       "      <td>ARG</td>\n",
       "      <td>classic</td>\n",
       "      <td>drop_off</td>\n",
       "      <td>paid_shipping</td>\n",
       "      <td>88.033333</td>\n",
       "    </tr>\n",
       "  </tbody>\n",
       "</table>\n",
       "<p>37660279 rows × 9 columns</p>\n",
       "</div>"
      ],
      "text/plain": [
       "             sku        date  sold_quantity  current_price currency  \\\n",
       "0         464801  2021-02-01              0         156.78      REA   \n",
       "1         464801  2021-02-02              0         156.78      REA   \n",
       "2         464801  2021-02-03              0         156.78      REA   \n",
       "3         464801  2021-02-04              0         156.78      REA   \n",
       "4         464801  2021-02-05              1         156.78      REA   \n",
       "...          ...         ...            ...            ...      ...   \n",
       "37660274  129187  2021-03-31              0       22057.00      ARG   \n",
       "37660275    6707  2021-03-31              0       26999.00      ARG   \n",
       "37660276  170355  2021-03-31              0        3400.00      ARG   \n",
       "37660277  246568  2021-03-31              0        6289.00      ARG   \n",
       "37660278   49718  2021-03-31              0        1990.00      ARG   \n",
       "\n",
       "         listing_type shipping_logistic_type shipping_payment  minutes_active  \n",
       "0             classic            fulfillment    free_shipping     1440.000000  \n",
       "1             classic            fulfillment    free_shipping     1440.000000  \n",
       "2             classic            fulfillment    free_shipping     1440.000000  \n",
       "3             classic            fulfillment    free_shipping     1440.000000  \n",
       "4             classic            fulfillment    free_shipping     1440.000000  \n",
       "...               ...                    ...              ...             ...  \n",
       "37660274      classic               drop_off    free_shipping      267.710767  \n",
       "37660275      classic          cross_docking    free_shipping      266.083333  \n",
       "37660276      classic               drop_off    paid_shipping        0.252633  \n",
       "37660277      classic            fulfillment    free_shipping      135.416667  \n",
       "37660278      classic               drop_off    paid_shipping       88.033333  \n",
       "\n",
       "[37660279 rows x 9 columns]"
      ]
     },
     "execution_count": 3,
     "metadata": {},
     "output_type": "execute_result"
    }
   ],
   "source": [
    "data = pd.read_parquet(\"../data/train_data.parquet\")\n",
    "data"
   ]
  },
  {
   "cell_type": "code",
   "execution_count": 4,
   "id": "5d0b4a80",
   "metadata": {},
   "outputs": [
    {
     "data": {
      "text/plain": [
       "660.916"
      ]
     },
     "execution_count": 4,
     "metadata": {},
     "output_type": "execute_result"
    }
   ],
   "source": [
    "data.sku.nunique()/1e3"
   ]
  },
  {
   "cell_type": "code",
   "execution_count": 5,
   "id": "23cd06d0",
   "metadata": {},
   "outputs": [
    {
     "data": {
      "text/plain": [
       "REA    336.334\n",
       "MEX    265.908\n",
       "ARG     58.670\n",
       "DOL      0.004\n",
       "Name: currency, dtype: float64"
      ]
     },
     "execution_count": 5,
     "metadata": {},
     "output_type": "execute_result"
    }
   ],
   "source": [
    "data.drop_duplicates(subset=[\"sku\"]).currency.value_counts() / 1e3"
   ]
  },
  {
   "cell_type": "code",
   "execution_count": 6,
   "id": "655876ba",
   "metadata": {},
   "outputs": [
    {
     "data": {
      "text/plain": [
       "premium    332.767\n",
       "classic    328.149\n",
       "Name: listing_type, dtype: float64"
      ]
     },
     "execution_count": 6,
     "metadata": {},
     "output_type": "execute_result"
    }
   ],
   "source": [
    "data.drop_duplicates(subset=[\"sku\"]).listing_type.value_counts() / 1e3"
   ]
  },
  {
   "cell_type": "code",
   "execution_count": 7,
   "id": "ef42b818",
   "metadata": {},
   "outputs": [
    {
     "data": {
      "text/plain": [
       "fulfillment      489.501\n",
       "drop_off         104.131\n",
       "cross_docking     67.284\n",
       "Name: shipping_logistic_type, dtype: float64"
      ]
     },
     "execution_count": 7,
     "metadata": {},
     "output_type": "execute_result"
    }
   ],
   "source": [
    "data.drop_duplicates(subset=[\"sku\"]).shipping_logistic_type.value_counts() / 1e3"
   ]
  },
  {
   "cell_type": "code",
   "execution_count": 8,
   "id": "c0d01deb",
   "metadata": {},
   "outputs": [
    {
     "data": {
      "text/plain": [
       "paid_shipping    438.793\n",
       "free_shipping    222.123\n",
       "Name: shipping_payment, dtype: float64"
      ]
     },
     "execution_count": 8,
     "metadata": {},
     "output_type": "execute_result"
    }
   ],
   "source": [
    "data.drop_duplicates(subset=[\"sku\"]).shipping_payment.value_counts() / 1e3"
   ]
  },
  {
   "cell_type": "code",
   "execution_count": 9,
   "id": "d8599967",
   "metadata": {},
   "outputs": [
    {
     "data": {
      "text/plain": [
       "date\n",
       "2021-02-01    604230\n",
       "2021-02-02    606383\n",
       "2021-02-03    608270\n",
       "2021-02-04    610721\n",
       "2021-02-05    612461\n",
       "2021-02-06    613405\n",
       "2021-02-07    613950\n",
       "2021-02-08    615477\n",
       "2021-02-09    616976\n",
       "2021-02-10    618612\n",
       "2021-02-11    620325\n",
       "2021-02-12    621937\n",
       "2021-02-13    622608\n",
       "2021-02-14    622964\n",
       "2021-02-15    624165\n",
       "2021-02-16    625438\n",
       "2021-02-17    626922\n",
       "2021-02-18    628333\n",
       "2021-02-19    629555\n",
       "2021-02-20    630067\n",
       "2021-02-21    630470\n",
       "2021-02-22    631777\n",
       "2021-02-23    633111\n",
       "2021-02-24    634601\n",
       "2021-02-25    636062\n",
       "2021-02-26    637263\n",
       "2021-02-27    637768\n",
       "2021-02-28    638166\n",
       "2021-03-01    639351\n",
       "2021-03-02    640562\n",
       "2021-03-03    641856\n",
       "2021-03-04    643137\n",
       "2021-03-05    644620\n",
       "2021-03-06    645072\n",
       "2021-03-07    645432\n",
       "2021-03-08    646451\n",
       "2021-03-09    647382\n",
       "2021-03-10    648410\n",
       "2021-03-11    649447\n",
       "2021-03-12    650309\n",
       "2021-03-13    650732\n",
       "2021-03-14    651006\n",
       "2021-03-15    651728\n",
       "2021-03-16    652524\n",
       "2021-03-17    653317\n",
       "2021-03-18    654154\n",
       "2021-03-19    654845\n",
       "2021-03-20    655185\n",
       "2021-03-21    655393\n",
       "2021-03-22    656216\n",
       "2021-03-23    656939\n",
       "2021-03-24    657627\n",
       "2021-03-25    658250\n",
       "2021-03-26    658872\n",
       "2021-03-27    659101\n",
       "2021-03-28    659258\n",
       "2021-03-29    659806\n",
       "2021-03-30    660364\n",
       "2021-03-31    660916\n",
       "Name: sku, dtype: int64"
      ]
     },
     "execution_count": 9,
     "metadata": {},
     "output_type": "execute_result"
    }
   ],
   "source": [
    "data.groupby(\"date\")[\"sku\"].count()"
   ]
  },
  {
   "cell_type": "code",
   "execution_count": 10,
   "id": "4f212001",
   "metadata": {},
   "outputs": [
    {
     "data": {
      "text/plain": [
       "56.9819447554606"
      ]
     },
     "execution_count": 10,
     "metadata": {},
     "output_type": "execute_result"
    }
   ],
   "source": [
    "# number of rows by sku\n",
    "len(data)/data.sku.nunique()"
   ]
  },
  {
   "cell_type": "code",
   "execution_count": 11,
   "id": "7012efd6",
   "metadata": {},
   "outputs": [
    {
     "data": {
      "text/plain": [
       "count    660916.000000\n",
       "mean         56.981945\n",
       "std           8.094631\n",
       "min           1.000000\n",
       "25%          59.000000\n",
       "50%          59.000000\n",
       "75%          59.000000\n",
       "max          59.000000\n",
       "Name: date, dtype: float64"
      ]
     },
     "execution_count": 11,
     "metadata": {},
     "output_type": "execute_result"
    }
   ],
   "source": [
    "data.groupby(\"sku\")[\"date\"].count().describe()"
   ]
  },
  {
   "cell_type": "code",
   "execution_count": 12,
   "id": "b8473860",
   "metadata": {},
   "outputs": [
    {
     "data": {
      "text/plain": [
       "count    660916.000000\n",
       "mean          0.983020\n",
       "std           6.988492\n",
       "min           0.000000\n",
       "25%           0.203390\n",
       "50%           0.338983\n",
       "75%           0.711864\n",
       "max        2330.983051\n",
       "Name: sold_quantity, dtype: float64"
      ]
     },
     "execution_count": 12,
     "metadata": {},
     "output_type": "execute_result"
    }
   ],
   "source": [
    "data.groupby(\"sku\")[\"sold_quantity\"].mean().describe()"
   ]
  },
  {
   "cell_type": "code",
   "execution_count": 13,
   "id": "330c3b56",
   "metadata": {},
   "outputs": [
    {
     "data": {
      "text/plain": [
       "count    660916.000000\n",
       "mean         56.981945\n",
       "std           8.094631\n",
       "min           1.000000\n",
       "25%          59.000000\n",
       "50%          59.000000\n",
       "75%          59.000000\n",
       "max          59.000000\n",
       "Name: date, dtype: float64"
      ]
     },
     "execution_count": 13,
     "metadata": {},
     "output_type": "execute_result"
    }
   ],
   "source": [
    "data.groupby(\"sku\")[\"date\"].count().describe()"
   ]
  },
  {
   "cell_type": "code",
   "execution_count": 14,
   "id": "04860bf2",
   "metadata": {},
   "outputs": [
    {
     "data": {
      "text/plain": [
       "sku                       0.0\n",
       "date                      0.0\n",
       "sold_quantity             0.0\n",
       "current_price             0.0\n",
       "currency                  0.0\n",
       "listing_type              0.0\n",
       "shipping_logistic_type    0.0\n",
       "shipping_payment          0.0\n",
       "minutes_active            0.0\n",
       "dtype: float64"
      ]
     },
     "execution_count": 14,
     "metadata": {},
     "output_type": "execute_result"
    }
   ],
   "source": [
    "# % of null by column\n",
    "data.isna().sum(axis=0)/len(data)"
   ]
  },
  {
   "cell_type": "markdown",
   "id": "fc593c4b",
   "metadata": {},
   "source": [
    "***\n",
    "## test data"
   ]
  },
  {
   "cell_type": "code",
   "execution_count": 15,
   "id": "13f0b5f9",
   "metadata": {},
   "outputs": [],
   "source": [
    "test = pd.read_csv(\"../data/test_data.csv\")"
   ]
  },
  {
   "cell_type": "code",
   "execution_count": 16,
   "id": "c5e5db3a",
   "metadata": {},
   "outputs": [
    {
     "data": {
      "text/plain": [
       "0.8344055825551204"
      ]
     },
     "execution_count": 16,
     "metadata": {},
     "output_type": "execute_result"
    }
   ],
   "source": [
    "test.sku.nunique() / data.sku.nunique()"
   ]
  },
  {
   "cell_type": "code",
   "execution_count": 17,
   "id": "d56b3c41",
   "metadata": {},
   "outputs": [
    {
     "data": {
      "text/plain": [
       "True"
      ]
     },
     "execution_count": 17,
     "metadata": {},
     "output_type": "execute_result"
    }
   ],
   "source": [
    "set(test.sku) < set(data.sku)"
   ]
  },
  {
   "cell_type": "code",
   "execution_count": 18,
   "id": "0bb8624d",
   "metadata": {},
   "outputs": [
    {
     "data": {
      "text/plain": [
       "count    551472.000000\n",
       "mean         18.069472\n",
       "std         122.711151\n",
       "min           1.000000\n",
       "25%           3.000000\n",
       "50%           6.000000\n",
       "75%          13.000000\n",
       "max       32710.000000\n",
       "Name: target_stock, dtype: float64"
      ]
     },
     "execution_count": 18,
     "metadata": {},
     "output_type": "execute_result"
    }
   ],
   "source": [
    "test.target_stock.describe()"
   ]
  },
  {
   "cell_type": "code",
   "execution_count": 19,
   "id": "466bbe60",
   "metadata": {},
   "outputs": [
    {
     "data": {
      "text/plain": [
       "count    551472.000000\n",
       "mean         56.728949\n",
       "std           8.642053\n",
       "min           1.000000\n",
       "25%          59.000000\n",
       "50%          59.000000\n",
       "75%          59.000000\n",
       "max          59.000000\n",
       "Name: date, dtype: float64"
      ]
     },
     "execution_count": 19,
     "metadata": {},
     "output_type": "execute_result"
    }
   ],
   "source": [
    "data.query(\"sku in @test.sku\").groupby([\"sku\"])[\"date\"].count().describe()"
   ]
  },
  {
   "cell_type": "code",
   "execution_count": 20,
   "id": "fd8a4cff",
   "metadata": {},
   "outputs": [
    {
     "data": {
      "text/plain": [
       "count    551472.000000\n",
       "mean         57.920747\n",
       "std         442.711305\n",
       "min           0.000000\n",
       "25%          10.000000\n",
       "50%          19.000000\n",
       "75%          40.000000\n",
       "max      137528.000000\n",
       "Name: sold_quantity, dtype: float64"
      ]
     },
     "execution_count": 20,
     "metadata": {},
     "output_type": "execute_result"
    }
   ],
   "source": [
    "data.query(\"sku in @test.sku\").groupby([\"sku\"])[\"sold_quantity\"].sum().describe()"
   ]
  },
  {
   "cell_type": "code",
   "execution_count": 21,
   "id": "c8b1eeb0",
   "metadata": {},
   "outputs": [
    {
     "data": {
      "image/png": "[encoded data removed]",
      "text/plain": [
       "<Figure size 864x360 with 1 Axes>"
      ]
     },
     "metadata": {
      "needs_background": "light"
     },
     "output_type": "display_data"
    }
   ],
   "source": [
    "quantiles = np.arange(0.01, 1, 0.01)\n",
    "values = test.target_stock.quantile(quantiles)\n",
    "\n",
    "plt.figure(figsize=(12,5))\n",
    "plt.plot(quantiles, values)\n",
    "plt.grid()\n",
    "plt.xlabel(\"quantile\")\n",
    "plt.ylabel(\"target_stock\")\n",
    "plt.show()"
   ]
  },
  {
   "cell_type": "markdown",
   "id": "1db0e13d",
   "metadata": {},
   "source": [
    "***\n",
    "## train-m2"
   ]
  },
  {
   "cell_type": "code",
   "execution_count": 22,
   "id": "8775f5f2",
   "metadata": {},
   "outputs": [
    {
     "data": {
      "text/html": [
       "<div>\n",
       "<style scoped>\n",
       "    .dataframe tbody tr th:only-of-type {\n",
       "        vertical-align: middle;\n",
       "    }\n",
       "\n",
       "    .dataframe tbody tr th {\n",
       "        vertical-align: top;\n",
       "    }\n",
       "\n",
       "    .dataframe thead th {\n",
       "        text-align: right;\n",
       "    }\n",
       "</style>\n",
       "<table border=\"1\" class=\"dataframe\">\n",
       "  <thead>\n",
       "    <tr style=\"text-align: right;\">\n",
       "      <th></th>\n",
       "      <th>sku</th>\n",
       "      <th>date</th>\n",
       "      <th>sold_quantity</th>\n",
       "      <th>current_price</th>\n",
       "      <th>currency</th>\n",
       "      <th>listing_type_classic</th>\n",
       "      <th>listing_type_premium</th>\n",
       "      <th>shipping_logistic_type_fulfillment</th>\n",
       "      <th>shipping_logistic_type_cross_docking</th>\n",
       "      <th>shipping_logistic_type_drop_off</th>\n",
       "      <th>...</th>\n",
       "      <th>weekday_5</th>\n",
       "      <th>weekday_6</th>\n",
       "      <th>weekday_7</th>\n",
       "      <th>target_stock</th>\n",
       "      <th>inventory_days</th>\n",
       "      <th>item_domain_id</th>\n",
       "      <th>item_id</th>\n",
       "      <th>site_id</th>\n",
       "      <th>product_id</th>\n",
       "      <th>product_family_id</th>\n",
       "    </tr>\n",
       "  </thead>\n",
       "  <tbody>\n",
       "    <tr>\n",
       "      <th>0</th>\n",
       "      <td>0</td>\n",
       "      <td>2021-02-01</td>\n",
       "      <td>0</td>\n",
       "      <td>172.789993</td>\n",
       "      <td>REA</td>\n",
       "      <td>30</td>\n",
       "      <td>0</td>\n",
       "      <td>0</td>\n",
       "      <td>30</td>\n",
       "      <td>0</td>\n",
       "      <td>...</td>\n",
       "      <td>4</td>\n",
       "      <td>4</td>\n",
       "      <td>4</td>\n",
       "      <td>1</td>\n",
       "      <td>inf</td>\n",
       "      <td>MLB-SNEAKERS</td>\n",
       "      <td>492155</td>\n",
       "      <td>MLB</td>\n",
       "      <td>None</td>\n",
       "      <td>MLB15832732</td>\n",
       "    </tr>\n",
       "    <tr>\n",
       "      <th>1</th>\n",
       "      <td>0</td>\n",
       "      <td>2021-02-02</td>\n",
       "      <td>0</td>\n",
       "      <td>172.789993</td>\n",
       "      <td>REA</td>\n",
       "      <td>30</td>\n",
       "      <td>0</td>\n",
       "      <td>0</td>\n",
       "      <td>30</td>\n",
       "      <td>0</td>\n",
       "      <td>...</td>\n",
       "      <td>4</td>\n",
       "      <td>4</td>\n",
       "      <td>4</td>\n",
       "      <td>1</td>\n",
       "      <td>inf</td>\n",
       "      <td>MLB-SNEAKERS</td>\n",
       "      <td>492155</td>\n",
       "      <td>MLB</td>\n",
       "      <td>None</td>\n",
       "      <td>MLB15832732</td>\n",
       "    </tr>\n",
       "    <tr>\n",
       "      <th>2</th>\n",
       "      <td>0</td>\n",
       "      <td>2021-02-03</td>\n",
       "      <td>0</td>\n",
       "      <td>179.990005</td>\n",
       "      <td>REA</td>\n",
       "      <td>30</td>\n",
       "      <td>0</td>\n",
       "      <td>0</td>\n",
       "      <td>30</td>\n",
       "      <td>0</td>\n",
       "      <td>...</td>\n",
       "      <td>4</td>\n",
       "      <td>4</td>\n",
       "      <td>4</td>\n",
       "      <td>1</td>\n",
       "      <td>inf</td>\n",
       "      <td>MLB-SNEAKERS</td>\n",
       "      <td>492155</td>\n",
       "      <td>MLB</td>\n",
       "      <td>None</td>\n",
       "      <td>MLB15832732</td>\n",
       "    </tr>\n",
       "    <tr>\n",
       "      <th>3</th>\n",
       "      <td>0</td>\n",
       "      <td>2021-02-04</td>\n",
       "      <td>0</td>\n",
       "      <td>179.990005</td>\n",
       "      <td>REA</td>\n",
       "      <td>30</td>\n",
       "      <td>0</td>\n",
       "      <td>0</td>\n",
       "      <td>30</td>\n",
       "      <td>0</td>\n",
       "      <td>...</td>\n",
       "      <td>5</td>\n",
       "      <td>4</td>\n",
       "      <td>4</td>\n",
       "      <td>1</td>\n",
       "      <td>inf</td>\n",
       "      <td>MLB-SNEAKERS</td>\n",
       "      <td>492155</td>\n",
       "      <td>MLB</td>\n",
       "      <td>None</td>\n",
       "      <td>MLB15832732</td>\n",
       "    </tr>\n",
       "    <tr>\n",
       "      <th>4</th>\n",
       "      <td>0</td>\n",
       "      <td>2021-02-05</td>\n",
       "      <td>0</td>\n",
       "      <td>179.990005</td>\n",
       "      <td>REA</td>\n",
       "      <td>30</td>\n",
       "      <td>0</td>\n",
       "      <td>0</td>\n",
       "      <td>30</td>\n",
       "      <td>0</td>\n",
       "      <td>...</td>\n",
       "      <td>5</td>\n",
       "      <td>5</td>\n",
       "      <td>4</td>\n",
       "      <td>1</td>\n",
       "      <td>inf</td>\n",
       "      <td>MLB-SNEAKERS</td>\n",
       "      <td>492155</td>\n",
       "      <td>MLB</td>\n",
       "      <td>None</td>\n",
       "      <td>MLB15832732</td>\n",
       "    </tr>\n",
       "    <tr>\n",
       "      <th>...</th>\n",
       "      <td>...</td>\n",
       "      <td>...</td>\n",
       "      <td>...</td>\n",
       "      <td>...</td>\n",
       "      <td>...</td>\n",
       "      <td>...</td>\n",
       "      <td>...</td>\n",
       "      <td>...</td>\n",
       "      <td>...</td>\n",
       "      <td>...</td>\n",
       "      <td>...</td>\n",
       "      <td>...</td>\n",
       "      <td>...</td>\n",
       "      <td>...</td>\n",
       "      <td>...</td>\n",
       "      <td>...</td>\n",
       "      <td>...</td>\n",
       "      <td>...</td>\n",
       "      <td>...</td>\n",
       "      <td>...</td>\n",
       "      <td>...</td>\n",
       "    </tr>\n",
       "    <tr>\n",
       "      <th>15524803</th>\n",
       "      <td>660914</td>\n",
       "      <td>2021-02-26</td>\n",
       "      <td>1</td>\n",
       "      <td>59.990002</td>\n",
       "      <td>REA</td>\n",
       "      <td>0</td>\n",
       "      <td>30</td>\n",
       "      <td>30</td>\n",
       "      <td>0</td>\n",
       "      <td>0</td>\n",
       "      <td>...</td>\n",
       "      <td>5</td>\n",
       "      <td>5</td>\n",
       "      <td>4</td>\n",
       "      <td>5</td>\n",
       "      <td>8.0</td>\n",
       "      <td>MLB-SNEAKERS</td>\n",
       "      <td>490874</td>\n",
       "      <td>MLB</td>\n",
       "      <td>None</td>\n",
       "      <td>None</td>\n",
       "    </tr>\n",
       "    <tr>\n",
       "      <th>15524804</th>\n",
       "      <td>660914</td>\n",
       "      <td>2021-02-27</td>\n",
       "      <td>0</td>\n",
       "      <td>59.990002</td>\n",
       "      <td>REA</td>\n",
       "      <td>0</td>\n",
       "      <td>30</td>\n",
       "      <td>30</td>\n",
       "      <td>0</td>\n",
       "      <td>0</td>\n",
       "      <td>...</td>\n",
       "      <td>4</td>\n",
       "      <td>5</td>\n",
       "      <td>5</td>\n",
       "      <td>5</td>\n",
       "      <td>9.0</td>\n",
       "      <td>MLB-SNEAKERS</td>\n",
       "      <td>490874</td>\n",
       "      <td>MLB</td>\n",
       "      <td>None</td>\n",
       "      <td>None</td>\n",
       "    </tr>\n",
       "    <tr>\n",
       "      <th>15524805</th>\n",
       "      <td>660914</td>\n",
       "      <td>2021-02-28</td>\n",
       "      <td>1</td>\n",
       "      <td>59.990002</td>\n",
       "      <td>REA</td>\n",
       "      <td>0</td>\n",
       "      <td>30</td>\n",
       "      <td>30</td>\n",
       "      <td>0</td>\n",
       "      <td>0</td>\n",
       "      <td>...</td>\n",
       "      <td>4</td>\n",
       "      <td>4</td>\n",
       "      <td>5</td>\n",
       "      <td>5</td>\n",
       "      <td>8.0</td>\n",
       "      <td>MLB-SNEAKERS</td>\n",
       "      <td>490874</td>\n",
       "      <td>MLB</td>\n",
       "      <td>None</td>\n",
       "      <td>None</td>\n",
       "    </tr>\n",
       "    <tr>\n",
       "      <th>15524806</th>\n",
       "      <td>660914</td>\n",
       "      <td>2021-03-01</td>\n",
       "      <td>0</td>\n",
       "      <td>59.990002</td>\n",
       "      <td>REA</td>\n",
       "      <td>0</td>\n",
       "      <td>30</td>\n",
       "      <td>30</td>\n",
       "      <td>0</td>\n",
       "      <td>0</td>\n",
       "      <td>...</td>\n",
       "      <td>4</td>\n",
       "      <td>4</td>\n",
       "      <td>4</td>\n",
       "      <td>5</td>\n",
       "      <td>9.0</td>\n",
       "      <td>MLB-SNEAKERS</td>\n",
       "      <td>490874</td>\n",
       "      <td>MLB</td>\n",
       "      <td>None</td>\n",
       "      <td>None</td>\n",
       "    </tr>\n",
       "    <tr>\n",
       "      <th>15524807</th>\n",
       "      <td>660914</td>\n",
       "      <td>2021-03-02</td>\n",
       "      <td>0</td>\n",
       "      <td>59.990002</td>\n",
       "      <td>REA</td>\n",
       "      <td>0</td>\n",
       "      <td>30</td>\n",
       "      <td>30</td>\n",
       "      <td>0</td>\n",
       "      <td>0</td>\n",
       "      <td>...</td>\n",
       "      <td>4</td>\n",
       "      <td>4</td>\n",
       "      <td>4</td>\n",
       "      <td>5</td>\n",
       "      <td>8.0</td>\n",
       "      <td>MLB-SNEAKERS</td>\n",
       "      <td>490874</td>\n",
       "      <td>MLB</td>\n",
       "      <td>None</td>\n",
       "      <td>None</td>\n",
       "    </tr>\n",
       "  </tbody>\n",
       "</table>\n",
       "<p>15524808 rows × 27 columns</p>\n",
       "</div>"
      ],
      "text/plain": [
       "             sku       date  sold_quantity  current_price currency  \\\n",
       "0              0 2021-02-01              0     172.789993      REA   \n",
       "1              0 2021-02-02              0     172.789993      REA   \n",
       "2              0 2021-02-03              0     179.990005      REA   \n",
       "3              0 2021-02-04              0     179.990005      REA   \n",
       "4              0 2021-02-05              0     179.990005      REA   \n",
       "...          ...        ...            ...            ...      ...   \n",
       "15524803  660914 2021-02-26              1      59.990002      REA   \n",
       "15524804  660914 2021-02-27              0      59.990002      REA   \n",
       "15524805  660914 2021-02-28              1      59.990002      REA   \n",
       "15524806  660914 2021-03-01              0      59.990002      REA   \n",
       "15524807  660914 2021-03-02              0      59.990002      REA   \n",
       "\n",
       "          listing_type_classic  listing_type_premium  \\\n",
       "0                           30                     0   \n",
       "1                           30                     0   \n",
       "2                           30                     0   \n",
       "3                           30                     0   \n",
       "4                           30                     0   \n",
       "...                        ...                   ...   \n",
       "15524803                     0                    30   \n",
       "15524804                     0                    30   \n",
       "15524805                     0                    30   \n",
       "15524806                     0                    30   \n",
       "15524807                     0                    30   \n",
       "\n",
       "          shipping_logistic_type_fulfillment  \\\n",
       "0                                          0   \n",
       "1                                          0   \n",
       "2                                          0   \n",
       "3                                          0   \n",
       "4                                          0   \n",
       "...                                      ...   \n",
       "15524803                                  30   \n",
       "15524804                                  30   \n",
       "15524805                                  30   \n",
       "15524806                                  30   \n",
       "15524807                                  30   \n",
       "\n",
       "          shipping_logistic_type_cross_docking  \\\n",
       "0                                           30   \n",
       "1                                           30   \n",
       "2                                           30   \n",
       "3                                           30   \n",
       "4                                           30   \n",
       "...                                        ...   \n",
       "15524803                                     0   \n",
       "15524804                                     0   \n",
       "15524805                                     0   \n",
       "15524806                                     0   \n",
       "15524807                                     0   \n",
       "\n",
       "          shipping_logistic_type_drop_off  ...  weekday_5  weekday_6  \\\n",
       "0                                       0  ...          4          4   \n",
       "1                                       0  ...          4          4   \n",
       "2                                       0  ...          4          4   \n",
       "3                                       0  ...          5          4   \n",
       "4                                       0  ...          5          5   \n",
       "...                                   ...  ...        ...        ...   \n",
       "15524803                                0  ...          5          5   \n",
       "15524804                                0  ...          4          5   \n",
       "15524805                                0  ...          4          4   \n",
       "15524806                                0  ...          4          4   \n",
       "15524807                                0  ...          4          4   \n",
       "\n",
       "          weekday_7  target_stock  inventory_days  item_domain_id  item_id  \\\n",
       "0                 4             1             inf    MLB-SNEAKERS   492155   \n",
       "1                 4             1             inf    MLB-SNEAKERS   492155   \n",
       "2                 4             1             inf    MLB-SNEAKERS   492155   \n",
       "3                 4             1             inf    MLB-SNEAKERS   492155   \n",
       "4                 4             1             inf    MLB-SNEAKERS   492155   \n",
       "...             ...           ...             ...             ...      ...   \n",
       "15524803          4             5             8.0    MLB-SNEAKERS   490874   \n",
       "15524804          5             5             9.0    MLB-SNEAKERS   490874   \n",
       "15524805          5             5             8.0    MLB-SNEAKERS   490874   \n",
       "15524806          4             5             9.0    MLB-SNEAKERS   490874   \n",
       "15524807          4             5             8.0    MLB-SNEAKERS   490874   \n",
       "\n",
       "          site_id  product_id  product_family_id  \n",
       "0             MLB        None        MLB15832732  \n",
       "1             MLB        None        MLB15832732  \n",
       "2             MLB        None        MLB15832732  \n",
       "3             MLB        None        MLB15832732  \n",
       "4             MLB        None        MLB15832732  \n",
       "...           ...         ...                ...  \n",
       "15524803      MLB        None               None  \n",
       "15524804      MLB        None               None  \n",
       "15524805      MLB        None               None  \n",
       "15524806      MLB        None               None  \n",
       "15524807      MLB        None               None  \n",
       "\n",
       "[15524808 rows x 27 columns]"
      ]
     },
     "execution_count": 22,
     "metadata": {},
     "output_type": "execute_result"
    }
   ],
   "source": [
    "train = pd.read_parquet(\"../data/train-m2.parquet\")\n",
    "train"
   ]
  },
  {
   "cell_type": "code",
   "execution_count": 23,
   "id": "db28e822",
   "metadata": {},
   "outputs": [
    {
     "data": {
      "text/plain": [
       "10.51947"
      ]
     },
     "execution_count": 23,
     "metadata": {},
     "output_type": "execute_result"
    }
   ],
   "source": [
    "len(train.query(\"inventory_days <= 30\")) / 1e6"
   ]
  },
  {
   "cell_type": "code",
   "execution_count": 24,
   "id": "e54e9993",
   "metadata": {},
   "outputs": [
    {
     "data": {
      "text/plain": [
       "441.834"
      ]
     },
     "execution_count": 24,
     "metadata": {},
     "output_type": "execute_result"
    }
   ],
   "source": [
    "train.query(\"inventory_days <= 30\").sku.nunique() / 1e3"
   ]
  },
  {
   "cell_type": "code",
   "execution_count": 25,
   "id": "00805c2b",
   "metadata": {},
   "outputs": [
    {
     "data": {
      "image/png": "[encoded data removed]",
      "text/plain": [
       "<Figure size 1080x504 with 1 Axes>"
      ]
     },
     "metadata": {
      "needs_background": "light"
     },
     "output_type": "display_data"
    }
   ],
   "source": [
    "plt.figure(figsize=(15,7))\n",
    "plt.hist(train.query(\"inventory_days <= 30\").sample(500000).inventory_days.values, bins=np.arange(1,32), align=\"left\", rwidth=0.9)\n",
    "plt.grid()\n",
    "plt.title(\"Overall\")\n",
    "plt.show()"
   ]
  },
  {
   "cell_type": "code",
   "execution_count": 26,
   "id": "31f61965",
   "metadata": {},
   "outputs": [
    {
     "data": {
      "image/png": "[encoded data removed]",
      "text/plain": [
       "<Figure size 1080x504 with 1 Axes>"
      ]
     },
     "metadata": {
      "needs_background": "light"
     },
     "output_type": "display_data"
    }
   ],
   "source": [
    "plt.figure(figsize=(15,7))\n",
    "plt.hist(train.query(\"inventory_days <= 30\").groupby(\"sku\")[\"inventory_days\"].mean(), bins=np.arange(1,32), align=\"left\", rwidth=0.9)\n",
    "plt.grid()\n",
    "plt.title(\"Mean by sku\")\n",
    "plt.show()"
   ]
  },
  {
   "cell_type": "code",
   "execution_count": 27,
   "id": "05bdda39",
   "metadata": {},
   "outputs": [
    {
     "data": {
      "image/png": "[encoded data removed]",
      "text/plain": [
       "<Figure size 1080x504 with 1 Axes>"
      ]
     },
     "metadata": {
      "needs_background": "light"
     },
     "output_type": "display_data"
    }
   ],
   "source": [
    "plt.figure(figsize=(15,7))\n",
    "plt.hist(train.query(\"inventory_days <= 30\").groupby(\"sku\")[\"inventory_days\"].median(), bins=np.arange(1,32), align=\"left\", rwidth=0.9)\n",
    "plt.grid()\n",
    "plt.title(\"Median by sku\")\n",
    "plt.show()"
   ]
  },
  {
   "cell_type": "code",
   "execution_count": 28,
   "id": "d679e45b",
   "metadata": {},
   "outputs": [
    {
     "data": {
      "image/png": "[encoded data removed]",
      "text/plain": [
       "<Figure size 1080x504 with 1 Axes>"
      ]
     },
     "metadata": {
      "needs_background": "light"
     },
     "output_type": "display_data"
    }
   ],
   "source": [
    "plt.figure(figsize=(15,7))\n",
    "plt.hist(train.query(\"inventory_days <= 30\").groupby(\"sku\")[\"inventory_days\"].std(), bins=np.arange(0,32), align=\"left\", rwidth=0.9)\n",
    "plt.grid()\n",
    "plt.title(\"Std by sku\")\n",
    "plt.show()"
   ]
  },
  {
   "cell_type": "markdown",
   "id": "37155f7d",
   "metadata": {},
   "source": [
    "***\n",
    "## SKU metadata"
   ]
  },
  {
   "cell_type": "code",
   "execution_count": 29,
   "id": "147b921e",
   "metadata": {},
   "outputs": [
    {
     "name": "stderr",
     "output_type": "stream",
     "text": [
      "660916it [00:11, 56656.68it/s]\n"
     ]
    }
   ],
   "source": [
    "all_records = list()\n",
    "\n",
    "with jsonlines.open('../data/items_static_metadata_full.jl') as reader:\n",
    "    for obj in tqdm(reader):\n",
    "        all_records.append(obj)"
   ]
  },
  {
   "cell_type": "code",
   "execution_count": 30,
   "id": "66db8122",
   "metadata": {},
   "outputs": [
    {
     "data": {
      "text/html": [
       "<div>\n",
       "<style scoped>\n",
       "    .dataframe tbody tr th:only-of-type {\n",
       "        vertical-align: middle;\n",
       "    }\n",
       "\n",
       "    .dataframe tbody tr th {\n",
       "        vertical-align: top;\n",
       "    }\n",
       "\n",
       "    .dataframe thead th {\n",
       "        text-align: right;\n",
       "    }\n",
       "</style>\n",
       "<table border=\"1\" class=\"dataframe\">\n",
       "  <thead>\n",
       "    <tr style=\"text-align: right;\">\n",
       "      <th></th>\n",
       "      <th>item_domain_id</th>\n",
       "      <th>item_id</th>\n",
       "      <th>item_title</th>\n",
       "      <th>site_id</th>\n",
       "      <th>sku</th>\n",
       "      <th>product_id</th>\n",
       "      <th>product_family_id</th>\n",
       "    </tr>\n",
       "  </thead>\n",
       "  <tbody>\n",
       "    <tr>\n",
       "      <th>0</th>\n",
       "      <td>MLB-SNEAKERS</td>\n",
       "      <td>492155</td>\n",
       "      <td>Tênis Masculino Olympikus Cyber Barato Promoçao</td>\n",
       "      <td>MLB</td>\n",
       "      <td>0</td>\n",
       "      <td>None</td>\n",
       "      <td>MLB15832732</td>\n",
       "    </tr>\n",
       "    <tr>\n",
       "      <th>1</th>\n",
       "      <td>MLB-SURFBOARD_RACKS</td>\n",
       "      <td>300279</td>\n",
       "      <td>Suporte Rack Prancha Parede C/ Regulagem Horiz...</td>\n",
       "      <td>MLB</td>\n",
       "      <td>1</td>\n",
       "      <td>None</td>\n",
       "      <td>None</td>\n",
       "    </tr>\n",
       "    <tr>\n",
       "      <th>2</th>\n",
       "      <td>MLM-NECKLACES</td>\n",
       "      <td>69847</td>\n",
       "      <td>5 Collares Plateados Dama Gargantilla Choker -...</td>\n",
       "      <td>MLM</td>\n",
       "      <td>2</td>\n",
       "      <td>None</td>\n",
       "      <td>None</td>\n",
       "    </tr>\n",
       "    <tr>\n",
       "      <th>3</th>\n",
       "      <td>MLM-RINGS</td>\n",
       "      <td>298603</td>\n",
       "      <td>Lindo Anillo De Bella Crepusculo Twilight Prom...</td>\n",
       "      <td>MLM</td>\n",
       "      <td>3</td>\n",
       "      <td>None</td>\n",
       "      <td>None</td>\n",
       "    </tr>\n",
       "    <tr>\n",
       "      <th>4</th>\n",
       "      <td>MLB-WEBCAMS</td>\n",
       "      <td>345949</td>\n",
       "      <td>Webcam Com Microfone Hd 720p Knup Youtube Pc V...</td>\n",
       "      <td>MLB</td>\n",
       "      <td>4</td>\n",
       "      <td>None</td>\n",
       "      <td>None</td>\n",
       "    </tr>\n",
       "    <tr>\n",
       "      <th>...</th>\n",
       "      <td>...</td>\n",
       "      <td>...</td>\n",
       "      <td>...</td>\n",
       "      <td>...</td>\n",
       "      <td>...</td>\n",
       "      <td>...</td>\n",
       "      <td>...</td>\n",
       "    </tr>\n",
       "    <tr>\n",
       "      <th>660911</th>\n",
       "      <td>MLB-CELLPHONE_PARTS</td>\n",
       "      <td>320792</td>\n",
       "      <td>2 Parafuso Pentalobe Torx iPhone 5 5c 5s 6 6s ...</td>\n",
       "      <td>MLB</td>\n",
       "      <td>660911</td>\n",
       "      <td>None</td>\n",
       "      <td>None</td>\n",
       "    </tr>\n",
       "    <tr>\n",
       "      <th>660912</th>\n",
       "      <td>MLM-AUTOMOTIVE_EMBLEMS</td>\n",
       "      <td>90441</td>\n",
       "      <td>Emblema Circular Wolfsburg Edition 5cm</td>\n",
       "      <td>MLM</td>\n",
       "      <td>660912</td>\n",
       "      <td>None</td>\n",
       "      <td>None</td>\n",
       "    </tr>\n",
       "    <tr>\n",
       "      <th>660913</th>\n",
       "      <td>MLB-SOFA_AND_FUTON_COVERS</td>\n",
       "      <td>202580</td>\n",
       "      <td>Kit Capa De Sofá Coladinha Jogo 2e3 Lugares Ma...</td>\n",
       "      <td>MLB</td>\n",
       "      <td>660913</td>\n",
       "      <td>None</td>\n",
       "      <td>None</td>\n",
       "    </tr>\n",
       "    <tr>\n",
       "      <th>660914</th>\n",
       "      <td>MLB-SNEAKERS</td>\n",
       "      <td>490874</td>\n",
       "      <td>Calçado Sapatênis Clássico Baltic 234 Ollie</td>\n",
       "      <td>MLB</td>\n",
       "      <td>660914</td>\n",
       "      <td>None</td>\n",
       "      <td>None</td>\n",
       "    </tr>\n",
       "    <tr>\n",
       "      <th>660915</th>\n",
       "      <td>MLM-SURGICAL_MASKS</td>\n",
       "      <td>423179</td>\n",
       "      <td>Cubrebocas Kn95 20 Piezas Pack Válvula Geométr...</td>\n",
       "      <td>MLM</td>\n",
       "      <td>660915</td>\n",
       "      <td>None</td>\n",
       "      <td>None</td>\n",
       "    </tr>\n",
       "  </tbody>\n",
       "</table>\n",
       "<p>660916 rows × 7 columns</p>\n",
       "</div>"
      ],
      "text/plain": [
       "                   item_domain_id  item_id  \\\n",
       "0                    MLB-SNEAKERS   492155   \n",
       "1             MLB-SURFBOARD_RACKS   300279   \n",
       "2                   MLM-NECKLACES    69847   \n",
       "3                       MLM-RINGS   298603   \n",
       "4                     MLB-WEBCAMS   345949   \n",
       "...                           ...      ...   \n",
       "660911        MLB-CELLPHONE_PARTS   320792   \n",
       "660912     MLM-AUTOMOTIVE_EMBLEMS    90441   \n",
       "660913  MLB-SOFA_AND_FUTON_COVERS   202580   \n",
       "660914               MLB-SNEAKERS   490874   \n",
       "660915         MLM-SURGICAL_MASKS   423179   \n",
       "\n",
       "                                               item_title site_id     sku  \\\n",
       "0         Tênis Masculino Olympikus Cyber Barato Promoçao     MLB       0   \n",
       "1       Suporte Rack Prancha Parede C/ Regulagem Horiz...     MLB       1   \n",
       "2       5 Collares Plateados Dama Gargantilla Choker -...     MLM       2   \n",
       "3       Lindo Anillo De Bella Crepusculo Twilight Prom...     MLM       3   \n",
       "4       Webcam Com Microfone Hd 720p Knup Youtube Pc V...     MLB       4   \n",
       "...                                                   ...     ...     ...   \n",
       "660911  2 Parafuso Pentalobe Torx iPhone 5 5c 5s 6 6s ...     MLB  660911   \n",
       "660912             Emblema Circular Wolfsburg Edition 5cm     MLM  660912   \n",
       "660913  Kit Capa De Sofá Coladinha Jogo 2e3 Lugares Ma...     MLB  660913   \n",
       "660914        Calçado Sapatênis Clássico Baltic 234 Ollie     MLB  660914   \n",
       "660915  Cubrebocas Kn95 20 Piezas Pack Válvula Geométr...     MLM  660915   \n",
       "\n",
       "       product_id product_family_id  \n",
       "0            None       MLB15832732  \n",
       "1            None              None  \n",
       "2            None              None  \n",
       "3            None              None  \n",
       "4            None              None  \n",
       "...           ...               ...  \n",
       "660911       None              None  \n",
       "660912       None              None  \n",
       "660913       None              None  \n",
       "660914       None              None  \n",
       "660915       None              None  \n",
       "\n",
       "[660916 rows x 7 columns]"
      ]
     },
     "execution_count": 30,
     "metadata": {},
     "output_type": "execute_result"
    }
   ],
   "source": [
    "metadata = pd.DataFrame(all_records)\n",
    "metadata"
   ]
  },
  {
   "cell_type": "code",
   "execution_count": 31,
   "id": "3665473b",
   "metadata": {},
   "outputs": [
    {
     "data": {
      "text/plain": [
       "item_domain_id       0.000005\n",
       "item_id              0.000000\n",
       "item_title           0.000000\n",
       "site_id              0.000000\n",
       "sku                  0.000000\n",
       "product_id           0.955111\n",
       "product_family_id    0.874138\n",
       "dtype: float64"
      ]
     },
     "execution_count": 31,
     "metadata": {},
     "output_type": "execute_result"
    }
   ],
   "source": [
    "# % of null by column\n",
    "metadata.isna().sum(axis=0)/len(metadata)"
   ]
  },
  {
   "cell_type": "code",
   "execution_count": 32,
   "id": "14a83d75",
   "metadata": {},
   "outputs": [
    {
     "data": {
      "text/plain": [
       "item_domain_id         8408\n",
       "item_id              517896\n",
       "item_title           478175\n",
       "site_id                   3\n",
       "sku                  660916\n",
       "product_id            15863\n",
       "product_family_id     29600\n",
       "dtype: int64"
      ]
     },
     "execution_count": 32,
     "metadata": {},
     "output_type": "execute_result"
    }
   ],
   "source": [
    "# number of categories by column\n",
    "metadata.nunique()"
   ]
  },
  {
   "cell_type": "markdown",
   "id": "2ddc511b",
   "metadata": {},
   "source": [
    "***\n",
    "## sku with no sales"
   ]
  },
  {
   "cell_type": "code",
   "execution_count": 33,
   "id": "ec3d7a3c",
   "metadata": {},
   "outputs": [
    {
     "data": {
      "text/plain": [
       "sku\n",
       "21        0\n",
       "22        0\n",
       "39        0\n",
       "134       0\n",
       "138       0\n",
       "         ..\n",
       "660762    0\n",
       "660807    0\n",
       "660814    0\n",
       "660826    0\n",
       "660831    0\n",
       "Name: sold_quantity, Length: 25283, dtype: int64"
      ]
     },
     "execution_count": 33,
     "metadata": {},
     "output_type": "execute_result"
    }
   ],
   "source": [
    "data.groupby(\"sku\")[\"sold_quantity\"].sum()[data.groupby(\"sku\")[\"sold_quantity\"].sum() == 0]"
   ]
  },
  {
   "cell_type": "code",
   "execution_count": 34,
   "id": "cd594bf5",
   "metadata": {},
   "outputs": [
    {
     "data": {
      "text/plain": [
       "3.8254483171840294"
      ]
     },
     "execution_count": 34,
     "metadata": {},
     "output_type": "execute_result"
    }
   ],
   "source": [
    "# 3.82% of skus have no sales\n",
    "100 * 25283 / data.sku.nunique()"
   ]
  },
  {
   "cell_type": "code",
   "execution_count": 35,
   "id": "f9949a62",
   "metadata": {},
   "outputs": [
    {
     "data": {
      "text/plain": [
       "25283"
      ]
     },
     "execution_count": 35,
     "metadata": {},
     "output_type": "execute_result"
    }
   ],
   "source": [
    "nosale_skus = data.groupby(\"sku\")[\"sold_quantity\"].sum()[data.groupby(\"sku\")[\"sold_quantity\"].sum() == 0].index.values\n",
    "len(nosale_skus)"
   ]
  },
  {
   "cell_type": "code",
   "execution_count": 36,
   "id": "eb4f9bb8",
   "metadata": {},
   "outputs": [
    {
     "data": {
      "text/html": [
       "<div>\n",
       "<style scoped>\n",
       "    .dataframe tbody tr th:only-of-type {\n",
       "        vertical-align: middle;\n",
       "    }\n",
       "\n",
       "    .dataframe tbody tr th {\n",
       "        vertical-align: top;\n",
       "    }\n",
       "\n",
       "    .dataframe thead th {\n",
       "        text-align: right;\n",
       "    }\n",
       "</style>\n",
       "<table border=\"1\" class=\"dataframe\">\n",
       "  <thead>\n",
       "    <tr style=\"text-align: right;\">\n",
       "      <th></th>\n",
       "      <th>sku</th>\n",
       "    </tr>\n",
       "  </thead>\n",
       "  <tbody>\n",
       "    <tr>\n",
       "      <th>0</th>\n",
       "      <td>131072</td>\n",
       "    </tr>\n",
       "    <tr>\n",
       "      <th>1</th>\n",
       "      <td>524291</td>\n",
       "    </tr>\n",
       "    <tr>\n",
       "      <th>2</th>\n",
       "      <td>262149</td>\n",
       "    </tr>\n",
       "    <tr>\n",
       "      <th>3</th>\n",
       "      <td>393224</td>\n",
       "    </tr>\n",
       "    <tr>\n",
       "      <th>4</th>\n",
       "      <td>131085</td>\n",
       "    </tr>\n",
       "    <tr>\n",
       "      <th>...</th>\n",
       "      <td>...</td>\n",
       "    </tr>\n",
       "    <tr>\n",
       "      <th>25278</th>\n",
       "      <td>393191</td>\n",
       "    </tr>\n",
       "    <tr>\n",
       "      <th>25279</th>\n",
       "      <td>262125</td>\n",
       "    </tr>\n",
       "    <tr>\n",
       "      <th>25280</th>\n",
       "      <td>393209</td>\n",
       "    </tr>\n",
       "    <tr>\n",
       "      <th>25281</th>\n",
       "      <td>131068</td>\n",
       "    </tr>\n",
       "    <tr>\n",
       "      <th>25282</th>\n",
       "      <td>524285</td>\n",
       "    </tr>\n",
       "  </tbody>\n",
       "</table>\n",
       "<p>25283 rows × 1 columns</p>\n",
       "</div>"
      ],
      "text/plain": [
       "          sku\n",
       "0      131072\n",
       "1      524291\n",
       "2      262149\n",
       "3      393224\n",
       "4      131085\n",
       "...       ...\n",
       "25278  393191\n",
       "25279  262125\n",
       "25280  393209\n",
       "25281  131068\n",
       "25282  524285\n",
       "\n",
       "[25283 rows x 1 columns]"
      ]
     },
     "metadata": {},
     "output_type": "display_data"
    }
   ],
   "source": [
    "unpredictable = (set(nosale_skus) & set(test.sku))\n",
    "unpredictable = pd.DataFrame(unpredictable, columns=[\"sku\"])\n",
    "display(unpredictable)\n",
    "unpredictable.to_csv(\"../data/unpredictable.csv\", index=False)"
   ]
  },
  {
   "cell_type": "markdown",
   "id": "33ba022d",
   "metadata": {},
   "source": [
    "***\n",
    "## sku with few data-points"
   ]
  },
  {
   "cell_type": "code",
   "execution_count": 37,
   "id": "d870118a",
   "metadata": {},
   "outputs": [
    {
     "data": {
      "text/plain": [
       "sku\n",
       "1073      5\n",
       "5449      5\n",
       "7181      6\n",
       "8288      6\n",
       "13794     6\n",
       "         ..\n",
       "648738    3\n",
       "654892    1\n",
       "655809    6\n",
       "659480    4\n",
       "660894    6\n",
       "Name: date, Length: 335, dtype: int64"
      ]
     },
     "execution_count": 37,
     "metadata": {},
     "output_type": "execute_result"
    }
   ],
   "source": [
    "mask = data.query(\"sku not in @nosale_skus\").groupby(\"sku\")[\"date\"].count() < 7\n",
    "few_dp_skus = data.query(\"sku not in @nosale_skus\").groupby(\"sku\")[\"date\"].count()[mask]\n",
    "few_dp_skus"
   ]
  },
  {
   "cell_type": "markdown",
   "id": "d76bc6c5",
   "metadata": {},
   "source": [
    "***\n",
    "## split sku by sales volume"
   ]
  },
  {
   "cell_type": "code",
   "execution_count": 38,
   "id": "2e904e68",
   "metadata": {},
   "outputs": [
    {
     "data": {
      "text/html": [
       "<div>\n",
       "<style scoped>\n",
       "    .dataframe tbody tr th:only-of-type {\n",
       "        vertical-align: middle;\n",
       "    }\n",
       "\n",
       "    .dataframe tbody tr th {\n",
       "        vertical-align: top;\n",
       "    }\n",
       "\n",
       "    .dataframe thead th {\n",
       "        text-align: right;\n",
       "    }\n",
       "</style>\n",
       "<table border=\"1\" class=\"dataframe\">\n",
       "  <thead>\n",
       "    <tr style=\"text-align: right;\">\n",
       "      <th></th>\n",
       "      <th>sku</th>\n",
       "      <th>mean_sales</th>\n",
       "      <th>pct</th>\n",
       "    </tr>\n",
       "  </thead>\n",
       "  <tbody>\n",
       "    <tr>\n",
       "      <th>0</th>\n",
       "      <td>526920</td>\n",
       "      <td>2330.983051</td>\n",
       "      <td>0.000002</td>\n",
       "    </tr>\n",
       "    <tr>\n",
       "      <th>1</th>\n",
       "      <td>335101</td>\n",
       "      <td>1622.559322</td>\n",
       "      <td>0.000003</td>\n",
       "    </tr>\n",
       "    <tr>\n",
       "      <th>2</th>\n",
       "      <td>115</td>\n",
       "      <td>1155.254237</td>\n",
       "      <td>0.000005</td>\n",
       "    </tr>\n",
       "    <tr>\n",
       "      <th>3</th>\n",
       "      <td>578318</td>\n",
       "      <td>1130.694915</td>\n",
       "      <td>0.000006</td>\n",
       "    </tr>\n",
       "    <tr>\n",
       "      <th>4</th>\n",
       "      <td>535060</td>\n",
       "      <td>1012.694915</td>\n",
       "      <td>0.000008</td>\n",
       "    </tr>\n",
       "    <tr>\n",
       "      <th>...</th>\n",
       "      <td>...</td>\n",
       "      <td>...</td>\n",
       "      <td>...</td>\n",
       "    </tr>\n",
       "    <tr>\n",
       "      <th>660911</th>\n",
       "      <td>139129</td>\n",
       "      <td>0.000000</td>\n",
       "      <td>0.980874</td>\n",
       "    </tr>\n",
       "    <tr>\n",
       "      <th>660912</th>\n",
       "      <td>57291</td>\n",
       "      <td>0.000000</td>\n",
       "      <td>0.980874</td>\n",
       "    </tr>\n",
       "    <tr>\n",
       "      <th>660913</th>\n",
       "      <td>387850</td>\n",
       "      <td>0.000000</td>\n",
       "      <td>0.980874</td>\n",
       "    </tr>\n",
       "    <tr>\n",
       "      <th>660914</th>\n",
       "      <td>216554</td>\n",
       "      <td>0.000000</td>\n",
       "      <td>0.980874</td>\n",
       "    </tr>\n",
       "    <tr>\n",
       "      <th>660915</th>\n",
       "      <td>507110</td>\n",
       "      <td>0.000000</td>\n",
       "      <td>0.980874</td>\n",
       "    </tr>\n",
       "  </tbody>\n",
       "</table>\n",
       "<p>660916 rows × 3 columns</p>\n",
       "</div>"
      ],
      "text/plain": [
       "           sku   mean_sales       pct\n",
       "0       526920  2330.983051  0.000002\n",
       "1       335101  1622.559322  0.000003\n",
       "2          115  1155.254237  0.000005\n",
       "3       578318  1130.694915  0.000006\n",
       "4       535060  1012.694915  0.000008\n",
       "...        ...          ...       ...\n",
       "660911  139129     0.000000  0.980874\n",
       "660912   57291     0.000000  0.980874\n",
       "660913  387850     0.000000  0.980874\n",
       "660914  216554     0.000000  0.980874\n",
       "660915  507110     0.000000  0.980874\n",
       "\n",
       "[660916 rows x 3 columns]"
      ]
     },
     "execution_count": 38,
     "metadata": {},
     "output_type": "execute_result"
    }
   ],
   "source": [
    "df = (\n",
    "    data\n",
    "    .groupby(\"sku\")[\"sold_quantity\"]\n",
    "    .mean()\n",
    "    .sort_values(ascending=False)\n",
    "    .reset_index(name=\"mean_sales\")  \n",
    ")\n",
    "df[\"pct\"] = df.mean_sales.rank(ascending=False, pct=True)\n",
    "df"
   ]
  },
  {
   "cell_type": "code",
   "execution_count": 39,
   "id": "8cd131ae",
   "metadata": {},
   "outputs": [
    {
     "data": {
      "image/png": "[encoded data removed]",
      "text/plain": [
       "<Figure size 1080x360 with 1 Axes>"
      ]
     },
     "metadata": {
      "needs_background": "light"
     },
     "output_type": "display_data"
    }
   ],
   "source": [
    "plt.figure(figsize=(15,5))\n",
    "plt.plot(df.pct, df.mean_sales)\n",
    "plt.grid()\n",
    "plt.xlabel(\"quantile\")\n",
    "plt.ylabel(\"mean_sales\")\n",
    "plt.show()"
   ]
  },
  {
   "cell_type": "code",
   "execution_count": 40,
   "id": "3b7d7648",
   "metadata": {},
   "outputs": [
    {
     "data": {
      "image/png": "[encoded data removed]",
      "text/plain": [
       "<Figure size 1080x360 with 1 Axes>"
      ]
     },
     "metadata": {
      "needs_background": "light"
     },
     "output_type": "display_data"
    },
    {
     "data": {
      "image/png": "[encoded data removed]",
      "text/plain": [
       "<Figure size 1080x360 with 1 Axes>"
      ]
     },
     "metadata": {
      "needs_background": "light"
     },
     "output_type": "display_data"
    }
   ],
   "source": [
    "split_point = 0.01\n",
    "\n",
    "plt.figure(figsize=(15,5))\n",
    "plt.plot(df.query(\"pct <= @split_point\").pct, df.query(\"pct <= @split_point\").mean_sales)\n",
    "plt.grid()\n",
    "plt.xlabel(\"quantile\")\n",
    "plt.ylabel(\"mean_sales\")\n",
    "plt.title(f\"Number of skus: {df.query('pct <= @split_point').sku.nunique()}\")\n",
    "plt.show()\n",
    "\n",
    "plt.figure(figsize=(15,5))\n",
    "plt.plot(df.query(\"pct > @split_point\").pct, df.query(\"pct > @split_point\").mean_sales)\n",
    "plt.grid()\n",
    "plt.xlabel(\"quantile\")\n",
    "plt.ylabel(\"mean_sales\")\n",
    "plt.title(f\"Number of skus: {df.query('pct > @split_point').sku.nunique()}\")\n",
    "plt.show()"
   ]
  },
  {
   "cell_type": "markdown",
   "id": "9a43e025",
   "metadata": {},
   "source": [
    "***\n",
    "## scaling factors for RMSSE"
   ]
  },
  {
   "cell_type": "code",
   "execution_count": 41,
   "id": "abfc7ca8",
   "metadata": {},
   "outputs": [
    {
     "data": {
      "text/html": [
       "<div>\n",
       "<style scoped>\n",
       "    .dataframe tbody tr th:only-of-type {\n",
       "        vertical-align: middle;\n",
       "    }\n",
       "\n",
       "    .dataframe tbody tr th {\n",
       "        vertical-align: top;\n",
       "    }\n",
       "\n",
       "    .dataframe thead th {\n",
       "        text-align: right;\n",
       "    }\n",
       "</style>\n",
       "<table border=\"1\" class=\"dataframe\">\n",
       "  <thead>\n",
       "    <tr style=\"text-align: right;\">\n",
       "      <th></th>\n",
       "      <th>sku</th>\n",
       "      <th>date</th>\n",
       "      <th>sold_quantity</th>\n",
       "      <th>current_price</th>\n",
       "      <th>currency</th>\n",
       "      <th>listing_type</th>\n",
       "      <th>shipping_logistic_type</th>\n",
       "      <th>shipping_payment</th>\n",
       "      <th>minutes_active</th>\n",
       "    </tr>\n",
       "  </thead>\n",
       "  <tbody>\n",
       "    <tr>\n",
       "      <th>0</th>\n",
       "      <td>0</td>\n",
       "      <td>2021-02-01</td>\n",
       "      <td>0</td>\n",
       "      <td>172.79</td>\n",
       "      <td>REA</td>\n",
       "      <td>classic</td>\n",
       "      <td>cross_docking</td>\n",
       "      <td>free_shipping</td>\n",
       "      <td>0.00</td>\n",
       "    </tr>\n",
       "    <tr>\n",
       "      <th>1</th>\n",
       "      <td>0</td>\n",
       "      <td>2021-02-02</td>\n",
       "      <td>0</td>\n",
       "      <td>172.79</td>\n",
       "      <td>REA</td>\n",
       "      <td>classic</td>\n",
       "      <td>cross_docking</td>\n",
       "      <td>free_shipping</td>\n",
       "      <td>0.00</td>\n",
       "    </tr>\n",
       "    <tr>\n",
       "      <th>2</th>\n",
       "      <td>0</td>\n",
       "      <td>2021-02-03</td>\n",
       "      <td>0</td>\n",
       "      <td>179.99</td>\n",
       "      <td>REA</td>\n",
       "      <td>classic</td>\n",
       "      <td>cross_docking</td>\n",
       "      <td>free_shipping</td>\n",
       "      <td>872.65</td>\n",
       "    </tr>\n",
       "    <tr>\n",
       "      <th>3</th>\n",
       "      <td>0</td>\n",
       "      <td>2021-02-04</td>\n",
       "      <td>0</td>\n",
       "      <td>179.99</td>\n",
       "      <td>REA</td>\n",
       "      <td>classic</td>\n",
       "      <td>cross_docking</td>\n",
       "      <td>free_shipping</td>\n",
       "      <td>1440.00</td>\n",
       "    </tr>\n",
       "    <tr>\n",
       "      <th>4</th>\n",
       "      <td>0</td>\n",
       "      <td>2021-02-05</td>\n",
       "      <td>0</td>\n",
       "      <td>179.99</td>\n",
       "      <td>REA</td>\n",
       "      <td>classic</td>\n",
       "      <td>cross_docking</td>\n",
       "      <td>free_shipping</td>\n",
       "      <td>1440.00</td>\n",
       "    </tr>\n",
       "    <tr>\n",
       "      <th>...</th>\n",
       "      <td>...</td>\n",
       "      <td>...</td>\n",
       "      <td>...</td>\n",
       "      <td>...</td>\n",
       "      <td>...</td>\n",
       "      <td>...</td>\n",
       "      <td>...</td>\n",
       "      <td>...</td>\n",
       "      <td>...</td>\n",
       "    </tr>\n",
       "    <tr>\n",
       "      <th>37660274</th>\n",
       "      <td>660915</td>\n",
       "      <td>2021-03-27</td>\n",
       "      <td>0</td>\n",
       "      <td>79.99</td>\n",
       "      <td>MEX</td>\n",
       "      <td>classic</td>\n",
       "      <td>fulfillment</td>\n",
       "      <td>paid_shipping</td>\n",
       "      <td>0.00</td>\n",
       "    </tr>\n",
       "    <tr>\n",
       "      <th>37660275</th>\n",
       "      <td>660915</td>\n",
       "      <td>2021-03-28</td>\n",
       "      <td>0</td>\n",
       "      <td>79.99</td>\n",
       "      <td>MEX</td>\n",
       "      <td>classic</td>\n",
       "      <td>fulfillment</td>\n",
       "      <td>paid_shipping</td>\n",
       "      <td>0.00</td>\n",
       "    </tr>\n",
       "    <tr>\n",
       "      <th>37660276</th>\n",
       "      <td>660915</td>\n",
       "      <td>2021-03-29</td>\n",
       "      <td>0</td>\n",
       "      <td>79.99</td>\n",
       "      <td>MEX</td>\n",
       "      <td>classic</td>\n",
       "      <td>fulfillment</td>\n",
       "      <td>paid_shipping</td>\n",
       "      <td>0.00</td>\n",
       "    </tr>\n",
       "    <tr>\n",
       "      <th>37660277</th>\n",
       "      <td>660915</td>\n",
       "      <td>2021-03-30</td>\n",
       "      <td>0</td>\n",
       "      <td>99.99</td>\n",
       "      <td>MEX</td>\n",
       "      <td>classic</td>\n",
       "      <td>fulfillment</td>\n",
       "      <td>paid_shipping</td>\n",
       "      <td>0.00</td>\n",
       "    </tr>\n",
       "    <tr>\n",
       "      <th>37660278</th>\n",
       "      <td>660915</td>\n",
       "      <td>2021-03-31</td>\n",
       "      <td>0</td>\n",
       "      <td>99.99</td>\n",
       "      <td>MEX</td>\n",
       "      <td>classic</td>\n",
       "      <td>fulfillment</td>\n",
       "      <td>paid_shipping</td>\n",
       "      <td>0.00</td>\n",
       "    </tr>\n",
       "  </tbody>\n",
       "</table>\n",
       "<p>37660279 rows × 9 columns</p>\n",
       "</div>"
      ],
      "text/plain": [
       "             sku        date  sold_quantity  current_price currency  \\\n",
       "0              0  2021-02-01              0         172.79      REA   \n",
       "1              0  2021-02-02              0         172.79      REA   \n",
       "2              0  2021-02-03              0         179.99      REA   \n",
       "3              0  2021-02-04              0         179.99      REA   \n",
       "4              0  2021-02-05              0         179.99      REA   \n",
       "...          ...         ...            ...            ...      ...   \n",
       "37660274  660915  2021-03-27              0          79.99      MEX   \n",
       "37660275  660915  2021-03-28              0          79.99      MEX   \n",
       "37660276  660915  2021-03-29              0          79.99      MEX   \n",
       "37660277  660915  2021-03-30              0          99.99      MEX   \n",
       "37660278  660915  2021-03-31              0          99.99      MEX   \n",
       "\n",
       "         listing_type shipping_logistic_type shipping_payment  minutes_active  \n",
       "0             classic          cross_docking    free_shipping            0.00  \n",
       "1             classic          cross_docking    free_shipping            0.00  \n",
       "2             classic          cross_docking    free_shipping          872.65  \n",
       "3             classic          cross_docking    free_shipping         1440.00  \n",
       "4             classic          cross_docking    free_shipping         1440.00  \n",
       "...               ...                    ...              ...             ...  \n",
       "37660274      classic            fulfillment    paid_shipping            0.00  \n",
       "37660275      classic            fulfillment    paid_shipping            0.00  \n",
       "37660276      classic            fulfillment    paid_shipping            0.00  \n",
       "37660277      classic            fulfillment    paid_shipping            0.00  \n",
       "37660278      classic            fulfillment    paid_shipping            0.00  \n",
       "\n",
       "[37660279 rows x 9 columns]"
      ]
     },
     "execution_count": 41,
     "metadata": {},
     "output_type": "execute_result"
    }
   ],
   "source": [
    "data.sort_values([\"sku\",\"date\"], inplace=True, ignore_index=True)\n",
    "data"
   ]
  },
  {
   "cell_type": "code",
   "execution_count": 42,
   "id": "c89c4066",
   "metadata": {},
   "outputs": [
    {
     "name": "stderr",
     "output_type": "stream",
     "text": [
      "<ipython-input-42-25f65c262494>:1: RuntimeWarning: Mean of empty slice\n",
      "  scales = data.groupby(\"sku\").apply(lambda df: np.sqrt(np.nanmean(df.sold_quantity.diff(1)**2)))\n"
     ]
    },
    {
     "data": {
      "text/html": [
       "<div>\n",
       "<style scoped>\n",
       "    .dataframe tbody tr th:only-of-type {\n",
       "        vertical-align: middle;\n",
       "    }\n",
       "\n",
       "    .dataframe tbody tr th {\n",
       "        vertical-align: top;\n",
       "    }\n",
       "\n",
       "    .dataframe thead th {\n",
       "        text-align: right;\n",
       "    }\n",
       "</style>\n",
       "<table border=\"1\" class=\"dataframe\">\n",
       "  <thead>\n",
       "    <tr style=\"text-align: right;\">\n",
       "      <th></th>\n",
       "      <th>sku</th>\n",
       "      <th>scale</th>\n",
       "    </tr>\n",
       "  </thead>\n",
       "  <tbody>\n",
       "    <tr>\n",
       "      <th>0</th>\n",
       "      <td>0</td>\n",
       "      <td>0.669534</td>\n",
       "    </tr>\n",
       "    <tr>\n",
       "      <th>1</th>\n",
       "      <td>1</td>\n",
       "      <td>1.025536</td>\n",
       "    </tr>\n",
       "    <tr>\n",
       "      <th>2</th>\n",
       "      <td>2</td>\n",
       "      <td>0.301511</td>\n",
       "    </tr>\n",
       "    <tr>\n",
       "      <th>3</th>\n",
       "      <td>3</td>\n",
       "      <td>0.508548</td>\n",
       "    </tr>\n",
       "    <tr>\n",
       "      <th>4</th>\n",
       "      <td>4</td>\n",
       "      <td>2.463527</td>\n",
       "    </tr>\n",
       "    <tr>\n",
       "      <th>...</th>\n",
       "      <td>...</td>\n",
       "      <td>...</td>\n",
       "    </tr>\n",
       "    <tr>\n",
       "      <th>660911</th>\n",
       "      <td>660911</td>\n",
       "      <td>0.830455</td>\n",
       "    </tr>\n",
       "    <tr>\n",
       "      <th>660912</th>\n",
       "      <td>660912</td>\n",
       "      <td>1.033908</td>\n",
       "    </tr>\n",
       "    <tr>\n",
       "      <th>660913</th>\n",
       "      <td>660913</td>\n",
       "      <td>0.587220</td>\n",
       "    </tr>\n",
       "    <tr>\n",
       "      <th>660914</th>\n",
       "      <td>660914</td>\n",
       "      <td>1.203443</td>\n",
       "    </tr>\n",
       "    <tr>\n",
       "      <th>660915</th>\n",
       "      <td>660915</td>\n",
       "      <td>1.712026</td>\n",
       "    </tr>\n",
       "  </tbody>\n",
       "</table>\n",
       "<p>660916 rows × 2 columns</p>\n",
       "</div>"
      ],
      "text/plain": [
       "           sku     scale\n",
       "0            0  0.669534\n",
       "1            1  1.025536\n",
       "2            2  0.301511\n",
       "3            3  0.508548\n",
       "4            4  2.463527\n",
       "...        ...       ...\n",
       "660911  660911  0.830455\n",
       "660912  660912  1.033908\n",
       "660913  660913  0.587220\n",
       "660914  660914  1.203443\n",
       "660915  660915  1.712026\n",
       "\n",
       "[660916 rows x 2 columns]"
      ]
     },
     "execution_count": 42,
     "metadata": {},
     "output_type": "execute_result"
    }
   ],
   "source": [
    "scales = data.groupby(\"sku\").apply(lambda df: np.sqrt(np.nanmean(df.sold_quantity.diff(1)**2)))\n",
    "scales = scales.reset_index(name=\"scale\")\n",
    "scales[\"scale\"] = scales[\"scale\"].fillna(0)\n",
    "scales"
   ]
  },
  {
   "cell_type": "code",
   "execution_count": 43,
   "id": "8a6babe3",
   "metadata": {},
   "outputs": [
    {
     "data": {
      "text/html": [
       "<div>\n",
       "<style scoped>\n",
       "    .dataframe tbody tr th:only-of-type {\n",
       "        vertical-align: middle;\n",
       "    }\n",
       "\n",
       "    .dataframe tbody tr th {\n",
       "        vertical-align: top;\n",
       "    }\n",
       "\n",
       "    .dataframe thead th {\n",
       "        text-align: right;\n",
       "    }\n",
       "</style>\n",
       "<table border=\"1\" class=\"dataframe\">\n",
       "  <thead>\n",
       "    <tr style=\"text-align: right;\">\n",
       "      <th></th>\n",
       "      <th>sku</th>\n",
       "      <th>avg</th>\n",
       "    </tr>\n",
       "  </thead>\n",
       "  <tbody>\n",
       "    <tr>\n",
       "      <th>0</th>\n",
       "      <td>0</td>\n",
       "      <td>0.186441</td>\n",
       "    </tr>\n",
       "    <tr>\n",
       "      <th>1</th>\n",
       "      <td>1</td>\n",
       "      <td>0.372881</td>\n",
       "    </tr>\n",
       "    <tr>\n",
       "      <th>2</th>\n",
       "      <td>2</td>\n",
       "      <td>0.043478</td>\n",
       "    </tr>\n",
       "    <tr>\n",
       "      <th>3</th>\n",
       "      <td>3</td>\n",
       "      <td>0.135593</td>\n",
       "    </tr>\n",
       "    <tr>\n",
       "      <th>4</th>\n",
       "      <td>4</td>\n",
       "      <td>0.661017</td>\n",
       "    </tr>\n",
       "    <tr>\n",
       "      <th>...</th>\n",
       "      <td>...</td>\n",
       "      <td>...</td>\n",
       "    </tr>\n",
       "    <tr>\n",
       "      <th>660911</th>\n",
       "      <td>660911</td>\n",
       "      <td>0.322034</td>\n",
       "    </tr>\n",
       "    <tr>\n",
       "      <th>660912</th>\n",
       "      <td>660912</td>\n",
       "      <td>0.237288</td>\n",
       "    </tr>\n",
       "    <tr>\n",
       "      <th>660913</th>\n",
       "      <td>660913</td>\n",
       "      <td>0.169492</td>\n",
       "    </tr>\n",
       "    <tr>\n",
       "      <th>660914</th>\n",
       "      <td>660914</td>\n",
       "      <td>0.389831</td>\n",
       "    </tr>\n",
       "    <tr>\n",
       "      <th>660915</th>\n",
       "      <td>660915</td>\n",
       "      <td>0.745763</td>\n",
       "    </tr>\n",
       "  </tbody>\n",
       "</table>\n",
       "<p>660916 rows × 2 columns</p>\n",
       "</div>"
      ],
      "text/plain": [
       "           sku       avg\n",
       "0            0  0.186441\n",
       "1            1  0.372881\n",
       "2            2  0.043478\n",
       "3            3  0.135593\n",
       "4            4  0.661017\n",
       "...        ...       ...\n",
       "660911  660911  0.322034\n",
       "660912  660912  0.237288\n",
       "660913  660913  0.169492\n",
       "660914  660914  0.389831\n",
       "660915  660915  0.745763\n",
       "\n",
       "[660916 rows x 2 columns]"
      ]
     },
     "execution_count": 43,
     "metadata": {},
     "output_type": "execute_result"
    }
   ],
   "source": [
    "avgs = data.groupby(\"sku\")[\"sold_quantity\"].mean()\n",
    "avgs = avgs.reset_index(name=\"avg\")\n",
    "avgs"
   ]
  },
  {
   "cell_type": "code",
   "execution_count": 44,
   "id": "ab295008",
   "metadata": {},
   "outputs": [
    {
     "data": {
      "text/html": [
       "<div>\n",
       "<style scoped>\n",
       "    .dataframe tbody tr th:only-of-type {\n",
       "        vertical-align: middle;\n",
       "    }\n",
       "\n",
       "    .dataframe tbody tr th {\n",
       "        vertical-align: top;\n",
       "    }\n",
       "\n",
       "    .dataframe thead th {\n",
       "        text-align: right;\n",
       "    }\n",
       "</style>\n",
       "<table border=\"1\" class=\"dataframe\">\n",
       "  <thead>\n",
       "    <tr style=\"text-align: right;\">\n",
       "      <th></th>\n",
       "      <th>sku</th>\n",
       "      <th>scale</th>\n",
       "      <th>avg</th>\n",
       "    </tr>\n",
       "  </thead>\n",
       "  <tbody>\n",
       "    <tr>\n",
       "      <th>0</th>\n",
       "      <td>0</td>\n",
       "      <td>0.669534</td>\n",
       "      <td>0.186441</td>\n",
       "    </tr>\n",
       "    <tr>\n",
       "      <th>1</th>\n",
       "      <td>1</td>\n",
       "      <td>1.025536</td>\n",
       "      <td>0.372881</td>\n",
       "    </tr>\n",
       "    <tr>\n",
       "      <th>2</th>\n",
       "      <td>2</td>\n",
       "      <td>0.301511</td>\n",
       "      <td>0.043478</td>\n",
       "    </tr>\n",
       "    <tr>\n",
       "      <th>3</th>\n",
       "      <td>3</td>\n",
       "      <td>0.508548</td>\n",
       "      <td>0.135593</td>\n",
       "    </tr>\n",
       "    <tr>\n",
       "      <th>4</th>\n",
       "      <td>4</td>\n",
       "      <td>2.463527</td>\n",
       "      <td>0.661017</td>\n",
       "    </tr>\n",
       "    <tr>\n",
       "      <th>...</th>\n",
       "      <td>...</td>\n",
       "      <td>...</td>\n",
       "      <td>...</td>\n",
       "    </tr>\n",
       "    <tr>\n",
       "      <th>660911</th>\n",
       "      <td>660911</td>\n",
       "      <td>0.830455</td>\n",
       "      <td>0.322034</td>\n",
       "    </tr>\n",
       "    <tr>\n",
       "      <th>660912</th>\n",
       "      <td>660912</td>\n",
       "      <td>1.033908</td>\n",
       "      <td>0.237288</td>\n",
       "    </tr>\n",
       "    <tr>\n",
       "      <th>660913</th>\n",
       "      <td>660913</td>\n",
       "      <td>0.587220</td>\n",
       "      <td>0.169492</td>\n",
       "    </tr>\n",
       "    <tr>\n",
       "      <th>660914</th>\n",
       "      <td>660914</td>\n",
       "      <td>1.203443</td>\n",
       "      <td>0.389831</td>\n",
       "    </tr>\n",
       "    <tr>\n",
       "      <th>660915</th>\n",
       "      <td>660915</td>\n",
       "      <td>1.712026</td>\n",
       "      <td>0.745763</td>\n",
       "    </tr>\n",
       "  </tbody>\n",
       "</table>\n",
       "<p>660916 rows × 3 columns</p>\n",
       "</div>"
      ],
      "text/plain": [
       "           sku     scale       avg\n",
       "0            0  0.669534  0.186441\n",
       "1            1  1.025536  0.372881\n",
       "2            2  0.301511  0.043478\n",
       "3            3  0.508548  0.135593\n",
       "4            4  2.463527  0.661017\n",
       "...        ...       ...       ...\n",
       "660911  660911  0.830455  0.322034\n",
       "660912  660912  1.033908  0.237288\n",
       "660913  660913  0.587220  0.169492\n",
       "660914  660914  1.203443  0.389831\n",
       "660915  660915  1.712026  0.745763\n",
       "\n",
       "[660916 rows x 3 columns]"
      ]
     },
     "execution_count": 44,
     "metadata": {},
     "output_type": "execute_result"
    }
   ],
   "source": [
    "scales = pd.merge(scales, avgs, how=\"inner\", on=\"sku\")\n",
    "scales"
   ]
  },
  {
   "cell_type": "code",
   "execution_count": 45,
   "id": "cc5004c7",
   "metadata": {},
   "outputs": [
    {
     "data": {
      "text/plain": [
       "2.7332977781658356"
      ]
     },
     "execution_count": 45,
     "metadata": {},
     "output_type": "execute_result"
    }
   ],
   "source": [
    "corr_factor = scales.eval(\"scale / avg\").median()\n",
    "corr_factor"
   ]
  },
  {
   "cell_type": "code",
   "execution_count": 46,
   "id": "fe968fc5",
   "metadata": {},
   "outputs": [
    {
     "data": {
      "text/html": [
       "<div>\n",
       "<style scoped>\n",
       "    .dataframe tbody tr th:only-of-type {\n",
       "        vertical-align: middle;\n",
       "    }\n",
       "\n",
       "    .dataframe tbody tr th {\n",
       "        vertical-align: top;\n",
       "    }\n",
       "\n",
       "    .dataframe thead th {\n",
       "        text-align: right;\n",
       "    }\n",
       "</style>\n",
       "<table border=\"1\" class=\"dataframe\">\n",
       "  <thead>\n",
       "    <tr style=\"text-align: right;\">\n",
       "      <th></th>\n",
       "      <th>sku</th>\n",
       "      <th>scale</th>\n",
       "      <th>avg</th>\n",
       "    </tr>\n",
       "  </thead>\n",
       "  <tbody>\n",
       "    <tr>\n",
       "      <th>21</th>\n",
       "      <td>21</td>\n",
       "      <td>0.0</td>\n",
       "      <td>0.0</td>\n",
       "    </tr>\n",
       "    <tr>\n",
       "      <th>22</th>\n",
       "      <td>22</td>\n",
       "      <td>0.0</td>\n",
       "      <td>0.0</td>\n",
       "    </tr>\n",
       "    <tr>\n",
       "      <th>39</th>\n",
       "      <td>39</td>\n",
       "      <td>0.0</td>\n",
       "      <td>0.0</td>\n",
       "    </tr>\n",
       "    <tr>\n",
       "      <th>134</th>\n",
       "      <td>134</td>\n",
       "      <td>0.0</td>\n",
       "      <td>0.0</td>\n",
       "    </tr>\n",
       "    <tr>\n",
       "      <th>138</th>\n",
       "      <td>138</td>\n",
       "      <td>0.0</td>\n",
       "      <td>0.0</td>\n",
       "    </tr>\n",
       "    <tr>\n",
       "      <th>...</th>\n",
       "      <td>...</td>\n",
       "      <td>...</td>\n",
       "      <td>...</td>\n",
       "    </tr>\n",
       "    <tr>\n",
       "      <th>660762</th>\n",
       "      <td>660762</td>\n",
       "      <td>0.0</td>\n",
       "      <td>0.0</td>\n",
       "    </tr>\n",
       "    <tr>\n",
       "      <th>660807</th>\n",
       "      <td>660807</td>\n",
       "      <td>0.0</td>\n",
       "      <td>0.0</td>\n",
       "    </tr>\n",
       "    <tr>\n",
       "      <th>660814</th>\n",
       "      <td>660814</td>\n",
       "      <td>0.0</td>\n",
       "      <td>0.0</td>\n",
       "    </tr>\n",
       "    <tr>\n",
       "      <th>660826</th>\n",
       "      <td>660826</td>\n",
       "      <td>0.0</td>\n",
       "      <td>0.0</td>\n",
       "    </tr>\n",
       "    <tr>\n",
       "      <th>660831</th>\n",
       "      <td>660831</td>\n",
       "      <td>0.0</td>\n",
       "      <td>0.0</td>\n",
       "    </tr>\n",
       "  </tbody>\n",
       "</table>\n",
       "<p>25283 rows × 3 columns</p>\n",
       "</div>"
      ],
      "text/plain": [
       "           sku  scale  avg\n",
       "21          21    0.0  0.0\n",
       "22          22    0.0  0.0\n",
       "39          39    0.0  0.0\n",
       "134        134    0.0  0.0\n",
       "138        138    0.0  0.0\n",
       "...        ...    ...  ...\n",
       "660762  660762    0.0  0.0\n",
       "660807  660807    0.0  0.0\n",
       "660814  660814    0.0  0.0\n",
       "660826  660826    0.0  0.0\n",
       "660831  660831    0.0  0.0\n",
       "\n",
       "[25283 rows x 3 columns]"
      ]
     },
     "execution_count": 46,
     "metadata": {},
     "output_type": "execute_result"
    }
   ],
   "source": [
    "idx = scales.query(\"scale == 0\").index\n",
    "scales.loc[idx, \"scale\"] = scales.loc[idx, \"avg\"] * corr_factor\n",
    "scales.query(\"scale == 0\")"
   ]
  },
  {
   "cell_type": "code",
   "execution_count": 47,
   "id": "848e637f",
   "metadata": {},
   "outputs": [],
   "source": [
    "(scales\n",
    " .drop(\"avg\", axis=1)\n",
    " .to_csv(\"../data/scales.csv\", index=False)\n",
    ")"
   ]
  },
  {
   "cell_type": "markdown",
   "id": "8859e4ff",
   "metadata": {},
   "source": [
    "***"
   ]
  }
 ],
 "metadata": {
  "kernelspec": {
   "display_name": "Python 3",
   "language": "python",
   "name": "python3"
  },
  "language_info": {
   "codemirror_mode": {
    "name": "ipython",
    "version": 3
   },
   "file_extension": ".py",
   "mimetype": "text/x-python",
   "name": "python",
   "nbconvert_exporter": "python",
   "pygments_lexer": "ipython3",
   "version": "3.8.11"
  }
 },
 "nbformat": 4,
 "nbformat_minor": 5
}
