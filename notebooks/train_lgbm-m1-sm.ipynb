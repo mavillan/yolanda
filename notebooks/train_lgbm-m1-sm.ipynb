{
 "cells": [
  {
   "cell_type": "markdown",
   "id": "6dff2916",
   "metadata": {
    "id": "83cf80b3"
   },
   "source": [
    "***\n",
    "## notebook config"
   ]
  },
  {
   "cell_type": "code",
   "execution_count": null,
   "id": "b7c86143",
   "metadata": {
    "id": "1e657606"
   },
   "outputs": [],
   "source": [
    "ON_COLAB = False\n",
    "ASSESS = True"
   ]
  },
  {
   "cell_type": "code",
   "execution_count": null,
   "id": "d534cc0e",
   "metadata": {
    "colab": {
     "base_uri": "https://localhost:8080/"
    },
    "id": "d9dc33ee",
    "outputId": "5cec4226-0c0d-478f-c325-21fab7531d0f"
   },
   "outputs": [],
   "source": [
    "if ON_COLAB:\n",
    "    from google.colab import drive\n",
    "    from google.colab import files\n",
    "    drive.mount('/content/drive', force_remount=True)\n",
    "    \n",
    "    !pip install --upgrade kaggle > /dev/null 2>&1\n",
    "    !mkdir -p ~/.kaggle/ && cp /content/drive/MyDrive/kaggle/kaggle.json ~/.kaggle/ && chmod 600 ~/.kaggle/kaggle.json\n",
    "    \n",
    "    !free -h\n",
    "    \n",
    "    !pip install --upgrade category_encoders > /dev/null 2>&1\n",
    "    !pip install --upgrade tsforest > /dev/null 2>&1\n",
    "    !pip install --upgrade lightgbm > /dev/null 2>&1\n",
    "    !pip install --upgrade optuna > /dev/null 2>&1"
   ]
  },
  {
   "cell_type": "code",
   "execution_count": null,
   "id": "4c0b08a0",
   "metadata": {
    "colab": {
     "base_uri": "https://localhost:8080/"
    },
    "id": "62d858d4",
    "outputId": "8bad643a-09fa-43fd-a5fd-89dedb448384"
   },
   "outputs": [],
   "source": [
    "if ON_COLAB:\n",
    "    !kaggle datasets download -d mavillan/meli-2021 --force --unzip\n",
    "    !ls -halt\n",
    "    input_path = \"./\"\n",
    "    print(\"input_path:\", input_path)\n",
    "    subs_path = \"/content/drive/MyDrive/meli2021/subs\"\n",
    "    print(\"subs_path:\", subs_path)\n",
    "    results_path = \"/content/drive/MyDrive/meli2021/results\"\n",
    "    print(\"results_path:\", results_path)\n",
    "else:\n",
    "    input_path = \"../data\"\n",
    "    print(\"input_path:\", input_path)\n",
    "    subs_path = \"../subs\"\n",
    "    print(\"subs_path:\", subs_path)\n",
    "    results_path = \"../results\"\n",
    "    print(\"results_path:\", results_path)"
   ]
  },
  {
   "cell_type": "markdown",
   "id": "a384d809",
   "metadata": {
    "id": "460b2ce4"
   },
   "source": [
    "***"
   ]
  },
  {
   "cell_type": "code",
   "execution_count": null,
   "id": "106f45a3",
   "metadata": {
    "id": "2d61474e"
   },
   "outputs": [],
   "source": [
    "from copy import deepcopy\n",
    "import gc\n",
    "import dill\n",
    "from glob import glob\n",
    "import numpy as np\n",
    "import pandas as pd\n",
    "import matplotlib.pyplot as plt\n",
    "import seaborn as sns\n",
    "from scipy import stats\n",
    "import time\n",
    "from tqdm import tqdm\n",
    "import yaml\n",
    "import shap\n",
    "\n",
    "from sklearn import preprocessing\n",
    "import category_encoders as ce\n",
    "import lightgbm as lgb\n",
    "from tsforest.forecast import LightGBMForecaster\n",
    "\n",
    "import sys\n",
    "sys.path.append(\"../utils\")\n",
    "from memory import reduce_mem_usage\n",
    "from metrics import RMSSE, ranked_probability_score, scoring_function, binarize_predictions\n",
    "from inventory import InventoryDaysPredictor\n",
    "from features import Featurador\n"
   ]
  },
  {
   "cell_type": "code",
   "execution_count": null,
   "id": "32da889b",
   "metadata": {},
   "outputs": [],
   "source": [
    "SEED = 19\n",
    "SUB_NBR = str(max([int(fn.split(\"/\")[-1].split(\".\")[0][3:]) for fn in glob(f\"{subs_path}/*\")])+1)\n",
    "print(SUB_NBR)"
   ]
  },
  {
   "cell_type": "code",
   "execution_count": null,
   "id": "4439e027",
   "metadata": {},
   "outputs": [],
   "source": [
    "np.random.seed(SEED)\n",
    "pd.set_option('display.max_columns', None)"
   ]
  },
  {
   "cell_type": "markdown",
   "id": "4b6aa720",
   "metadata": {
    "id": "292442af"
   },
   "source": [
    "***\n",
    "## loading data for assessment"
   ]
  },
  {
   "cell_type": "code",
   "execution_count": null,
   "id": "537eb10b",
   "metadata": {},
   "outputs": [],
   "source": [
    "with open(f\"../data/skus_assess_m1.yaml\", \"r\") as file:\n",
    "    skus_assess_m1 = yaml.load(file, Loader=yaml.FullLoader)\n",
    "    print(f\"len(skus_assess_m1): {len(skus_assess_m1)}\")\n",
    "    file.close()\n",
    "\n",
    "with open(f\"../data/skus_assess_m2.yaml\", \"r\") as file:\n",
    "    skus_assess_m2 = yaml.load(file, Loader=yaml.FullLoader)\n",
    "    print(f\"len(skus_assess_m2): {len(skus_assess_m2)}\")\n",
    "    file.close()\n",
    "    \n",
    "skus_for_test = pd.read_csv(f\"{input_path}/test_data.csv\").sku.values\n",
    "print(f\"len(skus_for_test): {len(skus_for_test)}\")"
   ]
  },
  {
   "cell_type": "code",
   "execution_count": null,
   "id": "ad094396",
   "metadata": {
    "colab": {
     "base_uri": "https://localhost:8080/",
     "height": 615
    },
    "id": "ef26754b",
    "outputId": "b3067a97-94d4-4d0f-ab07-4c760143aa1b"
   },
   "outputs": [],
   "source": [
    "if ASSESS:\n",
    "    scales = pd.read_csv(f\"{input_path}/scales.csv\")\n",
    "\n",
    "    dataset = (\n",
    "        pd.read_parquet(f\"{input_path}/train-m1.parquet\")\n",
    "        .query(\"sku in @skus_assess_m1\")\n",
    "        .rename({\"date\":\"ds\", \"sold_quantity\":\"y\"}, axis=1,)\n",
    "        .sort_values([\"sku\",\"ds\"])\n",
    "        .reset_index(drop=True)\n",
    "    )\n",
    "    \n",
    "    with open(\"../encoders/encoder-stg1.dill\", \"rb\") as file:\n",
    "        encoder = dill.load(file)\n",
    "        file.close()\n",
    "    \n",
    "    transformed = encoder.transform(dataset[encoder.cols].astype(\"category\"))\n",
    "    for col in transformed.columns:\n",
    "        dataset[col+\"_glm\"] = transformed[col].values"
   ]
  },
  {
   "cell_type": "code",
   "execution_count": null,
   "id": "0956789d",
   "metadata": {
    "tags": []
   },
   "outputs": [],
   "source": [
    "if ASSESS:\n",
    "    raw = pd.read_parquet(f\"{input_path}/train_data.parquet\", columns=[\"sku\", \"date\", \"sold_quantity\", \"minutes_active\"])\n",
    "    metadata = pd.read_csv(f\"{input_path}/metadata.csv\", usecols=[\"sku\",\"item_domain_id\",\"site_id\"])\n",
    "    raw = pd.merge(raw, metadata, how=\"inner\", on=\"sku\")\n",
    "\n",
    "    # compute q_mean and q_std features (w/o leakage)\n",
    "    feat = Featurador(raw)\n",
    "    feat.fit(left_limit=\"2021-02-01\", right_limit=\"2021-03-01\")\n",
    "    dataset = feat.transform(dataset)"
   ]
  },
  {
   "cell_type": "code",
   "execution_count": null,
   "id": "c539a249",
   "metadata": {},
   "outputs": [],
   "source": [
    "with open(f\"../config/dist_hparams.yml\", \"r\") as file:\n",
    "    dist_config = yaml.load(file, Loader=yaml.FullLoader)\n",
    "    file.close()\n",
    "\n",
    "print(dist_config)"
   ]
  },
  {
   "cell_type": "code",
   "execution_count": null,
   "id": "ddb28681",
   "metadata": {},
   "outputs": [],
   "source": [
    "min_weight = 0.1\n",
    "scaler = preprocessing.MinMaxScaler(feature_range=(min_weight, 1))\n",
    "dataset[\"weight\"] = scaler.fit_transform(dataset[\"minutes_active\"].values.reshape(-1,1)).ravel()"
   ]
  },
  {
   "cell_type": "markdown",
   "id": "fde87050",
   "metadata": {
    "id": "06504809"
   },
   "source": [
    "***\n",
    "## model config"
   ]
  },
  {
   "cell_type": "code",
   "execution_count": null,
   "id": "b027edc7",
   "metadata": {
    "id": "de009653"
   },
   "outputs": [],
   "source": [
    "categorical_features = {\n",
    "    \"listing_type\": \"default\",\n",
    "    \"shipping_logistic_type\": \"default\",\n",
    "    \"shipping_payment\": \"default\",\n",
    "    \"item_domain_id\": \"default\",\n",
    "    \"item_domain_id_glob\": \"default\",\n",
    "    \"site_id\":\"default\",\n",
    "    \"product_id_glob\": \"default\",\n",
    "    \"product_family_id_glob\": \"default\",\n",
    "}\n",
    "\n",
    "exclude_features = [\n",
    "    \"fold\",\n",
    "    \"sold_quantity\",\n",
    "    \"sku\",\n",
    "    \"item_id\",\n",
    "    \"minutes_active\",\n",
    "    \"product_id\",\n",
    "    \"product_id_glm\",\n",
    "    \"product_family_id\",\n",
    "    \"product_family_id_glm\",\n",
    "]\n",
    "\n",
    "model_params = {\n",
    "    'objective':'tweedie',\n",
    "    'tweedie_variance_power':1.,\n",
    "    'metric':'None',\n",
    "    'num_iterations':1000,\n",
    "    'max_bin': 63,\n",
    "    'bin_construct_sample_cnt':20000000,\n",
    "    'num_leaves': 2**8-1,\n",
    "    'min_data_in_leaf': 2**8-1,\n",
    "    'learning_rate': 0.01,\n",
    "    'max_delta_step':1.,\n",
    "    'feature_fraction':0.8,\n",
    "    'bagging_fraction':0.8,\n",
    "    'bagging_freq':1,\n",
    "    'lambda_l2':0.1,\n",
    "    'max_cat_threshold': 64,\n",
    "    'cat_l2': 50,\n",
    "    'cat_smooth': 50,\n",
    "    'boost_from_average': False,\n",
    "    'force_row_wise': True,\n",
    "    'deterministic':True,\n",
    "    'seed':SEED,\n",
    "}\n",
    "time_features = [\n",
    "    \"week_day\",\n",
    "    \"week_day_cos\",\n",
    "    \"week_day_sin\",\n",
    "    \"month_progress\",\n",
    "]\n",
    "model_kwargs = {\n",
    "    \"model_params\":model_params,\n",
    "    \"time_features\":time_features,\n",
    "    \"exclude_features\":exclude_features,\n",
    "    \"categorical_features\":categorical_features,\n",
    "    \"ts_uid_columns\":[\"sku\",],\n",
    "    #\"lags\": [1,],\n",
    "    #\"window_functions\":{\n",
    "    #    \"mean\":   (None, [1,], [3,7,]),\n",
    "    #    \"std\":    (None, [1,], [3,7]),\n",
    "    #},\n",
    "}"
   ]
  },
  {
   "cell_type": "markdown",
   "id": "d926fcbd",
   "metadata": {
    "id": "a98cb53a"
   },
   "source": [
    "***\n",
    "## model training: assessment"
   ]
  },
  {
   "cell_type": "code",
   "execution_count": null,
   "id": "67344e1c",
   "metadata": {},
   "outputs": [],
   "source": [
    "if ASSESS:\n",
    "    \n",
    "    tic = time.time()\n",
    "    train_data = dataset.copy()\n",
    "    valid_idx = train_data.query(\"ds > '2021-03-01'\").index\n",
    "\n",
    "    model = LightGBMForecaster(**model_kwargs)\n",
    "    model.prepare_features(train_data, valid_idx)\n",
    "    model.train_features = reduce_mem_usage(model.train_features, verbose=True)\n",
    "    model.valid_features = reduce_mem_usage(model.valid_features, verbose=True)\n",
    "    gc.collect()\n",
    "    tac = time.time()\n",
    "    print(f\"Elapsed time for processing features: {(tac-tic)/60} min.\")\n",
    "\n",
    "\n",
    "    tic = time.time()\n",
    "    evaluator = RMSSE(train_data.loc[valid_idx, [\"sku\",\"y\"]], scales)\n",
    "    model.fit(fit_kwargs={\"verbose_eval\":20, \"feval\":evaluator.evaluate})\n",
    "\n",
    "    lgb.plot_importance(model.model.model, figsize=(12,8), importance_type=\"gain\")\n",
    "    lgb.plot_importance(model.model.model, figsize=(12,8), importance_type=\"split\")\n",
    "    plt.show()\n",
    "    explainer = shap.Explainer(model.model.model)\n",
    "    shap_values = explainer(model.valid_features[model.input_features].sample(30000))\n",
    "    shap.plots.beeswarm(shap_values, max_display=23, show=True)\n",
    "    shap.plots.bar(shap_values, max_display=23, show=True)\n",
    "\n",
    "    tac = time.time()\n",
    "    print(f\"Elapsed time for training the model: {(tac-tic)/60} min.\")"
   ]
  },
  {
   "cell_type": "code",
   "execution_count": null,
   "id": "ff524d22",
   "metadata": {
    "colab": {
     "base_uri": "https://localhost:8080/"
    },
    "id": "0adf4707",
    "outputId": "18c6c801-7c54-4562-e5bb-195b95e13cb7"
   },
   "outputs": [],
   "source": [
    "%%time\n",
    "    \n",
    "if ASSESS:\n",
    "    oof = model.predict(dataset.query(\"ds > '2021-03-01'\"), recursive=False)"
   ]
  },
  {
   "cell_type": "code",
   "execution_count": null,
   "id": "9a2c21c8",
   "metadata": {
    "colab": {
     "base_uri": "https://localhost:8080/"
    },
    "id": "5c621974",
    "outputId": "f89ee324-8209-4e05-ead2-be797a0ca613"
   },
   "outputs": [],
   "source": [
    "if ASSESS:\n",
    "    mrg = pd.merge(oof, dataset.loc[:,[\"ds\",\"sku\",\"site_id\",\"y\"]], how=\"inner\", on=[\"ds\",\"sku\"])\n",
    "    mrg[\"sq_error\"] = mrg.eval(\"(y-y_pred)**2\")\n",
    "    valid_errors = np.sqrt(mrg.groupby([\"sku\",\"site_id\"])[\"sq_error\"].mean()).reset_index(name=\"rmse\")\n",
    "    valid_errors = pd.merge(valid_errors, scales, how=\"inner\", on=\"sku\")\n",
    "    valid_errors[\"rmsse\"] = valid_errors.eval(\"rmse/scale\")\n",
    "    display(valid_errors.groupby(\"site_id\")[\"rmsse\"].mean())"
   ]
  },
  {
   "cell_type": "code",
   "execution_count": null,
   "id": "f95502ca",
   "metadata": {
    "id": "767b95d3"
   },
   "outputs": [],
   "source": [
    "if ASSESS:\n",
    "    oof.to_csv(f\"{results_path}/oof_preds_lgbm-m1.csv\", index=False)"
   ]
  },
  {
   "cell_type": "markdown",
   "id": "89a6bd73",
   "metadata": {
    "id": "0a8754cf"
   },
   "source": [
    "***\n",
    "## Assessment of invetory days prediction"
   ]
  },
  {
   "cell_type": "code",
   "execution_count": null,
   "id": "58975baf",
   "metadata": {},
   "outputs": [],
   "source": [
    "if ASSESS:\n",
    "    if \"oof\" not in locals():\n",
    "        oof = pd.read_csv(\"../results/oof_preds_lgbm-m1.csv\")\n",
    "        \n",
    "    predictor = InventoryDaysPredictor(dataset.query(\"ds <= '2021-03-01'\"))\n",
    "    predictor.fit(oof)"
   ]
  },
  {
   "cell_type": "code",
   "execution_count": null,
   "id": "35a91401",
   "metadata": {
    "colab": {
     "base_uri": "https://localhost:8080/"
    },
    "id": "1768a686",
    "outputId": "410ff2e8-9489-4892-d552-1512638c7294"
   },
   "outputs": [],
   "source": [
    "if ASSESS:\n",
    "    valid = (\n",
    "        pd.read_csv(f\"{input_path}/validation_seed2_harder.csv\")\n",
    "        .query(\"sku in @skus_assess_m1\")\n",
    "        .reset_index(drop=True)\n",
    "    )\n",
    "\n",
    "    preds = list()\n",
    "    for sku,df in tqdm(valid.groupby(\"sku\")):\n",
    "        preds.append(predictor.predict(sku, df.target_stock.values[0])[0])\n",
    "        \n",
    "    valid[\"days_to_stockout\"] = np.asarray(preds)\n",
    "    valid[\"days_to_stockout_disc\"] = valid[\"days_to_stockout\"].astype(int)"
   ]
  },
  {
   "cell_type": "code",
   "execution_count": null,
   "id": "f18f3c6f",
   "metadata": {},
   "outputs": [],
   "source": [
    "if ASSESS:\n",
    "    print(\"RMSE (mean): \", np.sqrt(valid.query(\"inventory_days <= 31\").eval(\"(days_to_stockout - inventory_days)**2\").mean()) )\n",
    "    print(\"MAE (mean): \",  valid.query(\"inventory_days <= 31\").eval(\"abs(days_to_stockout - inventory_days)\").mean() )\n",
    "    print(\"MAE (median): \", valid.query(\"inventory_days <= 31\").eval(\"abs(days_to_stockout - inventory_days)\").median() )\n",
    "    print()\n",
    "    \n",
    "    plt.figure(figsize=(20,5))\n",
    "    plt.hist(\n",
    "        [valid.query(\"inventory_days <= 31\").inventory_days, \n",
    "         valid.query(\"inventory_days <= 31\").days_to_stockout,\n",
    "        ],\n",
    "        label=[\"target\",\"predictions\"],\n",
    "        bins=np.arange(1,31,1),\n",
    "        align=\"right\",\n",
    "        rwidth=0.8)\n",
    "    plt.legend(loc=\"best\")\n",
    "    plt.grid()\n",
    "    plt.show()\n",
    "    print()\n",
    "    \n",
    "    plt.figure(figsize=(30,30))\n",
    "    for d in range(1,31):\n",
    "        plt.subplot(6, 5, d)\n",
    "        plt.hist(valid.query(\"days_to_stockout_disc==@d\").inventory_days, bins=np.arange(1,31,1), rwidth=0.9)\n",
    "        plt.title(f\"dist of targets for days_to_stockout_disc=={d}\")\n",
    "        plt.grid()\n",
    "    plt.show()\n",
    "    print()\n",
    "    \n",
    "    plt.figure(figsize=(30,30))\n",
    "    for d in range(1,31):\n",
    "        plt.subplot(6, 5, d)\n",
    "        plt.hist(valid.query(\"inventory_days==@d\").days_to_stockout, bins=np.arange(1,31,1), rwidth=0.9)\n",
    "        plt.title(f\"dist of predictions for inventory_days=={d}\")\n",
    "        plt.grid()\n",
    "    plt.show()"
   ]
  },
  {
   "cell_type": "code",
   "execution_count": null,
   "id": "cd7be5b6",
   "metadata": {},
   "outputs": [],
   "source": [
    "if ASSESS:\n",
    "    print(\"RMSE (mean): \", np.sqrt(valid.query(\"sku in @skus_assess_m2\").eval(\"(days_to_stockout - inventory_days)**2\").mean()) )\n",
    "    print(\"MAE (mean): \",  valid.query(\"sku in @skus_assess_m2\").eval(\"abs(days_to_stockout - inventory_days)\").mean() )\n",
    "    print(\"MAE (median): \", valid.query(\"sku in @skus_assess_m2\").eval(\"abs(days_to_stockout - inventory_days)\").median() )\n",
    "    print()\n",
    "    \n",
    "    plt.figure(figsize=(20,5))\n",
    "    plt.hist(\n",
    "        [valid.query(\"sku in @skus_assess_m2\").inventory_days, \n",
    "         valid.query(\"sku in @skus_assess_m2\").days_to_stockout,\n",
    "        ],\n",
    "        label=[\"target\",\"predictions\"],\n",
    "        bins=np.arange(1,31,1),\n",
    "        align=\"right\",\n",
    "        rwidth=0.8)\n",
    "    plt.legend(loc=\"best\")\n",
    "    plt.grid()\n",
    "    plt.show()\n",
    "    print()\n",
    "    \n",
    "    plt.figure(figsize=(30,30))\n",
    "    for d in range(1,31):\n",
    "        plt.subplot(6, 5, d)\n",
    "        plt.hist(valid.query(\"(days_to_stockout_disc == @d) & (sku in @skus_assess_m2)\").inventory_days, bins=np.arange(1,31,1), rwidth=0.9)\n",
    "        plt.title(f\"dist of targets for days_to_stockout_disc=={d}\")\n",
    "        plt.grid()\n",
    "    plt.show()\n",
    "    print()\n",
    "    \n",
    "    plt.figure(figsize=(30,30))\n",
    "    for d in range(1,31):\n",
    "        plt.subplot(6, 5, d)\n",
    "        plt.hist(valid.query(\"(inventory_days == @d) & (sku in @skus_assess_m2)\").days_to_stockout, bins=np.arange(1,31,1), rwidth=0.9)\n",
    "        plt.title(f\"dist of predictions for inventory_days=={d}\")\n",
    "        plt.grid()\n",
    "    plt.show()"
   ]
  },
  {
   "cell_type": "markdown",
   "id": "efc04a76",
   "metadata": {
    "id": "670c5e6c"
   },
   "source": [
    "***\n",
    "## Assessment of RPS"
   ]
  },
  {
   "cell_type": "code",
   "execution_count": null,
   "id": "2e921ac5",
   "metadata": {
    "colab": {
     "base_uri": "https://localhost:8080/"
    },
    "id": "f662cbea",
    "outputId": "4c34b384-df0c-4aaa-fd3e-b7972ac649d1"
   },
   "outputs": [],
   "source": [
    "if ASSESS:\n",
    "    valid_files = [fn for fn in glob(f\"{input_path}/validation_*.csv\") if (\"seed23\" in fn or \"real\" in fn)]\n",
    "    results = list()\n",
    "\n",
    "    for files in valid_files:\n",
    "        valid = (\n",
    "            pd.read_csv(files)\n",
    "            .query(\"sku in @skus_assess_m1\")\n",
    "            .query(\"inventory_days <= 30\")\n",
    "            .reset_index(drop=True)\n",
    "        )\n",
    "        valid[\"inventory_days\"] = valid[\"inventory_days\"].astype(int)\n",
    "        \n",
    "        preds_proba = list()\n",
    "        for sku,df in tqdm(valid.groupby(\"sku\")):\n",
    "            preds_proba.append(predictor.predict_proba(\n",
    "                sku, \n",
    "                stock=df.target_stock.values[0],\n",
    "                lambda1=dist_config[\"lambda1\"], \n",
    "                lambda2=dist_config[\"lambda2\"],\n",
    "                lambda3=dist_config[\"lambda3\"],\n",
    "                lambda4=dist_config[\"lambda4\"],\n",
    "            ))\n",
    "        preds_proba = np.array(preds_proba)\n",
    "\n",
    "        rps = scoring_function(valid.inventory_days.values, preds_proba)\n",
    "        results.append({\"file\":files.split(\"/\")[-1].split(\".\")[0], \"rps\":rps})\n",
    "        print({\"file\":files.split(\"/\")[-1].split(\".\")[0], \"rps\":rps})"
   ]
  },
  {
   "cell_type": "code",
   "execution_count": null,
   "id": "659b0204",
   "metadata": {
    "colab": {
     "base_uri": "https://localhost:8080/",
     "height": 143
    },
    "id": "5e1c70b1",
    "outputId": "03a06fcc-a417-4403-f43f-1b21d0ff64dc"
   },
   "outputs": [],
   "source": [
    "if ASSESS:\n",
    "    display(pd.DataFrame(results))"
   ]
  },
  {
   "cell_type": "code",
   "execution_count": null,
   "id": "1c7ed5c1",
   "metadata": {},
   "outputs": [],
   "source": [
    "gc.collect()"
   ]
  },
  {
   "cell_type": "markdown",
   "id": "67f5a104",
   "metadata": {
    "id": "ca24fbaf"
   },
   "source": [
    "***\n",
    "## model training"
   ]
  },
  {
   "cell_type": "code",
   "execution_count": null,
   "id": "c58fe1b1",
   "metadata": {
    "colab": {
     "base_uri": "https://localhost:8080/"
    },
    "id": "b7d07f0c",
    "outputId": "e4fd54ff-1d7b-42e0-8455-c443182bc180"
   },
   "outputs": [],
   "source": [
    "unpredictable = pd.read_csv(f\"{input_path}/unpredictable.csv\")\n",
    "skus_for_test = pd.read_csv(f\"{input_path}/test_data.csv\").sku.values\n",
    "\n",
    "dataset = (\n",
    "    pd.read_parquet(f\"{input_path}/train-m1.parquet\")\n",
    "    .query(\"sku not in @unpredictable.sku\")\n",
    "    .query(\"sku in @skus_for_test\")\n",
    "    .rename({\"date\":\"ds\", \"sold_quantity\":\"y\"}, axis=1,)\n",
    "    .sort_values([\"sku\",\"ds\"])\n",
    "    .reset_index(drop=True)\n",
    ")\n",
    "print(\"nrows:\", len(dataset)/1e6)\n",
    "print(\"nskus:\", dataset.sku.nunique())\n",
    "\n",
    "with open(\"../encoders/encoder-stg2.dill\", \"rb\") as file:\n",
    "    encoder = dill.load(file)\n",
    "    file.close()\n",
    "\n",
    "transformed = encoder.transform(dataset[encoder.cols].astype(\"category\"))\n",
    "for col in transformed.columns:\n",
    "    dataset[col+\"_glm\"] = transformed[col].values"
   ]
  },
  {
   "cell_type": "code",
   "execution_count": null,
   "id": "d180e25a",
   "metadata": {
    "colab": {
     "base_uri": "https://localhost:8080/"
    },
    "id": "07b74b0f",
    "outputId": "c8bffb18-85de-42d3-ae5b-ab2be0834beb"
   },
   "outputs": [],
   "source": [
    "test = (\n",
    "    pd.read_parquet(f\"{input_path}/test-m1.parquet\")\n",
    "    .query(\"sku not in @unpredictable.sku\")\n",
    "    .rename({\"date\":\"ds\",}, axis=1,)\n",
    "    .sort_values([\"sku\",\"ds\"])\n",
    "    .assign(weight = None)\n",
    "    .reset_index(drop=True)\n",
    ")\n",
    "print(\"nrows:\", len(test)/1e6)\n",
    "print(\"nskus:\", test.sku.nunique())\n",
    "\n",
    "transformed = encoder.transform(test[encoder.cols].astype(\"category\"))\n",
    "for col in transformed.columns:\n",
    "    test[col+\"_glm\"] = transformed[col].values"
   ]
  },
  {
   "cell_type": "code",
   "execution_count": null,
   "id": "23d56723",
   "metadata": {},
   "outputs": [],
   "source": [
    "raw = pd.read_parquet(f\"{input_path}/train_data.parquet\", columns=[\"sku\", \"date\", \"sold_quantity\", \"minutes_active\"])\n",
    "metadata = pd.read_csv(f\"{input_path}/metadata.csv\", usecols=[\"sku\",\"item_domain_id\",\"site_id\"])\n",
    "raw = pd.merge(raw, metadata, how=\"inner\", on=\"sku\")\n",
    "\n",
    "# compute q_mean and q_std features (w/o leakage)\n",
    "feat = Featurador(raw)\n",
    "feat.fit(left_limit=\"2021-02-01\", right_limit=\"2021-03-31\")\n",
    "dataset = feat.transform(dataset)\n",
    "test = feat.transform(test)"
   ]
  },
  {
   "cell_type": "code",
   "execution_count": null,
   "id": "987ff13b",
   "metadata": {},
   "outputs": [],
   "source": [
    "min_weight = 0.1\n",
    "scaler = preprocessing.MinMaxScaler(feature_range=(min_weight, 1))\n",
    "dataset[\"weight\"] = scaler.fit_transform(dataset[\"minutes_active\"].values.reshape(-1,1)).ravel()"
   ]
  },
  {
   "cell_type": "code",
   "execution_count": null,
   "id": "b7aaf3b8",
   "metadata": {
    "colab": {
     "base_uri": "https://localhost:8080/",
     "height": 1000
    },
    "id": "34311bcd",
    "outputId": "7cc3e40a-6e2a-4958-eaa7-f83ef74d8a75"
   },
   "outputs": [],
   "source": [
    "tic = time.time()\n",
    "train_data = dataset.copy()\n",
    "\n",
    "_model_kwargs = dict(model_kwargs)\n",
    "_model_kwargs[\"model_params\"][\"num_iterations\"] = 150\n",
    "\n",
    "model = LightGBMForecaster(**_model_kwargs)\n",
    "model.prepare_features(train_data)\n",
    "model.train_features = reduce_mem_usage(model.train_features, verbose=True)\n",
    "gc.collect()\n",
    "tac = time.time()\n",
    "print(f\"Elapsed time for processing features: {(tac-tic)/60} min.\")\n",
    "\n",
    "tic = time.time()\n",
    "model.fit()\n",
    "lgb.plot_importance(model.model.model, figsize=(12,8), importance_type=\"gain\")\n",
    "lgb.plot_importance(model.model.model, figsize=(12,8), importance_type=\"split\")\n",
    "plt.show()\n",
    "tac = time.time()\n",
    "print(f\"Elapsed time for training the model: {(tac-tic)/60} min.\")\n"
   ]
  },
  {
   "cell_type": "code",
   "execution_count": null,
   "id": "fec3246a",
   "metadata": {
    "id": "e7b014d8"
   },
   "outputs": [],
   "source": [
    "predictions = model.predict(test, recursive=False)\n",
    "predictions.to_csv(f\"../results/preds_m1_lgbm_sub{SUB_NBR}.csv\", index=False)"
   ]
  },
  {
   "cell_type": "code",
   "execution_count": null,
   "id": "f073995a",
   "metadata": {
    "id": "9c2e93c9"
   },
   "outputs": [],
   "source": [
    "predictor = InventoryDaysPredictor(dataset)\n",
    "predictor.fit(predictions)"
   ]
  },
  {
   "cell_type": "code",
   "execution_count": null,
   "id": "eff93ab7",
   "metadata": {},
   "outputs": [],
   "source": [
    "stockout_preds = list()\n",
    "groups = (\n",
    "    test[[\"sku\",\"target_stock\"]]\n",
    "    .drop_duplicates()\n",
    "    .groupby(\"sku\")\n",
    ")\n",
    "\n",
    "for sku,df in tqdm(groups):\n",
    "    stockout_preds.append(predictor.predict(sku, df.target_stock.values[0])[0])\n",
    "stockout_preds = pd.DataFrame(stockout_preds, columns=[\"days_to_stockout\"])\n"
   ]
  },
  {
   "cell_type": "code",
   "execution_count": null,
   "id": "0b5916ae",
   "metadata": {},
   "outputs": [],
   "source": [
    "plt.figure(figsize=(15,5))\n",
    "plt.hist(stockout_preds.days_to_stockout, bins=np.arange(0,32,1), rwidth=0.9, align='left')\n",
    "plt.grid()\n",
    "plt.title(\"stockout predictions\")\n",
    "plt.show()\n",
    "\n",
    "plt.figure(figsize=(15,5))\n",
    "plt.hist(stockout_preds.days_to_stockout, bins=np.arange(0,32,0.5), rwidth=0.9, align='left')\n",
    "plt.grid()\n",
    "plt.title(\"stockout predictions\")\n",
    "plt.show()"
   ]
  },
  {
   "cell_type": "code",
   "execution_count": null,
   "id": "df184097",
   "metadata": {
    "id": "ddff3afd"
   },
   "outputs": [],
   "source": [
    "std_days = np.mean(np.asarray(list(predictor.parameters[\"std\"].values())) / np.asarray(list(predictor.parameters[\"mean\"].values())))\n",
    "\n",
    "for days_to_stockout in range(1,31):\n",
    "    scale = std_days * (dist_config[\"lambda1\"]*(days_to_stockout**dist_config[\"lambda2\"]))\n",
    "    beta = dist_config[\"lambda3\"]*(days_to_stockout**dist_config[\"lambda4\"])\n",
    "    days = np.arange(1,31)\n",
    "    probs = stats.gennorm.pdf(days, loc=days_to_stockout, scale=scale, beta=beta)\n",
    "    \n",
    "    plt.plot(days, probs)\n",
    "    plt.grid()\n",
    "    plt.title(f\"days_to_stockout={days_to_stockout}\")\n",
    "    plt.show()"
   ]
  },
  {
   "cell_type": "code",
   "execution_count": null,
   "id": "cea51533",
   "metadata": {
    "id": "d3ac7c00"
   },
   "outputs": [],
   "source": [
    "# skus = list()\n",
    "# preds_proba = list()\n",
    "# groups = (\n",
    "#     test[[\"sku\",\"target_stock\"]]\n",
    "#     .drop_duplicates()\n",
    "#     .groupby(\"sku\")\n",
    "# )\n",
    "\n",
    "# for sku,df in tqdm(groups):\n",
    "#     skus.append(sku)\n",
    "#     preds_proba.append(predictor.predict_proba(\n",
    "#         sku, \n",
    "#         stock=df.target_stock.values[0],\n",
    "#         lambda1=dist_config[\"lambda1\"], \n",
    "#         lambda2=dist_config[\"lambda2\"],\n",
    "#         lambda3=dist_config[\"lambda3\"],\n",
    "#         lambda4=dist_config[\"lambda4\"],\n",
    "#     ))\n",
    "# preds_proba = np.array(preds_proba)\n",
    "# preds_proba = pd.DataFrame(preds_proba, index=skus)"
   ]
  },
  {
   "cell_type": "code",
   "execution_count": null,
   "id": "7f54f6ef",
   "metadata": {
    "id": "bffa7f21"
   },
   "outputs": [],
   "source": [
    "# unpreds_proba = np.ones((len(unpredictable),30)) / 30\n",
    "# unpreds_proba = pd.DataFrame(unpreds_proba, index=unpredictable.sku.values)\n",
    "\n",
    "# preds_proba_mrg = pd.concat([preds_proba, unpreds_proba])\n",
    "# preds_proba_mrg"
   ]
  },
  {
   "cell_type": "markdown",
   "id": "a80c9988",
   "metadata": {
    "id": "36a39256"
   },
   "source": [
    "***\n",
    "## generate submission"
   ]
  },
  {
   "cell_type": "code",
   "execution_count": null,
   "id": "6c41339c",
   "metadata": {
    "id": "9730c62b"
   },
   "outputs": [],
   "source": [
    "# test = pd.read_csv(f\"{input_path}/test_data.csv\")\n",
    "# preds_proba_mrg = preds_proba_mrg.loc[test.sku.values,:].copy()"
   ]
  },
  {
   "cell_type": "code",
   "execution_count": null,
   "id": "f3256de7",
   "metadata": {
    "id": "45da0def"
   },
   "outputs": [],
   "source": [
    "# assert preds_proba_mrg.isna().sum(axis=1).sum() == 0\n",
    "# assert np.allclose(preds_proba_mrg.sum(axis=1).values, 1, atol=1e-16)\n",
    "# assert preds_proba_mrg.max(axis=1).max() < 1"
   ]
  },
  {
   "cell_type": "code",
   "execution_count": null,
   "id": "c156d790",
   "metadata": {
    "id": "c3892e46"
   },
   "outputs": [],
   "source": [
    "# (preds_proba_mrg\n",
    "#  .round(4)\n",
    "#  .to_csv(f\"{subs_path}/sub{SUB_NBR}.csv.gz\", header=False, index=False, compression=\"gzip\")\n",
    "# )"
   ]
  },
  {
   "cell_type": "markdown",
   "id": "401c37e5",
   "metadata": {
    "id": "f3b13ec3"
   },
   "source": [
    "***"
   ]
  }
 ],
 "metadata": {
  "accelerator": "TPU",
  "colab": {
   "collapsed_sections": [],
   "machine_shape": "hm",
   "name": "train_lgbm.ipynb",
   "provenance": []
  },
  "kernelspec": {
   "display_name": "Python 3",
   "language": "python",
   "name": "python3"
  },
  "language_info": {
   "codemirror_mode": {
    "name": "ipython",
    "version": 3
   },
   "file_extension": ".py",
   "mimetype": "text/x-python",
   "name": "python",
   "nbconvert_exporter": "python",
   "pygments_lexer": "ipython3",
   "version": "3.8.11"
  }
 },
 "nbformat": 4,
 "nbformat_minor": 5
}
