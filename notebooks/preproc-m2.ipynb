{
 "cells": [
  {
   "cell_type": "code",
   "execution_count": null,
   "id": "5b6f91bf",
   "metadata": {},
   "outputs": [],
   "source": [
    "import numpy as np\n",
    "import pandas as pd\n",
    "import jsonlines\n",
    "from tqdm import tqdm\n",
    "from joblib import Parallel, delayed\n",
    "import category_encoders as ce\n",
    "from pandarallel import pandarallel\n",
    "\n",
    "pd.set_option('display.max_columns', None)\n",
    "pandarallel.initialize()"
   ]
  },
  {
   "cell_type": "code",
   "execution_count": null,
   "id": "24bf749e",
   "metadata": {},
   "outputs": [],
   "source": [
    "def reduce_mem_usage(df, verbose=False):\n",
    "    \"\"\"\n",
    "    Utility function to reduce the memory usage of pandas dataframes\n",
    "    \n",
    "    Parameters\n",
    "    ----------\n",
    "    df: pandas.Dataframe\n",
    "    verbose: Boolean\n",
    "    \"\"\"\n",
    "    numerics = ['int16', 'int32', 'int64', 'float16', 'float32', 'float64']\n",
    "    start_mem = df.memory_usage().sum() / 1024**2    \n",
    "    for col in df.columns:\n",
    "        col_type = df[col].dtypes\n",
    "        if col_type in numerics:\n",
    "            c_min = df[col].min()\n",
    "            c_max = df[col].max()\n",
    "            if str(col_type)[:3] == 'int':\n",
    "                if c_min > np.iinfo(np.int8).min and c_max < np.iinfo(np.int8).max:\n",
    "                    df[col] = df[col].astype(np.int8)\n",
    "                elif c_min > np.iinfo(np.int16).min and c_max < np.iinfo(np.int16).max:\n",
    "                    df[col] = df[col].astype(np.int16)\n",
    "                elif c_min > np.iinfo(np.int32).min and c_max < np.iinfo(np.int32).max:\n",
    "                    df[col] = df[col].astype(np.int32)\n",
    "                elif c_min > np.iinfo(np.int64).min and c_max < np.iinfo(np.int64).max:\n",
    "                    df[col] = df[col].astype(np.int64)  \n",
    "            else:\n",
    "                if c_min > np.finfo(np.float32).min and c_max < np.finfo(np.float32).max:\n",
    "                    df[col] = df[col].astype(np.float32)\n",
    "                else:\n",
    "                    df[col] = df[col].astype(np.float64)    \n",
    "    end_mem = df.memory_usage().sum() / 1024**2\n",
    "    if verbose: \n",
    "        print('Mem. usage decreased to {:5.2f} Mb ({:.1f}% reduction)'.format(end_mem, 100 * (start_mem - end_mem) / start_mem))\n",
    "    return df"
   ]
  },
  {
   "cell_type": "markdown",
   "id": "4c6ddf4f",
   "metadata": {},
   "source": [
    "***\n",
    "## preparing train data"
   ]
  },
  {
   "cell_type": "code",
   "execution_count": null,
   "id": "472a6dac",
   "metadata": {},
   "outputs": [],
   "source": [
    "train = pd.read_parquet(\"../data/train_data.parquet\")\n",
    "train[\"date\"] = pd.to_datetime(train[\"date\"])\n",
    "train[\"weekday\"] = (train.date.dt.weekday+1).astype(str)\n",
    "train"
   ]
  },
  {
   "cell_type": "code",
   "execution_count": null,
   "id": "8672f098",
   "metadata": {},
   "outputs": [],
   "source": [
    "train.groupby(\"sku\")[\"sold_quantity\"].mean()"
   ]
  },
  {
   "cell_type": "code",
   "execution_count": null,
   "id": "d956b130",
   "metadata": {},
   "outputs": [],
   "source": [
    "train[\"tmp\"] = train.eval(\"sold_quantity*minutes_active\")\n",
    "q_mean = (train.groupby(\"sku\")[\"tmp\"].sum() / train.groupby(\"sku\")[\"minutes_active\"].sum()).reset_index(name=\"q_mean\")\n",
    "train = train.merge(q_mean, how=\"inner\", on=\"sku\")\n",
    "train.drop(\"tmp\", axis=1, inplace=True)\n",
    "\n",
    "train[\"tmp\"]  = train.eval(\"minutes_active * (sold_quantity - q_mean)**2\")\n",
    "q_std = (train.groupby(\"sku\")[\"tmp\"].sum() / train.groupby(\"sku\")[\"minutes_active\"].sum()).reset_index(name=\"q_std\")\n",
    "train = train.merge(q_std, how=\"inner\", on=\"sku\")\n",
    "train.drop(\"tmp\", axis=1, inplace=True)"
   ]
  },
  {
   "cell_type": "code",
   "execution_count": null,
   "id": "8654d18c",
   "metadata": {},
   "outputs": [],
   "source": [
    "train.loc[:,[\"currency\",\"listing_type\",\"shipping_logistic_type\",\"shipping_payment\"]].nunique()"
   ]
  },
  {
   "cell_type": "code",
   "execution_count": null,
   "id": "708431b0",
   "metadata": {},
   "outputs": [],
   "source": [
    "encoder = ce.OneHotEncoder(cols=[\"weekday\",\"listing_type\",\"shipping_logistic_type\",\"shipping_payment\"], use_cat_names=True)\n",
    "train = encoder.fit_transform(train)\n",
    "train"
   ]
  },
  {
   "cell_type": "code",
   "execution_count": null,
   "id": "ac45b7fc",
   "metadata": {},
   "outputs": [],
   "source": [
    "test = pd.read_csv(\"../data/test_data.csv\")\n",
    "train = pd.merge(train, test, how=\"inner\", on=\"sku\")\n",
    "train"
   ]
  },
  {
   "cell_type": "code",
   "execution_count": null,
   "id": "bfae34f0",
   "metadata": {},
   "outputs": [],
   "source": [
    "cols_sum = [\n",
    "    \"listing_type_classic\",\n",
    "    \"listing_type_premium\",\n",
    "    \"shipping_logistic_type_fulfillment\",\n",
    "    \"shipping_logistic_type_cross_docking\",\n",
    "    \"shipping_logistic_type_drop_off\",\n",
    "    \"shipping_payment_free_shipping\",\n",
    "    \"shipping_payment_paid_shipping\",\n",
    "    \"weekday_1\",\n",
    "    \"weekday_2\",\n",
    "    \"weekday_3\",\n",
    "    \"weekday_4\",\n",
    "    \"weekday_5\",\n",
    "    \"weekday_6\",\n",
    "    \"weekday_7\",    \n",
    "]\n",
    "cols_mean = [\n",
    "    \"minutes_active\",\n",
    "]\n",
    "\n",
    "def compute_features(df):\n",
    "    target_stock = df.target_stock.values[0]\n",
    "    start_index = df.index.min()\n",
    "    end_index = df.index.max()\n",
    "\n",
    "    if len(df) < 30:\n",
    "        return None\n",
    "\n",
    "    inventory_days = list()\n",
    "    sum_values = list()\n",
    "    mean_values = list()\n",
    "\n",
    "    for i in df.index:\n",
    "        if i+29 > end_index: break\n",
    "\n",
    "        df_slice = df.loc[i:i+29]\n",
    "        cumsum = df_slice.sold_quantity.values.cumsum()\n",
    "        idxs = np.argwhere(cumsum >= target_stock)\n",
    "        if len(idxs)==0:\n",
    "            idays = np.inf\n",
    "        else:\n",
    "            idays = np.min(idxs) + 1\n",
    "\n",
    "        inventory_days.append(idays)\n",
    "        sum_values.append(df_slice[cols_sum].sum(axis=0).values)\n",
    "        mean_values.append(df_slice[cols_mean].mean(axis=0).values)\n",
    "\n",
    "    df = df.head(len(inventory_days)).copy()\n",
    "    df[\"inventory_days\"] = inventory_days\n",
    "    df[cols_sum] = np.asarray(sum_values)\n",
    "    df[cols_mean] = np.asarray(mean_values)\n",
    "    \n",
    "    return df\n",
    "\n",
    "with Parallel(n_jobs=6) as parallel:\n",
    "    delayed_func = delayed(compute_features)\n",
    "    all_dfs = parallel(delayed_func(df) for _,df in tqdm(train.groupby(\"sku\")))"
   ]
  },
  {
   "cell_type": "code",
   "execution_count": null,
   "id": "5ec6cef5",
   "metadata": {},
   "outputs": [],
   "source": [
    "train = pd.concat(filter(lambda x: x is not None, all_dfs), ignore_index=True)\n",
    "train"
   ]
  },
  {
   "cell_type": "code",
   "execution_count": null,
   "id": "ab5a0189",
   "metadata": {},
   "outputs": [
    {
     "name": "stderr",
     "output_type": "stream",
     "text": [
      " 23%|██▎       | 125784/551472 [44:41<2:42:12, 43.74it/s]"
     ]
    }
   ],
   "source": [
    "# todo: impute zero q_mean & q_std with stats from item_domain_id"
   ]
  },
  {
   "cell_type": "code",
   "execution_count": null,
   "id": "4ec4d7e5",
   "metadata": {},
   "outputs": [],
   "source": [
    "all_records = list()\n",
    "with jsonlines.open('../data/items_static_metadata_full.jl') as reader:\n",
    "    for obj in tqdm(reader):\n",
    "        all_records.append(obj)\n",
    "        \n",
    "metadata = pd.DataFrame(all_records)\n",
    "metadata.drop([\"item_title\"], axis=1, inplace=True)\n",
    "metadata"
   ]
  },
  {
   "cell_type": "code",
   "execution_count": null,
   "id": "973725c5",
   "metadata": {},
   "outputs": [],
   "source": [
    "train = pd.merge(train, metadata, how=\"inner\", on=\"sku\")\n",
    "train"
   ]
  },
  {
   "cell_type": "code",
   "execution_count": null,
   "id": "b283f1bb",
   "metadata": {},
   "outputs": [],
   "source": [
    "train = reduce_mem_usage(train, verbose=True)\n",
    "train.to_parquet(\"../data/train-m2.parquet\", index=False)"
   ]
  },
  {
   "cell_type": "markdown",
   "id": "95d20cdf",
   "metadata": {},
   "source": [
    "***\n",
    "## preparing test data"
   ]
  },
  {
   "cell_type": "code",
   "execution_count": null,
   "id": "65ffd2ef",
   "metadata": {},
   "outputs": [],
   "source": [
    "cols = [\"sku\",\"current_price\", \"currency\", \"listing_type\", \"shipping_logistic_type\", \n",
    "        \"shipping_payment\", \"minutes_active\", \"available\", \"item_domain_id\", \n",
    "        \"item_id\", \"site_id\", \"product_id\", \"product_family_id\"]\n",
    "\n",
    "def get_train_feats(df, look_back=7):\n",
    "    row = dict()\n",
    "    for col in cols:\n",
    "        counts = df.tail(look_back).loc[:,col].value_counts()\n",
    "        if len(counts) == 0:\n",
    "            row[col] = None \n",
    "        else:\n",
    "            row[col] = counts.index[0]  \n",
    "    return row"
   ]
  },
  {
   "cell_type": "code",
   "execution_count": null,
   "id": "92bffc99",
   "metadata": {},
   "outputs": [],
   "source": [
    "all_rows = list()\n",
    "    \n",
    "with Parallel(n_jobs=6) as parallel:\n",
    "    delayed_func = delayed(get_train_feats)\n",
    "    all_rows = parallel(delayed_func(df) for _,df in tqdm(train.groupby(\"sku\")))\n",
    "\n",
    "train_feats = pd.DataFrame(all_rows)\n",
    "train_feats"
   ]
  },
  {
   "cell_type": "code",
   "execution_count": null,
   "id": "05e42afd",
   "metadata": {},
   "outputs": [],
   "source": [
    "test = pd.read_csv(\"../data/test_data.csv\")\n",
    "test = pd.merge(test, train_feats, how=\"left\", on=\"sku\")\n",
    "test"
   ]
  },
  {
   "cell_type": "code",
   "execution_count": null,
   "id": "239374a7",
   "metadata": {},
   "outputs": [],
   "source": [
    "all_dfs = list()\n",
    "\n",
    "for date in pd.date_range(\"2021-04-01\", \"2021-04-30\"):\n",
    "    _test = test.copy(deep=True)\n",
    "    _test[\"date\"] = date\n",
    "    all_dfs.append(_test)\n",
    "    \n",
    "test = pd.concat(all_dfs, ignore_index=True)\n",
    "test"
   ]
  },
  {
   "cell_type": "code",
   "execution_count": null,
   "id": "a95580ea",
   "metadata": {},
   "outputs": [],
   "source": [
    "test = reduce_mem_usage(test, verbose=True)\n",
    "test.to_parquet(\"../data/test-m2.parquet\", index=False)"
   ]
  },
  {
   "cell_type": "markdown",
   "id": "11d4e8d3",
   "metadata": {},
   "source": [
    "***"
   ]
  }
 ],
 "metadata": {
  "kernelspec": {
   "display_name": "Python 3",
   "language": "python",
   "name": "python3"
  },
  "language_info": {
   "codemirror_mode": {
    "name": "ipython",
    "version": 3
   },
   "file_extension": ".py",
   "mimetype": "text/x-python",
   "name": "python",
   "nbconvert_exporter": "python",
   "pygments_lexer": "ipython3",
   "version": "3.8.11"
  }
 },
 "nbformat": 4,
 "nbformat_minor": 5
}
