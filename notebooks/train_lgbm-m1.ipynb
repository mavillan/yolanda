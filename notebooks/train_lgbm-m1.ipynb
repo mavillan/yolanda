{
  "nbformat": 4,
  "nbformat_minor": 5,
  "metadata": {
    "accelerator": "TPU",
    "colab": {
      "name": "train_lgbm.ipynb",
      "provenance": [],
      "collapsed_sections": [],
      "machine_shape": "hm"
    },
    "kernelspec": {
      "display_name": "Python 3",
      "language": "python",
      "name": "python3"
    },
    "language_info": {
      "codemirror_mode": {
        "name": "ipython",
        "version": 3
      },
      "file_extension": ".py",
      "mimetype": "text/x-python",
      "name": "python",
      "nbconvert_exporter": "python",
      "pygments_lexer": "ipython3",
      "version": "3.8.11"
    }
  },
  "cells": [
    {
      "cell_type": "markdown",
      "metadata": {
        "id": "83cf80b3"
      },
      "source": [
        "***\n",
        "## notebook config"
      ],
      "id": "83cf80b3"
    },
    {
      "cell_type": "code",
      "metadata": {
        "id": "1e657606"
      },
      "source": [
        "ON_COLAB = True\n",
        "ASSESS = True"
      ],
      "id": "1e657606",
      "execution_count": 1,
      "outputs": []
    },
    {
      "cell_type": "code",
      "metadata": {
        "id": "d9dc33ee",
        "outputId": "5cec4226-0c0d-478f-c325-21fab7531d0f",
        "colab": {
          "base_uri": "https://localhost:8080/"
        }
      },
      "source": [
        "if ON_COLAB:\n",
        "    from google.colab import drive\n",
        "    from google.colab import files\n",
        "    drive.mount('/content/drive', force_remount=True)\n",
        "    \n",
        "    !pip install --upgrade kaggle > /dev/null 2>&1\n",
        "    !mkdir -p ~/.kaggle/ && cp /content/drive/MyDrive/kaggle/kaggle.json ~/.kaggle/ && chmod 600 ~/.kaggle/kaggle.json\n",
        "    \n",
        "    !free -h\n",
        "    \n",
        "    !pip install --upgrade category_encoders > /dev/null 2>&1\n",
        "    !pip install --upgrade tsforest > /dev/null 2>&1\n",
        "    !pip install --upgrade lightgbm > /dev/null 2>&1\n",
        "    !pip install --upgrade optuna > /dev/null 2>&1"
      ],
      "id": "d9dc33ee",
      "execution_count": 2,
      "outputs": [
        {
          "output_type": "stream",
          "text": [
            "Mounted at /content/drive\n",
            "              total        used        free      shared  buff/cache   available\n",
            "Mem:            35G        1.0G         32G        1.1M        1.9G         33G\n",
            "Swap:            0B          0B          0B\n"
          ],
          "name": "stdout"
        }
      ]
    },
    {
      "cell_type": "code",
      "metadata": {
        "id": "62d858d4",
        "outputId": "8bad643a-09fa-43fd-a5fd-89dedb448384",
        "colab": {
          "base_uri": "https://localhost:8080/"
        }
      },
      "source": [
        "if ON_COLAB:\n",
        "    !kaggle datasets download -d mavillan/meli-2021 --force --unzip\n",
        "    !ls -halt\n",
        "    input_path = \"./\"\n",
        "    print(\"input_path:\", input_path)\n",
        "    subs_path = \"/content/drive/MyDrive/meli2021/subs\"\n",
        "    print(\"subs_path:\", subs_path)\n",
        "    results_path = \"/content/drive/MyDrive/meli2021/results\"\n",
        "    print(\"results_path:\", results_path)\n",
        "else:\n",
        "    input_path = \"../data\"\n",
        "    print(\"input_path:\", input_path)\n",
        "    subs_path = \"../subs\"\n",
        "    print(\"subs_path:\", subs_path)\n",
        "    results_path = \"../results\"\n",
        "    print(\"results_path:\", results_path)"
      ],
      "id": "62d858d4",
      "execution_count": 3,
      "outputs": [
        {
          "output_type": "stream",
          "text": [
            "Downloading meli-2021.zip to /content\n",
            " 92% 285M/309M [00:01<00:00, 230MB/s]\n",
            "100% 309M/309M [00:01<00:00, 228MB/s]\n",
            "total 518M\n",
            "drwxr-xr-x 1 root root 4.0K Aug 21 22:39 .\n",
            "-rw-r--r-- 1 root root 5.7M Aug 21 22:39 validation_seed23.csv\n",
            "-rw-r--r-- 1 root root 5.7M Aug 21 22:39 validation_seed2.csv\n",
            "-rw-r--r-- 1 root root 5.7M Aug 21 22:39 validation_seed19.csv\n",
            "-rw-r--r-- 1 root root 5.7M Aug 21 22:39 validation_seed17.csv\n",
            "-rw-r--r-- 1 root root 169K Aug 21 22:39 unpredictable.csv\n",
            "-rw-r--r-- 1 root root  78M Aug 21 22:39 train_data.parquet\n",
            "-rw-r--r-- 1 root root  78M Aug 21 22:39 train.parquet\n",
            "-rw-r--r-- 1 root root 4.9M Aug 21 22:39 test_data.csv\n",
            "-rw-r--r-- 1 root root 223M Aug 21 22:39 test.parquet\n",
            "-rw-r--r-- 1 root root 3.3M Aug 21 22:39 skus_for_assess.csv\n",
            "-rw-r--r-- 1 root root  16M Aug 21 22:39 scales.csv\n",
            "-rw-r--r-- 1 root root  94M Aug 21 22:39 sample_submission.csv\n",
            "drwx------ 5 root root 4.0K Aug 21 22:39 drive\n",
            "drwxr-xr-x 1 root root 4.0K Aug 21 21:55 ..\n",
            "drwxr-xr-x 1 root root 4.0K Aug 13 13:35 sample_data\n",
            "drwxr-xr-x 4 root root 4.0K Aug 13 13:34 .config\n",
            "input_path: ./\n",
            "subs_path: /content/drive/MyDrive/meli2021/subs\n",
            "results_path: /content/drive/MyDrive/meli2021/results\n"
          ],
          "name": "stdout"
        }
      ]
    },
    {
      "cell_type": "code",
      "metadata": {
        "id": "89b9dad6"
      },
      "source": [
        "SEED = 19\n",
        "SUB_NBR = \"04\""
      ],
      "id": "89b9dad6",
      "execution_count": 4,
      "outputs": []
    },
    {
      "cell_type": "markdown",
      "metadata": {
        "id": "460b2ce4"
      },
      "source": [
        "***"
      ],
      "id": "460b2ce4"
    },
    {
      "cell_type": "code",
      "metadata": {
        "id": "2d61474e"
      },
      "source": [
        "from copy import deepcopy\n",
        "import gc\n",
        "from glob import glob\n",
        "import numpy as np\n",
        "import pandas as pd\n",
        "import matplotlib.pyplot as plt\n",
        "import seaborn as sns\n",
        "from scipy import interpolate\n",
        "from scipy import stats\n",
        "import time\n",
        "\n",
        "import category_encoders as ce\n",
        "import lightgbm as lgb\n",
        "from tqdm import tqdm\n",
        "from tsforest.forecast import LightGBMForecaster\n",
        "import optuna\n",
        "\n",
        "np.random.seed(SEED)\n",
        "pd.set_option('display.max_columns', None)"
      ],
      "id": "2d61474e",
      "execution_count": 5,
      "outputs": []
    },
    {
      "cell_type": "code",
      "metadata": {
        "id": "d9abc9a1"
      },
      "source": [
        "def reduce_mem_usage(df, verbose=False):\n",
        "    \"\"\"\n",
        "    Utility function to reduce the memory usage of pandas dataframes\n",
        "    \n",
        "    Parameters\n",
        "    ----------\n",
        "    df: pandas.Dataframe\n",
        "    verbose: Boolean\n",
        "    \"\"\"\n",
        "    numerics = ['int16', 'int32', 'int64', 'float16', 'float32', 'float64']\n",
        "    start_mem = df.memory_usage().sum() / 1024**2    \n",
        "    for col in df.columns:\n",
        "        col_type = df[col].dtypes\n",
        "        if col_type in numerics:\n",
        "            c_min = df[col].min()\n",
        "            c_max = df[col].max()\n",
        "            if str(col_type)[:3] == 'int':\n",
        "                if c_min > np.iinfo(np.int8).min and c_max < np.iinfo(np.int8).max:\n",
        "                    df[col] = df[col].astype(np.int8)\n",
        "                elif c_min > np.iinfo(np.int16).min and c_max < np.iinfo(np.int16).max:\n",
        "                    df[col] = df[col].astype(np.int16)\n",
        "                elif c_min > np.iinfo(np.int32).min and c_max < np.iinfo(np.int32).max:\n",
        "                    df[col] = df[col].astype(np.int32)\n",
        "                elif c_min > np.iinfo(np.int64).min and c_max < np.iinfo(np.int64).max:\n",
        "                    df[col] = df[col].astype(np.int64)  \n",
        "            else:\n",
        "                if c_min > np.finfo(np.float32).min and c_max < np.finfo(np.float32).max:\n",
        "                    df[col] = df[col].astype(np.float32)\n",
        "                else:\n",
        "                    df[col] = df[col].astype(np.float64)    \n",
        "    end_mem = df.memory_usage().sum() / 1024**2\n",
        "    if verbose: \n",
        "        print('Mem. usage decreased to {:5.2f} Mb ({:.1f}% reduction)'.format(end_mem, 100 * (start_mem - end_mem) / start_mem))\n",
        "    return df"
      ],
      "id": "d9abc9a1",
      "execution_count": 6,
      "outputs": []
    },
    {
      "cell_type": "code",
      "metadata": {
        "id": "19439e0a"
      },
      "source": [
        "class RMSSE():\n",
        "    def __init__(self, valid_dataframe, scales_dataframe):\n",
        "        self.valid_dataframe = valid_dataframe\n",
        "        self.scales_dataframe = scales_dataframe\n",
        "        self.apply_inverse = False\n",
        "        if set([\"y_mean\",\"y_std\"]) <= set(valid_dataframe.columns):\n",
        "            self.apply_inverse = True\n",
        "\n",
        "    def _evaluate(self, predictions):\n",
        "        valid_dataframe = self.valid_dataframe.copy()\n",
        "        if not self.apply_inverse:  \n",
        "            valid_dataframe[\"ypred\"] = predictions\n",
        "            valid_dataframe[\"sq_error\"] = valid_dataframe.eval(\"(y-ypred)**2\")\n",
        "        else:\n",
        "            valid_dataframe[\"ypred\"] = valid_dataframe[\"y_std\"]*predictions + valid_dataframe[\"y_mean\"]\n",
        "            valid_dataframe[\"sq_error\"] = valid_dataframe.eval(\"(y_raw-ypred)**2\")\n",
        "        mse = valid_dataframe.groupby(\"sku\")[\"sq_error\"].mean().reset_index(name=\"mse\")\n",
        "        mrg = pd.merge(mse, self.scales_dataframe, how=\"inner\", on=\"sku\")\n",
        "        return mrg.eval(\"sqrt(mse)/scale\").mean()\n",
        "\n",
        "    def evaluate(self, ypred, dtrain):\n",
        "        metric = self._evaluate(ypred)\n",
        "        return \"rmsse\", metric, False"
      ],
      "id": "19439e0a",
      "execution_count": 7,
      "outputs": []
    },
    {
      "cell_type": "code",
      "metadata": {
        "id": "fa2aa92a"
      },
      "source": [
        "def ranked_probability_score(y_true, y_pred):\n",
        "    \"\"\"\n",
        "    Input\n",
        "        y_true: np.array of shape 30. \n",
        "        y_pred: np.array of shape 30. \n",
        "    \"\"\"\n",
        "    return ((y_true.cumsum(axis=1) - y_pred.cumsum(axis=1))**2).sum(axis=1).mean()\n",
        "\n",
        "def scoring_function(y_true, y_pred):\n",
        "    \"\"\"\n",
        "    Input\n",
        "        y_true: List of Ints of shape Nx1. Contain the target_stock\n",
        "        y_pred: List of float of shape Nx30. Contain the prob for each day\n",
        "    \"\"\"\n",
        "    y_true_one_hot = np.zeros_like(y_pred, dtype=np.float64)\n",
        "    y_true_one_hot[range(len(y_true)), y_true-1] = 1\n",
        "    return ranked_probability_score(y_true_one_hot, y_pred)"
      ],
      "id": "fa2aa92a",
      "execution_count": 8,
      "outputs": []
    },
    {
      "cell_type": "markdown",
      "metadata": {
        "id": "292442af"
      },
      "source": [
        "***\n",
        "## loading data for assessment"
      ],
      "id": "292442af"
    },
    {
      "cell_type": "code",
      "metadata": {
        "colab": {
          "base_uri": "https://localhost:8080/",
          "height": 615
        },
        "id": "ef26754b",
        "outputId": "b3067a97-94d4-4d0f-ab07-4c760143aa1b"
      },
      "source": [
        "scales = pd.read_csv(f\"{input_path}/scales.csv\")\n",
        "skus_for_assess = pd.read_csv(f\"{input_path}/skus_for_assess.csv\")\n",
        "\n",
        "dataset = (\n",
        "    pd.read_parquet(f\"{input_path}/train.parquet\")\n",
        "    .query(\"sku in @skus_for_assess.sku\")\n",
        "    .rename({\"date\":\"ds\", \"sold_quantity\":\"y\"}, axis=1,)\n",
        "    .sort_values([\"sku\",\"ds\"])\n",
        "    .reset_index(drop=True)\n",
        ")\n",
        "dataset"
      ],
      "id": "ef26754b",
      "execution_count": 9,
      "outputs": [
        {
          "output_type": "execute_result",
          "data": {
            "text/html": [
              "<div>\n",
              "<style scoped>\n",
              "    .dataframe tbody tr th:only-of-type {\n",
              "        vertical-align: middle;\n",
              "    }\n",
              "\n",
              "    .dataframe tbody tr th {\n",
              "        vertical-align: top;\n",
              "    }\n",
              "\n",
              "    .dataframe thead th {\n",
              "        text-align: right;\n",
              "    }\n",
              "</style>\n",
              "<table border=\"1\" class=\"dataframe\">\n",
              "  <thead>\n",
              "    <tr style=\"text-align: right;\">\n",
              "      <th></th>\n",
              "      <th>ds</th>\n",
              "      <th>sku</th>\n",
              "      <th>y</th>\n",
              "      <th>current_price</th>\n",
              "      <th>currency</th>\n",
              "      <th>listing_type</th>\n",
              "      <th>shipping_logistic_type</th>\n",
              "      <th>shipping_payment</th>\n",
              "      <th>minutes_active</th>\n",
              "      <th>available</th>\n",
              "      <th>item_domain_id</th>\n",
              "      <th>item_id</th>\n",
              "      <th>site_id</th>\n",
              "      <th>product_id</th>\n",
              "      <th>product_family_id</th>\n",
              "    </tr>\n",
              "  </thead>\n",
              "  <tbody>\n",
              "    <tr>\n",
              "      <th>0</th>\n",
              "      <td>2021-02-01</td>\n",
              "      <td>1</td>\n",
              "      <td>0</td>\n",
              "      <td>135.899994</td>\n",
              "      <td>REA</td>\n",
              "      <td>premium</td>\n",
              "      <td>fulfillment</td>\n",
              "      <td>free_shipping</td>\n",
              "      <td>0.0</td>\n",
              "      <td>1</td>\n",
              "      <td>MLB-SURFBOARD_RACKS</td>\n",
              "      <td>300279</td>\n",
              "      <td>MLB</td>\n",
              "      <td>None</td>\n",
              "      <td>None</td>\n",
              "    </tr>\n",
              "    <tr>\n",
              "      <th>1</th>\n",
              "      <td>2021-02-02</td>\n",
              "      <td>1</td>\n",
              "      <td>0</td>\n",
              "      <td>135.899994</td>\n",
              "      <td>REA</td>\n",
              "      <td>premium</td>\n",
              "      <td>fulfillment</td>\n",
              "      <td>free_shipping</td>\n",
              "      <td>0.0</td>\n",
              "      <td>1</td>\n",
              "      <td>MLB-SURFBOARD_RACKS</td>\n",
              "      <td>300279</td>\n",
              "      <td>MLB</td>\n",
              "      <td>None</td>\n",
              "      <td>None</td>\n",
              "    </tr>\n",
              "    <tr>\n",
              "      <th>2</th>\n",
              "      <td>2021-02-03</td>\n",
              "      <td>1</td>\n",
              "      <td>0</td>\n",
              "      <td>135.899994</td>\n",
              "      <td>REA</td>\n",
              "      <td>premium</td>\n",
              "      <td>fulfillment</td>\n",
              "      <td>free_shipping</td>\n",
              "      <td>0.0</td>\n",
              "      <td>1</td>\n",
              "      <td>MLB-SURFBOARD_RACKS</td>\n",
              "      <td>300279</td>\n",
              "      <td>MLB</td>\n",
              "      <td>None</td>\n",
              "      <td>None</td>\n",
              "    </tr>\n",
              "    <tr>\n",
              "      <th>3</th>\n",
              "      <td>2021-02-04</td>\n",
              "      <td>1</td>\n",
              "      <td>0</td>\n",
              "      <td>135.899994</td>\n",
              "      <td>REA</td>\n",
              "      <td>premium</td>\n",
              "      <td>fulfillment</td>\n",
              "      <td>free_shipping</td>\n",
              "      <td>0.0</td>\n",
              "      <td>1</td>\n",
              "      <td>MLB-SURFBOARD_RACKS</td>\n",
              "      <td>300279</td>\n",
              "      <td>MLB</td>\n",
              "      <td>None</td>\n",
              "      <td>None</td>\n",
              "    </tr>\n",
              "    <tr>\n",
              "      <th>4</th>\n",
              "      <td>2021-02-05</td>\n",
              "      <td>1</td>\n",
              "      <td>0</td>\n",
              "      <td>135.899994</td>\n",
              "      <td>REA</td>\n",
              "      <td>premium</td>\n",
              "      <td>fulfillment</td>\n",
              "      <td>free_shipping</td>\n",
              "      <td>0.0</td>\n",
              "      <td>1</td>\n",
              "      <td>MLB-SURFBOARD_RACKS</td>\n",
              "      <td>300279</td>\n",
              "      <td>MLB</td>\n",
              "      <td>None</td>\n",
              "      <td>None</td>\n",
              "    </tr>\n",
              "    <tr>\n",
              "      <th>...</th>\n",
              "      <td>...</td>\n",
              "      <td>...</td>\n",
              "      <td>...</td>\n",
              "      <td>...</td>\n",
              "      <td>...</td>\n",
              "      <td>...</td>\n",
              "      <td>...</td>\n",
              "      <td>...</td>\n",
              "      <td>...</td>\n",
              "      <td>...</td>\n",
              "      <td>...</td>\n",
              "      <td>...</td>\n",
              "      <td>...</td>\n",
              "      <td>...</td>\n",
              "      <td>...</td>\n",
              "    </tr>\n",
              "    <tr>\n",
              "      <th>29179486</th>\n",
              "      <td>2021-03-27</td>\n",
              "      <td>660915</td>\n",
              "      <td>0</td>\n",
              "      <td>79.989998</td>\n",
              "      <td>MEX</td>\n",
              "      <td>classic</td>\n",
              "      <td>fulfillment</td>\n",
              "      <td>paid_shipping</td>\n",
              "      <td>0.0</td>\n",
              "      <td>1</td>\n",
              "      <td>MLM-SURGICAL_MASKS</td>\n",
              "      <td>423179</td>\n",
              "      <td>MLM</td>\n",
              "      <td>None</td>\n",
              "      <td>None</td>\n",
              "    </tr>\n",
              "    <tr>\n",
              "      <th>29179487</th>\n",
              "      <td>2021-03-28</td>\n",
              "      <td>660915</td>\n",
              "      <td>0</td>\n",
              "      <td>79.989998</td>\n",
              "      <td>MEX</td>\n",
              "      <td>classic</td>\n",
              "      <td>fulfillment</td>\n",
              "      <td>paid_shipping</td>\n",
              "      <td>0.0</td>\n",
              "      <td>1</td>\n",
              "      <td>MLM-SURGICAL_MASKS</td>\n",
              "      <td>423179</td>\n",
              "      <td>MLM</td>\n",
              "      <td>None</td>\n",
              "      <td>None</td>\n",
              "    </tr>\n",
              "    <tr>\n",
              "      <th>29179488</th>\n",
              "      <td>2021-03-29</td>\n",
              "      <td>660915</td>\n",
              "      <td>0</td>\n",
              "      <td>79.989998</td>\n",
              "      <td>MEX</td>\n",
              "      <td>classic</td>\n",
              "      <td>fulfillment</td>\n",
              "      <td>paid_shipping</td>\n",
              "      <td>0.0</td>\n",
              "      <td>1</td>\n",
              "      <td>MLM-SURGICAL_MASKS</td>\n",
              "      <td>423179</td>\n",
              "      <td>MLM</td>\n",
              "      <td>None</td>\n",
              "      <td>None</td>\n",
              "    </tr>\n",
              "    <tr>\n",
              "      <th>29179489</th>\n",
              "      <td>2021-03-30</td>\n",
              "      <td>660915</td>\n",
              "      <td>0</td>\n",
              "      <td>99.989998</td>\n",
              "      <td>MEX</td>\n",
              "      <td>classic</td>\n",
              "      <td>fulfillment</td>\n",
              "      <td>paid_shipping</td>\n",
              "      <td>0.0</td>\n",
              "      <td>1</td>\n",
              "      <td>MLM-SURGICAL_MASKS</td>\n",
              "      <td>423179</td>\n",
              "      <td>MLM</td>\n",
              "      <td>None</td>\n",
              "      <td>None</td>\n",
              "    </tr>\n",
              "    <tr>\n",
              "      <th>29179490</th>\n",
              "      <td>2021-03-31</td>\n",
              "      <td>660915</td>\n",
              "      <td>0</td>\n",
              "      <td>99.989998</td>\n",
              "      <td>MEX</td>\n",
              "      <td>classic</td>\n",
              "      <td>fulfillment</td>\n",
              "      <td>paid_shipping</td>\n",
              "      <td>0.0</td>\n",
              "      <td>1</td>\n",
              "      <td>MLM-SURGICAL_MASKS</td>\n",
              "      <td>423179</td>\n",
              "      <td>MLM</td>\n",
              "      <td>None</td>\n",
              "      <td>None</td>\n",
              "    </tr>\n",
              "  </tbody>\n",
              "</table>\n",
              "<p>29179491 rows × 15 columns</p>\n",
              "</div>"
            ],
            "text/plain": [
              "                 ds     sku  y  current_price currency listing_type  \\\n",
              "0        2021-02-01       1  0     135.899994      REA      premium   \n",
              "1        2021-02-02       1  0     135.899994      REA      premium   \n",
              "2        2021-02-03       1  0     135.899994      REA      premium   \n",
              "3        2021-02-04       1  0     135.899994      REA      premium   \n",
              "4        2021-02-05       1  0     135.899994      REA      premium   \n",
              "...             ...     ... ..            ...      ...          ...   \n",
              "29179486 2021-03-27  660915  0      79.989998      MEX      classic   \n",
              "29179487 2021-03-28  660915  0      79.989998      MEX      classic   \n",
              "29179488 2021-03-29  660915  0      79.989998      MEX      classic   \n",
              "29179489 2021-03-30  660915  0      99.989998      MEX      classic   \n",
              "29179490 2021-03-31  660915  0      99.989998      MEX      classic   \n",
              "\n",
              "         shipping_logistic_type shipping_payment  minutes_active  available  \\\n",
              "0                   fulfillment    free_shipping             0.0          1   \n",
              "1                   fulfillment    free_shipping             0.0          1   \n",
              "2                   fulfillment    free_shipping             0.0          1   \n",
              "3                   fulfillment    free_shipping             0.0          1   \n",
              "4                   fulfillment    free_shipping             0.0          1   \n",
              "...                         ...              ...             ...        ...   \n",
              "29179486            fulfillment    paid_shipping             0.0          1   \n",
              "29179487            fulfillment    paid_shipping             0.0          1   \n",
              "29179488            fulfillment    paid_shipping             0.0          1   \n",
              "29179489            fulfillment    paid_shipping             0.0          1   \n",
              "29179490            fulfillment    paid_shipping             0.0          1   \n",
              "\n",
              "               item_domain_id  item_id site_id product_id product_family_id  \n",
              "0         MLB-SURFBOARD_RACKS   300279     MLB       None              None  \n",
              "1         MLB-SURFBOARD_RACKS   300279     MLB       None              None  \n",
              "2         MLB-SURFBOARD_RACKS   300279     MLB       None              None  \n",
              "3         MLB-SURFBOARD_RACKS   300279     MLB       None              None  \n",
              "4         MLB-SURFBOARD_RACKS   300279     MLB       None              None  \n",
              "...                       ...      ...     ...        ...               ...  \n",
              "29179486   MLM-SURGICAL_MASKS   423179     MLM       None              None  \n",
              "29179487   MLM-SURGICAL_MASKS   423179     MLM       None              None  \n",
              "29179488   MLM-SURGICAL_MASKS   423179     MLM       None              None  \n",
              "29179489   MLM-SURGICAL_MASKS   423179     MLM       None              None  \n",
              "29179490   MLM-SURGICAL_MASKS   423179     MLM       None              None  \n",
              "\n",
              "[29179491 rows x 15 columns]"
            ]
          },
          "metadata": {},
          "execution_count": 9
        }
      ]
    },
    {
      "cell_type": "code",
      "metadata": {
        "colab": {
          "base_uri": "https://localhost:8080/"
        },
        "id": "fe103a88",
        "outputId": "a277708d-28ba-4182-a412-66ee654567fc"
      },
      "source": [
        "dataset.groupby(\"site_id\")[\"sku\"].nunique()"
      ],
      "id": "fe103a88",
      "execution_count": 10,
      "outputs": [
        {
          "output_type": "execute_result",
          "data": {
            "text/plain": [
              "site_id\n",
              "MLA     43314\n",
              "MLB    252475\n",
              "MLM    201008\n",
              "Name: sku, dtype: int64"
            ]
          },
          "metadata": {},
          "execution_count": 10
        }
      ]
    },
    {
      "cell_type": "markdown",
      "metadata": {
        "id": "06504809"
      },
      "source": [
        "***\n",
        "## model config"
      ],
      "id": "06504809"
    },
    {
      "cell_type": "code",
      "metadata": {
        "id": "de009653"
      },
      "source": [
        "categorical_features = {\n",
        "    \"sku\": (\"y\", ce.CatBoostEncoder, None),\n",
        "    \"currency\": \"default\",\n",
        "    \"listing_type\": \"default\",\n",
        "    \"shipping_logistic_type\": \"default\",\n",
        "    \"shipping_payment\": \"default\",\n",
        "    \"item_domain_id\": \"default\",\n",
        "    \"item_id\": (\"y\", ce.CatBoostEncoder, None),\n",
        "    \"site_id\":\"default\",\n",
        "    \"product_id\": (\"y\", ce.CatBoostEncoder, None),\n",
        "    \"product_family_id\": (\"y\", ce.CatBoostEncoder, None),\n",
        "}\n",
        "\n",
        "exclude_features = [\"fold\",\"sold_quantity\",]\n",
        "\n",
        "model_params = {\n",
        "    'objective':'tweedie',\n",
        "    'tweedie_variance_power':1.6,\n",
        "    'metric':'None',\n",
        "    'num_iterations':1000,\n",
        "    'max_bin': 63,\n",
        "    'bin_construct_sample_cnt':20000000,\n",
        "    'num_leaves': 2**8-1,\n",
        "    'min_data_in_leaf': 2**8-1,\n",
        "    'learning_rate': 0.02,\n",
        "    'max_delta_step':1.,\n",
        "    'feature_fraction':0.8,\n",
        "    'bagging_fraction':0.8,\n",
        "    'bagging_freq':1,\n",
        "    'lambda_l2':0.1,\n",
        "    'max_cat_threshold': 64,\n",
        "    'cat_l2': 50,\n",
        "    'cat_smooth': 50,\n",
        "    'boost_from_average': False,\n",
        "    'force_row_wise': True,\n",
        "    'deterministic':True,\n",
        "    'seed':SEED,\n",
        "}\n",
        "time_features = [\n",
        "    \"week_day\",\n",
        "    \"week_day_cos\",\n",
        "    \"week_day_sin\",\n",
        "    \"month_progress\",\n",
        "]\n",
        "model_kwargs = {\n",
        "    \"model_params\":model_params,\n",
        "    \"time_features\":time_features,\n",
        "    \"exclude_features\":exclude_features,\n",
        "    \"categorical_features\":categorical_features,\n",
        "    \"ts_uid_columns\":[\"sku\",],\n",
        "    \"lags\": [1,],\n",
        "    \"window_functions\":{\n",
        "        \"mean\":   (None, [1,], [3,7,]),\n",
        "        \"std\":    (None, [1,], [3,7]),\n",
        "        \"max\":    (None, [1,], [3,7]),\n",
        "    },\n",
        "}"
      ],
      "id": "de009653",
      "execution_count": 11,
      "outputs": []
    },
    {
      "cell_type": "code",
      "metadata": {
        "colab": {
          "base_uri": "https://localhost:8080/"
        },
        "id": "487e5150",
        "outputId": "bdc49797-d110-4330-8fdf-ff3666d764dc"
      },
      "source": [
        "dataset.loc[:,categorical_features.keys()].isna().sum(axis=0) / len(dataset)"
      ],
      "id": "487e5150",
      "execution_count": 12,
      "outputs": [
        {
          "output_type": "execute_result",
          "data": {
            "text/plain": [
              "sku                       0.000000\n",
              "currency                  0.000000\n",
              "listing_type              0.000000\n",
              "shipping_logistic_type    0.000000\n",
              "shipping_payment          0.000000\n",
              "item_domain_id            0.000000\n",
              "item_id                   0.000000\n",
              "site_id                   0.000000\n",
              "product_id                0.963178\n",
              "product_family_id         0.883613\n",
              "dtype: float64"
            ]
          },
          "metadata": {},
          "execution_count": 12
        }
      ]
    },
    {
      "cell_type": "code",
      "metadata": {
        "colab": {
          "base_uri": "https://localhost:8080/"
        },
        "id": "65a45be7",
        "outputId": "f9a8a7e0-98bb-4ab6-8e9d-a0c446818341"
      },
      "source": [
        "dataset.loc[:,categorical_features.keys()].nunique()"
      ],
      "id": "65a45be7",
      "execution_count": 13,
      "outputs": [
        {
          "output_type": "execute_result",
          "data": {
            "text/plain": [
              "sku                       496797\n",
              "currency                       4\n",
              "listing_type                   2\n",
              "shipping_logistic_type         3\n",
              "shipping_payment               2\n",
              "item_domain_id              8156\n",
              "item_id                   392139\n",
              "site_id                        3\n",
              "product_id                 11756\n",
              "product_family_id          24176\n",
              "dtype: int64"
            ]
          },
          "metadata": {},
          "execution_count": 13
        }
      ]
    },
    {
      "cell_type": "markdown",
      "metadata": {
        "id": "a98cb53a"
      },
      "source": [
        "***\n",
        "## model training: assessment"
      ],
      "id": "a98cb53a"
    },
    {
      "cell_type": "code",
      "metadata": {
        "id": "zkLEkBeEngxu",
        "outputId": "860ee722-dfd2-4abf-92e7-523a9c46a0f0",
        "colab": {
          "base_uri": "https://localhost:8080/",
          "height": 1000
        }
      },
      "source": [
        "models_by_site = list()\n",
        "sites = [\"MLA\",\"MLB\",\"MLM\"]\n",
        "\n",
        "for site in sites:\n",
        "    print(\"-\"*90)\n",
        "    print(f\"Preparing model for site: {site}\")\n",
        "\n",
        "    tic = time.time()\n",
        "    train_data = dataset.query(\"site_id == @site\").reset_index(drop=True)\n",
        "    valid_idx = train_data.query(\"ds > '2021-03-01'\").index\n",
        "\n",
        "    model = LightGBMForecaster(**model_kwargs)\n",
        "    model.prepare_features(train_data, valid_idx)\n",
        "    model.train_features = reduce_mem_usage(model.train_features, verbose=True)\n",
        "    model.valid_features = reduce_mem_usage(model.valid_features, verbose=True)\n",
        "    gc.collect()\n",
        "    tac = time.time()\n",
        "    print(f\"Elapsed time for processing features: {(tac-tic)/60} min.\")\n",
        "\n",
        "    tic = time.time()\n",
        "    evaluator = RMSSE(train_data.loc[valid_idx, [\"sku\",\"y\"]], scales)\n",
        "    model.fit(fit_kwargs={\"verbose_eval\":50, \"feval\":evaluator.evaluate})\n",
        "    lgb.plot_importance(model.model.model, figsize=(12,8))\n",
        "    plt.show()\n",
        "    models_by_site.append(model)\n",
        "    tac = time.time()\n",
        "    print(f\"Elapsed time for training the model: {(tac-tic)/60} min.\")\n",
        "\n",
        "errors = list()\n",
        "sites = [\"MLA\",\"MLB\",\"MLM\"]\n",
        "for site,model in zip(sites,models_by_site):\n",
        "    error = model.model.model.best_score[\"valid_0\"][\"rmsse\"]\n",
        "    errors.append(error)\n",
        "result = {\n",
        "    \"rmsse_MLA\":errors[0], \n",
        "    \"rmsse_MLB\":errors[1],\n",
        "    \"rmsse_MLM\":errors[2],\n",
        "    \"rmsse_AVG\":np.mean(errors),\n",
        "}\n",
        "display(result)"
      ],
      "id": "zkLEkBeEngxu",
      "execution_count": 14,
      "outputs": [
        {
          "output_type": "stream",
          "text": [
            "------------------------------------------------------------------------------------------\n",
            "Preparing model for site: MLA\n",
            "Mem. usage decreased to 154.91 Mb (44.3% reduction)\n",
            "Mem. usage decreased to 120.20 Mb (51.7% reduction)\n",
            "Elapsed time for processing features: 0.828243883450826 min.\n",
            "[LightGBM] [Info] Total Bins 2520\n",
            "[LightGBM] [Info] Number of data points in the train set: 1242194, number of used features: 21\n",
            "Training until validation scores don't improve for 30 rounds\n",
            "[50]\tvalid_0's rmsse: 0.814573\n",
            "[100]\tvalid_0's rmsse: 0.770624\n",
            "[150]\tvalid_0's rmsse: 0.765288\n",
            "Early stopping, best iteration is:\n",
            "[159]\tvalid_0's rmsse: 0.765225\n"
          ],
          "name": "stdout"
        },
        {
          "output_type": "display_data",
          "data": {
            "image/png": "[encoded data removed]",
            "text/plain": [
              "<Figure size 864x576 with 1 Axes>"
            ]
          },
          "metadata": {
            "needs_background": "light"
          }
        },
        {
          "output_type": "stream",
          "text": [
            "Elapsed time for training the model: 0.8451028863588969 min.\n",
            "------------------------------------------------------------------------------------------\n",
            "Preparing model for site: MLB\n",
            "Mem. usage decreased to 992.64 Mb (42.1% reduction)\n",
            "Mem. usage decreased to 700.67 Mb (51.7% reduction)\n",
            "Elapsed time for processing features: 4.679625634352366 min.\n",
            "[LightGBM] [Info] Total Bins 3115\n",
            "[LightGBM] [Info] Number of data points in the train set: 7271333, number of used features: 21\n",
            "Training until validation scores don't improve for 30 rounds\n",
            "[50]\tvalid_0's rmsse: 0.859008\n",
            "[100]\tvalid_0's rmsse: 0.809425\n",
            "[150]\tvalid_0's rmsse: 0.801837\n",
            "[200]\tvalid_0's rmsse: 0.801214\n",
            "Early stopping, best iteration is:\n",
            "[185]\tvalid_0's rmsse: 0.80115\n"
          ],
          "name": "stdout"
        },
        {
          "output_type": "display_data",
          "data": {
            "image/png": "[encoded data removed]",
            "text/plain": [
              "<Figure size 864x576 with 1 Axes>"
            ]
          },
          "metadata": {
            "needs_background": "light"
          }
        },
        {
          "output_type": "stream",
          "text": [
            "Elapsed time for training the model: 3.4824209094047545 min.\n",
            "------------------------------------------------------------------------------------------\n",
            "Preparing model for site: MLM\n",
            "Mem. usage decreased to 693.03 Mb (45.2% reduction)\n",
            "Mem. usage decreased to 557.84 Mb (51.7% reduction)\n",
            "Elapsed time for processing features: 3.801909792423248 min.\n",
            "[LightGBM] [Info] Total Bins 3004\n",
            "[LightGBM] [Info] Number of data points in the train set: 5762054, number of used features: 21\n",
            "Training until validation scores don't improve for 30 rounds\n",
            "[50]\tvalid_0's rmsse: 0.813883\n",
            "[100]\tvalid_0's rmsse: 0.764019\n",
            "[150]\tvalid_0's rmsse: 0.756928\n",
            "[200]\tvalid_0's rmsse: 0.756408\n",
            "Early stopping, best iteration is:\n",
            "[185]\tvalid_0's rmsse: 0.756198\n"
          ],
          "name": "stdout"
        },
        {
          "output_type": "display_data",
          "data": {
            "image/png": "[encoded data removed]",
            "text/plain": [
              "<Figure size 864x576 with 1 Axes>"
            ]
          },
          "metadata": {
            "needs_background": "light"
          }
        },
        {
          "output_type": "stream",
          "text": [
            "Elapsed time for training the model: 2.126337019602458 min.\n"
          ],
          "name": "stdout"
        },
        {
          "output_type": "display_data",
          "data": {
            "text/plain": [
              "{'rmsse_AVG': 0.774191061501472,\n",
              " 'rmsse_MLA': 0.7652247343123193,\n",
              " 'rmsse_MLB': 0.8011499644841976,\n",
              " 'rmsse_MLM': 0.7561984857078993}"
            ]
          },
          "metadata": {}
        }
      ]
    },
    {
      "cell_type": "code",
      "metadata": {
        "id": "855ee049",
        "outputId": "ae52264c-bbee-42fe-8c39-b60c02f95898",
        "colab": {
          "base_uri": "https://localhost:8080/"
        }
      },
      "source": [
        "%%time\n",
        "all_preds = list()\n",
        "for site,model in zip(sites,models_by_site):\n",
        "    preds = model.predict(dataset.query(\"site_id==@site & ds<='2021-03-01'\"))\n",
        "    all_preds.append(preds)\n",
        "train_preds = pd.concat(all_preds, axis=0, ignore_index=True)"
      ],
      "id": "855ee049",
      "execution_count": 15,
      "outputs": [
        {
          "output_type": "stream",
          "text": [
            "CPU times: user 12min 45s, sys: 3.9 s, total: 12min 49s\n",
            "Wall time: 1min 11s\n"
          ],
          "name": "stdout"
        }
      ]
    },
    {
      "cell_type": "code",
      "metadata": {
        "id": "fd271e49",
        "outputId": "7ee39f08-7724-4428-ac5e-03a41204817f",
        "colab": {
          "base_uri": "https://localhost:8080/",
          "height": 104
        }
      },
      "source": [
        "train_preds = pd.merge(train_preds, dataset.loc[:,[\"ds\",\"sku\",\"site_id\",\"y\"]], how=\"inner\", on=[\"ds\",\"sku\"])\n",
        "train_preds[\"sq_error\"] = train_preds.eval(\"(y-y_pred)**2\")\n",
        "train_errors = np.sqrt(train_preds.groupby([\"sku\",\"site_id\"])[\"sq_error\"].mean()).reset_index(name=\"rmse\")\n",
        "train_errors = pd.merge(train_errors, scales, how=\"inner\", on=\"sku\")\n",
        "train_errors[\"rmsse\"] = train_errors.eval(\"rmse/scale\")\n",
        "display(train_errors.groupby(\"site_id\")[\"rmsse\"].mean())\n",
        "train_errors = train_errors.set_index(\"sku\")"
      ],
      "id": "fd271e49",
      "execution_count": 16,
      "outputs": [
        {
          "output_type": "display_data",
          "data": {
            "text/plain": [
              "site_id\n",
              "MLA    0.669543\n",
              "MLB    0.682535\n",
              "MLM    0.709587\n",
              "Name: rmsse, dtype: float64"
            ]
          },
          "metadata": {}
        }
      ]
    },
    {
      "cell_type": "code",
      "metadata": {
        "id": "0adf4707",
        "outputId": "18c6c801-7c54-4562-e5bb-195b95e13cb7",
        "colab": {
          "base_uri": "https://localhost:8080/"
        }
      },
      "source": [
        "%%time\n",
        "all_preds = list()\n",
        "for site,model in zip(sites,models_by_site):\n",
        "    print(\"Preds for site:\", site)\n",
        "    preds = model.predict(dataset.query(\"site_id==@site & ds>'2021-03-01'\"), recursive=True)\n",
        "    all_preds.append(preds)\n",
        "oof = pd.concat(all_preds, axis=0, ignore_index=True)"
      ],
      "id": "0adf4707",
      "execution_count": 17,
      "outputs": [
        {
          "output_type": "stream",
          "text": [
            "Preds for site: MLA\n",
            "Preds for site: MLB\n",
            "Preds for site: MLM\n",
            "CPU times: user 17min 18s, sys: 47.1 s, total: 18min 5s\n",
            "Wall time: 28min 4s\n"
          ],
          "name": "stdout"
        }
      ]
    },
    {
      "cell_type": "code",
      "metadata": {
        "id": "5c621974",
        "outputId": "f89ee324-8209-4e05-ead2-be797a0ca613",
        "colab": {
          "base_uri": "https://localhost:8080/"
        }
      },
      "source": [
        "mrg = pd.merge(oof, dataset.loc[:,[\"ds\",\"sku\",\"site_id\",\"y\"]], how=\"inner\", on=[\"ds\",\"sku\"])\n",
        "mrg[\"sq_error\"] = mrg.eval(\"(y-y_pred)**2\")\n",
        "valid_errors = np.sqrt(mrg.groupby([\"sku\",\"site_id\"])[\"sq_error\"].mean()).reset_index(name=\"rmse\")\n",
        "valid_errors = pd.merge(valid_errors, scales, how=\"inner\", on=\"sku\")\n",
        "valid_errors[\"rmsse\"] = valid_errors.eval(\"rmse/scale\")\n",
        "valid_errors.groupby(\"site_id\")[\"rmsse\"].mean()"
      ],
      "id": "5c621974",
      "execution_count": 18,
      "outputs": [
        {
          "output_type": "execute_result",
          "data": {
            "text/plain": [
              "site_id\n",
              "MLA    0.771351\n",
              "MLB    0.814717\n",
              "MLM    0.769492\n",
              "Name: rmsse, dtype: float64"
            ]
          },
          "metadata": {},
          "execution_count": 18
        }
      ]
    },
    {
      "cell_type": "code",
      "metadata": {
        "id": "767b95d3"
      },
      "source": [
        "train_errors.to_csv(f\"{results_path}/train_errors_lgbm-m1.csv\", index=False)\n",
        "oof.to_csv(f\"{results_path}/oof_preds_lgbm-m1.csv\", index=False)"
      ],
      "id": "767b95d3",
      "execution_count": 19,
      "outputs": []
    },
    {
      "cell_type": "code",
      "metadata": {
        "id": "0e68a7ca"
      },
      "source": [
        "class InventoryDaysPredictor():\n",
        "\n",
        "    def __init__(self, train, train_errors):\n",
        "        self.train = train.copy(deep=True)\n",
        "        self.train_errors = train_errors.copy(deep=True)\n",
        "\n",
        "    def fit(self, preds):\n",
        "        parameters = self.train.groupby('sku').agg({'y':['mean', 'std']}).y\n",
        "        # replace nan means by overall mean\n",
        "        idx = parameters[parameters[\"mean\"].isna()].index\n",
        "        parameters.loc[idx, \"mean\"] = parameters[\"mean\"].mean()\n",
        "        # replace zero means by overall mean\n",
        "        idx = parameters[parameters[\"mean\"] == 0].index\n",
        "        parameters.loc[idx, \"mean\"] = parameters[\"mean\"].mean()\n",
        "        \n",
        "        # replace nan stds by overall std\n",
        "        idx = parameters[parameters[\"std\"].isna()].index\n",
        "        parameters.loc[idx,\"std\"] = parameters[\"std\"].mean()\n",
        "        # replace nan stds by overall std\n",
        "        idx = parameters[parameters[\"std\"] == 0].index\n",
        "        parameters.loc[idx,\"std\"] = parameters[\"std\"].mean()\n",
        "        \n",
        "        self.parameters = parameters.to_dict()\n",
        "\n",
        "        predictors = dict()\n",
        "        days = np.arange(1,31)\n",
        "        for sku,df in tqdm(preds.groupby(\"sku\")):\n",
        "            cumpred = df.y_pred.values.cumsum()\n",
        "            interp = interpolate.interp1d(cumpred, days, bounds_error=False, fill_value=(-np.inf,np.inf))\n",
        "            predictors[sku] = interp\n",
        "        self.predictors = predictors\n",
        "\n",
        "    def predict(self, sku, stock):\n",
        "        mean = self.parameters['mean'][sku]\n",
        "        std = self.parameters['std'][sku]\n",
        "        days_to_stockout = float(np.clip(self.predictors[sku](stock), a_min=1, a_max=30))\n",
        "        std_days = std/mean\n",
        "        return days_to_stockout,std_days\n",
        "\n",
        "    def predict_proba(self, sku, stock, dist_kwargs, lambda1, lambda2):\n",
        "        days_to_stockout,std_days = self.predict(sku, stock)\n",
        "        scale = std_days * (lambda1*(days_to_stockout**lambda2))\n",
        "        days = np.arange(1,31)\n",
        "        probs = stats.gennorm.pdf(days, loc=days_to_stockout, scale=scale, **dist_kwargs)\n",
        "        #if prob is zero, replace with uniform\n",
        "        if np.sum(probs) == 0: return np.ones(30) / 30\n",
        "        return probs/np.sum(probs)"
      ],
      "id": "0e68a7ca",
      "execution_count": 20,
      "outputs": []
    },
    {
      "cell_type": "code",
      "metadata": {
        "colab": {
          "base_uri": "https://localhost:8080/"
        },
        "id": "bd96e8bd",
        "outputId": "aec5c0fd-f5d6-4243-b1eb-6efb3e41469b"
      },
      "source": [
        "predictor = InventoryDaysPredictor(dataset.query(\"ds <= '2021-03-01'\"), train_errors)\n",
        "predictor.fit(oof)"
      ],
      "id": "bd96e8bd",
      "execution_count": 21,
      "outputs": [
        {
          "output_type": "stream",
          "text": [
            "100%|██████████| 496797/496797 [01:20<00:00, 6167.47it/s]\n"
          ],
          "name": "stderr"
        }
      ]
    },
    {
      "cell_type": "markdown",
      "metadata": {
        "id": "0a8754cf"
      },
      "source": [
        "***\n",
        "## Assessment of invetory days prediction"
      ],
      "id": "0a8754cf"
    },
    {
      "cell_type": "code",
      "metadata": {
        "colab": {
          "base_uri": "https://localhost:8080/"
        },
        "id": "1768a686",
        "outputId": "410ff2e8-9489-4892-d552-1512638c7294"
      },
      "source": [
        "valid = pd.read_csv(f\"{input_path}/validation_seed2.csv\")\n",
        "\n",
        "preds = list()\n",
        "for sku,df in tqdm(valid.groupby(\"sku\")):\n",
        "    preds.append(predictor.predict(sku, df.target_stock.values[0])[0])\n",
        "preds = pd.DataFrame(preds, columns=[\"days_to_stockout\"])"
      ],
      "id": "1768a686",
      "execution_count": 22,
      "outputs": [
        {
          "output_type": "stream",
          "text": [
            "100%|██████████| 496797/496797 [01:24<00:00, 5901.88it/s]\n"
          ],
          "name": "stderr"
        }
      ]
    },
    {
      "cell_type": "code",
      "metadata": {
        "id": "2322140a",
        "outputId": "275dba10-553e-42df-e523-d0843ef746ac",
        "colab": {
          "base_uri": "https://localhost:8080/",
          "height": 822
        }
      },
      "source": [
        "print(\"RMSE (mean): \", np.sqrt(np.mean((preds.days_to_stockout - valid.inventory_days)**2)) )\n",
        "print(\"RMSE (median): \", np.sqrt(np.median((preds.days_to_stockout - valid.inventory_days)**2)) )\n",
        "print(\"MAE (mean): \", np.mean(np.abs(preds.days_to_stockout - valid.inventory_days)))\n",
        "print(\"MAE (median): \", np.median(np.abs(preds.days_to_stockout - valid.inventory_days)))\n",
        "\n",
        "sns.displot(valid.inventory_days)\n",
        "plt.title(\"target\")\n",
        "plt.show()\n",
        "\n",
        "sns.displot(preds.days_to_stockout)\n",
        "plt.title(\"prediction\")\n",
        "plt.show()"
      ],
      "id": "2322140a",
      "execution_count": 23,
      "outputs": [
        {
          "output_type": "stream",
          "text": [
            "RMSE (mean):  10.419674884199948\n",
            "RMSE (median):  5.8009931146635285\n",
            "MAE (mean):  7.781241086132508\n",
            "MAE (median):  5.8009931146635285\n"
          ],
          "name": "stdout"
        },
        {
          "output_type": "display_data",
          "data": {
            "image/png": "[encoded data removed]",
            "text/plain": [
              "<Figure size 360x360 with 1 Axes>"
            ]
          },
          "metadata": {
            "needs_background": "light"
          }
        },
        {
          "output_type": "display_data",
          "data": {
            "image/png": "[encoded data removed]",
            "text/plain": [
              "<Figure size 360x360 with 1 Axes>"
            ]
          },
          "metadata": {
            "needs_background": "light"
          }
        }
      ]
    },
    {
      "cell_type": "markdown",
      "metadata": {
        "id": "670c5e6c"
      },
      "source": [
        "***\n",
        "## Assessment of RPS"
      ],
      "id": "670c5e6c"
    },
    {
      "cell_type": "code",
      "metadata": {
        "id": "def58ead"
      },
      "source": [
        "beta = 0.634505\n",
        "lambda1 = 0.458712\n",
        "lambda2 = 0.967726"
      ],
      "id": "def58ead",
      "execution_count": 24,
      "outputs": []
    },
    {
      "cell_type": "code",
      "metadata": {
        "colab": {
          "base_uri": "https://localhost:8080/"
        },
        "id": "f662cbea",
        "outputId": "4c34b384-df0c-4aaa-fd3e-b7972ac649d1"
      },
      "source": [
        "valid_files = [fn for fn in glob(f\"{input_path}/validation_seed*.csv\") if \"seed2.csv\" not in fn]\n",
        "results = list()\n",
        "\n",
        "for files in valid_files:\n",
        "    valid = pd.read_csv(files)\n",
        "    \n",
        "    preds_proba = list()\n",
        "    for sku,df in tqdm(valid.groupby(\"sku\")):\n",
        "        preds_proba.append(predictor.predict_proba(\n",
        "            sku, \n",
        "            stock=df.target_stock.values[0],\n",
        "            dist_kwargs={\"beta\":beta},\n",
        "            lambda1=lambda1, \n",
        "            lambda2=lambda2,\n",
        "        ))\n",
        "    preds_proba = np.array(preds_proba)\n",
        "    \n",
        "    rps = scoring_function(valid.inventory_days.values, preds_proba)\n",
        "    results.append({\"file\":files.split(\"/\")[-1].split(\".\")[0], \"rps\":rps})\n",
        "    print({\"file\":files.split(\"/\")[-1].split(\".\")[0], \"rps\":rps})"
      ],
      "id": "f662cbea",
      "execution_count": 25,
      "outputs": [
        {
          "output_type": "stream",
          "text": [
            "100%|██████████| 496797/496797 [03:17<00:00, 2511.49it/s]\n"
          ],
          "name": "stderr"
        },
        {
          "output_type": "stream",
          "text": [
            "{'file': 'validation_seed19', 'rps': 3.923348364130472}\n"
          ],
          "name": "stdout"
        },
        {
          "output_type": "stream",
          "text": [
            "100%|██████████| 496797/496797 [03:16<00:00, 2530.21it/s]\n"
          ],
          "name": "stderr"
        },
        {
          "output_type": "stream",
          "text": [
            "{'file': 'validation_seed17', 'rps': 3.926769382005251}\n"
          ],
          "name": "stdout"
        },
        {
          "output_type": "stream",
          "text": [
            "100%|██████████| 496797/496797 [03:17<00:00, 2518.81it/s]\n"
          ],
          "name": "stderr"
        },
        {
          "output_type": "stream",
          "text": [
            "{'file': 'validation_seed23', 'rps': 3.924985480257808}\n"
          ],
          "name": "stdout"
        }
      ]
    },
    {
      "cell_type": "code",
      "metadata": {
        "colab": {
          "base_uri": "https://localhost:8080/",
          "height": 143
        },
        "id": "5e1c70b1",
        "outputId": "03a06fcc-a417-4403-f43f-1b21d0ff64dc"
      },
      "source": [
        "pd.DataFrame(results)"
      ],
      "id": "5e1c70b1",
      "execution_count": 26,
      "outputs": [
        {
          "output_type": "execute_result",
          "data": {
            "text/html": [
              "<div>\n",
              "<style scoped>\n",
              "    .dataframe tbody tr th:only-of-type {\n",
              "        vertical-align: middle;\n",
              "    }\n",
              "\n",
              "    .dataframe tbody tr th {\n",
              "        vertical-align: top;\n",
              "    }\n",
              "\n",
              "    .dataframe thead th {\n",
              "        text-align: right;\n",
              "    }\n",
              "</style>\n",
              "<table border=\"1\" class=\"dataframe\">\n",
              "  <thead>\n",
              "    <tr style=\"text-align: right;\">\n",
              "      <th></th>\n",
              "      <th>file</th>\n",
              "      <th>rps</th>\n",
              "    </tr>\n",
              "  </thead>\n",
              "  <tbody>\n",
              "    <tr>\n",
              "      <th>0</th>\n",
              "      <td>validation_seed19</td>\n",
              "      <td>3.923348</td>\n",
              "    </tr>\n",
              "    <tr>\n",
              "      <th>1</th>\n",
              "      <td>validation_seed17</td>\n",
              "      <td>3.926769</td>\n",
              "    </tr>\n",
              "    <tr>\n",
              "      <th>2</th>\n",
              "      <td>validation_seed23</td>\n",
              "      <td>3.924985</td>\n",
              "    </tr>\n",
              "  </tbody>\n",
              "</table>\n",
              "</div>"
            ],
            "text/plain": [
              "                file       rps\n",
              "0  validation_seed19  3.923348\n",
              "1  validation_seed17  3.926769\n",
              "2  validation_seed23  3.924985"
            ]
          },
          "metadata": {},
          "execution_count": 26
        }
      ]
    },
    {
      "cell_type": "code",
      "metadata": {
        "id": "n4iRMf_FDTBr",
        "outputId": "b97702e8-1a0e-4691-80ea-86f59a3821df",
        "colab": {
          "base_uri": "https://localhost:8080/"
        }
      },
      "source": [
        "# cleanup ram\n",
        "del models_by_site\n",
        "gc.collect()"
      ],
      "id": "n4iRMf_FDTBr",
      "execution_count": 28,
      "outputs": [
        {
          "output_type": "execute_result",
          "data": {
            "text/plain": [
              "0"
            ]
          },
          "metadata": {},
          "execution_count": 28
        }
      ]
    },
    {
      "cell_type": "markdown",
      "metadata": {
        "id": "ca24fbaf"
      },
      "source": [
        "***\n",
        "## model training"
      ],
      "id": "ca24fbaf"
    },
    {
      "cell_type": "code",
      "metadata": {
        "id": "b7d07f0c",
        "outputId": "e4fd54ff-1d7b-42e0-8455-c443182bc180",
        "colab": {
          "base_uri": "https://localhost:8080/"
        }
      },
      "source": [
        "unpredictable = pd.read_csv(f\"{input_path}/unpredictable.csv\")\n",
        "\n",
        "dataset = (\n",
        "    pd.read_parquet(f\"{input_path}/train.parquet\")\n",
        "    .query(\"sku not in @unpredictable.sku\")\n",
        "    .rename({\"date\":\"ds\", \"sold_quantity\":\"y\"}, axis=1,)\n",
        "    .sort_values([\"sku\",\"ds\"])\n",
        "    .reset_index(drop=True)\n",
        ")\n",
        "print(\"nrows:\", len(dataset)/1e6)\n",
        "print(\"nskus:\", dataset.sku.nunique())"
      ],
      "id": "b7d07f0c",
      "execution_count": 29,
      "outputs": [
        {
          "output_type": "stream",
          "text": [
            "nrows: 36.594396\n",
            "nskus: 635633\n"
          ],
          "name": "stdout"
        }
      ]
    },
    {
      "cell_type": "code",
      "metadata": {
        "id": "07b74b0f",
        "outputId": "c8bffb18-85de-42d3-ae5b-ab2be0834beb",
        "colab": {
          "base_uri": "https://localhost:8080/"
        }
      },
      "source": [
        "test = (\n",
        "    pd.read_parquet(f\"{input_path}/test.parquet\")\n",
        "    .query(\"sku not in @unpredictable.sku\")\n",
        "    .rename({\"date\":\"ds\",}, axis=1,)\n",
        "    .sort_values([\"sku\",\"ds\"])\n",
        "    .reset_index(drop=True)\n",
        ")\n",
        "print(\"nrows:\", len(test)/1e6)\n",
        "print(\"nskus:\", test.sku.nunique())"
      ],
      "id": "07b74b0f",
      "execution_count": 30,
      "outputs": [
        {
          "output_type": "stream",
          "text": [
            "nrows: 15.78567\n",
            "nskus: 526189\n"
          ],
          "name": "stdout"
        }
      ]
    },
    {
      "cell_type": "code",
      "metadata": {
        "id": "34311bcd",
        "outputId": "7cc3e40a-6e2a-4958-eaa7-f83ef74d8a75",
        "colab": {
          "base_uri": "https://localhost:8080/",
          "height": 1000
        }
      },
      "source": [
        "models_by_site = list()\n",
        "sites = [\n",
        "    \"MLA\",\n",
        "    \"MLB\",\n",
        "    \"MLM\",\n",
        "]\n",
        "num_iterations = {\n",
        "    \"MLA\": 160,\n",
        "    \"MLB\": 190,\n",
        "    \"MLM\": 190,\n",
        "}\n",
        "\n",
        "for site in sites:\n",
        "    print(\"-\"*90)\n",
        "    print(f\"Preparing model for site: {site}\")\n",
        "\n",
        "    tic = time.time()\n",
        "    train_data = dataset.query(\"site_id == @site\").reset_index(drop=True)\n",
        "    \n",
        "    _model_kwargs = dict(model_kwargs)\n",
        "    _model_kwargs[\"model_params\"][\"num_iterations\"] = num_iterations[site]\n",
        "\n",
        "    model = LightGBMForecaster(**_model_kwargs)\n",
        "    model.prepare_features(train_data)\n",
        "    model.train_features = reduce_mem_usage(model.train_features, verbose=True)\n",
        "    gc.collect()\n",
        "    tac = time.time()\n",
        "    print(f\"Elapsed time for processing features: {(tac-tic)/60} min.\")\n",
        "\n",
        "    tic = time.time()\n",
        "    model.fit()\n",
        "    lgb.plot_importance(model.model.model, figsize=(12,8))\n",
        "    plt.show()\n",
        "    models_by_site.append(model)\n",
        "    tac = time.time()\n",
        "    print(f\"Elapsed time for training the model: {(tac-tic)/60} min.\")\n"
      ],
      "id": "34311bcd",
      "execution_count": null,
      "outputs": [
        {
          "output_type": "stream",
          "text": [
            "------------------------------------------------------------------------------------------\n",
            "Preparing model for site: MLA\n",
            "Mem. usage decreased to 372.71 Mb (45.7% reduction)\n",
            "Elapsed time for processing features: 1.3705147743225097 min.\n",
            "[LightGBM] [Info] Total Bins 2576\n",
            "[LightGBM] [Info] Number of data points in the train set: 3164181, number of used features: 21\n"
          ],
          "name": "stdout"
        },
        {
          "output_type": "display_data",
          "data": {
            "image/png": "[encoded data removed]",
            "text/plain": [
              "<Figure size 864x576 with 1 Axes>"
            ]
          },
          "metadata": {
            "needs_background": "light"
          }
        },
        {
          "output_type": "stream",
          "text": [
            "Elapsed time for training the model: 0.3727463722229004 min.\n",
            "------------------------------------------------------------------------------------------\n",
            "Preparing model for site: MLB\n",
            "Mem. usage decreased to 2404.36 Mb (43.1% reduction)\n",
            "Elapsed time for processing features: 6.633098483085632 min.\n",
            "[LightGBM] [Info] Total Bins 3163\n",
            "[LightGBM] [Info] Number of data points in the train set: 18687512, number of used features: 21\n"
          ],
          "name": "stdout"
        },
        {
          "output_type": "display_data",
          "data": {
            "image/png": "[encoded data removed]",
            "text/plain": [
              "<Figure size 864x576 with 1 Axes>"
            ]
          },
          "metadata": {
            "needs_background": "light"
          }
        },
        {
          "output_type": "stream",
          "text": [
            "Elapsed time for training the model: 1.914529232184092 min.\n",
            "------------------------------------------------------------------------------------------\n",
            "Preparing model for site: MLM\n"
          ],
          "name": "stdout"
        }
      ]
    },
    {
      "cell_type": "code",
      "metadata": {
        "id": "e7b014d8"
      },
      "source": [
        "preds_by_site = list()\n",
        "\n",
        "for site,model in tqdm(zip(sites,models_by_site)):\n",
        "    preds = model.predict(test.query(\"site_id == @site\"), recursive=True)\n",
        "    preds_by_site.append(preds)\n",
        "    \n",
        "predictions = pd.concat(preds_by_site, ignore_index=True)"
      ],
      "id": "e7b014d8",
      "execution_count": null,
      "outputs": []
    },
    {
      "cell_type": "code",
      "metadata": {
        "id": "9c2e93c9"
      },
      "source": [
        "# todo: fix train_errors\n",
        "predictor = InventoryDaysPredictor(dataset, train_errors)\n",
        "predictor.fit(predictions)"
      ],
      "id": "9c2e93c9",
      "execution_count": null,
      "outputs": []
    },
    {
      "cell_type": "code",
      "metadata": {
        "id": "cc25dd8b"
      },
      "source": [
        "stockout_preds = list()\n",
        "groups = (\n",
        "    test[[\"sku\",\"target_stock\"]]\n",
        "    .drop_duplicates()\n",
        "    .groupby(\"sku\")\n",
        ")\n",
        "\n",
        "for sku,df in tqdm(groups):\n",
        "    stockout_preds.append(predictor.predict(sku, df.target_stock.values[0])[0])\n",
        "stockout_preds = pd.DataFrame(stockout_preds, columns=[\"days_to_stockout\"])\n",
        "\n",
        "sns.displot(stockout_preds.days_to_stockout)\n",
        "plt.title(\"stockout predictions\")\n",
        "plt.show()"
      ],
      "id": "cc25dd8b",
      "execution_count": null,
      "outputs": []
    },
    {
      "cell_type": "code",
      "metadata": {
        "id": "ddff3afd"
      },
      "source": [
        "print(beta, lambda1, lambda2)\n",
        "std_days = np.mean(np.asarray(list(predictor.parameters[\"std\"].values())) / np.asarray(list(predictor.parameters[\"mean\"].values())))\n",
        "\n",
        "for days_to_stockout in range(1,31):\n",
        "    scale = std_days * (lambda1*(days_to_stockout**lambda2))\n",
        "    days = np.arange(1,31)\n",
        "    probs = stats.gennorm.pdf(days, loc=days_to_stockout, scale=scale, beta=beta)\n",
        "    \n",
        "    plt.plot(days, probs)\n",
        "    plt.grid()\n",
        "    plt.title(f\"days_to_stockout={days_to_stockout}\")\n",
        "    plt.show()"
      ],
      "id": "ddff3afd",
      "execution_count": null,
      "outputs": []
    },
    {
      "cell_type": "code",
      "metadata": {
        "id": "d3ac7c00"
      },
      "source": [
        "skus = list()\n",
        "preds_proba = list()\n",
        "groups = (\n",
        "    test[[\"sku\",\"target_stock\"]]\n",
        "    .drop_duplicates()\n",
        "    .groupby(\"sku\")\n",
        ")\n",
        "\n",
        "for sku,df in tqdm(groups):\n",
        "    skus.append(sku)\n",
        "    preds_proba.append(predictor.predict_proba(\n",
        "        sku, \n",
        "        stock=df.target_stock.values[0],\n",
        "        dist_kwargs={\"beta\":beta},\n",
        "        lambda1=lambda1, \n",
        "        lambda2=lambda2,\n",
        "    ))\n",
        "preds_proba = np.array(preds_proba)\n",
        "preds_proba = pd.DataFrame(preds_proba, index=skus)"
      ],
      "id": "d3ac7c00",
      "execution_count": null,
      "outputs": []
    },
    {
      "cell_type": "code",
      "metadata": {
        "id": "bffa7f21"
      },
      "source": [
        "unpreds_proba = np.ones((len(unpredictable),30)) / 30\n",
        "unpreds_proba = pd.DataFrame(unpreds_proba, index=unpredictable.sku.values)\n",
        "\n",
        "preds_proba_mrg = pd.concat([preds_proba, unpreds_proba])\n",
        "preds_proba_mrg"
      ],
      "id": "bffa7f21",
      "execution_count": null,
      "outputs": []
    },
    {
      "cell_type": "markdown",
      "metadata": {
        "id": "36a39256"
      },
      "source": [
        "***\n",
        "## generate submission"
      ],
      "id": "36a39256"
    },
    {
      "cell_type": "code",
      "metadata": {
        "id": "9730c62b"
      },
      "source": [
        "test = pd.read_csv(f\"{input_path}/test_data.csv\")\n",
        "preds_proba_mrg = preds_proba_mrg.loc[test.sku.values,:].copy()"
      ],
      "id": "9730c62b",
      "execution_count": null,
      "outputs": []
    },
    {
      "cell_type": "code",
      "metadata": {
        "id": "45da0def"
      },
      "source": [
        "assert preds_proba_mrg.isna().sum(axis=1).sum() == 0\n",
        "assert np.allclose(preds_proba_mrg.sum(axis=1).values, 1, atol=1e-16)\n",
        "assert preds_proba_mrg.max(axis=1).max() < 1"
      ],
      "id": "45da0def",
      "execution_count": null,
      "outputs": []
    },
    {
      "cell_type": "code",
      "metadata": {
        "id": "c3892e46"
      },
      "source": [
        "(preds_proba_mrg\n",
        " .round(4)\n",
        " .to_csv(f\"{subs_path}/sub{SUB_NBR}.csv.gz\", header=False, index=False, compression=\"gzip\")\n",
        ")"
      ],
      "id": "c3892e46",
      "execution_count": null,
      "outputs": []
    },
    {
      "cell_type": "markdown",
      "metadata": {
        "id": "f3b13ec3"
      },
      "source": [
        "***"
      ],
      "id": "f3b13ec3"
    }
  ]
}