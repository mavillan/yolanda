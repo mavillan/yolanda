{
 "cells": [
  {
   "cell_type": "markdown",
   "metadata": {},
   "source": [
    "***\n",
    "## notebook config"
   ]
  },
  {
   "cell_type": "code",
   "execution_count": 1,
   "metadata": {},
   "outputs": [],
   "source": [
    "ON_COLAB = False"
   ]
  },
  {
   "cell_type": "code",
   "execution_count": 2,
   "metadata": {},
   "outputs": [],
   "source": [
    "if ON_COLAB:\n",
    "    from google.colab import drive\n",
    "    from google.colab import files\n",
    "    drive.mount('/content/drive', force_remount=True)\n",
    "    \n",
    "    !pip install --upgrade kaggle > /dev/null 2>&1\n",
    "    !mkdir -p ~/.kaggle/ && cp /content/drive/MyDrive/kaggle/kaggle.json ~/.kaggle/ && chmod 600 ~/.kaggle/kaggle.json\n",
    "    \n",
    "    !free -h\n",
    "    \n",
    "    !pip install --upgrade category_encoders > /dev/null 2>&1\n",
    "    !pip install --upgrade tsforest > /dev/null 2>&1\n",
    "    !pip install --upgrade lightgbm > /dev/null 2>&1\n",
    "    !pip install --upgrade optuna > /dev/null 2>&1"
   ]
  },
  {
   "cell_type": "code",
   "execution_count": 3,
   "metadata": {},
   "outputs": [
    {
     "name": "stdout",
     "output_type": "stream",
     "text": [
      "input_path: ../data\n",
      "subs_path: ../subs\n",
      "results_path: ../results\n"
     ]
    }
   ],
   "source": [
    "if ON_COLAB:\n",
    "    !kaggle datasets download -d mavillan/meli-2021 --force --unzip\n",
    "    !ls -halt\n",
    "    input_path = \"./\"\n",
    "    print(\"input_path:\", input_path)\n",
    "    subs_path = \"/content/drive/MyDrive/meli2021/subs\"\n",
    "    print(\"subs_path:\", subs_path)\n",
    "    results_path = \"/content/drive/MyDrive/meli2021/results\"\n",
    "    print(\"results_path:\", results_path)\n",
    "else:\n",
    "    input_path = \"../data\"\n",
    "    print(\"input_path:\", input_path)\n",
    "    subs_path = \"../subs\"\n",
    "    print(\"subs_path:\", subs_path)\n",
    "    results_path = \"../results\"\n",
    "    print(\"results_path:\", results_path)"
   ]
  },
  {
   "cell_type": "markdown",
   "metadata": {},
   "source": [
    "***"
   ]
  },
  {
   "cell_type": "code",
   "execution_count": 4,
   "metadata": {},
   "outputs": [],
   "source": [
    "import numpy as np\n",
    "import pandas as pd\n",
    "import category_encoders as ce\n",
    "import yaml\n",
    "import dill\n",
    "\n",
    "np.random.seed(2)"
   ]
  },
  {
   "cell_type": "markdown",
   "metadata": {},
   "source": [
    "***\n",
    "## data loading"
   ]
  },
  {
   "cell_type": "code",
   "execution_count": 5,
   "metadata": {},
   "outputs": [
    {
     "name": "stdout",
     "output_type": "stream",
     "text": [
      "len(skus_assess_m1): 482635\n",
      "len(skus_assess_m2): 272130\n",
      "len(unpredictable): 25314\n",
      "len(skus_for_test): 551472\n"
     ]
    }
   ],
   "source": [
    "with open(f\"../data/skus_assess_m1.yaml\", \"r\") as file:\n",
    "    skus_assess_m1 = yaml.load(file, Loader=yaml.FullLoader)\n",
    "    print(f\"len(skus_assess_m1): {len(skus_assess_m1)}\")\n",
    "    file.close()\n",
    "\n",
    "with open(f\"../data/skus_assess_m2.yaml\", \"r\") as file:\n",
    "    skus_assess_m2 = yaml.load(file, Loader=yaml.FullLoader)\n",
    "    print(f\"len(skus_assess_m2): {len(skus_assess_m2)}\")\n",
    "    file.close()\n",
    "    \n",
    "unpredictable = pd.read_csv(f\"{input_path}/unpredictable.csv\")\n",
    "print(f\"len(unpredictable): {len(unpredictable)}\")\n",
    "\n",
    "skus_for_test = pd.read_csv(f\"{input_path}/test_data.csv\").sku.values\n",
    "print(f\"len(skus_for_test): {len(skus_for_test)}\")"
   ]
  },
  {
   "cell_type": "markdown",
   "metadata": {},
   "source": [
    "***\n",
    "## training encoder for stage1 model"
   ]
  },
  {
   "cell_type": "code",
   "execution_count": 6,
   "metadata": {},
   "outputs": [],
   "source": [
    "limit_date = \"2021-03-01\"\n",
    "\n",
    "train_stg1 = (\n",
    "    pd.read_parquet(f\"{input_path}/train-m1.parquet\")\n",
    "    .query(\"sku in @skus_assess_m1\")\n",
    "    .rename({\"date\":\"ds\", \"sold_quantity\":\"y\"}, axis=1,)\n",
    "    .sort_values([\"sku\",\"ds\"])\n",
    "    .query(\"ds <= @limit_date\")\n",
    "    .query(\"minutes_active > 0\")\n",
    "    .reset_index(drop=True)\n",
    ")"
   ]
  },
  {
   "cell_type": "code",
   "execution_count": 7,
   "metadata": {},
   "outputs": [
    {
     "data": {
      "text/plain": [
       "11.357927"
      ]
     },
     "execution_count": 7,
     "metadata": {},
     "output_type": "execute_result"
    }
   ],
   "source": [
    "len(train_stg1) / 1e6"
   ]
  },
  {
   "cell_type": "code",
   "execution_count": 8,
   "metadata": {},
   "outputs": [
    {
     "data": {
      "text/plain": [
       "482635"
      ]
     },
     "execution_count": 8,
     "metadata": {},
     "output_type": "execute_result"
    }
   ],
   "source": [
    "train_stg1.sku.nunique()"
   ]
  },
  {
   "cell_type": "code",
   "execution_count": 9,
   "metadata": {},
   "outputs": [
    {
     "data": {
      "text/plain": [
       "sku                       482635\n",
       "item_domain_id              8132\n",
       "item_domain_id_glob         3536\n",
       "item_id                   381376\n",
       "product_id                 11182\n",
       "product_id_glob            10503\n",
       "product_family_id          23713\n",
       "product_family_id_glob     22114\n",
       "dtype: int64"
      ]
     },
     "metadata": {},
     "output_type": "display_data"
    },
    {
     "data": {
      "text/plain": [
       "sku                       0.000000\n",
       "item_domain_id            0.000000\n",
       "item_domain_id_glob       0.000000\n",
       "item_id                   0.000000\n",
       "product_id                0.967004\n",
       "product_id_glob           0.967004\n",
       "product_family_id         0.887731\n",
       "product_family_id_glob    0.887731\n",
       "dtype: float64"
      ]
     },
     "metadata": {},
     "output_type": "display_data"
    }
   ],
   "source": [
    "categ_cols = [\"sku\",\"item_domain_id\", \"item_domain_id_glob\",\n",
    "              \"item_id\",\"product_id\",\"product_id_glob\",\n",
    "              \"product_family_id\",\"product_family_id_glob\"]\n",
    "\n",
    "for col in categ_cols:\n",
    "    train_stg1[col] = train_stg1[col].astype(\"category\")\n",
    "    \n",
    "display(train_stg1[categ_cols].nunique())\n",
    "display(train_stg1[categ_cols].isna().sum(axis=0) / len(train_stg1))"
   ]
  },
  {
   "cell_type": "code",
   "execution_count": 10,
   "metadata": {},
   "outputs": [
    {
     "name": "stderr",
     "output_type": "stream",
     "text": [
      "/opt/conda/lib/python3.7/site-packages/category_encoders/utils.py:21: FutureWarning: is_categorical is deprecated and will be removed in a future version.  Use is_categorical_dtype instead\n",
      "  elif pd.api.types.is_categorical(cols):\n"
     ]
    },
    {
     "name": "stdout",
     "output_type": "stream",
     "text": [
      "CPU times: user 39min 59s, sys: 27.3 s, total: 40min 27s\n",
      "Wall time: 40min 27s\n"
     ]
    },
    {
     "data": {
      "text/plain": [
       "GLMMEncoder(cols=['sku', 'item_domain_id', 'item_domain_id_glob', 'item_id',\n",
       "                  'product_id', 'product_id_glob', 'product_family_id',\n",
       "                  'product_family_id_glob'],\n",
       "            verbose=True)"
      ]
     },
     "execution_count": 10,
     "metadata": {},
     "output_type": "execute_result"
    }
   ],
   "source": [
    "%%time\n",
    "encoder = ce.GLMMEncoder(verbose=True, cols=categ_cols)\n",
    "encoder.fit(train_stg1[categ_cols], train_stg1[\"y\"])"
   ]
  },
  {
   "cell_type": "code",
   "execution_count": 11,
   "metadata": {},
   "outputs": [
    {
     "data": {
      "text/html": [
       "<div>\n",
       "<style scoped>\n",
       "    .dataframe tbody tr th:only-of-type {\n",
       "        vertical-align: middle;\n",
       "    }\n",
       "\n",
       "    .dataframe tbody tr th {\n",
       "        vertical-align: top;\n",
       "    }\n",
       "\n",
       "    .dataframe thead th {\n",
       "        text-align: right;\n",
       "    }\n",
       "</style>\n",
       "<table border=\"1\" class=\"dataframe\">\n",
       "  <thead>\n",
       "    <tr style=\"text-align: right;\">\n",
       "      <th></th>\n",
       "      <th>sku</th>\n",
       "      <th>item_domain_id</th>\n",
       "      <th>item_domain_id_glob</th>\n",
       "      <th>item_id</th>\n",
       "      <th>product_id</th>\n",
       "      <th>product_id_glob</th>\n",
       "      <th>product_family_id</th>\n",
       "      <th>product_family_id_glob</th>\n",
       "    </tr>\n",
       "  </thead>\n",
       "  <tbody>\n",
       "    <tr>\n",
       "      <th>0</th>\n",
       "      <td>-0.588666</td>\n",
       "      <td>-0.305412</td>\n",
       "      <td>-0.336626</td>\n",
       "      <td>-0.990623</td>\n",
       "      <td>-1.258883</td>\n",
       "      <td>-1.196536</td>\n",
       "      <td>-0.446041</td>\n",
       "      <td>-0.441191</td>\n",
       "    </tr>\n",
       "    <tr>\n",
       "      <th>1</th>\n",
       "      <td>-0.588666</td>\n",
       "      <td>-0.305412</td>\n",
       "      <td>-0.336626</td>\n",
       "      <td>-0.990623</td>\n",
       "      <td>-1.258883</td>\n",
       "      <td>-1.196536</td>\n",
       "      <td>-0.446041</td>\n",
       "      <td>-0.441191</td>\n",
       "    </tr>\n",
       "    <tr>\n",
       "      <th>2</th>\n",
       "      <td>-0.588666</td>\n",
       "      <td>-0.305412</td>\n",
       "      <td>-0.336626</td>\n",
       "      <td>-0.990623</td>\n",
       "      <td>-1.258883</td>\n",
       "      <td>-1.196536</td>\n",
       "      <td>-0.446041</td>\n",
       "      <td>-0.441191</td>\n",
       "    </tr>\n",
       "    <tr>\n",
       "      <th>3</th>\n",
       "      <td>-0.588666</td>\n",
       "      <td>-0.305412</td>\n",
       "      <td>-0.336626</td>\n",
       "      <td>-0.990623</td>\n",
       "      <td>-1.258883</td>\n",
       "      <td>-1.196536</td>\n",
       "      <td>-0.446041</td>\n",
       "      <td>-0.441191</td>\n",
       "    </tr>\n",
       "    <tr>\n",
       "      <th>4</th>\n",
       "      <td>-0.588666</td>\n",
       "      <td>-0.305412</td>\n",
       "      <td>-0.336626</td>\n",
       "      <td>-0.990623</td>\n",
       "      <td>-1.258883</td>\n",
       "      <td>-1.196536</td>\n",
       "      <td>-0.446041</td>\n",
       "      <td>-0.441191</td>\n",
       "    </tr>\n",
       "    <tr>\n",
       "      <th>...</th>\n",
       "      <td>...</td>\n",
       "      <td>...</td>\n",
       "      <td>...</td>\n",
       "      <td>...</td>\n",
       "      <td>...</td>\n",
       "      <td>...</td>\n",
       "      <td>...</td>\n",
       "      <td>...</td>\n",
       "    </tr>\n",
       "    <tr>\n",
       "      <th>11357922</th>\n",
       "      <td>0.943782</td>\n",
       "      <td>28.868654</td>\n",
       "      <td>24.170060</td>\n",
       "      <td>0.118177</td>\n",
       "      <td>-1.258883</td>\n",
       "      <td>-1.196536</td>\n",
       "      <td>-0.446041</td>\n",
       "      <td>-0.441191</td>\n",
       "    </tr>\n",
       "    <tr>\n",
       "      <th>11357923</th>\n",
       "      <td>0.943782</td>\n",
       "      <td>28.868654</td>\n",
       "      <td>24.170060</td>\n",
       "      <td>0.118177</td>\n",
       "      <td>-1.258883</td>\n",
       "      <td>-1.196536</td>\n",
       "      <td>-0.446041</td>\n",
       "      <td>-0.441191</td>\n",
       "    </tr>\n",
       "    <tr>\n",
       "      <th>11357924</th>\n",
       "      <td>0.943782</td>\n",
       "      <td>28.868654</td>\n",
       "      <td>24.170060</td>\n",
       "      <td>0.118177</td>\n",
       "      <td>-1.258883</td>\n",
       "      <td>-1.196536</td>\n",
       "      <td>-0.446041</td>\n",
       "      <td>-0.441191</td>\n",
       "    </tr>\n",
       "    <tr>\n",
       "      <th>11357925</th>\n",
       "      <td>0.943782</td>\n",
       "      <td>28.868654</td>\n",
       "      <td>24.170060</td>\n",
       "      <td>0.118177</td>\n",
       "      <td>-1.258883</td>\n",
       "      <td>-1.196536</td>\n",
       "      <td>-0.446041</td>\n",
       "      <td>-0.441191</td>\n",
       "    </tr>\n",
       "    <tr>\n",
       "      <th>11357926</th>\n",
       "      <td>0.943782</td>\n",
       "      <td>28.868654</td>\n",
       "      <td>24.170060</td>\n",
       "      <td>0.118177</td>\n",
       "      <td>-1.258883</td>\n",
       "      <td>-1.196536</td>\n",
       "      <td>-0.446041</td>\n",
       "      <td>-0.441191</td>\n",
       "    </tr>\n",
       "  </tbody>\n",
       "</table>\n",
       "<p>11357927 rows × 8 columns</p>\n",
       "</div>"
      ],
      "text/plain": [
       "               sku  item_domain_id  item_domain_id_glob   item_id  product_id  \\\n",
       "0        -0.588666       -0.305412            -0.336626 -0.990623   -1.258883   \n",
       "1        -0.588666       -0.305412            -0.336626 -0.990623   -1.258883   \n",
       "2        -0.588666       -0.305412            -0.336626 -0.990623   -1.258883   \n",
       "3        -0.588666       -0.305412            -0.336626 -0.990623   -1.258883   \n",
       "4        -0.588666       -0.305412            -0.336626 -0.990623   -1.258883   \n",
       "...            ...             ...                  ...       ...         ...   \n",
       "11357922  0.943782       28.868654            24.170060  0.118177   -1.258883   \n",
       "11357923  0.943782       28.868654            24.170060  0.118177   -1.258883   \n",
       "11357924  0.943782       28.868654            24.170060  0.118177   -1.258883   \n",
       "11357925  0.943782       28.868654            24.170060  0.118177   -1.258883   \n",
       "11357926  0.943782       28.868654            24.170060  0.118177   -1.258883   \n",
       "\n",
       "          product_id_glob  product_family_id  product_family_id_glob  \n",
       "0               -1.196536          -0.446041               -0.441191  \n",
       "1               -1.196536          -0.446041               -0.441191  \n",
       "2               -1.196536          -0.446041               -0.441191  \n",
       "3               -1.196536          -0.446041               -0.441191  \n",
       "4               -1.196536          -0.446041               -0.441191  \n",
       "...                   ...                ...                     ...  \n",
       "11357922        -1.196536          -0.446041               -0.441191  \n",
       "11357923        -1.196536          -0.446041               -0.441191  \n",
       "11357924        -1.196536          -0.446041               -0.441191  \n",
       "11357925        -1.196536          -0.446041               -0.441191  \n",
       "11357926        -1.196536          -0.446041               -0.441191  \n",
       "\n",
       "[11357927 rows x 8 columns]"
      ]
     },
     "execution_count": 11,
     "metadata": {},
     "output_type": "execute_result"
    }
   ],
   "source": [
    "encoder.transform(train_stg1[categ_cols])"
   ]
  },
  {
   "cell_type": "code",
   "execution_count": 12,
   "metadata": {},
   "outputs": [],
   "source": [
    "with open(\"../encoders/encoder-stg1.dill\", \"wb\") as file:\n",
    "    dill.dump(encoder, file)\n",
    "    file.close()"
   ]
  },
  {
   "cell_type": "markdown",
   "metadata": {},
   "source": [
    "***\n",
    "## training encoder for stage2 model"
   ]
  },
  {
   "cell_type": "code",
   "execution_count": 19,
   "metadata": {},
   "outputs": [],
   "source": [
    "train_stg2 = (\n",
    "    pd.read_parquet(f\"{input_path}/train-m1.parquet\")\n",
    "    .query(\"sku not in @unpredictable.sku\")\n",
    "    #.query(\"sku in @skus_for_test\")\n",
    "    .rename({\"date\":\"ds\", \"sold_quantity\":\"y\"}, axis=1,)\n",
    "    .sort_values([\"sku\",\"ds\"])\n",
    "    .query(\"minutes_active > 0\")\n",
    "    .reset_index(drop=True)\n",
    ")"
   ]
  },
  {
   "cell_type": "code",
   "execution_count": 20,
   "metadata": {},
   "outputs": [
    {
     "data": {
      "text/plain": [
       "27.549525"
      ]
     },
     "execution_count": 20,
     "metadata": {},
     "output_type": "execute_result"
    }
   ],
   "source": [
    "len(train_stg2) / 1e6"
   ]
  },
  {
   "cell_type": "code",
   "execution_count": 21,
   "metadata": {},
   "outputs": [
    {
     "data": {
      "text/plain": [
       "635602"
      ]
     },
     "execution_count": 21,
     "metadata": {},
     "output_type": "execute_result"
    }
   ],
   "source": [
    "train_stg2.sku.nunique()"
   ]
  },
  {
   "cell_type": "code",
   "execution_count": 22,
   "metadata": {},
   "outputs": [
    {
     "data": {
      "text/plain": [
       "sku                       635602\n",
       "item_domain_id              8372\n",
       "item_domain_id_glob         3586\n",
       "item_id                   497506\n",
       "product_id                 15227\n",
       "product_id_glob            14073\n",
       "product_family_id          28815\n",
       "product_family_id_glob     26600\n",
       "dtype: int64"
      ]
     },
     "metadata": {},
     "output_type": "display_data"
    },
    {
     "data": {
      "text/plain": [
       "sku                       0.000000\n",
       "item_domain_id            0.000002\n",
       "item_domain_id_glob       0.000002\n",
       "item_id                   0.000000\n",
       "product_id                0.963261\n",
       "product_id_glob           0.963261\n",
       "product_family_id         0.883680\n",
       "product_family_id_glob    0.883680\n",
       "dtype: float64"
      ]
     },
     "metadata": {},
     "output_type": "display_data"
    }
   ],
   "source": [
    "categ_cols = [\"sku\",\"item_domain_id\", \"item_domain_id_glob\",\n",
    "              \"item_id\",\"product_id\",\"product_id_glob\",\n",
    "              \"product_family_id\",\"product_family_id_glob\"]\n",
    "\n",
    "for col in categ_cols:\n",
    "    train_stg2[col] = train_stg2[col].astype(\"category\")\n",
    "    \n",
    "display(train_stg2[categ_cols].nunique())\n",
    "display(train_stg2[categ_cols].isna().sum(axis=0) / len(train_stg2))"
   ]
  },
  {
   "cell_type": "code",
   "execution_count": 23,
   "metadata": {},
   "outputs": [
    {
     "name": "stderr",
     "output_type": "stream",
     "text": [
      "/opt/conda/lib/python3.7/site-packages/category_encoders/utils.py:21: FutureWarning: is_categorical is deprecated and will be removed in a future version.  Use is_categorical_dtype instead\n",
      "  elif pd.api.types.is_categorical(cols):\n"
     ]
    },
    {
     "name": "stdout",
     "output_type": "stream",
     "text": [
      "CPU times: user 1h 3min 52s, sys: 1min 2s, total: 1h 4min 55s\n",
      "Wall time: 1h 4min 55s\n"
     ]
    },
    {
     "data": {
      "text/plain": [
       "GLMMEncoder(cols=['sku', 'item_domain_id', 'item_domain_id_glob', 'item_id',\n",
       "                  'product_id', 'product_id_glob', 'product_family_id',\n",
       "                  'product_family_id_glob'],\n",
       "            verbose=True)"
      ]
     },
     "execution_count": 23,
     "metadata": {},
     "output_type": "execute_result"
    }
   ],
   "source": [
    "%%time\n",
    "encoder = ce.GLMMEncoder(verbose=True, cols=categ_cols)\n",
    "encoder.fit(train_stg2[categ_cols], train_stg2[\"y\"])"
   ]
  },
  {
   "cell_type": "code",
   "execution_count": 24,
   "metadata": {},
   "outputs": [
    {
     "data": {
      "text/html": [
       "<div>\n",
       "<style scoped>\n",
       "    .dataframe tbody tr th:only-of-type {\n",
       "        vertical-align: middle;\n",
       "    }\n",
       "\n",
       "    .dataframe tbody tr th {\n",
       "        vertical-align: top;\n",
       "    }\n",
       "\n",
       "    .dataframe thead th {\n",
       "        text-align: right;\n",
       "    }\n",
       "</style>\n",
       "<table border=\"1\" class=\"dataframe\">\n",
       "  <thead>\n",
       "    <tr style=\"text-align: right;\">\n",
       "      <th></th>\n",
       "      <th>sku</th>\n",
       "      <th>item_domain_id</th>\n",
       "      <th>item_domain_id_glob</th>\n",
       "      <th>item_id</th>\n",
       "      <th>product_id</th>\n",
       "      <th>product_id_glob</th>\n",
       "      <th>product_family_id</th>\n",
       "      <th>product_family_id_glob</th>\n",
       "    </tr>\n",
       "  </thead>\n",
       "  <tbody>\n",
       "    <tr>\n",
       "      <th>0</th>\n",
       "      <td>-1.287728</td>\n",
       "      <td>-0.414751</td>\n",
       "      <td>-0.470194</td>\n",
       "      <td>-1.359623</td>\n",
       "      <td>-1.447952</td>\n",
       "      <td>-1.443393</td>\n",
       "      <td>-1.510371</td>\n",
       "      <td>-1.518757</td>\n",
       "    </tr>\n",
       "    <tr>\n",
       "      <th>1</th>\n",
       "      <td>-1.287728</td>\n",
       "      <td>-0.414751</td>\n",
       "      <td>-0.470194</td>\n",
       "      <td>-1.359623</td>\n",
       "      <td>-1.447952</td>\n",
       "      <td>-1.443393</td>\n",
       "      <td>-1.510371</td>\n",
       "      <td>-1.518757</td>\n",
       "    </tr>\n",
       "    <tr>\n",
       "      <th>2</th>\n",
       "      <td>-1.287728</td>\n",
       "      <td>-0.414751</td>\n",
       "      <td>-0.470194</td>\n",
       "      <td>-1.359623</td>\n",
       "      <td>-1.447952</td>\n",
       "      <td>-1.443393</td>\n",
       "      <td>-1.510371</td>\n",
       "      <td>-1.518757</td>\n",
       "    </tr>\n",
       "    <tr>\n",
       "      <th>3</th>\n",
       "      <td>-1.287728</td>\n",
       "      <td>-0.414751</td>\n",
       "      <td>-0.470194</td>\n",
       "      <td>-1.359623</td>\n",
       "      <td>-1.447952</td>\n",
       "      <td>-1.443393</td>\n",
       "      <td>-1.510371</td>\n",
       "      <td>-1.518757</td>\n",
       "    </tr>\n",
       "    <tr>\n",
       "      <th>4</th>\n",
       "      <td>-1.287728</td>\n",
       "      <td>-0.414751</td>\n",
       "      <td>-0.470194</td>\n",
       "      <td>-1.359623</td>\n",
       "      <td>-1.447952</td>\n",
       "      <td>-1.443393</td>\n",
       "      <td>-1.510371</td>\n",
       "      <td>-1.518757</td>\n",
       "    </tr>\n",
       "    <tr>\n",
       "      <th>...</th>\n",
       "      <td>...</td>\n",
       "      <td>...</td>\n",
       "      <td>...</td>\n",
       "      <td>...</td>\n",
       "      <td>...</td>\n",
       "      <td>...</td>\n",
       "      <td>...</td>\n",
       "      <td>...</td>\n",
       "    </tr>\n",
       "    <tr>\n",
       "      <th>27549520</th>\n",
       "      <td>0.551952</td>\n",
       "      <td>22.557327</td>\n",
       "      <td>18.523302</td>\n",
       "      <td>0.501309</td>\n",
       "      <td>-1.447952</td>\n",
       "      <td>-1.443393</td>\n",
       "      <td>-0.485357</td>\n",
       "      <td>-0.494855</td>\n",
       "    </tr>\n",
       "    <tr>\n",
       "      <th>27549521</th>\n",
       "      <td>0.551952</td>\n",
       "      <td>22.557327</td>\n",
       "      <td>18.523302</td>\n",
       "      <td>0.501309</td>\n",
       "      <td>-1.447952</td>\n",
       "      <td>-1.443393</td>\n",
       "      <td>-0.485357</td>\n",
       "      <td>-0.494855</td>\n",
       "    </tr>\n",
       "    <tr>\n",
       "      <th>27549522</th>\n",
       "      <td>0.551952</td>\n",
       "      <td>22.557327</td>\n",
       "      <td>18.523302</td>\n",
       "      <td>0.501309</td>\n",
       "      <td>-1.447952</td>\n",
       "      <td>-1.443393</td>\n",
       "      <td>-0.485357</td>\n",
       "      <td>-0.494855</td>\n",
       "    </tr>\n",
       "    <tr>\n",
       "      <th>27549523</th>\n",
       "      <td>0.551952</td>\n",
       "      <td>22.557327</td>\n",
       "      <td>18.523302</td>\n",
       "      <td>0.501309</td>\n",
       "      <td>-1.447952</td>\n",
       "      <td>-1.443393</td>\n",
       "      <td>-0.485357</td>\n",
       "      <td>-0.494855</td>\n",
       "    </tr>\n",
       "    <tr>\n",
       "      <th>27549524</th>\n",
       "      <td>0.551952</td>\n",
       "      <td>22.557327</td>\n",
       "      <td>18.523302</td>\n",
       "      <td>0.501309</td>\n",
       "      <td>-1.447952</td>\n",
       "      <td>-1.443393</td>\n",
       "      <td>-0.485357</td>\n",
       "      <td>-0.494855</td>\n",
       "    </tr>\n",
       "  </tbody>\n",
       "</table>\n",
       "<p>27549525 rows × 8 columns</p>\n",
       "</div>"
      ],
      "text/plain": [
       "               sku  item_domain_id  item_domain_id_glob   item_id  product_id  \\\n",
       "0        -1.287728       -0.414751            -0.470194 -1.359623   -1.447952   \n",
       "1        -1.287728       -0.414751            -0.470194 -1.359623   -1.447952   \n",
       "2        -1.287728       -0.414751            -0.470194 -1.359623   -1.447952   \n",
       "3        -1.287728       -0.414751            -0.470194 -1.359623   -1.447952   \n",
       "4        -1.287728       -0.414751            -0.470194 -1.359623   -1.447952   \n",
       "...            ...             ...                  ...       ...         ...   \n",
       "27549520  0.551952       22.557327            18.523302  0.501309   -1.447952   \n",
       "27549521  0.551952       22.557327            18.523302  0.501309   -1.447952   \n",
       "27549522  0.551952       22.557327            18.523302  0.501309   -1.447952   \n",
       "27549523  0.551952       22.557327            18.523302  0.501309   -1.447952   \n",
       "27549524  0.551952       22.557327            18.523302  0.501309   -1.447952   \n",
       "\n",
       "          product_id_glob  product_family_id  product_family_id_glob  \n",
       "0               -1.443393          -1.510371               -1.518757  \n",
       "1               -1.443393          -1.510371               -1.518757  \n",
       "2               -1.443393          -1.510371               -1.518757  \n",
       "3               -1.443393          -1.510371               -1.518757  \n",
       "4               -1.443393          -1.510371               -1.518757  \n",
       "...                   ...                ...                     ...  \n",
       "27549520        -1.443393          -0.485357               -0.494855  \n",
       "27549521        -1.443393          -0.485357               -0.494855  \n",
       "27549522        -1.443393          -0.485357               -0.494855  \n",
       "27549523        -1.443393          -0.485357               -0.494855  \n",
       "27549524        -1.443393          -0.485357               -0.494855  \n",
       "\n",
       "[27549525 rows x 8 columns]"
      ]
     },
     "execution_count": 24,
     "metadata": {},
     "output_type": "execute_result"
    }
   ],
   "source": [
    "encoder.transform(train_stg2[categ_cols])"
   ]
  },
  {
   "cell_type": "code",
   "execution_count": 25,
   "metadata": {},
   "outputs": [],
   "source": [
    "with open(\"../encoders/encoder-stg2.dill\", \"wb\") as file:\n",
    "    dill.dump(encoder, file)\n",
    "    file.close()"
   ]
  },
  {
   "cell_type": "markdown",
   "metadata": {},
   "source": [
    "***"
   ]
  }
 ],
 "metadata": {
  "kernelspec": {
   "display_name": "Python 3",
   "language": "python",
   "name": "python3"
  },
  "language_info": {
   "codemirror_mode": {
    "name": "ipython",
    "version": 3
   },
   "file_extension": ".py",
   "mimetype": "text/x-python",
   "name": "python",
   "nbconvert_exporter": "python",
   "pygments_lexer": "ipython3",
   "version": "3.7.9"
  }
 },
 "nbformat": 4,
 "nbformat_minor": 4
}
