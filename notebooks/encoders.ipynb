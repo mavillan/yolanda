{
 "cells": [
  {
   "cell_type": "markdown",
   "metadata": {},
   "source": [
    "***\n",
    "## notebook config"
   ]
  },
  {
   "cell_type": "code",
   "execution_count": 1,
   "metadata": {},
   "outputs": [],
   "source": [
    "ON_COLAB = False"
   ]
  },
  {
   "cell_type": "code",
   "execution_count": 2,
   "metadata": {},
   "outputs": [],
   "source": [
    "if ON_COLAB:\n",
    "    from google.colab import drive\n",
    "    from google.colab import files\n",
    "    drive.mount('/content/drive', force_remount=True)\n",
    "    \n",
    "    !pip install --upgrade kaggle > /dev/null 2>&1\n",
    "    !mkdir -p ~/.kaggle/ && cp /content/drive/MyDrive/kaggle/kaggle.json ~/.kaggle/ && chmod 600 ~/.kaggle/kaggle.json\n",
    "    \n",
    "    !free -h\n",
    "    \n",
    "    !pip install --upgrade category_encoders > /dev/null 2>&1\n",
    "    !pip install --upgrade tsforest > /dev/null 2>&1\n",
    "    !pip install --upgrade lightgbm > /dev/null 2>&1\n",
    "    !pip install --upgrade optuna > /dev/null 2>&1"
   ]
  },
  {
   "cell_type": "code",
   "execution_count": 3,
   "metadata": {},
   "outputs": [
    {
     "name": "stdout",
     "output_type": "stream",
     "text": [
      "input_path: ../data\n",
      "subs_path: ../subs\n",
      "results_path: ../results\n"
     ]
    }
   ],
   "source": [
    "if ON_COLAB:\n",
    "    !kaggle datasets download -d mavillan/meli-2021 --force --unzip\n",
    "    !ls -halt\n",
    "    input_path = \"./\"\n",
    "    print(\"input_path:\", input_path)\n",
    "    subs_path = \"/content/drive/MyDrive/meli2021/subs\"\n",
    "    print(\"subs_path:\", subs_path)\n",
    "    results_path = \"/content/drive/MyDrive/meli2021/results\"\n",
    "    print(\"results_path:\", results_path)\n",
    "else:\n",
    "    input_path = \"../data\"\n",
    "    print(\"input_path:\", input_path)\n",
    "    subs_path = \"../subs\"\n",
    "    print(\"subs_path:\", subs_path)\n",
    "    results_path = \"../results\"\n",
    "    print(\"results_path:\", results_path)"
   ]
  },
  {
   "cell_type": "markdown",
   "metadata": {},
   "source": [
    "***"
   ]
  },
  {
   "cell_type": "code",
   "execution_count": 4,
   "metadata": {},
   "outputs": [],
   "source": [
    "import numpy as np\n",
    "import pandas as pd\n",
    "import category_encoders as ce\n",
    "import yaml\n",
    "import dill\n",
    "\n",
    "np.random.seed(2)"
   ]
  },
  {
   "cell_type": "markdown",
   "metadata": {},
   "source": [
    "***\n",
    "## data loading"
   ]
  },
  {
   "cell_type": "code",
   "execution_count": 5,
   "metadata": {},
   "outputs": [
    {
     "name": "stdout",
     "output_type": "stream",
     "text": [
      "len(skus_assess_m1): 482635\n",
      "len(skus_assess_m2): 272130\n"
     ]
    }
   ],
   "source": [
    "with open(f\"../data/skus_assess_m1.yaml\", \"r\") as file:\n",
    "    skus_assess_m1 = yaml.load(file, Loader=yaml.FullLoader)\n",
    "    print(f\"len(skus_assess_m1): {len(skus_assess_m1)}\")\n",
    "    file.close()\n",
    "\n",
    "with open(f\"../data/skus_assess_m2.yaml\", \"r\") as file:\n",
    "    skus_assess_m2 = yaml.load(file, Loader=yaml.FullLoader)\n",
    "    print(f\"len(skus_assess_m2): {len(skus_assess_m2)}\")\n",
    "    file.close()"
   ]
  },
  {
   "cell_type": "code",
   "execution_count": 6,
   "metadata": {},
   "outputs": [],
   "source": [
    "dataset = (\n",
    "    pd.read_parquet(f\"{input_path}/train-m1.parquet\")\n",
    "    .query(\"sku in @skus_assess_m1\")\n",
    "    .rename({\"date\":\"ds\", \"sold_quantity\":\"y\"}, axis=1,)\n",
    "    .sort_values([\"sku\",\"ds\"])\n",
    "    .reset_index(drop=True)\n",
    ")"
   ]
  },
  {
   "cell_type": "markdown",
   "metadata": {},
   "source": [
    "***\n",
    "## training encoder for stage1 model"
   ]
  },
  {
   "cell_type": "code",
   "execution_count": 7,
   "metadata": {},
   "outputs": [],
   "source": [
    "limit_date = \"2021-03-01\"\n",
    "\n",
    "train_stg1 = (\n",
    "    dataset\n",
    "    .query(\"ds <= @limit_date\")\n",
    "    .query(\"minutes_active > 0\")\n",
    "    .reset_index(drop=True)\n",
    ")"
   ]
  },
  {
   "cell_type": "code",
   "execution_count": 8,
   "metadata": {},
   "outputs": [
    {
     "data": {
      "text/plain": [
       "28.372845"
      ]
     },
     "execution_count": 8,
     "metadata": {},
     "output_type": "execute_result"
    }
   ],
   "source": [
    "len(dataset) / 1e6"
   ]
  },
  {
   "cell_type": "code",
   "execution_count": 9,
   "metadata": {},
   "outputs": [
    {
     "data": {
      "text/plain": [
       "11.357927"
      ]
     },
     "execution_count": 9,
     "metadata": {},
     "output_type": "execute_result"
    }
   ],
   "source": [
    "len(train_stg1) / 1e6"
   ]
  },
  {
   "cell_type": "code",
   "execution_count": 10,
   "metadata": {},
   "outputs": [
    {
     "data": {
      "text/plain": [
       "482635"
      ]
     },
     "execution_count": 10,
     "metadata": {},
     "output_type": "execute_result"
    }
   ],
   "source": [
    "train_stg1.sku.nunique()"
   ]
  },
  {
   "cell_type": "code",
   "execution_count": 11,
   "metadata": {},
   "outputs": [
    {
     "data": {
      "text/plain": [
       "sku                  482635\n",
       "item_domain_id         8132\n",
       "item_id              381376\n",
       "product_id            11182\n",
       "product_family_id     23713\n",
       "dtype: int64"
      ]
     },
     "metadata": {},
     "output_type": "display_data"
    },
    {
     "data": {
      "text/plain": [
       "sku                  0.000000\n",
       "item_domain_id       0.000000\n",
       "item_id              0.000000\n",
       "product_id           0.967004\n",
       "product_family_id    0.887731\n",
       "dtype: float64"
      ]
     },
     "metadata": {},
     "output_type": "display_data"
    }
   ],
   "source": [
    "categ_cols = [\"sku\",\"item_domain_id\",\"item_id\",\"product_id\",\"product_family_id\"]\n",
    "\n",
    "for col in categ_cols:\n",
    "    train_stg1[col] = train_stg1[col].astype(\"category\")\n",
    "    \n",
    "display(train_stg1[categ_cols].nunique())\n",
    "display(train_stg1[categ_cols].isna().sum(axis=0) / len(train_stg1))"
   ]
  },
  {
   "cell_type": "code",
   "execution_count": 12,
   "metadata": {},
   "outputs": [
    {
     "name": "stderr",
     "output_type": "stream",
     "text": [
      "/opt/conda/lib/python3.7/site-packages/category_encoders/utils.py:21: FutureWarning: is_categorical is deprecated and will be removed in a future version.  Use is_categorical_dtype instead\n",
      "  elif pd.api.types.is_categorical(cols):\n"
     ]
    },
    {
     "data": {
      "text/plain": [
       "GLMMEncoder(cols=['sku', 'item_domain_id', 'item_id', 'product_id',\n",
       "                  'product_family_id'],\n",
       "            verbose=True)"
      ]
     },
     "execution_count": 12,
     "metadata": {},
     "output_type": "execute_result"
    }
   ],
   "source": [
    "encoder = ce.GLMMEncoder(verbose=True, cols=categ_cols)\n",
    "encoder.fit(train_stg1[categ_cols], train_stg1[\"y\"])"
   ]
  },
  {
   "cell_type": "code",
   "execution_count": 13,
   "metadata": {},
   "outputs": [
    {
     "data": {
      "text/html": [
       "<div>\n",
       "<style scoped>\n",
       "    .dataframe tbody tr th:only-of-type {\n",
       "        vertical-align: middle;\n",
       "    }\n",
       "\n",
       "    .dataframe tbody tr th {\n",
       "        vertical-align: top;\n",
       "    }\n",
       "\n",
       "    .dataframe thead th {\n",
       "        text-align: right;\n",
       "    }\n",
       "</style>\n",
       "<table border=\"1\" class=\"dataframe\">\n",
       "  <thead>\n",
       "    <tr style=\"text-align: right;\">\n",
       "      <th></th>\n",
       "      <th>sku</th>\n",
       "      <th>item_domain_id</th>\n",
       "      <th>item_id</th>\n",
       "      <th>product_id</th>\n",
       "      <th>product_family_id</th>\n",
       "    </tr>\n",
       "  </thead>\n",
       "  <tbody>\n",
       "    <tr>\n",
       "      <th>0</th>\n",
       "      <td>-0.588666</td>\n",
       "      <td>-0.305412</td>\n",
       "      <td>-0.990623</td>\n",
       "      <td>-1.258883</td>\n",
       "      <td>-0.446041</td>\n",
       "    </tr>\n",
       "    <tr>\n",
       "      <th>1</th>\n",
       "      <td>-0.588666</td>\n",
       "      <td>-0.305412</td>\n",
       "      <td>-0.990623</td>\n",
       "      <td>-1.258883</td>\n",
       "      <td>-0.446041</td>\n",
       "    </tr>\n",
       "    <tr>\n",
       "      <th>2</th>\n",
       "      <td>-0.588666</td>\n",
       "      <td>-0.305412</td>\n",
       "      <td>-0.990623</td>\n",
       "      <td>-1.258883</td>\n",
       "      <td>-0.446041</td>\n",
       "    </tr>\n",
       "    <tr>\n",
       "      <th>3</th>\n",
       "      <td>-0.588666</td>\n",
       "      <td>-0.305412</td>\n",
       "      <td>-0.990623</td>\n",
       "      <td>-1.258883</td>\n",
       "      <td>-0.446041</td>\n",
       "    </tr>\n",
       "    <tr>\n",
       "      <th>4</th>\n",
       "      <td>-0.588666</td>\n",
       "      <td>-0.305412</td>\n",
       "      <td>-0.990623</td>\n",
       "      <td>-1.258883</td>\n",
       "      <td>-0.446041</td>\n",
       "    </tr>\n",
       "    <tr>\n",
       "      <th>...</th>\n",
       "      <td>...</td>\n",
       "      <td>...</td>\n",
       "      <td>...</td>\n",
       "      <td>...</td>\n",
       "      <td>...</td>\n",
       "    </tr>\n",
       "    <tr>\n",
       "      <th>11357922</th>\n",
       "      <td>0.943782</td>\n",
       "      <td>28.868654</td>\n",
       "      <td>0.118177</td>\n",
       "      <td>-1.258883</td>\n",
       "      <td>-0.446041</td>\n",
       "    </tr>\n",
       "    <tr>\n",
       "      <th>11357923</th>\n",
       "      <td>0.943782</td>\n",
       "      <td>28.868654</td>\n",
       "      <td>0.118177</td>\n",
       "      <td>-1.258883</td>\n",
       "      <td>-0.446041</td>\n",
       "    </tr>\n",
       "    <tr>\n",
       "      <th>11357924</th>\n",
       "      <td>0.943782</td>\n",
       "      <td>28.868654</td>\n",
       "      <td>0.118177</td>\n",
       "      <td>-1.258883</td>\n",
       "      <td>-0.446041</td>\n",
       "    </tr>\n",
       "    <tr>\n",
       "      <th>11357925</th>\n",
       "      <td>0.943782</td>\n",
       "      <td>28.868654</td>\n",
       "      <td>0.118177</td>\n",
       "      <td>-1.258883</td>\n",
       "      <td>-0.446041</td>\n",
       "    </tr>\n",
       "    <tr>\n",
       "      <th>11357926</th>\n",
       "      <td>0.943782</td>\n",
       "      <td>28.868654</td>\n",
       "      <td>0.118177</td>\n",
       "      <td>-1.258883</td>\n",
       "      <td>-0.446041</td>\n",
       "    </tr>\n",
       "  </tbody>\n",
       "</table>\n",
       "<p>11357927 rows × 5 columns</p>\n",
       "</div>"
      ],
      "text/plain": [
       "               sku  item_domain_id   item_id  product_id  product_family_id\n",
       "0        -0.588666       -0.305412 -0.990623   -1.258883          -0.446041\n",
       "1        -0.588666       -0.305412 -0.990623   -1.258883          -0.446041\n",
       "2        -0.588666       -0.305412 -0.990623   -1.258883          -0.446041\n",
       "3        -0.588666       -0.305412 -0.990623   -1.258883          -0.446041\n",
       "4        -0.588666       -0.305412 -0.990623   -1.258883          -0.446041\n",
       "...            ...             ...       ...         ...                ...\n",
       "11357922  0.943782       28.868654  0.118177   -1.258883          -0.446041\n",
       "11357923  0.943782       28.868654  0.118177   -1.258883          -0.446041\n",
       "11357924  0.943782       28.868654  0.118177   -1.258883          -0.446041\n",
       "11357925  0.943782       28.868654  0.118177   -1.258883          -0.446041\n",
       "11357926  0.943782       28.868654  0.118177   -1.258883          -0.446041\n",
       "\n",
       "[11357927 rows x 5 columns]"
      ]
     },
     "execution_count": 13,
     "metadata": {},
     "output_type": "execute_result"
    }
   ],
   "source": [
    "encoder.transform(train_stg1[categ_cols])"
   ]
  },
  {
   "cell_type": "code",
   "execution_count": 15,
   "metadata": {},
   "outputs": [],
   "source": [
    "with open(\"../encoders/encoder-stg1.dill\", \"wb\") as file:\n",
    "    dill.dump(encoder, file)\n",
    "    file.close()"
   ]
  },
  {
   "cell_type": "markdown",
   "metadata": {},
   "source": [
    "***\n",
    "## training encoder for stage2 model"
   ]
  },
  {
   "cell_type": "code",
   "execution_count": 17,
   "metadata": {},
   "outputs": [],
   "source": [
    "train_stg2 = (\n",
    "    dataset\n",
    "    .query(\"minutes_active > 0\")\n",
    "    .reset_index(drop=True)\n",
    ")"
   ]
  },
  {
   "cell_type": "code",
   "execution_count": 22,
   "metadata": {},
   "outputs": [
    {
     "data": {
      "text/plain": [
       "22.750334"
      ]
     },
     "execution_count": 22,
     "metadata": {},
     "output_type": "execute_result"
    }
   ],
   "source": [
    "len(train_stg2) / 1e6"
   ]
  },
  {
   "cell_type": "code",
   "execution_count": 23,
   "metadata": {},
   "outputs": [
    {
     "data": {
      "text/plain": [
       "482635"
      ]
     },
     "execution_count": 23,
     "metadata": {},
     "output_type": "execute_result"
    }
   ],
   "source": [
    "train_stg2.sku.nunique()"
   ]
  },
  {
   "cell_type": "code",
   "execution_count": 24,
   "metadata": {},
   "outputs": [
    {
     "data": {
      "text/plain": [
       "sku                  482635\n",
       "item_domain_id         8132\n",
       "item_id              381376\n",
       "product_id            11182\n",
       "product_family_id     23713\n",
       "dtype: int64"
      ]
     },
     "metadata": {},
     "output_type": "display_data"
    },
    {
     "data": {
      "text/plain": [
       "sku                  0.000000\n",
       "item_domain_id       0.000000\n",
       "item_id              0.000000\n",
       "product_id           0.967099\n",
       "product_family_id    0.888052\n",
       "dtype: float64"
      ]
     },
     "metadata": {},
     "output_type": "display_data"
    }
   ],
   "source": [
    "categ_cols = [\"sku\",\"item_domain_id\",\"item_id\",\"product_id\",\"product_family_id\"]\n",
    "\n",
    "for col in categ_cols:\n",
    "    train_stg2[col] = train_stg2[col].astype(\"category\")+`´ç¡\n",
    "    \n",
    "display(train_stg2[categ_cols].nunique())\n",
    "display(train_stg2[categ_cols].isna().sum(axis=0) / len(train_stg2))"
   ]
  },
  {
   "cell_type": "code",
   "execution_count": 25,
   "metadata": {},
   "outputs": [
    {
     "name": "stderr",
     "output_type": "stream",
     "text": [
      "/opt/conda/lib/python3.7/site-packages/category_encoders/utils.py:21: FutureWarning: is_categorical is deprecated and will be removed in a future version.  Use is_categorical_dtype instead\n",
      "  elif pd.api.types.is_categorical(cols):\n"
     ]
    },
    {
     "data": {
      "text/plain": [
       "GLMMEncoder(cols=['sku', 'item_domain_id', 'item_id', 'product_id',\n",
       "                  'product_family_id'],\n",
       "            verbose=True)"
      ]
     },
     "execution_count": 25,
     "metadata": {},
     "output_type": "execute_result"
    }
   ],
   "source": [
    "encoder = ce.GLMMEncoder(verbose=True, cols=categ_cols)\n",
    "encoder.fit(train_stg2[categ_cols], train_stg2[\"y\"])"
   ]
  },
  {
   "cell_type": "code",
   "execution_count": 26,
   "metadata": {},
   "outputs": [
    {
     "data": {
      "text/html": [
       "<div>\n",
       "<style scoped>\n",
       "    .dataframe tbody tr th:only-of-type {\n",
       "        vertical-align: middle;\n",
       "    }\n",
       "\n",
       "    .dataframe tbody tr th {\n",
       "        vertical-align: top;\n",
       "    }\n",
       "\n",
       "    .dataframe thead th {\n",
       "        text-align: right;\n",
       "    }\n",
       "</style>\n",
       "<table border=\"1\" class=\"dataframe\">\n",
       "  <thead>\n",
       "    <tr style=\"text-align: right;\">\n",
       "      <th></th>\n",
       "      <th>sku</th>\n",
       "      <th>item_domain_id</th>\n",
       "      <th>item_id</th>\n",
       "      <th>product_id</th>\n",
       "      <th>product_family_id</th>\n",
       "    </tr>\n",
       "  </thead>\n",
       "  <tbody>\n",
       "    <tr>\n",
       "      <th>0</th>\n",
       "      <td>-0.705382</td>\n",
       "      <td>-0.427804</td>\n",
       "      <td>-1.058242</td>\n",
       "      <td>-1.4106</td>\n",
       "      <td>-0.462452</td>\n",
       "    </tr>\n",
       "    <tr>\n",
       "      <th>1</th>\n",
       "      <td>-0.705382</td>\n",
       "      <td>-0.427804</td>\n",
       "      <td>-1.058242</td>\n",
       "      <td>-1.4106</td>\n",
       "      <td>-0.462452</td>\n",
       "    </tr>\n",
       "    <tr>\n",
       "      <th>2</th>\n",
       "      <td>-0.705382</td>\n",
       "      <td>-0.427804</td>\n",
       "      <td>-1.058242</td>\n",
       "      <td>-1.4106</td>\n",
       "      <td>-0.462452</td>\n",
       "    </tr>\n",
       "    <tr>\n",
       "      <th>3</th>\n",
       "      <td>-0.705382</td>\n",
       "      <td>-0.427804</td>\n",
       "      <td>-1.058242</td>\n",
       "      <td>-1.4106</td>\n",
       "      <td>-0.462452</td>\n",
       "    </tr>\n",
       "    <tr>\n",
       "      <th>4</th>\n",
       "      <td>-0.705382</td>\n",
       "      <td>-0.427804</td>\n",
       "      <td>-1.058242</td>\n",
       "      <td>-1.4106</td>\n",
       "      <td>-0.462452</td>\n",
       "    </tr>\n",
       "    <tr>\n",
       "      <th>...</th>\n",
       "      <td>...</td>\n",
       "      <td>...</td>\n",
       "      <td>...</td>\n",
       "      <td>...</td>\n",
       "      <td>...</td>\n",
       "    </tr>\n",
       "    <tr>\n",
       "      <th>22750329</th>\n",
       "      <td>0.559563</td>\n",
       "      <td>25.306614</td>\n",
       "      <td>0.492462</td>\n",
       "      <td>-1.4106</td>\n",
       "      <td>-0.462452</td>\n",
       "    </tr>\n",
       "    <tr>\n",
       "      <th>22750330</th>\n",
       "      <td>0.559563</td>\n",
       "      <td>25.306614</td>\n",
       "      <td>0.492462</td>\n",
       "      <td>-1.4106</td>\n",
       "      <td>-0.462452</td>\n",
       "    </tr>\n",
       "    <tr>\n",
       "      <th>22750331</th>\n",
       "      <td>0.559563</td>\n",
       "      <td>25.306614</td>\n",
       "      <td>0.492462</td>\n",
       "      <td>-1.4106</td>\n",
       "      <td>-0.462452</td>\n",
       "    </tr>\n",
       "    <tr>\n",
       "      <th>22750332</th>\n",
       "      <td>0.559563</td>\n",
       "      <td>25.306614</td>\n",
       "      <td>0.492462</td>\n",
       "      <td>-1.4106</td>\n",
       "      <td>-0.462452</td>\n",
       "    </tr>\n",
       "    <tr>\n",
       "      <th>22750333</th>\n",
       "      <td>0.559563</td>\n",
       "      <td>25.306614</td>\n",
       "      <td>0.492462</td>\n",
       "      <td>-1.4106</td>\n",
       "      <td>-0.462452</td>\n",
       "    </tr>\n",
       "  </tbody>\n",
       "</table>\n",
       "<p>22750334 rows × 5 columns</p>\n",
       "</div>"
      ],
      "text/plain": [
       "               sku  item_domain_id   item_id  product_id  product_family_id\n",
       "0        -0.705382       -0.427804 -1.058242     -1.4106          -0.462452\n",
       "1        -0.705382       -0.427804 -1.058242     -1.4106          -0.462452\n",
       "2        -0.705382       -0.427804 -1.058242     -1.4106          -0.462452\n",
       "3        -0.705382       -0.427804 -1.058242     -1.4106          -0.462452\n",
       "4        -0.705382       -0.427804 -1.058242     -1.4106          -0.462452\n",
       "...            ...             ...       ...         ...                ...\n",
       "22750329  0.559563       25.306614  0.492462     -1.4106          -0.462452\n",
       "22750330  0.559563       25.306614  0.492462     -1.4106          -0.462452\n",
       "22750331  0.559563       25.306614  0.492462     -1.4106          -0.462452\n",
       "22750332  0.559563       25.306614  0.492462     -1.4106          -0.462452\n",
       "22750333  0.559563       25.306614  0.492462     -1.4106          -0.462452\n",
       "\n",
       "[22750334 rows x 5 columns]"
      ]
     },
     "execution_count": 26,
     "metadata": {},
     "output_type": "execute_result"
    }
   ],
   "source": [
    "encoder.transform(train_stg2[categ_cols])"
   ]
  },
  {
   "cell_type": "code",
   "execution_count": 27,
   "metadata": {},
   "outputs": [],
   "source": [
    "with open(\"../encoders/encoder-stg2.dill\", \"wb\") as file:\n",
    "    dill.dump(encoder, file)\n",
    "    file.close()"
   ]
  },
  {
   "cell_type": "markdown",
   "metadata": {},
   "source": [
    "***"
   ]
  }
 ],
 "metadata": {
  "kernelspec": {
   "display_name": "Python 3",
   "language": "python",
   "name": "python3"
  },
  "language_info": {
   "codemirror_mode": {
    "name": "ipython",
    "version": 3
   },
   "file_extension": ".py",
   "mimetype": "text/x-python",
   "name": "python",
   "nbconvert_exporter": "python",
   "pygments_lexer": "ipython3",
   "version": "3.7.9"
  }
 },
 "nbformat": 4,
 "nbformat_minor": 4
}
