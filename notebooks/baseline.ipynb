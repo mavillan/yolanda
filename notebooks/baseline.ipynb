{
 "cells": [
  {
   "cell_type": "code",
   "execution_count": 1,
   "id": "021599ff",
   "metadata": {},
   "outputs": [],
   "source": [
    "import numpy as np\n",
    "import pandas as pd\n",
    "import multiprocessing as mp\n",
    "from itertools import chain, islice\n",
    "from scipy.stats import norm\n",
    "from datetime import timedelta\n",
    "from glob import glob\n",
    "from tqdm import tqdm"
   ]
  },
  {
   "cell_type": "markdown",
   "id": "f37131f3",
   "metadata": {},
   "source": [
    "***\n",
    "## Data loading"
   ]
  },
  {
   "cell_type": "code",
   "execution_count": 2,
   "id": "eea6c367",
   "metadata": {},
   "outputs": [],
   "source": [
    "split_date = \"2021-03-01\""
   ]
  },
  {
   "cell_type": "code",
   "execution_count": 3,
   "id": "2b0abf98",
   "metadata": {},
   "outputs": [],
   "source": [
    "skus_for_assess = pd.read_csv(\"../data/skus_for_assess.csv\")\n",
    "\n",
    "data = (\n",
    "    pd.read_parquet(\"../data/train.parquet\")\n",
    "    .query(\"sku in @skus_for_assess.sku\")\n",
    "    .reset_index(drop=True)\n",
    ")\n",
    "\n",
    "train = data.query(\"date <= @split_date\")\n",
    "valid = data.query(\"date > @split_date\")"
   ]
  },
  {
   "cell_type": "code",
   "execution_count": 4,
   "id": "54b0d60a",
   "metadata": {},
   "outputs": [
    {
     "data": {
      "text/html": [
       "<div>\n",
       "<style scoped>\n",
       "    .dataframe tbody tr th:only-of-type {\n",
       "        vertical-align: middle;\n",
       "    }\n",
       "\n",
       "    .dataframe tbody tr th {\n",
       "        vertical-align: top;\n",
       "    }\n",
       "\n",
       "    .dataframe thead th {\n",
       "        text-align: right;\n",
       "    }\n",
       "</style>\n",
       "<table border=\"1\" class=\"dataframe\">\n",
       "  <thead>\n",
       "    <tr style=\"text-align: right;\">\n",
       "      <th></th>\n",
       "      <th>sku</th>\n",
       "      <th>scale</th>\n",
       "    </tr>\n",
       "  </thead>\n",
       "  <tbody>\n",
       "    <tr>\n",
       "      <th>0</th>\n",
       "      <td>1</td>\n",
       "      <td>1.025536</td>\n",
       "    </tr>\n",
       "    <tr>\n",
       "      <th>1</th>\n",
       "      <td>3</td>\n",
       "      <td>0.508548</td>\n",
       "    </tr>\n",
       "    <tr>\n",
       "      <th>2</th>\n",
       "      <td>4</td>\n",
       "      <td>2.463527</td>\n",
       "    </tr>\n",
       "    <tr>\n",
       "      <th>3</th>\n",
       "      <td>5</td>\n",
       "      <td>0.694808</td>\n",
       "    </tr>\n",
       "    <tr>\n",
       "      <th>4</th>\n",
       "      <td>6</td>\n",
       "      <td>1.050451</td>\n",
       "    </tr>\n",
       "    <tr>\n",
       "      <th>...</th>\n",
       "      <td>...</td>\n",
       "      <td>...</td>\n",
       "    </tr>\n",
       "    <tr>\n",
       "      <th>496792</th>\n",
       "      <td>660911</td>\n",
       "      <td>0.830455</td>\n",
       "    </tr>\n",
       "    <tr>\n",
       "      <th>496793</th>\n",
       "      <td>660912</td>\n",
       "      <td>1.033908</td>\n",
       "    </tr>\n",
       "    <tr>\n",
       "      <th>496794</th>\n",
       "      <td>660913</td>\n",
       "      <td>0.587220</td>\n",
       "    </tr>\n",
       "    <tr>\n",
       "      <th>496795</th>\n",
       "      <td>660914</td>\n",
       "      <td>1.203443</td>\n",
       "    </tr>\n",
       "    <tr>\n",
       "      <th>496796</th>\n",
       "      <td>660915</td>\n",
       "      <td>1.712026</td>\n",
       "    </tr>\n",
       "  </tbody>\n",
       "</table>\n",
       "<p>496797 rows × 2 columns</p>\n",
       "</div>"
      ],
      "text/plain": [
       "           sku     scale\n",
       "0            1  1.025536\n",
       "1            3  0.508548\n",
       "2            4  2.463527\n",
       "3            5  0.694808\n",
       "4            6  1.050451\n",
       "...        ...       ...\n",
       "496792  660911  0.830455\n",
       "496793  660912  1.033908\n",
       "496794  660913  0.587220\n",
       "496795  660914  1.203443\n",
       "496796  660915  1.712026\n",
       "\n",
       "[496797 rows x 2 columns]"
      ]
     },
     "execution_count": 4,
     "metadata": {},
     "output_type": "execute_result"
    }
   ],
   "source": [
    "scales = (\n",
    "    pd.read_csv(\"../data/scales.csv\")\n",
    "    .query(\"sku in @skus_for_assess.sku\")\n",
    "    .reset_index(drop=True)\n",
    ")\n",
    "scales"
   ]
  },
  {
   "cell_type": "markdown",
   "id": "56150a3c",
   "metadata": {},
   "source": [
    "***\n",
    "## Evaluating RMSSE"
   ]
  },
  {
   "cell_type": "code",
   "execution_count": 5,
   "id": "db4addff",
   "metadata": {},
   "outputs": [
    {
     "name": "stdout",
     "output_type": "stream",
     "text": [
      "rmsse_MLA: 0.8303933774191458\n",
      "rmsse_MLB: 0.8838208351519009\n",
      "rmsse_MLM: 0.8455103955764058\n",
      "rmsse_AVG: 0.8532415360491509\n"
     ]
    }
   ],
   "source": [
    "# mean prediction\n",
    "pred_mean = train.groupby(\"sku\")[\"sold_quantity\"].mean().reset_index(name=\"y_pred\")\n",
    "results = list()\n",
    "\n",
    "for site_id,valid_df in valid.groupby(\"site_id\"):\n",
    "\n",
    "    valid_df = valid_df[[\"date\",\"sku\",\"sold_quantity\"]].rename({\"sold_quantity\":\"y\"}, axis=1)\n",
    "    valid_df = pd.merge(valid_df, pred_mean, how=\"inner\", on=\"sku\")\n",
    "\n",
    "    valid_df[\"sq_error\"] = valid_df.eval(\"(y-y_pred)**2\")\n",
    "    mse = valid_df.groupby(\"sku\")[\"sq_error\"].mean().reset_index(name=\"mse\")\n",
    "    mrg = pd.merge(mse, scales, how=\"inner\", on=\"sku\")\n",
    "    rmsse = mrg.eval(\"sqrt(mse)/scale\").mean()\n",
    "    \n",
    "    results.append(rmsse)\n",
    "    print(f\"rmsse_{site_id}:\", rmsse)\n",
    "    \n",
    "print(\"rmsse_AVG:\", np.mean(results))"
   ]
  },
  {
   "cell_type": "code",
   "execution_count": 6,
   "id": "d9398fa0",
   "metadata": {},
   "outputs": [
    {
     "name": "stdout",
     "output_type": "stream",
     "text": [
      "rmsse_MLA: 0.8641878394708425\n",
      "rmsse_MLB: 0.9253747255806362\n",
      "rmsse_MLM: 0.8707998345665615\n",
      "rmsse_AVG: 0.8867874665393467\n"
     ]
    }
   ],
   "source": [
    "# median prediction\n",
    "pred_median = train.groupby(\"sku\")[\"sold_quantity\"].median().reset_index(name=\"y_pred\")\n",
    "results = list()\n",
    "\n",
    "for site_id,valid_df in valid.groupby(\"site_id\"):\n",
    "\n",
    "    valid_df = valid_df[[\"date\",\"sku\",\"sold_quantity\"]].rename({\"sold_quantity\":\"y\"}, axis=1)\n",
    "    valid_df = pd.merge(valid_df, pred_median, how=\"inner\", on=\"sku\")\n",
    "\n",
    "    valid_df[\"sq_error\"] = valid_df.eval(\"(y-y_pred)**2\")\n",
    "    mse = valid_df.groupby(\"sku\")[\"sq_error\"].mean().reset_index(name=\"mse\")\n",
    "    mrg = pd.merge(mse, scales, how=\"inner\", on=\"sku\")\n",
    "    rmsse = mrg.eval(\"sqrt(mse)/scale\").mean()\n",
    "    \n",
    "    results.append(rmsse)\n",
    "    print(f\"rmsse_{site_id}:\", rmsse)\n",
    "    \n",
    "print(\"rmsse_AVG:\", np.mean(results))"
   ]
  },
  {
   "cell_type": "markdown",
   "id": "5aabe14b",
   "metadata": {},
   "source": [
    "***\n",
    "## Evaluating RPS"
   ]
  },
  {
   "cell_type": "code",
   "execution_count": 7,
   "id": "0dabb610",
   "metadata": {},
   "outputs": [],
   "source": [
    "def ranked_probability_score(y_true, y_pred):\n",
    "    \"\"\"\n",
    "    Input\n",
    "        y_true: np.array of shape 30. \n",
    "        y_pred: np.array of shape 30. \n",
    "    \"\"\"\n",
    "    return ((y_true.cumsum(axis=1) - y_pred.cumsum(axis=1))**2).sum(axis=1).mean()\n",
    "\n",
    "def scoring_function(y_true, y_pred):\n",
    "    \"\"\"\n",
    "    Input\n",
    "        y_true: List of Ints of shape Nx1. Contain the target_stock\n",
    "        y_pred: List of float of shape Nx30. Contain the prob for each day\n",
    "    \"\"\"\n",
    "    y_true_one_hot = np.zeros_like(y_pred, dtype=np.float64)\n",
    "    y_true_one_hot[range(len(y_true)), y_true-1] = 1\n",
    "    return ranked_probability_score(y_true_one_hot, y_pred)"
   ]
  },
  {
   "cell_type": "code",
   "execution_count": 8,
   "id": "474817c9",
   "metadata": {},
   "outputs": [],
   "source": [
    "class LinearModel():\n",
    "    \"\"\"\n",
    "    Linear model based on sold_quantity\n",
    "    \"\"\"\n",
    "    def __init__(self, \n",
    "                 last_n_days=None, \n",
    "                 normalize=True):\n",
    "        \n",
    "        self.normalize = normalize\n",
    "        self.last_n_days = last_n_days\n",
    "        self.border_cases = 0\n",
    "        self.normal_cases = 0\n",
    "        \n",
    "    def fit(self, data):\n",
    "        \"\"\"\n",
    "        Store mean and std-dev for each SKU\n",
    "        \"\"\"\n",
    "        \n",
    "        if self.last_n_days != None:\n",
    "            min_training_date = str((pd.to_datetime(data.date.max())-timedelta(days=self.last_n_days)).date())\n",
    "        else:\n",
    "            min_training_date = str(data.date.min().date())\n",
    "            \n",
    "        self.parameters = (data[data.date >= min_training_date]\n",
    "                           .groupby('sku')\n",
    "                           .agg({'sold_quantity':['mean', 'std']})\n",
    "                           .sold_quantity\n",
    "                           .to_dict())\n",
    "\n",
    "        self.general_mean = data.sold_quantity.mean()\n",
    "        self.general_std = data.sold_quantity.std()\n",
    "        return self \n",
    "    \n",
    "    def calc_probs(self, norm_dist):\n",
    "        #cut probs in days\n",
    "        days = np.arange(1,31)\n",
    "        probs = norm_dist.pdf(days)\n",
    "        \n",
    "        #if prob is zero, replace with uniform\n",
    "        if np.sum(probs) == 0:\n",
    "            return np.ones(30) / 30\n",
    "\n",
    "        if self.normalize:\n",
    "            probs = probs / np.sum(probs)\n",
    "        return probs\n",
    "    \n",
    "    def predict(self, idx, stock):\n",
    "        \"\"\"\n",
    "        calculate mean and variance to stockout for a given SKU\n",
    "        \"\"\"\n",
    "        #retrieve the mean and variance for the SKU\n",
    "        if self.parameters['mean'].get(idx, 0.) != 0.:\n",
    "            mean = self.parameters['mean'][idx]\n",
    "            std = self.parameters['std'][idx]        \n",
    "            self.normal_cases += 1\n",
    "        else:\n",
    "            #to catch border cases where there is no data in train or has all 0s.\n",
    "            mean = self.general_mean\n",
    "            std = self.general_std    \n",
    "            self.border_cases += 1\n",
    "            \n",
    "        if std == 0. or np.isnan(std):\n",
    "            std = self.general_std\n",
    "        \n",
    "        #convert quantities into days\n",
    "        days_to_stockout = stock / mean\n",
    "        std_days = (std / mean) * days_to_stockout\n",
    "        return days_to_stockout, std_days\n",
    "    \n",
    "    def predict_proba(self, idx, stock):\n",
    "        \"\"\"\n",
    "        Calculates the 30 days probs given a SKU and a target_stock\n",
    "        \"\"\"\n",
    "        days_to_stockout, std_days = self.predict(idx, stock)\n",
    "        norm_dist = norm(days_to_stockout, std_days)\n",
    "        return self.calc_probs(norm_dist)\n",
    "    \n",
    "    def predict_batch(self, X, proba=True):\n",
    "        \"\"\" \n",
    "        Predict probs for many SKUs \n",
    "        Input:\n",
    "            X: List of Dicts with keys sku and target_stock\n",
    "        \"\"\"\n",
    "        result = []\n",
    "        for x in X:\n",
    "            idx = x['sku']\n",
    "            stock = x['target_stock']\n",
    "            if proba:\n",
    "                result.append((idx, self.predict_proba(idx, stock)))\n",
    "            else:\n",
    "                result.append((idx, self.predict(idx, stock)))\n",
    "        return result"
   ]
  },
  {
   "cell_type": "code",
   "execution_count": 9,
   "id": "0c7d9b60",
   "metadata": {},
   "outputs": [
    {
     "name": "stdout",
     "output_type": "stream",
     "text": [
      "CPU times: user 4.94 s, sys: 1 s, total: 5.94 s\n",
      "Wall time: 6.27 s\n"
     ]
    },
    {
     "data": {
      "text/plain": [
       "<__main__.LinearModel at 0x7ffad31a6940>"
      ]
     },
     "execution_count": 9,
     "metadata": {},
     "output_type": "execute_result"
    }
   ],
   "source": [
    "%%time\n",
    "model = LinearModel(last_n_days=14, normalize=True)\n",
    "model.fit(train)"
   ]
  },
  {
   "cell_type": "code",
   "execution_count": 10,
   "id": "87796bc6",
   "metadata": {},
   "outputs": [
    {
     "name": "stderr",
     "output_type": "stream",
     "text": [
      "100%|██████████| 496797/496797 [06:29<00:00, 1274.92it/s]\n"
     ]
    },
    {
     "name": "stdout",
     "output_type": "stream",
     "text": [
      "{'file': 'validation_seed19', 'rps': 4.416190527757133}\n"
     ]
    },
    {
     "name": "stderr",
     "output_type": "stream",
     "text": [
      "100%|██████████| 496797/496797 [07:07<00:00, 1163.38it/s]\n"
     ]
    },
    {
     "name": "stdout",
     "output_type": "stream",
     "text": [
      "{'file': 'validation_seed23', 'rps': 4.418363992930868}\n"
     ]
    },
    {
     "name": "stderr",
     "output_type": "stream",
     "text": [
      "100%|██████████| 496797/496797 [08:15<00:00, 1002.49it/s]\n"
     ]
    },
    {
     "name": "stdout",
     "output_type": "stream",
     "text": [
      "{'file': 'validation_seed3', 'rps': 4.416243718459589}\n"
     ]
    },
    {
     "name": "stderr",
     "output_type": "stream",
     "text": [
      "100%|██████████| 496797/496797 [08:22<00:00, 988.86it/s] \n"
     ]
    },
    {
     "name": "stdout",
     "output_type": "stream",
     "text": [
      "{'file': 'validation_seed2', 'rps': 4.417171404989827}\n"
     ]
    },
    {
     "name": "stderr",
     "output_type": "stream",
     "text": [
      "100%|██████████| 496797/496797 [07:53<00:00, 1049.82it/s]\n"
     ]
    },
    {
     "name": "stdout",
     "output_type": "stream",
     "text": [
      "{'file': 'validation_seed7', 'rps': 4.414662467935239}\n"
     ]
    },
    {
     "name": "stderr",
     "output_type": "stream",
     "text": [
      "100%|██████████| 496797/496797 [08:39<00:00, 956.58it/s] \n"
     ]
    },
    {
     "name": "stdout",
     "output_type": "stream",
     "text": [
      "{'file': 'validation_seed5', 'rps': 4.4149357589424945}\n"
     ]
    },
    {
     "name": "stderr",
     "output_type": "stream",
     "text": [
      "100%|██████████| 496797/496797 [08:19<00:00, 993.82it/s] \n"
     ]
    },
    {
     "name": "stdout",
     "output_type": "stream",
     "text": [
      "{'file': 'validation_seed13', 'rps': 4.422220646699844}\n"
     ]
    },
    {
     "name": "stderr",
     "output_type": "stream",
     "text": [
      "100%|██████████| 496797/496797 [08:29<00:00, 975.44it/s] \n"
     ]
    },
    {
     "name": "stdout",
     "output_type": "stream",
     "text": [
      "{'file': 'validation_seed11', 'rps': 4.421284156042694}\n"
     ]
    },
    {
     "name": "stderr",
     "output_type": "stream",
     "text": [
      "100%|██████████| 496797/496797 [08:51<00:00, 934.32it/s] \n"
     ]
    },
    {
     "name": "stdout",
     "output_type": "stream",
     "text": [
      "{'file': 'validation_seed17', 'rps': 4.420564081923121}\n"
     ]
    }
   ],
   "source": [
    "results = list()\n",
    "\n",
    "for files in glob(\"../data/validation_seed*.csv\"):\n",
    "    valid = pd.read_csv(files)\n",
    "\n",
    "    preds_proba = list()\n",
    "    for sku,df in tqdm(valid.groupby(\"sku\")):\n",
    "        preds_proba.append(model.predict_proba(sku, df.target_stock.values[0]))\n",
    "    preds_proba = np.array(preds_proba)\n",
    "    \n",
    "    rps = scoring_function(valid.inventory_days.values, preds_proba)\n",
    "    results.append({\"file\":files.split(\"/\")[-1].split(\".\")[0], \"rps\":rps})\n",
    "    print({\"file\":files.split(\"/\")[-1].split(\".\")[0], \"rps\":rps})"
   ]
  },
  {
   "cell_type": "code",
   "execution_count": 11,
   "id": "b8a56b08",
   "metadata": {},
   "outputs": [
    {
     "data": {
      "text/html": [
       "<div>\n",
       "<style scoped>\n",
       "    .dataframe tbody tr th:only-of-type {\n",
       "        vertical-align: middle;\n",
       "    }\n",
       "\n",
       "    .dataframe tbody tr th {\n",
       "        vertical-align: top;\n",
       "    }\n",
       "\n",
       "    .dataframe thead th {\n",
       "        text-align: right;\n",
       "    }\n",
       "</style>\n",
       "<table border=\"1\" class=\"dataframe\">\n",
       "  <thead>\n",
       "    <tr style=\"text-align: right;\">\n",
       "      <th></th>\n",
       "      <th>file</th>\n",
       "      <th>rps</th>\n",
       "    </tr>\n",
       "  </thead>\n",
       "  <tbody>\n",
       "    <tr>\n",
       "      <th>0</th>\n",
       "      <td>validation_seed19</td>\n",
       "      <td>4.416191</td>\n",
       "    </tr>\n",
       "    <tr>\n",
       "      <th>1</th>\n",
       "      <td>validation_seed23</td>\n",
       "      <td>4.418364</td>\n",
       "    </tr>\n",
       "    <tr>\n",
       "      <th>2</th>\n",
       "      <td>validation_seed3</td>\n",
       "      <td>4.416244</td>\n",
       "    </tr>\n",
       "    <tr>\n",
       "      <th>3</th>\n",
       "      <td>validation_seed2</td>\n",
       "      <td>4.417171</td>\n",
       "    </tr>\n",
       "    <tr>\n",
       "      <th>4</th>\n",
       "      <td>validation_seed7</td>\n",
       "      <td>4.414662</td>\n",
       "    </tr>\n",
       "    <tr>\n",
       "      <th>5</th>\n",
       "      <td>validation_seed5</td>\n",
       "      <td>4.414936</td>\n",
       "    </tr>\n",
       "    <tr>\n",
       "      <th>6</th>\n",
       "      <td>validation_seed13</td>\n",
       "      <td>4.422221</td>\n",
       "    </tr>\n",
       "    <tr>\n",
       "      <th>7</th>\n",
       "      <td>validation_seed11</td>\n",
       "      <td>4.421284</td>\n",
       "    </tr>\n",
       "    <tr>\n",
       "      <th>8</th>\n",
       "      <td>validation_seed17</td>\n",
       "      <td>4.420564</td>\n",
       "    </tr>\n",
       "  </tbody>\n",
       "</table>\n",
       "</div>"
      ],
      "text/plain": [
       "                file       rps\n",
       "0  validation_seed19  4.416191\n",
       "1  validation_seed23  4.418364\n",
       "2   validation_seed3  4.416244\n",
       "3   validation_seed2  4.417171\n",
       "4   validation_seed7  4.414662\n",
       "5   validation_seed5  4.414936\n",
       "6  validation_seed13  4.422221\n",
       "7  validation_seed11  4.421284\n",
       "8  validation_seed17  4.420564"
      ]
     },
     "execution_count": 11,
     "metadata": {},
     "output_type": "execute_result"
    }
   ],
   "source": [
    "pd.DataFrame(results)"
   ]
  },
  {
   "cell_type": "markdown",
   "id": "6a8c3116",
   "metadata": {},
   "source": [
    "***"
   ]
  }
 ],
 "metadata": {
  "kernelspec": {
   "display_name": "Python 3",
   "language": "python",
   "name": "python3"
  },
  "language_info": {
   "codemirror_mode": {
    "name": "ipython",
    "version": 3
   },
   "file_extension": ".py",
   "mimetype": "text/x-python",
   "name": "python",
   "nbconvert_exporter": "python",
   "pygments_lexer": "ipython3",
   "version": "3.8.11"
  }
 },
 "nbformat": 4,
 "nbformat_minor": 5
}
